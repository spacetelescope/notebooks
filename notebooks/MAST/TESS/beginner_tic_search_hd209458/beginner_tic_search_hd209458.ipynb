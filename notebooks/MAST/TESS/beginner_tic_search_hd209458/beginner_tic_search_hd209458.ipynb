{
 "cells": [
  {
   "cell_type": "markdown",
   "metadata": {},
   "source": [
    "<a id=\"title_ID\"></a>\n",
    "# Beginner: Search The TESS Input Catalog Centered On HD 209458.\n",
    "\n",
    "This notebook tutorial demonstrates how to do a cone search centered on the location of a target (in this example, the star HD 209458) in the TESS Input Catalog.  We will then select a subset of the returned targets based on their Luminosity Class values.  Finally, we will identify the TIC object that is closest on the sky to HD 209458 as a means to determine the star's TIC number.  This tutorial uses Python and the astroquery module.  Information on how to install astroquery for MAST can be found on the [Astroquery site](http://astroquery.readthedocs.io/)."
   ]
  },
  {
   "cell_type": "code",
   "execution_count": null,
   "metadata": {},
   "outputs": [],
   "source": [
    "from astroquery.mast import Catalogs\n",
    "import numpy as np"
   ]
  },
  {
   "cell_type": "markdown",
   "metadata": {},
   "source": [
    "## Setup The Search Parameters\n",
    "\n",
    "Let's start by defining the name of our target and our desired search radius in degrees."
   ]
  },
  {
   "cell_type": "code",
   "execution_count": null,
   "metadata": {},
   "outputs": [],
   "source": [
    "target_name = \"HD 209458\"\n",
    "search_radius_deg = 0.2"
   ]
  },
  {
   "cell_type": "markdown",
   "metadata": {},
   "source": [
    "# Astroquery Catalog Cone Search\n",
    "\n",
    "We will now use the Catalogs `query_object` function to do a cone search centered on HD 209458 and return the rows from the TIC catalog.  The function makes use of MAST's name resolver to convert a target name (as a string) into coordinates (Right Ascension and Declination).  Many types of ID's are possible, including any string that can be resolved by Simbad or NED, as well as any target in the Kepler Input Catalog, K2 EPIC Catalog, or the TESS Input Catalog.  The function also can accept a search radius size (specified in degrees), and it needs to know which catalog you want to query.  Catalog options are listed on [this page](https://astroquery.readthedocs.io/en/latest/mast/mast.html#catalog-queries).\n",
    "\n",
    "In the second line,  we print out the numbers of returned rows."
   ]
  },
  {
   "cell_type": "code",
   "execution_count": null,
   "metadata": {},
   "outputs": [],
   "source": [
    "# Query the TESS Input Catalog centered on HD 209458 with a 0.2 degree radius.\n",
    "catalogTIC = Catalogs.query_object(target_name, radius=search_radius_deg, catalog=\"TIC\")\n",
    "\n",
    "# Print out the number of returned rows.\n",
    "print(\"Number of TIC objects within %f deg of %s: %u\" % (search_radius_deg, target_name, len(catalogTIC)))"
   ]
  },
  {
   "cell_type": "markdown",
   "metadata": {},
   "source": [
    "## Examine The Returned Table\n",
    "\n",
    "Let's take a look at the table returned from the query.  We see the returned object is an astropy Table.  We can also examine the columns available."
   ]
  },
  {
   "cell_type": "code",
   "execution_count": null,
   "metadata": {},
   "outputs": [],
   "source": [
    "# What type of objects is the returned result?\n",
    "print(type(catalogTIC))"
   ]
  },
  {
   "cell_type": "code",
   "execution_count": null,
   "metadata": {},
   "outputs": [],
   "source": [
    "# What columns are available from the TIC?\n",
    "print(catalogTIC.columns)"
   ]
  },
  {
   "cell_type": "markdown",
   "metadata": {},
   "source": [
    "## Select Dwarf Stars Based On Luminosity Class\n",
    "\n",
    "Let's select a subset of the returned objects based on the \"lumclass\" column.  This column classifies sources in the TIC as \"giant\" or \"dwarf\".  For more information on how the columns of the TIC are populated, consult the [TESS Input Catalog paper](http://adsabs.harvard.edu/abs/2017arXiv170600495S) and the [TIC Live Release Notes](https://outerspace.stsci.edu/display/TESS/TIC+and+CTL+Data+Release+Notes+Home+Page)."
   ]
  },
  {
   "cell_type": "code",
   "execution_count": null,
   "metadata": {},
   "outputs": [],
   "source": [
    "# Identify where the luminosity class is set to \"DWARF\".\n",
    "where_dwarfs = np.where(catalogTIC['lumclass'] == 'DWARF')[0]\n",
    "\n",
    "# Let's also find out where the luminosity class is set to \"GIANT\".\n",
    "where_giants = np.where(catalogTIC['lumclass'] == 'GIANT')[0]\n",
    "\n",
    "# Let's print out the number of rows of each type within the returned objects from our search.\n",
    "print(\"Number of objects classified as 'DWARF' within %f deg of %s: %u\" %\n",
    "      (search_radius_deg, target_name, len(where_dwarfs)))\n",
    "print(\"Number of objects classified as 'GIANT' within %f deg of %s: %u\" %\n",
    "      (search_radius_deg, target_name, len(where_giants)))"
   ]
  },
  {
   "cell_type": "markdown",
   "metadata": {},
   "source": [
    "## Find The Closest TIC ID To HD 209458\n",
    "\n",
    "Let's now find the star in the TESS Input Catalog that is closest to our target. The table produced by the astroquery request is sorted by the column \"dstArcSec\" by default.  This column gives the distance in arcseconds from the requested target's position returned by the name resolver.  It should be the first row if you haven't sorted the table yet, but let's not assume that and instead find the row with the smallest \"dstArcSec\"."
   ]
  },
  {
   "cell_type": "code",
   "execution_count": null,
   "metadata": {},
   "outputs": [],
   "source": [
    "where_closest = np.argmin(catalogTIC['dstArcSec'])\n",
    "\n",
    "print(\"Closest TIC ID to %s: TIC %s, separation of %f deg. and a TESS mag. of %f\"%\n",
    "      (target_name, catalogTIC['ID'][where_closest], catalogTIC['dstArcSec'][where_closest],\n",
    "      catalogTIC['Tmag'][where_closest]))"
   ]
  },
  {
   "cell_type": "markdown",
   "metadata": {},
   "source": [
    "Looks like a good match, we know that HD 209458 is a fairly bright star, and the TIC coordinate is very close to the coordinate from the name resolver."
   ]
  },
  {
   "cell_type": "markdown",
   "metadata": {},
   "source": [
    "## About this Notebook\n",
    "\n",
    "**Author:** Scott W. Fleming, STScI Archive Scientist\n",
    "\n",
    "**Updated On:** 2018-11-27"
   ]
  },
  {
   "cell_type": "markdown",
   "metadata": {},
   "source": [
    "[Top of Page](#title_ID)\n",
    "<img style=\"float: right;\" src=\"./stsci_pri_combo_mark_horizonal_white_bkgd.png\" alt=\"stsci_pri_combo_mark_horizonal_white_bkgd\" width=\"200px\"/> "
   ]
  }
 ],
 "metadata": {
  "kernelspec": {
   "display_name": "Python 3",
   "language": "python",
   "name": "python3"
  },
  "language_info": {
   "codemirror_mode": {
    "name": "ipython",
    "version": 3
   },
   "file_extension": ".py",
   "mimetype": "text/x-python",
   "name": "python",
   "nbconvert_exporter": "python",
   "pygments_lexer": "ipython3",
   "version": "3.6.7"
  }
 },
 "nbformat": 4,
 "nbformat_minor": 2
}
