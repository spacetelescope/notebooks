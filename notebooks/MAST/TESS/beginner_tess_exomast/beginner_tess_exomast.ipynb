{
 "cells": [
  {
   "cell_type": "markdown",
   "metadata": {},
   "source": [
    "<a id=\"top_page\"></a>\n",
    "# Exoplanet Data and TESS Light Curves Using Python Requests\n",
    "\n",
    "Exo.mast provides several API tools to obtain the planet parameter information for exoplanets available via that interface. Also, when available you can use these tools to download and plot the TESS light curves.\n",
    "\n",
    "It is all done via a RESTful API, but it is not available through astroquery. We will show you how to construct the url, do the ***get*** Request and manipulate the resulting information.\n",
    "\n",
    "[Imports](#imports)<br>\n",
    "[Get Planet Names](#names)<br>\n",
    "[Get Planet Properties](#props)<br>\n",
    "[Get TCE Light Curve](#lightcurve)<br>\n",
    "[Get TCE Phase Folded Plot](#phased)<br>\n",
    "[Additional Resources](#additional)<br>\n",
    "[About This Notebook](#about)<br>\n"
   ]
  },
  {
   "cell_type": "markdown",
   "metadata": {},
   "source": [
    "***"
   ]
  },
  {
   "cell_type": "markdown",
   "metadata": {},
   "source": [
    "<a id=\"imports\"></a>\n",
    "## Import statements\n",
    "We need the following python packages to do the imports.\n",
    "- **numpy** for array manipulation\n",
    "- **requests** to make the RESTful API get requests\n",
    "- **matplotlib.pyplot** to plot\n",
    "- **pandas** to manipulate data\n",
    "- **IPython.display.display** and **IPython.display.HTML** to render the plot delivered by the API\n",
    "\n",
    "We also specify two base URLs that we use repeatedly for these requests. The planet url is used to query the planet table.  The Data Validation url is used to query the Data Validation database which holds the header and light curves that are contained in the Data Validation time series files. There is one entry per TCE. TCEs are events (they have a period and an epoch) found in the 2-min cadence data by the TESS Ames Pipeline.  Targets with TCEs have this type of time series which have been flattened and can be easily folded at the period of the reported transit. "
   ]
  },
  {
   "cell_type": "code",
   "execution_count": null,
   "metadata": {},
   "outputs": [],
   "source": [
    "import numpy as np\n",
    "import requests\n",
    "import matplotlib.pyplot as plt\n",
    "import pandas as p\n",
    "from IPython.display import display, HTML\n",
    "\n",
    "%matplotlib inline\n",
    "\n",
    "planeturl = \"https://exo.mast.stsci.edu/api/v0.1/exoplanets/\"\n",
    "dvurl = \"https://exo.mast.stsci.edu/api/v0.1/dvdata/tess/\"\n",
    "header={}\n"
   ]
  },
  {
   "cell_type": "markdown",
   "metadata": {},
   "source": [
    "<a id=\"names\"></a>\n",
    "## Query Planet Table for WASP-18b\n",
    "Get all of the known identifiers for WASP-18 b.  This query takes one parameter, the name of the planet. The output is json which can be converted to a python dictionary. "
   ]
  },
  {
   "cell_type": "code",
   "execution_count": null,
   "metadata": {},
   "outputs": [],
   "source": [
    "planet_name = \"WASP-18 b\"\n",
    "\n",
    "url = planeturl + \"/identifiers/\"\n",
    "\n",
    "myparams = {\"name\":planet_name}\n",
    "\n",
    "r = requests.get(url = url, params = myparams, headers = header)\n",
    "print(r.headers.get('content-type'))"
   ]
  },
  {
   "cell_type": "markdown",
   "metadata": {},
   "source": [
    "If you take a look at the resulting dictionary it includes all the planet Names. It also includes tessID and tessTCE.  These two fields will exist if there is a TCE on this TIC ID with the same period.  We feed these into a variable for later use."
   ]
  },
  {
   "cell_type": "code",
   "execution_count": null,
   "metadata": {},
   "outputs": [],
   "source": [
    "planet_names = r.json()\n",
    "ticid = planet_names['tessID']\n",
    "tce = planet_names['tessTCE']\n",
    "planet_names"
   ]
  },
  {
   "cell_type": "markdown",
   "metadata": {},
   "source": [
    "***"
   ]
  },
  {
   "cell_type": "markdown",
   "metadata": {},
   "source": [
    "<a id=\"prop\"></a>\n",
    "## Get Planet Properties\n",
    "Get the planet properties for WASP-18 b.  We hold two exoplanet tables, the composite table at NExScI and Exoplanets.org.  If the planet exists in both tables, you will get back an array of dictionaries where the first element is the NExScI's planet properties and the second is Exoplanet.org's properties."
   ]
  },
  {
   "cell_type": "code",
   "execution_count": null,
   "metadata": {},
   "outputs": [],
   "source": [
    "url = planeturl + planet_name + \"/properties/\"\n",
    "\n",
    "r = requests.get(url = url, headers = header)\n",
    "\n",
    "planet_prop = r.json()\n",
    "\n",
    "print(\"Catalog 1: \" + planet_prop[0]['catalog_name'])\n",
    "print(\"Catalog 2: \" + planet_prop[1]['catalog_name'])\n",
    "planet_prop[0].keys()"
   ]
  },
  {
   "cell_type": "code",
   "execution_count": null,
   "metadata": {},
   "outputs": [],
   "source": [
    "print(\"WASP-18 b Properties\")\n",
    "print(\"Stellar Mass %f %s\" % (planet_prop[0]['Ms'], planet_prop[0]['Ms_unit'] ) )\n",
    "print(\"Planet Mass %f %s\" % (planet_prop[0]['Mp'], planet_prop[0]['Mp_unit'] ) )\n",
    "print(\"Planet Mass Reference: %s\" % (planet_prop[0]['Mp_ref']))"
   ]
  },
  {
   "cell_type": "markdown",
   "metadata": {},
   "source": [
    "***"
   ]
  },
  {
   "cell_type": "markdown",
   "metadata": {},
   "source": [
    "<a id=\"lightcurve\"></a>\n",
    "## Get TCE  Data and Header for WASP-18 b\n",
    "\n",
    "First, we provide some background.  TESS does a search of the postage-stamp, two-minute cadence data for transit signals. For every signal it identifies with its Transit Planet Search (TPS) module, it creates something called a Threshold Crossing Event (TCE). TCEs are periodic signals that exceed a nominal signal-to-noise requirement. Some are consistent with transiting planets, others are eclipsing binaries, and others are more consistent with variable stars or noise in the data. The exported products include a data validation time series file that includes a median detrended time series as well as the time series it used to do the planet search.\n",
    "\n",
    "Here we retrieve the header and data associated with the TCE that corresponds to the ephemeris of WASP-18 b from the data validation time series files. The info request provides the header information from the primary header and the data header for the specified TCE.  Note: this can be done for any TCE, not just those associated with known planets."
   ]
  },
  {
   "cell_type": "code",
   "execution_count": null,
   "metadata": {},
   "outputs": [],
   "source": [
    "url = dvurl + str(ticid) + '/info/'\n",
    "myparams = {\"tce\" : tce}\n",
    "\n",
    "r = requests.get(url = url, params = myparams, headers = header)\n",
    "tceInfo=r.json()\n",
    "tceInfo.keys()\n",
    "tceInfo['DV Data Header'].keys()\n",
    "\n",
    "print(\"TIC: %s\" % tceInfo['DV Primary Header']['OBJECT'])\n",
    "print(\"Planet Radius: %f\" % tceInfo['DV Data Header']['PRADIUS'])"
   ]
  },
  {
   "cell_type": "markdown",
   "metadata": {},
   "source": [
    "### Plot the light curve data for WASP-18 b\n",
    "Use the table request to get the time and median detrended light curve for WASP-18 b. Notice that you can retrieve all the different types of light curves available via this API call.  Some of the more useful ones are:\n",
    "\n",
    "- LC_DETREND is the median detrended light curve. <br>\n",
    "- LC_INIT is the initial light curve used to search for the TCE. <br>\n",
    "- MODEL_INIT is a light curve of the transit model."
   ]
  },
  {
   "cell_type": "code",
   "execution_count": null,
   "metadata": {},
   "outputs": [],
   "source": [
    "# Get The data\n",
    "url = dvurl + str(ticid) + '/table/'\n",
    "myparams = {\"tce\" : tce}\n",
    "\n",
    "r = requests.get(url = url, params = myparams, headers = header)\n",
    "tce_data = r.json()"
   ]
  },
  {
   "cell_type": "code",
   "execution_count": null,
   "metadata": {},
   "outputs": [],
   "source": [
    "data = p.DataFrame.from_dict(tce_data['data'])\n",
    "data.columns"
   ]
  },
  {
   "cell_type": "code",
   "execution_count": null,
   "metadata": {},
   "outputs": [],
   "source": [
    "detrend = data['LC_DETREND']\n",
    "model = data['MODEL_INIT']\n",
    "time = data['TIME']\n",
    "\n",
    "plt.figure(figsize=(14,4))\n",
    "plt.plot(time,detrend,'.',lw=0.4)\n",
    "plt.plot(time,model,'r-',lw=0.6)\n",
    "plt.xlabel('TIME (BTJD)')\n",
    "plt.ylabel('Relative Flux')"
   ]
  },
  {
   "cell_type": "markdown",
   "metadata": {},
   "source": [
    "<a id=\"phased\"></a>\n",
    "## Request a Bokeh Phased Light Curve\n",
    "The API allows you to pull down a Bokeh plot of the phased light curve, folded and binned at the period of the identified TCE.  Bokeh provides a zoomable, pannable plot to examine. "
   ]
  },
  {
   "cell_type": "code",
   "execution_count": null,
   "metadata": {},
   "outputs": [],
   "source": [
    "url = dvurl + str(ticid) + '/phaseplot/'\n",
    "myparams = {\"tce\" : tce}\n",
    "\n",
    "r = requests.get(url = url, params = myparams, headers = header)"
   ]
  },
  {
   "cell_type": "code",
   "execution_count": null,
   "metadata": {},
   "outputs": [],
   "source": [
    "display(HTML(str(r.content.decode('utf-8'))))"
   ]
  },
  {
   "cell_type": "markdown",
   "metadata": {},
   "source": [
    "<a id=\"about_ID\"></a>\n",
    "## About this Notebook\n",
    "**Author:** Susan E. Mullally, STScI Archive Scientist\n",
    "<br>**Updated On:** 2018-12-04"
   ]
  },
  {
   "cell_type": "markdown",
   "metadata": {},
   "source": [
    "[Top of Page](#top_page)\n",
    "<img style=\"float: right;\" src=\"./stsci_pri_combo_mark_horizonal_white_bkgd.png\" alt=\"stsci_pri_combo_mark_horizonal_white_bkgd\" width=\"200px\"/> "
   ]
  },
  {
   "cell_type": "code",
   "execution_count": null,
   "metadata": {},
   "outputs": [],
   "source": []
  }
 ],
 "metadata": {
  "kernelspec": {
   "display_name": "Python 3",
   "language": "python",
   "name": "python3"
  },
  "language_info": {
   "codemirror_mode": {
    "name": "ipython",
    "version": 3
   },
   "file_extension": ".py",
   "mimetype": "text/x-python",
   "name": "python",
   "nbconvert_exporter": "python",
   "pygments_lexer": "ipython3",
   "version": "3.6.1"
  }
 },
 "nbformat": 4,
 "nbformat_minor": 2
}
