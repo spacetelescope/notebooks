{
 "cells": [
  {
   "cell_type": "markdown",
   "metadata": {},
   "source": [
    "<a id=\"top_page\"></a>\n",
    "# Exoplanet Data and TESS Light Curves Using Python Requests\n",
    "\n",
    "Exo.mast provides several API tools to obtain the planet parameter information for exoplanets available via that interface. Also, when available you can use these tools to download and plot the TESS light curves.\n",
    "\n",
    "It is all done via a RESTful API, but it is not available through astroquery. We will show you how to construct the url, do the ***get*** Request and manipulate the resulting information.\n",
    "\n",
    "[Imports](#imports)<br>\n",
    "[Get Planet Names](#names)<br>\n",
    "[Get Planet Properties](#props)<br>\n",
    "[Get TCE Light Curve](#lightcurve)<br>\n",
    "[Get TCE Phase Folded Plot](#phased)<br>\n",
    "[Additional Resources](#additional)<br>\n",
    "[About This Notebook](#about)<br>\n"
   ]
  },
  {
   "cell_type": "markdown",
   "metadata": {},
   "source": [
    "***"
   ]
  },
  {
   "cell_type": "markdown",
   "metadata": {},
   "source": [
    "<a id=\"imports\"></a>\n",
    "## Import statements\n",
    "We need the following python packages to do the imports.\n",
    "- **numpy** for array manipulation\n",
    "- **requests** to make the RESTful API get requests\n",
    "- **matplotlib.pyplot** to plot\n",
    "- **pandas** to manipulate data\n",
    "- **IPython.display.display** and **IPython.display.HTML** to render the plot delivered by the API\n",
    "\n",
    "We also specify two base URLs that we use repeatedly for these requests. The planet url is used to query the planet table.  The Data Validation url is used to query the Data Validation database which holds the header and light curves that are contained in the Data Validation time series files. There is one entry per TCE. TCEs are events (they have a period and an epoch) found in the 2-min cadence data by the TESS Ames Pipeline.  Targets with TCEs have this type of time series which have been flattened and can be easily folded at the period of the reported transit. "
   ]
  },
  {
   "cell_type": "code",
   "execution_count": 7,
   "metadata": {},
   "outputs": [],
   "source": [
    "import numpy as np\n",
    "import requests\n",
    "import matplotlib.pyplot as plt\n",
    "import pandas as p\n",
    "from IPython.display import display, HTML\n",
    "\n",
    "%matplotlib inline\n",
    "\n",
    "planeturl = \"https://exo.mast.stsci.edu/api/v0.1/exoplanets/\"\n",
    "dvurl = \"https://exo.mast.stsci.edu/api/v0.1/dvdata/tess/\"\n",
    "header={}\n",
    "\n",
    "##The FOLLOWING NEEDS TO BE REMOVED PRIOR TO GOING LIVE.\n",
    "##HEADER \n",
    "#planeturl=\"https://exo.masttest.stsci.edu/api/v0.1/exoplanets/\"\n",
    "#dvurl=\"https://exo.masttest.stsci.edu/api/v0.1/dvdata/tess/\"\n",
    "#masttoken = %env MAST_TEST_TOKEN\n",
    "#header = {'Authorization': \"token \" + masttoken}\n"
   ]
  },
  {
   "cell_type": "markdown",
   "metadata": {},
   "source": [
    "<a id=\"names\"></a>\n",
    "## Query Planet Table for WASP-18b\n",
    "Get all of the known identifiers for WASP-18 b.  This query takes one parameter, the name of the planet. The output is json which can be converted to a python dictionary. "
   ]
  },
  {
   "cell_type": "code",
   "execution_count": 8,
   "metadata": {},
   "outputs": [
    {
     "name": "stdout",
     "output_type": "stream",
     "text": [
      "application/json; charset=UTF-8\n"
     ]
    }
   ],
   "source": [
    "planet_name = \"WASP-18 b\"\n",
    "\n",
    "url = planeturl + \"/identifiers/\"\n",
    "\n",
    "myparams = {\"name\":planet_name}\n",
    "\n",
    "r = requests.get(url = url, params = myparams, headers = header)\n",
    "print(r.headers.get('content-type'))"
   ]
  },
  {
   "cell_type": "markdown",
   "metadata": {},
   "source": [
    "If you take a look at the resulting dictionary it includes all the planet Names. It also includes tessID and tessTCE.  These two fields will exist if there is a TCE on this TIC ID with the same period.  We feed these into a variable for later use."
   ]
  },
  {
   "cell_type": "code",
   "execution_count": 9,
   "metadata": {},
   "outputs": [
    {
     "data": {
      "text/plain": [
       "{'canonicalName': 'WASP-18 b',\n",
       " 'starName': 'WASP-18',\n",
       " 'ra': 24.354208334287005,\n",
       " 'dec': -45.677930555343636,\n",
       " 'planetNames': ['CPC 0 759 b',\n",
       "  'UBV 1689 b',\n",
       "  'HIP 7562 b',\n",
       "  'PPM 306061 b',\n",
       "  '2MASS J01372503-4540404 b',\n",
       "  'TYC 8040-72-1 b',\n",
       "  'WASP-18 b',\n",
       "  'SAO 215585 b',\n",
       "  'GEN# +1.00010069 b',\n",
       "  '[CS62] E1 13 b',\n",
       "  'HIC 7562 b',\n",
       "  'Gaia DR1 4955371363037611136 b',\n",
       "  'CPD-46 168 b',\n",
       "  'CD-46 449 b',\n",
       "  'GSC 08040-00072 b',\n",
       "  'HD 10069 b'],\n",
       " 'keplerID': None,\n",
       " 'keplerTCE': None,\n",
       " 'tessID': 100100827,\n",
       " 'tessTCE': 'TCE_1'}"
      ]
     },
     "execution_count": 9,
     "metadata": {},
     "output_type": "execute_result"
    }
   ],
   "source": [
    "planet_names = r.json()\n",
    "ticid = planet_names['tessID']\n",
    "tce = planet_names['tessTCE']\n",
    "planet_names"
   ]
  },
  {
   "cell_type": "markdown",
   "metadata": {},
   "source": [
    "***"
   ]
  },
  {
   "cell_type": "markdown",
   "metadata": {},
   "source": [
    "<a id=\"prop\"></a>\n",
    "## Get Planet Properties\n",
    "Get the planet properties for WASP-18 b.  We hold two exoplanet tables, the composite table at NExScI and Exoplanets.org.  If the planet exists in both tables, you will get back an array of dictionaries where the first element is the NExScI's planet properties and the second is Exoplanet.org's properties."
   ]
  },
  {
   "cell_type": "code",
   "execution_count": 10,
   "metadata": {},
   "outputs": [
    {
     "name": "stdout",
     "output_type": "stream",
     "text": [
      "Catalog 1: exoplanets.org\n",
      "Catalog 2: nexsci\n"
     ]
    },
    {
     "data": {
      "text/plain": [
       "dict_keys(['exoplanetID', 'catalog_name', 'planet_name', 'disposition', 'modified_date', 'star_name', 'component', 'Rs', 'Rs_unit', 'Rs_upper', 'Rs_lower', 'Rs_ref', 'Rs_url', 'Ms', 'Ms_unit', 'Ms_upper', 'Ms_lower', 'Ms_ref', 'Ms_url', 'Fe/H', 'Fe/H_upper', 'Fe/H_lower', 'Fe/H_ref', 'Fe/H_url', 'stellar_gravity', 'stellar_gravity_upper', 'stellar_gravity_lower', 'stellar_gravity_ref', 'stellar_gravity_url', 'Teff', 'Teff_unit', 'Teff_upper', 'Teff_lower', 'Teff_ref', 'Teff_url', 'Vmag', 'Vmag_unit', 'Vmag_upper', 'Vmag_lower', 'Vmag_ref', 'Vmag_url', 'Jmag', 'Jmag_unit', 'Jmag_upper', 'Jmag_lower', 'Jmag_ref', 'Jmag_url', 'Hmag', 'Hmag_unit', 'Hmag_upper', 'Hmag_lower', 'Hmag_ref', 'Hmag_url', 'Kmag', 'Kmag_unit', 'Kmag_upper', 'Kmag_lower', 'Kmag_ref', 'Kmag_url', 'RA', 'DEC', 'distance', 'distance_unit', 'distance_upper', 'distance_lower', 'distance_ref', 'distance_url', 'Rp', 'Rp_unit', 'Rp_upper', 'Rp_lower', 'Rp_ref', 'Rp_url', 'Mp', 'Mp_unit', 'Mp_upper', 'Mp_lower', 'Mp_ref', 'Mp_url', 'Tp', 'Tp_unit', 'Tp_upper', 'Tp_lower', 'Tp_ref', 'Tp_url', 'surface_gravity', 'surface_gravity_unit', 'surface_gravity_upper', 'surface_gravity_lower', 'surface_gravity_ref', 'surface_gravity_url', 'orbital_period', 'orbital_period_unit', 'orbital_period_upper', 'orbital_period_lower', 'orbital_period_ref', 'orbital_period_url', 'orbital_distance', 'orbital_distance_unit', 'orbital_distance_upper', 'orbital_distance_lower', 'orbital_distance_ref', 'orbital_distance_url', 'inclination', 'inclination_unit', 'inclination_upper', 'inclination_lower', 'inclination_ref', 'inclination_url', 'eccentricity', 'eccentricity_unit', 'eccentricity_upper', 'eccentricity_lower', 'eccentricity_ref', 'eccentricity_url', 'omega', 'omega_unit', 'omega_upper', 'omega_lower', 'omega_ref', 'omega_url', 'transit_duration', 'transit_duration_unit', 'transit_duration_upper', 'transit_duration_lower', 'transit_duration_ref', 'transit_duration_url', 'transit_time', 'transit_time_unit', 'transit_time_upper', 'transit_time_lower', 'transit_time_ref', 'transit_time_url', 'a/Rs', 'a/Rs_unit', 'a/Rs_upper', 'a/Rs_lower', 'a/Rs_ref', 'a/Rs_url', 'Rp/Rs', 'Rp/Rs_unit', 'Rp/Rs_upper', 'Rp/Rs_lower', 'Rp/Rs_ref', 'Rp/Rs_url', 'impact_parameter', 'impact_parameter_unit', 'impact_parameter_upper', 'impact_parameter_lower', 'impact_parameter_ref', 'impact_parameter_url', 'transit_depth', 'transit_depth_unit', 'transit_depth_upper', 'transit_depth_lower', 'transit_depth_ref', 'transit_depth_url', 'constellation', 'Tmag', 'Tmag_unit', 'Tmag_upper', 'Tmag_lower', 'Tmag_ref', 'Tmag_url', 'SNR', 'SNR_unit', 'SNR_upper', 'SNR_lower', 'SNR_ref', 'SNR_url', 'canonical_name'])"
      ]
     },
     "execution_count": 10,
     "metadata": {},
     "output_type": "execute_result"
    }
   ],
   "source": [
    "url = planeturl + planet_name + \"/properties/\"\n",
    "\n",
    "r = requests.get(url = url, headers = header)\n",
    "\n",
    "planet_prop = r.json()\n",
    "\n",
    "print(\"Catalog 1: \" + planet_prop[0]['catalog_name'])\n",
    "print(\"Catalog 2: \" + planet_prop[1]['catalog_name'])\n",
    "planet_prop[0].keys()"
   ]
  },
  {
   "cell_type": "code",
   "execution_count": 11,
   "metadata": {},
   "outputs": [
    {
     "name": "stdout",
     "output_type": "stream",
     "text": [
      "WASP-18 b Properties\n",
      "Stellar Mass 1.220000 M_sun\n",
      "Planet Mass 10.200600 M_Jupiter\n",
      "Planet Mass Reference: Calculated from MSINI and I\n"
     ]
    }
   ],
   "source": [
    "print(\"WASP-18 b Properties\")\n",
    "print(\"Stellar Mass %f %s\" % (planet_prop[0]['Ms'], planet_prop[0]['Ms_unit'] ) )\n",
    "print(\"Planet Mass %f %s\" % (planet_prop[0]['Mp'], planet_prop[0]['Mp_unit'] ) )\n",
    "print(\"Planet Mass Reference: %s\" % (planet_prop[0]['Mp_ref']))"
   ]
  },
  {
   "cell_type": "markdown",
   "metadata": {},
   "source": [
    "***"
   ]
  },
  {
   "cell_type": "markdown",
   "metadata": {},
   "source": [
    "<a id=\"lightcurve\"></a>\n",
    "## Get TCE  Data and Header for WASP-18 b\n",
    "\n",
    "First, we provide some background.  TESS does a search of the postage-stamp, two-minute cadence data for transit signals. For every signal it identifies with its Transit Planet Search (TPS) module, it creates something called a Threshold Crossing Event (TCE). TCEs are periodic signals that exceed a nominal signal-to-noise requirement. Some are consistent with transiting planets, others are eclipsing binaries, and others are more consistent with variable stars or noise in the data. The exported products include a data validation time series file that includes a median detrended time series as well as the time series it used to do the planet search.\n",
    "\n",
    "Here we retrieve the header and data associated with the TCE that corresponds to the ephemeris of WASP-18 b from the data validation time series files. The info request provides the header information from the primary header and the data header for the specified TCE.  Note: this can be done for any TCE, not just those associated with known planets."
   ]
  },
  {
   "cell_type": "code",
   "execution_count": 14,
   "metadata": {},
   "outputs": [
    {
     "name": "stdout",
     "output_type": "stream",
     "text": [
      "TIC: TIC 100100827\n",
      "Planet Radius: 12.977910\n"
     ]
    }
   ],
   "source": [
    "url = dvurl + str(ticid) + '/info/'\n",
    "myparams = {\"tce\" : tce}\n",
    "\n",
    "r = requests.get(url = url, params = myparams, headers = header)\n",
    "tceInfo=r.json()\n",
    "tceInfo.keys()\n",
    "tceInfo['DV Data Header'].keys()\n",
    "\n",
    "print(\"TIC: %s\" % tceInfo['DV Primary Header']['OBJECT'])\n",
    "print(\"Planet Radius: %f\" % tceInfo['DV Data Header']['PRADIUS'])"
   ]
  },
  {
   "cell_type": "markdown",
   "metadata": {},
   "source": [
    "### Plot the light curve data for WASP-18 b\n",
    "Use the table request to get the time and median detrended light curve for WASP-18 b. Notice that you can retrieve all the different types of light curves available via this API call.  Some of the more useful ones are:\n",
    "\n",
    "- LC_DETREND is the median detrended light curve. <br>\n",
    "- LC_INIT is the initial light curve used to search for the TCE. <br>\n",
    "- MODEL_INIT is a light curve of the transit model."
   ]
  },
  {
   "cell_type": "code",
   "execution_count": 16,
   "metadata": {},
   "outputs": [],
   "source": [
    "# Get The data\n",
    "url = dvurl + str(ticid) + '/table/'\n",
    "myparams = {\"tce\" : tce}\n",
    "\n",
    "r = requests.get(url = url, params = myparams, headers = header)\n",
    "tce_data = r.json()"
   ]
  },
  {
   "cell_type": "code",
   "execution_count": 17,
   "metadata": {},
   "outputs": [
    {
     "data": {
      "text/plain": [
       "Index(['CADENCENO', 'DATE_OBS', 'EXTNAME', 'LC_DETREND', 'LC_INIT',\n",
       "       'LC_INIT_ERR', 'LC_WHITE', 'MODEL_INIT', 'MODEL_WHITE', 'PHASE',\n",
       "       'TESSDatetime', 'TICID', 'TIME', 'TIMECORR'],\n",
       "      dtype='object')"
      ]
     },
     "execution_count": 17,
     "metadata": {},
     "output_type": "execute_result"
    }
   ],
   "source": [
    "data = p.DataFrame.from_dict(tce_data['data'])\n",
    "data.columns"
   ]
  },
  {
   "cell_type": "code",
   "execution_count": 18,
   "metadata": {},
   "outputs": [
    {
     "data": {
      "text/plain": [
       "Text(0,0.5,'Relative Flux')"
      ]
     },
     "execution_count": 18,
     "metadata": {},
     "output_type": "execute_result"
    },
    {
     "data": {
      "image/png": "[encoded data removed]",
      "text/plain": [
       "<Figure size 1008x288 with 1 Axes>"
      ]
     },
     "metadata": {
      "needs_background": "light"
     },
     "output_type": "display_data"
    }
   ],
   "source": [
    "detrend = data['LC_DETREND']\n",
    "model = data['MODEL_INIT']\n",
    "time = data['TIME']\n",
    "\n",
    "plt.figure(figsize=(14,4))\n",
    "plt.plot(time,detrend,'.',lw=0.4)\n",
    "plt.plot(time,model,'r-',lw=0.6)\n",
    "plt.xlabel('TIME (BTJD)')\n",
    "plt.ylabel('Relative Flux')"
   ]
  },
  {
   "cell_type": "markdown",
   "metadata": {},
   "source": [
    "<a id=\"phased\"></a>\n",
    "## Request a Bokeh Phased Light Curve\n",
    "The API allows you to pull down a Bokeh plot of the phased light curve, folded and binned at the period of the identified TCE.  Bokeh provides a zoomable, pannable plot to examine. "
   ]
  },
  {
   "cell_type": "code",
   "execution_count": 19,
   "metadata": {},
   "outputs": [
    {
     "ename": "NameError",
     "evalue": "name 'tces' is not defined",
     "output_type": "error",
     "traceback": [
      "\u001b[0;31m---------------------------------------------------------------------------\u001b[0m",
      "\u001b[0;31mNameError\u001b[0m                                 Traceback (most recent call last)",
      "\u001b[0;32m<ipython-input-19-53ed2fc6d85f>\u001b[0m in \u001b[0;36m<module>\u001b[0;34m\u001b[0m\n\u001b[1;32m      1\u001b[0m \u001b[0murl\u001b[0m \u001b[0;34m=\u001b[0m \u001b[0mdvurl\u001b[0m \u001b[0;34m+\u001b[0m \u001b[0mstr\u001b[0m\u001b[0;34m(\u001b[0m\u001b[0mticid\u001b[0m\u001b[0;34m)\u001b[0m \u001b[0;34m+\u001b[0m \u001b[0;34m'/phaseplot/'\u001b[0m\u001b[0;34m\u001b[0m\u001b[0m\n\u001b[0;32m----> 2\u001b[0;31m \u001b[0mmyparams\u001b[0m \u001b[0;34m=\u001b[0m \u001b[0;34m{\u001b[0m\u001b[0;34m\"tce\"\u001b[0m \u001b[0;34m:\u001b[0m \u001b[0mtces\u001b[0m\u001b[0;34m[\u001b[0m\u001b[0;34m'TCE'\u001b[0m\u001b[0;34m]\u001b[0m\u001b[0;34m[\u001b[0m\u001b[0;36m0\u001b[0m\u001b[0;34m]\u001b[0m\u001b[0;34m}\u001b[0m\u001b[0;34m\u001b[0m\u001b[0m\n\u001b[0m\u001b[1;32m      3\u001b[0m \u001b[0;34m\u001b[0m\u001b[0m\n\u001b[1;32m      4\u001b[0m \u001b[0mr\u001b[0m \u001b[0;34m=\u001b[0m \u001b[0mrequests\u001b[0m\u001b[0;34m.\u001b[0m\u001b[0mget\u001b[0m\u001b[0;34m(\u001b[0m\u001b[0murl\u001b[0m \u001b[0;34m=\u001b[0m \u001b[0murl\u001b[0m\u001b[0;34m,\u001b[0m \u001b[0mparams\u001b[0m \u001b[0;34m=\u001b[0m \u001b[0mmyparams\u001b[0m\u001b[0;34m,\u001b[0m \u001b[0mheaders\u001b[0m \u001b[0;34m=\u001b[0m \u001b[0mheader\u001b[0m\u001b[0;34m)\u001b[0m\u001b[0;34m\u001b[0m\u001b[0m\n",
      "\u001b[0;31mNameError\u001b[0m: name 'tces' is not defined"
     ]
    }
   ],
   "source": [
    "url = dvurl + str(ticid) + '/phaseplot/'\n",
    "myparams = {\"tce\" : tce}\n",
    "\n",
    "r = requests.get(url = url, params = myparams, headers = header)"
   ]
  },
  {
   "cell_type": "code",
   "execution_count": null,
   "metadata": {},
   "outputs": [],
   "source": [
    "display(HTML(str(r.content.decode('utf-8'))))"
   ]
  },
  {
   "cell_type": "markdown",
   "metadata": {},
   "source": [
    "<a id=\"about_ID\"></a>\n",
    "## About this Notebook\n",
    "**Author:** Susan E. Mullally, STScI Archive Scientist\n",
    "<br>**Updated On:** 2018-12-04"
   ]
  },
  {
   "cell_type": "markdown",
   "metadata": {},
   "source": [
    "[Top of Page](#top_page)\n",
    "<img style=\"float: right;\" src=\"./stsci_pri_combo_mark_horizonal_white_bkgd.png\" alt=\"stsci_pri_combo_mark_horizonal_white_bkgd\" width=\"200px\"/> "
   ]
  },
  {
   "cell_type": "code",
   "execution_count": null,
   "metadata": {},
   "outputs": [],
   "source": []
  }
 ],
 "metadata": {
  "kernelspec": {
   "display_name": "Python 3",
   "language": "python",
   "name": "python3"
  },
  "language_info": {
   "codemirror_mode": {
    "name": "ipython",
    "version": 3
   },
   "file_extension": ".py",
   "mimetype": "text/x-python",
   "name": "python",
   "nbconvert_exporter": "python",
   "pygments_lexer": "ipython3",
   "version": "3.6.1"
  }
 },
 "nbformat": 4,
 "nbformat_minor": 2
}
