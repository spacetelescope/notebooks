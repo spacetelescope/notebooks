{
 "cells": [
  {
   "cell_type": "markdown",
   "metadata": {},
   "source": [
    "<a id=\"title_ID\"></a>\n",
    "# Intermediate: Overlay a Cutout of the TESS FFIs with DSS imaging\n",
    "\n",
    "This notebook shows the user how to use the MAST programmatic interface to create a cutout of the small section of the TESS FFIs. For this example we will determine the RA and Dec for TIC 261105201. We then perform a query to determine which sectors contain this RA and Dec, peform a cutout of the FFI time series, open the resulting target pixel files, and plot the first image of each file with the WCS overlayed on the image. Finally we will create a light curve from the resulting image by creating a photometric aperture and summing the light in our pixels.  \n",
    "\n",
    "This tutorial shows the users how to do the following: use `astroquery.catalogs` to query the TIC, use astroquery Tesscut to determine the number of sectors that contain our target and download a FFI cutout.\n",
    "\n",
    "\n",
    "### Table of Contents \n",
    "[Get Tesscut with Astroquery](#get_tesscut) <br>\n",
    "   \n",
    "- [Download Tesscut](#download_tess)<br>\n",
    "- [Make Kepler TPF](#make_tpf)<br>\n",
    "- [Make GIF](#make_gif)<br> \n",
    "- [Find TIC objects](#find_tic)<br>\n",
    "- [Overlay TessCut and TIC](#plot_tpf_tic)<br>\n",
    "\n",
    "[Get DSS image](#get_dss) <br>\n",
    "[Overlay Tesscut and DSS](#overlay_images) <br>\n",
    "[Additional Resources](#resources) <br>\n",
    "[About this Notebook](#about_ID) "
   ]
  },
  {
   "cell_type": "markdown",
   "metadata": {},
   "source": [
    "\n",
    "## TESSCut Overlay with DSS\n",
    "This notebook is an example of accessing and displaying a TESS FFI Cutout using the MAST TessCut service built into astroquery.  It uses astroquery to retrieve the related objects from the Tess Input Catalog (TIC). We then grab the related DSS image and overlay the TIC objects and the TESSCut image altogether.   \n",
    "\n",
    "This notebook uses several base packages but requires the following additional packages:\n",
    "- astropy\n",
    "- astroquery > 0.3.9\n",
    "- k2flix\n",
    "- ipython > 7.2\n",
    "- ipywidgets > 7.4.2\n",
    "- reproject"
   ]
  },
  {
   "cell_type": "markdown",
   "metadata": {},
   "source": [
    "## Import Statements\n",
    "<a id=\"imports_ID\"></a>\n",
    "\n",
    "We start with a few import statements.\n",
    "- *os* to handle path and file operations\n",
    "- *requests* to handle HTTP get requests\n",
    "- *numpy* to handle array functions\n",
    "- *matplotlib.pyplot* for plotting the data\n",
    "- *k2flix* to load and create a Target Pixel File object and make GIFs \n",
    "- *astroquery.mast* for the Catalogs and for Tesscut.\n",
    "- *astropy.units* for using proper astronomy units\n",
    "- *astropy.io fits* for accessing FITS files\n",
    "- *astropy.wcs WCS* to interpret the World Coordinate Systems\n",
    "- *astropy.coordinates SkyCoord* for creating an on-sky coordinate\n",
    "- *astropy.visualizaton simple_norm* for normalizing data for plots\n",
    "- *reproject reproject_interp* for reprojecting images from one WCS coordinate system into another\n",
    "- *IPython.display Image* for loading a GIF image in the notebook\n",
    "- *ipywidgets* to create an interactive plot with widget slider "
   ]
  },
  {
   "cell_type": "code",
   "execution_count": null,
   "metadata": {},
   "outputs": [],
   "source": [
    "# import the packages we need\n",
    "import os\n",
    "import numpy as np\n",
    "import requests\n",
    "import k2flix\n",
    "%matplotlib inline\n",
    "import matplotlib.pyplot as plt\n",
    "\n",
    "# astroquery\n",
    "from astroquery.mast import Tesscut\n",
    "from astroquery.mast import Catalogs\n",
    "\n",
    "# Astropy\n",
    "import astropy.units as u\n",
    "from astropy.io import fits\n",
    "from astropy.wcs import WCS\n",
    "from astropy.coordinates import SkyCoord\n",
    "from astropy.visualization import simple_norm\n",
    "\n",
    "from reproject import reproject_interp\n",
    "\n",
    "from IPython.display import Image\n",
    "from ipywidgets import interact, interactive, fixed, interact_manual"
   ]
  },
  {
   "cell_type": "markdown",
   "metadata": {},
   "source": [
    "<a id=\"get_tesscut\"></a>\n",
    "## Getting a Custom TESS Cutout Target Pixel File\n",
    "The first step is to get the Target Pixel File.  We can download a custom target pixel file using the **Astroquery** python package. In particular we will use the ``download_tesscut`` method from the [Tesscut](https://astroquery.readthedocs.io/en/latest/mast/mast.html#tesscut) module.  Let's create a Tess cutout centered on RA, Dec = 66.582618, -67.806508 in a 11x11 pixel window.    \n"
   ]
  },
  {
   "cell_type": "code",
   "execution_count": null,
   "metadata": {},
   "outputs": [],
   "source": [
    "# select a target and cutout size in pixels\n",
    "ra, dec = 66.582618, -67.806508\n",
    "target = '{0}, {1}'.format(ra, dec)\n",
    "x = y = 11\n",
    "\n",
    "# set local file path to current working directory\n",
    "path = os.path.abspath(os.path.curdir)"
   ]
  },
  {
   "cell_type": "markdown",
   "metadata": {},
   "source": [
    "<a id=\"download_tesscut\"></a>\n",
    "### Use Astroquery to retrieve the TESSCut image\n",
    "The ``download_cutouts`` method requires as input an Astropy SkyCoord object, a cutout size in pixels and optionally accepts a download path.  This will download the custom cutout into the specified path and returns and Astropy table object with the paths to all the downloaded files.   "
   ]
  },
  {
   "cell_type": "code",
   "execution_count": null,
   "metadata": {},
   "outputs": [],
   "source": [
    "# create a sky coordinate object\n",
    "cutout_coords = SkyCoord(ra, dec, unit=\"deg\")\n",
    "    \n",
    "# download the files and get the list of local paths\n",
    "try:\n",
    "    table = Tesscut.download_cutouts(coordinates=cutout_coords, size=x, path=path)\n",
    "except Exception as e:\n",
    "    print('Error: Could not download cutouts: {0}'.format(e))\n",
    "else:\n",
    "    print(table)\n",
    "    files = table['Local Path']"
   ]
  },
  {
   "cell_type": "markdown",
   "metadata": {},
   "source": [
    "<a id=\"make_tpf\"></a>\n",
    "### Open a Target Pixel File \n",
    "We'll be using Kepler's [k2flix](https://barentsen.github.io/k2flix/) Python package to open and access the file, using the ``TargetPixelFile`` class.  This is a convenience class that allows use to easily create a GIF.  Kepler provides a range of [software tools](https://keplerscience.arc.nasa.gov/software.html) that should also work with TESS data. We instantiate a new object and print some basic information about the custom TPF.  We need the WCS of the new TESS cutout, so we use Astropy WCS to define and create the wcs using the APERTURE extension of the cutout file."
   ]
  },
  {
   "cell_type": "code",
   "execution_count": null,
   "metadata": {},
   "outputs": [],
   "source": [
    "# grab the first file in the list\n",
    "filename = files[0]\n",
    "\n",
    "# create the TargetPixelFile instance\n",
    "tpf = k2flix.TargetPixelFile(filename)\n",
    "\n",
    "# get number of pixels in flux array \n",
    "n_pix = tpf.flux().shape[0]\n",
    "\n",
    "# compute field of view in degrees\n",
    "res = 21.0 * (u.arcsec/u.pixel)\n",
    "area = res * (n_pix * u.pixel)\n",
    "d = area.to(u.degree)\n",
    "fov = d.value \n",
    "\n",
    "# compute the wcs of the image\n",
    "wcs = WCS(tpf.hdulist['APERTURE'].header)\n",
    "\n",
    "# print some info\n",
    "print('filename', tpf.filename)\n",
    "print('Target TPF', target)\n",
    "print('Field of View [degrees]', fov)\n",
    "print('Number pixels', tpf.flux().shape)"
   ]
  },
  {
   "cell_type": "markdown",
   "metadata": {},
   "source": [
    "<a id=\"make_gif\"></a>\n",
    "### Create and display a GIF of the custom TPF\n",
    "Using k2flix and the TPF instance, we can create a GIF of the time-series data in the cutout with the ``save_movie`` method.  Once it's generated, we use the IPython Image class to display the gif in the notebook cell."
   ]
  },
  {
   "cell_type": "code",
   "execution_count": null,
   "metadata": {},
   "outputs": [],
   "source": [
    "# create the gif\n",
    "gif = tpf.filename.replace('.fits', '.gif')\n",
    "if not os.path.exists(gif):\n",
    "    tpf.save_movie(gif, show_flags=True)"
   ]
  },
  {
   "cell_type": "code",
   "execution_count": null,
   "metadata": {},
   "outputs": [],
   "source": [
    "# display the gif\n",
    "if not os.path.exists(gif):\n",
    "    print(\"No gif found. Cannot display gif of time-series.\")\n",
    "\n",
    "Image(gif, embed=True)"
   ]
  },
  {
   "cell_type": "markdown",
   "metadata": {},
   "source": [
    "<a id=\"find_tic\"></a>\n",
    "### Find targets within TPF FOV in TESS Input Catalog\n",
    "We also want to retrieve all objects from the TESS Input Catalog that are within the custom TESS cutout field of view.  We can use **Astroquery** [Catalogs.query_region](https://astroquery.readthedocs.io/en/latest/mast/mast.html#catalog-queries) to do this.  This takes a string input of RA, Dec, and a search radius in degrees, and which catalog to search on.  Since our fov is the total width/height of the cutout, we use ``fov/2.`` to get a radius. "
   ]
  },
  {
   "cell_type": "code",
   "execution_count": null,
   "metadata": {},
   "outputs": [],
   "source": [
    "catalogData = Catalogs.query_region(target, radius=fov/2., catalog=\"Tic\")\n",
    "print('n_targets', len(catalogData))\n",
    "print('example rows:\\n', catalogData[0:5]['ID', 'ra', 'dec'])"
   ]
  },
  {
   "cell_type": "markdown",
   "metadata": {},
   "source": [
    "<a id=\"plot_tpf_tic\"></a>\n",
    "### Plot static TPF image and overlay TIC catalog\n",
    "Let's overylay the catalog search results with the custom TESS cutout.  We first need to convert the RA, Dec of all the catalog objects into pixel coordinates on the TESS cutout image.  We can do this using the [Astropy WCS](http://docs.astropy.org/en/stable/wcs/) object, with the ``all_world2pix`` method.  "
   ]
  },
  {
   "cell_type": "code",
   "execution_count": null,
   "metadata": {},
   "outputs": [],
   "source": [
    "# get RA and Dec coords of catalog data\n",
    "tic_ra = catalogData['ra']\n",
    "tic_dec = catalogData['dec']\n",
    "\n",
    "# get pixel coordinates of RA and Dec \n",
    "coords = wcs.all_world2pix(list(zip(tic_ra, tic_dec)),0)\n",
    "xc = [c[0] for c in coords]\n",
    "yc = [c[1] for c in coords]"
   ]
  },
  {
   "cell_type": "markdown",
   "metadata": {},
   "source": [
    "Let's use matplotlib to plot the first frame in the time-series of the cutout.  We use ``matplotlib.pyplot.imshow``.  Now that we have the catalog object positions in pixel coordinates, we can overlay them as a scatter plot with ``matplotlib.pyplot.scatter``.  We've optionally included a ``use_wcs`` flag to create the plot using the WCS.  See [Matplotlib Plots With WCS](http://docs.astropy.org/en/stable/wcs/#matplotlib-plots-with-correct-wcs-projection) for more details.  We can pass a WCS object as a matplotlib axis projection.  Try setting ``use_wcs = True``.  This will create the plot using the World Coordinates as the x,y axes. "
   ]
  },
  {
   "cell_type": "code",
   "execution_count": null,
   "metadata": {},
   "outputs": [],
   "source": [
    "# get first frame of flux from TPF\n",
    "data = tpf.hdulist['PIXELS'].data[\"FLUX\"][0,:,:]\n",
    "\n",
    "# use log image normalization\n",
    "norm = simple_norm(data, 'log')\n",
    "\n",
    "# plot with wcs or not\n",
    "use_wcs = False\n",
    "\n",
    "# plot image and overlay TIC points\n",
    "ax = plt.subplot(projection=wcs if use_wcs else None)\n",
    "ax.imshow(data, origin='lower', norm=norm, cmap='gray')\n",
    "#ax.scatter(tic_ra, tic_dec, transform=ax.get_transform('world'), s=20, facecolor='red', edgecolor='white')\n",
    "ax.scatter(xc, yc, s=20, facecolor='red', edgecolor='white')\n",
    "\n",
    "\n",
    "ax.figure.set_size_inches((10,10))\n",
    "\n",
    "# deal with axes\n",
    "if use_wcs:\n",
    "    xax = ax.coords[0]\n",
    "    yax = ax.coords[1]\n",
    "    xax.set_ticks(spacing=1.*u.arcmin)\n",
    "    yax.set_ticks(spacing=0.5 * u.arcmin)\n",
    "    xax.set_axislabel('Right Ascension')\n",
    "    yax.set_axislabel('Declination')\n",
    "else:\n",
    "    ax.set_xlabel('x pixel')\n",
    "    ax.set_ylabel('y pixel')"
   ]
  },
  {
   "cell_type": "markdown",
   "metadata": {},
   "source": [
    "The TESS FFI images currently have an issue with its WCS that shift transformations by ~1 pixel.  To illustrate this point, we'll compare the TESS cutout overlay with the TIC objects in pixel coordinates and world coordinates.  The left panel plots the cutout with the correct overlay of TIC objects.  The right panel plots the cutout using its WCS transformation.  The TIC objects are shifted by about a pixel relative to the underlying cutout.  This issue will present itself when using the WCS to overlay the cutout onto other data or vice versa.  The underlying cause of this issue is still being explored.  "
   ]
  },
  {
   "cell_type": "code",
   "execution_count": null,
   "metadata": {},
   "outputs": [],
   "source": [
    "# Pixel plot\n",
    "ax1 = plt.subplot(1,2,1)\n",
    "ax1.imshow(data, origin='lower', norm=norm,  cmap='gray')\n",
    "ax1.scatter(xc, yc, s=20, facecolor='red', edgecolor='white')\n",
    "ax1.set_xlabel('x')\n",
    "ax1.set_ylabel('y')\n",
    "ax1.set_title('TessCut-Pixel')\n",
    "\n",
    "# WCS plot\n",
    "ax2 = plt.subplot(1,2,2, projection=wcs)\n",
    "ax2.imshow(data, origin='lower', norm=norm,  cmap='gray')\n",
    "ax2.coords['ra'].set_axislabel('Right Ascension')\n",
    "ax2.coords['dec'].set_axislabel('Declination')\n",
    "ax2.scatter(tic_ra, tic_dec, transform=ax2.get_transform('world'), s=20, facecolor='red', edgecolor='white')\n",
    "ax2.set_title('TessCut-WCS')\n",
    "\n",
    "ax1.figure.set_size_inches((15,15))\n",
    "ax2.figure.set_size_inches((15,15))"
   ]
  },
  {
   "cell_type": "markdown",
   "metadata": {},
   "source": [
    "<a id=\"get_dss\"></a>\n",
    "## Retrieve the DSS image of the region\n",
    "To overlay the TESSCut image against the DSS image, we need to query the STScI DSS Cutout Image service.  First we define a custom function, ``getdss``, to perform call.  This performs a basic http GET request to the given url and retrieves a DSS image cutout given some input parameters.  "
   ]
  },
  {
   "cell_type": "code",
   "execution_count": null,
   "metadata": {},
   "outputs": [],
   "source": [
    "url = \"https://archive.stsci.edu/cgi-bin/dss_search\"\n",
    "plateDict = {\"red\": \"2r\", \n",
    "             \"blue\": \"2b\", \n",
    "             \"ukred\": \"poss2ukstu_red\", \n",
    "             \"ukblue\": \"poss2ukstu_blue\"}\n",
    "\n",
    "def getdss(ra, dec, plate=\"red\", height=None, width=None, \n",
    "           filename=None, directory=None):\n",
    "\n",
    "    \"\"\"Extract DSS image at position and write a FITS file\n",
    "    \n",
    "    ra, dec are J2000 coordinates in degrees\n",
    "    plate can be \"red\", \"blue\", \"ukred\", or \"ukblue\"\n",
    "    height and width are in arcmin, default = 7.0.  Image is square if only one is specified.\n",
    "    filename specifies name for output file (default=\"dss_{plate}_{ra}_{dec}.fits\")\n",
    "    directory is location for output file (default is current directory)\n",
    "    \n",
    "    Returns the name of the file that was written\n",
    "    \"\"\"\n",
    "\n",
    "    # set defaults for height & width\n",
    "    if height is None:\n",
    "        if width is not None:\n",
    "            height = width\n",
    "        else:\n",
    "            height = 7.0\n",
    "            width = 7.0\n",
    "    elif width is None:\n",
    "        width = height\n",
    "\n",
    "    try:\n",
    "        vplate = plateDict[plate]\n",
    "    except KeyError:\n",
    "        raise ValueError(\"Illegal plate value '{}'\\nShould be one of {}\".format(\n",
    "            plate,', '.join(plateDict.keys())))\n",
    "\n",
    "    # construct filename\n",
    "    if filename is None:\n",
    "        filename = \"dss_{}_{:.6f}_{:.6f}.fits\".format(plate,ra,dec)\n",
    "    if directory:\n",
    "        filename = os.path.join(directory, filename)\n",
    "\n",
    "    params={\"r\": ra,\n",
    "            \"d\": dec,\n",
    "            \"v\": vplate,\n",
    "            \"e\": \"J2000\",\n",
    "            \"h\": height,\n",
    "            \"w\": width,\n",
    "            \"f\":\"fits\",\n",
    "            \"c\":\"none\",\n",
    "            \"s\": \"yes\"}\n",
    "    r = requests.get(url, params=params)\n",
    "\n",
    "    # read and format the output\n",
    "    value = r.content\n",
    "    if not r.content.startswith(b\"SIMPLE  =\"):\n",
    "        raise ValueError(\"No FITS file returned for {}\".format(filename))\n",
    "    fhout = open(filename, \"wb\")\n",
    "    fhout.write(r.content)\n",
    "    fhout.close()\n",
    "    return filename"
   ]
  },
  {
   "cell_type": "markdown",
   "metadata": {},
   "source": [
    "We pass in our target RA and Dec, along with the desired image size in arcminutes, and an optional download path.  "
   ]
  },
  {
   "cell_type": "code",
   "execution_count": null,
   "metadata": {},
   "outputs": [],
   "source": [
    "# compute the pixel area in arcmin\n",
    "arcmin = area.to(u.arcmin).value\n",
    "\n",
    "# retrieve the DSS file\n",
    "filename = getdss(ra, dec, height=arcmin, width=arcmin, directory=path)\n",
    "print('DSS Image:', filename)"
   ]
  },
  {
   "cell_type": "markdown",
   "metadata": {},
   "source": [
    "Let's display the DSS image and overlay the TIC catalog objects as a sanity check.  We use the same matplotlib plotting methods as before.  As before, this uses [WCSAxes](http://docs.astropy.org/en/stable/visualization/wcsaxes/index.html#wcsaxes) from Astropy to create a plot with correct WCS and overlay coordinate objects.  This time we create a DSS WCS object and use that when creating the plot.  We can also directly pass into a coordinate list of RA, Dec and transform the coordinates into the proper pixels using the DSS WCS.   "
   ]
  },
  {
   "cell_type": "code",
   "execution_count": null,
   "metadata": {},
   "outputs": [],
   "source": [
    "dss = fits.open(filename)\n",
    "\n",
    "# get the data and WCS for the DSS image\n",
    "dss_data = dss[0].data\n",
    "dss_wcs = WCS(dss[0].header)\n",
    "\n",
    "# display the DSS image and overlay the TIC objects\n",
    "ax = plt.subplot(projection=dss_wcs)\n",
    "ax.imshow(dss_data, origin='lower')\n",
    "ax.scatter(tic_ra, tic_dec, transform=ax.get_transform('world'), s=20, facecolor='red', edgecolor='white')\n",
    "ax.figure.set_size_inches((8,8))\n",
    "ax.set_xlabel('Right Ascension')\n",
    "ax.set_ylabel('Declination')"
   ]
  },
  {
   "cell_type": "markdown",
   "metadata": {},
   "source": [
    "<a id=\"overlay_images\"></a>\n",
    "## Overlay the TessCut Image\n",
    "To overlay the TESS Cutout against the DSS, we need to reproject the WCS of the TESS cutout onto the WCS of the DSS image, and the [reproject](https://reproject.readthedocs.io/en/stable/index.html) package.  We use the [reproject_interp](https://reproject.readthedocs.io/en/stable/api/reproject.reproject_interp.html#reproject.reproject_interp) method.  See [here](https://reproject.readthedocs.io/en/stable/celestial.html) for more details. \n",
    "\n",
    "``reproject_interp`` takes two basic inputs.  \n",
    "- input data+WCS we want to project from\n",
    "- output WCS we want to project onto.  \n",
    "\n",
    "We want to project our TESS cutout and its WCS into the coordinate frame of the DSS image, using the DSS WCS.  Our input is a tuple of the custom TESS cutout data and wcs, i.e. ``(data, wcs)``.  The desired coordinate frame is the WCS we want to project onto, i.e. ``dss_wcs``.  We also need to provide the shape of the DSS data, with `shape_out`.  Finally we need to provide an interpolation method.  We use a ``nearest-neighbor`` interpolation, which is the lowest order possible.  \n",
    "\n",
    "``reproject_interp`` will take the input 11x11 pixel TESS cutout data, convert it to world coordinates using the TESS WCS, interpolate it into the shape of the DSS image (229x229) using the DSS WCS, and convert the data into DSS pixel coordinates.  \n",
    "\n",
    "The final output is the reprojected TESS cutout data (``reproj_tesscut``) and the overlapping footprint of the input data in the output data (``footprint``).  \n"
   ]
  },
  {
   "cell_type": "code",
   "execution_count": null,
   "metadata": {},
   "outputs": [],
   "source": [
    "# reproject the tesscut onto dss\n",
    "reproj_tesscut, footprint = reproject_interp((data, wcs,), dss_wcs, shape_out=dss_data.shape, order='nearest-neighbor')"
   ]
  },
  {
   "cell_type": "markdown",
   "metadata": {},
   "source": [
    "Once reprojected, we can properly overly the DSS and TESSCut images.  We can add a slider for the opacity of the overlay using ipywidgets.  First we make a `create_plot` function which accepts all the inputs we need to display the DSS image, and overlay the TESS cutout image and TIC objects.  "
   ]
  },
  {
   "cell_type": "code",
   "execution_count": null,
   "metadata": {},
   "outputs": [],
   "source": [
    "# create the function to overlay dss + tesscut + tic catalog\n",
    "def create_plot(background_img, foreground_img, alpha, norm, wcs, ra, dec):\n",
    "    ''' create an interactive matplotlib image plot\n",
    "    \n",
    "    Parameters:\n",
    "        background_img (ndarray):\n",
    "            The background image data to show\n",
    "        foreground_img (ndarray):\n",
    "            The foreground image data to overplot. \n",
    "        alpha (tuple):\n",
    "            A tuple of min, max for the interactive slider.  \n",
    "        norm:\n",
    "            The image normalization to use for the overlaid image.\n",
    "        wcs (astropy.wcs.wcs.WCS):\n",
    "            The WCS of the background image\n",
    "        ra (list):\n",
    "            A list of RA coordinate objects\n",
    "        dec (list):\n",
    "            A list of Dec coordinate objects\n",
    "    '''\n",
    "    # create plot\n",
    "    ax = plt.subplot(projection=wcs)\n",
    "    ax.figure.set_size_inches((8,8))\n",
    "\n",
    "    # show image 1\n",
    "    ax.imshow(background_img, origin='lower')\n",
    "\n",
    "    # overlay image 2\n",
    "    ax.imshow(foreground_img, origin='lower', alpha=alpha, norm=norm, cmap='gray')\n",
    "\n",
    "    # overlay a list of objects\n",
    "    ax.scatter(ra, dec, transform=ax.get_transform('world'), s=20, facecolor='red', edgecolor='white')\n",
    "\n",
    "    # add axis labels\n",
    "    ax.set_xlabel('Right Ascension')\n",
    "    ax.set_ylabel('Declination')"
   ]
  },
  {
   "cell_type": "markdown",
   "metadata": {},
   "source": [
    "We use ipywidgets to create an interactive slider widget for the alpha/opacity of the TESS cutout image.  We use the [interactive](https://ipywidgets.readthedocs.io/en/stable/examples/Using%20Interact.html#interactive) function to produce an interactive widget.  It takes as input the main function we want to make interactive, in our case, ``create_plot``.  You also need to pass in all the inputs to your custom function.  \n",
    "\n",
    "To create a slider for alpha we pass in a tuple of **(min, max)** representing the minimum and maximum slider ranges.  All other inputs to our ``create_plot`` function should be fixed.  We do not want interaction on these elements.  So we wrap all other inputs in the [fixed](https://ipywidgets.readthedocs.io/en/stable/examples/Using%20Interact.html#Fixing-arguments-using-fixed) function from ``ipywidgets``.  This tells ipywidgets to use fix those inputs. \n",
    "\n",
    "Our input background data is the DSS image data, ``dss_data``.  The input image to overlay on top is the reprojected TESS data, ``reproj_tesscut``.  We also pass in `norm`, the TESS cutout image normalization from before, as well as DSS wcs (`dss_wcs`), and the list of RA and Dec of the TIC objects, ``tic_ra, tic_dec``. \n",
    "\n",
    "Try moving the slider back and forth to control the opacity of the TESS cutout image against the DSS image. "
   ]
  },
  {
   "cell_type": "code",
   "execution_count": null,
   "metadata": {},
   "outputs": [],
   "source": [
    "# create an interactive ipywidget plot for the opacity of tesscut\n",
    "interactive_plot = interactive(create_plot, background_img=fixed(dss_data), foreground_img=fixed(reproj_tesscut), \n",
    "                               alpha=(0.0,1.0), norm=fixed(norm), wcs=fixed(dss_wcs), \n",
    "                               ra=fixed(tic_ra), dec=fixed(tic_dec))\n",
    "# display the plot\n",
    "output = interactive_plot.children[-1]\n",
    "output.layout.height = '500px'\n",
    "interactive_plot"
   ]
  },
  {
   "cell_type": "markdown",
   "metadata": {},
   "source": [
    "<a id=\"resources\"></a>\n",
    "## Additional Resources\n",
    "[TESScut API Documentation](https://mast.stsci.edu/tesscut/)<br>\n",
    "[Astrocut Documentation](https://astrocut.readthedocs.io/en/latest/)<br>\n",
    "[TESS Homepage](https://archive.stsci.edu/tess)<br>\n",
    "[TESS Archive Manual](https://outerspace.stsci.edu/display/TESS/TESS+Archive+Manual)"
   ]
  },
  {
   "cell_type": "markdown",
   "metadata": {},
   "source": [
    "<a id=\"about_ID\"></a>\n",
    "## About this Notebook\n",
    "**Author:** Brian Cherinka, STScI Archive Scientist\n",
    "<br>**Updated On:** 2019-01-28"
   ]
  },
  {
   "cell_type": "markdown",
   "metadata": {},
   "source": [
    "[Top of Page](#title_ID)\n",
    "<img style=\"float: right;\" src=\"https://raw.githubusercontent.com/spacetelescope/notebooks/master/assets/stsci_pri_combo_mark_horizonal_white_bkgd.png\" alt=\"STScI logo\" width=\"200px\"/> "
   ]
  }
 ],
 "metadata": {
  "kernelspec": {
   "display_name": "Python 3 (ipykernel)",
   "language": "python",
   "name": "python3"
  },
  "language_info": {
   "codemirror_mode": {
    "name": "ipython",
    "version": 3
   },
   "file_extension": ".py",
   "mimetype": "text/x-python",
   "name": "python",
   "nbconvert_exporter": "python",
   "pygments_lexer": "ipython3",
   "version": "3.9.12"
  }
 },
 "nbformat": 4,
 "nbformat_minor": 2
}
