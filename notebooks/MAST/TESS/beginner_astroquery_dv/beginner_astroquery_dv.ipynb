{
 "cells": [
  {
   "cell_type": "markdown",
   "metadata": {},
   "source": [
    "# Beginner: Retrieve TESS Data Validation Products with Astroquery\n",
    "\n",
    "In addition to producing light curves and target pixel files, TESS (Transiting Exoplanet Survey Satelite) searches the 2-minute light curve data for transiting exoplanets. The mission does the search on individual sectors. But it also does multi-sector searches where they stitch the time series from a range of sectors and then do a search.  For every star in a particular search that produces a significant transiting event, a set of Data Validation products are created. The set of products are:\n",
    "\n",
    "- DV reports (pdf), one per star\n",
    "- DV summaries (pdf), one per transit signal found\n",
    "- DV mini-reports (pdf), one per star\n",
    "- DV time series files (fits),  one per star, one extension per transit signal\n",
    "\n",
    "In this tutorial we show how to use astroquery to request all of the DV files available for a star of interest (L98-59 in this case). We then open the DV time series file to plot the detrended light curves produced by the mission and also a folded light curve for each signal found by the mission.\n",
    "\n",
    "Skills explored in this notebook:\n",
    "\n",
    "- Retrieving TESS timeseries observations with astroquery\n",
    "- Retrieving TESS Data Validation products with astroquery\n",
    "- Reading in a DV FITS file with astropy.io.fits\n",
    "- Plotting with Matplotlib\n",
    "\n",
    "For more information about the DV time series files, see the notebook called \"beginner_how_to_use_dvt\". \n",
    "\n",
    "For more information about TESS data products, go to the [TESS Archive Manual](https://outerspace.stsci.edu/display/TESS)\n"
   ]
  },
  {
   "cell_type": "markdown",
   "metadata": {},
   "source": [
    "---"
   ]
  },
  {
   "cell_type": "markdown",
   "metadata": {},
   "source": [
    "## Import Statements"
   ]
  },
  {
   "cell_type": "code",
   "execution_count": null,
   "metadata": {},
   "outputs": [],
   "source": [
    "from astroquery.mast import Observations\n",
    "from astroquery.mast import Catalogs\n",
    "from astropy.io import fits\n",
    "from astropy import table\n",
    "import matplotlib.pyplot as plt\n",
    "import numpy as np\n",
    "from copy import deepcopy"
   ]
  },
  {
   "cell_type": "markdown",
   "metadata": {},
   "source": [
    "## Use Astroquery to find Observations of L98-59\n",
    "We begin by doing a cone search usig the `Observations.query_object` function and then filtering for time series observations made by TESS. This leaves us with just the TESS 2-minute cadence data observations. There are also many Sectors' worth of observations for this target, so to minimize how many we use for this tutorial, we will\n",
    "only keep results from the first 13 Sectors.  For TESS observations, the Sector number is stored in the column\n",
    "called `sequence_number`."
   ]
  },
  {
   "cell_type": "code",
   "execution_count": null,
   "metadata": {
    "scrolled": true
   },
   "outputs": [],
   "source": [
    "star_name = \"L98-59\"\n",
    "\n",
    "# This query returns all obserations across all missions centered on our target.\n",
    "observations = Observations.query_object(star_name, radius = \"0 deg\")\n",
    "# Create a filter that will only pick out the observations we want: TESS timeseries missions from Sectors 13 and\n",
    "# below.\n",
    "obs_wanted = ((observations['dataproduct_type'] == 'timeseries') &\n",
    "              (observations['obs_collection'] == 'TESS') &\n",
    "             (observations['sequence_number'] <= 13))\n",
    "# Print out a few columns to show what we have selected. Note that TESS multi-Sector observations are assigned\n",
    "# a sequence_number based on the last Sector used in the range.\n",
    "print(observations[obs_wanted]['obs_collection', 'project', 'obs_id', 'sequence_number'])"
   ]
  },
  {
   "cell_type": "markdown",
   "metadata": {},
   "source": [
    "## Use Astroquery to Dowload DV Products\n",
    "Use `Observations.get_product_list` to get a list of data products associated with the observations of interest. Each individual observation is associated with several data products, only some of which are the DV products we are interested in. In this case we want those data products that have \"productSubGroupDescription\" set to either DVT, DVM, DVS or DVR.  \n",
    "\n",
    "Next, we use `Observations.download_products` to download our selected data files.  This function returns a manifest, a table that contains the local path to the files that are downloaded."
   ]
  },
  {
   "cell_type": "code",
   "execution_count": null,
   "metadata": {},
   "outputs": [],
   "source": [
    "data_products = Observations.get_product_list(observations[obs_wanted])\n",
    "products_wanted = Observations.filter_products(data_products, \n",
    "                                    productSubGroupDescription=[\"DVT\",\"DVM\",\"DVS\",\"DVR\"])\n",
    "\n",
    "print(products_wanted[\"productFilename\"])\n",
    "manifest = Observations.download_products(products_wanted)\n"
   ]
  },
  {
   "cell_type": "markdown",
   "metadata": {},
   "source": [
    "## Download Complete\n",
    "You have now downloaded ALL of the TESS DV products for this star and their locations can be seen by printing the \"Local Path\" in the manifest.  Notice that because this star was observed in many sectors, there are many different sets of DV products, one set for each range of sectors searched."
   ]
  },
  {
   "cell_type": "code",
   "execution_count": null,
   "metadata": {},
   "outputs": [],
   "source": [
    "print( manifest['Local Path'] )"
   ]
  },
  {
   "cell_type": "markdown",
   "metadata": {},
   "source": [
    "## Examine the Download Manifest\n",
    "\n",
    "TESS file names tell you a lot about what is in the file. In the function `parse_manifest` below I break them apart so that I can make an easy to read table about the type of data that we downloaded.  Then we write-out that part of the table.   This makes it obvious that there are lots of different sets of DV files based on different searches, each with a different sector range.  For each sector it was observed, there is a single sector search, and then there are also several multi sector searches."
   ]
  },
  {
   "cell_type": "code",
   "execution_count": null,
   "metadata": {},
   "outputs": [],
   "source": [
    "def parse_manifest(manifest):\n",
    "    \"\"\"\n",
    "    Parse manifest and add back columns that are useful for TESS DV exploration.\n",
    "    \"\"\"\n",
    "    results = deepcopy(manifest)\n",
    "    filenames = []\n",
    "    sector_range = []\n",
    "    exts = []\n",
    "    for i,f in enumerate(manifest['Local Path']):\n",
    "        file_parts = np.array(np.unique(f.split(sep = '-')))\n",
    "        sectors = list( map ( lambda x: x[0:2] == 's0', file_parts))\n",
    "        s1 = file_parts[sectors][0]\n",
    "        try:\n",
    "            s2 = file_parts[sectors][1]\n",
    "        except:\n",
    "            s2 = s1\n",
    "        sector_range.append(\"%s-%s\" % (s1,s2))\n",
    "        path_parts = np.array(f.split(sep = '/'))\n",
    "        filenames.append(path_parts[-1])\n",
    "        exts.append(path_parts[-1][-8:])\n",
    "\n",
    "    results.add_column(table.Column(name = \"filename\", data = filenames))\n",
    "    results.add_column(table.Column(name = \"sectors\", data = sector_range))\n",
    "    results.add_column(table.Column(name = \"fileType\", data = exts))\n",
    "    results.add_column(table.Column(name = \"index\", data = np.arange(0,len(manifest))))\n",
    "    \n",
    "    return results\n",
    "\n",
    "#Run parser and print\n",
    "results = parse_manifest(manifest)\n",
    "print(results['index','sectors','fileType'])"
   ]
  },
  {
   "cell_type": "markdown",
   "metadata": {},
   "source": [
    "## Plot the DVT File\n",
    "The time series data used to find the repeating transit signals (which are also known as Threshold Crossing events (TCEs)) is found in the dvt.fits files.  As you can see there is a dvt file. If we want the file with the most data, we should pick the one with the longest sector range in the file name.  In this case it is s0001-s0013. "
   ]
  },
  {
   "cell_type": "code",
   "execution_count": null,
   "metadata": {},
   "outputs": [],
   "source": [
    "print(results['index', 'sectors', 'fileType'][results['sectors'] == \"s0001-s0013\"])"
   ]
  },
  {
   "cell_type": "markdown",
   "metadata": {},
   "source": [
    "### Plot the DV Median-Detrended Time Series\n",
    "The median detrended fluxes are stored in the first extension under 'LC_DETREND'. This is a median detrended version of the light curve that was searched for transit signals. While in the continuous viewing zone, L98-59 was not observed during every sector so there will be gaps in our light curve."
   ]
  },
  {
   "cell_type": "code",
   "execution_count": null,
   "metadata": {},
   "outputs": [],
   "source": [
    "# Locate the file that has the data\n",
    "want = (results['sectors'] == \"s0001-s0013\") & (results['fileType'] == \"dvt.fits\")\n",
    "dvt_filename = manifest[want]['Local Path'][0]\n",
    "\n",
    "# Print out the file info\n",
    "fits.info(dvt_filename)"
   ]
  },
  {
   "cell_type": "code",
   "execution_count": null,
   "metadata": {},
   "outputs": [],
   "source": [
    "# Plot the detrended photometric time series in the first binary table. \n",
    "data = fits.getdata(dvt_filename, 1)\n",
    "time = data['TIME']\n",
    "relflux = data['LC_DETREND']\n",
    "\n",
    "plt.figure(figsize = (16,3))\n",
    "plt.plot (time, relflux, 'b.')\n",
    "plt.ylim(1.2* np.nanpercentile(relflux, .5) , 1.2 * np.nanpercentile(relflux, 99.5))\n",
    "plt.title('Data Validation Detrended Light Curve for %s' % (star_name))"
   ]
  },
  {
   "cell_type": "markdown",
   "metadata": {},
   "source": [
    "### Plot Folded Light Curve\n",
    "Each extension of the DVT data file contains a separate TCE. After the pipeline finds a set of transits, the transits are removed and the light curve is once again searched for transits.  L98-59 has three TCEs, each is consistent with the three confirmed planets found around this star.  Here we plot the phase folded light curve for each TCE, each as its own subplot.  The DVT file also contains a transit model as one of the columns in the FITS table. We overplot that in orange."
   ]
  },
  {
   "cell_type": "code",
   "execution_count": null,
   "metadata": {},
   "outputs": [],
   "source": [
    "def plot_folded(phase, data, model, ext, period):\n",
    "    isort = phase.argsort()\n",
    "    \n",
    "    plt.plot(phase[isort], data[isort], '.', ms = .5)\n",
    "    plt.plot(phase[isort], model[isort], '-', lw = 1, label = \"TCE %i\" % ext)\n",
    "    plt.xlabel('Phase (Period = %5.2f days)' % period)\n",
    "    plt.ylim(1.5 * np.nanpercentile(data, .5) , 1.4 * np.nanpercentile(data,99.5))\n",
    "    plt.legend(loc = \"lower right\")\n",
    "\n",
    "plt.figure(figsize = (14,10))\n",
    "\n",
    "nTCEs = fits.getheader(dvt_filename)['NEXTEND'] - 2\n",
    "\n",
    "for ext in range(1, nTCEs + 1):\n",
    "    data = fits.getdata(dvt_filename, ext)\n",
    "    head = fits.getheader(dvt_filename, ext)\n",
    "    period = head['TPERIOD']\n",
    "    phase = data['PHASE']\n",
    "    flux = data['LC_INIT']\n",
    "    model = data['MODEL_INIT']\n",
    "    plt.subplot(3, 1, ext)\n",
    "    plot_folded(phase, flux, model, ext, period)"
   ]
  },
  {
   "cell_type": "markdown",
   "metadata": {},
   "source": [
    "<a id=\"about_ID\"></a>\n",
    "## About this Notebook\n",
    "**Authors:** \n",
    "<br>Susan E. Mullally, STScI \n",
    "<br>**Updated On:** 2019-09-13"
   ]
  },
  {
   "cell_type": "markdown",
   "metadata": {},
   "source": [
    "[Top of Page](#title_ID)\n",
    "<img style=\"float: right;\" src=\"https://raw.githubusercontent.com/spacetelescope/notebooks/master/assets/stsci_pri_combo_mark_horizonal_white_bkgd.png\" alt=\"STScI logo\" width=\"200px\"/> "
   ]
  },
  {
   "cell_type": "code",
   "execution_count": null,
   "metadata": {},
   "outputs": [],
   "source": []
  }
 ],
 "metadata": {
  "kernelspec": {
   "display_name": "Python 3 (ipykernel)",
   "language": "python",
   "name": "python3"
  },
  "language_info": {
   "codemirror_mode": {
    "name": "ipython",
    "version": 3
   },
   "file_extension": ".py",
   "mimetype": "text/x-python",
   "name": "python",
   "nbconvert_exporter": "python",
   "pygments_lexer": "ipython3",
   "version": "3.8.13"
  }
 },
 "nbformat": 4,
 "nbformat_minor": 2
}
