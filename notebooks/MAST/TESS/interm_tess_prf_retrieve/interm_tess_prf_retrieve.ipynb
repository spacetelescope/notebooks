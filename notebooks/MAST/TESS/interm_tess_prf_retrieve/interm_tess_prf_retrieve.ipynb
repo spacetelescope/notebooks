{
 "cells": [
  {
   "cell_type": "markdown",
   "metadata": {},
   "source": [
    "# Intermediate: Retrieve TESS Pixel Response Function Images\n",
    "The Transiting Exoplanet Survey Satelite (TESS) takes time series data with 4 cameras across much of the sky.  The mission provides a product called the Pixel Response Function (PRF). The PRF is a model that describes the image of a point source and how it varies depending on where it lands on the detector. The shape of the image comes from the optical point spread function, jitter during observations, as well as the intra-pixel location of where the light lands.  These PRFs can be used to fit the data to obtain precise locations or brightness of stars. This notebook shows you how to open the FITS-formatted PRF images and calculate a PRF model for a specific location on a detector. \n",
    "\n",
    "More information about the PRF can be found in the [TESS Archive Manual.](https://outerspace.stsci.edu/display/TESS/TESS+Archive+Manual) The PRF models were created by the mission by fitting to micro-dithered data taken during PRF commissioning exercises. See the Instrument Handbook for details on the data collection. \n",
    "\n",
    "The pixel response functions in FITS or Matlab format and are available from the [models/prf_fitsfiles](https://archive.stsci.edu/missions/tess/models/prf_fitsfiles/) directory at MAST. There are 25 sub-pixel sampled PRF image for an evenly spaced grid across each of the 16 CCDs and cameras. Each CCD/camera combination is in its own subdirectory at MAST. The column and row information is specified in the file name.  A 13x13 PRF image is provided for 9x9 subpixel locations, allowing you a tenth of pixel precision without having to interpolate.  The 9x9 grid of 13x13 images are interwoven into one 117x117 image, making retrieving the exact sub-pixel location a bit tricky.\n",
    "\n",
    "There is no package to retrieve or work with the PRFs. So this tutorial starts by defining some functions to make it easier to parse the files and retrieve the PRF we are looking for. Each function is documented, but a quick overview is given below.   \n",
    "\n",
    "If you just want to understand the shapes of the PRFs, skip ahead to the section [Obtain PRF at an image location](#obtain_PRF).\n",
    "\n",
    "\n",
    "### Description of the PRF retrieval code\n",
    "The primary function (`getPrfAtColRowFits`) takes a column, row, ccd, camera and sector and returns a 13x13 image of the best PRF interpolated from the grid of PRFs provided in the files.  It uses the ccd, camera and sector information to determine the name of the relevant PRF file in `pathLookup`. Then `determineClosestTessColRow` uses the requested row and column, finds the 4 nearest positions on the detector for which the mission provided a PRF file. Open those files and pull out the appropriate sub-pixel image. Once the four 13x13 sub-pixel PRF images are extracted, `interpolatePrf` interpolates them to the specfied pixel location. The main function then returns this interpolated PRF image.\n",
    "\n",
    "### Required Software\n",
    "- astropy.io\n",
    "- numpy\n",
    "- matplotlib\n",
    "- astroquery.mast"
   ]
  },
  {
   "cell_type": "markdown",
   "metadata": {},
   "source": [
    "----"
   ]
  },
  {
   "cell_type": "markdown",
   "metadata": {},
   "source": [
    "## Code to retrieve a TESS PRF image"
   ]
  },
  {
   "cell_type": "code",
   "execution_count": null,
   "metadata": {},
   "outputs": [],
   "source": [
    "from astropy.io import fits\n",
    "import numpy as np\n",
    "import os\n",
    "import matplotlib.pyplot as plt"
   ]
  },
  {
   "cell_type": "markdown",
   "metadata": {},
   "source": [
    "### Determine the name of the PRF based on ccd camera and sector"
   ]
  },
  {
   "cell_type": "code",
   "execution_count": null,
   "metadata": {},
   "outputs": [],
   "source": [
    "def pathLookup(ccd, camera, sector):\n",
    "    \"\"\"\n",
    "    Gets the datestring and the subdirectory for the specified PRF. \n",
    "    The datestring and directory name can be found from the ccd, camera and sector.\n",
    "    \n",
    "    Inputs\n",
    "    -------\n",
    "    ccd\n",
    "        (int) number of the TESS ccd. Accepts values from 1-4.\n",
    "    camera\n",
    "        (int) number of the TESS camera. Accepts values from 1-4\n",
    "    sector\n",
    "        (int) number of the TESS sector. Accepts values of 1 and above.\n",
    "    \n",
    "    Returns\n",
    "    -------\n",
    "    datestring\n",
    "        (str) Date string used in the TESS prf files name.\n",
    "    add_path\n",
    "        (str) Directory name where the TESS PRF is stored. (e.g. \"/start_s0001/\")\n",
    "    \"\"\" \n",
    "    if sector < 1:\n",
    "        raise ValueError(\"Sector must be greater than 0.\")\n",
    "    if (camera > 4) | (ccd > 4):\n",
    "        raise ValueError(\"Camera or CCD is larger than 4.\")\n",
    "\n",
    "    if sector <= 3:\n",
    "        add_path = \"/start_s0001/\"\n",
    "        datestring = \"2018243163600\"\n",
    "\n",
    "        if camera >= 3:\n",
    "            datestring = \"2018243163601\"\n",
    "        elif (camera == 2) & (ccd == 4):\n",
    "            datestring = \"2018243163601\"\n",
    "        \n",
    "    else:\n",
    "        add_path = \"/start_s0004/\"\n",
    "        datestring = \"2019107181900\"\n",
    "        if (camera == 1) & (ccd >= 2):\n",
    "            datestring = \"2019107181901\"\n",
    "        elif (camera == 2):\n",
    "            datestring = \"2019107181901\"\n",
    "        elif (camera == 3) & (ccd >= 2) :\n",
    "            datestring = \"2019107181902\"\n",
    "        elif (camera == 4):\n",
    "            datestring = \"2019107181902\"\n",
    "\n",
    "    return datestring, add_path"
   ]
  },
  {
   "cell_type": "markdown",
   "metadata": {},
   "source": [
    "### Read in one PRF FITS File"
   ]
  },
  {
   "cell_type": "code",
   "execution_count": null,
   "metadata": {},
   "outputs": [],
   "source": [
    "def readOnePrfFitsFile(ccd, camera, col, row, path, datestring):\n",
    "    \"\"\"\n",
    "    reads in the full, interleaved prf Array for a single row,col,ccd,camera location.\n",
    "    \n",
    "    Inputs\n",
    "    -------\n",
    "    ccd\n",
    "        (int) CCD number\n",
    "    camera\n",
    "        (int) Camera number\n",
    "    col\n",
    "        (float) Specific column where the PRF was sampled.\n",
    "    row\n",
    "        (float) Specific row where the PRF was sampled.\n",
    "    path\n",
    "        (string) The full path of the data file. Can be the MAST Web address\n",
    "        \n",
    "    Returns\n",
    "    ------\n",
    "    prfArray\n",
    "        (np array) Full 117 x 117 interleaved prf Array for the requested file.      \n",
    "    \"\"\"\n",
    "        \n",
    "    fn = \"cam%u_ccd%u/tess%13s-prf-%1u-%1u-row%04u-col%04u.fits\" % \\\n",
    "        (camera, ccd, datestring, camera, ccd, row, col)\n",
    "\n",
    "    filepath = os.path.join(path, fn)\n",
    "    hdulistObj = fits.open(filepath)\n",
    "    prfArray = hdulistObj[0].data\n",
    "\n",
    "    return prfArray\n",
    "\n",
    "def determineFourClosestPrfLoc(col, row):\n",
    "    \"\"\"\n",
    "    Determine the four pairs of col,row positions of your target. \n",
    "    These are specific to TESS and where they chose to report their PRFs.\n",
    "    Inputs\n",
    "    ------\n",
    "    col\n",
    "        (float) Column position\n",
    "    row\n",
    "        (float) Row position.\n",
    "    \n",
    "    Returns\n",
    "    -------\n",
    "    imagePos\n",
    "        (list) A list of (col,row) pairs.\n",
    "    \"\"\"\n",
    "\n",
    "    posRows = np.array([1, 513, 1025, 1536, 2048])\n",
    "    posCols = np.array([45, 557, 1069, 1580,2092])\n",
    "\n",
    "    difcol = np.abs(posCols - col)\n",
    "    difrow = np.abs(posRows - row)\n",
    "\n",
    "    # Expand out to the four image position to interpolate between,\n",
    "    # Return as a list of tuples.\n",
    "    imagePos = []\n",
    "    for r in posRows[np.argsort(difrow)[0:2]]:\n",
    "        for c in posCols[np.argsort(difcol)[0:2]]:\n",
    "            imagePos.append((c,r))\n",
    "\n",
    "    return imagePos"
   ]
  },
  {
   "cell_type": "code",
   "execution_count": null,
   "metadata": {},
   "outputs": [],
   "source": [
    "def getOffsetsFromPixelFractions(col, row):\n",
    "    \"\"\"\n",
    "    Determine just the fractional part (the intra-pixel part) of the col,row position.  \n",
    "    For example, if (col, row) = (123.4, 987.6), then\n",
    "    (colFrac, rowFrac) = (.4, .6). \n",
    "    \n",
    "    Function then returns the offset necessary for addressing the interleaved PRF array.\n",
    "    to ensure you get the location appropriate for your sub-pixel values.\n",
    "    \n",
    "    Inputs\n",
    "    ------\n",
    "    col\n",
    "        (float) Column position\n",
    "    row\n",
    "        (float) Row position.\n",
    "    \n",
    "    Returns\n",
    "    ------\n",
    "    (colFrac, rowFrac)\n",
    "       (int, int) offset necessary for addressing the interleaved PRF array.\n",
    "    \"\"\"\n",
    "    gridSize = 9\n",
    "\n",
    "    colFrac = np.remainder(float(col), 1)\n",
    "    rowFrac = np.remainder(float(row), 1)\n",
    "\n",
    "    colOffset = gridSize - np.round(gridSize * colFrac) - 1\n",
    "    rowOffset = gridSize - np.round(gridSize * rowFrac) - 1\n",
    "\n",
    "    return int(colOffset), int(rowOffset)\n",
    "\n",
    "def getRegSampledPrfFitsByOffset(prfArray, colOffset, rowOffset):\n",
    "    \"\"\"\n",
    "    The 13x13 pixel PRFs on at each grid location are sampled at a 9x9 intra-pixel grid, to\n",
    "    describe how the PRF changes as the star moves by a fraction of a pixel in row or column.\n",
    "    To extract out a single PRF, you need to address the 117x117 array in a funny way\n",
    "    (117 = 13x9). Essentially you need to pull out every 9th element in the array, i.e.\n",
    "\n",
    "    .. code-block:: python\n",
    "\n",
    "        img = array[ [colOffset, colOffset+9, colOffset+18, ...],\n",
    "                     [rowOffset, rowOffset+9, ...] ]\n",
    "    \n",
    "    Inputs\n",
    "    ------\n",
    "    prfArray\n",
    "        117x117 interleaved PRF array\n",
    "    colOffset, rowOffset\n",
    "        The offset used to address the column and row in the interleaved PRF\n",
    "    \n",
    "    Returns\n",
    "    ------\n",
    "    prf\n",
    "        13x13 PRF image for the specified column and row offset\n",
    "    \n",
    "    \"\"\"\n",
    "    gridSize = 9\n",
    "\n",
    "    assert colOffset < gridSize\n",
    "    assert rowOffset < gridSize\n",
    "\n",
    "    # Number of pixels in regularly sampled PRF. Should be 13x13\n",
    "    nColOut, nRowOut = prfArray.shape\n",
    "    nColOut /= float(gridSize)\n",
    "    nRowOut /= float(gridSize)\n",
    "\n",
    "    iCol = colOffset + (np.arange(nColOut) * gridSize).astype(np.int)\n",
    "    iRow = rowOffset + (np.arange(nRowOut) * gridSize).astype(np.int)\n",
    "\n",
    "    tmp = prfArray[iRow, :]\n",
    "    prf = tmp[:,iCol]\n",
    "\n",
    "    return prf\n"
   ]
  },
  {
   "cell_type": "code",
   "execution_count": null,
   "metadata": {},
   "outputs": [],
   "source": [
    "def interpolatePrf(regPrfArray, col, row, imagePos):\n",
    "    \"\"\"\n",
    "    Interpolate between 4 images to find the best PRF at the specified column and row.\n",
    "    This is a simple linear interpolation.\n",
    "    \n",
    "    Inputs\n",
    "    -------\n",
    "    regPrfArray \n",
    "        13x13x4 prf image array of the four nearby locations.\n",
    "        \n",
    "    col and row \n",
    "        (float) the location to interpolate to.\n",
    "        \n",
    "    imagePos\n",
    "        (list) 4 floating point (col, row) locations\n",
    "        \n",
    "    Returns\n",
    "    ----\n",
    "    Single interpolated PRF image.\n",
    "    \"\"\"\n",
    "    p11, p21, p12, p22 = regPrfArray\n",
    "    c0 = imagePos[0][0]\n",
    "    c1 = imagePos[1][0]\n",
    "    r0 = imagePos[0][1]\n",
    "    r1 = imagePos[2][1]\n",
    "\n",
    "    assert c0 != c1\n",
    "    assert r0 != r1\n",
    "\n",
    "    dCol = (col-c0) / (c1-c0)\n",
    "    dRow = (row-r0) / (r1 - r0)\n",
    "\n",
    "    # Intpolate across the rows\n",
    "    tmp1 = p11 + (p21 - p11) * dCol\n",
    "    tmp2 = p12 + (p22 - p12) * dCol\n",
    "\n",
    "    # Interpolate across the columns\n",
    "    out = tmp1 + (tmp2-tmp1) * dRow\n",
    "    return out"
   ]
  },
  {
   "cell_type": "markdown",
   "metadata": {},
   "source": [
    "## The main functions\n",
    "We define two main functions.  The first, `getNearestPrfFits`, returns only the PRF in the grid of 25x25 PRF locations provided by the mission that is nearest to the (column, row) location specified.  The second, `getPrfAtColRowFits`, does a linear interpolation between the four PRFs nearest to the location specified and returns that PRF."
   ]
  },
  {
   "cell_type": "code",
   "execution_count": null,
   "metadata": {},
   "outputs": [],
   "source": [
    "def getNearestPrfFits(col, row, ccd, camera, sector, path):\n",
    "    \"\"\"\n",
    "    Main Function\n",
    "    Return a 13x13 PRF image for a single location. No interpolation\n",
    "    \n",
    "    This function is identical to getPrfAtColRowFits except it does not perform the interpolation step.\n",
    "    \n",
    "    Inputs\n",
    "    ---------\n",
    "    col, row\n",
    "        (floats) Location on CCD to lookup. The origin of the CCD is the bottom left.\n",
    "        Increasing column increases the \"x-direction\", and row increases the \"y-direction\"\n",
    "        The column coordinate system starts at column 45.\n",
    "    ccd\n",
    "        (int) CCD number. There are 4 CCDs per camera\n",
    "    camera\n",
    "        (int) Camera number. The instrument has 4 cameras\n",
    "    sector\n",
    "        (int)  Sector number, greater than or equal to 1.\n",
    "\n",
    "    Returns\n",
    "    ---------\n",
    "    A 13x13 numpy image array of the nearest PRF to the specifed column and row.\n",
    "    \"\"\"\n",
    "    col = float(col)\n",
    "    row = float(row)\n",
    "    prfImages = []\n",
    "    \n",
    "    # Determine a datestring in the file name and the path based on ccd/camer/sector\n",
    "    datestring, addPath = pathLookup(ccd, camera, sector)\n",
    "    path = path + addPath\n",
    "    \n",
    "    # Convert the fractional pixels to the offset required for the interleaved pixels.\n",
    "    colOffset, rowOffset = getOffsetsFromPixelFractions(col, row)\n",
    "    \n",
    "    # Determine the 4 (col,row) locations with exact PRF measurements.\n",
    "    imagePos = determineFourClosestPrfLoc(col, row)\n",
    "    bestPos = imagePos[0]\n",
    "    prfArray = readOnePrfFitsFile(ccd, camera, bestPos[0], bestPos[1], path, datestring)\n",
    "            \n",
    "    prfImage = getRegSampledPrfFitsByOffset(prfArray, colOffset, rowOffset)       \n",
    "\n",
    "    return prfImage"
   ]
  },
  {
   "cell_type": "code",
   "execution_count": null,
   "metadata": {},
   "outputs": [],
   "source": [
    "def getPrfAtColRowFits(col, row, ccd, camera, sector, path):\n",
    "    \"\"\"\n",
    "    Main Function\n",
    "    Lookup a 13x13 PRF image for a single location\n",
    "    \n",
    "    Inputs\n",
    "    ---------\n",
    "    col, row\n",
    "        (floats) Location on CCD to lookup. The origin of the CCD is the bottom left.\n",
    "        Increasing column increases the \"x-direction\", and row increases the \"y-direction\"\n",
    "        The column coordinate system starts at column 45.\n",
    "    ccd\n",
    "        (int) CCD number. There are 4 CCDs per camera\n",
    "    camera\n",
    "        (int) Camera number. The instrument has 4 cameras\n",
    "    sector\n",
    "        (int)  Sector number, greater than or equal to 1.\n",
    "    path\n",
    "        (str) Directory or URL where the PRF fits files are located\n",
    "\n",
    "    Returns\n",
    "    ---------\n",
    "    A 13x13 numpy image array of the interpolated PRF.\n",
    "    \"\"\"\n",
    "    col = float(col)\n",
    "    row = float(row)\n",
    "    prfImages = []\n",
    "    \n",
    "    # Determine a datestring in the file name and the path based on ccd/camera/sector\n",
    "    datestring, subDirectory = pathLookup(ccd, camera, sector)\n",
    "    path = path + subDirectory\n",
    "    \n",
    "    # Convert the fractional pixels to the offset required for the interleaved pixels.\n",
    "    colOffset, rowOffset = getOffsetsFromPixelFractions(col, row)\n",
    "    \n",
    "    # Determine the 4 (col,row) locations with exact PRF measurements.\n",
    "    imagePos = determineFourClosestPrfLoc(col, row)\n",
    "\n",
    "    # Loop over the 4 locations and read in each file and extract the sub-pixel location.\n",
    "    for pos in imagePos:\n",
    "            prfArray = readOnePrfFitsFile(ccd, camera, pos[0], pos[1], path, datestring)\n",
    "            \n",
    "            img = getRegSampledPrfFitsByOffset(prfArray, colOffset, rowOffset)       \n",
    "            prfImages.append(img)\n",
    "\n",
    "    # Simple linear interpolate across the 4 locations.\n",
    "    interpolatedPrf = interpolatePrf(prfImages, col, row, imagePos)\n",
    "\n",
    "    return interpolatedPrf"
   ]
  },
  {
   "cell_type": "markdown",
   "metadata": {},
   "source": [
    "----"
   ]
  },
  {
   "cell_type": "markdown",
   "metadata": {},
   "source": [
    "<a id=\"obtain_PRF\"></a>\n",
    "## Obtain a PRF at a particular image location\n",
    "Notice that both of our main functions can accept either a path to the location on your local machine where the PRF fits files are stored, or a URL pointing to the same directory at MAST.  We recommend downloading the PRF fits files if you expect to use them frequently. Here we use the URL for the PRFs."
   ]
  },
  {
   "cell_type": "code",
   "execution_count": null,
   "metadata": {},
   "outputs": [],
   "source": [
    "# Define the location for which we want to retrieve the PRF.\n",
    "col = 125.2\n",
    "row = 544.1\n",
    "ccd = 2\n",
    "camera = 2\n",
    "sector = 1\n",
    "\n",
    "# This is the directory where MAST stores the prf FITS files.\n",
    "path = \"https://archive.stsci.edu/missions/tess/models/prf_fitsfiles/\"\n",
    "\n",
    "prf = getPrfAtColRowFits(col, row, ccd, camera, sector, path)\n",
    "closestPrf = getNearestPrfFits(col, row, ccd, camera, sector, path)"
   ]
  },
  {
   "cell_type": "markdown",
   "metadata": {},
   "source": [
    "Below is the code to plot both the closest PRF and a PRF derived from a linear interpolation between the 4 nearest PRFs provided in the file.  They are plotted with a log scale in order to let you really see the full extent of the PRFs.  Also, we show the difference between the two."
   ]
  },
  {
   "cell_type": "code",
   "execution_count": null,
   "metadata": {},
   "outputs": [],
   "source": [
    "# Commands to make the plots looks a bit nicer.\n",
    "kwargs = {'origin':'lower', 'interpolation':'nearest', 'cmap':plt.cm.YlGnBu_r}\n",
    "\n",
    "plt.figure(figsize=(14,3.5))\n",
    "plt.subplot(131)\n",
    "plt.imshow(np.log10(closestPrf), **kwargs)\n",
    "plt.colorbar()\n",
    "plt.title('Closest PRF')\n",
    "plt.subplot(132)\n",
    "plt.imshow(np.log10(prf), **kwargs)\n",
    "plt.colorbar()\n",
    "plt.title('Interpolated PRF')\n",
    "plt.subplot(133)\n",
    "\n",
    "diff = closestPrf - prf\n",
    "plt.imshow(diff, **kwargs)\n",
    "mx = max( np.max(diff), np.fabs(np.min(diff)) )\n",
    "plt.clim(-mx, mx)\n",
    "plt.title('Difference')\n",
    "plt.colorbar()"
   ]
  },
  {
   "cell_type": "markdown",
   "metadata": {},
   "source": [
    "## Sample of PRFs across the chip\n",
    "Let's plot the PRF across a single CCD to show how it varies. The PRF images are plotted using a log scale to see the difference in the wings of the PRF. \n",
    "\n",
    "Notice that the nice round PRF shape is in the corner of our grid, near (1850,1850).  This is because there are 4 CCDs for each camera and so this location is nearest to the center of the focal plane and has the least optical distortion.  Note that the read-out direction of the CCDs is different for each CCD. See Figure 2.6 of the [Instrument Manual](http://archive.stsci.edu/files/live/sites/mast/files/home/missions-and-data/active-missions/tess/_documents/TESS_Instrument_Handbook_v0.1.pdf#page=16) to determine the actual orientation of each CCD. \n",
    "\n",
    "As an experiment you should change the ccd value see how it varies from one CCD to another across the TESS field-of-view. \n"
   ]
  },
  {
   "cell_type": "code",
   "execution_count": null,
   "metadata": {},
   "outputs": [],
   "source": [
    "# Define the CCD for which we want to retrieve the PRFs\n",
    "sector = 1   #Values 1 - 13\n",
    "camera = 3   #values 1 - 4\n",
    "ccd = 1      #Values 1 - 4\n",
    "\n",
    "# Create plot\n",
    "plt.figure(figsize=(14, 14))\n",
    "plt.title(\"Intra Pixel PRF\")\n",
    "\n",
    "# Loop over the 25 different locations\n",
    "nplot=0\n",
    "for row in np.arange(50, 1851, 600):\n",
    "    for col in np.arange(50, 1851, 600):\n",
    "        nplot=nplot + 1\n",
    "        plt.subplot(4, 4, nplot)\n",
    "        prf = getPrfAtColRowFits(col + .5, row + .5, ccd, camera, sector, path)\n",
    "        plt.imshow(np.log10(prf), **kwargs)\n",
    "        plt.annotate(\"%.1f, %.1f\" % (col, row), (7, 11), color='w')"
   ]
  },
  {
   "cell_type": "markdown",
   "metadata": {},
   "source": [
    "## Sample the PRF at sub-pixel locations. \n",
    "The PRF varies quite a bit depending on where on the pixel the star's light falls.  As a result it is instructive to plot the PRF for one pixel at various intrapixel locations.  In the following we show a 5x5 grid of the prf above. Note that there are actually 9 different intra-pixel locations provided in the TESS Mission PRFs.  Here we plot them on a linear scale because most of the variation is in the brightest pixels of the PRF."
   ]
  },
  {
   "cell_type": "code",
   "execution_count": null,
   "metadata": {},
   "outputs": [],
   "source": [
    "# Define the location for which we want to retrieve the PRF.\n",
    "col = 125.0\n",
    "row = 1044.0\n",
    "ccd = 2\n",
    "camera = 2\n",
    "sector = 1\n",
    "\n",
    "# This is the directory where MAST stores the prf FITS files.\n",
    "path = \"https://archive.stsci.edu/missions/tess/models/prf_fitsfiles/\"\n",
    "\n",
    "kwargs['vmax'] = .2  \n",
    "plt.figure(figsize = (14, 14))\n",
    "\n",
    "# Loop over the 5 different locations\n",
    "nplot=0\n",
    "for row_add in np.arange(0.9, 0, -.2):\n",
    "    for col_add in np.arange(0.1, 1, .2):\n",
    "        nplot=nplot+1\n",
    "        plt.subplot(5,5,nplot)\n",
    "        prf = getPrfAtColRowFits(col + col_add, row + row_add, ccd, camera, sector, path)\n",
    "        plt.imshow(prf, **kwargs)\n",
    "        plt.annotate(\"%.1f, %.1f\" % (col_add, row_add), (8, 11), color='w')\n",
    "        \n",
    "_ = kwargs.pop('vmax')  #unset vmax\n"
   ]
  },
  {
   "cell_type": "markdown",
   "metadata": {},
   "source": [
    "## Compare the PRF to an Image\n",
    "In the following we pull down the image of a star observed by TESS. We do this using TessCut and Catalogs, both are packages available through astroquery.mast. MAST maintains a separate tutorial on how to use these tools. Tesscut cuts out a timeseries of a subsection of the TESS FFIs.  We plot that image and attmept to estimate a PRF for that star. This examples is done for TIC 307214209. It is chosen because it is relatively isolated in the field, making it easier to match the PRFs.\n"
   ]
  },
  {
   "cell_type": "code",
   "execution_count": null,
   "metadata": {},
   "outputs": [],
   "source": [
    "from astroquery.mast import Tesscut\n",
    "from astroquery.mast import Catalogs\n",
    "\n",
    "ticid = 307214209\n",
    "target = \"TIC %u\" % ticid\n",
    "size = 13\n",
    "\n",
    "catalogData = Catalogs.query_criteria(catalog = \"Tic\", ID = ticid)\n",
    "ra = catalogData['ra']\n",
    "dec = catalogData['dec']\n",
    "\n",
    "coord=\"%f, %f\" % (ra,dec)"
   ]
  },
  {
   "cell_type": "markdown",
   "metadata": {},
   "source": [
    "### Use Tesscut to retrieve a 13x13 square image from a calibrated FFI\n",
    "TESScut requires a string containing the RA and Dec of the location and a size for how big the cutout should be. I then take the median of all the images in the stack for comparison to the PRF.  The Header contains information about the location of the pixels on the original calibrated FFI. 1CRV4P and 2CRV4P provide the column and row of the center of the cutout in the original physical coordinate system of the FFI."
   ]
  },
  {
   "cell_type": "code",
   "execution_count": null,
   "metadata": {},
   "outputs": [],
   "source": [
    "hdulist = Tesscut.get_cutouts(coordinates=coord, size=size)\n",
    "n = 1 # There is more than one sector, we chose the second one"
   ]
  },
  {
   "cell_type": "markdown",
   "metadata": {},
   "source": [
    "### Determine the column and row of the central pixel"
   ]
  },
  {
   "cell_type": "code",
   "execution_count": null,
   "metadata": {},
   "outputs": [],
   "source": [
    "# Pull out the location of the middle of the CCD from the Physics WCS in the header.\n",
    "image_head = hdulist[n][1].header\n",
    "prime_head = hdulist[n][0].header\n",
    "ap_head = hdulist[n][2].header\n",
    "col_center = image_head['1CRV4P']\n",
    "row_center = image_head['2CRV4P']\n",
    "print(\"Header col,row: %f, %f\" % (col_center, row_center))"
   ]
  },
  {
   "cell_type": "markdown",
   "metadata": {},
   "source": [
    "### Determine the location of the star\n",
    "Usually, if the TIC is accurate, the location of the star will be right in the center. In case it is not, we look for the brightest pixel in the median of our time series of images and request our PRF for that location. In this case, we end up with the central pixel."
   ]
  },
  {
   "cell_type": "code",
   "execution_count": null,
   "metadata": {},
   "outputs": [],
   "source": [
    "# Get the image of the median of the time series.\n",
    "image_array = hdulist[n][1].data['FLUX']\n",
    "image_stack = np.median(image_array,axis=0)\n",
    "\n",
    "sortedindex=np.dstack(np.unravel_index(np.argsort(image_stack.ravel()), (13, 13)))\n",
    "brightest = sortedindex[-1][-1]\n",
    "bright_col = brightest[0] - 6 + col_center\n",
    "bright_row = brightest[1] - 6 + row_center\n",
    "\n",
    "print(\"Bright star col,row: %f, %f\" % (bright_col, bright_row))"
   ]
  },
  {
   "cell_type": "markdown",
   "metadata": {},
   "source": [
    "### Look up Sector, Camera, and CCD\n",
    "Use the TessCut header to determine the sector, camera, and ccd of the image."
   ]
  },
  {
   "cell_type": "code",
   "execution_count": null,
   "metadata": {},
   "outputs": [],
   "source": [
    "camera = prime_head['CAMERA']\n",
    "ccd = prime_head['CCD']\n",
    "sector = prime_head['SECTOR']\n",
    "path = \"https://archive.stsci.edu/missions/tess/models/prf_fitsfiles/\"\n",
    "prf_col_offset = 44"
   ]
  },
  {
   "cell_type": "markdown",
   "metadata": {},
   "source": [
    "### Plot the sub-pixel PRFs\n",
    "Below we compare the image from the FFI to the various sub-pixel locations to choose the one that looks most like the image. For most use cases, you would most likely want to perform a fit, but for our purposes of understanding the PRFs, this will be sufficient.\n",
    "\n",
    "Notice we define an arbitrary offset above, prf_col_offset. We need to add a 44 pixel offset to the column in the PRF request.  This is because the PRF request uses a different physical coordinate system than our calibrated FFIs. They use 45 as their first column but the calibrated FFIs use 1 as the first column. \n",
    "\n",
    "First we plot an image of the median of all the images in the pixel time series returned by TESScut."
   ]
  },
  {
   "cell_type": "code",
   "execution_count": null,
   "metadata": {},
   "outputs": [],
   "source": [
    "plt.imshow(image_stack, **kwargs)"
   ]
  },
  {
   "cell_type": "markdown",
   "metadata": {},
   "source": [
    "Here is a 5x5 grid showing the PRF as it would look if it fell on different parts of the pixel. A quick chi-by-eye tells me that (0.7,0.9) is a pretty good match."
   ]
  },
  {
   "cell_type": "code",
   "execution_count": null,
   "metadata": {},
   "outputs": [],
   "source": [
    "# Loop over the 5 different locations\n",
    "plt.figure(figsize = (14, 14))\n",
    "nplot = 0\n",
    "for row_add in np.arange(0.9, 0, -.2):\n",
    "    for col_add in np.arange(0.1,1,.2):\n",
    "        nplot=nplot+1\n",
    "        plt.subplot(5,5,nplot)\n",
    "        col = bright_col + col_add + prf_col_offset\n",
    "        row = bright_row + row_add\n",
    "        prf = getPrfAtColRowFits(col, row, ccd, camera, sector, path)\n",
    "        plt.imshow(prf, **kwargs)\n",
    "        plt.annotate(\"%.1f, %.1f\" % (col_add, row_add), (8,11), color='w')"
   ]
  },
  {
   "cell_type": "markdown",
   "metadata": {},
   "source": [
    "Here we obtain the interpolated PRF for our image given the column and row we determinted, including the subpixel information. "
   ]
  },
  {
   "cell_type": "code",
   "execution_count": null,
   "metadata": {},
   "outputs": [],
   "source": [
    "# offsets from the corner of the pixel.\n",
    "offcol = .7\n",
    "offrow = .9\n",
    "\n",
    "# Retrieve the PRF using our functions above.\n",
    "prf = getPrfAtColRowFits(bright_col + offcol + prf_col_offset, bright_row + offrow, ccd, camera, sector, path)"
   ]
  },
  {
   "cell_type": "markdown",
   "metadata": {},
   "source": [
    "### Compare PRF and FFI cutout\n",
    "Here we look at the difference between our actual image and the PRF we requested. To do this well we need to subtact the background from the image and then we need to scale up the PRF to match the flux of our star. We finish by plotting the background subtracted image, the flux-scaled PRF, and the significance of the difference (assuming Poisson statistics in the image). "
   ]
  },
  {
   "cell_type": "code",
   "execution_count": null,
   "metadata": {},
   "outputs": [],
   "source": [
    "# estimate background using median\n",
    "image_subbkg =  image_stack - np.median(image_stack)\n",
    "# Scaling based on brightest pixels.\n",
    "scale = np.max(image_subbkg)/np.max(prf)\n",
    "# Take the difference\n",
    "diff =  image_subbkg - prf * scale \n",
    "\n",
    "# Estimate the signficance of the residuals\n",
    "sigma = diff / (np.sqrt(np.abs(image_subbkg)) + .05)\n",
    "\n",
    "# Plot\n",
    "vm = np.max(image_subbkg)\n",
    "plt.figure(figsize = (14, 4))\n",
    "plt.subplot(131)\n",
    "plt.imshow(image_stack, **kwargs, vmax=vm)\n",
    "plt.title('Target Pixel File')\n",
    "plt.colorbar()\n",
    "\n",
    "plt.subplot(132)\n",
    "plt.imshow(prf * scale, **kwargs, vmax = vm)\n",
    "plt.title('PRF')\n",
    "plt.colorbar()\n",
    "\n",
    "plt.subplot(133)\n",
    "plt.imshow(sigma, origin = \"lower\", interpolation = 'nearest', cmap = 'RdBu', vmin = -50, vmax = 50)\n",
    "plt.title('Significance of Residuals')\n",
    "plt.colorbar()"
   ]
  },
  {
   "cell_type": "markdown",
   "metadata": {},
   "source": [
    "### Residuals\n",
    "This is not an optimal fit. By playing around with `offcol` and `offrow` above, you will be able to find a slightly better fit than the one shown above.  (Hint, try (0.8, 0.9) for the column and row offsets.)\n",
    "\n",
    "We also did not account for all the stars in our image. We picked a rather isolated, 8th magnitude star, but there is still another 10th magnitude star about 7 pixels away, and a 15th magnitude star about 5 pixels away from our star (both are towards the upper left in our image). A good PRF fit will include all of this information. Both of these can be seen clearly in the residuals. We also see some residual signal from our primary star that hopefully a better fit that properly scales the PRF to the flux of the star will remove more cleanly."
   ]
  },
  {
   "cell_type": "markdown",
   "metadata": {},
   "source": [
    "### Summary\n",
    "This notebook provided you with code to open the PRFs and retrieve one that matches the physical location of a star on a real TESS image.  You learned that the PRF depends not only on the location of the star on the chip, but also varies significantly by the sub-pixel location.  The wings of the PRFs depend strongly on the location of the star on the chip with the most circular shapes near the center of the image. The shape of the bright central peak of the PRF depends strongly on the sub-pixel location.  "
   ]
  },
  {
   "cell_type": "markdown",
   "metadata": {},
   "source": [
    "<a id=\"about_ID\"></a>\n",
    "## About this Notebook\n",
    "**Authors:** \n",
    "<br>Susan E. Mullally, STScI \n",
    "<br>Fergal Mullally\n",
    "<br>**Updated On:** 2019-06-13"
   ]
  },
  {
   "cell_type": "markdown",
   "metadata": {},
   "source": [
    "[Top of Page](#title_ID)\n",
    "<img style=\"float: right;\" src=\"https://raw.githubusercontent.com/spacetelescope/notebooks/master/assets/stsci_pri_combo_mark_horizonal_white_bkgd.png\" alt=\"STScI logo\" width=\"200px\"/> "
   ]
  },
  {
   "cell_type": "markdown",
   "metadata": {},
   "source": [
    "### Assert Statements\n",
    "Test to check that the code is returning the correct PRFs. Do not edit the following lines."
   ]
  },
  {
   "cell_type": "code",
   "execution_count": null,
   "metadata": {},
   "outputs": [],
   "source": [
    "# Assert statements to ensure that the PRFs are being calculated correctly\n",
    "prf = getPrfAtColRowFits(120.1, 500.0, 1, 2, 1, \"https://archive.stsci.edu/missions/tess/models/prf_fitsfiles/\")\n",
    "assert np.abs(prf[0,0] - 0.00023311895) < 2e-10\n",
    "\n",
    "prf = getPrfAtColRowFits(1000.1, 1500.0, 1, 2, 1, \"https://archive.stsci.edu/missions/tess/models/prf_fitsfiles/\")\n",
    "assert np.abs(prf[0,0] - 0.0001082187719) < 2e-10\n",
    "assert np.abs(prf[12,12] - 0.00013416155932937155) < 2e-10\n",
    "\n",
    "prf = getPrfAtColRowFits(1000.1, 1500.0, 3, 1, 8, \"https://archive.stsci.edu/missions/tess/models/prf_fitsfiles/\")\n",
    "assert np.abs(prf[0,0] - 0.00019209127583606498) < 2e-10"
   ]
  }
 ],
 "metadata": {
  "kernelspec": {
   "display_name": "Python 3 (ipykernel)",
   "language": "python",
   "name": "python3"
  },
  "language_info": {
   "codemirror_mode": {
    "name": "ipython",
    "version": 3
   },
   "file_extension": ".py",
   "mimetype": "text/x-python",
   "name": "python",
   "nbconvert_exporter": "python",
   "pygments_lexer": "ipython3",
   "version": "3.8.12"
  }
 },
 "nbformat": 4,
 "nbformat_minor": 2
}
