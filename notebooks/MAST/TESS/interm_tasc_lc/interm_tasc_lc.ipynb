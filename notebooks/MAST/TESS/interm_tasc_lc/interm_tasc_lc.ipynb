{
 "cells": [
  {
   "cell_type": "markdown",
   "metadata": {},
   "source": [
    "<a id=\"title_ID\"></a>\n",
    "# Intermediate: Finding Flares and Variable Stars in TASC Light Curves\n",
    "\n",
    "This notebook demostrates MAST's programmatic tools for accessing TESS time series data while exploring a flaring star from the literature ([G&uuml;nther et al 2019](https://arxiv.org/abs/1901.00443)) and a nearby variable star.  \n",
    "\n",
    "The following topics will be covered:\n",
    "- Using the MAST API to get mission pipeline and TASOC light curves\n",
    "- Plotting TESS light curves in Python\n",
    "- Using the MAST API to make an full frame image (FFI) cutout\n",
    "- Creating a movie of TPF frames in Python\n",
    "- Using the MAST API to get a list of TESS Input Catalog (TIC) sources\n",
    "- Over plotting TIC sources on TESS images\n",
    "- Exploring the period of a variable star"
   ]
  },
  {
   "cell_type": "markdown",
   "metadata": {},
   "source": [
    "### Table of contents\n",
    "\n",
    "1. [Exploring a known stellar flare](#Exploring-a-stellar-flare) \n",
    "    1. [Querying MAST](#Querying-MAST)\n",
    "    2. [Downloading the light curves](#Downloading-the-light-curves)\n",
    "    3. [Plotting the light curves](#Plotting-the-light-curves)\n",
    "    4. [Making an animation](#Making-an-animation)\n",
    "2. [Exploring a variable star](#Exploring-a-variable-star) \n",
    "    1. [Overlaying TESS Input Catalog sources](#Overlaying-TIC-sources)\n",
    "    2. [Getting the variable star light curve](#Getting-the-variable-star-light-curve)\n",
    "    3. [Plotting the variable star light curve](#Plotting-the-variable-star-light-curve)\n",
    "    4. [Finding the period of the variable star](#Finding-the-period)\n",
    "4. [Additional Resources](#Additional-Resources)  \n",
    "5. [About this Notebook](#About-this-Notebook) "
   ]
  },
  {
   "cell_type": "markdown",
   "metadata": {},
   "source": [
    "***"
   ]
  },
  {
   "cell_type": "markdown",
   "metadata": {},
   "source": [
    "## Terminology\n",
    "\n",
    "- **TESS:** The Transiting Exoplanet Survey Satellite\n",
    "- **TASOC:** The TESS Asteroseismic Science Operations Center\n",
    "- **Sector:** TESS observed the sky in regions of 24x96 degrees along the southern, then northern, ecliptic hemispheres. Each of these regions is referred to as a \"sector\", starting with Sector 1.\n",
    "- **TIC:** The TESS input catalog.\n",
    "- **FFI:** TESS periodically reads out the entire frame of all four cameras, nominally every 30 minutes, and stores them as full frame images (FFIs).\n",
    "- **TPF:** Target Pixel File, a fits file containing stacks of small images centered on a target, one image for every timestamp the telescope took data.\n",
    "- **HDU:** Header Data Unit. A FITS file is made up of HDUs that contain data and metadata relating to the file. The first HDU is called the primary HDU, and anything that follows is considered an \"extension\", e.g., \"the first FITS extension\", \"the second FITS extension\", etc.\n",
    "- **HDUList:** A list of HDUs that comprise a fits file.\n",
    "- **BJD:** Barycentric Julian Date, the Julian Date that has been corrected for differences in the Earth's position with respect to the Solar System center of mass.\n",
    "- **BTJD:** Barycentric TESS Julian Date, the timestamp measured in BJD, but offset by 2457000.0. I.e., BTJD = BJD - 2457000.0\n",
    "- **WCS:** World Coordinate System, the coordinates that locate an astronomical object on the sky. \n",
    "\n",
    "***"
   ]
  },
  {
   "cell_type": "markdown",
   "metadata": {},
   "source": [
    "## Imports\n",
    "\n",
    "In this notbook we will use the MAST module of Astroquery (`astroquery.mast`) to query and download data, and various `astropy` and `numpy` functions to manipulate the data. We will use both the `matplotlib` and `bokeh` plotting packages to visualize our data as they have different strengths and weaknesses."
   ]
  },
  {
   "cell_type": "code",
   "execution_count": 1,
   "metadata": {
    "scrolled": true
   },
   "outputs": [
    {
     "data": {
      "text/html": [
       "<div class=\"bk-root\">\n",
       "        <a href=\"https://bokeh.org\" target=\"_blank\" class=\"bk-logo bk-logo-small bk-logo-notebook\"></a>\n",
       "        <span id=\"1002\">Loading BokehJS ...</span>\n",
       "    </div>\n"
      ]
     },
     "metadata": {},
     "output_type": "display_data"
    },
    {
     "data": {
      "application/javascript": [
       "(function(root) {\n",
       "  function now() {\n",
       "    return new Date();\n",
       "  }\n",
       "\n",
       "  const force = true;\n",
       "\n",
       "  if (typeof root._bokeh_onload_callbacks === \"undefined\" || force === true) {\n",
       "    root._bokeh_onload_callbacks = [];\n",
       "    root._bokeh_is_loading = undefined;\n",
       "  }\n",
       "\n",
       "const JS_MIME_TYPE = 'application/javascript';\n",
       "  const HTML_MIME_TYPE = 'text/html';\n",
       "  const EXEC_MIME_TYPE = 'application/vnd.bokehjs_exec.v0+json';\n",
       "  const CLASS_NAME = 'output_bokeh rendered_html';\n",
       "\n",
       "  /**\n",
       "   * Render data to the DOM node\n",
       "   */\n",
       "  function render(props, node) {\n",
       "    const script = document.createElement(\"script\");\n",
       "    node.appendChild(script);\n",
       "  }\n",
       "\n",
       "  /**\n",
       "   * Handle when an output is cleared or removed\n",
       "   */\n",
       "  function handleClearOutput(event, handle) {\n",
       "    const cell = handle.cell;\n",
       "\n",
       "    const id = cell.output_area._bokeh_element_id;\n",
       "    const server_id = cell.output_area._bokeh_server_id;\n",
       "    // Clean up Bokeh references\n",
       "    if (id != null && id in Bokeh.index) {\n",
       "      Bokeh.index[id].model.document.clear();\n",
       "      delete Bokeh.index[id];\n",
       "    }\n",
       "\n",
       "    if (server_id !== undefined) {\n",
       "      // Clean up Bokeh references\n",
       "      const cmd_clean = \"from bokeh.io.state import curstate; print(curstate().uuid_to_server['\" + server_id + \"'].get_sessions()[0].document.roots[0]._id)\";\n",
       "      cell.notebook.kernel.execute(cmd_clean, {\n",
       "        iopub: {\n",
       "          output: function(msg) {\n",
       "            const id = msg.content.text.trim();\n",
       "            if (id in Bokeh.index) {\n",
       "              Bokeh.index[id].model.document.clear();\n",
       "              delete Bokeh.index[id];\n",
       "            }\n",
       "          }\n",
       "        }\n",
       "      });\n",
       "      // Destroy server and session\n",
       "      const cmd_destroy = \"import bokeh.io.notebook as ion; ion.destroy_server('\" + server_id + \"')\";\n",
       "      cell.notebook.kernel.execute(cmd_destroy);\n",
       "    }\n",
       "  }\n",
       "\n",
       "  /**\n",
       "   * Handle when a new output is added\n",
       "   */\n",
       "  function handleAddOutput(event, handle) {\n",
       "    const output_area = handle.output_area;\n",
       "    const output = handle.output;\n",
       "\n",
       "    // limit handleAddOutput to display_data with EXEC_MIME_TYPE content only\n",
       "    if ((output.output_type != \"display_data\") || (!Object.prototype.hasOwnProperty.call(output.data, EXEC_MIME_TYPE))) {\n",
       "      return\n",
       "    }\n",
       "\n",
       "    const toinsert = output_area.element.find(\".\" + CLASS_NAME.split(' ')[0]);\n",
       "\n",
       "    if (output.metadata[EXEC_MIME_TYPE][\"id\"] !== undefined) {\n",
       "      toinsert[toinsert.length - 1].firstChild.textContent = output.data[JS_MIME_TYPE];\n",
       "      // store reference to embed id on output_area\n",
       "      output_area._bokeh_element_id = output.metadata[EXEC_MIME_TYPE][\"id\"];\n",
       "    }\n",
       "    if (output.metadata[EXEC_MIME_TYPE][\"server_id\"] !== undefined) {\n",
       "      const bk_div = document.createElement(\"div\");\n",
       "      bk_div.innerHTML = output.data[HTML_MIME_TYPE];\n",
       "      const script_attrs = bk_div.children[0].attributes;\n",
       "      for (let i = 0; i < script_attrs.length; i++) {\n",
       "        toinsert[toinsert.length - 1].firstChild.setAttribute(script_attrs[i].name, script_attrs[i].value);\n",
       "        toinsert[toinsert.length - 1].firstChild.textContent = bk_div.children[0].textContent\n",
       "      }\n",
       "      // store reference to server id on output_area\n",
       "      output_area._bokeh_server_id = output.metadata[EXEC_MIME_TYPE][\"server_id\"];\n",
       "    }\n",
       "  }\n",
       "\n",
       "  function register_renderer(events, OutputArea) {\n",
       "\n",
       "    function append_mime(data, metadata, element) {\n",
       "      // create a DOM node to render to\n",
       "      const toinsert = this.create_output_subarea(\n",
       "        metadata,\n",
       "        CLASS_NAME,\n",
       "        EXEC_MIME_TYPE\n",
       "      );\n",
       "      this.keyboard_manager.register_events(toinsert);\n",
       "      // Render to node\n",
       "      const props = {data: data, metadata: metadata[EXEC_MIME_TYPE]};\n",
       "      render(props, toinsert[toinsert.length - 1]);\n",
       "      element.append(toinsert);\n",
       "      return toinsert\n",
       "    }\n",
       "\n",
       "    /* Handle when an output is cleared or removed */\n",
       "    events.on('clear_output.CodeCell', handleClearOutput);\n",
       "    events.on('delete.Cell', handleClearOutput);\n",
       "\n",
       "    /* Handle when a new output is added */\n",
       "    events.on('output_added.OutputArea', handleAddOutput);\n",
       "\n",
       "    /**\n",
       "     * Register the mime type and append_mime function with output_area\n",
       "     */\n",
       "    OutputArea.prototype.register_mime_type(EXEC_MIME_TYPE, append_mime, {\n",
       "      /* Is output safe? */\n",
       "      safe: true,\n",
       "      /* Index of renderer in `output_area.display_order` */\n",
       "      index: 0\n",
       "    });\n",
       "  }\n",
       "\n",
       "  // register the mime type if in Jupyter Notebook environment and previously unregistered\n",
       "  if (root.Jupyter !== undefined) {\n",
       "    const events = require('base/js/events');\n",
       "    const OutputArea = require('notebook/js/outputarea').OutputArea;\n",
       "\n",
       "    if (OutputArea.prototype.mime_types().indexOf(EXEC_MIME_TYPE) == -1) {\n",
       "      register_renderer(events, OutputArea);\n",
       "    }\n",
       "  }\n",
       "  if (typeof (root._bokeh_timeout) === \"undefined\" || force === true) {\n",
       "    root._bokeh_timeout = Date.now() + 5000;\n",
       "    root._bokeh_failed_load = false;\n",
       "  }\n",
       "\n",
       "  const NB_LOAD_WARNING = {'data': {'text/html':\n",
       "     \"<div style='background-color: #fdd'>\\n\"+\n",
       "     \"<p>\\n\"+\n",
       "     \"BokehJS does not appear to have successfully loaded. If loading BokehJS from CDN, this \\n\"+\n",
       "     \"may be due to a slow or bad network connection. Possible fixes:\\n\"+\n",
       "     \"</p>\\n\"+\n",
       "     \"<ul>\\n\"+\n",
       "     \"<li>re-rerun `output_notebook()` to attempt to load from CDN again, or</li>\\n\"+\n",
       "     \"<li>use INLINE resources instead, as so:</li>\\n\"+\n",
       "     \"</ul>\\n\"+\n",
       "     \"<code>\\n\"+\n",
       "     \"from bokeh.resources import INLINE\\n\"+\n",
       "     \"output_notebook(resources=INLINE)\\n\"+\n",
       "     \"</code>\\n\"+\n",
       "     \"</div>\"}};\n",
       "\n",
       "  function display_loaded() {\n",
       "    const el = document.getElementById(\"1002\");\n",
       "    if (el != null) {\n",
       "      el.textContent = \"BokehJS is loading...\";\n",
       "    }\n",
       "    if (root.Bokeh !== undefined) {\n",
       "      if (el != null) {\n",
       "        el.textContent = \"BokehJS \" + root.Bokeh.version + \" successfully loaded.\";\n",
       "      }\n",
       "    } else if (Date.now() < root._bokeh_timeout) {\n",
       "      setTimeout(display_loaded, 100)\n",
       "    }\n",
       "  }\n",
       "\n",
       "  function run_callbacks() {\n",
       "    try {\n",
       "      root._bokeh_onload_callbacks.forEach(function(callback) {\n",
       "        if (callback != null)\n",
       "          callback();\n",
       "      });\n",
       "    } finally {\n",
       "      delete root._bokeh_onload_callbacks\n",
       "    }\n",
       "    console.debug(\"Bokeh: all callbacks have finished\");\n",
       "  }\n",
       "\n",
       "  function load_libs(css_urls, js_urls, callback) {\n",
       "    if (css_urls == null) css_urls = [];\n",
       "    if (js_urls == null) js_urls = [];\n",
       "\n",
       "    root._bokeh_onload_callbacks.push(callback);\n",
       "    if (root._bokeh_is_loading > 0) {\n",
       "      console.debug(\"Bokeh: BokehJS is being loaded, scheduling callback at\", now());\n",
       "      return null;\n",
       "    }\n",
       "    if (js_urls == null || js_urls.length === 0) {\n",
       "      run_callbacks();\n",
       "      return null;\n",
       "    }\n",
       "    console.debug(\"Bokeh: BokehJS not loaded, scheduling load and callback at\", now());\n",
       "    root._bokeh_is_loading = css_urls.length + js_urls.length;\n",
       "\n",
       "    function on_load() {\n",
       "      root._bokeh_is_loading--;\n",
       "      if (root._bokeh_is_loading === 0) {\n",
       "        console.debug(\"Bokeh: all BokehJS libraries/stylesheets loaded\");\n",
       "        run_callbacks()\n",
       "      }\n",
       "    }\n",
       "\n",
       "    function on_error(url) {\n",
       "      console.error(\"failed to load \" + url);\n",
       "    }\n",
       "\n",
       "    for (let i = 0; i < css_urls.length; i++) {\n",
       "      const url = css_urls[i];\n",
       "      const element = document.createElement(\"link\");\n",
       "      element.onload = on_load;\n",
       "      element.onerror = on_error.bind(null, url);\n",
       "      element.rel = \"stylesheet\";\n",
       "      element.type = \"text/css\";\n",
       "      element.href = url;\n",
       "      console.debug(\"Bokeh: injecting link tag for BokehJS stylesheet: \", url);\n",
       "      document.body.appendChild(element);\n",
       "    }\n",
       "\n",
       "    for (let i = 0; i < js_urls.length; i++) {\n",
       "      const url = js_urls[i];\n",
       "      const element = document.createElement('script');\n",
       "      element.onload = on_load;\n",
       "      element.onerror = on_error.bind(null, url);\n",
       "      element.async = false;\n",
       "      element.src = url;\n",
       "      console.debug(\"Bokeh: injecting script tag for BokehJS library: \", url);\n",
       "      document.head.appendChild(element);\n",
       "    }\n",
       "  };\n",
       "\n",
       "  function inject_raw_css(css) {\n",
       "    const element = document.createElement(\"style\");\n",
       "    element.appendChild(document.createTextNode(css));\n",
       "    document.body.appendChild(element);\n",
       "  }\n",
       "\n",
       "  const js_urls = [\"https://cdn.bokeh.org/bokeh/release/bokeh-2.4.3.min.js\", \"https://cdn.bokeh.org/bokeh/release/bokeh-gl-2.4.3.min.js\", \"https://cdn.bokeh.org/bokeh/release/bokeh-widgets-2.4.3.min.js\", \"https://cdn.bokeh.org/bokeh/release/bokeh-tables-2.4.3.min.js\", \"https://cdn.bokeh.org/bokeh/release/bokeh-mathjax-2.4.3.min.js\"];\n",
       "  const css_urls = [];\n",
       "\n",
       "  const inline_js = [    function(Bokeh) {\n",
       "      Bokeh.set_log_level(\"info\");\n",
       "    },\n",
       "function(Bokeh) {\n",
       "    }\n",
       "  ];\n",
       "\n",
       "  function run_inline_js() {\n",
       "    if (root.Bokeh !== undefined || force === true) {\n",
       "          for (let i = 0; i < inline_js.length; i++) {\n",
       "      inline_js[i].call(root, root.Bokeh);\n",
       "    }\n",
       "if (force === true) {\n",
       "        display_loaded();\n",
       "      }} else if (Date.now() < root._bokeh_timeout) {\n",
       "      setTimeout(run_inline_js, 100);\n",
       "    } else if (!root._bokeh_failed_load) {\n",
       "      console.log(\"Bokeh: BokehJS failed to load within specified timeout.\");\n",
       "      root._bokeh_failed_load = true;\n",
       "    } else if (force !== true) {\n",
       "      const cell = $(document.getElementById(\"1002\")).parents('.cell').data().cell;\n",
       "      cell.output_area.append_execute_result(NB_LOAD_WARNING)\n",
       "    }\n",
       "  }\n",
       "\n",
       "  if (root._bokeh_is_loading === 0) {\n",
       "    console.debug(\"Bokeh: BokehJS loaded, going straight to plotting\");\n",
       "    run_inline_js();\n",
       "  } else {\n",
       "    load_libs(css_urls, js_urls, function() {\n",
       "      console.debug(\"Bokeh: BokehJS plotting callback run at\", now());\n",
       "      run_inline_js();\n",
       "    });\n",
       "  }\n",
       "}(window));"
      ],
      "application/vnd.bokehjs_load.v0+json": "(function(root) {\n  function now() {\n    return new Date();\n  }\n\n  const force = true;\n\n  if (typeof root._bokeh_onload_callbacks === \"undefined\" || force === true) {\n    root._bokeh_onload_callbacks = [];\n    root._bokeh_is_loading = undefined;\n  }\n\n\n  if (typeof (root._bokeh_timeout) === \"undefined\" || force === true) {\n    root._bokeh_timeout = Date.now() + 5000;\n    root._bokeh_failed_load = false;\n  }\n\n  const NB_LOAD_WARNING = {'data': {'text/html':\n     \"<div style='background-color: #fdd'>\\n\"+\n     \"<p>\\n\"+\n     \"BokehJS does not appear to have successfully loaded. If loading BokehJS from CDN, this \\n\"+\n     \"may be due to a slow or bad network connection. Possible fixes:\\n\"+\n     \"</p>\\n\"+\n     \"<ul>\\n\"+\n     \"<li>re-rerun `output_notebook()` to attempt to load from CDN again, or</li>\\n\"+\n     \"<li>use INLINE resources instead, as so:</li>\\n\"+\n     \"</ul>\\n\"+\n     \"<code>\\n\"+\n     \"from bokeh.resources import INLINE\\n\"+\n     \"output_notebook(resources=INLINE)\\n\"+\n     \"</code>\\n\"+\n     \"</div>\"}};\n\n  function display_loaded() {\n    const el = document.getElementById(\"1002\");\n    if (el != null) {\n      el.textContent = \"BokehJS is loading...\";\n    }\n    if (root.Bokeh !== undefined) {\n      if (el != null) {\n        el.textContent = \"BokehJS \" + root.Bokeh.version + \" successfully loaded.\";\n      }\n    } else if (Date.now() < root._bokeh_timeout) {\n      setTimeout(display_loaded, 100)\n    }\n  }\n\n  function run_callbacks() {\n    try {\n      root._bokeh_onload_callbacks.forEach(function(callback) {\n        if (callback != null)\n          callback();\n      });\n    } finally {\n      delete root._bokeh_onload_callbacks\n    }\n    console.debug(\"Bokeh: all callbacks have finished\");\n  }\n\n  function load_libs(css_urls, js_urls, callback) {\n    if (css_urls == null) css_urls = [];\n    if (js_urls == null) js_urls = [];\n\n    root._bokeh_onload_callbacks.push(callback);\n    if (root._bokeh_is_loading > 0) {\n      console.debug(\"Bokeh: BokehJS is being loaded, scheduling callback at\", now());\n      return null;\n    }\n    if (js_urls == null || js_urls.length === 0) {\n      run_callbacks();\n      return null;\n    }\n    console.debug(\"Bokeh: BokehJS not loaded, scheduling load and callback at\", now());\n    root._bokeh_is_loading = css_urls.length + js_urls.length;\n\n    function on_load() {\n      root._bokeh_is_loading--;\n      if (root._bokeh_is_loading === 0) {\n        console.debug(\"Bokeh: all BokehJS libraries/stylesheets loaded\");\n        run_callbacks()\n      }\n    }\n\n    function on_error(url) {\n      console.error(\"failed to load \" + url);\n    }\n\n    for (let i = 0; i < css_urls.length; i++) {\n      const url = css_urls[i];\n      const element = document.createElement(\"link\");\n      element.onload = on_load;\n      element.onerror = on_error.bind(null, url);\n      element.rel = \"stylesheet\";\n      element.type = \"text/css\";\n      element.href = url;\n      console.debug(\"Bokeh: injecting link tag for BokehJS stylesheet: \", url);\n      document.body.appendChild(element);\n    }\n\n    for (let i = 0; i < js_urls.length; i++) {\n      const url = js_urls[i];\n      const element = document.createElement('script');\n      element.onload = on_load;\n      element.onerror = on_error.bind(null, url);\n      element.async = false;\n      element.src = url;\n      console.debug(\"Bokeh: injecting script tag for BokehJS library: \", url);\n      document.head.appendChild(element);\n    }\n  };\n\n  function inject_raw_css(css) {\n    const element = document.createElement(\"style\");\n    element.appendChild(document.createTextNode(css));\n    document.body.appendChild(element);\n  }\n\n  const js_urls = [\"https://cdn.bokeh.org/bokeh/release/bokeh-2.4.3.min.js\", \"https://cdn.bokeh.org/bokeh/release/bokeh-gl-2.4.3.min.js\", \"https://cdn.bokeh.org/bokeh/release/bokeh-widgets-2.4.3.min.js\", \"https://cdn.bokeh.org/bokeh/release/bokeh-tables-2.4.3.min.js\", \"https://cdn.bokeh.org/bokeh/release/bokeh-mathjax-2.4.3.min.js\"];\n  const css_urls = [];\n\n  const inline_js = [    function(Bokeh) {\n      Bokeh.set_log_level(\"info\");\n    },\nfunction(Bokeh) {\n    }\n  ];\n\n  function run_inline_js() {\n    if (root.Bokeh !== undefined || force === true) {\n          for (let i = 0; i < inline_js.length; i++) {\n      inline_js[i].call(root, root.Bokeh);\n    }\nif (force === true) {\n        display_loaded();\n      }} else if (Date.now() < root._bokeh_timeout) {\n      setTimeout(run_inline_js, 100);\n    } else if (!root._bokeh_failed_load) {\n      console.log(\"Bokeh: BokehJS failed to load within specified timeout.\");\n      root._bokeh_failed_load = true;\n    } else if (force !== true) {\n      const cell = $(document.getElementById(\"1002\")).parents('.cell').data().cell;\n      cell.output_area.append_execute_result(NB_LOAD_WARNING)\n    }\n  }\n\n  if (root._bokeh_is_loading === 0) {\n    console.debug(\"Bokeh: BokehJS loaded, going straight to plotting\");\n    run_inline_js();\n  } else {\n    load_libs(css_urls, js_urls, function() {\n      console.debug(\"Bokeh: BokehJS plotting callback run at\", now());\n      run_inline_js();\n    });\n  }\n}(window));"
     },
     "metadata": {},
     "output_type": "display_data"
    }
   ],
   "source": [
    "# For querying for data\n",
    "from astroquery.mast import Tesscut, Observations, Catalogs\n",
    "\n",
    "# For manipulating data\n",
    "import numpy as np\n",
    "\n",
    "from astropy.table import Table\n",
    "from astropy.coordinates import SkyCoord\n",
    "from astropy.io import fits\n",
    "from astropy.wcs import WCS\n",
    "from astropy.timeseries import LombScargle\n",
    "from astropy.time import Time\n",
    "import astropy.units as u\n",
    "\n",
    "# For matplotlib plotting\n",
    "import matplotlib\n",
    "%matplotlib inline\n",
    "\n",
    "import matplotlib.pyplot as plt\n",
    "import matplotlib.animation as animation\n",
    "\n",
    "# For animation display\n",
    "from matplotlib import rc\n",
    "from IPython.display import HTML\n",
    "rc('animation', html='jshtml')\n",
    "\n",
    "# For bokeh plotting\n",
    "from bokeh import plotting\n",
    "from bokeh.models import Span\n",
    "plotting.output_notebook()"
   ]
  },
  {
   "cell_type": "markdown",
   "metadata": {},
   "source": [
    "***"
   ]
  },
  {
   "cell_type": "markdown",
   "metadata": {},
   "source": [
    "## Exploring a stellar flare\n",
    "\n",
    "### Selecting the flare\n",
    "\n",
    "We will start with a known flare from the literature, in this case from [G&uuml;nther, M. N., Zhan, Z., Seager, S.,\n",
    "et al. 2019, arXiv e-prints, arXiv:1901.00443](https://arxiv.org/abs/1901.00443). We picked a particularly long flare to give us the best chance of finding it in the 30 minute cadence data as well as the 2 minute cadence data.\n",
    "\n",
    "We've made note of the TIC ID and sector for our flare of interest, as well as its peak time in BJD format:"
   ]
  },
  {
   "cell_type": "code",
   "execution_count": 2,
   "metadata": {},
   "outputs": [],
   "source": [
    "tic_id = 141914082\n",
    "sector = 1\n",
    "\n",
    "tpeak = 2458341.89227 # Julian Day"
   ]
  },
  {
   "cell_type": "markdown",
   "metadata": {},
   "source": [
    "### Querying MAST\n",
    "\n",
    "#### Mission light curves\n",
    "\n",
    "Using the `query_criteria` function in the `astroquery.mast.Observations` class, we will specify that we are looking for TESS mission data using the `obs_collection` argument, that we want a specific TIC ID using the `target_name` argument, and that we want observations from a particular sector using the `sequence_number` argument."
   ]
  },
  {
   "cell_type": "code",
   "execution_count": 3,
   "metadata": {},
   "outputs": [
    {
     "data": {
      "text/html": [
       "<div><i>Table masked=True length=1</i>\n",
       "<table id=\"table139724350654736\" class=\"table-striped table-bordered table-condensed\">\n",
       "<thead><tr><th>dataproduct_type</th><th>calib_level</th><th>obs_collection</th><th>obs_id</th><th>target_name</th><th>s_ra</th><th>s_dec</th><th>t_min</th><th>t_max</th><th>t_exptime</th><th>wavelength_region</th><th>filters</th><th>em_min</th><th>em_max</th><th>target_classification</th><th>obs_title</th><th>t_obs_release</th><th>instrument_name</th><th>proposal_pi</th><th>proposal_id</th><th>proposal_type</th><th>project</th><th>sequence_number</th><th>provenance_name</th><th>s_region</th><th>jpegURL</th><th>dataURL</th><th>dataRights</th><th>mtFlag</th><th>srcDen</th><th>intentType</th><th>obsid</th><th>objID</th></tr></thead>\n",
       "<thead><tr><th>str10</th><th>int64</th><th>str4</th><th>str47</th><th>str9</th><th>float64</th><th>float64</th><th>float64</th><th>float64</th><th>float64</th><th>str7</th><th>str4</th><th>float64</th><th>float64</th><th>str1</th><th>str1</th><th>float64</th><th>str10</th><th>str14</th><th>str23</th><th>str1</th><th>str4</th><th>int64</th><th>str4</th><th>str41</th><th>str1</th><th>str73</th><th>str6</th><th>bool</th><th>float64</th><th>str7</th><th>str8</th><th>str9</th></tr></thead>\n",
       "<tr><td>timeseries</td><td>3</td><td>TESS</td><td>tess2018206045859-s0001-0000000141914082-0120-s</td><td>141914082</td><td>94.6175354047675</td><td>-72.0448462219924</td><td>58324.79323696759</td><td>58352.67632608796</td><td>120.0</td><td>Optical</td><td>TESS</td><td>600.0</td><td>1000.0</td><td>--</td><td>--</td><td>58458.5833333</td><td>Photometer</td><td>Ricker, George</td><td>G011175_G011180_G011176</td><td>--</td><td>TESS</td><td>1</td><td>SPOC</td><td>CIRCLE 94.6175354 -72.04484622 0.00138889</td><td>--</td><td>mast:TESS/product/tess2018206045859-s0001-0000000141914082-0120-s_lc.fits</td><td>PUBLIC</td><td>False</td><td>nan</td><td>science</td><td>60829534</td><td>110344410</td></tr>\n",
       "</table></div>"
      ],
      "text/plain": [
       "<Table masked=True length=1>\n",
       "dataproduct_type calib_level ...  obsid     objID  \n",
       "     str10          int64    ...   str8      str9  \n",
       "---------------- ----------- ... -------- ---------\n",
       "      timeseries           3 ... 60829534 110344410"
      ]
     },
     "execution_count": 3,
     "metadata": {},
     "output_type": "execute_result"
    }
   ],
   "source": [
    "mission_res = Observations.query_criteria(obs_collection=\"TESS\", \n",
    "                                          target_name=tic_id, \n",
    "                                          sequence_number=sector)\n",
    "mission_res"
   ]
  },
  {
   "cell_type": "markdown",
   "metadata": {},
   "source": [
    "#### TASOC light curves\n",
    "\n",
    "In addition to mission pipeline data, MAST also hosts a variety of community contributed High Level Science Products (HLSPs), all of which are given the mission (`obs_collection`) \"HLSP\". In this case we will specifically search for HLSPs in the TESS project, which will return the light curves provided by the TASOC (note the `provenance_name` of \"TASOC\"). All other arguments remain the same."
   ]
  },
  {
   "cell_type": "code",
   "execution_count": 4,
   "metadata": {},
   "outputs": [
    {
     "data": {
      "text/html": [
       "<div><i>Table length=5</i>\n",
       "<table id=\"table139724350654304\" class=\"table-striped table-bordered table-condensed\">\n",
       "<thead><tr><th>dataproduct_type</th><th>obs_collection</th><th>target_name</th><th>t_exptime</th><th>filters</th><th>provenance_name</th><th>project</th><th>sequence_number</th><th>instrument_name</th></tr></thead>\n",
       "<thead><tr><th>str10</th><th>str4</th><th>str9</th><th>float64</th><th>str4</th><th>str17</th><th>str4</th><th>int64</th><th>str10</th></tr></thead>\n",
       "<tr><td>timeseries</td><td>HLSP</td><td>141914082</td><td>1800.0</td><td>TESS</td><td>QLP</td><td>TESS</td><td>1</td><td>Photometer</td></tr>\n",
       "<tr><td>timeseries</td><td>HLSP</td><td>141914082</td><td>1800.0</td><td>TESS</td><td>TESS-SPOC</td><td>TESS</td><td>1</td><td>Photometer</td></tr>\n",
       "<tr><td>timeseries</td><td>HLSP</td><td>141914082</td><td>120.0</td><td>TESS</td><td>TASOC</td><td>TESS</td><td>1</td><td>Photometer</td></tr>\n",
       "<tr><td>timeseries</td><td>HLSP</td><td>141914082</td><td>1800.0</td><td>TESS</td><td>TASOC</td><td>TESS</td><td>1</td><td>Photometer</td></tr>\n",
       "<tr><td>timeseries</td><td>HLSP</td><td>141914082</td><td>1800.0</td><td>TESS</td><td>GSFC-ELEANOR-LITE</td><td>TESS</td><td>1</td><td>Photometer</td></tr>\n",
       "</table></div>"
      ],
      "text/plain": [
       "<Table length=5>\n",
       "dataproduct_type obs_collection ... instrument_name\n",
       "     str10            str4      ...      str10     \n",
       "---------------- -------------- ... ---------------\n",
       "      timeseries           HLSP ...      Photometer\n",
       "      timeseries           HLSP ...      Photometer\n",
       "      timeseries           HLSP ...      Photometer\n",
       "      timeseries           HLSP ...      Photometer\n",
       "      timeseries           HLSP ...      Photometer"
      ]
     },
     "execution_count": 4,
     "metadata": {},
     "output_type": "execute_result"
    }
   ],
   "source": [
    "tasoc_res = Observations.query_criteria(target_name=tic_id, \n",
    "                                        obs_collection=\"HLSP\", \n",
    "                                        project=\"TESS\",\n",
    "                                        sequence_number=sector)\n",
    "tasoc_res['dataproduct_type',\"obs_collection\",\"target_name\",\"t_exptime\",\"filters\",\n",
    "          \"provenance_name\",\"project\",\"sequence_number\",\"instrument_name\"]"
   ]
  },
  {
   "cell_type": "markdown",
   "metadata": {},
   "source": [
    "This query returns two light curves. To understand the difference between the two light curves we look at the `t_exptime` column, and note the different values. These exposure times correspond to 2 minutes (short cadence) and 30 minutes (long cadence). We will explore both light curves."
   ]
  },
  {
   "cell_type": "markdown",
   "metadata": {},
   "source": [
    "### Downloading the light curves\n",
    "\n",
    "For the rest of this notebook we will work with the TASOC light curves only, although we could do the same analysis on the mission light curves.\n",
    "\n",
    "#### Querying for the list of associated data products\n",
    "\n",
    "Each observation may have one or more associated data products. In the case of the TASOC light curves, there is simply a single light curve file for each observation. "
   ]
  },
  {
   "cell_type": "code",
   "execution_count": 5,
   "metadata": {},
   "outputs": [
    {
     "data": {
      "text/html": [
       "<div><i>Table length=8</i>\n",
       "<table id=\"table139724350656416\" class=\"table-striped table-bordered table-condensed\">\n",
       "<thead><tr><th>dataproduct_type</th><th>description</th><th>dataURI</th><th>size</th></tr></thead>\n",
       "<thead><tr><th>str10</th><th>str4</th><th>str126</th><th>int64</th></tr></thead>\n",
       "<tr><td>timeseries</td><td>FITS</td><td>mast:HLSP/gsfc-eleanor-lite/s0001/0000/0001/4191/4082/hlsp_gsfc-eleanor-lite_tess_ffi_s0001-0000000141914082_tess_v1.0_lc.fits</td><td>106560</td></tr>\n",
       "<tr><td>timeseries</td><td>FITS</td><td>mast:HLSP/qlp/s0001/0000/0001/4191/4082/hlsp_qlp_tess_ffi_s0001-0000000141914082_tess_v01_llc.fits</td><td>80640</td></tr>\n",
       "<tr><td>timeseries</td><td>Text</td><td>mast:HLSP/qlp/s0001/0000/0001/4191/4082/hlsp_qlp_tess_ffi_s0001-0000000141914082_tess_v01_llc.txt</td><td>57710</td></tr>\n",
       "<tr><td>timeseries</td><td>FITS</td><td>mast:HLSP/tasoc/s0001/c1800/0000/0001/4191/4082/hlsp_tasoc_tess_ffi_tic00141914082-s0001-cam4-ccd2-c1800_tess_v05_cbv-lc.fits</td><td>164160</td></tr>\n",
       "<tr><td>timeseries</td><td>FITS</td><td>mast:HLSP/tasoc/s0001/c1800/0000/0001/4191/4082/hlsp_tasoc_tess_ffi_tic00141914082-s0001-cam4-ccd2-c1800_tess_v05_ens-lc.fits</td><td>167040</td></tr>\n",
       "<tr><td>timeseries</td><td>FITS</td><td>mast:HLSP/tasoc/s0001/c0120/0000/0001/4191/4082/hlsp_tasoc_tess_tpf_tic00141914082-s0001-cam4-ccd2-c0120_tess_v05_cbv-lc.fits</td><td>1880640</td></tr>\n",
       "<tr><td>timeseries</td><td>FITS</td><td>mast:HLSP/tess-spoc/s0001/target/0000/0001/4191/4082/hlsp_tess-spoc_tess_phot_0000000141914082-s0001_tess_v1_lc.fits</td><td>164160</td></tr>\n",
       "<tr><td>timeseries</td><td>FITS</td><td>mast:HLSP/tess-spoc/s0001/target/0000/0001/4191/4082/hlsp_tess-spoc_tess_phot_0000000141914082-s0001_tess_v1_tp.fits</td><td>3925440</td></tr>\n",
       "</table></div>"
      ],
      "text/plain": [
       "<Table length=8>\n",
       "dataproduct_type description ...   size \n",
       "     str10           str4    ...  int64 \n",
       "---------------- ----------- ... -------\n",
       "      timeseries        FITS ...  106560\n",
       "      timeseries        FITS ...   80640\n",
       "      timeseries        Text ...   57710\n",
       "      timeseries        FITS ...  164160\n",
       "      timeseries        FITS ...  167040\n",
       "      timeseries        FITS ... 1880640\n",
       "      timeseries        FITS ...  164160\n",
       "      timeseries        FITS ... 3925440"
      ]
     },
     "execution_count": 5,
     "metadata": {},
     "output_type": "execute_result"
    }
   ],
   "source": [
    "tasoc_prod = Observations.get_product_list(tasoc_res)\n",
    "tasoc_prod[\"dataproduct_type\", \"description\", \"dataURI\", \"size\"]"
   ]
  },
  {
   "cell_type": "markdown",
   "metadata": {},
   "source": [
    "#### Downloading files\n",
    "\n",
    "We can choose to download some or all of the associated data files, in this case since we just have the two light curves, we will download all of the products."
   ]
  },
  {
   "cell_type": "code",
   "execution_count": 6,
   "metadata": {},
   "outputs": [
    {
     "name": "stdout",
     "output_type": "stream",
     "text": [
      "INFO: Found cached file ./mastDownload/HLSP/hlsp_gsfc-eleanor-lite_tess_ffi_s0001-0000000141914082_tess_v1.0_lc/hlsp_gsfc-eleanor-lite_tess_ffi_s0001-0000000141914082_tess_v1.0_lc.fits with expected size 106560. [astroquery.query]\n",
      "INFO: Found cached file ./mastDownload/HLSP/hlsp_qlp_tess_ffi_s0001-0000000141914082_tess_v01_llc/hlsp_qlp_tess_ffi_s0001-0000000141914082_tess_v01_llc.fits with expected size 80640. [astroquery.query]\n",
      "INFO: Found cached file ./mastDownload/HLSP/hlsp_qlp_tess_ffi_s0001-0000000141914082_tess_v01_llc/hlsp_qlp_tess_ffi_s0001-0000000141914082_tess_v01_llc.txt with expected size 57710. [astroquery.query]\n",
      "INFO: Found cached file ./mastDownload/HLSP/hlsp_tasoc_tess_ffi_tic00141914082-s0001-cam4-ccd2-c1800_tess_v05/hlsp_tasoc_tess_ffi_tic00141914082-s0001-cam4-ccd2-c1800_tess_v05_cbv-lc.fits with expected size 164160. [astroquery.query]\n",
      "INFO: Found cached file ./mastDownload/HLSP/hlsp_tasoc_tess_ffi_tic00141914082-s0001-cam4-ccd2-c1800_tess_v05/hlsp_tasoc_tess_ffi_tic00141914082-s0001-cam4-ccd2-c1800_tess_v05_ens-lc.fits with expected size 167040. [astroquery.query]\n",
      "INFO: Found cached file ./mastDownload/HLSP/hlsp_tasoc_tess_tpf_tic00141914082-s0001-cam4-ccd2-c0120_tess_v05/hlsp_tasoc_tess_tpf_tic00141914082-s0001-cam4-ccd2-c0120_tess_v05_cbv-lc.fits with expected size 1880640. [astroquery.query]\n",
      "INFO: Found cached file ./mastDownload/HLSP/hlsp_tess-spoc_tess_phot_0000000141914082-s0001_tess_v1_tp/hlsp_tess-spoc_tess_phot_0000000141914082-s0001_tess_v1_lc.fits with expected size 164160. [astroquery.query]\n",
      "INFO: Found cached file ./mastDownload/HLSP/hlsp_tess-spoc_tess_phot_0000000141914082-s0001_tess_v1_tp/hlsp_tess-spoc_tess_phot_0000000141914082-s0001_tess_v1_tp.fits with expected size 3925440. [astroquery.query]\n"
     ]
    },
    {
     "data": {
      "text/html": [
       "<div><i>Table length=8</i>\n",
       "<table id=\"table139723321486640\" class=\"table-striped table-bordered table-condensed\">\n",
       "<thead><tr><th>Local Path</th><th>Status</th><th>Message</th><th>URL</th></tr></thead>\n",
       "<thead><tr><th>str163</th><th>str8</th><th>object</th><th>object</th></tr></thead>\n",
       "<tr><td>./mastDownload/HLSP/hlsp_gsfc-eleanor-lite_tess_ffi_s0001-0000000141914082_tess_v1.0_lc/hlsp_gsfc-eleanor-lite_tess_ffi_s0001-0000000141914082_tess_v1.0_lc.fits</td><td>COMPLETE</td><td>None</td><td>None</td></tr>\n",
       "<tr><td>./mastDownload/HLSP/hlsp_qlp_tess_ffi_s0001-0000000141914082_tess_v01_llc/hlsp_qlp_tess_ffi_s0001-0000000141914082_tess_v01_llc.fits</td><td>COMPLETE</td><td>None</td><td>None</td></tr>\n",
       "<tr><td>./mastDownload/HLSP/hlsp_qlp_tess_ffi_s0001-0000000141914082_tess_v01_llc/hlsp_qlp_tess_ffi_s0001-0000000141914082_tess_v01_llc.txt</td><td>COMPLETE</td><td>None</td><td>None</td></tr>\n",
       "<tr><td>./mastDownload/HLSP/hlsp_tasoc_tess_ffi_tic00141914082-s0001-cam4-ccd2-c1800_tess_v05/hlsp_tasoc_tess_ffi_tic00141914082-s0001-cam4-ccd2-c1800_tess_v05_cbv-lc.fits</td><td>COMPLETE</td><td>None</td><td>None</td></tr>\n",
       "<tr><td>./mastDownload/HLSP/hlsp_tasoc_tess_ffi_tic00141914082-s0001-cam4-ccd2-c1800_tess_v05/hlsp_tasoc_tess_ffi_tic00141914082-s0001-cam4-ccd2-c1800_tess_v05_ens-lc.fits</td><td>COMPLETE</td><td>None</td><td>None</td></tr>\n",
       "<tr><td>./mastDownload/HLSP/hlsp_tasoc_tess_tpf_tic00141914082-s0001-cam4-ccd2-c0120_tess_v05/hlsp_tasoc_tess_tpf_tic00141914082-s0001-cam4-ccd2-c0120_tess_v05_cbv-lc.fits</td><td>COMPLETE</td><td>None</td><td>None</td></tr>\n",
       "<tr><td>./mastDownload/HLSP/hlsp_tess-spoc_tess_phot_0000000141914082-s0001_tess_v1_tp/hlsp_tess-spoc_tess_phot_0000000141914082-s0001_tess_v1_lc.fits</td><td>COMPLETE</td><td>None</td><td>None</td></tr>\n",
       "<tr><td>./mastDownload/HLSP/hlsp_tess-spoc_tess_phot_0000000141914082-s0001_tess_v1_tp/hlsp_tess-spoc_tess_phot_0000000141914082-s0001_tess_v1_tp.fits</td><td>COMPLETE</td><td>None</td><td>None</td></tr>\n",
       "</table></div>"
      ],
      "text/plain": [
       "<Table length=8>\n",
       "                                                                             Local Path                                                                             ...\n",
       "                                                                               str163                                                                               ...\n",
       "------------------------------------------------------------------------------------------------------------------------------------------------------------------- ...\n",
       "   ./mastDownload/HLSP/hlsp_gsfc-eleanor-lite_tess_ffi_s0001-0000000141914082_tess_v1.0_lc/hlsp_gsfc-eleanor-lite_tess_ffi_s0001-0000000141914082_tess_v1.0_lc.fits ...\n",
       "                               ./mastDownload/HLSP/hlsp_qlp_tess_ffi_s0001-0000000141914082_tess_v01_llc/hlsp_qlp_tess_ffi_s0001-0000000141914082_tess_v01_llc.fits ...\n",
       "                                ./mastDownload/HLSP/hlsp_qlp_tess_ffi_s0001-0000000141914082_tess_v01_llc/hlsp_qlp_tess_ffi_s0001-0000000141914082_tess_v01_llc.txt ...\n",
       "./mastDownload/HLSP/hlsp_tasoc_tess_ffi_tic00141914082-s0001-cam4-ccd2-c1800_tess_v05/hlsp_tasoc_tess_ffi_tic00141914082-s0001-cam4-ccd2-c1800_tess_v05_cbv-lc.fits ...\n",
       "./mastDownload/HLSP/hlsp_tasoc_tess_ffi_tic00141914082-s0001-cam4-ccd2-c1800_tess_v05/hlsp_tasoc_tess_ffi_tic00141914082-s0001-cam4-ccd2-c1800_tess_v05_ens-lc.fits ...\n",
       "./mastDownload/HLSP/hlsp_tasoc_tess_tpf_tic00141914082-s0001-cam4-ccd2-c0120_tess_v05/hlsp_tasoc_tess_tpf_tic00141914082-s0001-cam4-ccd2-c0120_tess_v05_cbv-lc.fits ...\n",
       "                     ./mastDownload/HLSP/hlsp_tess-spoc_tess_phot_0000000141914082-s0001_tess_v1_tp/hlsp_tess-spoc_tess_phot_0000000141914082-s0001_tess_v1_lc.fits ...\n",
       "                     ./mastDownload/HLSP/hlsp_tess-spoc_tess_phot_0000000141914082-s0001_tess_v1_tp/hlsp_tess-spoc_tess_phot_0000000141914082-s0001_tess_v1_tp.fits ..."
      ]
     },
     "execution_count": 6,
     "metadata": {},
     "output_type": "execute_result"
    }
   ],
   "source": [
    "tasoc_manifest = Observations.download_products(tasoc_prod)\n",
    "tasoc_manifest"
   ]
  },
  {
   "cell_type": "markdown",
   "metadata": {},
   "source": [
    "### Plotting the light curves\n",
    "\n",
    "We will use the `bokeh` plotting library so that we can have interactivity, and will plot both the 2 minute and 30 minute cadence data together. \n",
    "\n",
    "We can tell which file corresponds to which cadence length by examining the filenames and noting that one contains `c0120` (2 minutes) and the other `c1800` (30 minutes)."
   ]
  },
  {
   "cell_type": "code",
   "execution_count": 7,
   "metadata": {},
   "outputs": [],
   "source": [
    "# Loading the short cadence light curve\n",
    "hdu = fits.open(tasoc_manifest[\"Local Path\"][0])\n",
    "short_cad_lc = Table(hdu[1].data)\n",
    "hdu.close()\n",
    "\n",
    "# Loading the long cadence light curve\n",
    "hdu = fits.open(tasoc_manifest[\"Local Path\"][1])\n",
    "long_cad_lc = Table(hdu[1].data)\n",
    "hdu.close()"
   ]
  },
  {
   "cell_type": "code",
   "execution_count": 17,
   "metadata": {},
   "outputs": [
    {
     "data": {
      "text/html": [
       "<div><i>Table length=1281</i>\n",
       "<table id=\"table139723313919936\" class=\"table-striped table-bordered table-condensed\">\n",
       "<thead><tr><th>TIME</th><th>CADENCENO</th><th>SAP_FLUX</th><th>KSPSAP_FLUX</th><th>KSPSAP_FLUX_ERR</th><th>QUALITY</th><th>ORBITID</th><th>SAP_X</th><th>SAP_Y</th><th>SAP_BKG</th><th>SAP_BKG_ERR</th><th>KSPSAP_FLUX_SML</th><th>KSPSAP_FLUX_LAG</th></tr></thead>\n",
       "<thead><tr><th>float64</th><th>int32</th><th>float32</th><th>float32</th><th>float32</th><th>int32</th><th>int32</th><th>float32</th><th>float32</th><th>float32</th><th>float32</th><th>float32</th><th>float32</th></tr></thead>\n",
       "<tr><td>1325.3239205802092</td><td>4697</td><td>0.9907516</td><td>0.99937916</td><td>0.0004727787</td><td>4096</td><td>9</td><td>833.876</td><td>1609.046</td><td>323.96</td><td>545.07</td><td>0.9994108</td><td>0.99934494</td></tr>\n",
       "<tr><td>1325.3447537297802</td><td>4698</td><td>0.99065953</td><td>0.99991655</td><td>0.0004727787</td><td>4096</td><td>9</td><td>833.877</td><td>1609.046</td><td>292.76</td><td>430.71</td><td>0.99993587</td><td>0.99988496</td></tr>\n",
       "<tr><td>1325.3655868809078</td><td>4699</td><td>0.9909295</td><td>1.0005782</td><td>0.0004727787</td><td>4096</td><td>9</td><td>833.877</td><td>1609.046</td><td>180.94</td><td>480.8</td><td>1.0005702</td><td>1.0005482</td></tr>\n",
       "<tr><td>1325.386420033564</td><td>4700</td><td>0.9906624</td><td>1.0004753</td><td>0.0004727787</td><td>4096</td><td>9</td><td>833.877</td><td>1609.045</td><td>18.43</td><td>442.45</td><td>1.0004779</td><td>1.0004911</td></tr>\n",
       "<tr><td>1325.4072531877214</td><td>4701</td><td>0.99046475</td><td>1.0002398</td><td>0.0004727787</td><td>4096</td><td>9</td><td>833.878</td><td>1609.046</td><td>28.41</td><td>461.86</td><td>1.0002539</td><td>1.0002934</td></tr>\n",
       "<tr><td>...</td><td>...</td><td>...</td><td>...</td><td>...</td><td>...</td><td>...</td><td>...</td><td>...</td><td>...</td><td>...</td><td>...</td><td>...</td></tr>\n",
       "<tr><td>1353.0736769582584</td><td>6029</td><td>1.0105393</td><td>1.0001072</td><td>0.0004727787</td><td>0</td><td>10</td><td>833.883</td><td>1609.156</td><td>267.1</td><td>719.3</td><td>1.0000957</td><td>1.0001739</td></tr>\n",
       "<tr><td>1353.0945100035185</td><td>6030</td><td>1.011731</td><td>1.0019132</td><td>0.0004727787</td><td>0</td><td>10</td><td>833.883</td><td>1609.156</td><td>237.25</td><td>576.67</td><td>1.00187</td><td>1.0020751</td></tr>\n",
       "<tr><td>1353.1153430486104</td><td>6031</td><td>1.0092119</td><td>1.0000905</td><td>0.0004727787</td><td>0</td><td>10</td><td>833.882</td><td>1609.156</td><td>220.36</td><td>776.46</td><td>1.0000939</td><td>1.0001388</td></tr>\n",
       "<tr><td>1353.136176093613</td><td>6032</td><td>1.0085595</td><td>1.0001625</td><td>0.0004727787</td><td>4096</td><td>10</td><td>833.883</td><td>1609.156</td><td>229.04</td><td>772.09</td><td>1.0001705</td><td>1.0002179</td></tr>\n",
       "<tr><td>1353.1570091385684</td><td>6033</td><td>1.0075595</td><td>0.99993503</td><td>0.0004727787</td><td>4096</td><td>10</td><td>833.882</td><td>1609.157</td><td>417.53</td><td>742.14</td><td>0.99995434</td><td>0.99971807</td></tr>\n",
       "</table></div>"
      ],
      "text/plain": [
       "<Table length=1281>\n",
       "       TIME        CADENCENO ... KSPSAP_FLUX_SML KSPSAP_FLUX_LAG\n",
       "     float64         int32   ...     float32         float32    \n",
       "------------------ --------- ... --------------- ---------------\n",
       "1325.3239205802092      4697 ...       0.9994108      0.99934494\n",
       "1325.3447537297802      4698 ...      0.99993587      0.99988496\n",
       "1325.3655868809078      4699 ...       1.0005702       1.0005482\n",
       " 1325.386420033564      4700 ...       1.0004779       1.0004911\n",
       "1325.4072531877214      4701 ...       1.0002539       1.0002934\n",
       "               ...       ... ...             ...             ...\n",
       "1353.0736769582584      6029 ...       1.0000957       1.0001739\n",
       "1353.0945100035185      6030 ...         1.00187       1.0020751\n",
       "1353.1153430486104      6031 ...       1.0000939       1.0001388\n",
       " 1353.136176093613      6032 ...       1.0001705       1.0002179\n",
       "1353.1570091385684      6033 ...      0.99995434      0.99971807"
      ]
     },
     "execution_count": 17,
     "metadata": {},
     "output_type": "execute_result"
    }
   ],
   "source": [
    "long_cad_lc"
   ]
  },
  {
   "cell_type": "code",
   "execution_count": 24,
   "metadata": {},
   "outputs": [
    {
     "data": {
      "text/plain": [
       "<TableColumns names=('TIME','CADENCENO','SAP_FLUX','KSPSAP_FLUX','KSPSAP_FLUX_ERR','QUALITY','ORBITID','SAP_X','SAP_Y','SAP_BKG','SAP_BKG_ERR','KSPSAP_FLUX_SML','KSPSAP_FLUX_LAG')>"
      ]
     },
     "execution_count": 24,
     "metadata": {},
     "output_type": "execute_result"
    }
   ],
   "source": [
    "long_cad_lc.columns"
   ]
  },
  {
   "cell_type": "code",
   "execution_count": 28,
   "metadata": {},
   "outputs": [
    {
     "data": {
      "text/html": [
       "\n",
       "  <div class=\"bk-root\" id=\"c0f53598-1dc7-4130-a0e1-6cf57335a0f3\" data-root-id=\"2794\"></div>\n"
      ]
     },
     "metadata": {},
     "output_type": "display_data"
    },
    {
     "data": {
      "application/javascript": [
       "(function(root) {\n",
       "  function embed_document(root) {\n",
       "  const docs_json = {\"f833f075-e298-4835-a6ed-634e93ebb09a\":{\"defs\":[],\"roots\":{\"references\":[{\"attributes\":{\"below\":[{\"id\":\"2805\"}],\"center\":[{\"id\":\"2808\"},{\"id\":\"2812\"}],\"height\":300,\"left\":[{\"id\":\"2809\"}],\"renderers\":[{\"id\":\"2831\"},{\"id\":\"2837\"},{\"id\":\"2843\"},{\"id\":\"2849\"},{\"id\":\"2851\"}],\"title\":{\"id\":\"2795\"},\"toolbar\":{\"id\":\"2820\"},\"width\":850,\"x_range\":{\"id\":\"2797\"},\"x_scale\":{\"id\":\"2801\"},\"y_range\":{\"id\":\"2799\"},\"y_scale\":{\"id\":\"2803\"}},\"id\":\"2794\",\"subtype\":\"Figure\",\"type\":\"Plot\"},{\"attributes\":{},\"id\":\"2801\",\"type\":\"LinearScale\"},{\"attributes\":{\"tools\":[{\"id\":\"2813\"},{\"id\":\"2814\"},{\"id\":\"2815\"},{\"id\":\"2816\"},{\"id\":\"2817\"},{\"id\":\"2818\"}]},\"id\":\"2820\",\"type\":\"Toolbar\"},{\"attributes\":{\"fill_color\":{\"value\":\"black\"},\"line_color\":{\"value\":null},\"size\":{\"value\":2},\"x\":{\"field\":\"x\"},\"y\":{\"field\":\"y\"}},\"id\":\"2828\",\"type\":\"Circle\"},{\"attributes\":{\"fill_color\":{\"value\":\"#0384f7\"},\"line_color\":{\"value\":null},\"size\":{\"value\":6},\"x\":{\"field\":\"x\"},\"y\":{\"field\":\"y\"}},\"id\":\"2840\",\"type\":\"Circle\"},{\"attributes\":{\"axis\":{\"id\":\"2805\"},\"coordinates\":null,\"group\":null,\"ticker\":null},\"id\":\"2808\",\"type\":\"Grid\"},{\"attributes\":{},\"id\":\"2993\",\"type\":\"UnionRenderers\"},{\"attributes\":{\"axis_label\":\"Time (BTJD)\",\"coordinates\":null,\"formatter\":{\"id\":\"2985\"},\"group\":null,\"major_label_policy\":{\"id\":\"2986\"},\"ticker\":{\"id\":\"2806\"}},\"id\":\"2805\",\"type\":\"LinearAxis\"},{\"attributes\":{\"fill_alpha\":{\"value\":0.2},\"fill_color\":{\"value\":\"black\"},\"hatch_alpha\":{\"value\":0.2},\"line_alpha\":{\"value\":0.2},\"line_color\":{\"value\":null},\"size\":{\"value\":2},\"x\":{\"field\":\"x\"},\"y\":{\"field\":\"y\"}},\"id\":\"2830\",\"type\":\"Circle\"},{\"attributes\":{},\"id\":\"2818\",\"type\":\"HelpTool\"},{\"attributes\":{},\"id\":\"2994\",\"type\":\"Selection\"},{\"attributes\":{},\"id\":\"2989\",\"type\":\"UnionRenderers\"},{\"attributes\":{},\"id\":\"2982\",\"type\":\"BasicTickFormatter\"},{\"attributes\":{\"data\":{\"x\":[1325.3239205802092,1325.3447537297802,1325.3655868809078,1325.386420033564,1325.4072531877214,1325.4280863433216,1325.4489195003468,1325.4697526587393,1325.4905858184716,1325.5114189795172,1325.5322521418193,1325.5530853053524,1325.5739184700906,1325.5947516359797,1325.6155848029955,1325.6364179711152,1325.6572511402853,1325.6780843104955,1325.6989174816936,1325.71975065386,1325.740583826975,1325.7614170009906,1325.7822501758883,1325.8030833516511,1325.8239165282325,1325.8447497056177,1325.8655828837911,1325.8864160627093,1325.9072492423682,1325.9280824227253,1325.9489156037687,1325.9697487854871,1325.9905819678395,1326.0114151508162,1326.0322483344073,1326.0530815185743,1326.073914703309,1326.0947478886035,1326.11558107442,1326.1364142607624,1326.1572474475947,1326.1780806349109,1326.1989138227061,1326.2197470109456,1326.240580199625,1326.26141338874,1326.2822465782579,1326.3030797684264,1326.3239129589465,1326.3447461496298,1326.3655793406858,1326.386412532083,1326.4072457238206,1326.428078915897,1326.4489121082825,1326.469745300976,1326.4905784939783,1326.5114116872596,1326.5322448808306,1326.5530780746622,1326.5739112687552,1326.5947444631115,1326.6155776577025,1326.6364108525402,1326.6572440475966,1326.6780772428745,1326.6989104383658,1326.7197436340734,1326.740576829971,1326.7614100260712,1326.782243222347,1326.8030764188022,1326.823909615441,1326.8447428122365,1326.8655760092033,1326.8864092063154,1326.907242403577,1326.9280756009928,1326.948908798537,1326.9697419962147,1326.990575194031,1327.0114083919607,1327.0322415900087,1327.0530747881808,1327.073907986452,1327.0947411848379,1327.1155743833142,1327.1364075818865,1327.1572407805606,1327.1780739793126,1327.1989071781486,1327.2197403770745,1327.2405735760665,1327.261406775141,1327.2822399742745,1327.3030731734732,1327.323906372744,1327.3447395720634,1327.3655727714379,1327.3864059708742,1327.4072391703496,1327.428072369871,1327.4489055694453,1327.4697387690492,1327.4905719687004,1327.5114051683756,1327.5322383680823,1327.5530715678278,1327.5739047675895,1327.5947379673846,1327.615571167191,1327.6364043670158,1327.6572375668668,1327.6780707667215,1327.698903966588,1327.7197371664736,1327.740570366356,1327.7614035662434,1327.7822367661436,1327.8030699660342,1327.8239031659332,1327.8447363658188,1327.8655695656992,1327.8864027655823,1327.907235965446,1327.9280691652984,1327.948902365148,1327.9697355649726,1327.9905687647909,1328.011401964581,1328.0322351643613,1328.0530683641098,1328.0739015638353,1328.0947347635458,1328.1155679632202,1328.1364011628662,1328.1572343624832,1328.1780675620791,1328.1989007616328,1328.2197339611625,1328.240567160647,1328.261400360105,1328.282233559515,1328.3030667588853,1328.3238999582252,1328.3447331575132,1328.365566356758,1328.3863995559684,1328.407232755123,1328.4280659542408,1328.4488991533003,1328.4697323523105,1328.49056555128,1328.5113987501884,1328.5322319490438,1328.5530651478557,1328.5738983466026,1328.5947315452934,1328.6155647439368,1328.6363979425125,1328.6572311410391,1328.6780643394957,1328.698897537891,1328.7197307362344,1328.7405639345045,1328.7613971327107,1328.7822303308621,1328.8030635289374,1328.823896726956,1328.8447299248971,1328.8655631227696,1328.8863963205824,1328.907229518315,1328.9280627159867,1328.9488959135765,1328.9697291110926,1328.9905623085458,1329.0113955059144,1329.0322287032175,1329.0530619004348,1329.0738950975754,1329.0947282946383,1329.1155614916327,1329.1363946885378,1329.1572278853732,1329.1780610821181,1329.1988942787918,1329.2197274753732,1329.2405606718721,1329.2613938682973,1329.2822270646286,1329.3030602608749,1329.3238934570456,1329.3447266531205,1329.3655598491182,1329.3863930450186,1329.4072262408308,1329.4280594365641,1329.448892632198,1329.4697258277417,1329.490559023205,1329.511392218567,1329.5322254138373,1329.5530586090244,1329.5738918041088,1329.5947249991095,1329.615558194006,1329.6363913888172,1329.6572245835232,1329.678057778133,1329.6988909726563,1329.7197241670842,1329.7405573614133,1329.7613905556434,1329.7822237497646,1329.8030569437965,1329.823890137718,1329.8447233315394,1329.8655565252698,1329.8863897188887,1329.9072229124054,1329.9280561058297,1329.9488892991408,1329.9697224923582,1329.9905556854612,1330.01138887846,1330.0322220713635,1330.0530552641515,1330.0738884568334,1330.0947216494183,1330.1155548418863,1330.1363880342565,1330.1572212265085,1330.1780544186524,1330.1988876106968,1330.2197208026219,1330.2405539944468,1330.2613871861515,1330.282220377745,1330.303053569237,1330.3238867606071,1330.3447199518748,1330.3655531430197,1330.3863863340518,1330.4072195249798,1330.4280527157835,1330.4488859064727,1330.4697190970567,1330.490552287515,1330.5113854778674,1330.5322186680935,1330.5530518582027,1330.5738850482044,1330.5947182380785,1330.6155514278444,1330.6363846174816,1330.6572178069994,1330.6780509964078,1330.6988841856864,1330.7197173748546,1330.740550563892,1330.761383752808,1330.7822169416124,1330.8030501302846,1330.8238833188339,1330.8447165072707,1330.8655496955741,1330.8863828837632,1330.9072160718188,1330.928049259749,1330.9488824475645,1330.9697156352443,1330.9905488227978,1331.0113820102354,1331.0322151975358,1331.0530483847194,1331.073881571765,1331.0947147586926,1331.115547945482,1331.136381132142,1331.157214318683,1331.178047505084,1331.1988806913548,1331.219713877505,1331.2405470635144,1331.2613802494022,1331.2822134351482,1331.3030466207617,1331.3238798062528,1331.3447129916003,1331.3655461768246,1331.3863793619048,1331.4072125468506,1331.4280457316715,1331.4488789163474,1331.4697121008876,1331.4905452853013,1331.5113784695686,1331.5322116537088,1331.553044837702,1331.5738780215574,1331.5947112052845,1331.6155443888626,1331.636377572312,1331.6572107556117,1331.6780439387712,1331.6988771218005,1331.719710304679,1331.7405434874163,1331.7613766700217,1331.782209852475,1331.8030430347958,1331.8238762169638,1331.844709398998,1331.8655425808781,1331.8863757626145,1331.9072089442157,1331.9280421256617,1331.9488753069722,1331.9697084881266,1331.9905416691342,1332.0113748500048,1332.0322080307178,1332.053041211293,1332.07387439171,1332.0947075719782,1332.1155407521067,1332.1363739320757,1332.1572071118944,1332.1780402915726,1332.1988734710892,1332.2197066504646,1332.2405398296778,1332.2613730087382,1332.2822061876557,1332.3030393664098,1332.3238725450199,1332.3447057234655,1332.3655389017558,1332.3863720799009,1332.40720525788,1332.4280384357128,1332.4488716133785,1332.469704790887,1332.4905379682475,1332.5113711454396,1332.5322043224828,1332.5530374993562,1332.57387067607,1332.5947038526335,1332.6155370290262,1332.636370205257,1332.6572033813359,1332.6780365572422,1332.698869732996,1332.7197029085755,1332.7405360840014,1332.7613692592527,1332.7822024343386,1332.8030356092688,1332.823868784023,1332.8447019586104,1332.8655351330403,1332.8863683072923,1332.9072014813855,1332.9280346553003,1332.9488678290456,1332.9697010026305,1332.9905341760348,1333.0113673492774,1333.0322005223388,1333.0530336952272,1333.0738668679528,1333.094700040495,1333.1155332128728,1333.1363663850657,1333.1571995570835,1333.178032728935,1333.1988659006,1333.219699072098,1333.2405322434074,1333.261365414549,1333.2821985854996,1333.303031756271,1333.323864926873,1333.3446980972844,1333.365531267514,1333.3863644375708,1333.407197607435,1333.4280307771253,1333.4488639466217,1333.4696971159433,1333.490530285069,1333.5113634540085,1333.5321966227707,1333.5530297913356,1333.5738629597117,1333.594696127909,1333.6155292959065,1333.6363624637236,1333.6571956313392,1333.678028798763,1333.6988619660042,1333.719695133042,1333.7405282998955,1333.761361466544,1333.782194632997,1333.8030277992636,1333.823860965323,1333.8446941311947,1333.8655272968574,1333.8863604623307,1333.9071936275934,1333.9280267926551,1333.948859957525,1333.9696931221822,1333.9905262866357,1334.0113594508948,1334.0321926149388,1334.0530257787868,1334.073858942418,1334.094692105851,1334.1155252690655,1334.1363584320707,1334.1571915948753,1334.1780247574586,1334.19885791984,1334.2196910819982,1334.2405242439422,1334.2613574056813,1334.2821905671947,1334.303023728501,1334.32385688958,1334.34469005044,1334.3655232110905,1334.3863563715104,1334.4071895317186,1334.428022691694,1334.4488558514456,1334.4696890109828,1334.4905221702845,1334.5113553293693,1334.5321884882164,1334.5530216468446,1334.5738548052332,1334.5946879633905,1334.615521121326,1334.636354279018,1334.657187436476,1334.6780205937087,1334.6988537506948,1334.7196869074533,1334.7405200639628,1334.7613532202326,1334.782186376271,1334.803019532057,1334.8238526876098,1334.8446858429077,1334.8655189979693,1334.8863521527737,1334.9071853073299,1334.9280184616464,1334.9488516157016,1334.969684769514,1334.9905179230632,1335.0113510763574,1335.0321842294052,1335.0530173821853,1335.0738505347163,1335.0946836869769,1335.1155168389855,1335.1363499907206,1335.1571831421911,1335.1780162934056,1335.1988494443424,1335.21968259502,1335.240515745417,1335.261348895542,1335.282182045403,1335.303015194979,1335.323848344288,1335.3446814933088,1335.3655146420595,1335.3863477905184,1335.4071809386942,1335.4280140865949,1335.448847234199,1335.4696803815152,1335.4905135285505,1335.5113466752841,1335.5321798217346,1335.5530129678796,1335.573846113737,1335.5946792592856,1335.6155124045333,1335.6363455494884,1335.6571786941288,1335.678011838472,1335.6988449824971,1335.7196781262116,1335.7405112696235,1335.761344412711,1335.7821775554917,1335.8030106979436,1335.8238438400747,1335.844676981893,1335.8655101233758,1335.8863432645414,1335.9071764053679,1335.9280095458623,1335.9488426860325,1335.9696758258567,1335.990508965352,1336.0113421044964,1336.0321752433074,1336.053008381762,1336.073841519869,1336.0946746576344,1336.1155077950368,1336.1363409320936,1336.1571740687816,1336.1780072051083,1336.198840341081,1336.2196734766774,1336.2405066119143,1336.2613397467696,1336.2821728812596,1336.3030060153621,1336.3238391490838,1336.3446722824324,1336.3655054153842,1336.386338547956,1336.4071716801257,1336.4280048118994,1336.4488379432842,1336.4696710742573,1336.4905042048351,1336.511337334994,1336.532170464751,1336.5530035940833,1336.5738367229962,1336.5946698514974,1336.6155029795627,1336.636336107209,1336.6571692344123,1336.6780023611893,1336.698835487516,1336.7196686133984,1336.7405017388432,1336.7613348638263,1336.7821679883637,1336.8030011124315,1336.8238342360357,1336.8446673591823,1336.865500481847,1336.8863336040454,1336.9071667257533,1336.9279998469867,1336.9488329677206,1336.9696660879713,1336.9904992077143,1337.0113323269543,1337.0321654456968,1337.0529985639175,1337.0738316816316,1337.0946647988142,1337.1154979154705,1337.136331031605,1337.1571641471937,1337.1779972622512,1337.198830376752,1337.219663490711,1337.240496604103,1337.261329716933,1337.2821628292056,1337.3029959408948,1337.3238290520158,1337.3446621625426,1337.36549527249,1337.386328381832,1337.4071614905733,1337.427994598718,1337.4488277062396,1337.469660813143,1337.4904939194325,1337.511327025082,1337.5321601301052,1337.5529932344768,1337.5738263382104,1337.59465944128,1337.6154925437,1337.6363256454438,1337.6571587465255,1337.6779918469194,1337.6988249466292,1337.719658045659,1337.740491143983,1337.761324241605,1337.78215733853,1337.8029904347313,1337.8238235302233,1337.8446566249806,1337.8654897190181,1337.8863228123107,1337.907155904872,1337.9279889966783,1337.9488220877342,1337.9696551780457,1337.9904882675878,1338.0113213563766,1338.0321544443889,1338.0529875316406,1338.0738206181097,1338.0946537038028,1338.1154867887283,1338.1363198728645,1338.1571529562302,1338.177986038805,1338.1988191205992,1338.2196522016238,1338.2404852818606,1338.2613183613323,1338.282151440022,1338.3029845179542,1338.3238175951149,1338.34465067152,1338.365483747188,1338.3863168221076,1338.4071498963099,1338.4279829697866,1338.4488160425715,1338.46964911466,1338.4904821860791,1339.6779676349975,1339.6988007479022,1339.7196338623742,1339.7404669784,1339.761300095965,1339.7821332150231,1339.802966335567,1339.8237994575488,1339.8446325809603,1339.8654657057518,1339.8862988319047,1339.9071319593986,1339.9279650881838,1339.9487982182502,1339.9696313495476,1339.9904644820667,1340.0112976157573,1340.0321307505997,1340.0529638865755,1340.0737970236355,1340.0946301617714,1340.1154633009348,1340.1362964411187,1340.1571295822757,1340.1779627243995,1340.198795867444,1340.2196290114034,1340.240462156233,1340.2612953019184,1340.2821284484457,1340.302961595772,1340.323794743894,1340.3446278927702,1340.3654610423982,1340.3862941927378,1340.4071273437878,1340.4279604955082,1340.4487936478902,1340.4696268009245,1340.4904599545728,1340.5112931088365,1340.5321262636792,1340.5529594191037,1340.5737925750727,1340.594625731591,1340.6154588886227,1340.6362920461725,1340.6571252042063,1340.6779583627192,1340.6987915217073,1340.7196246811377,1340.7404578410165,1340.761291001311,1340.7821241620188,1340.8029573231383,1340.8237904846374,1340.8446236465247,1340.8654568087693,1340.8862899713802,1340.9071231343269,1340.9279562976192,1340.9487894612273,1340.9696226251513,1340.9904557893922,1341.0112889539207,1341.0321221187478,1341.052955283845,1341.073788449224,1341.0946216148564,1341.1154547807544,1341.13628794689,1341.1571211132657,1341.1779542798845,1341.198787446719,1341.2196206137824,1341.2404537810476,1341.2612869485283,1341.2821201161978,1341.30295328407,1341.323786452119,1341.3446196203583,1341.3654527887625,1341.386285957336,1341.4071191260828,1341.4279522949778,1341.448785464036,1341.4696186332321,1341.4904518025812,1341.5112849720583,1341.5321181416784,1341.5529513114175,1341.5737844812902,1341.594617651273,1341.615450821371,1341.6362839915905,1341.6571171619066,1341.6779503323357,1341.6987835028542,1341.7196166734782,1341.740449844183,1341.7612830149862,1341.7821161858635,1341.8029493568217,1341.8237825278673,1341.844615698977,1341.865448870167,1341.8862820414151,1341.9071152127374,1341.927948384111,1341.948781555543,1341.9696147270406,1341.990447898581,1342.011281070181,1342.032114241818,1342.0529474135094,1342.0737805852325,1342.094613757005,1342.1154469288037,1342.1362801006371,1342.1571132725117,1342.177946444406,1342.1987796163373,1342.2196127882833,1342.240445960262,1342.2612791322508,1342.282112304268,1342.302945476291,1342.3237786483382,1342.3446118203876,1342.365444992457,1342.3862781645244,1342.407111336598,1342.4279445086856,1342.448777680766,1342.469610852857,1342.4904440249366,1342.511277197024,1342.5321103690962,1342.5529435411722,1342.5737767132305,1342.5946098852894,1342.6154430573272,1342.636276229362,1342.6571094013727,1342.6779425733678,1342.6987757453558,1342.719608917315,1342.7404420892642,1342.761275261182,1342.782108433087,1342.8029416049576,1342.8237747768123,1342.8446079486305,1342.8654411204207,1342.8862742921913,1342.9071074639212,1342.927940635629,1342.948773807294,1342.9696069789343,1342.9904401505294,1343.0112733220976,1343.0321064936181,1343.0529396651095,1343.073772836551,1343.0946060079611,1343.1154391793193,1343.1362723506343,1343.157105521915,1343.17793869314,1343.1987718643288,1343.2196050354605,1343.2404382065538,1343.2612713775875,1343.2821045485812,1343.3029377195135,1343.323770890404,1343.3446040612312,1343.3654372320048,1343.386270402733,1343.4071035733957,1343.427936744012,1343.4487699145604,1343.469603085061,1343.4904362554923,1343.5112694258735,1343.5321025961841,1343.5529357664432,1343.5737689366297,1343.5946021067632,1343.6154352768226,1343.6362684468274,1343.6571016167566,1343.6779347866345,1343.6987679564352,1343.719601126174,1343.740434295834,1343.7612674654247,1343.7821006349554,1343.802933804406,1343.8237669737955,1343.8446001431025,1343.8654333123472,1343.8862664815085,1343.9070996506057,1343.927932819619,1343.9487659885565,1343.969599157428,1343.9904323262133,1344.0112654949314,1344.0320986635613,1344.052931832123,1344.0737650005958,1344.0945981689986,1344.1154313373115,1344.1362645055538,1344.1570976737044,1344.1779308417827,1344.1987640097689,1344.2195971776816,1344.2404303455003,1344.261263513235,1344.2820966808947,1344.302929848469,1344.3237630159472,1344.344596183349,1344.3654293506536,1344.3862625178706,1344.4070956850094,1344.427928852049,1344.4487620190098,1344.469595185871,1344.4904283526516,1344.5112615193314,1344.53209468592,1344.5529278524266,1344.5737610188407,1344.5945941851521,1344.61542735138,1344.6362605175038,1344.6570936835335,1344.6779268494786,1344.6987600153182,1344.7195931810713,1344.7404263467186,1344.761259512279,1344.782092677732,1344.8029258430972,1344.8237590083538,1344.844592173522,1344.865425338581,1344.8862585035502,1344.907091668409,1344.9279248331675,1344.9487579978347,1344.9695911623905,1344.9904243268538,1345.011257491205,1345.032090655463,1345.0529238196075,1345.0737569836585,1345.094590147595,1345.1154233114366,1345.136256475163,1345.1570896387939,1345.1779228023086,1345.1987559657264,1345.2195891290273,1345.2404222922307,1345.2612554553164,1345.2820886183035,1345.3029217811718,1345.323754943941,1345.3445881065902,1345.3654212691295,1345.3862544315677,1345.4070875938853,1345.4279207561012,1345.4487539181957,1345.4695870801875,1345.4904202420566,1345.5112534038224,1345.5320865654646,1345.5529197270025,1345.573752888416,1345.5945860497247,1345.6154192109075,1345.6362523719847,1345.6570855329358,1345.6779186937802,1345.6987518544972,1345.7195850151068,1345.740418175588,1345.761251335961,1345.7820844962052,1345.8029176563298,1345.8237508163447,1345.8445839762294,1345.8654171360035,1345.8862502956465,1345.907083455178,1345.9279166145775,1345.9487497738646,1345.9695829330187,1345.9904160920596,1346.0112492509666,1346.0320824097596,1346.0529155684178,1346.0737487269612,1346.0945818853688,1346.1154150436605,1346.136248201816,1346.1570813598544,1346.1779145177557,1346.198747675539,1346.219580833184,1346.2404139907105,1346.261247148098,1346.2820803053655,1346.3029134624935,1346.3237466194907,1346.3445797763673,1346.365412933102,1346.3862460897149,1346.4070792461857,1346.4279124025334,1346.4487455587482,1346.4695787148191,1346.4904118707557,1346.5112450265674,1346.5320781822343,1346.5529113377754,1346.5737444931708,1346.594577648439,1346.6154108035603,1346.6362439585544,1346.6570771134004,1346.6779102681173,1346.6987434226858,1346.7195765771248,1346.7404097314136,1346.7612428855718,1346.7820760395791,1346.8029091934552,1346.8237423471787,1346.8445755007701,1346.8654086542085,1346.8862418075132,1346.9070749606642,1346.9279081136806,1346.948741266542,1346.9695744192672,1346.990407571837,1347.0112407242598,1347.0320738765456,1347.0529070286655,1347.073740180648,1347.094573332489,1347.1154064841708,1347.1362396357124,1347.157072787094,1347.1779059383248,1347.198739089414,1347.2195722403408,1347.2404053911253,1347.2612385417465,1347.282071692224,1347.3029048425374,1347.3237379927057,1347.3445711427084,1347.3654042925655,1347.3862374422556,1347.4070705917986,1347.4279037411736,1347.4487368904006,1347.4695700394584,1347.4904031883666,1347.5112363371045,1347.5320694856919,1347.5529026341076,1347.5737357823712,1347.5945689304622,1347.6154020784,1347.6362352261635,1347.6570683737727,1347.6779015212066,1347.6987346684846,1347.7195678155863,1347.7404009625307,1347.761234109297,1347.782067255905,1347.802900402334,1347.8237335486028,1347.8445666946911,1347.8653998406182,1347.8862329863634,1347.907066131936,1347.9278992773454,1347.9487324225809,1347.9695655676312,1347.9903987125165,1348.0112318572153,1348.0320650017472,1348.0528981460914,1348.0737312902672,1348.0945644342542,1348.1153975780708,1348.136230721697,1348.1570638651517,1348.1778970084144,1348.1987301514941,1348.2195632943997,1348.240396437121,1348.2612295796464,1348.282062721996,1348.3028958641487,1348.3237290061138,1348.3445621478998,1348.3653952894963,1348.3862284308927,1348.4070615721078,1348.4278947131208,1348.4487278539511,1348.4695609945777,1348.4903941350094,1348.5112272752554,1348.5320604153053,1348.5528935551476,1348.5737266948017,1348.5945598342466,1348.6153929734912,1348.6362261125453,1348.6570592513867,1348.6778923900354,1348.6987255284798,1348.7195586667099,1348.740391804744,1348.7612249425608,1348.78205808017,1348.80289121758,1348.82372435477,1348.8445574917594,1348.8653906285263,1348.8862237650899,1348.90705690144,1348.9278900375646,1348.9487231734824,1348.9695563091732,1348.9903894446556,1349.0112225799082,1349.03205571494,1349.0528888497595,1349.073721984346,1349.0945551187185,1349.1153882528654,1349.1362213867756,1349.157054520468,1349.1778876539213,1349.1987207871541,1349.2195539201455,1349.240387052914,1349.2612201854383,1349.2820533177373,1349.3028864497894,1349.3237195816137,1349.3445527131887,1349.365385844533,1349.386218975625,1349.4070521064837,1349.4278852370878,1349.4487183674555,1349.4695514975654,1349.4903846274362,1349.5112177570466,1349.532050886415,1349.5528840155198,1349.5737171443795,1349.5945502729728,1349.6153834013182,1349.6362165293938,1349.657049657218,1349.6778827847695,1349.6987159120667,1349.7195490390875,1349.7403821658509,1349.7612152923348,1349.7820484185577,1349.8028815444977,1349.823714670173,1349.8445477955624,1349.8653809206835,1349.8862140455146,1349.9070471700743,1349.92788029434,1349.9487134183307,1349.9695465420239,1349.990379665438,1350.011212788551,1350.0320459113807,1350.0528790339054,1350.0737121561428,1350.0945452780713,1350.1153783997083,1350.136211521032,1350.1570446420603,1350.177877762771,1350.198710883182,1350.219544003271,1350.2403771230559,1350.2612102425242,1350.2820433616637,1350.3028764804822,1350.3237095989873,1350.3445427171564,1350.3653758350072,1350.3862089525173,1350.4070420697044,1350.4278751865459,1350.4487083030588,1350.469541419231,1350.49037453505,1350.5112076505325,1350.5320407656563,1350.5528738804385,1350.5737069948564,1350.594540108927,1350.615373222628,1350.6362063359759,1350.6570394489481,1350.6778725615616,1350.698705673793,1350.71953878566,1350.7403718971389,1350.7612050082464,1350.78203811896,1350.8028712292958,1350.823704339231,1350.8445374487824,1350.865370557926,1350.8862036666785,1350.9070367750169,1350.9278698829576,1350.9487029904863,1350.9695360975902,1350.9903692042853,1351.0112023105478,1351.0320354163944,1351.0528685218005,1351.0737016267828,1351.094534731317,1351.1153678354194,1351.1362009390657,1351.1570340422718,1351.1778671450136,1351.1987002473068,1351.219533349127,1351.2403664504898,1351.2611995513712,1351.2820326517867,1351.3028657517111,1351.3236988511599,1351.344531950109,1351.3653650485735,1351.3861981465282,1351.4070312439883,1351.4278643409182,1351.448697437344,1351.4695305332602,1351.4903636286417,1351.5111967235027,1351.532029817819,1351.5528629116047,1351.5736960048346,1351.5945290975228,1351.6153621896442,1351.636195281213,1351.6570283722035,1351.6778614626298,1351.6986945524666,1351.7195276417278,1351.7403607303872,1351.7611938184589,1351.782026905917,1351.802859992776,1351.8236930790085,1351.8445261646289,1351.8653592496114,1351.886192333969,1351.9070254176763,1351.9278585007462,1351.9486915831624,1351.9695246649087,1351.9903577459893,1352.0111908264068,1352.0320239061452,1352.0528569851886,1352.07369006355,1352.0945231412034,1352.1153562181623,1352.1361892944012,1352.1570223699334,1352.177855444733,1352.1986885188137,1352.2195215921504,1352.2403546647572,1352.2611877366082,1352.2820208077185,1352.302853878063,1352.3236869476568,1352.3445200164858,1352.3653530845352,1352.3861861518208,1352.40701921832,1352.4278522840498,1352.4486853489866,1352.4695184131485,1352.490351476515,1352.511184539104,1352.5320176008956,1352.552850661911,1352.5736837221307,1352.5945167815776,1352.615349840244,1352.636182898125,1352.657015955246,1352.6778490115928,1352.6986820671934,1352.7195151220376,1352.740348176156,1352.7611812295402,1352.7820142822256,1352.8028473342076,1352.8236803855236,1352.8445134361746,1352.8653464862018,1352.8861795356104,1352.9070125844464,1352.9278456327206,1352.948678680484,1352.9695117277513,1352.990344774581,1353.0111778210035,1353.0320108670521,1353.0528439127938,1353.0736769582584,1353.0945100035185,1353.1153430486104,1353.136176093613,1353.1570091385684],\"y\":[0.9907516241073608,0.9906595349311829,0.9909294843673706,0.9906623959541321,0.9904647469520569,0.9909263849258423,0.9912069439888,0.9914976954460144,0.9921343326568604,0.9924970269203186,0.9933798313140869,0.994135320186615,0.9950038194656372,0.9959642887115479,0.997412919998169,0.998431384563446,0.9995929002761841,1.000407099723816,1.0018852949142456,1.0030245780944824,1.0035821199417114,1.0045610666275024,1.0053449869155884,1.0074867010116577,1.0075184106826782,1.008270502090454,1.0086830854415894,1.0088741779327393,1.009430170059204,1.0099889039993286,1.0105905532836914,1.0108646154403687,1.0124783515930176,1.012760877609253,1.0131912231445312,1.0136464834213257,1.014238953590393,1.0144999027252197,1.014920949935913,1.0154846906661987,1.0157418251037598,1.0155835151672363,1.016120433807373,1.016271948814392,1.0167917013168335,1.016453504562378,1.0163934230804443,1.016359567642212,1.0164076089859009,1.0158061981201172,1.0157939195632935,1.0155078172683716,1.0151047706604004,1.0149247646331787,1.0143439769744873,1.0140414237976074,1.014153242111206,1.0136172771453857,1.0130345821380615,1.0125904083251953,1.0120924711227417,1.011589527130127,1.0110772848129272,1.0103996992111206,1.0101299285888672,1.010116457939148,1.0096889734268188,1.0092817544937134,1.0088255405426025,1.0084282159805298,1.008156180381775,1.0077184438705444,1.006942629814148,1.0063813924789429,1.0062761306762695,1.0057824850082397,1.0061955451965332,1.0068429708480835,1.0062236785888672,1.004826307296753,1.0041630268096924,1.0037577152252197,1.002979040145874,1.003019094467163,1.002560019493103,1.0025508403778076,1.0021934509277344,1.0020464658737183,1.0018540620803833,1.0024561882019043,1.0031057596206665,1.002604365348816,1.0025609731674194,1.0023232698440552,1.0024398565292358,1.001946210861206,1.0017002820968628,1.0013668537139893,1.0008881092071533,1.0000953674316406,0.9992472529411316,0.9987173080444336,0.9981395602226257,0.9978463649749756,0.9974873065948486,0.997008204460144,0.9972385168075562,0.9966292977333069,0.996444821357727,0.9961264729499817,0.9957096576690674,0.9950326681137085,0.9945406317710876,0.9945358037948608,0.9938256144523621,0.9935523867607117,0.9932505488395691,0.9928863048553467,0.9926590323448181,0.992083728313446,0.9915264844894409,0.9175311326980591,0.9908336400985718,0.9906736016273499,0.990319550037384,0.9901546835899353,0.9898688793182373,0.9896382689476013,0.9893941879272461,0.9892983436584473,0.9893959760665894,0.9894387125968933,0.989693284034729,0.9898534417152405,0.9905173778533936,0.9911430478096008,0.9914190769195557,0.9921396374702454,0.9930317997932434,0.9938037991523743,0.9944714307785034,0.9958366751670837,0.9969459772109985,0.9978346824645996,0.9991906881332397,0.9998698830604553,1.0012590885162354,1.002398133277893,1.0045839548110962,1.0048729181289673,1.0054806470870972,1.0064092874526978,1.006748080253601,1.0076526403427124,1.0085660219192505,1.009259819984436,1.0097090005874634,1.0103718042373657,1.0108860731124878,1.0113383531570435,1.012224555015564,1.0125294923782349,1.0132478475570679,1.0138722658157349,1.014512538909912,1.014920949935913,1.0152572393417358,1.0154346227645874,1.0157486200332642,1.0159492492675781,1.0161460638046265,1.0161372423171997,1.0164960622787476,1.016594648361206,1.0164713859558105,1.0165261030197144,1.0161157846450806,1.016013503074646,1.0157326459884644,1.0153260231018066,1.014758825302124,1.0144773721694946,1.0148990154266357,1.0143582820892334,1.0139524936676025,1.0132607221603394,1.0129073858261108,1.012600064277649,1.0117570161819458,1.0114580392837524,1.0107492208480835,1.0100315809249878,1.009668231010437,1.0094530582427979,1.009033441543579,1.0088326930999756,1.008458137512207,1.0082430839538574,1.0077786445617676,1.0061638355255127,1.0060818195343018,1.005529522895813,1.0044704675674438,1.0038450956344604,1.0031710863113403,1.002542495727539,1.0018595457077026,1.0015573501586914,1.0014592409133911,1.0009747743606567,1.0009822845458984,1.0004655122756958,1.0004066228866577,1.000403642654419,1.0003949403762817,1.0002154111862183,1.0001704692840576,1.000013828277588,1.000138759613037,1.0006192922592163,1.0009061098098755,1.0000386238098145,1.0000444650650024,0.9999797940254211,0.9987682104110718,0.9987003803253174,0.998342752456665,0.9982590079307556,0.9971821904182434,0.9970895648002625,0.9968743324279785,0.9978616833686829,0.9982808828353882,0.9974068999290466,0.9963975548744202,0.9960850477218628,0.9954397082328796,0.9950373768806458,0.9950215220451355,0.995549201965332,0.9948976635932922,0.9234238862991333,0.9960178732872009,0.9952054619789124,0.9945569038391113,0.9940894842147827,0.9931130409240723,0.9927197694778442,0.9924972057342529,0.991931140422821,0.9919834733009338,0.9911845922470093,0.9911057353019714,0.9907102584838867,0.990831196308136,0.9903095364570618,0.989884078502655,0.9898417592048645,0.9901095628738403,0.9901320934295654,0.9908022284507751,0.9905156493186951,0.9909383058547974,0.9910302758216858,0.9916602969169617,0.992323100566864,0.9930805563926697,0.9939454793930054,0.9948070049285889,0.9958996176719666,0.9967839121818542,0.997772216796875,0.9988616704940796,0.9999531507492065,1.0007641315460205,1.001867413520813,1.0027341842651367,1.0035669803619385,1.004591941833496,1.0051140785217285,1.0058547258377075,1.006369948387146,1.0073426961898804,1.0078845024108887,1.008496642112732,1.0093387365341187,1.0100114345550537,1.0108474493026733,1.0112736225128174,1.012102723121643,1.0127408504486084,1.013181447982788,1.0138221979141235,1.0144070386886597,1.0145435333251953,1.015131950378418,1.0154287815093994,1.0156795978546143,1.0158323049545288,1.0159779787063599,1.0160232782363892,1.0161949396133423,1.01595139503479,1.0161333084106445,1.015485405921936,1.014965295791626,1.0148152112960815,1.014755368232727,1.0140724182128906,1.0147231817245483,1.0139185190200806,1.012961745262146,1.012365698814392,1.012036681175232,1.0111392736434937,1.0105223655700684,1.0099760293960571,1.0089858770370483,1.008629322052002,1.007886528968811,1.0074942111968994,1.0068410634994507,1.0062413215637207,1.005928874015808,1.005133032798767,1.004299521446228,1.003757119178772,1.0031440258026123,1.0028997659683228,1.0020227432250977,1.001225471496582,1.0005837678909302,1.0001187324523926,0.9996263384819031,0.9988520741462708,0.9987621307373047,0.9983389973640442,0.9978238940238953,0.9977473616600037,0.997563362121582,0.9970117211341858,0.9971780776977539,0.9974913001060486,0.9972183704376221,0.997223973274231,0.9972357749938965,0.997160017490387,0.997333824634552,0.996992826461792,0.9968075752258301,0.9967172145843506,0.9965951442718506,0.9961507320404053,0.9957867860794067,0.9954144954681396,0.9953290820121765,0.9947645664215088,0.9944657683372498,0.9938659071922302,0.9933374524116516,0.9933748841285706,0.9183130264282227,0.9942728877067566,0.9932899475097656,0.9926086068153381,0.9925521612167358,0.9921297430992126,0.9922274947166443,0.9919317364692688,0.9918763041496277,0.9919006824493408,0.9917434453964233,0.9918432235717773,0.9916113615036011,0.9905714392662048,0.9902213215827942,0.9901596307754517,0.9896082282066345,0.9894194006919861,0.98899245262146,0.9887890219688416,0.9886261224746704,0.9885661602020264,0.9883418083190918,0.988197922706604,0.9882035851478577,0.9882975220680237,0.9887335300445557,0.9886143207550049,0.989243745803833,0.989554762840271,0.9901127219200134,0.9905462265014648,0.9912636876106262,0.9920299649238586,0.993012011051178,0.9940200448036194,0.9948036074638367,0.996586799621582,0.9969685077667236,0.9981635808944702,0.99908447265625,0.9999208450317383,1.0005841255187988,1.0011281967163086,1.002044677734375,1.0030417442321777,1.0037864446640015,1.004271149635315,1.0048511028289795,1.005700945854187,1.006347894668579,1.0071179866790771,1.0075535774230957,1.00821852684021,1.0092182159423828,1.0098987817764282,1.01076340675354,1.0110647678375244,1.0119602680206299,1.0119482278823853,1.0127393007278442,1.013081669807434,1.0135612487792969,1.0139846801757812,1.0145792961120605,1.0145183801651,1.0145872831344604,1.0149840116500854,1.0156078338623047,1.0157755613327026,1.0150481462478638,1.014969825744629,1.0145773887634277,1.0138298273086548,1.013668417930603,1.0133764743804932,1.0127054452896118,1.0123051404953003,1.0116252899169922,1.0110642910003662,1.0099939107894897,1.0096282958984375,1.0089612007141113,1.0082951784133911,1.0075852870941162,1.0069230794906616,1.0062283277511597,1.0055687427520752,1.0048772096633911,1.0040730237960815,1.0033315420150757,1.0027930736541748,1.0019718408584595,1.0014811754226685,1.0007603168487549,1.000008463859558,0.9994078874588013,0.9986391663551331,0.997917115688324,0.9974387884140015,0.9972065091133118,0.9964674115180969,0.9956768155097961,0.9920358657836914,0.9950160980224609,0.9951494932174683,0.995028555393219,0.9949308037757874,0.9942373037338257,0.9946330785751343,0.9945580959320068,0.9947367310523987,0.995017409324646,0.9949156641960144,0.9951276779174805,0.9954132437705994,0.9952654242515564,0.9951603412628174,0.9949387311935425,0.9944944381713867,0.923138439655304,0.99413001537323,0.9941650032997131,0.9934719204902649,0.993341326713562,0.9930261373519897,0.9929182529449463,0.992912769317627,0.9926919937133789,0.9925847053527832,0.9922026991844177,0.9918377995491028,0.9921166300773621,0.9917767643928528,0.9916183948516846,0.9913177490234375,0.9916287064552307,0.9913434386253357,0.9912291765213013,0.9910018444061279,0.9906104207038879,0.9905303120613098,0.9900290369987488,0.9895605444908142,0.9891723394393921,0.9887285232543945,0.9889615774154663,0.9889683723449707,0.988354504108429,0.988531231880188,0.9879359006881714,0.9880852103233337,0.9879333972930908,0.987906277179718,0.9881335496902466,0.9884161353111267,0.9892047047615051,0.9891423583030701,0.9894356727600098,0.989553689956665,0.9905750155448914,0.9910619258880615,0.991680383682251,0.9926742911338806,0.9938032031059265,0.9945001006126404,0.9952611923217773,0.9960814118385315,0.9970514178276062,0.9985713362693787,0.9987233281135559,0.9997642040252686,1.0005450248718262,1.0013145208358765,1.002606987953186,1.0028654336929321,1.0033601522445679,1.0044327974319458,1.0049928426742554,1.005388855934143,1.0062469244003296,1.0076550245285034,1.0083177089691162,1.0089234113693237,1.0094797611236572,1.0086829662322998,1.0102211236953735,1.0112601518630981,1.0114521980285645,1.012174367904663,1.0125466585159302,1.013051986694336,1.0131103992462158,1.0134576559066772,1.0134538412094116,1.0136312246322632,1.0131548643112183,1.012837290763855,1.0128974914550781,1.0126729011535645,1.0122562646865845,1.0118305683135986,1.011541724205017,1.0110100507736206,1.0103555917739868,1.0097554922103882,1.0092544555664062,1.0087288618087769,1.008010745048523,1.0073148012161255,1.0064220428466797,1.0058752298355103,1.0048770904541016,1.0044137239456177,1.003805160522461,1.0029884576797485,1.0021615028381348,1.0013363361358643,1.0004727840423584,0.9998460412025452,0.9990570545196533,0.9984562397003174,0.996905505657196,0.9970155358314514,0.9961025714874268,0.9956074953079224,0.9952744245529175,0.9942323565483093,0.9943971633911133,0.9936335682868958,0.9932394027709961,0.9928137063980103,0.992729663848877,0.9932467937469482,0.9927822351455688,0.9925894737243652,0.9930025935173035,0.9926088452339172,0.9929619431495667,0.9932740330696106,0.8620855808258057,0.9938470721244812,0.9940147399902344,0.9939950108528137,0.9938697814941406,0.9939754009246826,0.9938081502914429,0.9935492277145386,0.9931542873382568,0.9934797286987305,0.9928227663040161,0.9924536943435669,0.9925252795219421,0.9922530651092529,0.992222249507904,0.9919716715812683,0.9918714165687561,0.9916940927505493,0.9917634725570679,0.9918115139007568,0.9911240339279175,0.9911954998970032,0.990926206111908,0.9907180666923523,0.9906901717185974,0.9908713698387146,0.9907006621360779,0.9906589388847351,0.9901129603385925,0.9898641109466553,0.9897074699401855,0.9891121983528137,1.0149296522140503,1.0146254301071167,1.0142146348953247,1.01417875289917,1.013724446296692,1.0131349563598633,1.0128549337387085,1.0119516849517822,1.0112395286560059,1.0105379819869995,1.0099945068359375,1.0092960596084595,1.0083950757980347,1.0073254108428955,1.0067648887634277,1.0058530569076538,1.0052118301391602,1.0046892166137695,1.003859519958496,1.0032479763031006,1.0025091171264648,1.0021313428878784,1.0011305809020996,1.00053071975708,0.9994456171989441,0.999370276927948,0.9987349510192871,0.9990119934082031,0.9987514019012451,0.9980867505073547,0.9976799488067627,0.997374415397644,0.9975643754005432,0.9974908828735352,0.9973487257957458,0.9976877570152283,0.9973461031913757,0.9980676770210266,0.9983354806900024,0.99854576587677,0.9991806149482727,0.9993669986724854,0.9989683032035828,0.9986886978149414,0.9985902309417725,0.9984458684921265,0.9984666109085083,0.9981846809387207,0.9979026913642883,0.9974554777145386,0.9974181652069092,0.9970504641532898,0.9970726370811462,0.9969571828842163,0.9969406723976135,0.9964433908462524,0.9962463974952698,0.9960724711418152,0.995847761631012,0.9958071708679199,0.9957411289215088,0.995360791683197,0.9960373044013977,0.9961034655570984,0.9956920742988586,0.9950050115585327,0.9946995973587036,0.9941903948783875,0.9937333464622498,0.9934418797492981,0.9928162097930908,0.992786705493927,0.9926660656929016,0.9918419122695923,0.9920680522918701,0.9919476509094238,0.9916927814483643,0.9918195605278015,0.991371214389801,0.9910438060760498,0.9911628365516663,0.991241991519928,0.9913114309310913,0.9912934899330139,0.991590678691864,0.9920497536659241,0.9923071265220642,0.9931105971336365,0.9937593936920166,0.9943692684173584,0.9952250123023987,0.9960906505584717,0.996922492980957,0.9978759288787842,0.9988018274307251,0.9997209310531616,1.0004637241363525,0.999148428440094,1.0022419691085815,1.0027912855148315,1.003894329071045,1.0070856809616089,1.0076221227645874,1.011134147644043,1.026224136352539,1.0247467756271362,1.0426900386810303,1.3278920650482178,1.1401461362838745,1.0579311847686768,1.0358246564865112,1.0266377925872803,1.0232535600662231,1.0213795900344849,1.0215555429458618,1.0190317630767822,1.0192232131958008,1.0190563201904297,1.0190942287445068,1.0191859006881714,0.8981117606163025,1.019421935081482,1.0189805030822754,1.0183618068695068,1.0182920694351196,1.0180197954177856,1.0176212787628174,1.017127275466919,1.016885757446289,1.016136884689331,1.0159069299697876,1.0153534412384033,1.0151678323745728,1.0143452882766724,1.0132648944854736,1.0130280256271362,1.012166142463684,1.011468768119812,1.0102249383926392,1.0095707178115845,1.0090922117233276,1.0083098411560059,1.0075113773345947,1.0068857669830322,1.0062181949615479,1.0053961277008057,1.0044361352920532,1.003721833229065,1.0031073093414307,1.0023845434188843,1.0018364191055298,1.0014803409576416,1.0011117458343506,1.0005033016204834,0.9998867511749268,0.9995239973068237,0.9993188977241516,0.9987293481826782,0.9986957311630249,0.9987265467643738,0.9982851147651672,0.9984378218650818,0.9985665678977966,0.9989067912101746,0.9991628527641296,0.9998806118965149,0.9993767738342285,0.9996622800827026,1.0000624656677246,1.000298023223877,0.9999854564666748,0.9999723434448242,1.0001826286315918,1.0008395910263062,0.9999660849571228,0.9995063543319702,0.9995756149291992,0.999466061592102,0.9991308450698853,0.9989754557609558,0.9989718198776245,0.9985715746879578,0.9985755681991577,0.9985309839248657,0.9982209801673889,0.9980362057685852,0.997380256652832,0.9977074861526489,0.9974150061607361,0.9975348114967346,0.9974077939987183,0.9971655011177063,0.9970697164535522,0.996677815914154,0.9966602325439453,0.9959139823913574,0.9959574937820435,0.9954608678817749,0.9950054883956909,0.9948689341545105,0.9946311116218567,0.9940194487571716,0.9937520623207092,0.9935778975486755,0.9932437539100647,0.9932655096054077,0.9925704002380371,0.9927278757095337,0.9929355978965759,0.9932312369346619,0.993223249912262,0.9935849905014038,0.9934300780296326,0.9940133094787598,0.9945352673530579,0.9949162602424622,0.9959187507629395,0.9964379668235779,0.9973621368408203,0.9980776309967041,0.9965522289276123,0.9991955757141113,1.0004862546920776,1.001062273979187,1.002193808555603,1.0030229091644287,1.003583312034607,1.0040230751037598,1.005144715309143,1.0058296918869019,1.0066012144088745,1.007275938987732,1.0081162452697754,1.008475661277771,1.0092183351516724,1.0101200342178345,1.010730504989624,1.0114474296569824,1.0124759674072266,1.0131652355194092,0.9452348947525024,1.0150727033615112,1.0153067111968994,1.0159647464752197,1.0167111158370972,1.0165754556655884,1.0169703960418701,1.0173670053482056,1.0179041624069214,1.0177761316299438,1.0178519487380981,1.0177273750305176,1.0177500247955322,1.0171473026275635,1.0171083211898804,1.016984462738037,1.016404390335083,1.0163401365280151,1.016345500946045,1.0152491331100464,1.014323353767395,1.0137981176376343,1.0131913423538208,1.01218581199646,1.0113956928253174,1.0110708475112915,1.010201334953308,1.0092341899871826,1.0080138444900513,1.007567048072815,1.0064854621887207,1.0057615041732788,1.004865050315857,1.004176378250122,1.0034213066101074,1.0031678676605225,1.002242922782898,1.0015416145324707,1.0007413625717163,0.999772310256958,0.9990265965461731,0.9990887641906738,0.9986549019813538,0.998201310634613,0.9975079894065857,0.9970685243606567,0.996782124042511,0.9970850944519043,0.996871292591095,0.9967823624610901,0.9966649413108826,0.9970321655273438,0.9973320960998535,0.9974088072776794,0.9982028603553772,0.9986251592636108,0.9981693029403687,0.9977456331253052,0.9978966116905212,0.9978892803192139,0.9981931447982788,0.9978760480880737,0.9979085922241211,0.9974828362464905,0.9979740381240845,0.9988441467285156,0.9982855916023254,0.9983714818954468,0.9984084367752075,0.9980090260505676,0.9979421496391296,0.9978203773498535,0.9981405735015869,0.9990914463996887,0.9985888004302979,0.9985091686248779,0.9984782934188843,0.998288631439209,0.9981425404548645,0.9982668161392212,0.9981130361557007,0.9977511167526245,0.9978053569793701,0.9977051019668579,0.9971331357955933,0.9971861839294434,0.997087836265564,0.9970489740371704,0.9966409206390381,0.9965761303901672,0.9966409206390381,0.9969377517700195,0.9961881637573242,0.9965765476226807,0.9965817332267761,0.9959728717803955,0.9957871437072754,0.996146023273468,0.9962220788002014,0.9968646764755249,0.9969338178634644,0.998039722442627,0.9980136156082153,0.9989976286888123,0.9991945028305054,0.9998490214347839,1.0006294250488281,1.0012966394424438,1.0020307302474976,1.0031784772872925,1.0036118030548096,1.005041480064392,1.0056730508804321,1.0061112642288208,1.0074912309646606,1.008292317390442,1.0079377889633179,1.008197546005249,1.0085113048553467,1.0092400312423706,0.9308225512504578,1.0106281042099,1.0113041400909424,1.0118684768676758,1.0123379230499268,1.0126539468765259,1.0131170749664307,1.0138654708862305,1.0143811702728271,0.9990427494049072,1.0129871368408203,1.0153915882110596,1.0153594017028809,1.0155919790267944,1.015936255455017,1.015040397644043,1.0140048265457153,1.015572190284729,1.0136979818344116,1.0155495405197144,1.0145562887191772,1.0154305696487427,1.014572262763977,1.0144010782241821,1.0135481357574463,1.012956976890564,1.0120487213134766,1.0035353899002075,1.0089548826217651,1.0096430778503418,1.0055253505706787,1.0089348554611206,1.007362723350525,1.0063198804855347,1.0062509775161743,1.0049189329147339,1.0034611225128174,1.0037457942962646,1.0030263662338257,1.0019071102142334,0.9999498724937439,0.997984766960144,0.9976440072059631,0.9979382157325745,0.9912212491035461,0.9959407448768616,0.9954236745834351,0.9931761026382446,0.9939103126525879,0.9939004778862,0.9904242157936096,0.9930655360221863,0.9922280311584473,0.972506046295166,0.9675270915031433,0.9917448163032532,0.9934496283531189,0.9926204085350037,0.9929418563842773,0.9933696389198303,0.9916354417800903,0.9670428037643433,0.97291499376297,0.9929766654968262,0.9947148561477661,0.987077534198761,0.9917172193527222,0.9940846562385559,0.9918210506439209,0.9950308203697205,0.9936057329177856,0.9922307133674622,0.9919613599777222,0.9891332983970642,0.9946619868278503,0.9949982762336731,0.980354905128479,0.949118435382843,0.9876238107681274,0.9941635727882385,0.9941200017929077,0.9954707026481628,0.9906858801841736,0.9974812865257263,0.9985084533691406,0.997970700263977,0.9969539642333984,0.9877462387084961,0.995173454284668,0.9952280521392822,0.9976848363876343,0.9905292391777039,0.997988224029541,0.9968966841697693,0.9966230392456055,0.9794670343399048,0.9342026114463806,0.9928895831108093,0.9969033598899841,0.9935492277145386,0.9508457183837891,0.9514842629432678,0.9923045039176941,0.9979426860809326,0.9982514381408691,0.9982861280441284,0.9983509182929993,0.9990081191062927,0.9992402195930481,0.9995232820510864,1.0004255771636963,1.0006436109542847,1.0014421939849854,1.001940131187439,1.0031137466430664,1.0030375719070435,1.004541277885437,1.0044256448745728,1.004771113395691,1.0051136016845703,0.9298360347747803,1.0071197748184204,1.0072370767593384,1.007544994354248,1.008074402809143,1.0086332559585571,1.009239673614502,1.0095611810684204,1.010128378868103,1.0108379125595093,1.0112814903259277,1.0116620063781738,1.0124694108963013,1.0126312971115112,1.0130692720413208,1.0136221647262573,1.0143678188323975,1.0147123336791992,1.0149916410446167,1.0154451131820679,1.0171804428100586,1.0161082744598389,1.0159560441970825,1.01625657081604,1.0168720483779907,1.016297698020935,1.0153385400772095,1.0149476528167725,1.014635682106018,1.014397382736206,1.0140738487243652,1.0136364698410034,1.0130493640899658,1.0124093294143677,1.01168954372406,1.0112844705581665,1.010646939277649,1.0098580121994019,1.008887767791748,1.0082247257232666,1.0071089267730713,1.0065613985061646,1.0058351755142212,1.0047520399093628,1.003842830657959,1.0031800270080566,1.002763032913208,1.0018619298934937,1.000587821006775,1.0000169277191162,0.998924195766449,0.9981755614280701,0.9971853494644165,0.9965571165084839,0.9958216547966003,0.995215117931366,0.9952544569969177,0.9942041635513306,0.9936925172805786,0.9936378002166748,0.9934095144271851,0.9934633374214172,0.9932298064231873,0.9932214021682739,0.9933566451072693,0.9944717884063721,0.995275616645813,0.9953227043151855,0.9958040714263916,0.9959399104118347,0.9961627125740051,0.9959203004837036,0.9962618350982666,0.9962040781974792,0.9971833229064941,0.9965550303459167,0.9975711107254028,0.9982478618621826,0.9984939694404602,0.998410701751709,0.9987402558326721,0.998635470867157,0.9990901350975037,0.9995585680007935,0.9997217655181885,1.0,1.0001343488693237,1.0003879070281982,1.00041925907135,1.0007401704788208,1.0008177757263184,1.0012037754058838,1.0012824535369873,1.0014957189559937,1.0012520551681519,1.0009808540344238,1.0010817050933838,1.0010305643081665,1.0013383626937866,1.0018876791000366,1.001592993736267,1.000659465789795,1.0011811256408691,1.0004801750183105,1.0000109672546387,0.9997931718826294,0.999509871006012,0.9993155002593994,0.9990821480751038,0.9991250038146973,0.998874306678772,0.9988214373588562,0.9987159371376038,0.9994818568229675,0.9992648959159851,0.9997335076332092,0.9997832775115967,1.0008100271224976,1.0011736154556274,1.0020188093185425,0.8968154788017273,1.0028082132339478,1.0032987594604492,1.003745198249817,1.0041245222091675,1.0044982433319092,1.005395531654358,1.005543828010559,1.0061079263687134,1.006418228149414,1.0071690082550049,1.0073355436325073,1.007848858833313,1.0083701610565186,1.009130597114563,1.0092875957489014,1.0099425315856934,1.0105575323104858,1.0109553337097168,1.0119277238845825,1.0117918252944946,1.0121241807937622,1.0122872591018677,1.012683391571045,1.012959599494934,1.013556957244873,1.0141563415527344,1.014357566833496,1.0147308111190796,1.0146030187606812,1.0145206451416016,1.0146267414093018,1.014520525932312,1.0142420530319214,1.0139977931976318,1.0135806798934937,1.013582468032837,1.013027310371399,1.0127676725387573,1.0124162435531616,1.0118056535720825,1.0117019414901733,1.0111037492752075,1.0105392932891846,1.0117310285568237,1.0092118978500366,1.0085594654083252,1.0075595378875732]},\"selected\":{\"id\":\"2992\"},\"selection_policy\":{\"id\":\"2991\"}},\"id\":\"2839\",\"type\":\"ColumnDataSource\"},{\"attributes\":{\"axis\":{\"id\":\"2809\"},\"coordinates\":null,\"dimension\":1,\"group\":null,\"ticker\":null},\"id\":\"2812\",\"type\":\"Grid\"},{\"attributes\":{\"fill_alpha\":{\"value\":0.1},\"fill_color\":{\"value\":\"black\"},\"hatch_alpha\":{\"value\":0.1},\"line_alpha\":{\"value\":0.1},\"line_color\":{\"value\":null},\"size\":{\"value\":2},\"x\":{\"field\":\"x\"},\"y\":{\"field\":\"y\"}},\"id\":\"2829\",\"type\":\"Circle\"},{\"attributes\":{},\"id\":\"2983\",\"type\":\"AllLabels\"},{\"attributes\":{},\"id\":\"2990\",\"type\":\"Selection\"},{\"attributes\":{\"coordinates\":null,\"data_source\":{\"id\":\"2827\"},\"glyph\":{\"id\":\"2828\"},\"group\":null,\"hover_glyph\":null,\"muted_glyph\":{\"id\":\"2830\"},\"nonselection_glyph\":{\"id\":\"2829\"},\"view\":{\"id\":\"2832\"}},\"id\":\"2831\",\"type\":\"GlyphRenderer\"},{\"attributes\":{},\"id\":\"2810\",\"type\":\"BasicTicker\"},{\"attributes\":{\"source\":{\"id\":\"2827\"}},\"id\":\"2832\",\"type\":\"CDSView\"},{\"attributes\":{\"data\":{\"x\":[1325.323901064325,1325.3447342368493,1325.3655674100485,1325.3864005839657,1325.4072337586317,1325.4280669340615,1325.4489001102568,1325.4697332872036,1325.490566464876,1325.5113996432344,1325.5322328222285,1325.5530660017919,1325.5738991818514,1325.5947323623227,1325.6155655431132,1325.6363987241252,1325.657231905256,1325.6780650864,1325.6988982674488,1325.7197314482976,1325.7405646288425,1325.7613978089855,1325.7822309886326,1325.8030641676985,1325.8238973461089,1325.8447305237953,1325.8655637007057,1325.8863968767976,1325.9072300520427,1325.928063226429,1325.9488963999536,1325.9697295726296,1325.9905627444857,1326.011395915561,1326.0322290859108,1326.0530622555984,1326.0738954246995,1326.094728593298,1326.115561761486,1326.1363949293643,1326.157228097035,1326.1780612646044,1326.1988944321777,1326.2197275998617,1326.2405607677601,1326.2613939359705,1326.282227104588,1326.3030602736947,1326.3238934433666,1326.3447266136686,1326.3655597846532,1326.386392956364,1326.4072261288259,1326.4280593020524,1326.4488924760437,1326.469725650786,1326.4905588262502,1326.511392002396,1326.5322251791704,1326.5530583565053,1326.573891534327,1326.5947247125487,1326.6155578910784,1326.636391069818,1326.6572242486634,1326.6780574275072,1326.6988906062447,1326.7197237847686,1326.7405569629768,1326.7613901407715,1326.7822233180598,1326.803056494756,1326.8238896707878,1326.8447228460898,1326.8655560206107,1326.886389194311,1326.907222367162,1326.928055539152,1326.9488887102823,1326.9697218805693,1326.9905550500425,1327.011388218742,1327.0322213867234,1327.0530545540528,1327.073887720807,1327.0947208870716,1327.1155540529412,1327.1363872185134,1327.157220383892,1327.1780535491841,1327.1988867144958,1327.2197198799345,1327.2405530456006,1327.2613862115918,1327.2822193780007,1327.3030525449115,1327.3238857123977,1327.344718880523,1327.3655520493398,1327.3863852188845,1327.407218389185,1327.4280515602518,1327.4488847320833,1327.469717904664,1327.490551077964,1327.511384251938,1327.5322174265332,1327.5530506016817,1327.573883777307,1327.5947169533224,1327.6155501296332,1327.636383306141,1327.6572164827414,1327.6780496593285,1327.6988828357958,1327.7197160120377,1327.7405491879495,1327.761382363436,1327.782215538406,1327.8030487127758,1327.8238818864725,1327.8447150594338,1327.8655482316071,1327.886381402956,1327.9072145734556,1327.9280477430948,1327.9488809118768,1327.969714079818,1327.9905472469504,1328.0113804133175,1328.0322135789752,1328.0530467439914,1328.0738799084447,1328.094713072421,1328.1155462360148,1328.1363793993262,1328.1572125624589,1328.1780457255204,1328.1988788886163,1328.2197120518522,1328.2405452153293,1328.261378379147,1328.282211543395,1328.3030447081553,1328.3238778735004,1328.3447110394925,1328.3655442061827,1328.3863773736064,1328.4072105417893,1328.4280437107407,1328.4488768804547,1328.4697100509165,1328.4905432220924,1328.5113763939385,1328.5322095663985,1328.5530427394037,1328.5738759128733,1328.5947090867228,1328.6155422608565,1328.6363754351758,1328.6572086095737,1328.678041783945,1328.6988749581828,1328.7197081321826,1328.7405413058411,1328.7613744790635,1328.7822076517577,1328.8030408238433,1328.8238739952465,1328.8447071659077,1328.8655403357773,1328.8863735048194,1328.9072066730103,1328.9280398403405,1328.9488730068167,1328.9697061724573,1328.9905393372944,1329.011372501374,1329.0322056647526,1329.0530388275006,1329.0738719896972,1329.0947051514295,1329.115538312794,1329.1363714738904,1329.1572046348224,1329.1780377956973,1329.1988709566222,1329.219704117701,1329.2405372790372,1329.2613704407256,1329.2822036028556,1329.3030367655094,1329.3238699287583,1329.344703092663,1329.3655362572713,1329.3863694226184,1329.407202588727,1329.428035755605,1329.4488689232464,1329.4697020916324,1329.4905352607295,1329.5113684304893,1329.5322016008554,1329.5530347717568,1329.573867943116,1329.5947011148423,1329.6155342868417,1329.6363674590116,1329.6572006312485,1329.6780338034457,1329.6988669754976,1329.719700147298,1329.7405333187446,1329.761366489743,1329.7821996602038,1329.8030328300463,1329.8238659992007,1329.8446991676058,1329.8655323352136,1329.8863655019913,1329.907198667917,1329.9280318329836,1329.9488649971981,1329.969698160583,1329.990531323168,1330.0113644850035,1330.0321976461487,1330.053030806674,1330.07386396666,1330.0946971261942,1330.1155302853736,1330.1363634442996,1330.157196603076,1330.178029761812,1330.1988629206112,1330.2196960795795,1330.2405292388182,1330.2613623984223,1330.2821955584805,1330.3030287190736,1330.3238618802718,1330.344695042132,1330.3655282047025,1330.3863613680167,1330.4071945320952,1330.4280276969446,1330.4488608625572,1330.4696940289105,1330.490527195969,1330.5113603636862,1330.5321935320023,1330.553026700845,1330.5738598701328,1330.5946930397777,1330.615526209683,1330.6363593797466,1330.6571925498652,1330.6780257199316,1330.6988588898378,1330.7196920594804,1330.7405252287574,1330.7613583975753,1330.7821915658458,1330.8030247334889,1330.823857900435,1330.844691066627,1330.8655242320172,1330.8863573965748,1330.9071905602798,1330.9280237231262,1330.9488568851227,1330.9696900462923,1330.9905232066717,1331.0113563663099,1331.032189525267,1331.053022683614,1331.073855841433,1331.094688998815,1331.1155221558554,1331.136355312658,1331.1571884693255,1331.1780216259667,1331.1988547826857,1331.2196879395883,1331.2405210967759,1331.2613542543415,1331.282187412373,1331.3030205709497,1331.323853730141,1331.3446868900019,1331.36552005058,1331.3863532119067,1331.4071863739994,1331.428019536864,1331.4488527004885,1331.4696858648522,1331.490519029918,1331.511352195635,1331.5321853619419,1331.5530185287673,1331.5738516960278,1331.5946848636343,1331.6155180314895,1331.6363511994894,1331.6571843675304,1331.6780175355068,1331.6988507033102,1331.7196838708371,1331.740517037988,1331.7613502046672,1331.7821833707897,1331.803016536275,1331.8238497010564,1331.8446828650776,1331.865516028295,1331.8863491906752,1331.907182352202,1331.9280155128722,1331.9488486726962,1331.969681831699,1331.9905149899173,1332.0113481474007,1332.0321813042137,1332.0530144604277,1332.0738476161278,1332.0946807714033,1332.115513926351,1332.1363470810736,1332.157180235678,1332.1780133902694,1332.1988465449563,1332.2196796998394,1332.2405128550201,1332.2613460105924,1332.2821791666427,1332.3030123232497,1332.3238454804793,1332.3446786383856,1332.3655117970166,1332.3863449563978,1332.407178116548,1332.4280112774711,1332.4488444391543,1332.4696776015721,1332.4905107646862,1332.5113439284455,1332.5321770927876,1332.5530102576388,1332.5738434229147,1332.594676588524,1332.6155097543694,1332.6363429203486,1332.6571760863558,1332.6780092522845,1332.6988424180272,1332.7196755834811,1332.7405087485465,1332.7613419131303,1332.7821750771463,1332.803008240519,1332.8238414031791,1332.8446745650729,1332.865507726159,1332.8863408864058,1332.9071740457994,1332.9280072043384,1332.9488403620337,1332.9696735189127,1332.9905066750132,1333.01133983039,1333.0321729851053,1333.0530061392324,1333.0738392928572,1333.0946724460712,1333.115505598971,1333.1363387516622,1333.1571719042495,1333.178005056838,1333.1988382095349,1333.2196713624444,1333.2405045156652,1333.2613376692907,1333.282170823406,1333.3030039780863,1333.3238371333982,1333.3446702893966,1333.3655034461226,1333.3863366036057,1333.4071697618588,1333.428002920884,1333.4488360806672,1333.4696692411826,1333.4905024023892,1333.511335564236,1333.5321687266548,1333.5530018895731,1333.5738350529064,1333.5946682165618,1333.6155013804412,1333.6363345444422,1333.6571677084564,1333.6780008723786,1333.698834036104,1333.7196671995273,1333.7405003625515,1333.7613335250824,1333.782166687035,1333.8029998483355,1333.8238330089175,1333.844666168729,1333.865499327727,1333.886332485886,1333.90716564319,1333.9279987996401,1333.948831955252,1333.969665110052,1333.9904982640821,1334.011331417396,1334.032164570057,1334.052997722143,1334.0738308737389,1334.0946640249372,1334.1154971758376,1334.1363303265423,1334.157163477156,1334.1779966277875,1334.1988297785442,1334.2196629295265,1334.2404960808326,1334.2613292325557,1334.2821623847806,1334.3029955375803,1334.3238286910212,1334.344661845156,1334.3654950000225,1334.3863281556494,1334.4071613120495,1334.4279944692203,1334.4488276271486,1334.4696607858064,1334.4904939451487,1334.5113271051225,1334.5321602656627,1334.5529934266926,1334.573826588126,1334.5946597498692,1334.6154929118252,1334.6363260738876,1334.6571592359521,1334.6779923979132,1334.6988255596632,1334.719658721098,1334.7404918821212,1334.7613250426425,1334.7821582025751,1334.802991361848,1334.8238245203956,1334.844657678167,1334.8654908351216,1334.886323991234,1334.9071571464945,1334.9279903009028,1334.9488234544751,1334.969656607241,1334.9904897592446,1335.0113229105398,1335.0321560611949,1335.052989211286,1335.0738223608992,1335.0946555101277,1335.1154886590723,1335.1363218078363,1335.1571549565253,1335.1779881052469,1335.1988212541064,1335.2196544032067,1335.2404875526443,1335.2613207025115,1335.282153852892,1335.302987003857,1335.3238201554716,1335.3446533077868,1335.3654864608393,1335.3863196146556,1335.4071527692463,1335.4279859246087,1335.448819080726,1335.4696522375664,1335.4904853950875,1335.5113185532346,1335.5321517119394,1335.5529848711221,1335.573818030698,1335.594651190573,1335.615484350647,1335.6363175108163,1335.657150670974,1335.677983831014,1335.6988169908295,1335.7196501503188,1335.740483309387,1335.7613164679412,1335.7821496258973,1335.8029827831847,1335.823815939741,1335.8446490955155,1335.8654822504711,1335.8863154045828,1335.907148557843,1335.9279817102524,1335.9488148618302,1335.9696480126079,1335.9904811626318,1336.0113143119556,1336.0321474606492,1336.0529806087893,1336.073813756465,1336.0946469037713,1336.1154800508082,1336.1363131976768,1336.1571463444866,1336.177979491344,1336.1988126383537,1336.2196457856182,1336.2404789332336,1336.2613120812907,1336.2821452298722,1336.3029783790473,1336.3238115288816,1336.344644679423,1336.365477830707,1336.386310982757,1336.4071441355827,1336.4279772891787,1336.4488104435288,1336.4696435985993,1336.4904767543437,1336.511309910705,1336.5321430676156,1336.5529762249957,1336.5738093827588,1336.5946425408072,1336.6154756990422,1336.6363088573598,1336.6571420156533,1336.677975173815,1336.6988083317412,1336.7196414893292,1336.7404746464829,1336.7613078031118,1336.7821409591354,1336.8029741144812,1336.8238072690913,1336.8446404229132,1336.865473575914,1336.886306728069,1336.9071398793715,1336.9279730298288,1336.9488061794586,1336.9696393282939,1336.9904724763808,1337.0113056237774,1337.0321387705562,1337.0529719167946,1337.0738050625803,1337.0946382080087,1337.115471353181,1337.1363044982038,1337.1571376431812,1337.1779707882217,1337.1988039334276,1337.2196370789018,1337.2404702247416,1337.2613033710352,1337.2821365178634,1337.3029696652973,1337.3238028133958,1337.3446359622064,1337.3654691117665,1337.3863022620958,1337.407135413202,1337.4279685650788,1337.4488017177046,1337.4696348710472,1337.4904680250584,1337.5113011796798,1337.5321343348414,1337.5529674904612,1337.5738006464508,1337.5946338027177,1337.6154669591574,1337.6363001156676,1337.6571332721392,1337.6779664284663,1337.6987995845445,1337.7196327402737,1337.740465895557,1337.7612990503064,1337.7821322044406,1337.8029653578888,1337.823798510594,1337.8446316625086,1337.865464813599,1337.8862979638438,1337.907131113236,1337.9279642617837,1337.9487974095093,1337.9696305564473,1337.9904637026468,1338.0112968481646,1338.0321299930738,1338.0529631374538,1338.0737962813946,1338.094629424994,1338.115462568353,1338.1362957115748,1338.1571288547664,1338.1779619980346,1338.1987951414842,1338.2196282852171,1338.240461429328,1338.2612945739043,1338.282127719025,1338.3029608647607,1338.3237940111703,1338.344627158299,1338.3654603061811,1338.3862934548345,1338.4071266042658,1338.4279597544667,1338.4487929054144,1338.4696260570745,1338.4904592093965,1338.5112923623205,1339.6779486825192,1339.6987818350563,1339.7196149872207,1339.740448138917,1339.7612812900584,1339.7821144405686,1339.8029475903784,1339.8237807394328,1339.8446138876877,1339.8654470351141,1339.8862801816933,1339.9071133274226,1339.9279464723147,1339.948779616395,1339.9696127596997,1339.990445902281,1340.0112790442022,1340.0321121855366,1340.0529453263669,1340.0737784667858,1340.094611606889,1340.1154447467804,1340.1362778865653,1340.1571110263508,1340.1779441662427,1340.1987773063447,1340.219610446756,1340.240443587571,1340.2612767288754,1340.2821098707466,1340.3029430132517,1340.323776156445,1340.3446093003697,1340.3654424450558,1340.386275590518,1340.407108736759,1340.4279418837673,1340.4487750315168,1340.469608179968,1340.4904413290683,1340.5112744787566,1340.5321076289563,1340.5529407795843,1340.5737739305494,1340.5946070817538,1340.6154402330928,1340.6362733844624,1340.6571065357555,1340.677939686866,1340.69877283769,1340.7196059881292,1340.74043913809,1340.7612722874865,1340.7821054362419,1340.8029385842915,1340.82377173158,1340.8446048780652,1340.8654380237194,1340.8862711685272,1340.9071043124866,1340.9279374556118,1340.9487705979302,1340.9696037394808,1340.990436880316,1341.011270020501,1341.0321031601113,1341.0529362992293,1341.0737694379486,1341.0946025763685,1341.1154357145908,1341.1362688527208,1341.1571019908672,1341.177935129134,1341.1987682676254,1341.2196014064407,1341.2404345456728,1341.2612676854048,1341.2821008257138,1341.3029339666657,1341.323767108314,1341.3446002506982,1341.3654333938478,1341.3862665377767,1341.4070996824835,1341.427932827956,1341.4487659741665,1341.4695991210742,1341.490432268625,1341.5112654167542,1341.532098565386,1341.5529317144346,1341.5737648638096,1341.5945980134115,1341.6154311631365,1341.636264312878,1341.657097462531,1341.6779306119886,1341.6987637611467,1341.7195969099078,1341.740430058181,1341.76126320588,1341.7820963529293,1341.8029294992664,1341.823762644837,1341.844595789601,1341.8654289335318,1341.886262076617,1341.907095218856,1341.927928360264,1341.9487615008707,1341.969594640717,1341.9904277798562,1342.0112609183566,1342.0320940562929,1342.0529271937505,1342.0737603308226,1342.094593467609,1342.1154266042129,1342.1362597407397,1342.157092877298,1342.1779260139929,1342.198759150926,1342.2195922881951,1342.2404254258936,1342.2612585641057,1342.282091702904,1342.3029248423536,1342.323757982507,1342.3445911234016,1342.3654242650646,1342.3862574075088,1342.407090550733,1342.42792369472,1342.4487568394416,1342.4695899848546,1342.4904231309035,1342.5112562775228,1342.532089424636,1342.5529225721552,1342.5737557199882,1342.5945888680365,1342.6154220161961,1342.636255164359,1342.6570883124195,1342.6779214602723,1342.698754607813,1342.7195877549464,1342.7404209015801,1342.7612540476312,1342.7820871930246,1342.802920337699,1342.823753481602,1342.8445866246948,1342.8654197669532,1342.8862529083665,1342.9070860489355,1342.9279191886785,1342.9487523276262,1342.9695854658203,1342.9904186033164,1343.0112517401833,1343.032084876498,1343.0529180123485,1343.0737511478262,1343.0945842830326,1343.115417418072,1343.1362505530494,1343.1570836880724,1343.1779168232458,1343.1987499586735,1343.219583094451,1343.2404162306702,1343.2612493674133,1343.2820825047534,1343.302915642753,1343.3237487814636,1343.3445819209205,1343.3654150611503,1343.3862482021623,1343.4070813439546,1343.4279144865075,1343.4487476297916,1343.4695807737603,1343.4904139183589,1343.511247063519,1343.5320802091626,1343.5529133552031,1343.5737465015452,1343.5945796480896,1343.6154127947336,1343.636245941367,1343.6570790878857,1343.6779122341832,1343.6987453801592,1343.7195785257143,1343.7404116707603,1343.761244815214,1343.7820779590024,1343.8029111020662,1343.8237442443542,1343.844577385828,1343.8654105264666,1343.8862436662603,1343.907076805213,1343.9279099433425,1343.948743080683,1343.9695762172785,1343.9904093531861,1344.0112424884742,1344.0320756232231,1344.0529087575192,1344.0737418914568,1344.0945750251387,1344.115408158667,1344.1362412921496,1344.157074425693,1344.1779075594009,1344.1987406933772,1344.2195738277164,1344.2404069625106,1344.2612400978394,1344.282073233776,1344.3029063703802,1344.3237395077017,1344.3445726457755,1344.3654057846245,1344.3862389242574,1344.4070720646694,1344.427905205841,1344.4487383477388,1344.4695714903169,1344.4904046335175,1344.511237777271,1344.532070921498,1344.5529040661108,1344.5737372110145,1344.5945703561083,1344.615403501286,1344.6362366464425,1344.6570697914701,1344.6779029362658,1344.6987360807277,1344.7195692247578,1344.7404023682684,1344.761235511177,1344.7820686534133,1344.8029017949177,1344.8237349356427,1344.8445680755524,1344.8654012146249,1344.886234352853,1344.9070674902428,1344.9279006268148,1344.9487337626033,1344.9695668976556,1344.9904000320284,1345.011233165793,1345.0320662990307,1345.0528994318295,1345.0737325642845,1345.0945656964955,1345.1153988285698,1345.1362319606135,1345.1570650927317,1345.1778982250316,1345.1987313576128,1345.21956449057,1345.240397623994,1345.2612307579652,1345.2820638925527,1345.302897027817,1345.3237301638037,1345.344563300549,1345.3653964380721,1345.3862295763813,1345.4070627154688,1345.4278958553116,1345.4487289958768,1345.4695621371175,1345.490395278974,1345.5112284213735,1345.5320615642374,1345.5528947074754,1345.573727850992,1345.5945609946857,1345.6153941384532,1345.636227282186,1345.6570604257768,1345.677893569123,1345.6987267121233,1345.7195598546816,1345.7403929967088,1345.7612261381269,1345.7820592788657,1345.8028924188663,1345.823725558083,1345.844558696481,1345.8653918340415,1345.8862249707602,1345.9070581066437,1345.9278912417126,1345.9487243760047,1345.969557509569,1345.9903906424654,1346.011223774763,1346.032056906546,1346.0528900379024,1346.0737231689302,1346.09455629973,1346.115389430407,1346.1362225610685,1346.1570556918202,1346.177888822767,1346.19872195401,1346.2195550856418,1346.240388217753,1346.2612213504221,1346.2820544837177,1346.3028876176968,1346.3237207524066,1346.3445538878796,1346.3653870241317,1346.3862201611705,1346.4070532989872,1346.4278864375585,1346.4487195768463,1346.4695527168033,1346.4903858573696,1346.5112189984698,1346.5320521400236,1346.5528852819414,1346.5737184241257,1346.594551566475,1346.6153847088835,1346.6362178512459,1346.657050993454,1346.6778841354053,1346.6987172769975,1346.7195504181368,1346.7403835587372,1346.761216698719,1346.7820498380138,1346.8028829765647,1346.823716114328,1346.844549251271,1346.8653823873756,1346.8862155226386,1346.9070486570708,1346.9278817906948,1346.9487149235483,1346.9695480556818,1346.9903811871561,1347.011214318044,1347.03204744843,1347.052880578404,1347.0737137080619,1347.0945468375069,1347.1153799668452,1347.1362130961818,1347.1570462256234,1347.177879355276,1347.198712485238,1347.2195456156023,1347.2403787464573,1347.2612118778823,1347.282045009942,1347.3028781426947,1347.3237112761833,1347.3445444104375,1347.3653775454757,1347.3862106813012,1347.4070438179037,1347.427876955257,1347.4487100933231,1347.4695432320534,1347.490376371382,1347.511209511238,1347.5320426515361,1347.5528757921877,1347.5737089330942,1347.594542074153,1347.6153752152582,1347.636208356304,1347.6570414971832,1347.677874637792,1347.6987077780318,1347.7195409178082,1347.7403740570353,1347.7612071956357,1347.7820403335418,1347.8028734706995,1347.8237066070637,1347.8445397426074,1347.8653728773136,1347.886206011178,1347.9070391442162,1347.9278722764514,1347.9487054079218,1347.9695385386815,1347.990371668793,1348.0112047983293,1348.0320379273758,1348.0528710560238,1348.0737041843704,1348.0945373125187,1348.1153704405754,1348.1362035686466,1348.1570366968374,1348.1778698252513,1348.1987029539905,1348.2195360831465,1348.2403692128034,1348.2612023430404,1348.2820354739226,1348.3028686055038,1348.3237017378272,1348.344534870922,1348.365368004803,1348.386201139471,1348.407034274915,1348.4278674111063,1348.448700548006,1348.4695336855623,1348.4903668237112,1348.5111999623773,1348.5320331014748,1348.5528662409151,1348.5736993805986,1348.5945325204198,1348.615365660277,1348.6361988000615,1348.657031939666,1348.6778650789888,1348.6986982179305,1348.7195313563986,1348.7403644943074,1348.7611976315807,1348.7820307681552,1348.802863903974,1348.823697038997,1348.8445301731974,1348.86536330656,1348.8861964390835,1348.9070295707843,1348.927862701687,1348.948695831833,1348.9695289612757,1348.9903620900818,1349.0111952183252,1349.03202834609,1349.0528614734708,1349.0736946005638,1349.0945277274739,1349.1153608543066,1349.13619398117,1349.1570271081684,1349.177860235404,1349.1986933629785,1349.2195264909824,1349.2403596194993,1349.261192748607,1349.2820258783684,1349.3028590088365,1349.3236921400528,1349.3445252720437,1349.3653584048243,1349.3861915383907,1349.4070246727315,1349.4278578078179,1349.4486909436062,1349.4695240800456,1349.4903572170685,1349.5111903546,1349.5320234925525,1349.5528566308358,1349.57368976935,1349.5945229079914,1349.6153560466535,1349.636189185231,1349.6570223236167,1349.6778554617074,1349.6986885994065,1349.7195217366216,1349.7403548732668,1349.7611880092702,1349.7820211445667,1349.8028542791042,1349.8236874128415,1349.8445205457547,1349.8653536778306,1349.88618680907,1349.9070199394896,1349.9278530691183,1349.9486861979965,1349.969519326182,1349.9903524537403,1350.0111855807468,1350.0320187072887,1350.0528518334602,1350.0736849593593,1350.0945180850895,1350.1153512107576,1350.1361843364718,1350.157017462336,1350.1778505884515,1350.1986837149195,1350.2195168418298,1350.2403499692648,1350.2611830972996,1350.2820162259975,1350.3028493554114,1350.3236824855767,1350.3445156165212,1350.3653487482568,1350.3861818807795,1350.407015014073,1350.427848148109,1350.4486812828438,1350.4695144182208,1350.4903475541737,1350.5111806906255,1350.5320138274883,1350.5528469646702,1350.5736801020703,1350.5945132395855,1350.6153463771084,1350.6361795145338,1350.6570126517552,1350.6778457886692,1350.6986789251807,1350.7195120611975,1350.740345196636,1350.7611783314237,1350.7820114654992,1350.80284459881,1350.8236777313189,1350.8445108630015,1350.8653439938475,1350.8861771238594,1350.9070102530554,1350.9278433814661,1350.9486765091362,1350.9695096361206,1350.9903427624893,1351.0111758883188,1351.0320090136966,1351.0528421387164,1351.0736752634787,1351.0945083880886,1351.1153415126512,1351.1361746372738,1351.1570077620615,1351.1778408871157,1351.1986740125353,1351.21950713841,1351.2403402648217,1351.261173391842,1351.2820065195356,1351.3028396479503,1351.3236727771227,1351.3445059070787,1351.3653390378252,1351.38617216936,1351.4070053016642,1351.427838434706,1351.448671568442,1351.4695047028126,1351.4903378377514,1351.5111709731784,1351.5320041090065,1351.5528372451408,1351.573670381482,1351.594503517926,1351.6153366543642,1351.636169790693,1351.6570029268046,1351.6778360625979,1351.6986691979762,1351.7195023328502,1351.7403354671378,1351.7611686007658,1351.7820017336758,1351.8028348658167,1351.8236679971521,1351.8445011276606,1351.865334257334,1351.8861673861763,1351.9070005142062,1351.9278336414575,1351.9486667679757,1351.9694998938178,1351.9903330190548,1352.011166143765,1352.0319992680363,1352.0528323919639,1352.0736655156497,1352.0944986391964,1352.1153317627118,1352.1361648863021,1352.1569980100721,1352.1778311341234,1352.198664258553,1352.219497383451,1352.2403305088962,1352.261163634961,1352.2819967617065,1352.3028298891809,1352.3236630174176,1352.3444961464397,1352.365329276256,1352.386162406859,1352.4069955382301,1352.427828670334,1352.4486618031265,1352.4694949365462,1352.490328070525,1352.5111612049825,1352.5319943398317,1352.5528274749752,1352.5736606103135,1352.59449374574,1352.615326881149,1352.6361600164353,1352.6569931514932,1352.67782628622,1352.6986594205207,1352.719492554308,1352.7403256874995,1352.761158820024,1352.7819919518233,1352.8028250828506,1352.8236582130708,1352.8444913424617,1352.8653244710185,1352.8861575987473,1352.906990725669,1352.9278238518184,1352.9486569772423,1352.9694901019998,1352.9903232261636,1353.011156349813,1353.0319894730374,1353.052822595931,1353.0736557185971,1353.0944888411418,1353.115321963667,1353.1361550862837,1353.1569882090955],\"y\":{\"__ndarray__\":\"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\",\"dtype\":\"float32\",\"order\":\"little\",\"shape\":[1282]}},\"selected\":{\"id\":\"2990\"},\"selection_policy\":{\"id\":\"2989\"}},\"id\":\"2833\",\"type\":\"ColumnDataSource\"},{\"attributes\":{},\"id\":\"2814\",\"type\":\"WheelZoomTool\"},{\"attributes\":{},\"id\":\"2985\",\"type\":\"BasicTickFormatter\"},{\"attributes\":{\"x\":{\"field\":\"x\"},\"y\":{\"field\":\"y\"}},\"id\":\"2834\",\"type\":\"Line\"},{\"attributes\":{\"overlay\":{\"id\":\"2819\"}},\"id\":\"2815\",\"type\":\"BoxZoomTool\"},{\"attributes\":{\"source\":{\"id\":\"2833\"}},\"id\":\"2838\",\"type\":\"CDSView\"},{\"attributes\":{},\"id\":\"2816\",\"type\":\"SaveTool\"},{\"attributes\":{\"line_alpha\":0.2,\"x\":{\"field\":\"x\"},\"y\":{\"field\":\"y\"}},\"id\":\"2836\",\"type\":\"Line\"},{\"attributes\":{},\"id\":\"2817\",\"type\":\"ResetTool\"},{\"attributes\":{},\"id\":\"2986\",\"type\":\"AllLabels\"},{\"attributes\":{\"data\":{\"x\":[1325.3239205802092,1325.3447537297802,1325.3655868809078,1325.386420033564,1325.4072531877214,1325.4280863433216,1325.4489195003468,1325.4697526587393,1325.4905858184716,1325.5114189795172,1325.5322521418193,1325.5530853053524,1325.5739184700906,1325.5947516359797,1325.6155848029955,1325.6364179711152,1325.6572511402853,1325.6780843104955,1325.6989174816936,1325.71975065386,1325.740583826975,1325.7614170009906,1325.7822501758883,1325.8030833516511,1325.8239165282325,1325.8447497056177,1325.8655828837911,1325.8864160627093,1325.9072492423682,1325.9280824227253,1325.9489156037687,1325.9697487854871,1325.9905819678395,1326.0114151508162,1326.0322483344073,1326.0530815185743,1326.073914703309,1326.0947478886035,1326.11558107442,1326.1364142607624,1326.1572474475947,1326.1780806349109,1326.1989138227061,1326.2197470109456,1326.240580199625,1326.26141338874,1326.2822465782579,1326.3030797684264,1326.3239129589465,1326.3447461496298,1326.3655793406858,1326.386412532083,1326.4072457238206,1326.428078915897,1326.4489121082825,1326.469745300976,1326.4905784939783,1326.5114116872596,1326.5322448808306,1326.5530780746622,1326.5739112687552,1326.5947444631115,1326.6155776577025,1326.6364108525402,1326.6572440475966,1326.6780772428745,1326.6989104383658,1326.7197436340734,1326.740576829971,1326.7614100260712,1326.782243222347,1326.8030764188022,1326.823909615441,1326.8447428122365,1326.8655760092033,1326.8864092063154,1326.907242403577,1326.9280756009928,1326.948908798537,1326.9697419962147,1326.990575194031,1327.0114083919607,1327.0322415900087,1327.0530747881808,1327.073907986452,1327.0947411848379,1327.1155743833142,1327.1364075818865,1327.1572407805606,1327.1780739793126,1327.1989071781486,1327.2197403770745,1327.2405735760665,1327.261406775141,1327.2822399742745,1327.3030731734732,1327.323906372744,1327.3447395720634,1327.3655727714379,1327.3864059708742,1327.4072391703496,1327.428072369871,1327.4489055694453,1327.4697387690492,1327.4905719687004,1327.5114051683756,1327.5322383680823,1327.5530715678278,1327.5739047675895,1327.5947379673846,1327.615571167191,1327.6364043670158,1327.6572375668668,1327.6780707667215,1327.698903966588,1327.7197371664736,1327.740570366356,1327.7614035662434,1327.7822367661436,1327.8030699660342,1327.8239031659332,1327.8447363658188,1327.8655695656992,1327.8864027655823,1327.907235965446,1327.9280691652984,1327.948902365148,1327.9697355649726,1327.9905687647909,1328.011401964581,1328.0322351643613,1328.0530683641098,1328.0739015638353,1328.0947347635458,1328.1155679632202,1328.1364011628662,1328.1572343624832,1328.1780675620791,1328.1989007616328,1328.2197339611625,1328.240567160647,1328.261400360105,1328.282233559515,1328.3030667588853,1328.3238999582252,1328.3447331575132,1328.365566356758,1328.3863995559684,1328.407232755123,1328.4280659542408,1328.4488991533003,1328.4697323523105,1328.49056555128,1328.5113987501884,1328.5322319490438,1328.5530651478557,1328.5738983466026,1328.5947315452934,1328.6155647439368,1328.6363979425125,1328.6572311410391,1328.6780643394957,1328.698897537891,1328.7197307362344,1328.7405639345045,1328.7613971327107,1328.7822303308621,1328.8030635289374,1328.823896726956,1328.8447299248971,1328.8655631227696,1328.8863963205824,1328.907229518315,1328.9280627159867,1328.9488959135765,1328.9697291110926,1328.9905623085458,1329.0113955059144,1329.0322287032175,1329.0530619004348,1329.0738950975754,1329.0947282946383,1329.1155614916327,1329.1363946885378,1329.1572278853732,1329.1780610821181,1329.1988942787918,1329.2197274753732,1329.2405606718721,1329.2613938682973,1329.2822270646286,1329.3030602608749,1329.3238934570456,1329.3447266531205,1329.3655598491182,1329.3863930450186,1329.4072262408308,1329.4280594365641,1329.448892632198,1329.4697258277417,1329.490559023205,1329.511392218567,1329.5322254138373,1329.5530586090244,1329.5738918041088,1329.5947249991095,1329.615558194006,1329.6363913888172,1329.6572245835232,1329.678057778133,1329.6988909726563,1329.7197241670842,1329.7405573614133,1329.7613905556434,1329.7822237497646,1329.8030569437965,1329.823890137718,1329.8447233315394,1329.8655565252698,1329.8863897188887,1329.9072229124054,1329.9280561058297,1329.9488892991408,1329.9697224923582,1329.9905556854612,1330.01138887846,1330.0322220713635,1330.0530552641515,1330.0738884568334,1330.0947216494183,1330.1155548418863,1330.1363880342565,1330.1572212265085,1330.1780544186524,1330.1988876106968,1330.2197208026219,1330.2405539944468,1330.2613871861515,1330.282220377745,1330.303053569237,1330.3238867606071,1330.3447199518748,1330.3655531430197,1330.3863863340518,1330.4072195249798,1330.4280527157835,1330.4488859064727,1330.4697190970567,1330.490552287515,1330.5113854778674,1330.5322186680935,1330.5530518582027,1330.5738850482044,1330.5947182380785,1330.6155514278444,1330.6363846174816,1330.6572178069994,1330.6780509964078,1330.6988841856864,1330.7197173748546,1330.740550563892,1330.761383752808,1330.7822169416124,1330.8030501302846,1330.8238833188339,1330.8447165072707,1330.8655496955741,1330.8863828837632,1330.9072160718188,1330.928049259749,1330.9488824475645,1330.9697156352443,1330.9905488227978,1331.0113820102354,1331.0322151975358,1331.0530483847194,1331.073881571765,1331.0947147586926,1331.115547945482,1331.136381132142,1331.157214318683,1331.178047505084,1331.1988806913548,1331.219713877505,1331.2405470635144,1331.2613802494022,1331.2822134351482,1331.3030466207617,1331.3238798062528,1331.3447129916003,1331.3655461768246,1331.3863793619048,1331.4072125468506,1331.4280457316715,1331.4488789163474,1331.4697121008876,1331.4905452853013,1331.5113784695686,1331.5322116537088,1331.553044837702,1331.5738780215574,1331.5947112052845,1331.6155443888626,1331.636377572312,1331.6572107556117,1331.6780439387712,1331.6988771218005,1331.719710304679,1331.7405434874163,1331.7613766700217,1331.782209852475,1331.8030430347958,1331.8238762169638,1331.844709398998,1331.8655425808781,1331.8863757626145,1331.9072089442157,1331.9280421256617,1331.9488753069722,1331.9697084881266,1331.9905416691342,1332.0113748500048,1332.0322080307178,1332.053041211293,1332.07387439171,1332.0947075719782,1332.1155407521067,1332.1363739320757,1332.1572071118944,1332.1780402915726,1332.1988734710892,1332.2197066504646,1332.2405398296778,1332.2613730087382,1332.2822061876557,1332.3030393664098,1332.3238725450199,1332.3447057234655,1332.3655389017558,1332.3863720799009,1332.40720525788,1332.4280384357128,1332.4488716133785,1332.469704790887,1332.4905379682475,1332.5113711454396,1332.5322043224828,1332.5530374993562,1332.57387067607,1332.5947038526335,1332.6155370290262,1332.636370205257,1332.6572033813359,1332.6780365572422,1332.698869732996,1332.7197029085755,1332.7405360840014,1332.7613692592527,1332.7822024343386,1332.8030356092688,1332.823868784023,1332.8447019586104,1332.8655351330403,1332.8863683072923,1332.9072014813855,1332.9280346553003,1332.9488678290456,1332.9697010026305,1332.9905341760348,1333.0113673492774,1333.0322005223388,1333.0530336952272,1333.0738668679528,1333.094700040495,1333.1155332128728,1333.1363663850657,1333.1571995570835,1333.178032728935,1333.1988659006,1333.219699072098,1333.2405322434074,1333.261365414549,1333.2821985854996,1333.303031756271,1333.323864926873,1333.3446980972844,1333.365531267514,1333.3863644375708,1333.407197607435,1333.4280307771253,1333.4488639466217,1333.4696971159433,1333.490530285069,1333.5113634540085,1333.5321966227707,1333.5530297913356,1333.5738629597117,1333.594696127909,1333.6155292959065,1333.6363624637236,1333.6571956313392,1333.678028798763,1333.6988619660042,1333.719695133042,1333.7405282998955,1333.761361466544,1333.782194632997,1333.8030277992636,1333.823860965323,1333.8446941311947,1333.8655272968574,1333.8863604623307,1333.9071936275934,1333.9280267926551,1333.948859957525,1333.9696931221822,1333.9905262866357,1334.0113594508948,1334.0321926149388,1334.0530257787868,1334.073858942418,1334.094692105851,1334.1155252690655,1334.1363584320707,1334.1571915948753,1334.1780247574586,1334.19885791984,1334.2196910819982,1334.2405242439422,1334.2613574056813,1334.2821905671947,1334.303023728501,1334.32385688958,1334.34469005044,1334.3655232110905,1334.3863563715104,1334.4071895317186,1334.428022691694,1334.4488558514456,1334.4696890109828,1334.4905221702845,1334.5113553293693,1334.5321884882164,1334.5530216468446,1334.5738548052332,1334.5946879633905,1334.615521121326,1334.636354279018,1334.657187436476,1334.6780205937087,1334.6988537506948,1334.7196869074533,1334.7405200639628,1334.7613532202326,1334.782186376271,1334.803019532057,1334.8238526876098,1334.8446858429077,1334.8655189979693,1334.8863521527737,1334.9071853073299,1334.9280184616464,1334.9488516157016,1334.969684769514,1334.9905179230632,1335.0113510763574,1335.0321842294052,1335.0530173821853,1335.0738505347163,1335.0946836869769,1335.1155168389855,1335.1363499907206,1335.1571831421911,1335.1780162934056,1335.1988494443424,1335.21968259502,1335.240515745417,1335.261348895542,1335.282182045403,1335.303015194979,1335.323848344288,1335.3446814933088,1335.3655146420595,1335.3863477905184,1335.4071809386942,1335.4280140865949,1335.448847234199,1335.4696803815152,1335.4905135285505,1335.5113466752841,1335.5321798217346,1335.5530129678796,1335.573846113737,1335.5946792592856,1335.6155124045333,1335.6363455494884,1335.6571786941288,1335.678011838472,1335.6988449824971,1335.7196781262116,1335.7405112696235,1335.761344412711,1335.7821775554917,1335.8030106979436,1335.8238438400747,1335.844676981893,1335.8655101233758,1335.8863432645414,1335.9071764053679,1335.9280095458623,1335.9488426860325,1335.9696758258567,1335.990508965352,1336.0113421044964,1336.0321752433074,1336.053008381762,1336.073841519869,1336.0946746576344,1336.1155077950368,1336.1363409320936,1336.1571740687816,1336.1780072051083,1336.198840341081,1336.2196734766774,1336.2405066119143,1336.2613397467696,1336.2821728812596,1336.3030060153621,1336.3238391490838,1336.3446722824324,1336.3655054153842,1336.386338547956,1336.4071716801257,1336.4280048118994,1336.4488379432842,1336.4696710742573,1336.4905042048351,1336.511337334994,1336.532170464751,1336.5530035940833,1336.5738367229962,1336.5946698514974,1336.6155029795627,1336.636336107209,1336.6571692344123,1336.6780023611893,1336.698835487516,1336.7196686133984,1336.7405017388432,1336.7613348638263,1336.7821679883637,1336.8030011124315,1336.8238342360357,1336.8446673591823,1336.865500481847,1336.8863336040454,1336.9071667257533,1336.9279998469867,1336.9488329677206,1336.9696660879713,1336.9904992077143,1337.0113323269543,1337.0321654456968,1337.0529985639175,1337.0738316816316,1337.0946647988142,1337.1154979154705,1337.136331031605,1337.1571641471937,1337.1779972622512,1337.198830376752,1337.219663490711,1337.240496604103,1337.261329716933,1337.2821628292056,1337.3029959408948,1337.3238290520158,1337.3446621625426,1337.36549527249,1337.386328381832,1337.4071614905733,1337.427994598718,1337.4488277062396,1337.469660813143,1337.4904939194325,1337.511327025082,1337.5321601301052,1337.5529932344768,1337.5738263382104,1337.59465944128,1337.6154925437,1337.6363256454438,1337.6571587465255,1337.6779918469194,1337.6988249466292,1337.719658045659,1337.740491143983,1337.761324241605,1337.78215733853,1337.8029904347313,1337.8238235302233,1337.8446566249806,1337.8654897190181,1337.8863228123107,1337.907155904872,1337.9279889966783,1337.9488220877342,1337.9696551780457,1337.9904882675878,1338.0113213563766,1338.0321544443889,1338.0529875316406,1338.0738206181097,1338.0946537038028,1338.1154867887283,1338.1363198728645,1338.1571529562302,1338.177986038805,1338.1988191205992,1338.2196522016238,1338.2404852818606,1338.2613183613323,1338.282151440022,1338.3029845179542,1338.3238175951149,1338.34465067152,1338.365483747188,1338.3863168221076,1338.4071498963099,1338.4279829697866,1338.4488160425715,1338.46964911466,1338.4904821860791,1339.6779676349975,1339.6988007479022,1339.7196338623742,1339.7404669784,1339.761300095965,1339.7821332150231,1339.802966335567,1339.8237994575488,1339.8446325809603,1339.8654657057518,1339.8862988319047,1339.9071319593986,1339.9279650881838,1339.9487982182502,1339.9696313495476,1339.9904644820667,1340.0112976157573,1340.0321307505997,1340.0529638865755,1340.0737970236355,1340.0946301617714,1340.1154633009348,1340.1362964411187,1340.1571295822757,1340.1779627243995,1340.198795867444,1340.2196290114034,1340.240462156233,1340.2612953019184,1340.2821284484457,1340.302961595772,1340.323794743894,1340.3446278927702,1340.3654610423982,1340.3862941927378,1340.4071273437878,1340.4279604955082,1340.4487936478902,1340.4696268009245,1340.4904599545728,1340.5112931088365,1340.5321262636792,1340.5529594191037,1340.5737925750727,1340.594625731591,1340.6154588886227,1340.6362920461725,1340.6571252042063,1340.6779583627192,1340.6987915217073,1340.7196246811377,1340.7404578410165,1340.761291001311,1340.7821241620188,1340.8029573231383,1340.8237904846374,1340.8446236465247,1340.8654568087693,1340.8862899713802,1340.9071231343269,1340.9279562976192,1340.9487894612273,1340.9696226251513,1340.9904557893922,1341.0112889539207,1341.0321221187478,1341.052955283845,1341.073788449224,1341.0946216148564,1341.1154547807544,1341.13628794689,1341.1571211132657,1341.1779542798845,1341.198787446719,1341.2196206137824,1341.2404537810476,1341.2612869485283,1341.2821201161978,1341.30295328407,1341.323786452119,1341.3446196203583,1341.3654527887625,1341.386285957336,1341.4071191260828,1341.4279522949778,1341.448785464036,1341.4696186332321,1341.4904518025812,1341.5112849720583,1341.5321181416784,1341.5529513114175,1341.5737844812902,1341.594617651273,1341.615450821371,1341.6362839915905,1341.6571171619066,1341.6779503323357,1341.6987835028542,1341.7196166734782,1341.740449844183,1341.7612830149862,1341.7821161858635,1341.8029493568217,1341.8237825278673,1341.844615698977,1341.865448870167,1341.8862820414151,1341.9071152127374,1341.927948384111,1341.948781555543,1341.9696147270406,1341.990447898581,1342.011281070181,1342.032114241818,1342.0529474135094,1342.0737805852325,1342.094613757005,1342.1154469288037,1342.1362801006371,1342.1571132725117,1342.177946444406,1342.1987796163373,1342.2196127882833,1342.240445960262,1342.2612791322508,1342.282112304268,1342.302945476291,1342.3237786483382,1342.3446118203876,1342.365444992457,1342.3862781645244,1342.407111336598,1342.4279445086856,1342.448777680766,1342.469610852857,1342.4904440249366,1342.511277197024,1342.5321103690962,1342.5529435411722,1342.5737767132305,1342.5946098852894,1342.6154430573272,1342.636276229362,1342.6571094013727,1342.6779425733678,1342.6987757453558,1342.719608917315,1342.7404420892642,1342.761275261182,1342.782108433087,1342.8029416049576,1342.8237747768123,1342.8446079486305,1342.8654411204207,1342.8862742921913,1342.9071074639212,1342.927940635629,1342.948773807294,1342.9696069789343,1342.9904401505294,1343.0112733220976,1343.0321064936181,1343.0529396651095,1343.073772836551,1343.0946060079611,1343.1154391793193,1343.1362723506343,1343.157105521915,1343.17793869314,1343.1987718643288,1343.2196050354605,1343.2404382065538,1343.2612713775875,1343.2821045485812,1343.3029377195135,1343.323770890404,1343.3446040612312,1343.3654372320048,1343.386270402733,1343.4071035733957,1343.427936744012,1343.4487699145604,1343.469603085061,1343.4904362554923,1343.5112694258735,1343.5321025961841,1343.5529357664432,1343.5737689366297,1343.5946021067632,1343.6154352768226,1343.6362684468274,1343.6571016167566,1343.6779347866345,1343.6987679564352,1343.719601126174,1343.740434295834,1343.7612674654247,1343.7821006349554,1343.802933804406,1343.8237669737955,1343.8446001431025,1343.8654333123472,1343.8862664815085,1343.9070996506057,1343.927932819619,1343.9487659885565,1343.969599157428,1343.9904323262133,1344.0112654949314,1344.0320986635613,1344.052931832123,1344.0737650005958,1344.0945981689986,1344.1154313373115,1344.1362645055538,1344.1570976737044,1344.1779308417827,1344.1987640097689,1344.2195971776816,1344.2404303455003,1344.261263513235,1344.2820966808947,1344.302929848469,1344.3237630159472,1344.344596183349,1344.3654293506536,1344.3862625178706,1344.4070956850094,1344.427928852049,1344.4487620190098,1344.469595185871,1344.4904283526516,1344.5112615193314,1344.53209468592,1344.5529278524266,1344.5737610188407,1344.5945941851521,1344.61542735138,1344.6362605175038,1344.6570936835335,1344.6779268494786,1344.6987600153182,1344.7195931810713,1344.7404263467186,1344.761259512279,1344.782092677732,1344.8029258430972,1344.8237590083538,1344.844592173522,1344.865425338581,1344.8862585035502,1344.907091668409,1344.9279248331675,1344.9487579978347,1344.9695911623905,1344.9904243268538,1345.011257491205,1345.032090655463,1345.0529238196075,1345.0737569836585,1345.094590147595,1345.1154233114366,1345.136256475163,1345.1570896387939,1345.1779228023086,1345.1987559657264,1345.2195891290273,1345.2404222922307,1345.2612554553164,1345.2820886183035,1345.3029217811718,1345.323754943941,1345.3445881065902,1345.3654212691295,1345.3862544315677,1345.4070875938853,1345.4279207561012,1345.4487539181957,1345.4695870801875,1345.4904202420566,1345.5112534038224,1345.5320865654646,1345.5529197270025,1345.573752888416,1345.5945860497247,1345.6154192109075,1345.6362523719847,1345.6570855329358,1345.6779186937802,1345.6987518544972,1345.7195850151068,1345.740418175588,1345.761251335961,1345.7820844962052,1345.8029176563298,1345.8237508163447,1345.8445839762294,1345.8654171360035,1345.8862502956465,1345.907083455178,1345.9279166145775,1345.9487497738646,1345.9695829330187,1345.9904160920596,1346.0112492509666,1346.0320824097596,1346.0529155684178,1346.0737487269612,1346.0945818853688,1346.1154150436605,1346.136248201816,1346.1570813598544,1346.1779145177557,1346.198747675539,1346.219580833184,1346.2404139907105,1346.261247148098,1346.2820803053655,1346.3029134624935,1346.3237466194907,1346.3445797763673,1346.365412933102,1346.3862460897149,1346.4070792461857,1346.4279124025334,1346.4487455587482,1346.4695787148191,1346.4904118707557,1346.5112450265674,1346.5320781822343,1346.5529113377754,1346.5737444931708,1346.594577648439,1346.6154108035603,1346.6362439585544,1346.6570771134004,1346.6779102681173,1346.6987434226858,1346.7195765771248,1346.7404097314136,1346.7612428855718,1346.7820760395791,1346.8029091934552,1346.8237423471787,1346.8445755007701,1346.8654086542085,1346.8862418075132,1346.9070749606642,1346.9279081136806,1346.948741266542,1346.9695744192672,1346.990407571837,1347.0112407242598,1347.0320738765456,1347.0529070286655,1347.073740180648,1347.094573332489,1347.1154064841708,1347.1362396357124,1347.157072787094,1347.1779059383248,1347.198739089414,1347.2195722403408,1347.2404053911253,1347.2612385417465,1347.282071692224,1347.3029048425374,1347.3237379927057,1347.3445711427084,1347.3654042925655,1347.3862374422556,1347.4070705917986,1347.4279037411736,1347.4487368904006,1347.4695700394584,1347.4904031883666,1347.5112363371045,1347.5320694856919,1347.5529026341076,1347.5737357823712,1347.5945689304622,1347.6154020784,1347.6362352261635,1347.6570683737727,1347.6779015212066,1347.6987346684846,1347.7195678155863,1347.7404009625307,1347.761234109297,1347.782067255905,1347.802900402334,1347.8237335486028,1347.8445666946911,1347.8653998406182,1347.8862329863634,1347.907066131936,1347.9278992773454,1347.9487324225809,1347.9695655676312,1347.9903987125165,1348.0112318572153,1348.0320650017472,1348.0528981460914,1348.0737312902672,1348.0945644342542,1348.1153975780708,1348.136230721697,1348.1570638651517,1348.1778970084144,1348.1987301514941,1348.2195632943997,1348.240396437121,1348.2612295796464,1348.282062721996,1348.3028958641487,1348.3237290061138,1348.3445621478998,1348.3653952894963,1348.3862284308927,1348.4070615721078,1348.4278947131208,1348.4487278539511,1348.4695609945777,1348.4903941350094,1348.5112272752554,1348.5320604153053,1348.5528935551476,1348.5737266948017,1348.5945598342466,1348.6153929734912,1348.6362261125453,1348.6570592513867,1348.6778923900354,1348.6987255284798,1348.7195586667099,1348.740391804744,1348.7612249425608,1348.78205808017,1348.80289121758,1348.82372435477,1348.8445574917594,1348.8653906285263,1348.8862237650899,1348.90705690144,1348.9278900375646,1348.9487231734824,1348.9695563091732,1348.9903894446556,1349.0112225799082,1349.03205571494,1349.0528888497595,1349.073721984346,1349.0945551187185,1349.1153882528654,1349.1362213867756,1349.157054520468,1349.1778876539213,1349.1987207871541,1349.2195539201455,1349.240387052914,1349.2612201854383,1349.2820533177373,1349.3028864497894,1349.3237195816137,1349.3445527131887,1349.365385844533,1349.386218975625,1349.4070521064837,1349.4278852370878,1349.4487183674555,1349.4695514975654,1349.4903846274362,1349.5112177570466,1349.532050886415,1349.5528840155198,1349.5737171443795,1349.5945502729728,1349.6153834013182,1349.6362165293938,1349.657049657218,1349.6778827847695,1349.6987159120667,1349.7195490390875,1349.7403821658509,1349.7612152923348,1349.7820484185577,1349.8028815444977,1349.823714670173,1349.8445477955624,1349.8653809206835,1349.8862140455146,1349.9070471700743,1349.92788029434,1349.9487134183307,1349.9695465420239,1349.990379665438,1350.011212788551,1350.0320459113807,1350.0528790339054,1350.0737121561428,1350.0945452780713,1350.1153783997083,1350.136211521032,1350.1570446420603,1350.177877762771,1350.198710883182,1350.219544003271,1350.2403771230559,1350.2612102425242,1350.2820433616637,1350.3028764804822,1350.3237095989873,1350.3445427171564,1350.3653758350072,1350.3862089525173,1350.4070420697044,1350.4278751865459,1350.4487083030588,1350.469541419231,1350.49037453505,1350.5112076505325,1350.5320407656563,1350.5528738804385,1350.5737069948564,1350.594540108927,1350.615373222628,1350.6362063359759,1350.6570394489481,1350.6778725615616,1350.698705673793,1350.71953878566,1350.7403718971389,1350.7612050082464,1350.78203811896,1350.8028712292958,1350.823704339231,1350.8445374487824,1350.865370557926,1350.8862036666785,1350.9070367750169,1350.9278698829576,1350.9487029904863,1350.9695360975902,1350.9903692042853,1351.0112023105478,1351.0320354163944,1351.0528685218005,1351.0737016267828,1351.094534731317,1351.1153678354194,1351.1362009390657,1351.1570340422718,1351.1778671450136,1351.1987002473068,1351.219533349127,1351.2403664504898,1351.2611995513712,1351.2820326517867,1351.3028657517111,1351.3236988511599,1351.344531950109,1351.3653650485735,1351.3861981465282,1351.4070312439883,1351.4278643409182,1351.448697437344,1351.4695305332602,1351.4903636286417,1351.5111967235027,1351.532029817819,1351.5528629116047,1351.5736960048346,1351.5945290975228,1351.6153621896442,1351.636195281213,1351.6570283722035,1351.6778614626298,1351.6986945524666,1351.7195276417278,1351.7403607303872,1351.7611938184589,1351.782026905917,1351.802859992776,1351.8236930790085,1351.8445261646289,1351.8653592496114,1351.886192333969,1351.9070254176763,1351.9278585007462,1351.9486915831624,1351.9695246649087,1351.9903577459893,1352.0111908264068,1352.0320239061452,1352.0528569851886,1352.07369006355,1352.0945231412034,1352.1153562181623,1352.1361892944012,1352.1570223699334,1352.177855444733,1352.1986885188137,1352.2195215921504,1352.2403546647572,1352.2611877366082,1352.2820208077185,1352.302853878063,1352.3236869476568,1352.3445200164858,1352.3653530845352,1352.3861861518208,1352.40701921832,1352.4278522840498,1352.4486853489866,1352.4695184131485,1352.490351476515,1352.511184539104,1352.5320176008956,1352.552850661911,1352.5736837221307,1352.5945167815776,1352.615349840244,1352.636182898125,1352.657015955246,1352.6778490115928,1352.6986820671934,1352.7195151220376,1352.740348176156,1352.7611812295402,1352.7820142822256,1352.8028473342076,1352.8236803855236,1352.8445134361746,1352.8653464862018,1352.8861795356104,1352.9070125844464,1352.9278456327206,1352.948678680484,1352.9695117277513,1352.990344774581,1353.0111778210035,1353.0320108670521,1353.0528439127938,1353.0736769582584,1353.0945100035185,1353.1153430486104,1353.136176093613,1353.1570091385684],\"y\":[0.9907516241073608,0.9906595349311829,0.9909294843673706,0.9906623959541321,0.9904647469520569,0.9909263849258423,0.9912069439888,0.9914976954460144,0.9921343326568604,0.9924970269203186,0.9933798313140869,0.994135320186615,0.9950038194656372,0.9959642887115479,0.997412919998169,0.998431384563446,0.9995929002761841,1.000407099723816,1.0018852949142456,1.0030245780944824,1.0035821199417114,1.0045610666275024,1.0053449869155884,1.0074867010116577,1.0075184106826782,1.008270502090454,1.0086830854415894,1.0088741779327393,1.009430170059204,1.0099889039993286,1.0105905532836914,1.0108646154403687,1.0124783515930176,1.012760877609253,1.0131912231445312,1.0136464834213257,1.014238953590393,1.0144999027252197,1.014920949935913,1.0154846906661987,1.0157418251037598,1.0155835151672363,1.016120433807373,1.016271948814392,1.0167917013168335,1.016453504562378,1.0163934230804443,1.016359567642212,1.0164076089859009,1.0158061981201172,1.0157939195632935,1.0155078172683716,1.0151047706604004,1.0149247646331787,1.0143439769744873,1.0140414237976074,1.014153242111206,1.0136172771453857,1.0130345821380615,1.0125904083251953,1.0120924711227417,1.011589527130127,1.0110772848129272,1.0103996992111206,1.0101299285888672,1.010116457939148,1.0096889734268188,1.0092817544937134,1.0088255405426025,1.0084282159805298,1.008156180381775,1.0077184438705444,1.006942629814148,1.0063813924789429,1.0062761306762695,1.0057824850082397,1.0061955451965332,1.0068429708480835,1.0062236785888672,1.004826307296753,1.0041630268096924,1.0037577152252197,1.002979040145874,1.003019094467163,1.002560019493103,1.0025508403778076,1.0021934509277344,1.0020464658737183,1.0018540620803833,1.0024561882019043,1.0031057596206665,1.002604365348816,1.0025609731674194,1.0023232698440552,1.0024398565292358,1.001946210861206,1.0017002820968628,1.0013668537139893,1.0008881092071533,1.0000953674316406,0.9992472529411316,0.9987173080444336,0.9981395602226257,0.9978463649749756,0.9974873065948486,0.997008204460144,0.9972385168075562,0.9966292977333069,0.996444821357727,0.9961264729499817,0.9957096576690674,0.9950326681137085,0.9945406317710876,0.9945358037948608,0.9938256144523621,0.9935523867607117,0.9932505488395691,0.9928863048553467,0.9926590323448181,0.992083728313446,0.9915264844894409,0.9175311326980591,0.9908336400985718,0.9906736016273499,0.990319550037384,0.9901546835899353,0.9898688793182373,0.9896382689476013,0.9893941879272461,0.9892983436584473,0.9893959760665894,0.9894387125968933,0.989693284034729,0.9898534417152405,0.9905173778533936,0.9911430478096008,0.9914190769195557,0.9921396374702454,0.9930317997932434,0.9938037991523743,0.9944714307785034,0.9958366751670837,0.9969459772109985,0.9978346824645996,0.9991906881332397,0.9998698830604553,1.0012590885162354,1.002398133277893,1.0045839548110962,1.0048729181289673,1.0054806470870972,1.0064092874526978,1.006748080253601,1.0076526403427124,1.0085660219192505,1.009259819984436,1.0097090005874634,1.0103718042373657,1.0108860731124878,1.0113383531570435,1.012224555015564,1.0125294923782349,1.0132478475570679,1.0138722658157349,1.014512538909912,1.014920949935913,1.0152572393417358,1.0154346227645874,1.0157486200332642,1.0159492492675781,1.0161460638046265,1.0161372423171997,1.0164960622787476,1.016594648361206,1.0164713859558105,1.0165261030197144,1.0161157846450806,1.016013503074646,1.0157326459884644,1.0153260231018066,1.014758825302124,1.0144773721694946,1.0148990154266357,1.0143582820892334,1.0139524936676025,1.0132607221603394,1.0129073858261108,1.012600064277649,1.0117570161819458,1.0114580392837524,1.0107492208480835,1.0100315809249878,1.009668231010437,1.0094530582427979,1.009033441543579,1.0088326930999756,1.008458137512207,1.0082430839538574,1.0077786445617676,1.0061638355255127,1.0060818195343018,1.005529522895813,1.0044704675674438,1.0038450956344604,1.0031710863113403,1.002542495727539,1.0018595457077026,1.0015573501586914,1.0014592409133911,1.0009747743606567,1.0009822845458984,1.0004655122756958,1.0004066228866577,1.000403642654419,1.0003949403762817,1.0002154111862183,1.0001704692840576,1.000013828277588,1.000138759613037,1.0006192922592163,1.0009061098098755,1.0000386238098145,1.0000444650650024,0.9999797940254211,0.9987682104110718,0.9987003803253174,0.998342752456665,0.9982590079307556,0.9971821904182434,0.9970895648002625,0.9968743324279785,0.9978616833686829,0.9982808828353882,0.9974068999290466,0.9963975548744202,0.9960850477218628,0.9954397082328796,0.9950373768806458,0.9950215220451355,0.995549201965332,0.9948976635932922,0.9234238862991333,0.9960178732872009,0.9952054619789124,0.9945569038391113,0.9940894842147827,0.9931130409240723,0.9927197694778442,0.9924972057342529,0.991931140422821,0.9919834733009338,0.9911845922470093,0.9911057353019714,0.9907102584838867,0.990831196308136,0.9903095364570618,0.989884078502655,0.9898417592048645,0.9901095628738403,0.9901320934295654,0.9908022284507751,0.9905156493186951,0.9909383058547974,0.9910302758216858,0.9916602969169617,0.992323100566864,0.9930805563926697,0.9939454793930054,0.9948070049285889,0.9958996176719666,0.9967839121818542,0.997772216796875,0.9988616704940796,0.9999531507492065,1.0007641315460205,1.001867413520813,1.0027341842651367,1.0035669803619385,1.004591941833496,1.0051140785217285,1.0058547258377075,1.006369948387146,1.0073426961898804,1.0078845024108887,1.008496642112732,1.0093387365341187,1.0100114345550537,1.0108474493026733,1.0112736225128174,1.012102723121643,1.0127408504486084,1.013181447982788,1.0138221979141235,1.0144070386886597,1.0145435333251953,1.015131950378418,1.0154287815093994,1.0156795978546143,1.0158323049545288,1.0159779787063599,1.0160232782363892,1.0161949396133423,1.01595139503479,1.0161333084106445,1.015485405921936,1.014965295791626,1.0148152112960815,1.014755368232727,1.0140724182128906,1.0147231817245483,1.0139185190200806,1.012961745262146,1.012365698814392,1.012036681175232,1.0111392736434937,1.0105223655700684,1.0099760293960571,1.0089858770370483,1.008629322052002,1.007886528968811,1.0074942111968994,1.0068410634994507,1.0062413215637207,1.005928874015808,1.005133032798767,1.004299521446228,1.003757119178772,1.0031440258026123,1.0028997659683228,1.0020227432250977,1.001225471496582,1.0005837678909302,1.0001187324523926,0.9996263384819031,0.9988520741462708,0.9987621307373047,0.9983389973640442,0.9978238940238953,0.9977473616600037,0.997563362121582,0.9970117211341858,0.9971780776977539,0.9974913001060486,0.9972183704376221,0.997223973274231,0.9972357749938965,0.997160017490387,0.997333824634552,0.996992826461792,0.9968075752258301,0.9967172145843506,0.9965951442718506,0.9961507320404053,0.9957867860794067,0.9954144954681396,0.9953290820121765,0.9947645664215088,0.9944657683372498,0.9938659071922302,0.9933374524116516,0.9933748841285706,0.9183130264282227,0.9942728877067566,0.9932899475097656,0.9926086068153381,0.9925521612167358,0.9921297430992126,0.9922274947166443,0.9919317364692688,0.9918763041496277,0.9919006824493408,0.9917434453964233,0.9918432235717773,0.9916113615036011,0.9905714392662048,0.9902213215827942,0.9901596307754517,0.9896082282066345,0.9894194006919861,0.98899245262146,0.9887890219688416,0.9886261224746704,0.9885661602020264,0.9883418083190918,0.988197922706604,0.9882035851478577,0.9882975220680237,0.9887335300445557,0.9886143207550049,0.989243745803833,0.989554762840271,0.9901127219200134,0.9905462265014648,0.9912636876106262,0.9920299649238586,0.993012011051178,0.9940200448036194,0.9948036074638367,0.996586799621582,0.9969685077667236,0.9981635808944702,0.99908447265625,0.9999208450317383,1.0005841255187988,1.0011281967163086,1.002044677734375,1.0030417442321777,1.0037864446640015,1.004271149635315,1.0048511028289795,1.005700945854187,1.006347894668579,1.0071179866790771,1.0075535774230957,1.00821852684021,1.0092182159423828,1.0098987817764282,1.01076340675354,1.0110647678375244,1.0119602680206299,1.0119482278823853,1.0127393007278442,1.013081669807434,1.0135612487792969,1.0139846801757812,1.0145792961120605,1.0145183801651,1.0145872831344604,1.0149840116500854,1.0156078338623047,1.0157755613327026,1.0150481462478638,1.014969825744629,1.0145773887634277,1.0138298273086548,1.013668417930603,1.0133764743804932,1.0127054452896118,1.0123051404953003,1.0116252899169922,1.0110642910003662,1.0099939107894897,1.0096282958984375,1.0089612007141113,1.0082951784133911,1.0075852870941162,1.0069230794906616,1.0062283277511597,1.0055687427520752,1.0048772096633911,1.0040730237960815,1.0033315420150757,1.0027930736541748,1.0019718408584595,1.0014811754226685,1.0007603168487549,1.000008463859558,0.9994078874588013,0.9986391663551331,0.997917115688324,0.9974387884140015,0.9972065091133118,0.9964674115180969,0.9956768155097961,0.9920358657836914,0.9950160980224609,0.9951494932174683,0.995028555393219,0.9949308037757874,0.9942373037338257,0.9946330785751343,0.9945580959320068,0.9947367310523987,0.995017409324646,0.9949156641960144,0.9951276779174805,0.9954132437705994,0.9952654242515564,0.9951603412628174,0.9949387311935425,0.9944944381713867,0.923138439655304,0.99413001537323,0.9941650032997131,0.9934719204902649,0.993341326713562,0.9930261373519897,0.9929182529449463,0.992912769317627,0.9926919937133789,0.9925847053527832,0.9922026991844177,0.9918377995491028,0.9921166300773621,0.9917767643928528,0.9916183948516846,0.9913177490234375,0.9916287064552307,0.9913434386253357,0.9912291765213013,0.9910018444061279,0.9906104207038879,0.9905303120613098,0.9900290369987488,0.9895605444908142,0.9891723394393921,0.9887285232543945,0.9889615774154663,0.9889683723449707,0.988354504108429,0.988531231880188,0.9879359006881714,0.9880852103233337,0.9879333972930908,0.987906277179718,0.9881335496902466,0.9884161353111267,0.9892047047615051,0.9891423583030701,0.9894356727600098,0.989553689956665,0.9905750155448914,0.9910619258880615,0.991680383682251,0.9926742911338806,0.9938032031059265,0.9945001006126404,0.9952611923217773,0.9960814118385315,0.9970514178276062,0.9985713362693787,0.9987233281135559,0.9997642040252686,1.0005450248718262,1.0013145208358765,1.002606987953186,1.0028654336929321,1.0033601522445679,1.0044327974319458,1.0049928426742554,1.005388855934143,1.0062469244003296,1.0076550245285034,1.0083177089691162,1.0089234113693237,1.0094797611236572,1.0086829662322998,1.0102211236953735,1.0112601518630981,1.0114521980285645,1.012174367904663,1.0125466585159302,1.013051986694336,1.0131103992462158,1.0134576559066772,1.0134538412094116,1.0136312246322632,1.0131548643112183,1.012837290763855,1.0128974914550781,1.0126729011535645,1.0122562646865845,1.0118305683135986,1.011541724205017,1.0110100507736206,1.0103555917739868,1.0097554922103882,1.0092544555664062,1.0087288618087769,1.008010745048523,1.0073148012161255,1.0064220428466797,1.0058752298355103,1.0048770904541016,1.0044137239456177,1.003805160522461,1.0029884576797485,1.0021615028381348,1.0013363361358643,1.0004727840423584,0.9998460412025452,0.9990570545196533,0.9984562397003174,0.996905505657196,0.9970155358314514,0.9961025714874268,0.9956074953079224,0.9952744245529175,0.9942323565483093,0.9943971633911133,0.9936335682868958,0.9932394027709961,0.9928137063980103,0.992729663848877,0.9932467937469482,0.9927822351455688,0.9925894737243652,0.9930025935173035,0.9926088452339172,0.9929619431495667,0.9932740330696106,0.8620855808258057,0.9938470721244812,0.9940147399902344,0.9939950108528137,0.9938697814941406,0.9939754009246826,0.9938081502914429,0.9935492277145386,0.9931542873382568,0.9934797286987305,0.9928227663040161,0.9924536943435669,0.9925252795219421,0.9922530651092529,0.992222249507904,0.9919716715812683,0.9918714165687561,0.9916940927505493,0.9917634725570679,0.9918115139007568,0.9911240339279175,0.9911954998970032,0.990926206111908,0.9907180666923523,0.9906901717185974,0.9908713698387146,0.9907006621360779,0.9906589388847351,0.9901129603385925,0.9898641109466553,0.9897074699401855,0.9891121983528137,1.0149296522140503,1.0146254301071167,1.0142146348953247,1.01417875289917,1.013724446296692,1.0131349563598633,1.0128549337387085,1.0119516849517822,1.0112395286560059,1.0105379819869995,1.0099945068359375,1.0092960596084595,1.0083950757980347,1.0073254108428955,1.0067648887634277,1.0058530569076538,1.0052118301391602,1.0046892166137695,1.003859519958496,1.0032479763031006,1.0025091171264648,1.0021313428878784,1.0011305809020996,1.00053071975708,0.9994456171989441,0.999370276927948,0.9987349510192871,0.9990119934082031,0.9987514019012451,0.9980867505073547,0.9976799488067627,0.997374415397644,0.9975643754005432,0.9974908828735352,0.9973487257957458,0.9976877570152283,0.9973461031913757,0.9980676770210266,0.9983354806900024,0.99854576587677,0.9991806149482727,0.9993669986724854,0.9989683032035828,0.9986886978149414,0.9985902309417725,0.9984458684921265,0.9984666109085083,0.9981846809387207,0.9979026913642883,0.9974554777145386,0.9974181652069092,0.9970504641532898,0.9970726370811462,0.9969571828842163,0.9969406723976135,0.9964433908462524,0.9962463974952698,0.9960724711418152,0.995847761631012,0.9958071708679199,0.9957411289215088,0.995360791683197,0.9960373044013977,0.9961034655570984,0.9956920742988586,0.9950050115585327,0.9946995973587036,0.9941903948783875,0.9937333464622498,0.9934418797492981,0.9928162097930908,0.992786705493927,0.9926660656929016,0.9918419122695923,0.9920680522918701,0.9919476509094238,0.9916927814483643,0.9918195605278015,0.991371214389801,0.9910438060760498,0.9911628365516663,0.991241991519928,0.9913114309310913,0.9912934899330139,0.991590678691864,0.9920497536659241,0.9923071265220642,0.9931105971336365,0.9937593936920166,0.9943692684173584,0.9952250123023987,0.9960906505584717,0.996922492980957,0.9978759288787842,0.9988018274307251,0.9997209310531616,1.0004637241363525,0.999148428440094,1.0022419691085815,1.0027912855148315,1.003894329071045,1.0070856809616089,1.0076221227645874,1.011134147644043,1.026224136352539,1.0247467756271362,1.0426900386810303,1.3278920650482178,1.1401461362838745,1.0579311847686768,1.0358246564865112,1.0266377925872803,1.0232535600662231,1.0213795900344849,1.0215555429458618,1.0190317630767822,1.0192232131958008,1.0190563201904297,1.0190942287445068,1.0191859006881714,0.8981117606163025,1.019421935081482,1.0189805030822754,1.0183618068695068,1.0182920694351196,1.0180197954177856,1.0176212787628174,1.017127275466919,1.016885757446289,1.016136884689331,1.0159069299697876,1.0153534412384033,1.0151678323745728,1.0143452882766724,1.0132648944854736,1.0130280256271362,1.012166142463684,1.011468768119812,1.0102249383926392,1.0095707178115845,1.0090922117233276,1.0083098411560059,1.0075113773345947,1.0068857669830322,1.0062181949615479,1.0053961277008057,1.0044361352920532,1.003721833229065,1.0031073093414307,1.0023845434188843,1.0018364191055298,1.0014803409576416,1.0011117458343506,1.0005033016204834,0.9998867511749268,0.9995239973068237,0.9993188977241516,0.9987293481826782,0.9986957311630249,0.9987265467643738,0.9982851147651672,0.9984378218650818,0.9985665678977966,0.9989067912101746,0.9991628527641296,0.9998806118965149,0.9993767738342285,0.9996622800827026,1.0000624656677246,1.000298023223877,0.9999854564666748,0.9999723434448242,1.0001826286315918,1.0008395910263062,0.9999660849571228,0.9995063543319702,0.9995756149291992,0.999466061592102,0.9991308450698853,0.9989754557609558,0.9989718198776245,0.9985715746879578,0.9985755681991577,0.9985309839248657,0.9982209801673889,0.9980362057685852,0.997380256652832,0.9977074861526489,0.9974150061607361,0.9975348114967346,0.9974077939987183,0.9971655011177063,0.9970697164535522,0.996677815914154,0.9966602325439453,0.9959139823913574,0.9959574937820435,0.9954608678817749,0.9950054883956909,0.9948689341545105,0.9946311116218567,0.9940194487571716,0.9937520623207092,0.9935778975486755,0.9932437539100647,0.9932655096054077,0.9925704002380371,0.9927278757095337,0.9929355978965759,0.9932312369346619,0.993223249912262,0.9935849905014038,0.9934300780296326,0.9940133094787598,0.9945352673530579,0.9949162602424622,0.9959187507629395,0.9964379668235779,0.9973621368408203,0.9980776309967041,0.9965522289276123,0.9991955757141113,1.0004862546920776,1.001062273979187,1.002193808555603,1.0030229091644287,1.003583312034607,1.0040230751037598,1.005144715309143,1.0058296918869019,1.0066012144088745,1.007275938987732,1.0081162452697754,1.008475661277771,1.0092183351516724,1.0101200342178345,1.010730504989624,1.0114474296569824,1.0124759674072266,1.0131652355194092,0.9452348947525024,1.0150727033615112,1.0153067111968994,1.0159647464752197,1.0167111158370972,1.0165754556655884,1.0169703960418701,1.0173670053482056,1.0179041624069214,1.0177761316299438,1.0178519487380981,1.0177273750305176,1.0177500247955322,1.0171473026275635,1.0171083211898804,1.016984462738037,1.016404390335083,1.0163401365280151,1.016345500946045,1.0152491331100464,1.014323353767395,1.0137981176376343,1.0131913423538208,1.01218581199646,1.0113956928253174,1.0110708475112915,1.010201334953308,1.0092341899871826,1.0080138444900513,1.007567048072815,1.0064854621887207,1.0057615041732788,1.004865050315857,1.004176378250122,1.0034213066101074,1.0031678676605225,1.002242922782898,1.0015416145324707,1.0007413625717163,0.999772310256958,0.9990265965461731,0.9990887641906738,0.9986549019813538,0.998201310634613,0.9975079894065857,0.9970685243606567,0.996782124042511,0.9970850944519043,0.996871292591095,0.9967823624610901,0.9966649413108826,0.9970321655273438,0.9973320960998535,0.9974088072776794,0.9982028603553772,0.9986251592636108,0.9981693029403687,0.9977456331253052,0.9978966116905212,0.9978892803192139,0.9981931447982788,0.9978760480880737,0.9979085922241211,0.9974828362464905,0.9979740381240845,0.9988441467285156,0.9982855916023254,0.9983714818954468,0.9984084367752075,0.9980090260505676,0.9979421496391296,0.9978203773498535,0.9981405735015869,0.9990914463996887,0.9985888004302979,0.9985091686248779,0.9984782934188843,0.998288631439209,0.9981425404548645,0.9982668161392212,0.9981130361557007,0.9977511167526245,0.9978053569793701,0.9977051019668579,0.9971331357955933,0.9971861839294434,0.997087836265564,0.9970489740371704,0.9966409206390381,0.9965761303901672,0.9966409206390381,0.9969377517700195,0.9961881637573242,0.9965765476226807,0.9965817332267761,0.9959728717803955,0.9957871437072754,0.996146023273468,0.9962220788002014,0.9968646764755249,0.9969338178634644,0.998039722442627,0.9980136156082153,0.9989976286888123,0.9991945028305054,0.9998490214347839,1.0006294250488281,1.0012966394424438,1.0020307302474976,1.0031784772872925,1.0036118030548096,1.005041480064392,1.0056730508804321,1.0061112642288208,1.0074912309646606,1.008292317390442,1.0079377889633179,1.008197546005249,1.0085113048553467,1.0092400312423706,0.9308225512504578,1.0106281042099,1.0113041400909424,1.0118684768676758,1.0123379230499268,1.0126539468765259,1.0131170749664307,1.0138654708862305,1.0143811702728271,0.9990427494049072,1.0129871368408203,1.0153915882110596,1.0153594017028809,1.0155919790267944,1.015936255455017,1.015040397644043,1.0140048265457153,1.015572190284729,1.0136979818344116,1.0155495405197144,1.0145562887191772,1.0154305696487427,1.014572262763977,1.0144010782241821,1.0135481357574463,1.012956976890564,1.0120487213134766,1.0035353899002075,1.0089548826217651,1.0096430778503418,1.0055253505706787,1.0089348554611206,1.007362723350525,1.0063198804855347,1.0062509775161743,1.0049189329147339,1.0034611225128174,1.0037457942962646,1.0030263662338257,1.0019071102142334,0.9999498724937439,0.997984766960144,0.9976440072059631,0.9979382157325745,0.9912212491035461,0.9959407448768616,0.9954236745834351,0.9931761026382446,0.9939103126525879,0.9939004778862,0.9904242157936096,0.9930655360221863,0.9922280311584473,0.972506046295166,0.9675270915031433,0.9917448163032532,0.9934496283531189,0.9926204085350037,0.9929418563842773,0.9933696389198303,0.9916354417800903,0.9670428037643433,0.97291499376297,0.9929766654968262,0.9947148561477661,0.987077534198761,0.9917172193527222,0.9940846562385559,0.9918210506439209,0.9950308203697205,0.9936057329177856,0.9922307133674622,0.9919613599777222,0.9891332983970642,0.9946619868278503,0.9949982762336731,0.980354905128479,0.949118435382843,0.9876238107681274,0.9941635727882385,0.9941200017929077,0.9954707026481628,0.9906858801841736,0.9974812865257263,0.9985084533691406,0.997970700263977,0.9969539642333984,0.9877462387084961,0.995173454284668,0.9952280521392822,0.9976848363876343,0.9905292391777039,0.997988224029541,0.9968966841697693,0.9966230392456055,0.9794670343399048,0.9342026114463806,0.9928895831108093,0.9969033598899841,0.9935492277145386,0.9508457183837891,0.9514842629432678,0.9923045039176941,0.9979426860809326,0.9982514381408691,0.9982861280441284,0.9983509182929993,0.9990081191062927,0.9992402195930481,0.9995232820510864,1.0004255771636963,1.0006436109542847,1.0014421939849854,1.001940131187439,1.0031137466430664,1.0030375719070435,1.004541277885437,1.0044256448745728,1.004771113395691,1.0051136016845703,0.9298360347747803,1.0071197748184204,1.0072370767593384,1.007544994354248,1.008074402809143,1.0086332559585571,1.009239673614502,1.0095611810684204,1.010128378868103,1.0108379125595093,1.0112814903259277,1.0116620063781738,1.0124694108963013,1.0126312971115112,1.0130692720413208,1.0136221647262573,1.0143678188323975,1.0147123336791992,1.0149916410446167,1.0154451131820679,1.0171804428100586,1.0161082744598389,1.0159560441970825,1.01625657081604,1.0168720483779907,1.016297698020935,1.0153385400772095,1.0149476528167725,1.014635682106018,1.014397382736206,1.0140738487243652,1.0136364698410034,1.0130493640899658,1.0124093294143677,1.01168954372406,1.0112844705581665,1.010646939277649,1.0098580121994019,1.008887767791748,1.0082247257232666,1.0071089267730713,1.0065613985061646,1.0058351755142212,1.0047520399093628,1.003842830657959,1.0031800270080566,1.002763032913208,1.0018619298934937,1.000587821006775,1.0000169277191162,0.998924195766449,0.9981755614280701,0.9971853494644165,0.9965571165084839,0.9958216547966003,0.995215117931366,0.9952544569969177,0.9942041635513306,0.9936925172805786,0.9936378002166748,0.9934095144271851,0.9934633374214172,0.9932298064231873,0.9932214021682739,0.9933566451072693,0.9944717884063721,0.995275616645813,0.9953227043151855,0.9958040714263916,0.9959399104118347,0.9961627125740051,0.9959203004837036,0.9962618350982666,0.9962040781974792,0.9971833229064941,0.9965550303459167,0.9975711107254028,0.9982478618621826,0.9984939694404602,0.998410701751709,0.9987402558326721,0.998635470867157,0.9990901350975037,0.9995585680007935,0.9997217655181885,1.0,1.0001343488693237,1.0003879070281982,1.00041925907135,1.0007401704788208,1.0008177757263184,1.0012037754058838,1.0012824535369873,1.0014957189559937,1.0012520551681519,1.0009808540344238,1.0010817050933838,1.0010305643081665,1.0013383626937866,1.0018876791000366,1.001592993736267,1.000659465789795,1.0011811256408691,1.0004801750183105,1.0000109672546387,0.9997931718826294,0.999509871006012,0.9993155002593994,0.9990821480751038,0.9991250038146973,0.998874306678772,0.9988214373588562,0.9987159371376038,0.9994818568229675,0.9992648959159851,0.9997335076332092,0.9997832775115967,1.0008100271224976,1.0011736154556274,1.0020188093185425,0.8968154788017273,1.0028082132339478,1.0032987594604492,1.003745198249817,1.0041245222091675,1.0044982433319092,1.005395531654358,1.005543828010559,1.0061079263687134,1.006418228149414,1.0071690082550049,1.0073355436325073,1.007848858833313,1.0083701610565186,1.009130597114563,1.0092875957489014,1.0099425315856934,1.0105575323104858,1.0109553337097168,1.0119277238845825,1.0117918252944946,1.0121241807937622,1.0122872591018677,1.012683391571045,1.012959599494934,1.013556957244873,1.0141563415527344,1.014357566833496,1.0147308111190796,1.0146030187606812,1.0145206451416016,1.0146267414093018,1.014520525932312,1.0142420530319214,1.0139977931976318,1.0135806798934937,1.013582468032837,1.013027310371399,1.0127676725387573,1.0124162435531616,1.0118056535720825,1.0117019414901733,1.0111037492752075,1.0105392932891846,1.0117310285568237,1.0092118978500366,1.0085594654083252,1.0075595378875732]},\"selected\":{\"id\":\"2994\"},\"selection_policy\":{\"id\":\"2993\"}},\"id\":\"2845\",\"type\":\"ColumnDataSource\"},{\"attributes\":{\"line_alpha\":0.1,\"x\":{\"field\":\"x\"},\"y\":{\"field\":\"y\"}},\"id\":\"2835\",\"type\":\"Line\"},{\"attributes\":{\"bottom_units\":\"screen\",\"coordinates\":null,\"fill_alpha\":0.5,\"fill_color\":\"lightgrey\",\"group\":null,\"left_units\":\"screen\",\"level\":\"overlay\",\"line_alpha\":1.0,\"line_color\":\"black\",\"line_dash\":[4,4],\"line_width\":2,\"right_units\":\"screen\",\"syncable\":false,\"top_units\":\"screen\"},\"id\":\"2819\",\"type\":\"BoxAnnotation\"},{\"attributes\":{\"line_alpha\":0.2,\"line_color\":\"#0384f7\",\"x\":{\"field\":\"x\"},\"y\":{\"field\":\"y\"}},\"id\":\"2848\",\"type\":\"Line\"},{\"attributes\":{\"fill_alpha\":{\"value\":0.1},\"fill_color\":{\"value\":\"#0384f7\"},\"hatch_alpha\":{\"value\":0.1},\"line_alpha\":{\"value\":0.1},\"line_color\":{\"value\":null},\"size\":{\"value\":6},\"x\":{\"field\":\"x\"},\"y\":{\"field\":\"y\"}},\"id\":\"2841\",\"type\":\"Circle\"},{\"attributes\":{\"line_color\":\"#0384f7\",\"x\":{\"field\":\"x\"},\"y\":{\"field\":\"y\"}},\"id\":\"2846\",\"type\":\"Line\"},{\"attributes\":{\"fill_alpha\":{\"value\":0.2},\"fill_color\":{\"value\":\"#0384f7\"},\"hatch_alpha\":{\"value\":0.2},\"line_alpha\":{\"value\":0.2},\"line_color\":{\"value\":null},\"size\":{\"value\":6},\"x\":{\"field\":\"x\"},\"y\":{\"field\":\"y\"}},\"id\":\"2842\",\"type\":\"Circle\"},{\"attributes\":{\"source\":{\"id\":\"2845\"}},\"id\":\"2850\",\"type\":\"CDSView\"},{\"attributes\":{},\"id\":\"2991\",\"type\":\"UnionRenderers\"},{\"attributes\":{\"coordinates\":null,\"data_source\":{\"id\":\"2839\"},\"glyph\":{\"id\":\"2840\"},\"group\":null,\"hover_glyph\":null,\"muted_glyph\":{\"id\":\"2842\"},\"nonselection_glyph\":{\"id\":\"2841\"},\"view\":{\"id\":\"2844\"}},\"id\":\"2843\",\"type\":\"GlyphRenderer\"},{\"attributes\":{\"source\":{\"id\":\"2839\"}},\"id\":\"2844\",\"type\":\"CDSView\"},{\"attributes\":{},\"id\":\"2987\",\"type\":\"UnionRenderers\"},{\"attributes\":{},\"id\":\"2992\",\"type\":\"Selection\"},{\"attributes\":{},\"id\":\"2806\",\"type\":\"BasicTicker\"},{\"attributes\":{},\"id\":\"2988\",\"type\":\"Selection\"},{\"attributes\":{},\"id\":\"2803\",\"type\":\"LinearScale\"},{\"attributes\":{\"coordinates\":null,\"dimension\":\"height\",\"group\":null,\"line_color\":\"#bf006e\",\"line_width\":3,\"location\":1341.8922700001858},\"id\":\"2851\",\"type\":\"Span\"},{\"attributes\":{\"data\":{\"x\":[1325.323901064325,1325.3447342368493,1325.3655674100485,1325.3864005839657,1325.4072337586317,1325.4280669340615,1325.4489001102568,1325.4697332872036,1325.490566464876,1325.5113996432344,1325.5322328222285,1325.5530660017919,1325.5738991818514,1325.5947323623227,1325.6155655431132,1325.6363987241252,1325.657231905256,1325.6780650864,1325.6988982674488,1325.7197314482976,1325.7405646288425,1325.7613978089855,1325.7822309886326,1325.8030641676985,1325.8238973461089,1325.8447305237953,1325.8655637007057,1325.8863968767976,1325.9072300520427,1325.928063226429,1325.9488963999536,1325.9697295726296,1325.9905627444857,1326.011395915561,1326.0322290859108,1326.0530622555984,1326.0738954246995,1326.094728593298,1326.115561761486,1326.1363949293643,1326.157228097035,1326.1780612646044,1326.1988944321777,1326.2197275998617,1326.2405607677601,1326.2613939359705,1326.282227104588,1326.3030602736947,1326.3238934433666,1326.3447266136686,1326.3655597846532,1326.386392956364,1326.4072261288259,1326.4280593020524,1326.4488924760437,1326.469725650786,1326.4905588262502,1326.511392002396,1326.5322251791704,1326.5530583565053,1326.573891534327,1326.5947247125487,1326.6155578910784,1326.636391069818,1326.6572242486634,1326.6780574275072,1326.6988906062447,1326.7197237847686,1326.7405569629768,1326.7613901407715,1326.7822233180598,1326.803056494756,1326.8238896707878,1326.8447228460898,1326.8655560206107,1326.886389194311,1326.907222367162,1326.928055539152,1326.9488887102823,1326.9697218805693,1326.9905550500425,1327.011388218742,1327.0322213867234,1327.0530545540528,1327.073887720807,1327.0947208870716,1327.1155540529412,1327.1363872185134,1327.157220383892,1327.1780535491841,1327.1988867144958,1327.2197198799345,1327.2405530456006,1327.2613862115918,1327.2822193780007,1327.3030525449115,1327.3238857123977,1327.344718880523,1327.3655520493398,1327.3863852188845,1327.407218389185,1327.4280515602518,1327.4488847320833,1327.469717904664,1327.490551077964,1327.511384251938,1327.5322174265332,1327.5530506016817,1327.573883777307,1327.5947169533224,1327.6155501296332,1327.636383306141,1327.6572164827414,1327.6780496593285,1327.6988828357958,1327.7197160120377,1327.7405491879495,1327.761382363436,1327.782215538406,1327.8030487127758,1327.8238818864725,1327.8447150594338,1327.8655482316071,1327.886381402956,1327.9072145734556,1327.9280477430948,1327.9488809118768,1327.969714079818,1327.9905472469504,1328.0113804133175,1328.0322135789752,1328.0530467439914,1328.0738799084447,1328.094713072421,1328.1155462360148,1328.1363793993262,1328.1572125624589,1328.1780457255204,1328.1988788886163,1328.2197120518522,1328.2405452153293,1328.261378379147,1328.282211543395,1328.3030447081553,1328.3238778735004,1328.3447110394925,1328.3655442061827,1328.3863773736064,1328.4072105417893,1328.4280437107407,1328.4488768804547,1328.4697100509165,1328.4905432220924,1328.5113763939385,1328.5322095663985,1328.5530427394037,1328.5738759128733,1328.5947090867228,1328.6155422608565,1328.6363754351758,1328.6572086095737,1328.678041783945,1328.6988749581828,1328.7197081321826,1328.7405413058411,1328.7613744790635,1328.7822076517577,1328.8030408238433,1328.8238739952465,1328.8447071659077,1328.8655403357773,1328.8863735048194,1328.9072066730103,1328.9280398403405,1328.9488730068167,1328.9697061724573,1328.9905393372944,1329.011372501374,1329.0322056647526,1329.0530388275006,1329.0738719896972,1329.0947051514295,1329.115538312794,1329.1363714738904,1329.1572046348224,1329.1780377956973,1329.1988709566222,1329.219704117701,1329.2405372790372,1329.2613704407256,1329.2822036028556,1329.3030367655094,1329.3238699287583,1329.344703092663,1329.3655362572713,1329.3863694226184,1329.407202588727,1329.428035755605,1329.4488689232464,1329.4697020916324,1329.4905352607295,1329.5113684304893,1329.5322016008554,1329.5530347717568,1329.573867943116,1329.5947011148423,1329.6155342868417,1329.6363674590116,1329.6572006312485,1329.6780338034457,1329.6988669754976,1329.719700147298,1329.7405333187446,1329.761366489743,1329.7821996602038,1329.8030328300463,1329.8238659992007,1329.8446991676058,1329.8655323352136,1329.8863655019913,1329.907198667917,1329.9280318329836,1329.9488649971981,1329.969698160583,1329.990531323168,1330.0113644850035,1330.0321976461487,1330.053030806674,1330.07386396666,1330.0946971261942,1330.1155302853736,1330.1363634442996,1330.157196603076,1330.178029761812,1330.1988629206112,1330.2196960795795,1330.2405292388182,1330.2613623984223,1330.2821955584805,1330.3030287190736,1330.3238618802718,1330.344695042132,1330.3655282047025,1330.3863613680167,1330.4071945320952,1330.4280276969446,1330.4488608625572,1330.4696940289105,1330.490527195969,1330.5113603636862,1330.5321935320023,1330.553026700845,1330.5738598701328,1330.5946930397777,1330.615526209683,1330.6363593797466,1330.6571925498652,1330.6780257199316,1330.6988588898378,1330.7196920594804,1330.7405252287574,1330.7613583975753,1330.7821915658458,1330.8030247334889,1330.823857900435,1330.844691066627,1330.8655242320172,1330.8863573965748,1330.9071905602798,1330.9280237231262,1330.9488568851227,1330.9696900462923,1330.9905232066717,1331.0113563663099,1331.032189525267,1331.053022683614,1331.073855841433,1331.094688998815,1331.1155221558554,1331.136355312658,1331.1571884693255,1331.1780216259667,1331.1988547826857,1331.2196879395883,1331.2405210967759,1331.2613542543415,1331.282187412373,1331.3030205709497,1331.323853730141,1331.3446868900019,1331.36552005058,1331.3863532119067,1331.4071863739994,1331.428019536864,1331.4488527004885,1331.4696858648522,1331.490519029918,1331.511352195635,1331.5321853619419,1331.5530185287673,1331.5738516960278,1331.5946848636343,1331.6155180314895,1331.6363511994894,1331.6571843675304,1331.6780175355068,1331.6988507033102,1331.7196838708371,1331.740517037988,1331.7613502046672,1331.7821833707897,1331.803016536275,1331.8238497010564,1331.8446828650776,1331.865516028295,1331.8863491906752,1331.907182352202,1331.9280155128722,1331.9488486726962,1331.969681831699,1331.9905149899173,1332.0113481474007,1332.0321813042137,1332.0530144604277,1332.0738476161278,1332.0946807714033,1332.115513926351,1332.1363470810736,1332.157180235678,1332.1780133902694,1332.1988465449563,1332.2196796998394,1332.2405128550201,1332.2613460105924,1332.2821791666427,1332.3030123232497,1332.3238454804793,1332.3446786383856,1332.3655117970166,1332.3863449563978,1332.407178116548,1332.4280112774711,1332.4488444391543,1332.4696776015721,1332.4905107646862,1332.5113439284455,1332.5321770927876,1332.5530102576388,1332.5738434229147,1332.594676588524,1332.6155097543694,1332.6363429203486,1332.6571760863558,1332.6780092522845,1332.6988424180272,1332.7196755834811,1332.7405087485465,1332.7613419131303,1332.7821750771463,1332.803008240519,1332.8238414031791,1332.8446745650729,1332.865507726159,1332.8863408864058,1332.9071740457994,1332.9280072043384,1332.9488403620337,1332.9696735189127,1332.9905066750132,1333.01133983039,1333.0321729851053,1333.0530061392324,1333.0738392928572,1333.0946724460712,1333.115505598971,1333.1363387516622,1333.1571719042495,1333.178005056838,1333.1988382095349,1333.2196713624444,1333.2405045156652,1333.2613376692907,1333.282170823406,1333.3030039780863,1333.3238371333982,1333.3446702893966,1333.3655034461226,1333.3863366036057,1333.4071697618588,1333.428002920884,1333.4488360806672,1333.4696692411826,1333.4905024023892,1333.511335564236,1333.5321687266548,1333.5530018895731,1333.5738350529064,1333.5946682165618,1333.6155013804412,1333.6363345444422,1333.6571677084564,1333.6780008723786,1333.698834036104,1333.7196671995273,1333.7405003625515,1333.7613335250824,1333.782166687035,1333.8029998483355,1333.8238330089175,1333.844666168729,1333.865499327727,1333.886332485886,1333.90716564319,1333.9279987996401,1333.948831955252,1333.969665110052,1333.9904982640821,1334.011331417396,1334.032164570057,1334.052997722143,1334.0738308737389,1334.0946640249372,1334.1154971758376,1334.1363303265423,1334.157163477156,1334.1779966277875,1334.1988297785442,1334.2196629295265,1334.2404960808326,1334.2613292325557,1334.2821623847806,1334.3029955375803,1334.3238286910212,1334.344661845156,1334.3654950000225,1334.3863281556494,1334.4071613120495,1334.4279944692203,1334.4488276271486,1334.4696607858064,1334.4904939451487,1334.5113271051225,1334.5321602656627,1334.5529934266926,1334.573826588126,1334.5946597498692,1334.6154929118252,1334.6363260738876,1334.6571592359521,1334.6779923979132,1334.6988255596632,1334.719658721098,1334.7404918821212,1334.7613250426425,1334.7821582025751,1334.802991361848,1334.8238245203956,1334.844657678167,1334.8654908351216,1334.886323991234,1334.9071571464945,1334.9279903009028,1334.9488234544751,1334.969656607241,1334.9904897592446,1335.0113229105398,1335.0321560611949,1335.052989211286,1335.0738223608992,1335.0946555101277,1335.1154886590723,1335.1363218078363,1335.1571549565253,1335.1779881052469,1335.1988212541064,1335.2196544032067,1335.2404875526443,1335.2613207025115,1335.282153852892,1335.302987003857,1335.3238201554716,1335.3446533077868,1335.3654864608393,1335.3863196146556,1335.4071527692463,1335.4279859246087,1335.448819080726,1335.4696522375664,1335.4904853950875,1335.5113185532346,1335.5321517119394,1335.5529848711221,1335.573818030698,1335.594651190573,1335.615484350647,1335.6363175108163,1335.657150670974,1335.677983831014,1335.6988169908295,1335.7196501503188,1335.740483309387,1335.7613164679412,1335.7821496258973,1335.8029827831847,1335.823815939741,1335.8446490955155,1335.8654822504711,1335.8863154045828,1335.907148557843,1335.9279817102524,1335.9488148618302,1335.9696480126079,1335.9904811626318,1336.0113143119556,1336.0321474606492,1336.0529806087893,1336.073813756465,1336.0946469037713,1336.1154800508082,1336.1363131976768,1336.1571463444866,1336.177979491344,1336.1988126383537,1336.2196457856182,1336.2404789332336,1336.2613120812907,1336.2821452298722,1336.3029783790473,1336.3238115288816,1336.344644679423,1336.365477830707,1336.386310982757,1336.4071441355827,1336.4279772891787,1336.4488104435288,1336.4696435985993,1336.4904767543437,1336.511309910705,1336.5321430676156,1336.5529762249957,1336.5738093827588,1336.5946425408072,1336.6154756990422,1336.6363088573598,1336.6571420156533,1336.677975173815,1336.6988083317412,1336.7196414893292,1336.7404746464829,1336.7613078031118,1336.7821409591354,1336.8029741144812,1336.8238072690913,1336.8446404229132,1336.865473575914,1336.886306728069,1336.9071398793715,1336.9279730298288,1336.9488061794586,1336.9696393282939,1336.9904724763808,1337.0113056237774,1337.0321387705562,1337.0529719167946,1337.0738050625803,1337.0946382080087,1337.115471353181,1337.1363044982038,1337.1571376431812,1337.1779707882217,1337.1988039334276,1337.2196370789018,1337.2404702247416,1337.2613033710352,1337.2821365178634,1337.3029696652973,1337.3238028133958,1337.3446359622064,1337.3654691117665,1337.3863022620958,1337.407135413202,1337.4279685650788,1337.4488017177046,1337.4696348710472,1337.4904680250584,1337.5113011796798,1337.5321343348414,1337.5529674904612,1337.5738006464508,1337.5946338027177,1337.6154669591574,1337.6363001156676,1337.6571332721392,1337.6779664284663,1337.6987995845445,1337.7196327402737,1337.740465895557,1337.7612990503064,1337.7821322044406,1337.8029653578888,1337.823798510594,1337.8446316625086,1337.865464813599,1337.8862979638438,1337.907131113236,1337.9279642617837,1337.9487974095093,1337.9696305564473,1337.9904637026468,1338.0112968481646,1338.0321299930738,1338.0529631374538,1338.0737962813946,1338.094629424994,1338.115462568353,1338.1362957115748,1338.1571288547664,1338.1779619980346,1338.1987951414842,1338.2196282852171,1338.240461429328,1338.2612945739043,1338.282127719025,1338.3029608647607,1338.3237940111703,1338.344627158299,1338.3654603061811,1338.3862934548345,1338.4071266042658,1338.4279597544667,1338.4487929054144,1338.4696260570745,1338.4904592093965,1338.5112923623205,1339.6779486825192,1339.6987818350563,1339.7196149872207,1339.740448138917,1339.7612812900584,1339.7821144405686,1339.8029475903784,1339.8237807394328,1339.8446138876877,1339.8654470351141,1339.8862801816933,1339.9071133274226,1339.9279464723147,1339.948779616395,1339.9696127596997,1339.990445902281,1340.0112790442022,1340.0321121855366,1340.0529453263669,1340.0737784667858,1340.094611606889,1340.1154447467804,1340.1362778865653,1340.1571110263508,1340.1779441662427,1340.1987773063447,1340.219610446756,1340.240443587571,1340.2612767288754,1340.2821098707466,1340.3029430132517,1340.323776156445,1340.3446093003697,1340.3654424450558,1340.386275590518,1340.407108736759,1340.4279418837673,1340.4487750315168,1340.469608179968,1340.4904413290683,1340.5112744787566,1340.5321076289563,1340.5529407795843,1340.5737739305494,1340.5946070817538,1340.6154402330928,1340.6362733844624,1340.6571065357555,1340.677939686866,1340.69877283769,1340.7196059881292,1340.74043913809,1340.7612722874865,1340.7821054362419,1340.8029385842915,1340.82377173158,1340.8446048780652,1340.8654380237194,1340.8862711685272,1340.9071043124866,1340.9279374556118,1340.9487705979302,1340.9696037394808,1340.990436880316,1341.011270020501,1341.0321031601113,1341.0529362992293,1341.0737694379486,1341.0946025763685,1341.1154357145908,1341.1362688527208,1341.1571019908672,1341.177935129134,1341.1987682676254,1341.2196014064407,1341.2404345456728,1341.2612676854048,1341.2821008257138,1341.3029339666657,1341.323767108314,1341.3446002506982,1341.3654333938478,1341.3862665377767,1341.4070996824835,1341.427932827956,1341.4487659741665,1341.4695991210742,1341.490432268625,1341.5112654167542,1341.532098565386,1341.5529317144346,1341.5737648638096,1341.5945980134115,1341.6154311631365,1341.636264312878,1341.657097462531,1341.6779306119886,1341.6987637611467,1341.7195969099078,1341.740430058181,1341.76126320588,1341.7820963529293,1341.8029294992664,1341.823762644837,1341.844595789601,1341.8654289335318,1341.886262076617,1341.907095218856,1341.927928360264,1341.9487615008707,1341.969594640717,1341.9904277798562,1342.0112609183566,1342.0320940562929,1342.0529271937505,1342.0737603308226,1342.094593467609,1342.1154266042129,1342.1362597407397,1342.157092877298,1342.1779260139929,1342.198759150926,1342.2195922881951,1342.2404254258936,1342.2612585641057,1342.282091702904,1342.3029248423536,1342.323757982507,1342.3445911234016,1342.3654242650646,1342.3862574075088,1342.407090550733,1342.42792369472,1342.4487568394416,1342.4695899848546,1342.4904231309035,1342.5112562775228,1342.532089424636,1342.5529225721552,1342.5737557199882,1342.5945888680365,1342.6154220161961,1342.636255164359,1342.6570883124195,1342.6779214602723,1342.698754607813,1342.7195877549464,1342.7404209015801,1342.7612540476312,1342.7820871930246,1342.802920337699,1342.823753481602,1342.8445866246948,1342.8654197669532,1342.8862529083665,1342.9070860489355,1342.9279191886785,1342.9487523276262,1342.9695854658203,1342.9904186033164,1343.0112517401833,1343.032084876498,1343.0529180123485,1343.0737511478262,1343.0945842830326,1343.115417418072,1343.1362505530494,1343.1570836880724,1343.1779168232458,1343.1987499586735,1343.219583094451,1343.2404162306702,1343.2612493674133,1343.2820825047534,1343.302915642753,1343.3237487814636,1343.3445819209205,1343.3654150611503,1343.3862482021623,1343.4070813439546,1343.4279144865075,1343.4487476297916,1343.4695807737603,1343.4904139183589,1343.511247063519,1343.5320802091626,1343.5529133552031,1343.5737465015452,1343.5945796480896,1343.6154127947336,1343.636245941367,1343.6570790878857,1343.6779122341832,1343.6987453801592,1343.7195785257143,1343.7404116707603,1343.761244815214,1343.7820779590024,1343.8029111020662,1343.8237442443542,1343.844577385828,1343.8654105264666,1343.8862436662603,1343.907076805213,1343.9279099433425,1343.948743080683,1343.9695762172785,1343.9904093531861,1344.0112424884742,1344.0320756232231,1344.0529087575192,1344.0737418914568,1344.0945750251387,1344.115408158667,1344.1362412921496,1344.157074425693,1344.1779075594009,1344.1987406933772,1344.2195738277164,1344.2404069625106,1344.2612400978394,1344.282073233776,1344.3029063703802,1344.3237395077017,1344.3445726457755,1344.3654057846245,1344.3862389242574,1344.4070720646694,1344.427905205841,1344.4487383477388,1344.4695714903169,1344.4904046335175,1344.511237777271,1344.532070921498,1344.5529040661108,1344.5737372110145,1344.5945703561083,1344.615403501286,1344.6362366464425,1344.6570697914701,1344.6779029362658,1344.6987360807277,1344.7195692247578,1344.7404023682684,1344.761235511177,1344.7820686534133,1344.8029017949177,1344.8237349356427,1344.8445680755524,1344.8654012146249,1344.886234352853,1344.9070674902428,1344.9279006268148,1344.9487337626033,1344.9695668976556,1344.9904000320284,1345.011233165793,1345.0320662990307,1345.0528994318295,1345.0737325642845,1345.0945656964955,1345.1153988285698,1345.1362319606135,1345.1570650927317,1345.1778982250316,1345.1987313576128,1345.21956449057,1345.240397623994,1345.2612307579652,1345.2820638925527,1345.302897027817,1345.3237301638037,1345.344563300549,1345.3653964380721,1345.3862295763813,1345.4070627154688,1345.4278958553116,1345.4487289958768,1345.4695621371175,1345.490395278974,1345.5112284213735,1345.5320615642374,1345.5528947074754,1345.573727850992,1345.5945609946857,1345.6153941384532,1345.636227282186,1345.6570604257768,1345.677893569123,1345.6987267121233,1345.7195598546816,1345.7403929967088,1345.7612261381269,1345.7820592788657,1345.8028924188663,1345.823725558083,1345.844558696481,1345.8653918340415,1345.8862249707602,1345.9070581066437,1345.9278912417126,1345.9487243760047,1345.969557509569,1345.9903906424654,1346.011223774763,1346.032056906546,1346.0528900379024,1346.0737231689302,1346.09455629973,1346.115389430407,1346.1362225610685,1346.1570556918202,1346.177888822767,1346.19872195401,1346.2195550856418,1346.240388217753,1346.2612213504221,1346.2820544837177,1346.3028876176968,1346.3237207524066,1346.3445538878796,1346.3653870241317,1346.3862201611705,1346.4070532989872,1346.4278864375585,1346.4487195768463,1346.4695527168033,1346.4903858573696,1346.5112189984698,1346.5320521400236,1346.5528852819414,1346.5737184241257,1346.594551566475,1346.6153847088835,1346.6362178512459,1346.657050993454,1346.6778841354053,1346.6987172769975,1346.7195504181368,1346.7403835587372,1346.761216698719,1346.7820498380138,1346.8028829765647,1346.823716114328,1346.844549251271,1346.8653823873756,1346.8862155226386,1346.9070486570708,1346.9278817906948,1346.9487149235483,1346.9695480556818,1346.9903811871561,1347.011214318044,1347.03204744843,1347.052880578404,1347.0737137080619,1347.0945468375069,1347.1153799668452,1347.1362130961818,1347.1570462256234,1347.177879355276,1347.198712485238,1347.2195456156023,1347.2403787464573,1347.2612118778823,1347.282045009942,1347.3028781426947,1347.3237112761833,1347.3445444104375,1347.3653775454757,1347.3862106813012,1347.4070438179037,1347.427876955257,1347.4487100933231,1347.4695432320534,1347.490376371382,1347.511209511238,1347.5320426515361,1347.5528757921877,1347.5737089330942,1347.594542074153,1347.6153752152582,1347.636208356304,1347.6570414971832,1347.677874637792,1347.6987077780318,1347.7195409178082,1347.7403740570353,1347.7612071956357,1347.7820403335418,1347.8028734706995,1347.8237066070637,1347.8445397426074,1347.8653728773136,1347.886206011178,1347.9070391442162,1347.9278722764514,1347.9487054079218,1347.9695385386815,1347.990371668793,1348.0112047983293,1348.0320379273758,1348.0528710560238,1348.0737041843704,1348.0945373125187,1348.1153704405754,1348.1362035686466,1348.1570366968374,1348.1778698252513,1348.1987029539905,1348.2195360831465,1348.2403692128034,1348.2612023430404,1348.2820354739226,1348.3028686055038,1348.3237017378272,1348.344534870922,1348.365368004803,1348.386201139471,1348.407034274915,1348.4278674111063,1348.448700548006,1348.4695336855623,1348.4903668237112,1348.5111999623773,1348.5320331014748,1348.5528662409151,1348.5736993805986,1348.5945325204198,1348.615365660277,1348.6361988000615,1348.657031939666,1348.6778650789888,1348.6986982179305,1348.7195313563986,1348.7403644943074,1348.7611976315807,1348.7820307681552,1348.802863903974,1348.823697038997,1348.8445301731974,1348.86536330656,1348.8861964390835,1348.9070295707843,1348.927862701687,1348.948695831833,1348.9695289612757,1348.9903620900818,1349.0111952183252,1349.03202834609,1349.0528614734708,1349.0736946005638,1349.0945277274739,1349.1153608543066,1349.13619398117,1349.1570271081684,1349.177860235404,1349.1986933629785,1349.2195264909824,1349.2403596194993,1349.261192748607,1349.2820258783684,1349.3028590088365,1349.3236921400528,1349.3445252720437,1349.3653584048243,1349.3861915383907,1349.4070246727315,1349.4278578078179,1349.4486909436062,1349.4695240800456,1349.4903572170685,1349.5111903546,1349.5320234925525,1349.5528566308358,1349.57368976935,1349.5945229079914,1349.6153560466535,1349.636189185231,1349.6570223236167,1349.6778554617074,1349.6986885994065,1349.7195217366216,1349.7403548732668,1349.7611880092702,1349.7820211445667,1349.8028542791042,1349.8236874128415,1349.8445205457547,1349.8653536778306,1349.88618680907,1349.9070199394896,1349.9278530691183,1349.9486861979965,1349.969519326182,1349.9903524537403,1350.0111855807468,1350.0320187072887,1350.0528518334602,1350.0736849593593,1350.0945180850895,1350.1153512107576,1350.1361843364718,1350.157017462336,1350.1778505884515,1350.1986837149195,1350.2195168418298,1350.2403499692648,1350.2611830972996,1350.2820162259975,1350.3028493554114,1350.3236824855767,1350.3445156165212,1350.3653487482568,1350.3861818807795,1350.407015014073,1350.427848148109,1350.4486812828438,1350.4695144182208,1350.4903475541737,1350.5111806906255,1350.5320138274883,1350.5528469646702,1350.5736801020703,1350.5945132395855,1350.6153463771084,1350.6361795145338,1350.6570126517552,1350.6778457886692,1350.6986789251807,1350.7195120611975,1350.740345196636,1350.7611783314237,1350.7820114654992,1350.80284459881,1350.8236777313189,1350.8445108630015,1350.8653439938475,1350.8861771238594,1350.9070102530554,1350.9278433814661,1350.9486765091362,1350.9695096361206,1350.9903427624893,1351.0111758883188,1351.0320090136966,1351.0528421387164,1351.0736752634787,1351.0945083880886,1351.1153415126512,1351.1361746372738,1351.1570077620615,1351.1778408871157,1351.1986740125353,1351.21950713841,1351.2403402648217,1351.261173391842,1351.2820065195356,1351.3028396479503,1351.3236727771227,1351.3445059070787,1351.3653390378252,1351.38617216936,1351.4070053016642,1351.427838434706,1351.448671568442,1351.4695047028126,1351.4903378377514,1351.5111709731784,1351.5320041090065,1351.5528372451408,1351.573670381482,1351.594503517926,1351.6153366543642,1351.636169790693,1351.6570029268046,1351.6778360625979,1351.6986691979762,1351.7195023328502,1351.7403354671378,1351.7611686007658,1351.7820017336758,1351.8028348658167,1351.8236679971521,1351.8445011276606,1351.865334257334,1351.8861673861763,1351.9070005142062,1351.9278336414575,1351.9486667679757,1351.9694998938178,1351.9903330190548,1352.011166143765,1352.0319992680363,1352.0528323919639,1352.0736655156497,1352.0944986391964,1352.1153317627118,1352.1361648863021,1352.1569980100721,1352.1778311341234,1352.198664258553,1352.219497383451,1352.2403305088962,1352.261163634961,1352.2819967617065,1352.3028298891809,1352.3236630174176,1352.3444961464397,1352.365329276256,1352.386162406859,1352.4069955382301,1352.427828670334,1352.4486618031265,1352.4694949365462,1352.490328070525,1352.5111612049825,1352.5319943398317,1352.5528274749752,1352.5736606103135,1352.59449374574,1352.615326881149,1352.6361600164353,1352.6569931514932,1352.67782628622,1352.6986594205207,1352.719492554308,1352.7403256874995,1352.761158820024,1352.7819919518233,1352.8028250828506,1352.8236582130708,1352.8444913424617,1352.8653244710185,1352.8861575987473,1352.906990725669,1352.9278238518184,1352.9486569772423,1352.9694901019998,1352.9903232261636,1353.011156349813,1353.0319894730374,1353.052822595931,1353.0736557185971,1353.0944888411418,1353.115321963667,1353.1361550862837,1353.1569882090955],\"y\":{\"__ndarray__\":\"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\",\"dtype\":\"float32\",\"order\":\"little\",\"shape\":[1282]}},\"selected\":{\"id\":\"2988\"},\"selection_policy\":{\"id\":\"2987\"}},\"id\":\"2827\",\"type\":\"ColumnDataSource\"},{\"attributes\":{},\"id\":\"2797\",\"type\":\"DataRange1d\"},{\"attributes\":{\"coordinates\":null,\"data_source\":{\"id\":\"2833\"},\"glyph\":{\"id\":\"2834\"},\"group\":null,\"hover_glyph\":null,\"muted_glyph\":{\"id\":\"2836\"},\"nonselection_glyph\":{\"id\":\"2835\"},\"view\":{\"id\":\"2838\"}},\"id\":\"2837\",\"type\":\"GlyphRenderer\"},{\"attributes\":{\"coordinates\":null,\"data_source\":{\"id\":\"2845\"},\"glyph\":{\"id\":\"2846\"},\"group\":null,\"hover_glyph\":null,\"muted_glyph\":{\"id\":\"2848\"},\"nonselection_glyph\":{\"id\":\"2847\"},\"view\":{\"id\":\"2850\"}},\"id\":\"2849\",\"type\":\"GlyphRenderer\"},{\"attributes\":{},\"id\":\"2799\",\"type\":\"DataRange1d\"},{\"attributes\":{\"line_alpha\":0.1,\"line_color\":\"#0384f7\",\"x\":{\"field\":\"x\"},\"y\":{\"field\":\"y\"}},\"id\":\"2847\",\"type\":\"Line\"},{\"attributes\":{\"coordinates\":null,\"group\":null,\"text\":\"Detrended Lightcurve (TIC141914082)\"},\"id\":\"2795\",\"type\":\"Title\"},{\"attributes\":{\"axis_label\":\"Flux\",\"coordinates\":null,\"formatter\":{\"id\":\"2982\"},\"group\":null,\"major_label_policy\":{\"id\":\"2983\"},\"ticker\":{\"id\":\"2810\"}},\"id\":\"2809\",\"type\":\"LinearAxis\"},{\"attributes\":{},\"id\":\"2813\",\"type\":\"PanTool\"}],\"root_ids\":[\"2794\"]},\"title\":\"Bokeh Application\",\"version\":\"2.4.3\"}};\n",
       "  const render_items = [{\"docid\":\"f833f075-e298-4835-a6ed-634e93ebb09a\",\"root_ids\":[\"2794\"],\"roots\":{\"2794\":\"c0f53598-1dc7-4130-a0e1-6cf57335a0f3\"}}];\n",
       "  root.Bokeh.embed.embed_items_notebook(docs_json, render_items);\n",
       "  }\n",
       "  if (root.Bokeh !== undefined) {\n",
       "    embed_document(root);\n",
       "  } else {\n",
       "    let attempts = 0;\n",
       "    const timer = setInterval(function(root) {\n",
       "      if (root.Bokeh !== undefined) {\n",
       "        clearInterval(timer);\n",
       "        embed_document(root);\n",
       "      } else {\n",
       "        attempts++;\n",
       "        if (attempts > 100) {\n",
       "          clearInterval(timer);\n",
       "          console.log(\"Bokeh: ERROR: Unable to run BokehJS code because BokehJS library is missing\");\n",
       "        }\n",
       "      }\n",
       "    }, 10, root)\n",
       "  }\n",
       "})(window);"
      ],
      "application/vnd.bokehjs_exec.v0+json": ""
     },
     "metadata": {
      "application/vnd.bokehjs_exec.v0+json": {
       "id": "2794"
      }
     },
     "output_type": "display_data"
    }
   ],
   "source": [
    "bfig = plotting.figure(plot_width=850, plot_height=300, title=f\"Detrended Lightcurve (TIC{tic_id})\")\n",
    "\n",
    "# Short cadence\n",
    "bfig.circle(short_cad_lc[\"TIME\"], short_cad_lc[\"RAW_FLUX\"]/np.mean(short_cad_lc[\"RAW_FLUX\"]), fill_color=\"black\",size=2, line_color=None)\n",
    "bfig.line(short_cad_lc[\"TIME\"], short_cad_lc[\"RAW_FLUX\"]/np.mean(short_cad_lc[\"RAW_FLUX\"]), line_color='black')\n",
    "\n",
    "# Long cadence\n",
    "bfig.circle(long_cad_lc[\"TIME\"],long_cad_lc[\"SAP_FLUX\"], fill_color=\"#0384f7\",size=6, line_color=None)\n",
    "bfig.line(long_cad_lc[\"TIME\"],long_cad_lc[\"SAP_FLUX\"], line_color='#0384f7')\n",
    "\n",
    "# Marking the flare (tpeak is in BJD, while the time column in the light curve is BTJD, so we must convert)\n",
    "vline = Span(location=(tpeak - 2457000), dimension='height', line_color='#bf006e', line_width=3)\n",
    "bfig.renderers.extend([vline])\n",
    "\n",
    "# Labeling the axes\n",
    "bfig.xaxis.axis_label = \"Time (BTJD)\"\n",
    "bfig.yaxis.axis_label = \"Flux\"\n",
    "\n",
    "plotting.show(bfig)"
   ]
  },
  {
   "cell_type": "markdown",
   "metadata": {},
   "source": [
    "Experiment with the controls on the right to zoom in and and pan around on this light curve to look at the marked flare and other features (some sort of periodic feature maybe?)"
   ]
  },
  {
   "cell_type": "markdown",
   "metadata": {},
   "source": [
    "### Making an animation\n",
    "\n",
    "Looking at the above plot we can see the flare event in both the long and short cadence light curves. Since we can see it even in the 30 minute data, we should be able to make an animation of the area around the flaring star and see the flare happen.\n",
    "\n",
    "We will use TESScut, the MAST cutout tool for full-frame images to cutout the area around the flaring star across the entire sector, and then make a movie that shows how it changes over time.\n",
    "\n",
    "We will use the `astroquery.mast` __[Tesscut](https://astroquery.readthedocs.io/en/latest/mast/mast.html#tesscut)__ class to make this cutout.  \n",
    "We will use two functions:\n",
    "- Find the sky coordinate of our flare star: `Observations._resolve_object`\\*\n",
    "- Query for cutouts and get the result as a list of HDUList objects: `Tesscut.get_cutouts` \\*\\*\n",
    "\n",
    "\\* `Observations._resolve_object` is a private (not documented) function which is being removed in favor of the public function `Observations.resolve_object` in the next Astroquery release.\n",
    "\n",
    "\\*\\* We must start by finding the sky coordinate of our star, however starting with the next Astroquery release, `Tesscut` functions will be able to take an object name such as a TIC ID as well."
   ]
  },
  {
   "cell_type": "code",
   "execution_count": null,
   "metadata": {},
   "outputs": [],
   "source": [
    "coord = Observations._resolve_object(f\"TIC {tic_id}\")"
   ]
  },
  {
   "cell_type": "markdown",
   "metadata": {},
   "source": [
    "**Requesting a cutout target pixel file. **\n",
    "\n",
    "This query will return a list of `HDUList` objects, each of which is the cutout target pixel file (TPF) for a single sector. In this case, because we specified a single sector we know that the resulting list will only have one element and can pull it out directly."
   ]
  },
  {
   "cell_type": "code",
   "execution_count": null,
   "metadata": {},
   "outputs": [],
   "source": [
    "cutout_hdu = Tesscut.get_cutouts(coordinates=coord, size=40, sector=1)[0]"
   ]
  },
  {
   "cell_type": "code",
   "execution_count": null,
   "metadata": {},
   "outputs": [],
   "source": [
    "cutout_hdu.info()"
   ]
  },
  {
   "cell_type": "markdown",
   "metadata": {},
   "source": [
    "A TESScut TPF has three extensions:\n",
    "- No. 0 (Primary): This HDU contains meta-data related to the entire file.\n",
    "- No. 1 (Pixels): This HDU contains a binary table that holds data like cutout image arrays and times. We will extract information from here to get our set of cutout images.\n",
    "- No. 2 (Aperture): This HDU contains the image extension with data collected from the aperture. We will use this extension to get the WCS associated with out cutout.\n"
   ]
  },
  {
   "cell_type": "code",
   "execution_count": null,
   "metadata": {},
   "outputs": [],
   "source": [
    "cutout_table = Table(cutout_hdu[1].data)\n",
    "cutout_table.columns"
   ]
  },
  {
   "cell_type": "markdown",
   "metadata": {},
   "source": [
    "The Pixels extension contains the cutout data table, which has a number of columns. For our puposes we care about the \"TIME\" column which has the observation times in BTJD, and the \"FLUX\" column which contains the cutout images (they  are calibrated, but not background subtracted)."
   ]
  },
  {
   "cell_type": "markdown",
   "metadata": {},
   "source": [
    "#### Exploring the cutout time series\n",
    "\n",
    "We want to explore what is happening within our cutout area over the time that the flare occurs, so we will make an animated plot of the cutout frames.\n",
    "\n",
    "We can't make a movie of the whole sector (it would take too long), so we will choose only the time range around the flare.\n",
    "\n",
    "Use the light curve plot to figure out what time range you want to animate, or use our selections."
   ]
  },
  {
   "cell_type": "code",
   "execution_count": null,
   "metadata": {},
   "outputs": [],
   "source": [
    "start_btjd = 1341.5\n",
    "end_btjd = 1342.5\n",
    "\n",
    "start_index = (np.abs(cutout_table['TIME'] - start_btjd)).argmin()\n",
    "end_index = (np.abs(cutout_table['TIME'] - end_btjd)).argmin()\n",
    "\n",
    "print(f\"Frames {start_index}-{end_index} ({end_index-start_index} frames)\")"
   ]
  },
  {
   "cell_type": "markdown",
   "metadata": {},
   "source": [
    "#### Looking at the animated cutout"
   ]
  },
  {
   "cell_type": "code",
   "execution_count": null,
   "metadata": {},
   "outputs": [],
   "source": [
    "def make_animation(data_array, start_frame=0, end_frame=None, vmin=None, vmax=None, delay=50):\n",
    "    \"\"\"\n",
    "    Function that takes an array where each frame is a 2D image array and make an animated plot\n",
    "    that runs through the frames.\n",
    "    \n",
    "    Note: This can take a long time to run if you have a lot of frames.    \n",
    "    Parameters\n",
    "    ----------\n",
    "    data_array : array\n",
    "        Array of 2D images.\n",
    "    start_frame : int\n",
    "        The index of the initial frame to show. Default is the first frame.\n",
    "    end_frame : int\n",
    "        The index of the final frame to show. Default is the last frame.\n",
    "    vmin : float\n",
    "        Data range min for the colormap. Defaults to data minimum value.\n",
    "    vmax : float\n",
    "        Data range max for the colormap. Defaults to data maximum value.\n",
    "    delay: \n",
    "        Delay before the next frame is shown in milliseconds.\n",
    "\n",
    "    Returns\n",
    "    -------\n",
    "    response : `animation.FuncAnimation`\n",
    "    \"\"\"\n",
    "    \n",
    "    if not vmin:\n",
    "        vmin = np.min(data_array)\n",
    "    if not vmax:\n",
    "        vmax = np.max(data_array)\n",
    "        \n",
    "    if not end_frame:\n",
    "        end_frame = len(data_array) - 1 # set to the end of the array\n",
    "        \n",
    "    num_frames = end_frame - start_frame + 1 # include the end frame\n",
    "        \n",
    "    def animate(i, fig, ax, binarytab, start=0):\n",
    "        \"\"\"Function used to update the animation\"\"\"\n",
    "        ax.set_title(\"Epoch #\" + str(i+start))\n",
    "        im = ax.imshow(binarytab[i+start], cmap=plt.cm.YlGnBu_r, vmin=vmin, vmax=vmax)\n",
    "        return im,\n",
    "    \n",
    "    # Create initial plot.\n",
    "    fig, ax = plt.subplots(figsize=(10,10))\n",
    "    ax.imshow(data_array[start_frame], cmap=plt.cm.YlGnBu_r, vmin=vmin, vmax=vmax)\n",
    "\n",
    "    ani = animation.FuncAnimation(fig, animate, fargs=(fig, ax, data_array, start_frame), frames=num_frames, \n",
    "                                  interval=delay, repeat_delay=1000)\n",
    "    \n",
    "    plt.close()\n",
    "    \n",
    "    return ani"
   ]
  },
  {
   "cell_type": "code",
   "execution_count": null,
   "metadata": {},
   "outputs": [],
   "source": [
    "make_animation(cutout_table['FLUX'], start_index, end_index, vmax=700, delay=150)"
   ]
  },
  {
   "cell_type": "markdown",
   "metadata": {},
   "source": [
    "We can see three things in this plot:\n",
    "- The flare that occures in frames 740-743\n",
    "- An aberration that appears in frame 754\n",
    "- A variable star pulsing in the lower right corner"
   ]
  },
  {
   "cell_type": "markdown",
   "metadata": {},
   "source": [
    "***"
   ]
  },
  {
   "cell_type": "markdown",
   "metadata": {},
   "source": [
    "## Exploring a variable star\n",
    "\n",
    "Now we will look more closely at the variable star we can see in the animation. We will use the TESS Input Catalog (TIC) to figure out the TESS ID of the variable star, and then using that ID pull down and explore the star's light curve from MAST. "
   ]
  },
  {
   "cell_type": "markdown",
   "metadata": {},
   "source": [
    "### Overlaying TIC sources\n",
    "\n",
    "First we will use the `astroquery.mast.Catalog` class to query the TESS Input Catalog (TIC) and get a list of sources that appear in our cutout.\n",
    "\n",
    "Here we do a simple cone search and the apply a magnitude limit. Play around with the magnitude limit to see how it changes the number of sources."
   ]
  },
  {
   "cell_type": "code",
   "execution_count": null,
   "metadata": {},
   "outputs": [],
   "source": [
    "sources = Catalogs.query_object(catalog=\"TIC\", objectname=f\"TIC {tic_id}\", radius=10*u.arcmin)\n",
    "sources = sources[sources[\"Tmag\"] < 12]\n",
    "print(f\"Number of sources: {len(sources)}\")\n",
    "print(sources)"
   ]
  },
  {
   "cell_type": "markdown",
   "metadata": {},
   "source": [
    "#### Plotting sources on an individual cutout\n",
    "\n",
    "We will get the WCS infomation associated with our cutout from the Aperture extension, and use it to make a WCS-aware plot of a single cutout image. Then we display the image and sources together, and label the sources with their row number in the catalog table."
   ]
  },
  {
   "cell_type": "code",
   "execution_count": null,
   "metadata": {},
   "outputs": [],
   "source": [
    "cutout_wcs = WCS(cutout_hdu[2].header)\n",
    "cutout_img = cutout_table[\"FLUX\"][start_index]"
   ]
  },
  {
   "cell_type": "code",
   "execution_count": null,
   "metadata": {},
   "outputs": [],
   "source": [
    "fig, ax = plt.subplots(subplot_kw={'projection':cutout_wcs})\n",
    "fig.set_size_inches(10,10)\n",
    "plt.grid(color='white', ls='solid')\n",
    "    \n",
    "# Setup WCS axes.\n",
    "xcoords = ax.coords[0]\n",
    "ycoords = ax.coords[1]\n",
    "xcoords.set_major_formatter('d.ddd')\n",
    "ycoords.set_major_formatter('d.ddd')\n",
    "xcoords.set_axislabel(\"RA (deg)\")\n",
    "ycoords.set_axislabel(\"Dec (deg)\")\n",
    "ax.imshow(cutout_img, cmap=plt.cm.YlGnBu_r,vmin=0,vmax=700)\n",
    "ax.plot(sources['ra'],sources['dec'],'x',transform=ax.get_transform('icrs'),color=\"red\")\n",
    "\n",
    "# Annotating the sources with their row nnumber in the sources table\n",
    "for i,star in enumerate(sources):\n",
    "    ax.text(star['ra']+0.01,star['dec'],i,transform=ax.get_transform('icrs'))\n",
    "\n",
    "ax.set_xlim(0,cutout_img.shape[1]-1)\n",
    "ax.set_ylim(cutout_img.shape[0]-1,0)\n",
    "\n",
    "plt.show()"
   ]
  },
  {
   "cell_type": "markdown",
   "metadata": {},
   "source": [
    "The variable star is row 4 in the catalog sources table (note that if you changed the magnitude threshold the variale star may be in a different row)."
   ]
  },
  {
   "cell_type": "code",
   "execution_count": null,
   "metadata": {},
   "outputs": [],
   "source": [
    "sources[\"ID\",\"ra\",\"dec\"][4]"
   ]
  },
  {
   "cell_type": "markdown",
   "metadata": {},
   "source": [
    "### Getting the variable star light curve\n",
    "\n",
    "Again, we will look specifically for the TASOC light curve(s) associated with this star, rather than the mission pipeline ones. Below we go through the same process as in the [Downloading the light curves](#Downloading-the-light-curves) section to search for the observation, then find the associated data products, and download them."
   ]
  },
  {
   "cell_type": "code",
   "execution_count": null,
   "metadata": {},
   "outputs": [],
   "source": [
    "variable_tic_id = sources[\"ID\"][4]\n",
    "\n",
    "variable_res = Observations.query_criteria(target_name=variable_tic_id, \n",
    "                                        obs_collection=\"HLSP\", \n",
    "                                        filters=\"TESS\")\n",
    "print(f\"Number of tasoc light curves for {variable_tic_id}: {len(variable_res)}\\n\")\n",
    "\n",
    "        \n",
    "variable_prod = Observations.get_product_list(variable_res[0])\n",
    "variable_manifest = Observations.download_products(variable_prod)"
   ]
  },
  {
   "cell_type": "markdown",
   "metadata": {},
   "source": [
    "Note that this time there is only one (30 minute cadence) TASOC light curve. This is because this star was not one od the targets that TESS observed at the shorter cadence."
   ]
  },
  {
   "cell_type": "code",
   "execution_count": null,
   "metadata": {},
   "outputs": [],
   "source": [
    "hdu = fits.open(variable_manifest[\"Local Path\"][0])\n",
    "variable_lc = Table(hdu[1].data)\n",
    "hdu.close()"
   ]
  },
  {
   "cell_type": "markdown",
   "metadata": {},
   "source": [
    "### Plotting the variable star light curve\n",
    "\n",
    "We will again plot the light curve using bokeh so that we have interactivity."
   ]
  },
  {
   "cell_type": "code",
   "execution_count": null,
   "metadata": {},
   "outputs": [],
   "source": [
    "bfig = plotting.figure(plot_width=850, plot_height=300, title=f\"Detrended Lightcurve (TIC{variable_tic_id})\")\n",
    "\n",
    "bfig.circle(variable_lc[\"TIME\"],variable_lc[\"FLUX_RAW\"], fill_color=\"black\",size=4, line_color=None)\n",
    "bfig.line(variable_lc[\"TIME\"],variable_lc[\"FLUX_RAW\"], line_color='black')\n",
    "\n",
    "# Labeling the axes\n",
    "bfig.xaxis.axis_label = \"Time (BTJD)\"\n",
    "bfig.yaxis.axis_label = \"Flux\"\n",
    "\n",
    "plotting.show(bfig)"
   ]
  },
  {
   "cell_type": "markdown",
   "metadata": {},
   "source": [
    "That looks variable all right!\n",
    "\n",
    "### Finding the period\n",
    "\n",
    "We'll run a Lomb Scargle priodogram on this light curve to see if we can quantify the periodic behavior. To do this we will use the `astropy.timeseries` class [LombScargle](https://docs.astropy.org/en/stable/timeseries/lombscargle.html)."
   ]
  },
  {
   "cell_type": "code",
   "execution_count": null,
   "metadata": {},
   "outputs": [],
   "source": [
    "lomb = LombScargle(variable_lc[\"TIME\"], variable_lc[\"FLUX_RAW\"])\n",
    "frequency, power = lomb.autopower(maximum_frequency=25)"
   ]
  },
  {
   "cell_type": "markdown",
   "metadata": {},
   "source": [
    "#### Plotting the periodogram"
   ]
  },
  {
   "cell_type": "code",
   "execution_count": null,
   "metadata": {},
   "outputs": [],
   "source": [
    "bfig = plotting.figure(plot_width=850, plot_height=300, x_range=(0,25),\n",
    "                       title=f\"Periodogram (TIC{variable_tic_id})\")\n",
    "\n",
    "bfig.line(frequency, power, line_color='black')\n",
    "\n",
    "# Labeling the axes\n",
    "bfig.xaxis.axis_label = \"Frequency (1/day)\"\n",
    "bfig.yaxis.axis_label = \"Power\"\n",
    "\n",
    "plotting.show(bfig)"
   ]
  },
  {
   "cell_type": "markdown",
   "metadata": {},
   "source": [
    "#### Phasing on the highest power period/frequency\n",
    "\n",
    "There is a clear dominant frequency in the above plot, with a small harmonic also visible. We will phase the stellar light curve on the period corresponding to the dominant frequency and plot both it and the corresponding sinusoidal fit."
   ]
  },
  {
   "cell_type": "code",
   "execution_count": null,
   "metadata": {},
   "outputs": [],
   "source": [
    "dominant_freq = frequency[np.argmax(power)].value\n",
    "print(f\"The dominant priod: {1/dominant_freq*24:.3} hours\")"
   ]
  },
  {
   "cell_type": "code",
   "execution_count": null,
   "metadata": {},
   "outputs": [],
   "source": [
    "bfig = plotting.figure(plot_width=850, plot_height=300, title=f\"Phased Lightcurve (TIC{variable_tic_id})\")\n",
    "\n",
    "# Plotting the phased light curve\n",
    "bfig.circle(variable_lc[\"TIME\"]%(1/dominant_freq),variable_lc[\"FLUX_RAW\"], fill_color=\"black\",size=4, line_color=None)\n",
    "\n",
    "# Plotting the periodic fit\n",
    "t_fit = np.linspace(0,1/dominant_freq,100)\n",
    "bfig.line(t_fit, lomb.model(t_fit, dominant_freq), color='#1b9f00', line_width=2)\n",
    "\n",
    "# Labeling the axes\n",
    "bfig.xaxis.axis_label = \"Phase (days)\"\n",
    "bfig.yaxis.axis_label = \"Flux\"\n",
    "\n",
    "plotting.show(bfig)"
   ]
  },
  {
   "cell_type": "markdown",
   "metadata": {},
   "source": [
    "***"
   ]
  },
  {
   "cell_type": "markdown",
   "metadata": {},
   "source": [
    "## Additional Resources\n",
    "\n",
    "- [Main TESS page at MAST](https://archive.stsci.edu/tess)\n",
    "- [MAST Astroquery documentation](https://astroquery.readthedocs.io/en/latest/mast/mast.html)"
   ]
  },
  {
   "cell_type": "markdown",
   "metadata": {},
   "source": [
    "## About this Notebook\n",
    "**Author:** C. E. Brasseur, STScI Software Engineer\n",
    "<br>**Updated On:** 2019-08-02"
   ]
  },
  {
   "cell_type": "markdown",
   "metadata": {},
   "source": [
    "[Top of Page](#title_ID)\n",
    "<img style=\"float: right;\" src=\"https://raw.githubusercontent.com/spacetelescope/notebooks/master/assets/stsci_pri_combo_mark_horizonal_white_bkgd.png\" alt=\"STScI logo\" width=\"200px\"/> "
   ]
  },
  {
   "cell_type": "code",
   "execution_count": null,
   "metadata": {},
   "outputs": [],
   "source": []
  }
 ],
 "metadata": {
  "kernelspec": {
   "display_name": "Python 3 (ipykernel)",
   "language": "python",
   "name": "python3"
  },
  "language_info": {
   "codemirror_mode": {
    "name": "ipython",
    "version": 3
   },
   "file_extension": ".py",
   "mimetype": "text/x-python",
   "name": "python",
   "nbconvert_exporter": "python",
   "pygments_lexer": "ipython3",
   "version": "3.8.12"
  }
 },
 "nbformat": 4,
 "nbformat_minor": 2
}
