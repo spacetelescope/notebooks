{
 "cells": [
  {
   "cell_type": "markdown",
   "id": "aca721b8",
   "metadata": {},
   "source": [
    "<a id=\"top\"></a>\n",
    "# Downloading UV data – Part 1 – SOLUTIONS\n",
    "***\n",
    "\n",
    "Solutions proposed for Part 1.\n",
    "\n",
    "## Imports\n",
    "\n",
    "The first step will be to import the libraries we will be using throughout this tutorial: \n",
    "\n",
    "- `Observations` from _astroquery.mast_ to query the Barbara A. Mikulski Archive for Space Telescopes (MAST).\n",
    "- `fits` from _astropy.io_ for accessing FITS files\n",
    "- `numpy` for array manipulations"
   ]
  },
  {
   "cell_type": "code",
   "execution_count": null,
   "id": "1b9b9210",
   "metadata": {},
   "outputs": [],
   "source": [
    "from astroquery.mast import Observations\n",
    "from astropy.io import fits\n",
    "import numpy as np"
   ]
  },
  {
   "cell_type": "markdown",
   "id": "ea36dc58",
   "metadata": {},
   "source": [
    "## Functions needed\n",
    "\n",
    "Functions defined in the tutorial that will be used in the solutions of the exercises:"
   ]
  },
  {
   "cell_type": "code",
   "execution_count": null,
   "id": "258b2d06",
   "metadata": {},
   "outputs": [],
   "source": [
    "def changeNaN(wavv,fluxx,wavv1,fluxx1):\n",
    "    \n",
    "    \"\"\"\n",
    "    Removes negative flux values to avoid encountering NaN when converting to flux scale\n",
    "    \n",
    "    Inputs:\n",
    "    :param wavv,wavv1: input wavelength arrays\n",
    "    :type wavv,wavv1: float array\n",
    "    :param fluxx,fluxx1: input wavelength arrays\n",
    "    :type fluxx,fluxx1: float array\n",
    "    \n",
    "    Outputs: \n",
    "    :return: wavv,fluxx,wavv1,fluxx1 without the corresponding problematic values\n",
    "    :rtype: float array\n",
    "    \"\"\"\n",
    "    \n",
    "    prob = np.where(fluxx < 0)[0]\n",
    "    wavv = np.delete(wavv,prob)\n",
    "    fluxx = np.delete(fluxx,prob)\n",
    "    wavv1 = np.delete(wavv1,prob)\n",
    "    fluxx1 = np.delete(fluxx1,prob)\n",
    "    \n",
    "    prob2 = np.where(fluxx1 < 0)[0]\n",
    "    wavv = np.delete(wavv,prob2)\n",
    "    fluxx = np.delete(fluxx,prob2)\n",
    "    wavv1 = np.delete(wavv1,prob2)\n",
    "    fluxx1 = np.delete(fluxx1,prob2)\n",
    "    \n",
    "    return wavv, fluxx, wavv1, fluxx1"
   ]
  },
  {
   "cell_type": "code",
   "execution_count": null,
   "id": "4a185182",
   "metadata": {},
   "outputs": [],
   "source": [
    "def saveArray(array,filename):\n",
    "    \n",
    "    \"\"\"\n",
    "    Saves arrays into .txt files in current directory and checks that the files have been written properly\n",
    "    \n",
    "    Inputs:\n",
    "    :param array: array to be saved to local directory\n",
    "    :type array: float array\n",
    "    :param filename: name of file to be saved\n",
    "    :type filename: string\n",
    "    \n",
    "    Outputs: \n",
    "    :return: none\n",
    "    :rtype: none\n",
    "    \"\"\"\n",
    "    \n",
    "    # First display the start and ending of the array to check later\n",
    "    print('First 3 elements of original array:\\n', array[:3])\n",
    "    print('Last 3 elements of original array:\\n', array[-3:])\n",
    "\n",
    "    # Save the array in a text file\n",
    "    np.savetxt(filename,array)\n",
    "    \n",
    "    # Display the saved content to check it was correctly written to the .txt file\n",
    "    content = np.loadtxt(filename)\n",
    "    print('First 3 elements of '+filename+':\\n', content[:3])\n",
    "    print('Last 3 elements of '+filename+':\\n', content[-3:],'\\n')\n",
    "    \n",
    "    return None"
   ]
  },
  {
   "cell_type": "markdown",
   "id": "833850c9",
   "metadata": {},
   "source": [
    "## Exercises\n",
    "\n",
    "Now you can try to do it yourself! Try to obtain the spectra necessary to create an extinction curve of a star belonging to the Large Magellanic Cloud (LMC) following the steps presented for the SMC one.\n",
    "\n",
    "### 1. Load the data\n",
    "\n",
    "The targets for this exercise will be:\n",
    "\n",
    "- Sk -69 206 (Observation IDs: swp36552, lwp15751) (reddened star)\n",
    "- Sk -67 5 (Observation IDs: swp04827, lwr04170) (unreddened star)\n",
    "\n",
    "First, do the database search for the reddened star:"
   ]
  },
  {
   "cell_type": "code",
   "execution_count": null,
   "id": "76c591bb",
   "metadata": {},
   "outputs": [],
   "source": [
    "IUEobs_sk_69_206 = Observations.query_criteria(objectname=\"SK-69206\",obs_collection=\"IUE\")\n",
    "data_products_sk_69_206 = Observations.get_product_list(IUEobs_sk_69_206)\n",
    "\n",
    "data_products_sk_69_206"
   ]
  },
  {
   "cell_type": "markdown",
   "id": "a4d7ce02",
   "metadata": {},
   "source": [
    "Narrow down the possibilities to the desired observation, observation ID: \"swp36552\":"
   ]
  },
  {
   "cell_type": "code",
   "execution_count": null,
   "id": "89079f39",
   "metadata": {},
   "outputs": [],
   "source": [
    "IUEobs_sk_69_206_sw = Observations.query_criteria(obs_collection=\"IUE\", obs_id=\"swp36552\")\n",
    "data_products_sk_69_206_sw = Observations.get_product_list(IUEobs_sk_69_206_sw)\n",
    "yourProd_sk_69_206_sw = Observations.filter_products(data_products_sk_69_206_sw, extension=\"swp36552mxlo_vo.fits\")\n",
    "\n",
    "yourProd_sk_69_206_sw"
   ]
  },
  {
   "cell_type": "markdown",
   "id": "16f287a9",
   "metadata": {},
   "source": [
    "Now, download the data as before:"
   ]
  },
  {
   "cell_type": "code",
   "execution_count": null,
   "id": "e611b428",
   "metadata": {},
   "outputs": [],
   "source": [
    "Observations.download_products(yourProd_sk_69_206_sw, mrp_only = False, cache = False) "
   ]
  },
  {
   "cell_type": "markdown",
   "id": "8547886a",
   "metadata": {},
   "source": [
    "And again, in order to cover a wider wavelength range, let's also download the other part of the spectra using the second observation ID provided, observation ID: \"lwp15751\":"
   ]
  },
  {
   "cell_type": "code",
   "execution_count": null,
   "id": "0cf5ea36",
   "metadata": {},
   "outputs": [],
   "source": [
    "IUEobs_sk_69_206_lw = Observations.query_criteria(obs_collection=\"IUE\", obs_id=\"lwp15751\")\n",
    "data_products_sk_69_206_lw = Observations.get_product_list(IUEobs_sk_69_206_lw)\n",
    "yourProd_sk_69_206_lw = Observations.filter_products(data_products_sk_69_206_lw, extension=\"lwp15751mxlo_vo.fits\")\n",
    "Observations.download_products(yourProd_sk_69_206_lw, mrp_only = False, cache = False) "
   ]
  },
  {
   "cell_type": "markdown",
   "id": "0c81413c",
   "metadata": {},
   "source": [
    "Now, let's do the same for the unreddened star:"
   ]
  },
  {
   "cell_type": "code",
   "execution_count": null,
   "id": "a0958d89",
   "metadata": {},
   "outputs": [],
   "source": [
    "IUEobs_sk_67_5 = Observations.query_criteria(objectname=\"SK-675\",obs_collection=\"IUE\")\n",
    "data_products_sk_67_5 = Observations.get_product_list(IUEobs_sk_67_5)\n",
    "\n",
    "data_products_sk_67_5"
   ]
  },
  {
   "cell_type": "markdown",
   "id": "c36414b5",
   "metadata": {},
   "source": [
    "- Observation ID: \"swp04827\":"
   ]
  },
  {
   "cell_type": "code",
   "execution_count": null,
   "id": "e25f93cd",
   "metadata": {},
   "outputs": [],
   "source": [
    "data_products_sk_67_5[42]"
   ]
  },
  {
   "cell_type": "code",
   "execution_count": null,
   "id": "8f36307d",
   "metadata": {},
   "outputs": [],
   "source": [
    "IUEobs_sk_67_5_sw = Observations.query_criteria(obs_collection=\"IUE\", obs_id=\"swp04827\")\n",
    "data_products_sk_67_5_sw = Observations.get_product_list(IUEobs_sk_67_5_sw)\n",
    "yourProd_sk_67_5_sw = Observations.filter_products(data_products_sk_67_5_sw, extension=\"swp04827mxlo_vo.fits\")\n",
    "Observations.download_products(yourProd_sk_67_5_sw, mrp_only = False, cache = False) "
   ]
  },
  {
   "cell_type": "markdown",
   "id": "d6cf4b6f",
   "metadata": {},
   "source": [
    "- Observation ID: \"lwr04170\""
   ]
  },
  {
   "cell_type": "code",
   "execution_count": null,
   "id": "bae12cde",
   "metadata": {},
   "outputs": [],
   "source": [
    "data_products_sk_67_5[17]"
   ]
  },
  {
   "cell_type": "code",
   "execution_count": null,
   "id": "e17e3929",
   "metadata": {},
   "outputs": [],
   "source": [
    "IUEobs_sk_67_5_lw = Observations.query_criteria(obs_collection=\"IUE\", obs_id=\"lwr04170\")\n",
    "data_products_sk_67_5_lw = Observations.get_product_list(IUEobs_sk_67_5_lw)\n",
    "yourProd_sk_67_5_lw = Observations.filter_products(data_products_sk_67_5_lw, extension=\"lwr04170mxlo_vo.fits\")\n",
    "Observations.download_products(yourProd_sk_67_5_lw, mrp_only = False, cache = False) "
   ]
  },
  {
   "cell_type": "markdown",
   "id": "aeba0521",
   "metadata": {},
   "source": [
    "### 2. Open the fits file and explore it"
   ]
  },
  {
   "cell_type": "code",
   "execution_count": null,
   "id": "b44fbf1c",
   "metadata": {},
   "outputs": [],
   "source": [
    "filename_sk_69_206_sw = \"./mastDownload/IUE/swp36552/swp36552mxlo_vo.fits\"\n",
    "fits.info(filename_sk_69_206_sw)\n",
    "\n",
    "with fits.open(filename_sk_69_206_sw) as hdulist:\n",
    "    spectrum_sk_69_206_sw = hdulist[1].data\n",
    "\n",
    "wav_sk_69_206_sw = spectrum_sk_69_206_sw[0][0] # A\n",
    "flux_sk_69_206_sw = spectrum_sk_69_206_sw[0][1] # ergs/cm2/sec/A\n",
    "\n",
    "filename_sk_69_206_lw = \"./mastDownload/IUE/lwp15751/lwp15751mxlo_vo.fits\"\n",
    "fits.info(filename_sk_69_206_lw)\n",
    "\n",
    "with fits.open(filename_sk_69_206_lw) as hdulist:\n",
    "    spectrum_sk_69_206_lw = hdulist[1].data\n",
    "\n",
    "wav_sk_69_206_lw = spectrum_sk_69_206_lw[0][0] # A\n",
    "flux_sk_69_206_lw = spectrum_sk_69_206_lw[0][1] # ergs/cm2/sec/A\n",
    "\n",
    "filename_sk_67_5_sw = \"./mastDownload/IUE/swp04827/swp04827mxlo_vo.fits\"\n",
    "fits.info(filename_sk_67_5_sw)\n",
    "\n",
    "with fits.open(filename_sk_67_5_sw) as hdulist:\n",
    "    spectrum_sk_67_5_sw = hdulist[1].data\n",
    "\n",
    "wav_sk_67_5_sw = spectrum_sk_67_5_sw[0][0] # A\n",
    "flux_sk_67_5_sw = spectrum_sk_67_5_sw[0][1] # ergs/cm2/sec/A\n",
    "\n",
    "filename_sk_67_5_lw = \"./mastDownload/IUE/lwr04170/lwr04170mxlo_vo.fits\"\n",
    "fits.info(filename_sk_67_5_lw)\n",
    "\n",
    "with fits.open(filename_sk_67_5_lw) as hdulist:\n",
    "    spectrum_sk_67_5_lw = hdulist[1].data\n",
    "\n",
    "wav_sk_67_5_lw = spectrum_sk_67_5_lw[0][0] # A\n",
    "flux_sk_67_5_lw = spectrum_sk_67_5_lw[0][1] # ergs/cm2/sec/A\n",
    "\n",
    "wav_sk_69_206_sw, flux_sk_69_206_sw, wav_sk_67_5_sw, flux_sk_67_5_sw = changeNaN(wav_sk_69_206_sw, flux_sk_69_206_sw, wav_sk_67_5_sw, flux_sk_67_5_sw)\n",
    "wav_sk_69_206_lw, flux_sk_69_206_lw, wav_sk_67_5_lw, flux_sk_67_5_lw = changeNaN(wav_sk_69_206_lw, flux_sk_69_206_lw, wav_sk_67_5_lw, flux_sk_67_5_lw)"
   ]
  },
  {
   "cell_type": "markdown",
   "id": "8aa8041a",
   "metadata": {},
   "source": [
    "### 3. Save the data to your local computer"
   ]
  },
  {
   "cell_type": "code",
   "execution_count": null,
   "id": "1e850520",
   "metadata": {},
   "outputs": [],
   "source": [
    "arrays = [wav_sk_69_206_sw, flux_sk_69_206_sw, wav_sk_67_5_sw, flux_sk_67_5_sw, wav_sk_69_206_lw, flux_sk_69_206_lw, wav_sk_67_5_lw, flux_sk_67_5_lw]\n",
    "filenames = ['wav_sk_69_206_sw.txt', 'flux_sk_69_206_sw.txt', 'wav_sk_67_5_sw.txt', 'flux_sk_67_5_sw.txt', 'wav_sk_69_206_lw.txt', 'flux_sk_69_206_lw.txt', 'wav_sk_67_5_lw.txt', 'flux_sk_67_5_lw.txt']\n",
    "\n",
    "for i in range(len(arrays)):\n",
    "    saveArray(arrays[i],filenames[i])"
   ]
  },
  {
   "cell_type": "markdown",
   "id": "1b45d8e0",
   "metadata": {},
   "source": [
    "## Additional Resources\n",
    "\n",
    "For more information about the MAST archive and details about mission data: \n",
    "\n",
    "* <a href=\"https://mast.stsci.edu/api/v0/index.html\">MAST API</a> <br>\n",
    "* <a href=\"https://archive.stsci.edu/iue/\">International Ultraviolet Explorer Page (MAST)</a> <br>\n",
    "* <a href=\"https://archive.stsci.edu/iue/mdr_help.html\">IUE Data Retrieval Help Page</a> \n",
    "\n",
    "For more information about extinction curves and their parametrization:\n",
    "\n",
    "\n",
    "* <a href=\"https://ui.adsabs.harvard.edu/abs/2003ApJ...594..279G/abstract\">A quantitative comparison of SMC, LMC and Milky Way UV to NIR extinction curves</a> <br>\n",
    "* <a href=\"https://adsabs.harvard.edu/pdf/1990ApJS...72..163F\">An analysis of the shapes of the ultraviolet extinction curves. III. An atlas of ultraviolet extinction curves</a> "
   ]
  },
  {
   "cell_type": "markdown",
   "id": "49ed7fcd",
   "metadata": {},
   "source": [
    "## About this Notebook\n",
    "\n",
    "**Author**: Clara Puerto Sánchez <br>\n",
    "**Keyword(s)**: Tutorial, UV, reddening, extinction-curve <br>\n",
    "**Last Updated**: Aug 2022 <br>\n",
    "**Next review**: Mar 2023\n",
    "\n",
    "For support, please contact the Archive HelpDesk at archive@stsci.edu.\n",
    "***\n",
    "[Top of Page](#top)\n",
    "<img style=\"float: right;\" src=\"https://raw.githubusercontent.com/spacetelescope/notebooks/master/assets/stsci_pri_combo_mark_horizonal_white_bkgd.png\" alt=\"Space Telescope Logo\" width=\"200px\"/>"
   ]
  }
 ],
 "metadata": {
  "kernelspec": {
   "display_name": "Python 3 (ipykernel)",
   "language": "python",
   "name": "python3"
  },
  "language_info": {
   "codemirror_mode": {
    "name": "ipython",
    "version": 3
   },
   "file_extension": ".py",
   "mimetype": "text/x-python",
   "name": "python",
   "nbconvert_exporter": "python",
   "pygments_lexer": "ipython3",
   "version": "3.8.13"
  }
 },
 "nbformat": 4,
 "nbformat_minor": 5
}
