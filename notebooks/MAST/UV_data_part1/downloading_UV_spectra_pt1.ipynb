{
 "cells": [
  {
   "cell_type": "markdown",
   "id": "929b4d77",
   "metadata": {},
   "source": [
    "<a id=\"top\"></a>\n",
    "# Downloading UV spectra – Part 1\n",
    "***"
   ]
  },
  {
   "cell_type": "markdown",
   "id": "b0814342",
   "metadata": {},
   "source": [
    "## Learning Goals"
   ]
  },
  {
   "cell_type": "markdown",
   "id": "710a34c2",
   "metadata": {},
   "source": [
    "By the end of this tutorial, you will be able to:\n",
    "\n",
    "- Access data from the MAST archives directly from Python\n",
    "- Perform data queries by Target Name and narrow them down to the desired spectrum\n",
    "- Save arrays onto _.txt_ files\n",
    "- Implement Python functions"
   ]
  },
  {
   "cell_type": "markdown",
   "id": "e290a367",
   "metadata": {},
   "source": [
    "## Introduction"
   ]
  },
  {
   "cell_type": "markdown",
   "id": "fbc2060f",
   "metadata": {},
   "source": [
    "**Extinction curve background**: An extinction curve represents the wavelength dependence of dust extinction. It compares the inherent Spectral Energy Distribution (SED) (~dust-free) of a star to the observed SED affected by dust extinction. Normally these curves are created by plotting $k(\\lambda-V)$ versus $1/\\lambda$, with $\\lambda$ being the wavelength.\n",
    "\n",
    "Extinction is relevant in many different scenarios. Dust can be found very near the observed object – such as stars having disks or proto-stellar clouds surrounding it – or can be far away from it but still affect the observation performed – for example dust in a galaxy that happens to be between the observer and the star.\n",
    "\n",
    "**International Ultraviolet Explorer (IUE)**: The IUE performed spectrophotometry in the wavelength range going from 1150 Å to 3200 Å. More than 100,000 spectra collected by the IUE between 1978 and 1996 can be accessed via the [MAST portal](https://archive.stsci.edu/iue/).\n",
    "\n",
    "**Magellanic Clouds**: irregular dwarf galaxies that orbit the Milky Way galaxy and are located in the southern celestial hemisphere. Two distinct groups can be differentiated: the Large Magellanic Cloud (LMC) and the Small Magellanic Cloud (SMC).\n",
    "\n",
    "**Defining some terms**:\n",
    "\n",
    "- **Color index**: difference between magnitude of a star in 2 different passbands, typically B and V. Symbol: $(B-V)$. \n",
    "- **Extinction**: absoption and scattering of light by dust and gas between an object and the observer. It is a measure of the interstellar reddening quantified by the difference between the magnitude of the band when observed through dust versus a dust-free environment. Symbol: $A(\\lambda)$.  \n",
    "\n",
    "- **Spectral type**: stellar classification from hotter (O stars) to cooler (M stars). Temperature defines a star's \"color\" and surface brightness.\n",
    "\n",
    "\n",
    "**Useful equations**\n",
    "- $k(\\lambda-V) = \\frac{m(\\lambda-V)-m(\\lambda-V)_o}{(B-V)-(B-V)_o} = \\frac{A(\\lambda)-A(V)}{A(B)-A(V)}$\n",
    "\n",
    "_**Note**: the $x_o$ terms refer to the star that is nearly unaffected by dust, i.e. $(B-V)$ corresponds to the observed color index and $(B-V)_o$ to the observed color index if there was no extinction due to dust. The stars should have the same spectral type in order to perform this comparison._\n",
    "    \n",
    "This tutorial is divided in two parts. In Part 1, you will learn how to navigate the IUE database through the MAST portal, download and save to your local computer the fluxes and their corresponding wavelengths of different stars, one reddened and one unreddened one. In Part 2, we will use these stars spectra to construct and plot UV extinction curves.  \n",
    "    \n",
    "## Table of Contents\n",
    "* [Imports](#Imports)\n",
    "* [Searching the MAST archive by target name and downloading spectra](#Searching-the-MAST-archive-by-target-name-and-downloading-spectra)\n",
    "* [Exploring the downloaded data files](#Exploring-the-downloaded-data-files)\n",
    "* [Data access and manipulation](#Data-access-and-manipulation)\n",
    "* [Saving values into your local computer](#Saving-values-into-your-local-computer)\n",
    "* [Exercises](#Exercises)\n",
    "* [Additional Resources](#Additional-Resources)"
   ]
  },
  {
   "cell_type": "markdown",
   "id": "5920e02e",
   "metadata": {},
   "source": [
    "## Imports "
   ]
  },
  {
   "cell_type": "markdown",
   "id": "36f71271",
   "metadata": {},
   "source": [
    "The first step will be to import the libraries we will be using throughout this tutorial: \n",
    "\n",
    "- `Observations` from _astroquery.mast_ to query the Barbara A. Mikulski Archive for Space Telescopes (MAST).\n",
    "- `fits` from _astropy.io_ for accessing FITS files\n",
    "- `numpy` for array manipulations"
   ]
  },
  {
   "cell_type": "code",
   "execution_count": null,
   "id": "5fa17d07",
   "metadata": {},
   "outputs": [],
   "source": [
    "from astroquery.mast import Observations\n",
    "from astropy.io import fits\n",
    "import numpy as np"
   ]
  },
  {
   "cell_type": "markdown",
   "id": "6afd250c",
   "metadata": {},
   "source": [
    "_**Warning**: If you have not installed the astroquery package in your computer, you may need to. Information about astroquery can be found <a href=\"https://astroquery.readthedocs.io/en/latest/\">here</a>._"
   ]
  },
  {
   "cell_type": "markdown",
   "id": "7a11267b",
   "metadata": {},
   "source": [
    "## Searching the MAST archive by target name and downloading spectra"
   ]
  },
  {
   "cell_type": "markdown",
   "id": "d3c60d39",
   "metadata": {},
   "source": [
    "The next step is to find the data file we will use. This is similar to searching through the <a href=\"https://mast.stsci.edu/portal/Mashup/Clients/Mast/Portal.html\">MAST portal</a> since we will be using specific keywords to find the file. We will be using the `Observations` from `astroquery.mast` to download UV data directly from the IUE archive.\n",
    "\n",
    "The target name of the first star we will be studying is AzV 214 (observation ID: swp22372), collected by International Ultraviolet Explorer (IUE). This star is known to be reddened by dust. We are directly taking this example from [Gordon et al. (2003)](https://ui.adsabs.harvard.edu/abs/2003ApJ...594..279G/abstract), but any pair of reddened and unreddened stars which have the same spectral type and luminosity class may be used. We will be using Gordon et al. (2003) because we want to explore the differences in extinction curves fro stars belonging to the LMC and the SMC, which will become clear by the end of Part 2. \n",
    "\n",
    "To get the data products we want we need the observation ID corresponding to it, in order to do this we can first query the collection of IUE using _Observations_ by using the target name as shown below."
   ]
  },
  {
   "cell_type": "code",
   "execution_count": null,
   "id": "fc1e4e13",
   "metadata": {
    "scrolled": true
   },
   "outputs": [],
   "source": [
    "IUEobs_av214 = Observations.query_criteria(objectname=\"AzV214\",obs_collection=\"IUE\")\n",
    "data_products_av214 = Observations.get_product_list(IUEobs_av214)\n",
    "\n",
    "data_products_av214"
   ]
  },
  {
   "cell_type": "markdown",
   "id": "83cbce39",
   "metadata": {},
   "source": [
    "As we can see from the obtained table, there are many different observations available for our target in the database. We specifically want to focus on sciences products, to know whether an observation is one we need to look at the _productType_ column, science products have the label 'SCIENCE'. Additionally, we will be using extracted spectra via the [Virtual Observatory (VO)](https://ivoa.net) using the [Simple Spectral Access Protocol (SSAP)](https://www.ivoa.net/documents/SSA/). The SSAP is the recommended way by VO to remotely access one dimensional spectra. In order to ensure this, the _description_ column should contain '(extracted spectra/vo spectral container/SSAP) fits file.'\n",
    "\n",
    "Two different observations, \"swp22372\" for the short wavelength domain and \"lwr17263\" for the long wave domain, have been chosen in order to provide a more complete understanding of the extinction behaviour over different wavelengths. For this tutorial we have chosen these specific observations, but the reader is welcome to use any other of the IDs displayed on the table above, as long as they fulfill the conditions desribed in the previous paragraph.  It should be taken into account that some of the data may need some prior calibration before using it. \n",
    "\n",
    "- Observation ID: \"swp22372\":"
   ]
  },
  {
   "cell_type": "code",
   "execution_count": null,
   "id": "759a0a65",
   "metadata": {},
   "outputs": [],
   "source": [
    "data_products_av214[(data_products_av214['obs_id'] == 'swp22372') & (data_products_av214['productType'] == 'SCIENCE') & (data_products_av214['description'] == '(extracted spectra/vo spectral container/SSAP) fits file')]"
   ]
  },
  {
   "cell_type": "markdown",
   "id": "2a38407e",
   "metadata": {},
   "source": [
    "Great! We have found the product that we want to download. By using this information we can download it by using its observation ID. Additionally, the _productFilename_ displayed in the table above will be useful to directly get the product we desire. We can use in `Observations.filter_products` under the parameter _extension_ as shown below:"
   ]
  },
  {
   "cell_type": "code",
   "execution_count": null,
   "id": "be80001c",
   "metadata": {
    "scrolled": true
   },
   "outputs": [],
   "source": [
    "IUEobs_av214_sw = Observations.query_criteria(obs_collection=\"IUE\", obs_id=\"swp22372\")\n",
    "data_products_av214_sw = Observations.get_product_list(IUEobs_av214_sw)\n",
    "yourProd_av214_sw = Observations.filter_products(data_products_av214_sw, extension='swp22372mxlo_vo.fits')\n",
    "\n",
    "yourProd_av214_sw"
   ]
  },
  {
   "cell_type": "markdown",
   "id": "1e95d6f9",
   "metadata": {},
   "source": [
    "Now that we have the data file, we can download it by using the `download_products` function:"
   ]
  },
  {
   "cell_type": "code",
   "execution_count": null,
   "id": "dc8b82ce",
   "metadata": {},
   "outputs": [],
   "source": [
    "Observations.download_products(yourProd_av214_sw) "
   ]
  },
  {
   "cell_type": "markdown",
   "id": "867393ad",
   "metadata": {},
   "source": [
    "If the download does not happen automatically, by visiting the URL displayed by the `download_products` method you will be able to download the file. \n",
    "\n",
    "As stated before, in order to have a more  complete understanding of the extinction curve across a broad range of wavelengths, let's download a different observation for the same object, but in a different wavelength range. We can use the following observation ID: lwr17263 (this still corresponds to AzV 214).\n",
    "\n",
    "- Observation ID: \"lwr17263\":"
   ]
  },
  {
   "cell_type": "code",
   "execution_count": null,
   "id": "5776ba9f",
   "metadata": {},
   "outputs": [],
   "source": [
    "data_products_av214[(data_products_av214['obs_id'] == 'lwr17263') & (data_products_av214['productType'] == 'SCIENCE') & (data_products_av214['description'] == '(extracted spectra/vo spectral container/SSAP) fits file')]"
   ]
  },
  {
   "cell_type": "code",
   "execution_count": null,
   "id": "aab04b05",
   "metadata": {},
   "outputs": [],
   "source": [
    "IUEobs_av214_lw = Observations.query_criteria(obs_collection=\"IUE\", obs_id=\"lwr17263\")\n",
    "data_products_av214_lw = Observations.get_product_list(IUEobs_av214_lw)\n",
    "yourProd_av214_lw = Observations.filter_products(data_products_av214_lw, extension='lwr17263mxlo_vo.fits')\n",
    "Observations.download_products(yourProd_av214_lw) "
   ]
  },
  {
   "cell_type": "markdown",
   "id": "a395c08c",
   "metadata": {},
   "source": [
    "Now let's do the same for the unreddened star. The target name of this star is AzV 380 (observation IDs chosen: swp10319, lwr17265) and was also collected by IUE."
   ]
  },
  {
   "cell_type": "code",
   "execution_count": null,
   "id": "752b3a7a",
   "metadata": {},
   "outputs": [],
   "source": [
    "IUEobs_av380 = Observations.query_criteria(objectname=\"AV380\",obs_collection=\"IUE\")\n",
    "data_products_av380 = Observations.get_product_list(IUEobs_av380)"
   ]
  },
  {
   "cell_type": "markdown",
   "id": "248a9cf4",
   "metadata": {},
   "source": [
    "- Observation ID: \"swp10319\":"
   ]
  },
  {
   "cell_type": "code",
   "execution_count": null,
   "id": "375c0f94",
   "metadata": {},
   "outputs": [],
   "source": [
    "data_products_av380[(data_products_av380['obs_id'] == 'swp10319') & (data_products_av380['productType'] == 'SCIENCE') & (data_products_av380['description'] == '(extracted spectra/vo spectral container/SSAP) fits file')]"
   ]
  },
  {
   "cell_type": "code",
   "execution_count": null,
   "id": "b507c046",
   "metadata": {
    "scrolled": true
   },
   "outputs": [],
   "source": [
    "IUEobs_av380_sw = Observations.query_criteria(obs_collection=\"IUE\", obs_id=\"swp10319\")\n",
    "data_products_av380_sw = Observations.get_product_list(IUEobs_av380_sw)\n",
    "yourProd_av380_sw = Observations.filter_products(data_products_av380_sw, extension='swp10319mxlo_vo.fits')\n",
    "Observations.download_products(yourProd_av380_sw) "
   ]
  },
  {
   "cell_type": "markdown",
   "id": "af90dbbe",
   "metadata": {},
   "source": [
    "- Observation ID: \"lwr17265\":"
   ]
  },
  {
   "cell_type": "code",
   "execution_count": null,
   "id": "57635028",
   "metadata": {},
   "outputs": [],
   "source": [
    "data_products_av380[(data_products_av380['obs_id'] == 'lwr17265') & (data_products_av380['productType'] == 'SCIENCE') & (data_products_av380['description'] == '(extracted spectra/vo spectral container/SSAP) fits file')]"
   ]
  },
  {
   "cell_type": "code",
   "execution_count": null,
   "id": "ff1bae2d",
   "metadata": {},
   "outputs": [],
   "source": [
    "IUEobs_av380_lw = Observations.query_criteria(obs_collection=\"IUE\", obs_id=\"lwr17265\")\n",
    "data_products_av380_lw = Observations.get_product_list(IUEobs_av380_lw)\n",
    "yourProd_av380_lw = Observations.filter_products(data_products_av380_lw, extension='lwr17265mxlo_vo.fits')\n",
    "Observations.download_products(yourProd_av380_lw) "
   ]
  },
  {
   "cell_type": "markdown",
   "id": "acf23366",
   "metadata": {},
   "source": [
    "Again, if the download does not happen automatically, by visiting the URLs provided by `download_products` you will be able to download the necessary data to continue this tutorial."
   ]
  },
  {
   "cell_type": "markdown",
   "id": "73889127",
   "metadata": {},
   "source": [
    "## Exploring the downloaded data files"
   ]
  },
  {
   "cell_type": "markdown",
   "id": "7705ab97",
   "metadata": {},
   "source": [
    "Now, let's explore the FITS file that we got for the reddened star. The paths to the files should correspond to wherever these files are located on your local computer, here the provided path is the one automatically generated by the `download_products` function. Feel free to change the filepath if you have stored the files in a different directory."
   ]
  },
  {
   "cell_type": "code",
   "execution_count": null,
   "id": "8082e4df",
   "metadata": {},
   "outputs": [],
   "source": [
    "filename_av214_sw = \"./mastDownload/IUE/swp22372/swp22372mxlo_vo.fits\"\n",
    "fits.info(filename_av214_sw)"
   ]
  },
  {
   "cell_type": "markdown",
   "id": "aab81955",
   "metadata": {},
   "source": [
    "- **No. 0 (PRIMARY)**: This HDU contains meta-data related to the entire file.\n",
    "- **No. 1 (Spectral Container)**: This HDU contains the spectral profile of the target as a function of wavelength.\n",
    "\n",
    "The header of the file contains additional information about the data. It can be accessed in the following way (only some part of the information contained in the header is printed in this section, which tells us information about what each column of the data contained in it represents. The user is encouraged to print the complete header if they are interested to see the whole information contained in it).  "
   ]
  },
  {
   "cell_type": "code",
   "execution_count": null,
   "id": "897a2252",
   "metadata": {
    "scrolled": true
   },
   "outputs": [],
   "source": [
    "with fits.open(filename_av214_sw) as hdulist: \n",
    "    header_av214_sw = hdulist[1].header\n",
    "\n",
    "print(repr(header_av214_sw[9:15]))"
   ]
  },
  {
   "cell_type": "markdown",
   "id": "75052360",
   "metadata": {},
   "source": [
    "From this we know that the first column corresponds to the wavelengths, and the second column to the fluxes. The header also has information regarding the unit system used:"
   ]
  },
  {
   "cell_type": "code",
   "execution_count": null,
   "id": "4a724d13",
   "metadata": {},
   "outputs": [],
   "source": [
    "print(repr(header_av214_sw[23:28]))"
   ]
  },
  {
   "cell_type": "markdown",
   "id": "e8ba6bed",
   "metadata": {},
   "source": [
    "## Data access and manipulation"
   ]
  },
  {
   "cell_type": "markdown",
   "id": "1195669c",
   "metadata": {},
   "source": [
    "The data contained in this fits file can be accessed using io.fits and the `data` attribute:"
   ]
  },
  {
   "cell_type": "code",
   "execution_count": null,
   "id": "781f9315",
   "metadata": {
    "scrolled": true
   },
   "outputs": [],
   "source": [
    "with fits.open(filename_av214_sw) as hdulist:\n",
    "    spectrum_av214_sw = hdulist[1].data\n",
    "\n",
    "wav_av214_sw = spectrum_av214_sw[0][0] # angstrom, A\n",
    "flux_av214_sw = spectrum_av214_sw[0][1] # ergs/cm2/sec/A\n",
    "\n",
    "filename_av214_lw = \"./mastDownload/IUE/lwr17263/lwr17263mxlo_vo.fits\"\n",
    "with fits.open(filename_av214_lw) as hdulist:\n",
    "    spectrum_av214_lw = hdulist[1].data\n",
    "\n",
    "wav_av214_lw = spectrum_av214_lw[0][0] # A\n",
    "flux_av214_lw = spectrum_av214_lw[0][1] # ergs/cm2/sec/A"
   ]
  },
  {
   "cell_type": "markdown",
   "id": "7a84bc06",
   "metadata": {},
   "source": [
    "_**Heads-up**: some values of the flux may be contaminated or altered, and when applying the logarithm may result in NaN (Not a Number)_\n",
    "\n",
    "In order to not have to deal with error messages throughout the notebook, we will use the `changeNaN` function displayed below to locate and change these problematic values. The change NaN function below examines a pair of wavelength and flux pairs. Since we will need to combine the reddened and un-reddened stars later on, they need to have the same length, we'll use it on both stars simultaneously. It will delete the rows of all columns (fluxes and wavelengths) if either star's flux value is negative in that row.\n",
    "\n",
    "An example of the problematic values can be seen in _flux_av214_lw_:"
   ]
  },
  {
   "cell_type": "code",
   "execution_count": null,
   "id": "96394b73",
   "metadata": {},
   "outputs": [],
   "source": [
    "print(\"flux_av214_lw:\", flux_av214_lw[-5:-3])\n",
    "print(\"log(flux_av214_lw):\", np.log10(flux_av214_lw[-5:-3]))"
   ]
  },
  {
   "cell_type": "code",
   "execution_count": null,
   "id": "c25da271",
   "metadata": {},
   "outputs": [],
   "source": [
    "def changeNaN(wavv,fluxx,wavv1,fluxx1):\n",
    "    \n",
    "    \"\"\"\n",
    "    Removes negative flux values to avoid encountering NaN when converting to flux scale\n",
    "    \n",
    "    Inputs:\n",
    "    :param wavv,wavv1: input wavelength arrays\n",
    "    :type wavv,wavv1: float array\n",
    "    :param fluxx,fluxx1: input wavelength arrays\n",
    "    :type fluxx,fluxx1: float array\n",
    "    \n",
    "    Outputs: \n",
    "    :return: wavv,fluxx,wavv1,fluxx1 without the corresponding problematic values\n",
    "    :rtype: float array\n",
    "    \"\"\"\n",
    "    \n",
    "    prob = np.where(fluxx < 0)[0]\n",
    "    wavv = np.delete(wavv,prob)\n",
    "    fluxx = np.delete(fluxx,prob)\n",
    "    wavv1 = np.delete(wavv1,prob)\n",
    "    fluxx1 = np.delete(fluxx1,prob)\n",
    "    \n",
    "    prob2 = np.where(fluxx1 < 0)[0]\n",
    "    wavv = np.delete(wavv,prob2)\n",
    "    fluxx = np.delete(fluxx,prob2)\n",
    "    wavv1 = np.delete(wavv1,prob2)\n",
    "    fluxx1 = np.delete(fluxx1,prob2)\n",
    "    \n",
    "    return wavv, fluxx, wavv1, fluxx1"
   ]
  },
  {
   "cell_type": "markdown",
   "id": "ad207b98",
   "metadata": {},
   "source": [
    "Let's do the same for the other files, use the `changeNaN` function to remove the problematic values."
   ]
  },
  {
   "cell_type": "code",
   "execution_count": null,
   "id": "55d2e044",
   "metadata": {},
   "outputs": [],
   "source": [
    "filename_av380_sw = \"./mastDownload/IUE/swp10319/swp10319mxlo_vo.fits\"\n",
    "with fits.open(filename_av380_sw) as hdulist:\n",
    "    spectrum_av380_sw = hdulist[1].data\n",
    "\n",
    "wav_av380_sw = spectrum_av380_sw[0][0] # A\n",
    "flux_av380_sw = spectrum_av380_sw[0][1] # ergs/cm2/sec/A\n",
    "\n",
    "filename_av380_lw = \"./mastDownload/IUE/lwr17265/lwr17265mxlo_vo.fits\"\n",
    "with fits.open(filename_av380_lw) as hdulist:\n",
    "    spectrum_av380_lw = hdulist[1].data\n",
    "\n",
    "wav_av380_lw = spectrum_av380_lw[0][0] # A\n",
    "flux_av380_lw = spectrum_av380_lw[0][1] # ergs/cm2/sec/A\n",
    "\n",
    "# Remove problematic values\n",
    "wav_av214_sw, flux_av214_sw, wav_av380_sw, flux_av380_sw = changeNaN(wav_av214_sw, flux_av214_sw, wav_av380_sw, flux_av380_sw)\n",
    "wav_av214_lw, flux_av214_lw, wav_av380_lw, flux_av380_lw = changeNaN(wav_av214_lw, flux_av214_lw, wav_av380_lw, flux_av380_lw)"
   ]
  },
  {
   "cell_type": "markdown",
   "id": "0694474d",
   "metadata": {},
   "source": [
    "In Part 2 of this tutorial we will explore how to visualize the spectra that we have just obtained."
   ]
  },
  {
   "cell_type": "markdown",
   "id": "a735829f",
   "metadata": {},
   "source": [
    "## Saving values into your local computer\n",
    "\n",
    "Now that we have removed the problematic values from our observations, let's explore how we can save them to our computers. To do this, we can use the function `saveArray` presented below:"
   ]
  },
  {
   "cell_type": "code",
   "execution_count": null,
   "id": "8ea01f76",
   "metadata": {},
   "outputs": [],
   "source": [
    "def saveArray(array,filename):\n",
    "    \n",
    "    \"\"\"\n",
    "    Saves arrays into .txt files in current directory and checks that the files have been written properly\n",
    "    \n",
    "    Inputs:\n",
    "    :param array: array to be saved to local directory\n",
    "    :type array: float array\n",
    "    :param filename: name of file to be saved\n",
    "    :type filename: string\n",
    "    \n",
    "    Outputs: \n",
    "    :return: none\n",
    "    :rtype: none\n",
    "    \"\"\"\n",
    "    \n",
    "    # First display the start and ending of the array to check later\n",
    "    print('First 3 elements of original array:\\n', array[:3])\n",
    "    print('Last 3 elements of original array:\\n', array[-3:])\n",
    "\n",
    "    # Save the array in a text file\n",
    "    np.savetxt(filename,array)\n",
    "    \n",
    "    # Display the saved content to check it was correctly written to the .txt file\n",
    "    content = np.loadtxt(filename)\n",
    "    print('First 3 elements of '+filename+':\\n', content[:3])\n",
    "    print('Last 3 elements of '+filename+':\\n', content[-3:],'\\n')\n",
    "    \n",
    "    return None"
   ]
  },
  {
   "cell_type": "code",
   "execution_count": null,
   "id": "2709e1a0",
   "metadata": {},
   "outputs": [],
   "source": [
    "arrays = [wav_av214_sw, flux_av214_sw, wav_av380_sw, flux_av380_sw, wav_av214_lw, flux_av214_lw, wav_av380_lw, flux_av380_lw]\n",
    "filenames = ['wav_av214_sw.txt', 'flux_av214_sw.txt', 'wav_av380_sw.txt', 'flux_av380_sw.txt', 'wav_av214_lw.txt', 'flux_av214_lw.txt', 'wav_av380_lw.txt', 'flux_av380_lw.txt']\n",
    "\n",
    "for i in range(len(arrays)):\n",
    "    saveArray(arrays[i],filenames[i])"
   ]
  },
  {
   "cell_type": "markdown",
   "id": "33e3ecb0",
   "metadata": {},
   "source": [
    "## Exercises"
   ]
  },
  {
   "cell_type": "markdown",
   "id": "e4d71df9",
   "metadata": {},
   "source": [
    "Now you can try to do it yourself! Try to obtain the spectra necessary to create an extinction curve of a star belonging to the Large Magellanic Cloud (LMC) following the steps presented for the SMC one.\n",
    "\n",
    "### 1. Load the data\n",
    "\n",
    "The targets for this exercise will be:\n",
    "\n",
    "- Sk -69 206 (Observation IDs: swp36552, lwp15751) (reddened star)\n",
    "- Sk -67 5 (Observation IDs: swp04827, lwr04170) (unreddened star)\n",
    "\n",
    "First, do the database search for the reddened star:"
   ]
  },
  {
   "cell_type": "code",
   "execution_count": null,
   "id": "0df02bac",
   "metadata": {},
   "outputs": [],
   "source": [
    "# You can copy, paste and modify the code corresponding to this part that we used for the SMC cloud here\n",
    "# You can also use any function that was defined before\n"
   ]
  },
  {
   "cell_type": "markdown",
   "id": "e4894cb1",
   "metadata": {},
   "source": [
    "Narrow down the possibilities to the desired observation, observation ID: \"swp36552\":"
   ]
  },
  {
   "cell_type": "code",
   "execution_count": null,
   "id": "63902b4f",
   "metadata": {},
   "outputs": [],
   "source": [
    "# You can copy, paste and modify the code corresponding to this part that we used for the SMC cloud here\n",
    "# You can also use any function that was defined before\n"
   ]
  },
  {
   "cell_type": "markdown",
   "id": "7aedb721",
   "metadata": {},
   "source": [
    "Now, download the data as before:"
   ]
  },
  {
   "cell_type": "code",
   "execution_count": null,
   "id": "85cf856d",
   "metadata": {},
   "outputs": [],
   "source": [
    "# You can copy, paste and modify the code corresponding to this part that we used for the SMC cloud here\n",
    "# You can also use any function that was defined before\n"
   ]
  },
  {
   "cell_type": "markdown",
   "id": "1a9e18ee",
   "metadata": {},
   "source": [
    "And again, in order to cover a wider wavelength range, let's also download the other part of the spectra using the second observation ID provided, observation ID: \"lwp15751\":"
   ]
  },
  {
   "cell_type": "code",
   "execution_count": null,
   "id": "80ed0693",
   "metadata": {},
   "outputs": [],
   "source": [
    "# You can copy, paste and modify the code corresponding to this part that we used for the SMC cloud here\n",
    "# You can also use any function that was defined before\n"
   ]
  },
  {
   "cell_type": "markdown",
   "id": "fd0fbf61",
   "metadata": {},
   "source": [
    "Now, let's do the same for the unreddened star:"
   ]
  },
  {
   "cell_type": "code",
   "execution_count": null,
   "id": "506772da",
   "metadata": {},
   "outputs": [],
   "source": [
    "# You can copy, paste and modify the code corresponding to this part that we used for the SMC cloud here\n",
    "# You can also use any function that was defined before\n"
   ]
  },
  {
   "cell_type": "markdown",
   "id": "c4bff8af",
   "metadata": {},
   "source": [
    "- Observation ID: \"swp04827\":"
   ]
  },
  {
   "cell_type": "code",
   "execution_count": null,
   "id": "e94e32df",
   "metadata": {},
   "outputs": [],
   "source": [
    "# You can copy, paste and modify the code corresponding to this part that we used for the SMC cloud here\n",
    "# You can also use any function that was defined before\n"
   ]
  },
  {
   "cell_type": "code",
   "execution_count": null,
   "id": "2fe4d8ea",
   "metadata": {
    "scrolled": true
   },
   "outputs": [],
   "source": [
    "# You can copy, paste and modify the code corresponding to this part that we used for the SMC cloud here\n",
    "# You can also use any function that was defined before\n"
   ]
  },
  {
   "cell_type": "markdown",
   "id": "7b0c8065",
   "metadata": {},
   "source": [
    "- Observation ID: \"lwr04170\""
   ]
  },
  {
   "cell_type": "code",
   "execution_count": null,
   "id": "311c43c9",
   "metadata": {},
   "outputs": [],
   "source": [
    "# You can copy, paste and modify the code corresponding to this part that we used for the SMC cloud here\n",
    "# You can also use any function that was defined before\n"
   ]
  },
  {
   "cell_type": "code",
   "execution_count": null,
   "id": "b786b210",
   "metadata": {},
   "outputs": [],
   "source": [
    "# You can copy, paste and modify the code corresponding to this part that we used for the SMC cloud here\n",
    "# You can also use any function that was defined before\n"
   ]
  },
  {
   "cell_type": "markdown",
   "id": "aff61e44",
   "metadata": {},
   "source": [
    "### 2. Open the fits file and explore it"
   ]
  },
  {
   "cell_type": "code",
   "execution_count": null,
   "id": "c4f8f628",
   "metadata": {},
   "outputs": [],
   "source": [
    "# You can copy, paste and modify the code corresponding to this part that we used for the SMC cloud here\n",
    "# You can also use any function that was defined before\n"
   ]
  },
  {
   "cell_type": "markdown",
   "id": "4f1a1043",
   "metadata": {},
   "source": [
    "### 3. Save the data to your local computer"
   ]
  },
  {
   "cell_type": "code",
   "execution_count": null,
   "id": "3406fc64",
   "metadata": {},
   "outputs": [],
   "source": [
    "# You can copy, paste and modify the code corresponding to this part that we used for the SMC cloud here\n",
    "# You can also use any function that was defined before\n"
   ]
  },
  {
   "cell_type": "markdown",
   "id": "2e48757b",
   "metadata": {},
   "source": [
    "## Additional Resources"
   ]
  },
  {
   "cell_type": "markdown",
   "id": "5516ade8",
   "metadata": {},
   "source": [
    "For more information about the MAST archive and details about mission data: \n",
    "\n",
    "* <a href=\"https://mast.stsci.edu/api/v0/index.html\">MAST API</a> <br>\n",
    "* <a href=\"https://archive.stsci.edu/iue/\">International Ultraviolet Explorer Page (MAST)</a> <br>\n",
    "* <a href=\"https://archive.stsci.edu/iue/mdr_help.html\">IUE Data Retrieval Help Page</a> \n",
    "\n",
    "For more information about extinction curves and their parametrization:\n",
    "\n",
    "\n",
    "* <a href=\"https://ui.adsabs.harvard.edu/abs/2003ApJ...594..279G/abstract\">A quantitative comparison of SMC, LMC and Milky Way UV to NIR extinction curves</a> <br>\n",
    "* <a href=\"https://adsabs.harvard.edu/pdf/1990ApJS...72..163F\">An analysis of the shapes of the ultraviolet extinction curves. III. An atlas of ultraviolet extinction curves</a> "
   ]
  },
  {
   "cell_type": "markdown",
   "id": "db295f01",
   "metadata": {},
   "source": [
    "## About this Notebook\n",
    "\n",
    "**Author**: Clara Puerto Sánchez <br>\n",
    "**Keyword(s)**: Tutorial, UV, reddening, extinction-curve <br>\n",
    "**Last Updated**: Sep 2022 <br>\n",
    "**Next review**: Apr 2023\n",
    "\n",
    "For support, please contact the Archive HelpDesk at archive@stsci.edu.\n",
    "***\n",
    "[Top of Page](#top)\n",
    "<img style=\"float: right;\" src=\"https://raw.githubusercontent.com/spacetelescope/notebooks/master/assets/stsci_pri_combo_mark_horizonal_white_bkgd.png\" alt=\"Space Telescope Logo\" width=\"200px\"/>"
   ]
  }
 ],
 "metadata": {
  "kernelspec": {
   "display_name": "Python 3 (ipykernel)",
   "language": "python",
   "name": "python3"
  },
  "language_info": {
   "codemirror_mode": {
    "name": "ipython",
    "version": 3
   },
   "file_extension": ".py",
   "mimetype": "text/x-python",
   "name": "python",
   "nbconvert_exporter": "python",
   "pygments_lexer": "ipython3",
   "version": "3.8.13"
  }
 },
 "nbformat": 4,
 "nbformat_minor": 5
}
