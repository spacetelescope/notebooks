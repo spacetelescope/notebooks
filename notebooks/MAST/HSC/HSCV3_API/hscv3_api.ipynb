{
 "cells": [
  {
   "cell_type": "markdown",
   "metadata": {
    "tags": []
   },
   "source": [
    "# Hubble Source Catalog API Notebook\n",
    "### 2019 - 2022, Rick White, Trenton McKinney\n",
    "\n",
    "A [new MAST interface][1] supports queries to the current and previous versions of the [Hubble Source Catalog][2]. It allows searches of the summary table (with multi-filter mean photometry) and the detailed table (with all the multi-epoch measurements).  It also has an associated [API][3], which is used in this notebook.\n",
    "\n",
    "This is based on [HSC Use Case #3][4].\n",
    "* It searches the HSC for variable objects in the vicinity of dwarf galaxy IC 1613,\n",
    "* shows the positions of those objects in a color-magnitude diagram,\n",
    "* extracts light curves for an example object, and\n",
    "* displays cutout images from the Hubble observations that were used for the light curve measurements.\n",
    "\n",
    "The whole process takes only 30 seconds to complete.\n",
    "\n",
    "Another [notebook][5] generates a color-magnitude diagram for the Small Magellanic Cloud in only a couple of minutes.  A more complex notebook that shows how to access the proper motion tables using the HSC API is also [available][6].\n",
    "\n",
    "\n",
    "  [1]: https://catalogs.mast.stsci.edu/hsc\n",
    "  [2]: https://archive.stsci.edu/hst/hsc\n",
    "  [3]: https://catalogs.mast.stsci.edu/docs/hsc.html\n",
    "  [4]: https://archive.stsci.edu/hst/hsc/help/use_case_3_v2.html\n",
    "  [5]: ../HSCV3_SMC_API/hscv3_smc_api.ipynb\n",
    "  [6]: ../SWEEPS_HSCV3P1_API/sweeps_hscv3p1_api.ipynb"
   ]
  },
  {
   "cell_type": "markdown",
   "metadata": {},
   "source": [
    "# Instructions: \n",
    "* Complete the initialization steps [described below](#Initialization).\n",
    "* Run the notebook.\n",
    "\n",
    "Running the notebook from top to bottom takes about 30 seconds.\n",
    "\n",
    "\n",
    "# Table of Contents\n",
    "* [Initialization](#Initialization)\n",
    "* [Get metadata on available HSC columns](#metadata)\n",
    "* [Find variable objects in IC 1613](#ic1613)\n",
    "    * [Use MAST name resolver](#resolver)\n",
    "    * [Search HSC summary table](#summary)\n",
    "    * [Plot variability index versus magnitude](#variability)\n",
    "    * [Show variable objects in a color-magnitude diagram](#cmd)\n",
    "* [Get HSC light curve for a variable](#lightcurve)\n",
    "* [Extract HLA cutout images for the variable](#cutouts)"
   ]
  },
  {
   "cell_type": "markdown",
   "metadata": {},
   "source": [
    "# Initialization <a class=\"anchor\" id=\"Initialization\"></a>"
   ]
  },
  {
   "cell_type": "markdown",
   "metadata": {},
   "source": [
    "### Install Python modules\n",
    "\n",
    "1. _This notebook requires the use of **Python 3**._\n",
    "1. Modules can be installed with `conda`, if using the [Anaconda distribution][1] of python, or with `pip`.\n",
    "   - If you are using `conda`, do not install / update / remove a module with `pip`, that exists in a `conda` [channel][2].\n",
    "   - If a module is not available with `conda`, then it's okay to install it with `pip`\n",
    "\n",
    "\n",
    "  [1]: https://www.anaconda.com/products/distribution\n",
    "  [2]: https://docs.conda.io/projects/conda/en/latest/user-guide/concepts/channels.html"
   ]
  },
  {
   "cell_type": "code",
   "execution_count": null,
   "metadata": {},
   "outputs": [],
   "source": [
    "import astropy\n",
    "from astropy.coordinates import SkyCoord\n",
    "import time\n",
    "import sys\n",
    "import os\n",
    "import requests\n",
    "import json\n",
    "import numpy as np\n",
    "import matplotlib.pyplot as plt\n",
    "\n",
    "from pprint import pprint\n",
    "\n",
    "from astropy.table import Table\n",
    "import pandas as pd\n",
    "\n",
    "from PIL import Image\n",
    "from io import BytesIO, StringIO\n",
    "\n",
    "# set width for pprint\n",
    "astropy.conf.max_width = 150"
   ]
  },
  {
   "cell_type": "code",
   "execution_count": null,
   "metadata": {},
   "outputs": [],
   "source": [
    "# set universal matplotlib parameters\n",
    "plt.rcParams.update({'font.size': 16})"
   ]
  },
  {
   "cell_type": "markdown",
   "metadata": {},
   "source": [
    "### MAST API functions\n",
    "\n",
    "- Execute HSC searches and resolve names using [MAST query][1].\n",
    "- Here we define several interrelated functions for retrieving information from the MAST API.\n",
    "  - The `hcvcone(ra, dec, radius [, keywords])` function searches the HCV catalog near a position.\n",
    "  - The `hcvsearch()` function performs general non-positional queries.\n",
    "  - The `hcvmetadata()` function gives information about the columns available in a table. \n",
    "  \n",
    "  \n",
    "  [1]: https://mast.stsci.edu/api/v0/MastApiTutorial.html"
   ]
  },
  {
   "cell_type": "code",
   "execution_count": null,
   "metadata": {},
   "outputs": [],
   "source": [
    "hscapiurl = \"https://catalogs.mast.stsci.edu/api/v0.1/hsc\"\n",
    "\n",
    "\n",
    "def hsccone(ra, dec, radius, table=\"summary\", release=\"v3\", format=\"csv\", magtype=\"magaper2\",\n",
    "            columns=None, baseurl=hscapiurl, verbose=False, **kw):\n",
    "    \"\"\"Do a cone search of the HSC catalog\n",
    "\n",
    "    Parameters\n",
    "    ----------\n",
    "    ra (float): (degrees) J2000 Right Ascension\n",
    "    dec (float): (degrees) J2000 Declination\n",
    "    radius (float): (degrees) Search radius (<= 0.5 degrees)\n",
    "    table (string): summary, detailed, propermotions, or sourcepositions\n",
    "    release (string): v3 or v2\n",
    "    magtype (string): magaper2 or magauto (only applies to summary table)\n",
    "    format: csv, votable, json, table\n",
    "    columns: list of column names to include (None means use defaults)\n",
    "    baseurl: base URL for the request\n",
    "    verbose: print info about request\n",
    "    **kw: other parameters (e.g., 'numimages.gte':2)\n",
    "    \"\"\"\n",
    "\n",
    "    data = kw.copy()\n",
    "    data['ra'] = ra\n",
    "    data['dec'] = dec\n",
    "    data['radius'] = radius\n",
    "    return hscsearch(table=table, release=release, format=format, magtype=magtype,\n",
    "                     columns=columns, baseurl=baseurl, verbose=verbose, **data)\n",
    "\n",
    "\n",
    "def hscsearch(table=\"summary\", release=\"v3\", magtype=\"magaper2\", format=\"csv\",\n",
    "              columns=None, baseurl=hscapiurl, verbose=False, **kw):\n",
    "    \"\"\"Do a general search of the HSC catalog (possibly without ra/dec/radius)\n",
    "\n",
    "    Parameters\n",
    "    ----------\n",
    "    table (string): summary, detailed, propermotions, or sourcepositions\n",
    "    release (string): v3 or v2\n",
    "    magtype (string): magaper2 or magauto (only applies to summary table)\n",
    "    format: csv, votable, json, table\n",
    "    columns: list of column names to include (None means use defaults)\n",
    "    baseurl: base URL for the request\n",
    "    verbose: print info about request\n",
    "    **kw: other parameters (e.g., 'numimages.gte':2).  Note this is required!\n",
    "    \"\"\"\n",
    "\n",
    "    data = kw.copy()\n",
    "    if not data:\n",
    "        raise ValueError(\"You must specify some parameters for search\")\n",
    "    if format not in (\"csv\", \"votable\", \"json\", 'table'):\n",
    "        raise ValueError(\"Bad value for format\")\n",
    "    if format == \"table\":\n",
    "        rformat = \"csv\"\n",
    "    else:\n",
    "        rformat = format\n",
    "    url = f\"{cat2url(table, release, magtype, baseurl=baseurl)}.{rformat}\"\n",
    "    if columns:\n",
    "        # check that column values are legal\n",
    "        # create a dictionary to speed this up\n",
    "        dcols = {}\n",
    "        for col in hscmetadata(table, release, magtype)['name']:\n",
    "            dcols[col.lower()] = 1\n",
    "        badcols = []\n",
    "        for col in columns:\n",
    "            if col.lower().strip() not in dcols:\n",
    "                badcols.append(col)\n",
    "        if badcols:\n",
    "            raise ValueError(f\"Some columns not found in table: {', '.join(badcols)}\")\n",
    "        # two different ways to specify a list of column values in the API\n",
    "        # data['columns'] = columns\n",
    "        data['columns'] = f\"[{','.join(columns)}]\"\n",
    "\n",
    "    # either get or post works\n",
    "    # r = requests.post(url, data=data)\n",
    "    r = requests.get(url, params=data)\n",
    "\n",
    "    if verbose:\n",
    "        print(r.url)\n",
    "    r.raise_for_status()\n",
    "    if format == \"json\":\n",
    "        return r.json()\n",
    "    elif format == \"table\":\n",
    "        # use pandas to work around bug in Windows for ascii.read\n",
    "        return Table.from_pandas(pd.read_csv(StringIO(r.text)))\n",
    "    else:\n",
    "        return r.text\n",
    "\n",
    "\n",
    "def hscmetadata(table=\"summary\", release=\"v3\", magtype=\"magaper2\", baseurl=hscapiurl):\n",
    "    \"\"\"Return metadata for the specified catalog and table\n",
    "    \n",
    "    Parameters\n",
    "    ----------\n",
    "    table (string): summary, detailed, propermotions, or sourcepositions\n",
    "    release (string): v3 or v2\n",
    "    magtype (string): magaper2 or magauto (only applies to summary table)\n",
    "    baseurl: base URL for the request\n",
    "    \n",
    "    Returns an astropy table with columns name, type, description\n",
    "    \"\"\"\n",
    "    url = f\"{cat2url(table, release, magtype, baseurl=baseurl)}/metadata\"\n",
    "    r = requests.get(url)\n",
    "    r.raise_for_status()\n",
    "    v = r.json()\n",
    "    # convert to astropy table\n",
    "    tab = Table(rows=[(x['name'], x['type'], x['description']) for x in v],\n",
    "                names=('name', 'type', 'description'))\n",
    "    return tab\n",
    "\n",
    "\n",
    "def cat2url(table=\"summary\", release=\"v3\", magtype=\"magaper2\", baseurl=hscapiurl):\n",
    "    \"\"\"Return URL for the specified catalog and table\n",
    "    \n",
    "    Parameters\n",
    "    ----------\n",
    "    table (string): summary, detailed, propermotions, or sourcepositions\n",
    "    release (string): v3 or v2\n",
    "    magtype (string): magaper2 or magauto (only applies to summary table)\n",
    "    baseurl: base URL for the request\n",
    "    \n",
    "    Returns a string with the base URL for this request\n",
    "    \"\"\"\n",
    "    checklegal(table, release, magtype)\n",
    "    if table == \"summary\":\n",
    "        url = f\"{baseurl}/{release}/{table}/{magtype}\"\n",
    "    else:\n",
    "        url = f\"{baseurl}/{release}/{table}\"\n",
    "    return url\n",
    "\n",
    "\n",
    "def checklegal(table, release, magtype):\n",
    "    \"\"\"Checks if this combination of table, release and magtype is acceptable\n",
    "    \n",
    "    Raises a ValueError exception if there is problem\n",
    "    \"\"\"\n",
    "    \n",
    "    releaselist = (\"v2\", \"v3\")\n",
    "    if release not in releaselist:\n",
    "        raise ValueError(f\"Bad value for release (must be one of {', '.join(releaselist)})\")\n",
    "    if release == \"v2\":\n",
    "        tablelist = (\"summary\", \"detailed\")\n",
    "    else:\n",
    "        tablelist = (\"summary\", \"detailed\", \"propermotions\", \"sourcepositions\")\n",
    "    if table not in tablelist:\n",
    "        raise ValueError(f\"Bad value for table (for {release} must be one of {', '.join(tablelist)})\")\n",
    "    if table == \"summary\":\n",
    "        magtypelist = (\"magaper2\", \"magauto\")\n",
    "        if magtype not in magtypelist:\n",
    "            raise ValueError(f\"Bad value for magtype (must be one of {', '.join(magtypelist)})\")"
   ]
  },
  {
   "cell_type": "markdown",
   "metadata": {},
   "source": [
    "## Get metadata on available columns <a name=\"metadata\"></a>\n",
    "\n",
    "The `metadata` query returns information on the columns in the table.  It works for any of the tables in the API (`summary`, `detailed`, `propermotions`, `sourcepositions`).\n",
    "\n",
    "Note that the summary table has a huge number of columns!  Each of the 133 filter/detector combinations has 3 columns with the magnitude, median absolute deviation (MAD, a robust measure of the scatter among the measurements), and the number of independent measurements in the filter.  The filter name includes a prefix for the detector (`A`=ACS/WFC, `W3`=WFC3/UVIS or WFC3/IR, `W2`=WFPC2) followed by the standard name of the filter.  So for instance all three instruments have an F814W filter, so there are columns for `A_F814W`, `W3_F814W`, and `W2_F814W`."
   ]
  },
  {
   "cell_type": "code",
   "execution_count": null,
   "metadata": {},
   "outputs": [],
   "source": [
    "meta = hscmetadata(\"summary\")\n",
    "print(len(meta), \"columns in summary\")\n",
    "filterlist = meta['name'][19::3].tolist()\n",
    "print(len(filterlist), \"filters\")\n",
    "pprint(filterlist, compact=True)\n",
    "meta[:19]"
   ]
  },
  {
   "cell_type": "markdown",
   "metadata": {},
   "source": [
    "## Find variable objects in the dwarf irregular galaxy IC 1613 <a name=\"ic1613\"></a>\n",
    "\n",
    "This is based on [HSC Use Case #3](https://archive.stsci.edu/hst/hsc/help/use_case_3_v2.html), which shows an example of selecting objects from the HSC in portal.  This is simple to do using the HSC API."
   ]
  },
  {
   "cell_type": "markdown",
   "metadata": {},
   "source": [
    "### Use `astropy` name resolver to get position of IC 1613 <a name=\"resolver\"></a>"
   ]
  },
  {
   "cell_type": "code",
   "execution_count": null,
   "metadata": {},
   "outputs": [],
   "source": [
    "target = 'IC 1613'\n",
    "coord_ic1613 = SkyCoord.from_name(target)\n",
    "\n",
    "ra_ic1613 = coord_ic1613.ra.degree\n",
    "dec_ic1613 = coord_ic1613.dec.degree\n",
    "print(f'ra: {ra_ic1613}\\ndec: {dec_ic1613}')"
   ]
  },
  {
   "cell_type": "markdown",
   "metadata": {},
   "source": [
    "### Select objects with enough measurements to determine variability <a name=\"summary\"></a>\n",
    "\n",
    "This searches the summary table for objects within 0.5 degrees of the galaxy center that have at least 10 measurements in both ACS F475W and F814W."
   ]
  },
  {
   "cell_type": "code",
   "execution_count": null,
   "metadata": {},
   "outputs": [],
   "source": [
    "# save typing a quoted list of columns\n",
    "columns = \"\"\"MatchID,MatchRA,MatchDec,NumFilters,NumVisits,NumImages,StartMJD,StopMJD,\n",
    "    A_F475W, A_F475W_N, A_F475W_MAD,\n",
    "    A_F814W, A_F814W_N, A_F814W_MAD\"\"\".split(\",\")\n",
    "columns = [x.strip() for x in columns]\n",
    "columns = [x for x in columns if x and not x.startswith('#')]\n",
    "\n",
    "constraints = {'A_F475W_N.gte': 10, 'A_F814W_N.gte': 10}\n",
    "\n",
    "t0 = time.time()\n",
    "tab = hsccone(ra_ic1613, dec_ic1613, 0.5, table=\"summary\", release='v3', columns=columns, verbose=True, format=\"table\", **constraints)\n",
    "print(f\"{(time.time()-t0):.1f} s: retrieved data and converted to {len(tab)}-row astropy table\")\n",
    "\n",
    "# clean up the output format\n",
    "tab['A_F475W'].format = \"{:.3f}\"\n",
    "tab['A_F475W_MAD'].format = \"{:.3f}\"\n",
    "tab['A_F814W'].format = \"{:.3f}\"\n",
    "tab['A_F814W_MAD'].format = \"{:.3f}\"\n",
    "tab['MatchRA'].format = \"{:.6f}\"\n",
    "tab['MatchDec'].format = \"{:.6f}\"\n",
    "tab['StartMJD'].format = \"{:.5f}\"\n",
    "tab['StopMJD'].format = \"{:.5f}\"\n",
    "tab"
   ]
  },
  {
   "cell_type": "markdown",
   "metadata": {},
   "source": [
    "### Plot object positions on the sky\n",
    "\n",
    "We mark the galaxy center as well.  Note that this field is in the outskirts of IC 1613.  The 0.5 search radius (which is the maximum allowed in the API) allows finding these objects."
   ]
  },
  {
   "cell_type": "code",
   "execution_count": null,
   "metadata": {},
   "outputs": [],
   "source": [
    "fig, ax = plt.subplots(figsize=(10, 10))\n",
    "ax.plot('MatchRA', 'MatchDec', 'bo', markersize=1, data=tab, label=f'{len(tab)} HSC measurements')\n",
    "ax.plot(ra_ic1613, dec_ic1613, 'rx', label=target, markersize=10)\n",
    "ax.set(xlabel='RA [deg]', ylabel='Dec [deg]', aspect='equal')\n",
    "ax.invert_xaxis()\n",
    "_ = ax.legend(loc='best')"
   ]
  },
  {
   "cell_type": "markdown",
   "metadata": {},
   "source": [
    "### Plot MAD variability index versus magnitude in F475W <a name=\"variability\"></a>\n",
    "\n",
    "The median absolute deviation is measured among the ~12 magnitude measurements in the catalog.  Some scatter is expected from noise (which increases for fainter objects).   Objects with MAD values that are high are likely to be variable.\n",
    "\n",
    "Select variable objects that are not too faint."
   ]
  },
  {
   "cell_type": "code",
   "execution_count": null,
   "metadata": {},
   "outputs": [],
   "source": [
    "wvar = np.where((tab['A_F475W_MAD'] > 0.1) & (tab['A_F475W'] < 24) & (tab['A_F475W'] > 21))[0]\n",
    "\n",
    "fig, ax = plt.subplots(figsize=(10, 10))\n",
    "ax.plot('A_F475W', 'A_F475W_MAD', 'bo', markersize=2, alpha=0.1, data=tab,\n",
    "        label=f'{len(tab)} HSC measurements near {target}')\n",
    "ax.plot('A_F475W', 'A_F475W_MAD', 'ro', markersize=5, data=tab[wvar],\n",
    "        label=f'{len(wvar)} variable candidates')\n",
    "ax.set(xlabel='A_F475W [mag]', ylabel='A_F475W_MAD [mag]')\n",
    "_ = ax.legend(loc='best')"
   ]
  },
  {
   "cell_type": "markdown",
   "metadata": {},
   "source": [
    "### Check positions of variable objects in a color-magnitude diagram <a name=\"cmd\"></a>\n",
    "\n",
    "Note that these objects are generally located in the Cepheid instability strip."
   ]
  },
  {
   "cell_type": "code",
   "execution_count": null,
   "metadata": {},
   "outputs": [],
   "source": [
    "b_minus_i = tab['A_F475W'] - tab['A_F814W']\n",
    "\n",
    "fig, ax = plt.subplots(figsize=(10, 10))\n",
    "ax.plot(b_minus_i, tab['A_F475W'], 'bo', markersize=2, alpha=0.1,\n",
    "        label=f'{len(tab)} HSC measurements near {target}')\n",
    "ax.plot(b_minus_i[wvar], tab['A_F475W'][wvar], 'ro', markersize=5,\n",
    "        label=f'{len(wvar)} variable candidates')\n",
    "ax.set(xlabel='A_F475W - A_F814W [mag]', ylabel='A_F475W [mag]')\n",
    "ax.invert_yaxis()\n",
    "_ = ax.legend(loc='best')"
   ]
  },
  {
   "cell_type": "markdown",
   "metadata": {},
   "source": [
    "### Query the API for the light curve for one of the objects <a name=\"lightcurve\"></a>\n",
    "\n",
    "Select the most variable object as an example. "
   ]
  },
  {
   "cell_type": "code",
   "execution_count": null,
   "metadata": {},
   "outputs": [],
   "source": [
    "wvar = wvar[np.argsort(-tab['A_F475W_MAD'][wvar])]\n",
    "iselect = wvar[0]\n",
    "print(f\"MatchID {tab['MatchID'][iselect]} B = {tab['A_F475W'][iselect]:.3f} B-I = {b_minus_i[iselect]:.3f}\")\n",
    "tab[wvar]"
   ]
  },
  {
   "cell_type": "markdown",
   "metadata": {},
   "source": [
    "Get column metadata for detailed observation table (which has time-dependent magnitudes)."
   ]
  },
  {
   "cell_type": "code",
   "execution_count": null,
   "metadata": {},
   "outputs": [],
   "source": [
    "meta = hscmetadata(\"detailed\")\n",
    "print(len(meta), \"columns in detailed\")\n",
    "pprint(meta['name'].tolist(), compact=True)"
   ]
  },
  {
   "cell_type": "markdown",
   "metadata": {},
   "source": [
    "### Get separate light curves for F475W and F814W from the detailed table"
   ]
  },
  {
   "cell_type": "code",
   "execution_count": null,
   "metadata": {},
   "outputs": [],
   "source": [
    "columns = \"\"\"MatchID,SourceID,StartMJD,Detector,Filter,MagAper2,Flags,ImageName\"\"\".split(\",\")\n",
    "columns = [x.strip() for x in columns]\n",
    "columns = [x for x in columns if x and not x.startswith('#')]\n",
    "\n",
    "constraints = {'MatchID': tab['MatchID'][iselect], 'Detector': 'ACS/WFC'}\n",
    "t0 = time.time()\n",
    "f475 = hscsearch(table=\"detailed\", release='v3', columns=columns, Filter='F475W', format=\"table\", **constraints)\n",
    "f814 = hscsearch(table=\"detailed\", release='v3', columns=columns, Filter='F814W', format=\"table\", **constraints)\n",
    "print(f\"{time.time()-t0:.1f} s: retrieved data and converted to {len(f475)} (F475W) and {len(f814)} (F814W) row astropy tables\")\n",
    "\n",
    "f475.sort('StartMJD')\n",
    "f814.sort('StartMJD')\n",
    "f475['MagAper2'].format = \"{:.3f}\"\n",
    "f475['StartMJD'].format = \"{:.5f}\"\n",
    "f814['MagAper2'].format = \"{:.3f}\"\n",
    "f814['StartMJD'].format = \"{:.5f}\"\n",
    "\n",
    "f475"
   ]
  },
  {
   "cell_type": "markdown",
   "metadata": {},
   "source": [
    "### Plot the light curves\n",
    "\n",
    "The light curves appear well-behaved and are closely correlated in the two filters."
   ]
  },
  {
   "cell_type": "code",
   "execution_count": null,
   "metadata": {},
   "outputs": [],
   "source": [
    "fig, ax = plt.subplots(figsize=(10, 6), tight_layout=True)\n",
    "\n",
    "ax.plot('StartMJD', 'MagAper2', 'bo', data=f475, label='ACS/WFC F475W')\n",
    "ax.plot('StartMJD', 'MagAper2', 'ro', data=f814, label='ACS/WFC F814W')\n",
    "\n",
    "ax.set(xlabel='MJD [days]', ylabel='[mag]')\n",
    "ax.invert_yaxis()\n",
    "ax.legend()"
   ]
  },
  {
   "cell_type": "markdown",
   "metadata": {},
   "source": [
    "### Extract HLA cutout images for the F475W images <a name=\"cutouts\"></a>\n",
    "\n",
    "Get HLA F475W cutout images for the example variable.  The `get_hla_cutout` function reads a single cutout image (as a JPEG grayscale image) and returns a PIL image object.  See the documentation on the [fitscut image cutout service](http://hla.stsci.edu/fitscutcgi_interface.html) for more information on the web service being used.\n",
    "\n",
    "Examination of the images can be useful to identified cosmic-ray contamination and other possible image artifacts.  In this case, no issues are seen, so the light curve is likely to be reliable."
   ]
  },
  {
   "cell_type": "code",
   "execution_count": null,
   "metadata": {},
   "outputs": [],
   "source": [
    "def get_hla_cutout(imagename, ra, dec, size=33, autoscale=99.5, asinh=1, zoom=1):\n",
    "    \n",
    "    \"\"\"Get JPEG cutout for an image\"\"\"\n",
    "    \n",
    "    url = \"https://hla.stsci.edu/cgi-bin/fitscut.cgi\"\n",
    "    r = requests.get(url, params=dict(ra=ra, dec=dec, size=size, format=\"jpeg\",\n",
    "                                      red=imagename, autoscale=autoscale, asinh=asinh, zoom=zoom))\n",
    "    im = Image.open(BytesIO(r.content))\n",
    "    return im"
   ]
  },
  {
   "cell_type": "code",
   "execution_count": null,
   "metadata": {},
   "outputs": [],
   "source": [
    "# sort images by magnitude from faintest to brightest\n",
    "isort = np.argsort(-f475['MagAper2'])\n",
    "\n",
    "imagename = f475['ImageName'][isort]\n",
    "mag = f475['MagAper2'][isort]\n",
    "mjd = f475['StartMJD'][isort]\n",
    "\n",
    "nim = len(imagename)\n",
    "ncols = 4 # images per row\n",
    "nrows = (nim+ncols-1)//ncols\n",
    "\n",
    "imsize = 15\n",
    "mra = tab['MatchRA'][iselect]\n",
    "mdec = tab['MatchDec'][iselect]"
   ]
  },
  {
   "cell_type": "code",
   "execution_count": null,
   "metadata": {},
   "outputs": [],
   "source": [
    "# download list of images; might take a minute\n",
    "images = [get_hla_cutout(imagename[k], mra, mdec, size=imsize) for k in range(nim)]"
   ]
  },
  {
   "cell_type": "code",
   "execution_count": null,
   "metadata": {},
   "outputs": [],
   "source": [
    "plt.rcParams.update({\"font.size\": 11})\n",
    "fig, axes = plt.subplots(nrows=nrows, ncols=ncols, figsize=(15, (15/ncols)*nrows), tight_layout=True)\n",
    "\n",
    "axes = axes.flat\n",
    "\n",
    "for i, (ax, img) in enumerate(zip(axes, images)):\n",
    "    ax.imshow(img, origin=\"upper\", cmap=\"gray\")\n",
    "    ax.set_title(f'{mjd[i]:.5f} f475w={mag[i]:.3f}')"
   ]
  }
 ],
 "metadata": {
  "kernelspec": {
   "display_name": "stsci",
   "language": "python",
   "name": "stsci"
  },
  "language_info": {
   "codemirror_mode": {
    "name": "ipython",
    "version": 3
   },
   "file_extension": ".py",
   "mimetype": "text/x-python",
   "name": "python",
   "nbconvert_exporter": "python",
   "pygments_lexer": "ipython3",
   "version": "3.10.4"
  }
 },
 "nbformat": 4,
 "nbformat_minor": 4
}
