{
 "cells": [
  {
   "cell_type": "markdown",
   "metadata": {},
   "source": [
    "# Hubble Source Catalog SWEEPS Proper Motion Notebook\n",
    "### 2019 - 2022, Steve Lubow, Rick White, Trenton McKinney\n",
    "\n",
    "This notebook shows how to access the new proper motions available for the [SWEEPS][1] field in version 3.1 of the [Hubble Source Catalog][2]. Data tables in [MAST CasJobs][3] are queried from Python using the [mastcasjobs][4] module. Additional information is available on the [SWEEPS Proper Motions help page][5].\n",
    "\n",
    "\n",
    "  [1]: https://media.stsci.edu/news_release/news/2011-16\n",
    "  [2]: https://archive.stsci.edu/hst/hsc\n",
    "  [3]: https://mastweb.stsci.edu/hcasjobs\n",
    "  [4]: https://github.com/rlwastro/mastcasjobs\n",
    "  [5]: https://archive.stsci.edu/hst/hsc/help/sweeps/hsc_sweeps_pm.html"
   ]
  },
  {
   "cell_type": "markdown",
   "metadata": {},
   "source": [
    "# Instructions: \n",
    "* Complete the initialization steps [described below](#Initialization).\n",
    "* Run the notebook to completion. \n",
    "* Modify and rerun any sections of the Table of Contents below.\n",
    "\n",
    "Running the notebook from top to bottom takes about 7 minutes (depending on the speed of your computer).\n",
    "\n",
    "\n",
    "# Table of Contents\n",
    "* [Intialization](#Initialization)\n",
    "* [Properties of Full Catalog](#fullcat)\n",
    "    * [Sky Coverage](#SkyCoverage)\n",
    "    * [Proper Motion Distributions](#pmhist)\n",
    "    * [Visit Distribution](#visitshist)\n",
    "    * [Time Coverage Distributions](#timehist)\n",
    "    * [Magnitude Distributions](#maghist) \n",
    "    * [Color Magnitude Diagram](#cmdall)\n",
    "    * [Detection Positions](#detpos)\n",
    "* [Good Photometric Objects](#goodphot)\n",
    "* [Science Applications](#sciap)\n",
    "    * [Proper Motions on the CMD](#goodpm)\n",
    "    * [Proper Motions in Bulge Versus Disk](#bulgedisk)\n",
    "    * [White Dwarfs](#wd)\n",
    "    * [QSO Candidates](#qsocan)\n",
    "    * [High Proper Motion Objects](#hpm)\n",
    "    * [HLA Cutout Images for Selected Objects](#cutouts)"
   ]
  },
  {
   "cell_type": "markdown",
   "metadata": {},
   "source": [
    "# Initialization <a class=\"anchor\" id=\"Initialization\"></a>"
   ]
  },
  {
   "cell_type": "markdown",
   "metadata": {},
   "source": [
    "### Install Python modules\n",
    "\n",
    "1. _This notebook requires the use of **Python 3**._\n",
    "1. Modules can be installed with `conda`, if using the [Anaconda distribution][1] of python, or with `pip`.\n",
    "   - If you are using `conda`, do not install / update / remove a module with `pip`, that exists in a `conda` [channel][1].\n",
    "   - If a module is not available with `conda`, then it's okay to install it with `pip`\n",
    "1. Install `mastcasjobs` and `casjobs` with `pip`:\n",
    "\n",
    "```\n",
    "pip install mastcasjobs\n",
    "```\n",
    "\n",
    "### Set up your CasJobs account information\n",
    "\n",
    "You must have a [MAST Casjobs][3] account. Note that MAST Casjobs accounts are independent of SDSS Casjobs accounts.\n",
    "\n",
    "For easy startup, you can optionally set the environment variables `CASJOBS_USERID` and/or `CASJOBS_PW` with your Casjobs account information.  The Casjobs user ID and password are what you enter when logging into Casjobs.\n",
    "\n",
    "This script prompts for your Casjobs user ID and password during initialization if the environment variables are not defined.\n",
    "\n",
    "\n",
    "  [1]: https://www.anaconda.com/products/distribution\n",
    "  [2]: https://docs.conda.io/projects/conda/en/latest/user-guide/concepts/channels.html\n",
    "  [3]: https://mastweb.stsci.edu/hcasjobs"
   ]
  },
  {
   "cell_type": "code",
   "execution_count": null,
   "metadata": {},
   "outputs": [],
   "source": [
    "import astropy\n",
    "import time\n",
    "import sys\n",
    "import os\n",
    "import requests\n",
    "import numpy as np\n",
    "import matplotlib.pyplot as plt\n",
    "import matplotlib.gridspec as gridspec\n",
    "from matplotlib.colors import LogNorm\n",
    "from pathlib import Path\n",
    "\n",
    "# check that version of mastcasjobs is new enough\n",
    "# we are using some features not in version 0.0.1\n",
    "from pkg_resources import get_distribution\n",
    "from packaging.version import Version as V\n",
    "\n",
    "assert V(get_distribution(\"mastcasjobs\").version) >= V('0.0.2'), \"\"\"\n",
    "A newer version of mastcasjobs is required.\n",
    "Update mastcasjobs to current version using this command:\n",
    "pip install --upgrade git+git://github.com/rlwastro/mastcasjobs@master\n",
    "\"\"\"\n",
    "\n",
    "import mastcasjobs\n",
    "\n",
    "from PIL import Image\n",
    "from io import BytesIO\n",
    "\n",
    "## For handling ordinary astropy Tables\n",
    "from astropy.table import Table\n",
    "from astropy.io import fits, ascii\n",
    "\n",
    "from fastkde import fastKDE\n",
    "from scipy.interpolate import RectBivariateSpline\n",
    "from astropy.modeling import models, fitting\n",
    "\n",
    "# There are a number of relatively unimportant warnings that \n",
    "# show up, so for now, suppress them:\n",
    "import warnings\n",
    "warnings.filterwarnings(\"ignore\")\n",
    "\n",
    "# set width for pprint\n",
    "astropy.conf.max_width = 150"
   ]
  },
  {
   "cell_type": "code",
   "execution_count": null,
   "metadata": {},
   "outputs": [],
   "source": [
    "# set universal matplotlib parameters\n",
    "plt.rcParams.update({'font.size': 16})"
   ]
  },
  {
   "cell_type": "code",
   "execution_count": null,
   "metadata": {},
   "outputs": [],
   "source": [
    "HSCContext = \"HSCv3\""
   ]
  },
  {
   "cell_type": "markdown",
   "metadata": {},
   "source": [
    "Set up Casjobs environment."
   ]
  },
  {
   "cell_type": "code",
   "execution_count": null,
   "metadata": {},
   "outputs": [],
   "source": [
    "import getpass\n",
    "if not os.environ.get('CASJOBS_USERID'):\n",
    "    os.environ['CASJOBS_USERID'] = input('Enter Casjobs UserID:')\n",
    "if not os.environ.get('CASJOBS_PW'):\n",
    "    os.environ['CASJOBS_PW'] = getpass.getpass('Enter Casjobs password:')"
   ]
  },
  {
   "cell_type": "markdown",
   "metadata": {},
   "source": [
    "### Create table in MyDB with selected SWEEPS objects\n",
    "\n",
    "Note that the query restricts the sample to matches with at least 10 detections in each of F606W and F814W.  This can be modified depending on the science goals.\n",
    "\n",
    "This uses an existing MyDB.SWEEPS table if it already exists in your CasJobs account.  If you want to change the query, either change the name of the output table or drop the table to force it to be recreated.  Usually the query completes in about a minute, but if the database server is heavily loaded then it can take much longer."
   ]
  },
  {
   "cell_type": "code",
   "execution_count": null,
   "metadata": {},
   "outputs": [],
   "source": [
    "DBtable = \"SWEEPS\"\n",
    "jobs = mastcasjobs.MastCasJobs(context=\"MyDB\")\n",
    "\n",
    "try:\n",
    "    print(f\"Retrieving table MyDB.{DBtable} (if it exists)\")\n",
    "    tab = jobs.fast_table(DBtable, verbose=True)\n",
    "except ValueError:\n",
    "    print(f\"Table MyDB.{DBtable} not found, running query to create it\")\n",
    "\n",
    "    # drop table if it already exists\n",
    "    jobs.drop_table_if_exists(DBtable)\n",
    "\n",
    "    # get main information\n",
    "    query = f\"\"\"\n",
    "        select a.ObjID,  RA=a.raMean, Dec=a.decMean, RAerr=a.raMeanErr, Decerr=a.decMeanErr,\n",
    "            c.NumFilters, c.NumVisits,\n",
    "            a_f606w=i1.MagMed,  a_f606w_n=i1.n, a_f606w_mad=i1.MagMAD,\n",
    "            a_f814w=i2.MagMed, a_f814w_n=i2.n, a_f814w_mad=i2.MagMAD,\n",
    "            bpm=a.pmLat, lpm=a.pmLon, bpmerr=a.pmLatErr, lpmerr=a.pmLonErr,\n",
    "            pmdev=sqrt(pmLonDev*pmLonDev+pmLatDev*pmLatDev),\n",
    "            yr=(a.epochMean - 47892)/365.25+1990, \n",
    "            dT=(a.epochEnd-a.epochStart)/365.25,\n",
    "            yrStart=(a.epochStart - 47892)/365.25+1990,\n",
    "            yrEnd=(a.epochEnd - 47892)/365.25+1990\n",
    "        into mydb.{DBtable}\n",
    "        from AstromProperMotions a join AstromSumMagAper2 i1 on \n",
    "             i1.ObjID=a.ObjID and i1.n >=10 and i1.filter ='F606W' and i1.detector='ACS/WFC'\n",
    "         join AstromSumMagAper2 i2 on \n",
    "             i2.ObjID=a.ObjID and i2.n >=10 and i2.filter ='F814W' and i2.detector='ACS/WFC'\n",
    "         join AstromSumPropMagAper2Cat c on a.ObjID=c.ObjID\n",
    "    \"\"\"\n",
    "\n",
    "    t0 = time.time()\n",
    "    jobid = jobs.submit(query, task_name=\"SWEEPS\", context=HSCContext)\n",
    "    print(\"jobid=\", jobid)\n",
    "    results = jobs.monitor(jobid)\n",
    "    print(f\"Completed in {(time.time()-t0):.1f} sec\")\n",
    "    print(results)\n",
    "\n",
    "    # slower version using CasJobs output queue\n",
    "    # tab = jobs.get_table(DBtable, verbose=False)\n",
    "    \n",
    "    # fast version using special MAST Casjobs service\n",
    "    tab = jobs.fast_table(DBtable, verbose=True)"
   ]
  },
  {
   "cell_type": "code",
   "execution_count": null,
   "metadata": {},
   "outputs": [],
   "source": [
    "tab"
   ]
  },
  {
   "cell_type": "markdown",
   "metadata": {},
   "source": [
    "# Properties of Full Catalog  <a class=\"anchor\" id=\"fullcat\"></a>"
   ]
  },
  {
   "cell_type": "markdown",
   "metadata": {},
   "source": [
    "# Sky Coverage  <a class=\"anchor\" id=\"SkyCoverage\"></a>"
   ]
  },
  {
   "cell_type": "code",
   "execution_count": null,
   "metadata": {},
   "outputs": [],
   "source": [
    "fig, ax = plt.subplots(figsize=(12, 10))\n",
    "ax.scatter('RA', 'Dec', data=tab, s=1, alpha=0.1)\n",
    "ax.set(xlabel='RA', ylabel='Dec', title=f'{len(tab)} stars in SWEEPS')\n",
    "ax.invert_xaxis()"
   ]
  },
  {
   "cell_type": "markdown",
   "metadata": {},
   "source": [
    "# Proper Motion Histograms <a class=\"anchor\" id=\"pmhist\"></a>"
   ]
  },
  {
   "cell_type": "markdown",
   "metadata": {},
   "source": [
    "## Proper motion histograms for lon and lat "
   ]
  },
  {
   "cell_type": "code",
   "execution_count": null,
   "metadata": {},
   "outputs": [],
   "source": [
    "bin = 0.2\n",
    "hrange = (-20, 20)\n",
    "bincount = int((hrange[1]-hrange[0])/bin + 0.5) + 1\n",
    "\n",
    "fig, ax = plt.subplots(figsize=(12, 10))\n",
    "for col, label in zip(['lpm', 'bpm'], ['Longitude', 'Latitude']):\n",
    "    ax.hist(col, data=tab, range=hrange, bins=bincount, label=label, histtype='step', linewidth=2)\n",
    "ax.set(xlabel='Proper motion [mas/yr]', ylabel=f'Number [in {bin:.2} mas bins]', title=f'{len(tab):,} stars in SWEEPS')\n",
    "_ = ax.legend()"
   ]
  },
  {
   "cell_type": "markdown",
   "metadata": {},
   "source": [
    "## Proper motion error cumulative histogram for lon and lat"
   ]
  },
  {
   "cell_type": "code",
   "execution_count": null,
   "metadata": {},
   "outputs": [],
   "source": [
    "bin = 0.01\n",
    "hrange = (0, 2)\n",
    "bincount = int((hrange[1]-hrange[0])/bin + 0.5) + 1\n",
    "\n",
    "fig, ax = plt.subplots(figsize=(12, 10))\n",
    "for col, label in zip(['lpmerr', 'bpmerr'], ['Longitude Error', 'Latitude Error']):\n",
    "    ax.hist(col, data=tab, range=hrange, bins=bincount, label=label, histtype='step', cumulative=1, linewidth=2)\n",
    "ax.set(xlabel='Proper motion error [mas/yr]', ylabel=f'Cumulative number [in {bin:0.2} mas bins]', title=f'{len(tab):,} stars in SWEEPS')\n",
    "_ = ax.legend(loc='upper left')"
   ]
  },
  {
   "cell_type": "markdown",
   "metadata": {},
   "source": [
    "## Proper motion error log histogram for lon and lat "
   ]
  },
  {
   "cell_type": "code",
   "execution_count": null,
   "metadata": {},
   "outputs": [],
   "source": [
    "bin = 0.01\n",
    "hrange = (0, 6)\n",
    "bincount = int((hrange[1]-hrange[0])/bin + 0.5) + 1\n",
    "\n",
    "fig, ax = plt.subplots(figsize=(12, 10))\n",
    "for col, label in zip(['lpmerr', 'bpmerr'], ['Longitude Error', 'Latitude Error']):\n",
    "    ax.hist(col, data=tab, range=hrange, bins=bincount, label=label, histtype='step', linewidth=2)\n",
    "ax.set(xlabel='Proper motion error [mas/yr]', ylabel=f'Number [in {bin:0.2} mas bins]', title=f'{len(tab):,} stars in SWEEPS', yscale='log')\n",
    "_ = ax.legend(loc='upper right')"
   ]
  },
  {
   "cell_type": "markdown",
   "metadata": {},
   "source": [
    "### Proper motion error as a function of dT\n",
    "\n",
    "Exclude objects with dT near zero, and to improve the plotting add a bit of random noise to spread out the quanitized time values."
   ]
  },
  {
   "cell_type": "code",
   "execution_count": null,
   "metadata": {},
   "outputs": [],
   "source": [
    "# restrict to sources with dT > 1 year\n",
    "dtmin = 1.0\n",
    "w = np.where(tab['dT'] > dtmin)[0]\n",
    "if ('rw' not in locals()) or len(rw) != len(w):\n",
    "    rw = np.random.random(len(w))\n",
    "\n",
    "x = np.array(tab['dT'][w]) + 0.5*(rw-0.5)\n",
    "y = np.log(np.array(tab['lpmerr'][w]))\n",
    "\n",
    "# Calculate the point density\n",
    "t0 = time.time()\n",
    "myPDF, axes = fastKDE.pdf(x.flatten(), y.flatten(), numPoints=2**9+1)\n",
    "print(\"kde took {:.1f} sec\".format(time.time()-t0))\n",
    "\n",
    "# interpolate to get z values at points\n",
    "finterp = RectBivariateSpline(axes[1], axes[0], myPDF)\n",
    "z = finterp(y, x, grid=False)\n",
    "\n",
    "# Sort the points by density, so that the densest points are plotted last\n",
    "idx = z.argsort()\n",
    "xs, ys, zs = x[idx], y[idx], z[idx]\n",
    "\n",
    "# select a random subset of points in the most crowded regions to speed up plotting\n",
    "wran = np.where(np.random.random(len(zs))*zs < 0.05)[0]\n",
    "print(\"Plotting {} of {} points\".format(len(wran), len(zs)))\n",
    "xs = xs[wran]\n",
    "ys = ys[wran]\n",
    "zs = zs[wran]"
   ]
  },
  {
   "cell_type": "code",
   "execution_count": null,
   "metadata": {},
   "outputs": [],
   "source": [
    "fig, ax = plt.subplots(figsize=(12, 10))\n",
    "sc = ax.scatter(xs, np.exp(ys), c=zs, s=2, edgecolors='none', cmap='plasma')\n",
    "ax.set(xlabel='Date range [yr]', ylabel='Proper motion error [mas/yr]',\n",
    "       title=f'{len(tab):,} stars in SWEEPS\\nLongitude PM error', yscale='log')\n",
    "_ = fig.colorbar(sc, ax=ax)"
   ]
  },
  {
   "cell_type": "markdown",
   "metadata": {},
   "source": [
    "## Proper motion error log histogram for lon and lat \n",
    "\n",
    "Divide sample into points with $<6$ years of data and points with more than 6 years of data."
   ]
  },
  {
   "cell_type": "code",
   "execution_count": null,
   "metadata": {},
   "outputs": [],
   "source": [
    "bin = 0.01\n",
    "hrange = (0, 6)\n",
    "bincount = int((hrange[1]-hrange[0])/bin + 0.5) + 1\n",
    "\n",
    "tsplit = 6\n",
    "dmaglim = 0.05\n",
    "\n",
    "wmag = np.where((tab['a_f606w_mad'] < dmaglim) & (tab['a_f814w_mad'] < dmaglim))[0]\n",
    "w1 = wmag[tab['dT'][wmag] <= tsplit]\n",
    "w2 = wmag[tab['dT'][wmag] > tsplit]"
   ]
  },
  {
   "cell_type": "code",
   "execution_count": null,
   "metadata": {},
   "outputs": [],
   "source": [
    "fig, (ax1, ax2) = plt.subplots(nrows=2, ncols=1, figsize=(12, 12), sharey=True, tight_layout=True)\n",
    "\n",
    "for ax, w in zip([ax1, ax2], [w1, w2]):\n",
    "    for col, label in zip(['lpmerr', 'bpmerr'], ['Longitude Error', 'Latitude Error']):\n",
    "        data = tab[w]\n",
    "        ax.hist(col, data=data, range=hrange, bins=bincount, label=label, histtype='step', linewidth=2)\n",
    "        \n",
    "ax1.set(xlabel='Proper motion error [mas/yr]', ylabel=f'Number [in {bin:0.2} mas bins]',\n",
    "        title=f'{len(w1):,} stars in SWEEPS with dT < {tsplit} yrs, dmag < {dmaglim}', yscale='log')\n",
    "ax2.set(xlabel='Proper motion error [mas/yr]', ylabel=f'Number [in {bin:0.2} mas bins]',\n",
    "        title=f'{len(w2):,} stars in SWEEPS with dT > {tsplit} yrs, dmag < {dmaglim}', yscale='log')\n",
    "\n",
    "ax1.legend()\n",
    "ax2.legend()"
   ]
  },
  {
   "cell_type": "markdown",
   "metadata": {},
   "source": [
    "# Number of Visits Histogram <a class=\"anchor\" id=\"visitshist\"></a>"
   ]
  },
  {
   "cell_type": "code",
   "execution_count": null,
   "metadata": {},
   "outputs": [],
   "source": [
    "bin = 1\n",
    "hrange = (0, 130)\n",
    "bincount = int((hrange[1]-hrange[0])/bin + 0.5) + 1\n",
    "\n",
    "fig, ax = plt.subplots(figsize=(12, 10))\n",
    "ax.hist('NumVisits', data=tab, range=hrange, bins=bincount, label='Number of visits ', histtype='step', linewidth=2)\n",
    "ax.set(xlabel='Number of visits', ylabel='Number of objects', title=f'{len(tab):,} stars in SWEEPS')\n",
    "_ = ax.margins(x=0)"
   ]
  },
  {
   "cell_type": "markdown",
   "metadata": {},
   "source": [
    "# Time Histograms <a class=\"anchor\" id=\"timehist\"></a>\n",
    "\n",
    "First plot histogram of observation dates."
   ]
  },
  {
   "cell_type": "code",
   "execution_count": null,
   "metadata": {},
   "outputs": [],
   "source": [
    "bin = 1\n",
    "hrange = (2000, 2020)\n",
    "bincount = int((hrange[1]-hrange[0])/bin + 0.5) + 1\n",
    "\n",
    "fig, ax = plt.subplots(figsize=(12, 10))\n",
    "ax.hist('yr', data=tab, range=hrange, bins=bincount, label='year ', histtype='step', linewidth=2)\n",
    "ax.set(xlabel='mean detection epoch (year)', ylabel='Number of objects', title=f'{len(tab):,} stars in SWEEPS')\n",
    "ax.set_xticks(ticks=range(2000, 2021, 2))\n",
    "_ = ax.margins(x=0)"
   ]
  },
  {
   "cell_type": "markdown",
   "metadata": {},
   "source": [
    "Then plot histogram of observation duration for the objects."
   ]
  },
  {
   "cell_type": "code",
   "execution_count": null,
   "metadata": {},
   "outputs": [],
   "source": [
    "bin = 0.25\n",
    "hrange = (0, 15)\n",
    "bincount = int((hrange[1]-hrange[0])/bin + 0.5) + 1\n",
    "\n",
    "fig, ax = plt.subplots(figsize=(12, 10))\n",
    "ax.hist('dT', data=tab, range=hrange, bins=bincount, label='year ', histtype='step', linewidth=2)\n",
    "_ = ax.set(xlabel='time span (years)', ylabel='Number of objects', title=f'{len(tab):,} stars in SWEEPS', yscale='log')"
   ]
  },
  {
   "cell_type": "markdown",
   "metadata": {},
   "source": [
    "# Magnitude Histograms <a class=\"anchor\" id=\"maghist\"></a>"
   ]
  },
  {
   "cell_type": "markdown",
   "metadata": {},
   "source": [
    "## Aper2 magnitude histograms for F606W and F814W"
   ]
  },
  {
   "cell_type": "code",
   "execution_count": null,
   "metadata": {},
   "outputs": [],
   "source": [
    "bin = 0.025\n",
    "hrange = (16, 28)\n",
    "bincount = int((hrange[1]-hrange[0])/bin + 0.5) + 1\n",
    "\n",
    "fig, ax = plt.subplots(figsize=(12, 10))\n",
    "for col, label in zip(['a_f606w', 'a_f814w'], ['F606W', 'F814W']):\n",
    "    ax.hist(col, data=tab, range=hrange, bins=bincount, label=label, histtype='step', linewidth=2)\n",
    "ax.set(xlabel='magnitude', ylabel=f'Number [in {bin:0.2} mas bins]', title=f'{len(tab):,} stars in SWEEPS')\n",
    "_ = ax.legend(loc='upper right')"
   ]
  },
  {
   "cell_type": "markdown",
   "metadata": {},
   "source": [
    "## Aper2 magnitude error histograms for F606W and F814W"
   ]
  },
  {
   "cell_type": "code",
   "execution_count": null,
   "metadata": {},
   "outputs": [],
   "source": [
    "bin = 0.001\n",
    "hrange = (0, 0.2)\n",
    "bincount = int((hrange[1]-hrange[0])/bin + 0.5) + 1\n",
    "\n",
    "fig, ax = plt.subplots(figsize=(12, 10))\n",
    "for col, label in zip(['a_f606w_mad', 'a_f814w_mad'], ['F606W', 'F814W']):\n",
    "    ax.hist(col, data=tab, range=hrange, bins=bincount, label=label, histtype='step', linewidth=2)\n",
    "ax.set(xlabel='magnitude error (median absolute deviation)', ylabel=f'Number of stars[in {bin:0.2} magnitude bins]',\n",
    "       title=f'{len(tab):,} stars in SWEEPS')\n",
    "_ = ax.legend(loc='upper right')"
   ]
  },
  {
   "cell_type": "markdown",
   "metadata": {},
   "source": [
    "# Color-Magnitude Diagram <a class=\"anchor\" id=\"cmdall\"></a>"
   ]
  },
  {
   "cell_type": "markdown",
   "metadata": {},
   "source": [
    "## Color-magnitude diagram\n",
    "\n",
    "Plot the color-magnitude diagram for the ~440k points retrieved from the database.  This uses fastkde to compute the kernel density estimate for the crowded plot, which is very fast. See https://pypi.org/project/fastkde/ for instructions -- or just do\n",
    "<br />\n",
    "<tt>pip install fastkde</tt>"
   ]
  },
  {
   "cell_type": "code",
   "execution_count": null,
   "metadata": {},
   "outputs": [],
   "source": [
    "f606w = tab['a_f606w']\n",
    "f814w = tab['a_f814w']\n",
    "RminusI = f606w-f814w\n",
    "\n",
    "# Calculate the point density\n",
    "w = np.where((RminusI > -1) & (RminusI < 4))[0]\n",
    "x = np.array(RminusI[w])\n",
    "y = np.array(f606w[w])\n",
    "t0 = time.time()\n",
    "myPDF, axes = fastKDE.pdf(x, y, numPoints=2**10+1)\n",
    "print(\"kde took {:.1f} sec\".format(time.time()-t0))\n",
    "\n",
    "# interpolate to get z values at points\n",
    "finterp = RectBivariateSpline(axes[1], axes[0], myPDF)\n",
    "z = finterp(y, x, grid=False)\n",
    "\n",
    "# Sort the points by density, so that the densest points are plotted last\n",
    "idx = z.argsort()\n",
    "xs, ys, zs = x[idx], y[idx], z[idx]\n",
    "\n",
    "# select a random subset of points in the most crowded regions to speed up plotting\n",
    "wran = np.where(np.random.random(len(zs))*zs < 0.05)[0]\n",
    "print(f\"Plotting {len(wran)} of {len(zs)} points\")\n",
    "xs = xs[wran]\n",
    "ys = ys[wran]\n",
    "zs = zs[wran]"
   ]
  },
  {
   "cell_type": "code",
   "execution_count": null,
   "metadata": {},
   "outputs": [],
   "source": [
    "fig, ax = plt.subplots(figsize=(12, 10))\n",
    "sc = ax.scatter(xs, ys, c=zs, s=2, edgecolors='none', cmap='plasma')\n",
    "ax.set(xlabel='A_F606W - A_F814W', ylabel='A_F606W', title=f'{len(x):,} stars in SWEEPS')\n",
    "ax.invert_yaxis()\n",
    "fig.colorbar(sc, ax=ax)"
   ]
  },
  {
   "cell_type": "markdown",
   "metadata": {},
   "source": [
    "# Detection Positions <a class=\"anchor\" id=\"detpos\"></a>\n",
    "\n",
    "Define a function to plot the PM fit for an object."
   ]
  },
  {
   "cell_type": "code",
   "execution_count": null,
   "metadata": {},
   "outputs": [],
   "source": [
    "# define function\n",
    "def positions(Obj, jobs=None):\n",
    "    \"\"\"\n",
    "    input parameter Obj is the value of the ObjID \n",
    "    optional jobs parameter re-uses casjobs jobs variable\n",
    "    output plots change in (lon, lat) as a function of time\n",
    "    overplots proper motion fit\n",
    "    provides number of objects and magnitude/color information\n",
    "    \"\"\"\n",
    "    if not jobs:\n",
    "        jobs = mastcasjobs.MastCasJobs(context=HSCContext)\n",
    "\n",
    "    # execute these as \"system\" queries so they don't fill up your Casjobs history\n",
    "\n",
    "    # get the measured positions as a function of time\n",
    "    query = f\"\"\"SELECT dT, dLon, dLat \n",
    "        from AstromSourcePositions where ObjID={Obj}\n",
    "        order by dT\n",
    "        \"\"\"\n",
    "    pos = jobs.quick(query, context=HSCContext, task_name=\"SWEEPS/Microlensing\", astropy=True, system=True)\n",
    "    \n",
    "    # get the PM fit parameters\n",
    "    query = f\"\"\"SELECT pmlon, pmlonerr, pmlat, pmlaterr\n",
    "        from AstromProperMotions where ObjID={Obj}\n",
    "        \"\"\"\n",
    "    pm = jobs.quick(query, context=HSCContext, task_name=\"SWEEPS/Microlensing\", astropy=True, system=True)\n",
    "    \n",
    "    lpm = pm['pmlon'][0]\n",
    "    bpm = pm['pmlat'][0]\n",
    "    \n",
    "    # get the intercept for the proper motion fit referenced to the start time\n",
    "    # time between mean epoch and zero (ref) epoch (years)\n",
    "\n",
    "    # get median magnitudes and colors for labeling\n",
    "    query = f\"\"\"SELECT a_f606w=i1.MagMed, a_f606_m_f814w=i1.MagMed-i2.MagMed\n",
    "        from AstromSumMagAper2 i1 \n",
    "        join AstromSumMagAper2 i2 on i1.ObjID=i2.ObjID \n",
    "        where i1.ObjID={Obj} and i1.filter='f606w' and i2.filter='f814w' \n",
    "        \"\"\"\n",
    "    phot = jobs.quick(query, context=HSCContext, task_name=\"SWEEPS/Microlensing\", astropy=True, system=True)\n",
    "    f606w = phot['a_f606w'][0]\n",
    "    f606wmf814w = phot['a_f606_m_f814w'][0]\n",
    "\n",
    "    x = pos['dT']\n",
    "    # xpm = np.linspace(0, max(x), 10)\n",
    "    xpm = np.array([x.min(), x.max()])\n",
    "        \n",
    "    y1 = pos['dLon']\n",
    "    ypm1 = lpm*xpm\n",
    "    \n",
    "    y2 = pos['dLat']\n",
    "    ypm2 = bpm*xpm\n",
    "\n",
    "    # plot figure\n",
    "    fig, (ax1, ax2) = plt.subplots(nrows=1, ncols=2, figsize=(6, 3), tight_layout=True)\n",
    "    \n",
    "    ax1.scatter(x, y1, s=10)\n",
    "    ax1.plot(xpm, ypm1, '-r')\n",
    "    \n",
    "    ax2.scatter(x, y2, s=10)\n",
    "    ax2.plot(xpm, ypm2, '-r')\n",
    "    \n",
    "    ax1.set_xlabel('dT (yrs)', fontsize=10)\n",
    "    ax1.set_ylabel('dLon (mas)', fontsize=10)\n",
    "    ax2.set_xlabel('dT (yrs)', fontsize=10)\n",
    "    ax2.set_ylabel('dLat (mas)', fontsize=10)\n",
    "    \n",
    "    fig.suptitle(f\"ObjID {Obj}\"\n",
    "                 f\"\\n{len(x)} detections, (lpm, bpm) = ({lpm:.1f}, {bpm:.1f}) mas/yr\"\n",
    "                 f\"\\n(f606w, f606w-f814w) = ({f606w:.1f}, {f606wmf814w:.1f})\", size=10)\n",
    "    \n",
    "    plt.show()\n",
    "    plt.close()"
   ]
  },
  {
   "cell_type": "markdown",
   "metadata": {},
   "source": [
    "Plot positions of objects that are detected in more than 90 visits with a median absolute deviation from the fit of less than 1.5 mas and proper motion error less than 1.0 mas/yr."
   ]
  },
  {
   "cell_type": "code",
   "execution_count": null,
   "metadata": {},
   "outputs": [],
   "source": [
    "n = tab['NumVisits']\n",
    "dev = tab['pmdev']\n",
    "objid = tab['ObjID']\n",
    "lpmerr0 = np.array(tab['lpmerr'])\n",
    "bpmerr0 = np.array(tab['bpmerr'])\n",
    "wi = np.where((dev < 1.5) & (n > 90) & (np.sqrt(bpmerr0**2+lpmerr0**2) < 1.0))[0]\n",
    "print(f\"Plotting {len(wi)} objects\")\n",
    "for o in objid[wi]:\n",
    "    positions(o, jobs=jobs)"
   ]
  },
  {
   "cell_type": "markdown",
   "metadata": {},
   "source": [
    "# Good Photometric Objects <a class=\"anchor\" id=\"goodphot\"></a>"
   ]
  },
  {
   "cell_type": "markdown",
   "metadata": {},
   "source": [
    "## Look at photometric error distribution to pick out good photometry objects as a function of magnitude <a class=\"anchor\" id=\"gooderrs\"></a>\n",
    "\n",
    "The photometric error is mainly a function of magnitude.  We make a cut slightly above the typical error to exclude objects that have poor photometry.  (In the SWEEPS field, that most often is the result of blending and crowding.)"
   ]
  },
  {
   "cell_type": "code",
   "execution_count": null,
   "metadata": {},
   "outputs": [],
   "source": [
    "f606w = tab['a_f606w']\n",
    "f814w = tab['a_f814w']\n",
    "RminusI = f606w-f814w\n",
    "\n",
    "w = np.where((RminusI > -1) & (RminusI < 4))[0]\n",
    "f606w_mad = tab['a_f606w_mad']\n",
    "f814w_mad = tab['a_f814w_mad']\n",
    "\n",
    "t0 = time.time()\n",
    "# Calculate the point density\n",
    "x1 = np.array(f606w[w])\n",
    "y1 = np.array(f606w_mad[w])\n",
    "y1log = np.log(y1)\n",
    "myPDF1, axes1 = fastKDE.pdf(x1, y1log, numPoints=2**10+1)\n",
    "finterp = RectBivariateSpline(axes1[1], axes1[0], myPDF1)\n",
    "z1 = finterp(y1log, x1, grid=False)\n",
    "# Sort the points by density, so that the densest points are plotted last\n",
    "idx = z1.argsort()\n",
    "xs1, ys1, zs1 = x1[idx], y1[idx], z1[idx]\n",
    "\n",
    "# select a random subset of points in the most crowded regions to speed up plotting\n",
    "wran = np.where(np.random.random(len(zs1))*zs1 < 0.05)[0]\n",
    "print(f\"Plotting {len(wran)} of {len(zs1)} points\")\n",
    "xs1 = xs1[wran]\n",
    "ys1 = ys1[wran]\n",
    "zs1 = zs1[wran]\n",
    "\n",
    "x2 = np.array(f814w[w])\n",
    "y2 = np.array(f814w_mad[w])\n",
    "y2log = np.log(y2)\n",
    "myPDF2, axes2 = fastKDE.pdf(x2, y2log, numPoints=2**10+1)\n",
    "finterp = RectBivariateSpline(axes2[1], axes2[0], myPDF2)\n",
    "z2 = finterp(y2log, x2, grid=False)\n",
    "idx = z2.argsort()\n",
    "xs2, ys2, zs2 = x2[idx], y2[idx], z2[idx]\n",
    "print(f\"{(time.time()-t0):.1f} s: completed kde\")\n",
    "\n",
    "# select a random subset of points in the most crowded regions to speed up plotting\n",
    "wran = np.where(np.random.random(len(zs2))*zs2 < 0.05)[0]\n",
    "print(f\"Plotting {len(wran)} of {len(zs2)} points\")\n",
    "xs2 = xs2[wran]\n",
    "ys2 = ys2[wran]\n",
    "zs2 = zs2[wran]\n",
    "\n",
    "xr = (18, 27)\n",
    "xx = np.arange(501)*(xr[1]-xr[0])/500.0 + xr[0]\n",
    "xcut1 = 24.2\n",
    "xnorm1 = 0.03\n",
    "xcut2 = 23.0\n",
    "xnorm2 = 0.03\n",
    "\n",
    "# only plot a subset of the points to speed things up\n",
    "qsel = 3\n",
    "xs1 = xs1[::qsel]\n",
    "ys1 = ys1[::qsel]\n",
    "zs1 = zs1[::qsel]\n",
    "xs2 = xs2[::qsel]\n",
    "ys2 = ys2[::qsel]\n",
    "zs2 = zs2[::qsel]"
   ]
  },
  {
   "cell_type": "code",
   "execution_count": null,
   "metadata": {},
   "outputs": [],
   "source": [
    "fig, (ax1, ax2) = plt.subplots(nrows=1, ncols=2, figsize=(15, 8), tight_layout=True)\n",
    "\n",
    "ax1.scatter(xs1, ys1, c=zs1, s=2, edgecolors='none', cmap='plasma')\n",
    "ax1.plot(xx, xnorm1 * (1. + 10.**(0.4*(xx-xcut1))), linewidth=2.0,\n",
    "         label=f'${xnorm1:.2f} (1+10^{{0.4(M-{xcut1:.1f})}})$')\n",
    "\n",
    "ax2.scatter(xs2, ys2, c=zs2, s=2, edgecolors='none', cmap='plasma')\n",
    "ax2.plot(xx, xnorm2 * (1. + 10.**(0.4*(xx-xcut2))), linewidth=2.0,\n",
    "         label=f'${xnorm2:.2f} (1+10^{{0.4(M-{xcut2:.1f})}})$')\n",
    "\n",
    "ax1.legend(loc='upper left')\n",
    "ax2.legend(loc='upper left')\n",
    "\n",
    "ax1.set(xlabel='F606W', ylabel='F606W_MAD', yscale='log')\n",
    "ax2.set(xlabel='F814W', ylabel='F814W_MAD', yscale='log')"
   ]
  },
  {
   "cell_type": "markdown",
   "metadata": {},
   "source": [
    "## Define function to apply noise cut and plot color-magnitude diagram with cut\n",
    "Note that we reduce the R-I range to 0-3 here because there are very few objects left bluer than R-I = 0 or redder than R-I = 3."
   ]
  },
  {
   "cell_type": "code",
   "execution_count": null,
   "metadata": {},
   "outputs": [],
   "source": [
    "def noisecut(tab, factor=1.0):\n",
    "    \"\"\"Return boolean array with noise cut in f606w and f814w using model\n",
    "    factor is normalization factor to use (>1 means allow more noise)\n",
    "    \"\"\"\n",
    "    f606w = tab['a_f606w']\n",
    "    f814w = tab['a_f814w']\n",
    "    f606w_mad = tab['a_f606w_mad']\n",
    "    f814w_mad = tab['a_f814w_mad']\n",
    "    \n",
    "    # noise model computed above\n",
    "    xcut_f606w = 24.2\n",
    "    xnorm_f606w = 0.03 * factor\n",
    "    xcut_f814w = 23.0\n",
    "    xnorm_f814w = 0.03 * factor\n",
    "    return ((f606w_mad < xnorm_f606w*(1+10.0**(0.4*(f606w-xcut_f606w))))\n",
    "            & (f814w_mad < xnorm_f814w*(1+10.0**(0.4*(f814w-xcut_f814w)))))"
   ]
  },
  {
   "cell_type": "code",
   "execution_count": null,
   "metadata": {},
   "outputs": [],
   "source": [
    "# low-noise objects\n",
    "good = noisecut(tab, factor=1.0)\n",
    "\n",
    "# Calculate the point density\n",
    "w = np.where((RminusI > 0) & (RminusI < 3) & good)[0]\n",
    "x = np.array(RminusI[w])\n",
    "y = np.array(f606w[w])\n",
    "t0 = time.time()\n",
    "myPDF, axes = fastKDE.pdf(x, y, numPoints=2**10+1)\n",
    "print(f\"kde took {(time.time()-t0):.1f} sec\")\n",
    "\n",
    "# interpolate to get z values at points\n",
    "finterp = RectBivariateSpline(axes[1], axes[0], myPDF)\n",
    "z = finterp(y, x, grid=False)\n",
    "\n",
    "# Sort the points by density, so that the densest points are plotted last\n",
    "idx = z.argsort()\n",
    "xs, ys, zs = x[idx], y[idx], z[idx]\n",
    "\n",
    "# select a random subset of points in the most crowded regions to speed up plotting\n",
    "wran = np.where(np.random.random(len(zs))*zs < 0.075)[0]\n",
    "print(f\"Plotting {len(wran)} of {len(zs)} points\")\n",
    "xs = xs[wran]\n",
    "ys = ys[wran]\n",
    "zs = zs[wran]"
   ]
  },
  {
   "cell_type": "code",
   "execution_count": null,
   "metadata": {},
   "outputs": [],
   "source": [
    "fig, ax = plt.subplots(figsize=(12, 10))\n",
    "\n",
    "sc = ax.scatter(xs, ys, c=zs, s=2, edgecolors='none', cmap='plasma')\n",
    "ax.set(xlabel='A_F606W - A_F814W', ylabel='A_F606W',\n",
    "       title=f'{len(x):,} stars in SWEEPS', xlim=(-1, 4), ylim=(27.5, 17.5))\n",
    "_ = fig.colorbar(sc, ax=ax)"
   ]
  },
  {
   "cell_type": "markdown",
   "metadata": {},
   "source": [
    "# Science Applications <a class=\"anchor\" id=\"sciap\"></a>"
   ]
  },
  {
   "cell_type": "markdown",
   "metadata": {},
   "source": [
    "# Proper Motions of Good Objects <a class=\"anchor\" id=\"goodpm\"></a>"
   ]
  },
  {
   "cell_type": "markdown",
   "metadata": {},
   "source": [
    "## Average proper motion in color-magnitude bins "
   ]
  },
  {
   "cell_type": "code",
   "execution_count": null,
   "metadata": {},
   "outputs": [],
   "source": [
    "# good defined above\n",
    "f606w = tab['a_f606w']\n",
    "f814w = tab['a_f814w']\n",
    "RminusI = f606w-f814w\n",
    "w = np.where((RminusI > 0) & (RminusI < 3) & good)[0]\n",
    "lpm = np.array(tab['lpm'][w])\n",
    "bpm = np.array(tab['bpm'][w])\n",
    "x = np.array(RminusI[w])\n",
    "y = np.array(f606w[w])\n",
    "\n",
    "nbins = 50\n",
    "count2d, yedge, xedge = np.histogram2d(y, x, bins=nbins)\n",
    "lpm_sum = np.histogram2d(y, x, bins=nbins, weights=lpm-lpm.mean())[0]\n",
    "bpm_sum = np.histogram2d(y, x, bins=nbins, weights=bpm-bpm.mean())[0]\n",
    "lpm_sumsq = np.histogram2d(y, x, bins=nbins, weights=(lpm-lpm.mean())**2)[0]\n",
    "bpm_sumsq = np.histogram2d(y, x, bins=nbins, weights=(bpm-bpm.mean())**2)[0]\n",
    "\n",
    "ccount = count2d.clip(1) \n",
    "lpm_mean = lpm_sum/ccount\n",
    "bpm_mean = bpm_sum/ccount\n",
    "lpm_rms = np.sqrt(lpm_sumsq/ccount-lpm_mean**2)\n",
    "bpm_rms = np.sqrt(bpm_sumsq/ccount-bpm_mean**2)\n",
    "lpm_msigma = lpm_rms/np.sqrt(ccount)\n",
    "bpm_msigma = bpm_rms/np.sqrt(ccount)\n",
    "\n",
    "ww = np.where(count2d > 100)\n",
    "yy, xx = np.mgrid[:nbins, :nbins]\n",
    "xx = (0.5*(xedge[1:]+xedge[:-1]))[xx]\n",
    "yy = (0.5*(yedge[1:]+yedge[:-1]))[yy]"
   ]
  },
  {
   "cell_type": "code",
   "execution_count": null,
   "metadata": {},
   "outputs": [],
   "source": [
    "fig, ax = plt.subplots(figsize=(12, 10))\n",
    "\n",
    "Q = ax.quiver(xx[ww], yy[ww], lpm_mean[ww], bpm_mean[ww], color='red', width=0.0015)\n",
    "qlength = 5\n",
    "ax.quiverkey(Q, 0.8, 0.97, qlength, f'{qlength} mas/yr', coordinates='axes', labelpos='W')\n",
    "ax.invert_yaxis()\n",
    "_ = ax.set(xlabel='A_F606W - A_F814W', ylabel='A_F606W',\n",
    "           xlim=(xedge[0], xedge[-1]), ylim=(yedge[-1], yedge[0]))"
   ]
  },
  {
   "cell_type": "markdown",
   "metadata": {},
   "source": [
    "## RMS in longitude PM as a function of color/magnitude"
   ]
  },
  {
   "cell_type": "markdown",
   "metadata": {},
   "source": [
    "# Mean longitude PM as image"
   ]
  },
  {
   "cell_type": "code",
   "execution_count": null,
   "metadata": {},
   "outputs": [],
   "source": [
    "fig, (ax1, ax2, ax3) = plt.subplots(nrows=1, ncols=3, figsize=(20, 6), tight_layout=True, sharey=True)\n",
    "\n",
    "# plot ax1\n",
    "p1 = ax1.scatter(xs, ys, c=zs, s=2, edgecolors='none', cmap='plasma')\n",
    "ax1.set(xlabel='A_F606W - A_F814W', ylabel='A_F606W',\n",
    "        title=f'Color-magnitude\\n{len(x):,} stars in SWEEPS')\n",
    "ax1.set(xlim=(xedge[0], xedge[-1]), ylim=(yedge[0], yedge[-1]))\n",
    "ax1.invert_yaxis()\n",
    "fig.colorbar(p1, ax=ax1)\n",
    "\n",
    "# plot ax2\n",
    "mask = (lpm_msigma <= 1.0) & (count2d > 10)\n",
    "im2 = (lpm_mean+lpm.mean())*mask\n",
    "im2[~mask] = np.nan\n",
    "vmax = np.nanmax(np.abs(im2))\n",
    "\n",
    "p2 = ax2.imshow(im2, cmap='RdYlGn', aspect=\"auto\", origin=\"lower\",\n",
    "                extent=(xedge[0], xedge[-1], yedge[0], yedge[-1]))\n",
    "ax2.set(xlabel='A_F606W - A_F814W',\n",
    "        title='Mean Longitude PM\\n$\\\\sigma(\\\\mathrm{PM}) \\\\leq 1$ and $N > 10$')\n",
    "ax2.set(xlim=(xedge[0], xedge[-1]), ylim=(yedge[0], yedge[-1]))\n",
    "ax2.invert_yaxis()\n",
    "cb2 = fig.colorbar(p2, ax=ax2)\n",
    "cb2.ax.set_ylabel('mas/yr', rotation=270, labelpad=15)\n",
    "\n",
    "# plat ax3\n",
    "im3 = lpm_rms*(count2d > 10)\n",
    "\n",
    "p3 = ax3.imshow(im3, cmap='magma', aspect=\"auto\", origin=\"lower\",\n",
    "                extent=(xedge[0], xedge[-1], yedge[0], yedge[-1]),\n",
    "                norm=LogNorm(vmin=im3[im3 > 0].min(), vmax=im3.max()))\n",
    "ax3.set(xlabel='A_F606W - A_F814W',\n",
    "        title='RMS in Longitude PM\\nN > 10')\n",
    "ax3.set(xlim=(xedge[0], xedge[-1]), ylim=(yedge[0], yedge[-1]))\n",
    "ax3.invert_yaxis()\n",
    "cb3 = fig.colorbar(p3, ax=ax3)\n",
    "_ = cb3.ax.set_ylabel('mas/yr', rotation=270)"
   ]
  },
  {
   "cell_type": "markdown",
   "metadata": {},
   "source": [
    "## Mean latitude PM as image"
   ]
  },
  {
   "cell_type": "code",
   "execution_count": null,
   "metadata": {},
   "outputs": [],
   "source": [
    "fig, (ax1, ax2, ax3) = plt.subplots(nrows=1, ncols=3, figsize=(20, 6), tight_layout=True, sharey=True)\n",
    "\n",
    "# plot ax1\n",
    "p1 = ax1.scatter(xs, ys, c=zs, s=2, edgecolors='none', cmap='plasma')\n",
    "ax1.set(xlabel='A_F606W - A_F814W', ylabel='A_F606W',\n",
    "        title=f'Color-magnitude\\n{len(x):,} stars in SWEEPS')\n",
    "ax1.set(xlim=(xedge[0], xedge[-1]), ylim=(yedge[0], yedge[-1]))\n",
    "ax1.invert_yaxis()\n",
    "fig.colorbar(p1, ax=ax1)\n",
    "\n",
    "# plot ax2\n",
    "mask = (bpm_msigma <= 1.0) & (count2d > 10)\n",
    "im2 = (bpm_mean+bpm.mean())*mask\n",
    "im2[~mask] = np.nan\n",
    "vmax = np.nanmax(np.abs(im2))\n",
    "\n",
    "p2 = ax2.imshow(im2, cmap='RdYlGn', aspect=\"auto\", origin=\"lower\",\n",
    "                extent=(xedge[0], xedge[-1], yedge[0], yedge[-1]))\n",
    "ax2.set(xlabel='A_F606W - A_F814W',\n",
    "        title='Mean Latitude PM\\n$\\\\sigma(\\\\mathrm{PM}) \\\\leq 1$ and $N > 10$')\n",
    "ax2.set(xlim=(xedge[0], xedge[-1]), ylim=(yedge[0], yedge[-1]))\n",
    "ax2.invert_yaxis()\n",
    "cb2 = fig.colorbar(p2, ax=ax2)\n",
    "cb2.ax.set_ylabel('mas/yr', rotation=270, labelpad=15)\n",
    "\n",
    "# plot ax3\n",
    "im3 = bpm_rms*(count2d > 10)\n",
    "\n",
    "p3 = ax3.imshow(im3, cmap='magma', aspect=\"auto\", origin=\"lower\",\n",
    "                extent=(xedge[0], xedge[-1], yedge[0], yedge[-1]),\n",
    "                norm=LogNorm(vmin=im3[im3 > 0].min(), vmax=im3.max()))\n",
    "ax3.set(xlabel='A_F606W - A_F814W',\n",
    "        title='RMS in Latitude PM\\nN > 10')\n",
    "ax3.set(xlim=(xedge[0], xedge[-1]), ylim=(yedge[0], yedge[-1]))\n",
    "ax3.invert_yaxis()\n",
    "cb3 = fig.colorbar(p3, ax=ax3)\n",
    "_ = cb3.ax.set_ylabel('mas/yr', rotation=270)"
   ]
  },
  {
   "cell_type": "markdown",
   "metadata": {},
   "source": [
    "# Proper Motions in Bulge and Disk <a class=\"anchor\" id=\"bulgedisk\"></a>"
   ]
  },
  {
   "cell_type": "markdown",
   "metadata": {},
   "source": [
    "## Fit a smooth function to the main ridgeline of color-magnitude diagram\n",
    "Fit the R-I vs R values, but force the function to increase montonically with R.  We use a log transform of the y coordinate to help."
   ]
  },
  {
   "cell_type": "code",
   "execution_count": null,
   "metadata": {},
   "outputs": [],
   "source": [
    "# locate ridge line\n",
    "iridgex = np.argmax(myPDF, axis=1)\n",
    "pdfx = myPDF[np.arange(len(iridgex), dtype=int), iridgex]\n",
    "# pdfx = myPDF.max(axis=1)\n",
    "wx = np.where(pdfx > 0.1)[0]\n",
    "iridgex = iridgex[wx]\n",
    "# use weighted sum of 2*hw+1 points around peak\n",
    "hw = 10\n",
    "pridgex = 0.0\n",
    "pdenom = 0.0\n",
    "for k in range(-hw, hw+1):\n",
    "    wt = myPDF[wx, iridgex+k]\n",
    "    pridgex = pridgex + k*wt\n",
    "    pdenom = pdenom + wt\n",
    "pridgex = iridgex + pridgex/pdenom\n",
    "ridgex = np.interp(pridgex, np.arange(len(axes[0])), axes[0])\n",
    "\n",
    "# Fit the data using a polynomial model\n",
    "x0 = axes[1][wx].min()\n",
    "x1 = axes[1][wx].max()\n",
    "p_init = models.Polynomial1D(9)\n",
    "fit_p = fitting.LinearLSQFitter()\n",
    "xx = (axes[1][wx]-x0)/(x1-x0)\n",
    "yoff = 0.65\n",
    "yy = np.log(ridgex - yoff)\n",
    "p = fit_p(p_init, xx, yy)\n",
    "\n",
    "# define useful functions for the ridge line\n",
    "\n",
    "\n",
    "def ridge_color(f606w, function=p, yoff=yoff, x0=x0, x1=x1):\n",
    "    \"\"\"Return R-I position of ridge line as a function of f606w magnitude\n",
    "    \n",
    "    function, yoff, x0, x1 are from polynomial fit above\n",
    "    \"\"\"\n",
    "    return yoff + np.exp(p((f606w-x0)/(x1-x0)))\n",
    "\n",
    "\n",
    "# calculate grid of function values for approximate inversion\n",
    "rxgrid = axes[1][wx]\n",
    "rygrid = ridge_color(rxgrid)\n",
    "color_domain = [rygrid[0], rygrid[-1]]\n",
    "mag_domain = [axes[1][wx[0]], axes[1][wx[-1]]]\n",
    "print(f\"color_domain {color_domain}\")\n",
    "print(f\"mag_domain   {mag_domain}\")\n",
    "\n",
    "\n",
    "def ridge_mag(RminusI, xgrid=rxgrid, ygrid=rygrid):\n",
    "    \"\"\"Return f606w position of ridge line as a function of R-I color\n",
    "    \n",
    "    Uses simple linear interpolation to get approximate value\n",
    "    \"\"\"\n",
    "    f606w = np.interp(RminusI, ygrid, xgrid)\n",
    "    f606w[(RminusI < ygrid[0]) | (RminusI > ygrid[-1])] = np.nan\n",
    "    return f606w"
   ]
  },
  {
   "cell_type": "markdown",
   "metadata": {},
   "source": [
    "Plot the results to check that they look reasonable."
   ]
  },
  {
   "cell_type": "code",
   "execution_count": null,
   "metadata": {},
   "outputs": [],
   "source": [
    "ridgexf = yoff + np.exp(p(xx))\n",
    "\n",
    "fig, (ax1, ax2) = plt.subplots(nrows=1, ncols=2, figsize=(12, 6), tight_layout=True)\n",
    "\n",
    "ax1.plot(axes[1][wx], ridgex, 'bo')\n",
    "ax1.plot(axes[1][wx], ridgexf, color='red')\n",
    "ax1.set(xlabel='R', ylabel='R-I')\n",
    "\n",
    "# check the derivative plot to see if it stays positive\n",
    "deriv = (np.exp(p(xx)) * \n",
    "         models.Polynomial1D.horner(xx, (p.parameters * np.arange(len(p.parameters)))[1:]))\n",
    "\n",
    "ax2.semilogy(axes[1][wx], np.exp(p(xx)) *\n",
    "             models.Polynomial1D.horner(xx, (p.parameters * np.arange(len(p.parameters)))[1:]), color='red')\n",
    "_ = ax2.set(xlabel='R', ylabel='Fit derivative', title=f'Min deriv {deriv.min():.6f}')"
   ]
  },
  {
   "cell_type": "markdown",
   "metadata": {},
   "source": [
    "## Plot the ridgeline on the CMD"
   ]
  },
  {
   "cell_type": "code",
   "execution_count": null,
   "metadata": {},
   "outputs": [],
   "source": [
    "fig, ax = plt.subplots(figsize=(12, 10))\n",
    "\n",
    "sc = ax.scatter(xs, ys, c=zs, s=2, edgecolors='none', cmap='plasma')\n",
    "\n",
    "# overplot ridge line\n",
    "ax.plot(ridge_color(axes[1][wx]), axes[1][wx], color='red')\n",
    "ax.plot(axes[0], ridge_mag(axes[0]), color='green')\n",
    "\n",
    "ax.set(xlabel='A_F606W - A_F814W', ylabel='A_F606W',\n",
    "       title=f'Color-magnitude\\n{len(x):,} stars in SWEEPS',\n",
    "       xlim=(xedge[0], xedge[-1]), ylim=(yedge[0], yedge[-1]))\n",
    "ax.invert_yaxis()\n",
    "_ = fig.colorbar(sc, ax=ax)"
   ]
  },
  {
   "cell_type": "markdown",
   "metadata": {},
   "source": [
    "## Binned distribution of PM(Long) vs magnitude offset from ridge line"
   ]
  },
  {
   "cell_type": "code",
   "execution_count": null,
   "metadata": {},
   "outputs": [],
   "source": [
    "yloc = ridge_mag(x)\n",
    "x1 = x[np.isfinite(yloc)]\n",
    "wy = np.where((axes[0] >= x1.min()) & (axes[0] <= x1.max()))[0]\n",
    "ridgey = ridge_mag(axes[0][wy])\n",
    "\n",
    "# Weighted histogram\n",
    "dmagmin = -2.0\n",
    "dmagmax = 1.0\n",
    "xmax = axes[0][wy[-1]]\n",
    "# xmin = axes[0][wy[0]]\n",
    "xmin = 1.0\n",
    "wsel = np.where((y-yloc >= dmagmin) & (y-yloc <= dmagmax) & (x >= xmin) & (x <= xmax))[0]\n",
    "\n",
    "x2 = y[wsel]-yloc[wsel]\n",
    "y2 = lpm[wsel]-lpm.mean()\n",
    "hrange = (dmagmin, dmagmax)\n",
    "hbins = 50\n",
    "count1d, xedge1d = np.histogram(x2, range=hrange, bins=hbins)\n",
    "lpm_sum1d = np.histogram(x2, range=hrange, bins=hbins, weights=y2)[0]\n",
    "lpm_sumsq1d = np.histogram(x2, range=hrange, bins=hbins, weights=y2**2)[0]\n",
    "\n",
    "ccount1d = count1d.clip(1)\n",
    "lpm_mean1d = lpm_sum1d/ccount1d\n",
    "lpm_rms1d = np.sqrt(lpm_sumsq1d/ccount1d-lpm_mean1d**2)\n",
    "lpm_msigma1d = lpm_rms1d/np.sqrt(ccount1d)\n",
    "lpm_mean1d += lpm.mean()\n",
    "\n",
    "x1d = 0.5*(xedge1d[1:]+xedge1d[:-1])\n",
    "\n",
    "xboundary = np.hstack((axes[0][wy], axes[0][wy[::-1]]))\n",
    "yboundary = np.hstack((ridgey+dmagmax, ridgey[::-1]+dmagmin))\n",
    "wb = np.where((xboundary >= xmin) & (xboundary <= xmax))\n",
    "xboundary = xboundary[wb]\n",
    "yboundary = yboundary[wb]\n",
    "print(xboundary[0], yboundary[0], xboundary[-1], yboundary[-1])\n",
    "print(xboundary.shape, yboundary.shape)\n",
    "xboundary = np.append(xboundary, xboundary[0])\n",
    "yboundary = np.append(yboundary, yboundary[0])\n",
    "\n",
    "# don't plot huge error points\n",
    "wp = np.where(lpm_msigma1d < 1)"
   ]
  },
  {
   "cell_type": "code",
   "execution_count": null,
   "metadata": {},
   "outputs": [],
   "source": [
    "fig, (ax1, ax2) = plt.subplots(nrows=1, ncols=2, figsize=(14, 7), tight_layout=True)\n",
    "\n",
    "ax1.scatter(xs, ys, c=zs, s=2, edgecolors='none', cmap='plasma')\n",
    "ax1.plot(xboundary, yboundary, color='red')\n",
    "ax1.set(xlabel='R - I (A_F606W - A_F814W)', ylabel='R (A_F606W)',\n",
    "        title=f'Color-magnitude\\n{len(x):,} stars in SWEEPS',\n",
    "        xlim=(xedge[0], xedge[-1]), ylim=(yedge[0], yedge[-1]))\n",
    "ax1.invert_yaxis()\n",
    "\n",
    "ax2.errorbar(x1d[wp], lpm_mean1d[wp], xerr=(xedge1d[1]-xedge1d[0])/2.0, yerr=lpm_msigma1d[wp], linestyle='')\n",
    "ax2.set(xlabel='Distance from ridge line [R mag]', ylabel='Mean Longitude PM [mas/yr]',\n",
    "        title=f'{len(x2):,} stars in SWEEPS\\n1-sigma error bars on mean PM')\n",
    "ax2.invert_xaxis()"
   ]
  },
  {
   "cell_type": "markdown",
   "metadata": {
    "tags": []
   },
   "source": [
    "## Reproduce Figure 1 from [Calamida et al. 2014][1]\n",
    "\n",
    "![image][2]\n",
    "\n",
    "\n",
    "  [1]: https://ui.adsabs.harvard.edu/abs/2014ApJ...790..164C\n",
    "  [2]: apj498303f1_hr.jpg"
   ]
  },
  {
   "cell_type": "code",
   "execution_count": null,
   "metadata": {},
   "outputs": [],
   "source": [
    "w = np.where((RminusI > 0) & (RminusI < 3) & good)[0]\n",
    "\n",
    "# Calculate the point density\n",
    "x = np.array(RminusI[w])\n",
    "y = np.array(f606w[w])\n",
    "myPDF, axes = fastKDE.pdf(x, y, numPoints=2**10+1)\n",
    "finterp = RectBivariateSpline(axes[1], axes[0], myPDF)\n",
    "z = finterp(y, x, grid=False)\n",
    "idx = z.argsort()\n",
    "xs, ys, zs = x[idx], y[idx], z[idx]\n",
    "\n",
    "# select a random subset of points in the most crowded regions to speed up plotting\n",
    "wran = np.where(np.random.random(len(zs))*zs < 0.1)[0]\n",
    "print(f\"Plotting {len(wran)} of {len(zs)} points\")\n",
    "xs = xs[wran]\n",
    "ys = ys[wran]\n",
    "zs = zs[wran]\n",
    "\n",
    "# locate ridge line in magnitude as a function of color\n",
    "xloc = ridge_color(y)\n",
    "ridgex = ridge_color(axes[1][wx])\n",
    "\n",
    "# locate ridge line in color as function of magnitude\n",
    "yloc = ridge_mag(x)\n",
    "x1 = x[np.isfinite(yloc)]\n",
    "wy = np.where((axes[0] >= x1.min()) & (axes[0] <= x1.max()))[0]\n",
    "ridgey = ridge_mag(axes[0][wy])\n",
    "\n",
    "# low-noise objects\n",
    "print(f\"Selected {len(w):,} low-noise objects\")\n",
    "\n",
    "# red objects\n",
    "ylim = yloc - 1.5 - (yloc - 25.0).clip(0)/(1+10.0**(-0.4*(yloc-26.0)))\n",
    "wred = np.where((y < 25) & (y > 19.5) & (y < ylim) & (x-xloc > 0.35))[0]\n",
    "# wred = np.where((y<25) & (y > 19.5) & ((y-yloc) < -1.5)\n",
    "#                   & (x-xloc > 0.3))[0]\n",
    "#                   & (x > 1.1) & (x < 2.5) & (x-xloc > 0.2))[0]\n",
    "print(f\"Selected {len(wred):,} red objects\")\n",
    "# main sequence objects\n",
    "wmain = np.where((y > 21) & (y < 22.4) & (np.abs(x-xloc) < 0.1))[0]\n",
    "print(f\"Initially selected {len(wmain):,} MS objects\")\n",
    "# sort by distance from ridge and select the closest\n",
    "wmain = wmain[np.argsort(np.abs(x[wmain]-xloc[wmain]))]\n",
    "wmain = wmain[:len(wred)]\n",
    "print(f\"Selected {len(wmain):,} MS objects closest to ridge\")"
   ]
  },
  {
   "cell_type": "code",
   "execution_count": null,
   "metadata": {},
   "outputs": [],
   "source": [
    "fig = plt.figure(figsize=(12, 8), tight_layout=True)\n",
    "gs = gridspec.GridSpec(2, 2, width_ratios=[2, 1])\n",
    "\n",
    "ax1 = fig.add_subplot(gs[:, 0])\n",
    "ax2 = fig.add_subplot(gs[0, 1])\n",
    "ax3 = fig.add_subplot(gs[1, 1])\n",
    "\n",
    "# plot ax1\n",
    "ax1.scatter(xs, ys, c=zs, s=2, cmap='plasma', edgecolors='none')\n",
    "ax1.scatter(x[wred], y[wred], c='red', s=2, edgecolors='none')\n",
    "ax1.scatter(x[wmain], y[wmain], c='blue', s=2, edgecolors='none')\n",
    "ax1.set(xlabel='F606W-F814W [mag]', ylabel='F606W [mag]', title=f'{len(x):,} stars in SWEEPS',\n",
    "        xlim=(0, 3), ylim=(18, 27.5))\n",
    "ax1.invert_yaxis()\n",
    "\n",
    "# plot ax2\n",
    "lrange = (-20, 5)\n",
    "brange = (-12.5, 12.5)\n",
    "\n",
    "# MS and red points in random order\n",
    "wsel = w[np.append(wmain, wred)]\n",
    "colors = np.array(['blue']*len(wsel))\n",
    "colors[len(wmain):] = 'red'\n",
    "irs = np.argsort(np.random.random(len(wsel)))\n",
    "wsel = wsel[irs]\n",
    "colors = colors[irs]\n",
    "\n",
    "masks = [w, wsel]\n",
    "sizes = [0.1, 2]\n",
    "colors2 = ['darkgray', colors]\n",
    "\n",
    "for mask, color, size in zip(masks, colors2, sizes):\n",
    "    ax2.scatter('lpm', 'bpm', data=tab[mask], c=color, s=size)\n",
    "\n",
    "ax2.set(ylabel='Latitude PM [mas/yr]', xlim=lrange, ylim=brange)\n",
    "\n",
    "# plot ax3\n",
    "bins = 0.5\n",
    "bincount = int((lrange[1]-lrange[0])/bins + 0.5) + 1\n",
    "\n",
    "masks = [w[wmain], w[wred]]\n",
    "labels = ['MS', 'Red']\n",
    "colors = ['b', 'r']\n",
    "\n",
    "for mask, label, color in zip(masks, labels, colors):\n",
    "    ax3.hist('lpm', data=tab[mask], range=lrange, bins=bincount, label=label, color=color, histtype='step')\n",
    "\n",
    "ax3.set(xlabel='Longitude PM [mas/yr]', ylabel=f'Number [in {bins:.2} mas bins]')\n",
    "_ = ax3.legend(loc='upper left')"
   ]
  },
  {
   "cell_type": "markdown",
   "metadata": {},
   "source": [
    "# Mean and median proper motions of bulge stars compared with SgrA*\n",
    "\n",
    "(-6.379 $\\pm$ 0.026, -0.202 $\\pm$ 0.019) mas/yr  <a href=\"http://adsabs.harvard.edu/abs/2004ApJ...616..872R\">Reid and Brunthaler (2004)</a>"
   ]
  },
  {
   "cell_type": "code",
   "execution_count": null,
   "metadata": {},
   "outputs": [],
   "source": [
    "lpmmain = np.mean(tab['lpm'][w[wmain]])\n",
    "bpmmain = np.mean(tab['bpm'][w[wmain]])\n",
    "\n",
    "norm = 1.0/np.sqrt(len(tab['lpm'][w[wmain]]))\n",
    "print(\"Bulge stars mean PM longitude {:.2f} +- {:.3f} latitude {:.2f} +- {:.3f}\".format(\n",
    "    np.mean(tab['lpm'][w[wmain]]), norm*np.std(tab['lpm'][w[wmain]]),\n",
    "    np.mean(tab['bpm'][w[wmain]]), norm*np.std(tab['bpm'][w[wmain]])\n",
    "    ))\n",
    "\n",
    "norm = 1.2533/np.sqrt(len(tab['lpm'][w[wmain]]))\n",
    "print(\"Bulge stars median PM longitude {:.2f} +- {:.3f} latitude {:.2f} +- {:.3f}\".format(\n",
    "    np.median(tab['lpm'][w[wmain]]), norm*np.std(tab['lpm'][w[wmain]]),\n",
    "    np.median(tab['bpm'][w[wmain]]), norm*np.std(tab['bpm'][w[wmain]])\n",
    "    ))"
   ]
  },
  {
   "cell_type": "markdown",
   "metadata": {},
   "source": [
    "# White Dwarfs <a class=\"anchor\" id=\"wd\"></a>"
   ]
  },
  {
   "cell_type": "code",
   "execution_count": null,
   "metadata": {},
   "outputs": [],
   "source": [
    "w = np.where((RminusI > 0) & (RminusI < 3) & good)[0]\n",
    "\n",
    "wwd = np.where((RminusI < 0.7)\n",
    "               & (RminusI > 0) \n",
    "               & (f606w > 22.5) \n",
    "               & good \n",
    "               & (tab['lpm'] < 5) \n",
    "               & (tab['lpm'] > -20))[0]\n",
    "xwd = np.array(RminusI[wwd])\n",
    "ywd = np.array(f606w[wwd])\n",
    "\n",
    "# Calculate the point density\n",
    "x = np.array(RminusI[w])\n",
    "y = np.array(f606w[w])\n",
    "\n",
    "myPDF, axes = fastKDE.pdf(x, y, numPoints=2**10+1)\n",
    "finterp = RectBivariateSpline(axes[1], axes[0], myPDF)\n",
    "z = finterp(y, x, grid=False)\n",
    "idx = z.argsort()\n",
    "xs, ys, zs = x[idx], y[idx], z[idx]\n",
    "\n",
    "# select a random subset of points in the most crowded regions to speed up plotting\n",
    "wran = np.where(np.random.random(len(zs))*zs < 0.1)[0]\n",
    "print(f\"Plotting {len(wran)} of {len(zs)} points\")\n",
    "xs = xs[wran]\n",
    "ys = ys[wran]\n",
    "zs = zs[wran]\n",
    "\n",
    "# locate ridge line in magnitude as a function of color\n",
    "xloc = ridge_color(y)\n",
    "ridgex = ridge_color(axes[1][wx])\n",
    "\n",
    "# locate ridge line in color as function of magnitude\n",
    "yloc = ridge_mag(x)\n",
    "x1 = x[np.isfinite(yloc)]\n",
    "wy = np.where((axes[0] >= x1.min()) & (axes[0] <= x1.max()))[0]\n",
    "ridgey = ridge_mag(axes[0][wy])\n",
    "\n",
    "# low-noise objects\n",
    "print(f\"Selected {len(w):,} low-noise objects\")\n",
    "\n",
    "# red objects\n",
    "ylim = yloc - 1.5 - (yloc - 25.0).clip(0)/(1+10.0**(-0.4*(yloc-26.0)))\n",
    "wred = np.where((y < 25) & (y > 19.5) & (y < ylim) & (x-xloc > 0.35))[0]\n",
    "# wred = np.where((y < 25) & (y > 19.5) & ((y-yloc) < -1.5)\n",
    "#                   & (x-xloc > 0.3))[0]\n",
    "#                   & (x > 1.1) & (x < 2.5) & (x-xloc > 0.2))[0]\n",
    "print(\"Selected {:,} red objects\".format(len(wred)))\n",
    "# main sequence objects\n",
    "wmain = np.where((y > 21) & (y < 22.4) & (np.abs(x-xloc) < 0.1))[0]\n",
    "print(\"Initially selected {:,} MS objects\".format(len(wmain)))\n",
    "# sort by distance from ridge and select the closest\n",
    "wmain = wmain[np.argsort(np.abs(x[wmain]-xloc[wmain]))]\n",
    "wmain = wmain[:len(wred)]\n",
    "print(f\"Selected {len(wmain):,} MS objects closest to ridge\")"
   ]
  },
  {
   "cell_type": "code",
   "execution_count": null,
   "metadata": {},
   "outputs": [],
   "source": [
    "fig = plt.figure(figsize=(12, 8), tight_layout=True)\n",
    "gs = gridspec.GridSpec(2, 2, width_ratios=[2, 1])\n",
    "\n",
    "ax1 = fig.add_subplot(gs[:, 0])\n",
    "ax2 = fig.add_subplot(gs[0, 1])\n",
    "ax3 = fig.add_subplot(gs[1, 1])\n",
    "\n",
    "# plot ax1\n",
    "ax1.scatter(xs, ys, c=zs, s=2, cmap='plasma', edgecolors='none')\n",
    "ax1.scatter(x[wred], y[wred], c='red', s=2, edgecolors='none')\n",
    "ax1.scatter(x[wmain], y[wmain], c='blue', s=2, edgecolors='none')\n",
    "ax1.scatter(xwd, ywd, c='green', s=10, edgecolors='none')\n",
    "ax1.set(xlabel='F606W-F814W [mag]', ylabel='F606W [mag]',\n",
    "        title=f'{len(x):,} stars in SWEEPS', xlim=(0, 3), ylim=(18, 27.5))\n",
    "ax1.invert_yaxis()\n",
    "\n",
    "# plot ax2\n",
    "lrange = (-20, 5)\n",
    "brange = (-12.5, 12.5)\n",
    "\n",
    "# MS and red points in random order\n",
    "wsel = w[np.append(wmain, wred)]\n",
    "colors = np.array(['blue']*len(wsel))\n",
    "colors[len(wmain):] = 'red'\n",
    "irs = np.argsort(np.random.random(len(wsel)))\n",
    "wsel = wsel[irs]\n",
    "colors = colors[irs]\n",
    "\n",
    "masks = [w, wsel, wwd]\n",
    "sizes = [0.1, 2, 2]\n",
    "colors2 = ['darkgray', colors, 'green']\n",
    "\n",
    "for mask, color, size in zip(masks, colors2, sizes):\n",
    "    ax2.scatter('lpm', 'bpm', data=tab[mask], c=color, s=size)\n",
    "\n",
    "ax2.set(ylabel='Latitude PM [mas/yr]', xlim=lrange, ylim=brange)\n",
    "\n",
    "# plot ax3\n",
    "bins = 0.5\n",
    "bincount = int((lrange[1]-lrange[0])/bins + 0.5) + 1\n",
    "\n",
    "masks = [wwd, w[wmain], w[wred]]\n",
    "labels = ['WD', 'MS', 'Red']\n",
    "colors = ['g', 'b', 'r']\n",
    "\n",
    "for mask, label, color in zip(masks, labels, colors):\n",
    "    ax3.hist('lpm', data=tab[mask], range=lrange, bins=bincount, label=label, color=color, histtype='step')\n",
    "\n",
    "ax3.set(xlabel='Longitude PM [mas/yr]', ylabel=f'Number [in {bins:.2} mas bins]')\n",
    "_ = ax3.legend(loc='upper left')"
   ]
  },
  {
   "cell_type": "markdown",
   "metadata": {},
   "source": [
    "## White dwarf mean PM and uncertainity"
   ]
  },
  {
   "cell_type": "code",
   "execution_count": null,
   "metadata": {},
   "outputs": [],
   "source": [
    "norm = 1.0/np.sqrt(len(tab['lpm'][wwd]))\n",
    "print(\"WD PM mean +- stdev longitude {:.2f} +- {:.3f} latitude {:.2f} +- {:.3f}\".format(\n",
    "    np.mean(tab['lpm'][wwd]), norm*np.std(tab['lpm'][wwd]),\n",
    "    np.mean(tab['bpm'][wwd]), norm*np.std(tab['bpm'][wwd])\n",
    "    ))"
   ]
  },
  {
   "cell_type": "markdown",
   "metadata": {},
   "source": [
    "## WDs generally closer to bulge (MS) PM distribution"
   ]
  },
  {
   "cell_type": "code",
   "execution_count": null,
   "metadata": {},
   "outputs": [],
   "source": [
    "bins = 0.5\n",
    "bincount = int((lrange[1]-lrange[0])/bins + 0.5) + 1\n",
    "\n",
    "masks = [wwd, w[wmain], w[wred]]\n",
    "labels = ['WD', 'MS', 'Red']\n",
    "colors = ['g', 'b', 'r']\n",
    "\n",
    "fig, ax = plt.subplots(figsize=(8, 6))\n",
    "\n",
    "for mask, label, color in zip(masks, labels, colors):\n",
    "    ax.hist('lpm', data=tab[mask], range=lrange, bins=bincount, label=label, color=color, histtype='step', density=True, cumulative=1)\n",
    "    \n",
    "ax.set(xlabel='Longitude PM [mas/yr]', ylabel='Cumulative fraction')\n",
    "_ = ax.legend(loc='upper left')"
   ]
  },
  {
   "cell_type": "markdown",
   "metadata": {},
   "source": [
    "## Look for quasar candidates (low PM blue stars)  <a class=\"anchor\" id=\"qsocan\"></a>\n",
    "Note this includes all objects, not just \"good\" objects with low mag noise, because quasars might be variable too."
   ]
  },
  {
   "cell_type": "code",
   "execution_count": null,
   "metadata": {},
   "outputs": [],
   "source": [
    "wqso1 = np.where((RminusI < 0.5)\n",
    "                 & (np.sqrt(tab['bpm']**2+tab['lpm']**2) < 1.0)\n",
    "                 & (tab['NumFilters'] > 2))[0]\n",
    "wqso1 = wqso1[np.argsort(f606w[wqso1])]\n",
    "tab[wqso1]"
   ]
  },
  {
   "cell_type": "code",
   "execution_count": null,
   "metadata": {},
   "outputs": [],
   "source": [
    "fig, ax = plt.subplots(figsize=(10, 10))\n",
    "ax.scatter(xs, ys, c=zs, s=2, edgecolors='none', cmap='plasma')\n",
    "ax.plot(RminusI[wqso1], f606w[wqso1], 'rs', markersize=10, fillstyle='none')\n",
    "ax.set(xlim=(xedge[0], xedge[-1]), ylim=(yedge[0], yedge[-1]))\n",
    "ax.set(xlabel='R - I (A_F606W - A_F814W)', ylabel='R (A_F606W)',\n",
    "       title=f'{len(x):,} stars in SWEEPS\\n{len(wqso1)} low PM blue stars with NumFilters$\\\\geq3$')\n",
    "ax.invert_yaxis()"
   ]
  },
  {
   "cell_type": "code",
   "execution_count": null,
   "metadata": {},
   "outputs": [],
   "source": [
    "objid = tab['ObjID']\n",
    "print(f\"Plotting {len(wqso1)} objects\")\n",
    "for o in objid[wqso1]:\n",
    "    positions(o, jobs=jobs)"
   ]
  },
  {
   "cell_type": "markdown",
   "metadata": {},
   "source": [
    "### Try again with different criteria on proper motion fit quality"
   ]
  },
  {
   "cell_type": "code",
   "execution_count": null,
   "metadata": {},
   "outputs": [],
   "source": [
    "wqso2 = np.where((RminusI < 0.5)\n",
    "                 & (np.sqrt(tab['bpm']**2+tab['lpm']**2) < 2.0)\n",
    "                 & (np.sqrt(tab['bpmerr']**2+tab['lpmerr']**2) < 2.0)\n",
    "                 & (tab['pmdev'] < 4.0))[0]\n",
    "wqso2 = wqso2[np.argsort(f606w[wqso2])]\n",
    "tab[wqso2]"
   ]
  },
  {
   "cell_type": "code",
   "execution_count": null,
   "metadata": {},
   "outputs": [],
   "source": [
    "fig, ax = plt.subplots(figsize=(10, 10))\n",
    "ax.scatter(xs, ys, c=zs, s=2, edgecolors='none', cmap='plasma')\n",
    "ax.plot(RminusI[wqso2], f606w[wqso2], 'rs', markersize=10, fillstyle='none')\n",
    "ax.set(xlabel='R - I (A_F606W - A_F814W)', ylabel='R (A_F606W)',\n",
    "       xlim=(xedge[0], xedge[-1]), ylim=(yedge[0], yedge[-1]),\n",
    "       title=f'{len(x):,} stars in SWEEPS\\n{len(wqso2)} low PM blue stars\\nwith NumFilters$\\\\geq3$')\n",
    "ax.invert_yaxis()"
   ]
  },
  {
   "cell_type": "code",
   "execution_count": null,
   "metadata": {},
   "outputs": [],
   "source": [
    "objid = tab['ObjID']\n",
    "print(f\"Plotting {len(wqso2)} objects\")\n",
    "for o in objid[wqso2]:\n",
    "    positions(o, jobs=jobs)"
   ]
  },
  {
   "cell_type": "markdown",
   "metadata": {},
   "source": [
    "# High Proper Motion Objects  <a class=\"anchor\" id=\"hpm\"></a>\n",
    "\n",
    "Get a list of objects with high, accurately measured proper motions.\n",
    "Proper motions are measured relative to the main sequence sample (Galactic center approximately)."
   ]
  },
  {
   "cell_type": "code",
   "execution_count": null,
   "metadata": {},
   "outputs": [],
   "source": [
    "f606w = tab['a_f606w']\n",
    "f814w = tab['a_f814w']\n",
    "RminusI = f606w-f814w\n",
    "lpm0 = np.array(tab['lpm'])\n",
    "bpm0 = np.array(tab['bpm'])\n",
    "lpmerr0 = np.array(tab['lpmerr'])\n",
    "bpmerr0 = np.array(tab['bpmerr'])\n",
    "pmtot0 = np.sqrt((bpm0-bpmmain)**2+(lpm0-lpmmain)**2)\n",
    "pmerr0 = np.sqrt(bpmerr0**2+lpmerr0**2)\n",
    "\n",
    "# sort samples by decreasing PM\n",
    "wpml = np.where((pmtot0 > 12) & (pmtot0 < 15) & (pmerr0 < 1.0) & good)[0]\n",
    "wpml = wpml[np.argsort(-pmtot0[wpml])]\n",
    "xpml = np.array(RminusI[wpml])\n",
    "ypml = np.array(f606w[wpml])\n",
    "\n",
    "wpmh = np.where((pmtot0 > 15) & (pmerr0 < 1.0) & good)[0]\n",
    "wpmh = wpmh[np.argsort(-pmtot0[wpmh])]\n",
    "xpmh = np.array(RminusI[wpmh])\n",
    "ypmh = np.array(f606w[wpmh])\n",
    "\n",
    "# Calculate the point density\n",
    "w = np.where((RminusI > -1) & (RminusI < 4) & good)[0]\n",
    "x = np.array(RminusI[w])\n",
    "y = np.array(f606w[w])\n",
    "t0 = time.time()\n",
    "myPDF, axes = fastKDE.pdf(x, y, numPoints=2**10+1)\n",
    "print(f\"kde took {(time.time()-t0):.1f} sec\")\n",
    "\n",
    "# interpolate to get z values at points\n",
    "finterp = RectBivariateSpline(axes[1], axes[0], myPDF)\n",
    "z = finterp(y, x, grid=False)\n",
    "\n",
    "# Sort the points by density, so that the densest points are plotted last\n",
    "idx = z.argsort()\n",
    "xs, ys, zs = x[idx], y[idx], z[idx]\n",
    "\n",
    "# select a random subset of points in the most crowded regions to speed up plotting\n",
    "wran = np.where(np.random.random(len(zs))*zs < 0.05)[0]\n",
    "print(f\"Plotting {len(wran)} of {len(zs)} points\")\n",
    "xs = xs[wran]\n",
    "ys = ys[wran]\n",
    "zs = zs[wran]"
   ]
  },
  {
   "cell_type": "code",
   "execution_count": null,
   "metadata": {},
   "outputs": [],
   "source": [
    "fig, ax = plt.subplots(figsize=(12, 10))\n",
    "\n",
    "ax.scatter(xs, ys, c=zs, s=2, edgecolors='none', cmap='plasma')\n",
    "ax.scatter(xpml, ypml, s=40, c=\"green\", marker=\"^\", label='10 mas/yr < PM < 15 mas/yr')\n",
    "ax.scatter(xpmh, ypmh, s=80, c=\"red\", marker=\"^\", label='15 mas/yr < PM')\n",
    "\n",
    "ax.set(xlabel='A_F606W - A_F814W', ylabel='A_F606W',\n",
    "       title=f'High proper motions relative to mean of main sequence sample (bulge)\\n{len(x):,} stars in SWEEPS')\n",
    "\n",
    "ax.invert_yaxis()\n",
    "ax.legend()"
   ]
  },
  {
   "cell_type": "code",
   "execution_count": null,
   "metadata": {
    "tags": []
   },
   "outputs": [],
   "source": [
    "print(f\"Plotting {len(wpmh)} objects\")\n",
    "for o in tab[\"ObjID\"][wpmh]:\n",
    "    positions(o, jobs=jobs)"
   ]
  },
  {
   "cell_type": "markdown",
   "metadata": {},
   "source": [
    "# Very red high proper motion objects"
   ]
  },
  {
   "cell_type": "code",
   "execution_count": null,
   "metadata": {},
   "outputs": [],
   "source": [
    "wpmred =  np.where((pmtot0 > 12) & (pmerr0 < 1.0) & (RminusI > 2.6) & good)[0]\n",
    "print(f\"Plotting {len(wpmred)} objects\")\n",
    "for o in tab[\"ObjID\"][wpmred]:\n",
    "    positions(o, jobs=jobs)"
   ]
  },
  {
   "cell_type": "markdown",
   "metadata": {},
   "source": [
    "# Very blue high proper motion objects"
   ]
  },
  {
   "cell_type": "code",
   "execution_count": null,
   "metadata": {},
   "outputs": [],
   "source": [
    "wpmblue =  np.where((pmtot0 > 8) & (pmerr0 < 1.0) & (RminusI < 0.5) & good)[0]\n",
    "print(f\"Plotting {len(wpmblue)} objects\")\n",
    "for o in tab[\"ObjID\"][wpmblue]:\n",
    "    positions(o, jobs=jobs)"
   ]
  },
  {
   "cell_type": "markdown",
   "metadata": {},
   "source": [
    "# Get HLA cutout images for selected objects  <a class=\"anchor\" id=\"cutouts\"></a>\n",
    "\n",
    "Get HLA color cutout images for the high-PM objects.  The `query_hla` function gets a table of all the color images that are available at a given position using the f814w+f606w filters.  The `get_image` function reads a single cutout image (as a JPEG color image) and returns a PIL image object.\n",
    "\n",
    "See the documentation on [HLA VO services](http://hla.stsci.edu/hla_help.html#services) and the [fitscut image cutout service](http://hla.stsci.edu/fitscutcgi_interface.html) for more information on the web services being used."
   ]
  },
  {
   "cell_type": "code",
   "execution_count": null,
   "metadata": {},
   "outputs": [],
   "source": [
    "def query_hla(ra, dec, size=0.0, imagetype=\"color\", inst=\"ACS\", format=\"image/jpeg\",\n",
    "              spectral_elt=(\"f814w\", \"f606w\"), autoscale=95.0, asinh=1, naxis=33):\n",
    "    # convert a list of filters to a comma-separated string\n",
    "    if not isinstance(spectral_elt, str):\n",
    "        spectral_elt = \",\".join(spectral_elt)\n",
    "    siapurl = (f\"https://hla.stsci.edu/cgi-bin/hlaSIAP.cgi?\"\n",
    "               f\"pos={ra},{dec}&size={size}&imagetype={imagetype}&inst={inst}\"\n",
    "               f\"&format={format}&spectral_elt={spectral_elt}\"\n",
    "               f\"&autoscale={autoscale}&asinh={asinh}\"\n",
    "               f\"&naxis={naxis}\")\n",
    "    votable = Table.read(siapurl, format=\"votable\")\n",
    "    return votable\n",
    "\n",
    "\n",
    "def get_image(url):\n",
    "    \"\"\"Get image from a URL\"\"\"\n",
    "    r = requests.get(url)\n",
    "    im = Image.open(BytesIO(r.content))\n",
    "    return im"
   ]
  },
  {
   "cell_type": "code",
   "execution_count": null,
   "metadata": {},
   "outputs": [],
   "source": [
    "# display earliest and latest images side-by-side\n",
    "# wsel = wpmred\n",
    "# wsel = wpmblue\n",
    "# top 10 highest PM objects\n",
    "wsel = wpmh[:10]\n",
    "nim = len(wsel)\n",
    "icols = 1        # objects per row\n",
    "ncols = 2*icols  # two images for each object\n",
    "nrows = (nim+icols-1)//icols\n",
    "\n",
    "imsize = 33\n",
    "xcross = np.array([-1, 1, 0, 0, 0])*2 + imsize/2\n",
    "ycross = np.array([0, 0, 0, -1, 1])*2 + imsize/2\n",
    "\n",
    "# selected data from tab\n",
    "sd = tab[['RA', 'Dec', 'ObjID']][wsel]\n",
    "\n",
    "# create the figure\n",
    "fig, axes = plt.subplots(nrows=nrows, ncols=ncols, figsize=(12, (12/ncols)*nrows))\n",
    "\n",
    "# iterate each observation, and each set of axes for the first and last image\n",
    "for (ax1, ax2), obj in zip(axes, sd):\n",
    "    \n",
    "    # get the image urls and observation datetime\n",
    "    hlatab = query_hla(obj[\"RA\"], obj[\"Dec\"], naxis=imsize)[['URL', 'StartTime']]\n",
    "    # sort the data by the observation datetime, and get the first and last observation url\n",
    "    (url1, time1), (url2, time2) = hlatab[np.argsort(hlatab['StartTime'])][[0, -1]]\n",
    "    \n",
    "    # get the images\n",
    "    im1 = get_image(url1)\n",
    "    im2 = get_image(url2)\n",
    "    \n",
    "    # plot the images\n",
    "    ax1.imshow(im1, origin=\"upper\")\n",
    "    ax2.imshow(im2, origin=\"upper\")\n",
    "    \n",
    "    # plot the center\n",
    "    ax1.plot(xcross, ycross, 'g')\n",
    "    ax2.plot(xcross, ycross, 'g')\n",
    "    \n",
    "    # labels and titles\n",
    "    ax1.set(ylabel=f'ObjID {obj[\"ObjID\"]}', title=time1)\n",
    "    ax2.set_title(time2)"
   ]
  },
  {
   "cell_type": "markdown",
   "metadata": {},
   "source": [
    "### Look at the entire collection of images for the highest PM object"
   ]
  },
  {
   "cell_type": "code",
   "execution_count": null,
   "metadata": {},
   "outputs": [],
   "source": [
    "i = wpmh[0]\n",
    "\n",
    "# selected data\n",
    "sd = tab['ObjID', 'RA', 'Dec', 'a_f606w', 'a_f814w', 'bpm', 'lpm', 'yr', 'dT'][i]\n",
    "display(sd)\n",
    "\n",
    "imsize = 33\n",
    "# get the URL and StartTime data\n",
    "hlatab = query_hla(sd['RA'], sd['Dec'], naxis=imsize)[['URL', 'StartTime']]\n",
    "# sort the data\n",
    "hlatab = hlatab[np.argsort(hlatab['StartTime'])]\n",
    "\n",
    "nim = len(hlatab)\n",
    "ncols = 8\n",
    "nrows = (nim+ncols-1)//ncols\n",
    "\n",
    "xcross = np.array([-1, 1, 0, 0, 0])*2 + imsize/2\n",
    "ycross = np.array([0, 0, 0, -1, 1])*2 + imsize/2"
   ]
  },
  {
   "cell_type": "code",
   "execution_count": null,
   "metadata": {},
   "outputs": [],
   "source": [
    "# get the images: takes about 90 seconds for 77 images\n",
    "images = [get_image(url) for url in hlatab['URL']]"
   ]
  },
  {
   "cell_type": "code",
   "execution_count": null,
   "metadata": {},
   "outputs": [],
   "source": [
    "# create the figure\n",
    "fig, axes = plt.subplots(nrows=nrows, ncols=ncols, figsize=(20, (20/ncols)*nrows), tight_layout=True)\n",
    "# flatten the axes for easy iteration and zipping\n",
    "axes = axes.flat\n",
    "\n",
    "plt.rcParams.update({\"font.size\": 11})\n",
    "for ax, time1, img in zip(axes, hlatab['StartTime'], images):\n",
    "    # plot image\n",
    "    ax.imshow(img, origin=\"upper\")\n",
    "    # plot the center\n",
    "    ax.plot(xcross, ycross, 'g')\n",
    "    # set the title\n",
    "    ax.set_title(time1)\n",
    "    \n",
    "# remove the last 3 unused axes\n",
    "for ax in axes[nim:]:\n",
    "    ax.remove()\n",
    "\n",
    "_ = fig.suptitle(f\"ObjectID: {sd['ObjID']}\\nRA: {sd['RA']:0.2f} Dec: {sd['Dec']:0.2f}\\nObservations: {nim}\", y=1, fontsize=14)"
   ]
  },
  {
   "cell_type": "code",
   "execution_count": null,
   "metadata": {},
   "outputs": [],
   "source": []
  }
 ],
 "metadata": {
  "kernelspec": {
   "display_name": "stsci",
   "language": "python",
   "name": "stsci"
  },
  "language_info": {
   "codemirror_mode": {
    "name": "ipython",
    "version": 3
   },
   "file_extension": ".py",
   "mimetype": "text/x-python",
   "name": "python",
   "nbconvert_exporter": "python",
   "pygments_lexer": "ipython3",
   "version": "3.10.4"
  }
 },
 "nbformat": 4,
 "nbformat_minor": 4
}
