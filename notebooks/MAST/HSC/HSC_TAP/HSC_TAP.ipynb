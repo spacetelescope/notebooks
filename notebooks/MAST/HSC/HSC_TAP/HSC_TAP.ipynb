{
 "cells": [
  {
   "cell_type": "markdown",
   "metadata": {},
   "source": [
    "# MAST Table Access Protocol Hubble Source Catalog Demo"
   ]
  },
  {
   "cell_type": "markdown",
   "metadata": {},
   "source": [
    "<br> This tutorial demonstrates how to use astroquery to access the Hubble Source Catalog (HSC) via a Virtual Observatory standard Table Access Protocol (TAP) service at MAST, and work with the resultant data. \n",
    "\n",
    "***\n",
    "### Table of Contents\n",
    "\n",
    "1. [HSC TAP Service Introduction](#HSC-TAP-Service-Introduction)\n",
    "2. [Imports](#Imports)\n",
    "3. [Connecting, Finding, and Displaying Table Information](#Connecting,-Finding,-and-Displaying-Table-Information)\n",
    "    - [Connecting to a TAP Service](#Connecting-to-a-TAP-Service)\n",
    "    - [Querying for Table Schema Information](#Querying-for-Table-Schema-Information)\n",
    "    - [Querying for Data](#Querying-for-Data)\n",
    "    - [Use Case: Plotting a light curve for the most variable object in a field](#Use-Case:-Plotting-a-light-curve-for-the-most-variable-object-in-a-field)\n",
    "    - [Use Case: Create a color magnitude diagram for the Small Magellanic Cloud](#Use-Case:-Create-a-color-magnitude-diagram-for-the-Small-Magellanic-Cloud) <br><br>\n",
    "4. [Additional Resources](#Additional-Resources)\n",
    "5. [About This Notebook](#About-this-Notebook)\n",
    "***"
   ]
  },
  {
   "cell_type": "markdown",
   "metadata": {},
   "source": [
    "## HSC TAP Service Introduction"
   ]
  },
  {
   "cell_type": "markdown",
   "metadata": {},
   "source": [
    "Table Access Protocol (TAP) services allow more direct and flexible access to astronomical data than the simpler types of IVOA standard data services. Queries are built with the SQL-like Astronomical Data Query Language (ADQL), and can include geographic/spatial queries as well as filtering on other characteristics of the data. This also allows the user fine-grained control over the returned columns, unlike the fixed set of coumns returned from cone, image, and spectral services.\n",
    "\n",
    "For this example, we'll be using the astropy affiliated PyVO client, which is interoperable with other valid TAP services, including those at MAST. PyVO documentation is available at ReadTheDocs: https://pyvo.readthedocs.io\n",
    "\n",
    "We'll be using PyVO to call the most recent version (3) of the Hubble Source Catalog TAP service at MAST. The schema is described within the service, and we'll show how to inspect it. The schema is also the same as the one available via the CasJobs interface, with an additional view added for the most common positional queries. CasJobs has its own copy of the schema documentation, which can be accessed through its own site: http://mastweb.stsci.edu/hcasjobs/\n",
    "\n"
   ]
  },
  {
   "cell_type": "markdown",
   "metadata": {},
   "source": [
    "***\n",
    "## Imports"
   ]
  },
  {
   "cell_type": "code",
   "execution_count": null,
   "metadata": {},
   "outputs": [],
   "source": [
    "import pyvo as vo\n",
    "\n",
    "## For handling ordinary astropy Tables in responses\n",
    "from astropy.table import Table\n",
    "\n",
    "# For displaying and manipulating some types of results\n",
    "%matplotlib inline\n",
    "import requests\n",
    "import astropy\n",
    "import numpy as np\n",
    "import time\n",
    "from matplotlib import pyplot as plt\n",
    "\n",
    "# To allow display tweaks for wider response tables\n",
    "from IPython.core.display import display\n",
    "from IPython.core.display import HTML\n",
    "\n",
    "# For the second example: kernel density estimates\n",
    "from scipy.stats import gaussian_kde\n",
    "\n",
    "\n",
    "# suppress unimportant unit warnings from many TAP services\n",
    "import warnings\n",
    "warnings.filterwarnings(\"ignore\", module=\"astropy.io.votable.*\")"
   ]
  },
  {
   "cell_type": "markdown",
   "metadata": {},
   "source": [
    "***\n",
    "## Connecting, Finding, and Displaying Table Information "
   ]
  },
  {
   "cell_type": "markdown",
   "metadata": {},
   "source": [
    "### Connecting to a TAP Service\n",
    "\n",
    "The PyVO library is able to connect to any TAP service, given the \"base\" URL as noted in metadata registry resources describing the service. This is the URL for the newest version of the Hubble Source Catalog TAP service."
   ]
  },
  {
   "cell_type": "code",
   "execution_count": null,
   "metadata": {},
   "outputs": [],
   "source": [
    "HSC_service = vo.dal.TAPService(\"https://vao.stsci.edu/hsctap/tapservice.aspx\")"
   ]
  },
  {
   "cell_type": "markdown",
   "metadata": {},
   "source": [
    "### Querying for Table Schema Information\n",
    "    \n",
    "TAP services are self-describing, which means the service itself can be asked for its schema and documentation about it. Since the Hubble Source Catalog does not follow a data model described by a standard, this is the best way to see what tables and columns we have available to then query based on geometry or other filters. \n",
    "    \n",
    "Note that several views for HSC, including the main science table SumMagAper2CatView, are extremely wide, containing columns for all potential filters, each of which may have null data. The ability to filter queries based on only columns we want, or that aren't null, makes TAP services more flexible and potentially faster."
   ]
  },
  {
   "cell_type": "code",
   "execution_count": null,
   "metadata": {},
   "outputs": [],
   "source": [
    "HSC_service.describe()"
   ]
  },
  {
   "cell_type": "code",
   "execution_count": null,
   "metadata": {},
   "outputs": [],
   "source": [
    "HSC_tables = HSC_service.tables\n",
    "for tablename in HSC_tables.keys():\n",
    "    if not \"tap_schema\" in tablename:  \n",
    "        HSC_tables[tablename].describe()\n",
    "        print(\"Columns={}\".format(sorted([k.name for k in HSC_tables[tablename].columns ])))\n",
    "        print(\"----\")"
   ]
  },
  {
   "cell_type": "markdown",
   "metadata": {},
   "source": [
    "***\n",
    "### Querying for Data\n",
    "\n",
    "As noted above, this view contains every filter known in the HSC, and can return each even if it is NULL for the given match (this can cause warnings in astroquery). In order to narrow results, one could query on individual filters where their value is not null, or only return certain of them. \n",
    "\n",
    "Here we are searching for every row with data within a .1 degree circle of RA=129.23 and Dec=7.95, and returning a few columns to get an idea of what we have available."
   ]
  },
  {
   "cell_type": "code",
   "execution_count": null,
   "metadata": {
    "scrolled": true
   },
   "outputs": [],
   "source": [
    "results = HSC_service.run_async(\"\"\"\n",
    "SELECT TOP 10 MatchRA, MatchDec, TargetName, StartTime, StopTime\n",
    "FROM dbo.SumMagAper2CatView\n",
    "WHERE CONTAINS(POINT('ICRS', MatchRA, MatchDec),CIRCLE('ICRS',129.23,7.95,0.1))=1\n",
    "  \"\"\")\n",
    "results.to_table()"
   ]
  },
  {
   "cell_type": "markdown",
   "metadata": {},
   "source": [
    "We can also filter by start/stop time or any other column in the view:"
   ]
  },
  {
   "cell_type": "code",
   "execution_count": null,
   "metadata": {},
   "outputs": [],
   "source": [
    "results = HSC_service.run_async(\"\"\"\n",
    "SELECT TOP 10 MatchID, MatchRA, MatchDec, TargetName, StartTime, StopTime, TargetName \n",
    "FROM dbo.SumMagAper2CatView\n",
    "WHERE \n",
    "CONTAINS(POINT('ICRS', MatchRA, MatchDec),CIRCLE('ICRS',129.23,7.95,0.1))=1\n",
    "AND StartTime > '2015-01-01' AND StopTime < '2015-04-01'\n",
    "\"\"\")\n",
    "results.to_table()"
   ]
  },
  {
   "cell_type": "markdown",
   "metadata": {},
   "source": [
    "***\n",
    "### Use Case: Plotting a light curve for the most variable object in a field\n",
    "\n",
    "A use case example: search for objects with 10 or more ACS F475W magnitudes in a crowded field near IC 1613 (see <a href=\"http://archive.stsci.edu/hst/hsc/help/use_case_3_v2.html\">HSC Use Case 3</a>). Then get the individual A_F475W measurements for the most variable object in the list and plot the light curve. Note we must use asynchronous query mode for this example rather than synchronous, because it has a longer allowed timeout, which can be useful for large or complex queries."
   ]
  },
  {
   "cell_type": "code",
   "execution_count": null,
   "metadata": {},
   "outputs": [],
   "source": [
    "results = HSC_service.run_async(\"\"\"\n",
    "SELECT MatchID, MatchRA, MatchDec, TargetName, NumImages, NumVisits, A_F475W, A_F475W_MAD, A_F475W_N\n",
    "FROM dbo.SumMagAper2CatView\n",
    "WHERE \n",
    "   A_F475W_N >= 10\n",
    "   AND\n",
    "   CONTAINS(POINT('ICRS', MatchRA, MatchDec),CIRCLE('ICRS',16.117562,2.162183,0.1))=1\n",
    "   \"\"\")\n",
    "HSC_results = results.to_table()\n",
    "HSC_results"
   ]
  },
  {
   "cell_type": "code",
   "execution_count": null,
   "metadata": {},
   "outputs": [],
   "source": [
    "plt.rcParams.update({'font.size': 16})\n",
    "plt.figure(1,(10,6))\n",
    "plt.scatter(HSC_results['A_F475W'], HSC_results['A_F475W_MAD'])\n",
    "plt.xlabel('A_F475W')\n",
    "plt.ylabel('A_F475W_MAD')"
   ]
  },
  {
   "cell_type": "code",
   "execution_count": null,
   "metadata": {},
   "outputs": [],
   "source": [
    "madvalues = HSC_results['A_F475W_MAD']\n",
    "i = np.argmax(madvalues)\n",
    "print()\n",
    "print(HSC_results[i])\n",
    "\n",
    "matchid = HSC_results['MatchID'][i]\n",
    "details = HSC_service.run_async(\"\"\"\n",
    "SELECT SourceID, ImageID, SourceRA, SourceDec, D, Filter, Detector, MagAper2, StartMJD\n",
    "FROM dbo.DetailedCatalog\n",
    "WHERE \n",
    "   MatchID={}\n",
    "   AND Detector='ACS/WFC' AND Filter='F475W' AND Det='Y'\n",
    "ORDER BY StartMJD\n",
    "\"\"\".format(matchid))\n",
    "HSC_details = details.to_table()\n",
    "HSC_details\n",
    "\n",
    "plt.rcParams.update({'font.size': 16})\n",
    "plt.figure(1,(10,6))\n",
    "plt.scatter(HSC_details['StartMJD'], HSC_details['MagAper2'])\n",
    "plt.xlabel('MJD')\n",
    "plt.ylabel('A_F475W')"
   ]
  },
  {
   "cell_type": "markdown",
   "metadata": {},
   "source": [
    "***\n",
    "### Use Case: Create a color magnitude diagram for the Small Magellanic Cloud\n",
    "\n",
    "For another example of using data from a TAP service, we start by doing a search around the SMC with a .25 degree radius for objects with ACS F555W and F814W measurements. HSC TAP will limit us to 100k responses by default. Note this is a large query that can take over a minute to run. See <a href=\"http://archive.stsci.edu/hst/hsc/help/use_case_2_v3.html\" target=\"_blank\">HSC Use Case 2</a> for more details."
   ]
  },
  {
   "cell_type": "code",
   "execution_count": null,
   "metadata": {},
   "outputs": [],
   "source": [
    "t0 = time.time()\n",
    "\n",
    "results = HSC_service.run_async(\"\"\"\n",
    "SELECT MatchID, MatchRA, MatchDec, CI, A_F555W, A_F814W\n",
    "FROM dbo.SumMagAper2CatView\n",
    "WHERE A_F555W_N > 0 and A_F814W_N > 0\n",
    "    AND CONTAINS(POINT('ICRS', MatchRA, MatchDec),CIRCLE('ICRS',13.1866,-72.8286,0.25))=1\n",
    "   \"\"\")\n",
    "HSC_results = results.to_table()\n",
    "print(\"Query completed in {:.1f} sec\".format(time.time()-t0))\n",
    "HSC_results"
   ]
  },
  {
   "cell_type": "markdown",
   "metadata": {},
   "source": [
    "Next, plot the color-magnitude diagram for the ~100k points retrieved from the database. This uses kernel density estimate for the crowded plot. As a preview for the demo, we are only working with 1/25th of the data so that the notebook executes quickly. You can switch the commented-out lines to call gaussian_kde for the full plot, which can take a few minutes to complete."
   ]
  },
  {
   "cell_type": "code",
   "execution_count": null,
   "metadata": {},
   "outputs": [],
   "source": [
    "f555w = HSC_results['A_F555W']\n",
    "f814w = HSC_results['A_F814W']\n",
    "VminusI = f555w-f814w\n",
    "CI = HSC_results['CI']\n",
    "w = np.where((CI>0.9) & (CI<1.6) & (VminusI > -1.5) & (VminusI < 1.5))\n",
    "print(len(w[0]),\"points remaining after CI and V-I filtering\")\n",
    "\n",
    "# Calculate the point density\n",
    "x = np.array(VminusI[w])\n",
    "y = np.array(f555w[w])\n",
    "xy = np.vstack([x,y])\n",
    "\n",
    "t0 = time.time()\n",
    "\n",
    "z = gaussian_kde(xy[:, ::25])(xy) #to do the KDE on only the full dataset, comment out this and uncomment below:\n",
    "#z = gaussian_kde(xy)(xy) #uncomment this line to do the KDE on the full dataset\n",
    "\n",
    "print(\"kde took {:.1f} sec\".format(time.time()-t0))"
   ]
  },
  {
   "cell_type": "code",
   "execution_count": null,
   "metadata": {},
   "outputs": [],
   "source": [
    "# Sort the points by density, so that the densest points are plotted last\n",
    "idx = z.argsort()\n",
    "x, y, z = x[idx], y[idx], z[idx]\n",
    "\n",
    "plt.rcParams.update({'font.size': 16})\n",
    "plt.figure(1,(12,10))\n",
    "plt.scatter(x, y, c=z, s=2, cmap='plasma')\n",
    "plt.autoscale(tight=True)\n",
    "plt.xlabel('V-I')\n",
    "plt.ylabel('V')\n",
    "plt.gca().invert_yaxis()\n",
    "plt.colorbar()\n",
    "plt.text(.17,.93,'{:d} stars in SMC'.format(len(x)),\n",
    "       horizontalalignment='center',\n",
    "       transform=plt.gca().transAxes)\n",
    "#plt.savefig(\"smc_colormag.png\")"
   ]
  },
  {
   "cell_type": "markdown",
   "metadata": {},
   "source": [
    "***\n",
    "# Additional Resources\n",
    "\n",
    "\n",
    "## Table Access Protocol \n",
    "* IVOA standard for RESTful web service access to tabular data\n",
    "* http://www.ivoa.net/documents/TAP/\n",
    "\n",
    "## Hubble Source Catalog v3\n",
    "* Catalog created at MAST by combining the tens of thousands of visit-based source lists in the Hubble Legacy Archive (HLA) into a single master catalog. \n",
    "* https://archive.stsci.edu/hst/hsc/\n",
    "\n",
    "## Astronomical Query Data Language (2.0)\n",
    "* IVOA standard for querying astronomical data in tabular format, with geometric search support\n",
    "* http://www.ivoa.net/documents/latest/ADQL.html\n",
    "\n",
    "## PyVO\n",
    "* an affiliated package for astropy\n",
    "* find and retrieve astronomical data available from archives that support standard IVOA virtual observatory service protocols.\n",
    "* https://pyvo.readthedocs.io/en/latest/index.html"
   ]
  },
  {
   "cell_type": "markdown",
   "metadata": {},
   "source": [
    "***"
   ]
  },
  {
   "cell_type": "markdown",
   "metadata": {},
   "source": [
    "## About this Notebook\n",
    "**Authors:** Rick White & Theresa Dower, STScI Archive Scientist & Software Engineer\n",
    "**Updated On:** 01/08/2020"
   ]
  },
  {
   "cell_type": "markdown",
   "metadata": {},
   "source": [
    "***"
   ]
  },
  {
   "cell_type": "markdown",
   "metadata": {},
   "source": [
    "<img style=\"float: right;\" src=\"https://raw.githubusercontent.com/spacetelescope/notebooks/master/assets/stsci_pri_combo_mark_horizonal_white_bkgd.png\" alt=\"STScI logo\" width=\"200px\"/> "
   ]
  }
 ],
 "metadata": {
  "kernelspec": {
   "display_name": "Python 3 (ipykernel)",
   "language": "python",
   "name": "python3"
  },
  "language_info": {
   "codemirror_mode": {
    "name": "ipython",
    "version": 3
   },
   "file_extension": ".py",
   "mimetype": "text/x-python",
   "name": "python",
   "nbconvert_exporter": "python",
   "pygments_lexer": "ipython3",
   "version": "3.8.12"
  },
  "widgets": {
   "state": {},
   "version": "1.1.2"
  }
 },
 "nbformat": 4,
 "nbformat_minor": 4
}
