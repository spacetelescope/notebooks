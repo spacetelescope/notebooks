{
 "cells": [
  {
   "cell_type": "markdown",
   "metadata": {},
   "source": [
    "# Beginner: Zcut and Astroquery Tutorial\n",
    "\n",
    "This notebook is a beginner tutorial on the Zcut feature of the MAST astroquery interface. Zcut allows you to request cutouts — either as `.fits` or image files — from various deep field surveys. The list of supported deep field surveys can be found here: https://mast.stsci.edu/zcut/\n",
    "\n",
    "### Goals:\n",
    "In this tutorial, you'll learn to:\n",
    "\n",
    "1. Use RA/Dec coordinates to search for surveys containing your target\n",
    "2. Create a cutout from deep field surveys\n",
    "3. Download, process, and display:\n",
    "    * image file cutouts\n",
    "    * `.fits` cutouts\n",
    "\n",
    "Let's get started!\n",
    "\n",
    "### Table of Contents\n",
    "\n",
    "* [Import Statements](#Import-Statements)\n",
    "* [Image File Cutouts](#Image-File-Cutouts)\n",
    "    * [Set up coordinates](#Set-up-coordinates)\n",
    "    * [Query for Available Surveys](#Query-for-Available-Surveys)\n",
    "    * [Getting Cutouts](#Getting-Cutouts)\n",
    "* [FITS cutouts](#Getting-FITS-cutouts)"
   ]
  },
  {
   "cell_type": "markdown",
   "metadata": {},
   "source": [
    "## Import Statements\n",
    "\n",
    "There are some modules we need to complete this tutorial, so we start with a few import statements:\n",
    "\n",
    " - `astroquery.mast` to query the catalogs and to access Zcut\n",
    " - `astropy` for handling coordinates and FITS files\n",
    " - `PIL` for colorizing images\n",
    " - `matplotlib` to create our plots"
   ]
  },
  {
   "cell_type": "code",
   "execution_count": null,
   "metadata": {
    "scrolled": true
   },
   "outputs": [],
   "source": [
    "# Catalog queries and Zcut\n",
    "from astroquery.mast import Catalogs, Zcut\n",
    "\n",
    "# Handling Coordinates/FITS Files\n",
    "from astropy.coordinates import SkyCoord\n",
    "from astropy.io import fits\n",
    "from astropy.wcs import WCS\n",
    "import astropy.units as u\n",
    "\n",
    "# To display images\n",
    "from PIL import Image\n",
    "\n",
    "# For matplotlib plotting\n",
    "import matplotlib\n",
    "import matplotlib.pyplot as plt\n",
    "%matplotlib inline"
   ]
  },
  {
   "cell_type": "markdown",
   "metadata": {},
   "source": [
    "## Image File Cutouts\n",
    "### Set up coordinates\n",
    "\n",
    "To begin, we we create a SkyCoord object from our known RA and Dec. This is an unambigious, machine-friendly way of storing this information for later use."
   ]
  },
  {
   "cell_type": "code",
   "execution_count": null,
   "metadata": {},
   "outputs": [],
   "source": [
    "coord = SkyCoord(189.49206, 62.20615, unit = \"deg\")\n",
    "print(coord)"
   ]
  },
  {
   "cell_type": "markdown",
   "metadata": {},
   "source": [
    "### Query for Available Surveys\n",
    "\n",
    "Here we use `get_surveys()` to find the surveys available for our chosen position in the sky. This isn't necessary to get an image file; however, it can be nice to know which surveys we can download from."
   ]
  },
  {
   "cell_type": "code",
   "execution_count": null,
   "metadata": {},
   "outputs": [],
   "source": [
    "survey_list = Zcut.get_surveys(coordinates=coord)\n",
    "print(survey_list)"
   ]
  },
  {
   "cell_type": "markdown",
   "metadata": {},
   "source": [
    "### Downloading Image Cutouts\n",
    "\n",
    "Next, we use `download_cutouts()` to... well, download the cutouts! For this example, we're interested in downloading an image file. The image file options are `.jpg` or `.png`, so let's use `.jpg`. We can also specify the size of the images (in pixels) and our desired survey."
   ]
  },
  {
   "cell_type": "code",
   "execution_count": null,
   "metadata": {},
   "outputs": [],
   "source": [
    "cutoutlist = Zcut.download_cutouts(coordinates=coord, size=[500,300], \n",
    "                                   cutout_format=\"jpg\", survey=\"3dhst_goods-n\")\n",
    "print(cutoutlist)"
   ]
  },
  {
   "cell_type": "markdown",
   "metadata": {},
   "source": [
    "This list of filenames looks overwhelming at first glance, but half of the name is the coordinates we gave and the image size. Looking at the first section of the name, we can see that these images came from the Spitzer and Subaru telescopes.\n",
    "\n",
    "Subaru's suprime-cam has many [available filters](https://subarutelescope.org/Observing/Instruments/SCam/sensitivity.html) for this observation, but we'll select the ones that correspond (roughly) to red, green, and blue light. This will give us a chance to process them into a true-color image. Before we do that, let's take a look at the individual cutouts."
   ]
  },
  {
   "cell_type": "code",
   "execution_count": null,
   "metadata": {},
   "outputs": [],
   "source": [
    "# These filenames are a handful! Let's simplify.\n",
    "red = cutoutlist[5]\n",
    "green = cutoutlist[6]\n",
    "blue = cutoutlist[9]\n",
    "\n",
    "# Create three plots and fill them with the cutouts\n",
    "fig, ax = plt.subplots(1,3, figsize=(15,10))\n",
    "for i,file in enumerate([red[0], green[0], blue[0]]):\n",
    "    image = Image.open(file)\n",
    "    ax[i].imshow(image,cmap=\"gray\")\n",
    "    ax[i].axis('off')"
   ]
  },
  {
   "cell_type": "markdown",
   "metadata": {},
   "source": [
    "Next, we combine the three `.jpg` cutouts into a single, colorized image:"
   ]
  },
  {
   "cell_type": "code",
   "execution_count": null,
   "metadata": {},
   "outputs": [],
   "source": [
    "Image.merge(\"RGB\", [Image.open(red[0]), Image.open(green[0]), Image.open(blue[0])])"
   ]
  },
  {
   "cell_type": "markdown",
   "metadata": {},
   "source": [
    "If instead you want to create and colorize images from FITS files, you can use the built-in functions in `astropy.visualization`. More details are available [here](https://docs.astropy.org/en/stable/visualization/rgb.html)."
   ]
  },
  {
   "cell_type": "markdown",
   "metadata": {},
   "source": [
    "## Getting FITS cutouts\n",
    "We'll follow a similar process to the above to get the cutouts as astropy FITS objects. This time, however, we'll use the `get_cutouts` method. \n",
    "<br>**Note:** Unlike before, this method does not download the file to your working directory. The images are loaded into memory but not saved.\n",
    "\n",
    "Then we'll do something different and use MAST `Catalogs` to overlay Gaia sources on our image."
   ]
  },
  {
   "cell_type": "code",
   "execution_count": null,
   "metadata": {},
   "outputs": [],
   "source": [
    "# As before, we define our coordinates\n",
    "coord = SkyCoord(\"53.22706 -27.90232\", unit=\"deg\")\n",
    "\n",
    "# And request cutouts at that location\n",
    "cutouts = Zcut.get_cutouts(coord, size=300)"
   ]
  },
  {
   "cell_type": "markdown",
   "metadata": {},
   "source": [
    "Now, we use one of the cutouts to get its [World Coordinate System](https://fits.gsfc.nasa.gov/fits_wcs.html) (WCS) information. When plotting, we can now make sure that each pixel corresponds to its coordinates on the sky. This gives us the ability to overlay images based on coordinates.\n",
    "\n",
    "Our overlay will be high-precision coordinates from the Gaia mission. We use the the astroquery.mast `Catalogs` class to search the Gaia database."
   ]
  },
  {
   "cell_type": "code",
   "execution_count": null,
   "metadata": {},
   "outputs": [],
   "source": [
    "# Pull the WCS/image data from our cutout\n",
    "cutout_wcs = WCS(cutouts[1][1].header)\n",
    "cutout_img = cutouts[1][1].data\n",
    "\n",
    "# Search Gaia for data in the vicinity of our target\n",
    "sources = Catalogs.query_region(catalog=\"Gaia\", coordinates=coord, radius=.5*u.arcmin)"
   ]
  },
  {
   "cell_type": "markdown",
   "metadata": {},
   "source": [
    "Now we can set up our graph to show an overlay of the image and Gaia coordinates (marked with an 'x'). "
   ]
  },
  {
   "cell_type": "code",
   "execution_count": null,
   "metadata": {
    "scrolled": false
   },
   "outputs": [],
   "source": [
    "# Create the figure on a WCS projection\n",
    "fig, ax = plt.subplots(subplot_kw={'projection':cutout_wcs})\n",
    "fig.set_size_inches(10,10)\n",
    "plt.grid(color='white', ls='solid')\n",
    "    \n",
    "# Setup WCS axes\n",
    "xcoords = ax.coords[0]\n",
    "ycoords = ax.coords[1]\n",
    "xcoords.set_major_formatter('d.ddd')\n",
    "ycoords.set_major_formatter('d.ddd')\n",
    "xcoords.set_axislabel(\"RA (deg)\")\n",
    "ycoords.set_axislabel(\"Dec (deg)\")\n",
    "\n",
    "\n",
    "ax.imshow(cutout_img, cmap='gray',vmin=0,vmax=1)\n",
    "ax.plot(sources['ra'],sources['dec'], 'x',ms=20, mew=3, color=\"#df0040\", transform=ax.get_transform('icrs'),)\n",
    "\n",
    "ax.set_xlim(0,cutout_img.shape[1]-1)\n",
    "ax.set_ylim(cutout_img.shape[0]-1,0)\n",
    "\n",
    "plt.show()"
   ]
  },
  {
   "cell_type": "markdown",
   "metadata": {},
   "source": [
    "It's interesting to note that Gaia recognises two stars in the brightest spot of the image. At the same time, the far fainter point in the lower right is not in the Gaia catalog at all!\n",
    "\n",
    "### For further reading\n",
    "* [Gaia Mission](https://www.esa.int/Science_Exploration/Space_Science/Gaia)\n",
    "* [3D-HST](https://archive.stsci.edu/prepds/3d-hst/), the deepfield survey we use in the image file example"
   ]
  },
  {
   "cell_type": "markdown",
   "metadata": {},
   "source": [
    "### About this Notebook\n",
    "\n",
    "**Authors:** Natalie Korzh, Thomas Dutkiewicz\n",
    "\n",
    "**Last Updated:** July 2022<br>\n",
    "**Next Review:** Jan 2023\n",
    "\n",
    "<img style=\"float: right;\" src=\"https://raw.githubusercontent.com/spacetelescope/notebooks/master/assets/stsci_pri_combo_mark_horizonal_white_bkgd.png\" alt=\"STScI logo\" width=\"200px\"/> \n",
    "\n",
    "[Top of Page](#Beginner:-Zcut-using-Astrocut-and-Astroquery-Tutorial)"
   ]
  }
 ],
 "metadata": {
  "kernelspec": {
   "display_name": "Python 3 (ipykernel)",
   "language": "python",
   "name": "python3"
  },
  "language_info": {
   "codemirror_mode": {
    "name": "ipython",
    "version": 3
   },
   "file_extension": ".py",
   "mimetype": "text/x-python",
   "name": "python",
   "nbconvert_exporter": "python",
   "pygments_lexer": "ipython3",
   "version": "3.9.12"
  }
 },
 "nbformat": 4,
 "nbformat_minor": 4
}
