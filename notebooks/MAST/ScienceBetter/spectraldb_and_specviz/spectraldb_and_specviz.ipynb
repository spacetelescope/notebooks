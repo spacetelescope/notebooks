{
 "cells": [
  {
   "cell_type": "markdown",
   "id": "6bf2df7c",
   "metadata": {},
   "source": [
    "# Viewing JWST Spectra with Spectral DB and Specviz"
   ]
  },
  {
   "cell_type": "markdown",
   "id": "21c1b009",
   "metadata": {},
   "source": [
    "***"
   ]
  },
  {
   "cell_type": "markdown",
   "id": "2fe6653a",
   "metadata": {},
   "source": [
    "## Learning Goals\n",
    "\n",
    "By the end of this tutorial, you will:\n",
    "- Understand the difference between searching and downloading JWST spectra with `astroquery.MAST` and `SpectralDB`\n",
    "- Search for JWST spectra given a set of pixel-level criteria with `SpectralDB`\n",
    "- Find more observation information about the search result using `astroquery.MAST`.\n",
    "- Access a JWST spectrum with a known URI using `SpectralDB` \n",
    "- View a JWST spectrum from `SpectralDB` with `Specviz`"
   ]
  },
  {
   "cell_type": "markdown",
   "id": "40b12594",
   "metadata": {},
   "source": [
    "## Introduction\n",
    "\n",
    "The Barbara A. Mikulski Archive for Space Telescopes (MAST) is the home for all data from the James Webb Space Telescope (JWST), among other telescope data archives. There are multiple ways to search for and download images and spectra from MAST. In this tutorial, we will define pixel-level criteria to search high-level spectral data products available in the [ `SpectralDB` Application Programming Interface (API)](https://mast.stsci.edu/spectra/docs/). Using a correctly formatted URL (Uniform Resource Locator; a web address that starts with https://) request to the Spectral Pixel Search API, we will receive a list of all pixels and spectra that meet the criteria. \n",
    "\n",
    "Next, we will choose one spectrum and use its Uniform Resource Indicator (URI) to format a correct URL to request the spectrum from `SpectralDB`. With the API we can directly access the same content as contained with a .fits file in our Jupyter notebook *without* having to download and store the .fits file locally. Finally, this tutorial will briefly demonstrate how to plot the spectrum in the `Specviz` portion of `Jdaviz`. \n",
    "\n",
    "At the time of this tutorial, not all publicly available taken by JWST is available through `SpectralDB`; it currently only contains the final calibrated data science products (\"Level 3\" products), not lower level calibration products. Additionally, searching for 2D and 3D spectroscopic pixel data is not yet supported. The filename of a 1D spectroscopic products, which are supported in searching, will all end in `_x1d.fits`. This tutorial retrieves publicly available data, which we can do anonymously; to retrieve proprietary or protected data, you will need to use an authentication token. \n",
    "\n",
    "More documentation for [Specviz](https://jdaviz.readthedocs.io/en/latest/specviz/) is available online.\n",
    "\n",
    "The workflow for this notebook consists of:\n",
    "- Searching for JWST spectra with given pixel parameters\n",
    "    - Exercises\n",
    "- Using Spectral DB API to retrieve a JWST spectrum with known URI\n",
    "    - Exercises\n",
    "- Viewing the Spectrum in Specviz\n",
    "    - Exercises"
   ]
  },
  {
   "cell_type": "markdown",
   "id": "3de15dea",
   "metadata": {},
   "source": [
    "## Imports\n",
    "\n",
    "- *numpy* to handle array functions\n",
    "- *astropy.io fits* for accessing FITS files\n",
    "- *matplotlib.pyplot* for plotting data\n",
    "- *requests* to access the API\n",
    "- *astroquery.mast Observations* for querying MAST for observations\n",
    "- *specutils.Spectrum1D* to create a spectrum from the MAST API result\n",
    "- *jdaviz.Specviz* to plot the spectrum\n",
    "- *astropy.units* for supplying units to the spectrum object.\n",
    "- *astropy.nddata StdDevUncertainty* for supplying uncertainty to the spectrum object\n",
    "\n",
    "You may need to follow the documention to [install jdaviv](https://jdaviz.readthedocs.io/en/latest/installation.html), [astroquery](https://astroquery.readthedocs.io/en/latest/), and [specutils](https://specutils.readthedocs.io/en/stable/installation.html). "
   ]
  },
  {
   "cell_type": "code",
   "execution_count": null,
   "id": "9d09b8c8",
   "metadata": {},
   "outputs": [],
   "source": [
    "%matplotlib inline\n",
    "import numpy as np\n",
    "from astropy.io import fits\n",
    "import matplotlib.pyplot as plt\n",
    "import requests\n",
    "from astroquery.mast import Observations\n",
    "from specutils import Spectrum1D\n",
    "from jdaviz import Specviz\n",
    "import astropy.units as u\n",
    "from astropy.nddata import StdDevUncertainty"
   ]
  },
  {
   "cell_type": "markdown",
   "id": "f76a91f8",
   "metadata": {},
   "source": [
    "***"
   ]
  },
  {
   "cell_type": "markdown",
   "id": "fa614f87",
   "metadata": {},
   "source": [
    "## Searching for JWST spectra with given pixel parameters\n",
    "\n",
    "There are many ways to search the MAST database, such as with [`astroquery`](https://astroquery.readthedocs.io/en/latest/mast/mast.html) in Python or with the [MAST Portal](https://mast.stsci.edu/portal/Mashup/Clients/Mast/Portal.html) in your web browser. These types of searches are usually designed to be done by object name, region, or proposal or observation ID; in other words, the searches are usually done based on the observing target or the observing plan (such as proposer, instrument, filters, etc.) \n",
    "\n",
    "The SpectralDB is a new database holding the pixel-level information for spectroscopic dataproducts. Using the Spectral Pixel Search API, we can search the SpectralDB by pixel-level information within the spectrum itself, such as signal-to-noise ratios (SNR), or flux values in certain wavelength ranges; we can search by the actual result of the observation, in addition to typical search criteria above. More documentation is available about how to [Search Spectroscopic Pixel Data](https://mast.stsci.edu/spectra/docs/search_pixels.html) \n",
    "\n",
    "The URLs for searching with the Spectral Pixel Search API will all begin with `https://mast.stsci.edu/spectra/api/v0.1/search?` and then be followed by the appropriate keywords.\n",
    "\n",
    "In the example below, we search for 1D spectra (`product=x1d`) that have a flux of at least 0.2 Jy (`flux.gte=0.2`) in the wavelength range of 14 to 14.5 microns (`wavelength=14,14.5`). We search for spectra with a global SNR of at least 5 (`&derSnr.gt=5`) The `&` signs between our keywords indicate that the pixels should satisfy *all* of the criteria. \n",
    "All of the columns in our query will automaticlaly returned in the search results, but we might also want other columns that were are not searching for. So, finally, we will use the `columns` keyword to specify that we would also like the API to return the target's name, RA, and Dec along with the spectral information.\n"
   ]
  },
  {
   "cell_type": "code",
   "execution_count": null,
   "id": "f12e4921",
   "metadata": {},
   "outputs": [],
   "source": [
    "prefix='https://mast.stsci.edu/spectra/api/v0.1/search?'\n",
    "keywords='product=x1d&wavelength=14,14.5&derSnr.gt=5&flux.gte=0.2&columns=targetName,targetRA,targetDec'\n",
    "url=prefix+keywords\n",
    "print(url)"
   ]
  },
  {
   "cell_type": "markdown",
   "id": "06a49157",
   "metadata": {},
   "source": [
    "By using requests.get with our URL, we ask the Spectral DB to send the results of the search query. The resulting object, `r1a`, is a JSON (JavaScript Object Notation) object, used to store and exchanged data in a standardized format. Next, we print the status code of the `r1a` object; a code of 200 means success."
   ]
  },
  {
   "cell_type": "code",
   "execution_count": null,
   "id": "41fd87be",
   "metadata": {},
   "outputs": [],
   "source": [
    "r1a=requests.get(url)\n",
    "r1a.status_code"
   ]
  },
  {
   "cell_type": "code",
   "execution_count": null,
   "id": "1a593f19",
   "metadata": {},
   "outputs": [],
   "source": [
    "r1a.json().keys()"
   ]
  },
  {
   "cell_type": "markdown",
   "id": "d7c0426b",
   "metadata": {},
   "source": [
    "Above, we can see the contents of the `r1a` JSON object. The three keys tell us about the status of our request, the query itself, and also, the results. Let's examine what is contained in the results dictionary:"
   ]
  },
  {
   "cell_type": "code",
   "execution_count": null,
   "id": "8d55c773",
   "metadata": {},
   "outputs": [],
   "source": [
    "lenr1a=len(r1a.json()['results'])\n",
    "print('Length of results: '+str(lenr1a))\n",
    "print('First result: ')\n",
    "print(r1a.json()['results'][0])\n",
    "print('Second result: ')\n",
    "print(r1a.json()['results'][1])"
   ]
  },
  {
   "cell_type": "markdown",
   "id": "2c3c4d60",
   "metadata": {},
   "source": [
    "It seems every individual pixel (including each individual portion of a spectrum) that met our criteria gets included in our results. So, the same spectrum is represented multiple times. We can redo the above request with the parameter `group=True` added in order to aggregate the results by data product filename. At the time of the writing of this tutorial, when using `group=True`, we cannot also return the metadata columns with the target's name, RA, or Dec. "
   ]
  },
  {
   "cell_type": "code",
   "execution_count": null,
   "id": "b4d9f864",
   "metadata": {},
   "outputs": [],
   "source": [
    "prefix='https://mast.stsci.edu/spectra/api/v0.1/search?'\n",
    "keywords='product=x1d&wavelength=14,14.5&derSnr.gt=5&flux.gte=0.2&group=True'\n",
    "url=prefix+keywords\n",
    "r1b=requests.get(url)\n",
    "lenr1b=len(r1b.json()['results'])\n",
    "print('Length of results: '+str(lenr1b))\n",
    "print(r1b.json()['results'])"
   ]
  },
  {
   "cell_type": "markdown",
   "id": "f62b0e9e",
   "metadata": {},
   "source": [
    "The results in `r1a` give us science information about the pixels (wavelength, flux, and SNR) and the filename that is associated with the pixel; when grouping by filename, that is the only content in the results. We are missing a lot of metadata, such as what the targets of these spectra even are! The filenames themselves do give us some information about the observations. Using 'jw01039-o005_t001_miri_ch3-shortlongmedium-_x1d.fits' as an example:\n",
    "- 01039 is the program number.\n",
    "- 005 is the observation number.\n",
    "- 001 is the visit number. \n",
    "- MIRI is the instrument used.\n",
    "- 3 is the instrument channel used.\n",
    "- shortlongmedium has to do with the instrument mode.\n",
    "- x1d indicates this is a 1D spectrum. (c1d, s2d, and s3d [Level 3 Data Products](https://jwst-pipeline.readthedocs.io/en/latest/jwst/data_products/product_types.html#stage-3-data-products) are not yet searchable.)"
   ]
  },
  {
   "cell_type": "markdown",
   "id": "e4cd2518",
   "metadata": {},
   "source": [
    "To find more information about any of these spectra, we could cross-reference the filenames in r1b with those in r1a, which does contain more columns. For the purpose of this tutorial, we will instead use `Observations.query_criteria` imported above from `astroquery.mast`. We can query any of the metadata that are available. JWST spectra will be unique identified by the majority of their filenames; everything up to the final `_x1d.fits` (or similar suffix) will be in the `obs_id` keyword of the metadata. \n",
    "\n",
    "In practice, you might search for metadata for all of the filenames listed in our `r1b` variable above. For the purpose of this tutorial, because the results above from Spectral DB will change with time as more JWST data becomes available, we will use hard-coded filename 'jw01039-o005_t001_miri_ch3-shortlongmedium-_x1d.fits'. \n",
    "\n",
    "First, we will split the string everywhere there is a '_' and then rejoin it together with everything but the last suffix. We'll then search the MAST archive with astroquery and print just some of the information form the resulting table."
   ]
  },
  {
   "cell_type": "code",
   "execution_count": null,
   "id": "bbb66d9a",
   "metadata": {},
   "outputs": [],
   "source": [
    "filename='jw01039-o005_t001_miri_ch3-shortlongmedium-_x1d.fits'\n",
    "search=str.join('_',filename.split('_')[0:-1])\n",
    "print(search)\n",
    "obs_table=Observations.query_criteria(obs_id=search)\n",
    "print(obs_table['target_name','s_ra','s_dec'])"
   ]
  },
  {
   "cell_type": "markdown",
   "id": "e32e3d8c",
   "metadata": {},
   "source": [
    "We now know that this spectrum, which met our criteria for flux and signal to noise in a certain wavelength range, was taken of the barred spiral galaxy NGC 6225. Let's continue to retrieve the spectrum itself."
   ]
  },
  {
   "cell_type": "markdown",
   "id": "c97881c7",
   "metadata": {},
   "source": [
    "### Exercises\n",
    "\n",
    "1. Review the \"Search Syntax\" section of the [Search Spectroscopic Pixel Data](https://mast.stsci.edu/spectra/docs/search_pixels.html) documentation and make a request for a list of all spectral data products (aggregated by filename) with the following criteria: 1D spectra, with flux greater than or equal to 5 Jy, for wavelengths *less than* 15 microns, with a quality flag equal to 0, from the MIRI instrument. \n",
    "\n",
    "2. Confirm that the number of spectral products returned in query `r1a` are the same as those returned in query `r1b`."
   ]
  },
  {
   "cell_type": "code",
   "execution_count": null,
   "id": "998a1a40",
   "metadata": {},
   "outputs": [],
   "source": [
    "# Code for Exercise 1"
   ]
  },
  {
   "cell_type": "code",
   "execution_count": null,
   "id": "ebcca173",
   "metadata": {},
   "outputs": [],
   "source": [
    "# Code for Exercise 2"
   ]
  },
  {
   "cell_type": "markdown",
   "id": "0d696317",
   "metadata": {},
   "source": [
    "## Using Spectral DB API to retrieve a JWST spectrum with known URI\n",
    "\n",
    "Each high-level data product in the JWST data archive has a unique URI (Uniform Resource Locator) that consists of a prefix (mast:JWST/product) and the file name. Keep in mind that observations from JWST may have many data products associated with them. We can get the full list of data products using `get_product_list` (described more in the [MAST Queries documentation](https://astroquery.readthedocs.io/en/latest/mast/mast.html#getting-product-lists))."
   ]
  },
  {
   "cell_type": "code",
   "execution_count": null,
   "id": "1670023b",
   "metadata": {},
   "outputs": [],
   "source": [
    "data_products_by_obs = Observations.get_product_list(obs_table[0])\n",
    "print(data_products_by_obs)"
   ]
  },
  {
   "cell_type": "markdown",
   "id": "bfd14673",
   "metadata": {},
   "source": [
    "There are 263 data products (as of the time of the writing of the tutorial), ranging from raw data (`calib_level=1`), calibrated data (`calib_level=2`), to high-level data products (`calib_level=3`). \n",
    "\n",
    "You might note that our `obs_table` from above does include a `dataURL` column; let's view it and compare it to the filename we wanted."
   ]
  },
  {
   "cell_type": "code",
   "execution_count": null,
   "id": "8ef2dbd6",
   "metadata": {},
   "outputs": [],
   "source": [
    "print('Filename we identified with SpectralDB:',filename)\n",
    "print(obs_table['dataURL'])"
   ]
  },
  {
   "cell_type": "markdown",
   "id": "ebdc3d51",
   "metadata": {},
   "source": [
    "The two do not match; we wanted the 1D extracted spectrum that ends in `_x1d.fits` but the only URL listed in our observation table is the full spectral data cube that ends in `_s3d.fits`. **The lesson here is to be sure to use the filename from SpectralDB**, not `Astroquery.Observations`."
   ]
  },
  {
   "cell_type": "markdown",
   "id": "d5112933",
   "metadata": {},
   "source": [
    "The URLs for retrieving data with the Spectral DB API will all begin with https://mast.stsci.edu/spectra/api/v0.1/retrieve?. In our case, with a known URI, we'll append 'uri=' and then the spectrum's URI. Note that the URI includes the prefix `mast:JWST/product/` followed by the filename. In the code block below, we combine those two strings and print the final result.  "
   ]
  },
  {
   "cell_type": "code",
   "execution_count": null,
   "id": "f7719784",
   "metadata": {},
   "outputs": [],
   "source": [
    "prefix='https://mast.stsci.edu/spectra/api/v0.1/retrieve?uri='\n",
    "uri='mast:JWST/product/'+filename\n",
    "url=prefix+uri\n",
    "print(url)"
   ]
  },
  {
   "cell_type": "markdown",
   "id": "cbe6affa",
   "metadata": {},
   "source": [
    "Like above, by using requests.get with our URL, we ask the Spectral DB API to send the spectrum information associated with that unique URI and check for a status code of 200 for success."
   ]
  },
  {
   "cell_type": "code",
   "execution_count": null,
   "id": "483dbdcf",
   "metadata": {},
   "outputs": [],
   "source": [
    "r2=requests.get(url)\n",
    "r2.status_code"
   ]
  },
  {
   "cell_type": "markdown",
   "id": "40e24fab",
   "metadata": {},
   "source": [
    "Similarly to our result from searching, this result `r2` contains multiple keys:"
   ]
  },
  {
   "cell_type": "code",
   "execution_count": null,
   "id": "a25dcfe9",
   "metadata": {},
   "outputs": [],
   "source": [
    "r2.json().keys()"
   ]
  },
  {
   "cell_type": "markdown",
   "id": "d5df8970",
   "metadata": {},
   "source": [
    "The `r2` object itself looks a lot like a dictionary of dictionaries. It contains information about our request (status, message, uri, filename), a dictionary of the metadata for each column, and a dictionary of the array data we'd expect for a spectrum (e.g. wavelength, flux, and some characterization of the error). \n",
    "\n",
    "Below, we exact the 'data' dictionary and plot the wavelength vs. flux columns using the built-in matplotlib routines. "
   ]
  },
  {
   "cell_type": "code",
   "execution_count": null,
   "id": "004a8bd2",
   "metadata": {},
   "outputs": [],
   "source": [
    "data=r2.json()['data']\n",
    "plt.plot(data['wavelength'],data['flux'])"
   ]
  },
  {
   "cell_type": "markdown",
   "id": "2b92466f",
   "metadata": {},
   "source": [
    "### Exercises\n",
    "\n",
    "3. Find the units of the wavelength and frequency columns from the column metadata in the JSON object and add axis labels to the plot. "
   ]
  },
  {
   "cell_type": "code",
   "execution_count": null,
   "id": "fa1f7eba",
   "metadata": {},
   "outputs": [],
   "source": [
    "# Code for Exercise 3"
   ]
  },
  {
   "cell_type": "markdown",
   "id": "8c475d54",
   "metadata": {},
   "source": [
    "## Viewing the Spectrum in Specviz\n",
    "\n",
    "Though the built-in plotting routines in Python are helpful to making sure we understand the structure of the data we retrieve from the MAST archive, they are not particularly useful for detailed spectral analysis. The [Jdaviz](https://jdaviz.readthedocs.io/en/latest/) package is specially built for data visualization and analysis of images (using Imviz), 1-dimensional spectra (Specviz), spectral cubes (Cubeviz), and multi-object spectroscopy (Mosviz).  \n",
    "\n",
    "First, we load and show a new instance of Specviz, since we are using a one-dimensional spectrum."
   ]
  },
  {
   "cell_type": "code",
   "execution_count": null,
   "id": "99c9fe79",
   "metadata": {},
   "outputs": [],
   "source": [
    "specviz = Specviz()\n",
    "specviz.show()"
   ]
  },
  {
   "cell_type": "markdown",
   "id": "156f2944",
   "metadata": {},
   "source": [
    "Next, we need to convert the information in our `data` dictionary into an object that can be understood by Specviz. We will create a Spectrum1D object from the specutils package. At minimum, we need to provide the array that defines the horizontal axis (the spectral_axis keyword) and the array that defines the vertical axis (the flux keyword). Both arrays need to have the correct units, so we can multiply their respective columns in `data` by an astropy units object. \"um\" is the standard abbreviation for microns. (To know why these units were used, be sure to try Exercise 1 above!)\n",
    "\n",
    "We can also include the uncertainties from the `fluxErr` column following the [Specutils documentation on Including Uncertainties](https://specutils.readthedocs.io/en/stable/spectrum1d.html#including-uncertainties)."
   ]
  },
  {
   "cell_type": "code",
   "execution_count": null,
   "id": "1e58ce80",
   "metadata": {},
   "outputs": [],
   "source": [
    "wavelength=data['wavelength']*u.um\n",
    "flux=data['flux']*u.Jy\n",
    "error=StdDevUncertainty(data['fluxErr']*u.Jy)\n",
    "spec1d=Spectrum1D(spectral_axis=wavelength,flux=flux,uncertainty=error) "
   ]
  },
  {
   "cell_type": "markdown",
   "id": "f2cc387c",
   "metadata": {},
   "source": [
    "In the next code block, we load the spectrum object into Specviz and provide a helpful label (\"From JSON\"). By default, the spectrum will appear in our specviz window above, from earlier in the notebook.\n",
    "\n",
    "If we added ```specviz.show()``` to the code block below, another (identical) specviz window would be shown here. Calling ```specviz.show()``` frequently would create a lot of windows and make your Jupyter notebook quite long and with redundant visual information."
   ]
  },
  {
   "cell_type": "code",
   "execution_count": null,
   "id": "3fc0dd7e",
   "metadata": {},
   "outputs": [],
   "source": [
    "specviz.load_spectrum(spec1d,data_label=\"From JSON\")"
   ]
  },
  {
   "cell_type": "markdown",
   "id": "a00722d7",
   "metadata": {},
   "source": [
    "We have successfully searched the SpectralDB API and used it to access a spectrum, without downloading any files on our local machine! There are many other powerful data analysis tools in Specviz that you can use. Check out the [Specviz documentation](https://jdaviz.readthedocs.io/en/latest/specviz/index.html) for more information including [example notebooks and video tutorials](https://jdaviz.readthedocs.io/en/latest/specviz/examples.html)."
   ]
  },
  {
   "cell_type": "markdown",
   "id": "fdd57864",
   "metadata": {},
   "source": [
    "### Exercises\n",
    "\n",
    "4. Download the file associated with this URI using the [`Astroquery` instructions for Downloading a Single File](https://astroquery.readthedocs.io/en/latest/mast/mast.html#downloading-a-single-file). Load the spectrum into Specviz, labeling it \"From file\", and confirm that the contents of the two spectra (from JSON and from file) are identical."
   ]
  },
  {
   "cell_type": "code",
   "execution_count": null,
   "id": "135af143",
   "metadata": {},
   "outputs": [],
   "source": [
    "# Code for Exercise 4"
   ]
  },
  {
   "cell_type": "markdown",
   "id": "a58cbbc1",
   "metadata": {},
   "source": [
    "## Citations\n",
    "\n",
    "If you use these Python tools for published research, please cite the\n",
    "authors. Follow these links for more information about citing:\n",
    "\n",
    "* [Citing `astropy`](https://www.astropy.org/acknowledging.html)\n",
    "* [Citing `astroquery`](https://github.com/astropy/astroquery/blob/main/astroquery/CITATION) \n",
    "* [Citing `jdaviz`](https://jdaviz.readthedocs.io/en/latest/index.html#license-attribution)\n",
    "* [Citing `specutils`](https://github.com/astropy/specutils/blob/main/specutils/CITATION)"
   ]
  },
  {
   "cell_type": "markdown",
   "id": "b7e7d858",
   "metadata": {},
   "source": [
    "## About this Notebook\n",
    "\n",
    "**Author:** Julia Kamenetzky  \n",
    "**Last Updated:** Sep 2022  \n",
    "**Next Review:** Dec 2022\n",
    "\n",
    "For support, please contact the Archive HelpDesk at archive@stsci.edu."
   ]
  },
  {
   "cell_type": "markdown",
   "id": "67bfdf4d",
   "metadata": {},
   "source": [
    "***"
   ]
  },
  {
   "cell_type": "markdown",
   "id": "5c225c58",
   "metadata": {},
   "source": [
    "[Top of Page](#top)\n",
    "<img style=\"float: right;\" src=\"https://raw.githubusercontent.com/spacetelescope/notebooks/master/assets/stsci_pri_combo_mark_horizonal_white_bkgd.png\" alt=\"Space Telescope Logo\" width=\"200px\"/> "
   ]
  }
 ],
 "metadata": {
  "kernelspec": {
   "display_name": "Python 3 (ipykernel)",
   "language": "python",
   "name": "python3"
  },
  "language_info": {
   "codemirror_mode": {
    "name": "ipython",
    "version": 3
   },
   "file_extension": ".py",
   "mimetype": "text/x-python",
   "name": "python",
   "nbconvert_exporter": "python",
   "pygments_lexer": "ipython3",
   "version": "3.8.13"
  }
 },
 "nbformat": 4,
 "nbformat_minor": 5
}