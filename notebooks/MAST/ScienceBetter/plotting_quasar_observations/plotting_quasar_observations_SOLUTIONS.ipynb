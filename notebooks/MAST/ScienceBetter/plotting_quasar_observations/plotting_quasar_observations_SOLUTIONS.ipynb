{
 "cells": [
  {
   "cell_type": "markdown",
   "id": "0e6d423c",
   "metadata": {},
   "source": [
    "## Excersize for plotting_quasar_observations.ipynb\n",
    "### Recognizing Familiar Emission Lines\n",
    "\n",
    "Look at the spectrum we plotted, does anything stand out to you?\n",
    "\n",
    "In astronomy, spectral features at specific wavelengths are indicative of known elements. For example, an emission line at 1216 Angstroms is called Lyman Alpha. It is produced when an orbital electron of a hydrogen atom drops from the first excited state down to the ground state, emitting a photon.\n",
    "\n",
    "Does 3c273 have a Lyman Alpha emission line? Plot a vertical line at 1216 Angstroms to find out.\n",
    "\n",
    "### Solution:"
   ]
  },
  {
   "cell_type": "code",
   "execution_count": null,
   "id": "ffa4ead5",
   "metadata": {},
   "outputs": [],
   "source": [
    "#Answer to Exercise. SPECTRUM PLOTTING CELL COPIED HERE, SOLUTION LINES AT THE BOTTOM\n",
    "\n",
    "#Make the figure and set the font size globally\n",
    "plt.rcParams.update({\"font.size\": 14})\n",
    "plt.figure(1,(15,8))\n",
    "\n",
    "#Gather the arrays from our data table\n",
    "waves = tab['WAVELENGTH']\n",
    "fluxes = tab[\"FLUX\"]\n",
    "segment = tab['SEGMENT']\n",
    "\n",
    "#You'll notice from our data table that there are two segments to this observation, FUV A and FUV B\n",
    "#Let's parse the spectra by their segment and plot them separately\n",
    "ind_A = np.squeeze(np.where(fluxes != 0) and np.where(segment == 'FUVA'))\n",
    "waves_A = waves[ind_A]\n",
    "fluxes_A = fluxes[ind_A]\n",
    "ind_B = np.squeeze(np.where(fluxes != 0) and np.where(segment == 'FUVB'))\n",
    "waves_B = waves[ind_B]\n",
    "fluxes_B = fluxes[ind_B]\n",
    "\n",
    "#Plot both segments\n",
    "plt.plot(waves_B, fluxes_B, label = \"FUV B\", color = 'lightcoral')\n",
    "plt.plot(waves_A, fluxes_A, label = \"FUV A\", color = 'turquoise')\n",
    "\n",
    "#Set the x and y axes labels and the title\n",
    "plt.xlabel('Wavelength [{}]'.format(tab['WAVELENGTH'].unit))\n",
    "plt.ylabel('Flux [{}]'.format(tab['FLUX'].unit))\n",
    "plt.title(\"HST Spectrum of 3c273\")\n",
    "\n",
    "#plot the legend\n",
    "plt.legend()\n",
    "\n",
    "#give the figure a tight layout (optional)\n",
    "plt.tight_layout()\n",
    "\n",
    "#SOLUTION HERE\n",
    "xval = 1216 #Lyman Alpha in Angstroms\n",
    "plt.axvline(xval, color = \"black\", linestyle = \"--\")"
   ]
  }
 ],
 "metadata": {
  "kernelspec": {
   "display_name": "Python 3 (ipykernel)",
   "language": "python",
   "name": "python3"
  },
  "language_info": {
   "codemirror_mode": {
    "name": "ipython",
    "version": 3
   },
   "file_extension": ".py",
   "mimetype": "text/x-python",
   "name": "python",
   "nbconvert_exporter": "python",
   "pygments_lexer": "ipython3",
   "version": "3.8.13"
  }
 },
 "nbformat": 4,
 "nbformat_minor": 5
}
