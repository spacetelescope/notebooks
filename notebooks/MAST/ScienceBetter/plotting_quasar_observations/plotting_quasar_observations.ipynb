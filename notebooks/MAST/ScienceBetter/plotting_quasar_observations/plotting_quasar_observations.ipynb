{
 "cells": [
  {
   "cell_type": "markdown",
   "id": "2151027e",
   "metadata": {},
   "source": [
    "# Historical Quasar Observations\n",
    "***\n",
    "## Learning Goals\n",
    "By the end of this tutorial, you will:\n",
    "* Understand how to query data on a target from the MAST archive.\n",
    "* Be able to plot a Historial Observational Coverage plot of a target.\n",
    "* Know how to plot a Hubble Spectrum for a target.\n",
    "\n",
    "## Introduction\n",
    "Quasars are extremely luminous astronomical objects that can be found at the center of some galaxies. They are powered by gas spiraling at high velocity into a super-massive black hole. The brightest quasars are capable of outshining all the stars in their galaxy; they can be seen from billions of light-years away. The first quasar ever discovered is called **3c273**. It is one of the most luminous quasars and therefore one of the most luminous objects in the observable universe. It is at a distance of 749 Megaparsecs [1 Megaparsec = 1 million parsecs = 3.26 million lightyears] with an absolute magnitude of −26.7, meaning that if it were at a distance of 10 parsecs, it would be as bright in our sky as the Sun. \n",
    "\n",
    "Quasar **3c273** is the our target in this tutorial. We will first search the MAST Archive for all the observations of this quasar. Then, we will display those observations in a historic coverage plot; that is, a plot of the wavelengths in which **3c273** was observed for a given year. This will help us understand what the history of observations of this quasar looks over time. Finally, we will plot a spectrum from one of the observations. \n",
    "\n",
    "### Workflow\n",
    "\n",
    "* [Imports](#Imports)\n",
    "* [Historic Observation Coverage](#Historical-Observation-Coverage)\n",
    "    * [Query the MAST Archive](#Query-the-MAST-Archive-by-Object-Name)\n",
    "    * [Create Plotting Variables](#Create-Plotting-Variables)\n",
    "    * [Plotting Historical Observation Coverage](#Plotting-Historical-Observation-Coverage)\n",
    "* [Plot a Spectrum](#Plot-a-Spectrum)\n",
    "    * [Query HST for Spectra](#Query-HST-for-Spectra)\n",
    "    * [List Available Instrument and Filter Combinations](#List-Available-Instrument-and-Filter-Combinations)\n",
    "    * [Select Desired Observations](#Select-Observations-with-a-Specific-Instrument-and-Filter-Combination)\n",
    "    * [Filter for Relevant Products](#Filtering-for-Relevant-Products)\n",
    "    * [Download the Data](#Download-the-Data-to-Plot)\n",
    "    * [Plot the Spectrum](#Plot-the-Spectrum)\n",
    "* [Exercises](#Exercises)"
   ]
  },
  {
   "cell_type": "markdown",
   "id": "b9a2a907",
   "metadata": {},
   "source": [
    "## Imports\n",
    "The following cell holds the imported packages. These packages are necessary for running the rest of the cells in this notebook. A description of each import is as follows:\n",
    "\n",
    "* `numpy` to handle array functions\n",
    "* `pandas` to handle date conversions\n",
    "* `fits` from astropy.io for accessing FITS files\n",
    "* `Table` from astropy.table for creating tidy tables of the data\n",
    "* `matplotlib.pyplot` for plotting data\n",
    "* `Mast` and `Observations` from astroquery.mast for querying data and observations from the MAST archive"
   ]
  },
  {
   "cell_type": "code",
   "execution_count": null,
   "id": "b7dfb613",
   "metadata": {},
   "outputs": [],
   "source": [
    "from astropy.io import fits\n",
    "from astropy.table import Table\n",
    "from astroquery.mast import Mast, Observations\n",
    "\n",
    "import itertools\n",
    "import numpy as np\n",
    "import pandas as pd\n",
    "import matplotlib.pyplot as plt\n",
    "\n",
    "%matplotlib inline"
   ]
  },
  {
   "cell_type": "markdown",
   "id": "a20fe201",
   "metadata": {},
   "source": [
    "# Historical Observation Coverage\n",
    "The MAST Archive has data from as early as the 1970s. In this section, we'll search for a target by name and examine its observational history. We'll create a plot of this history, showing when the target was observed, in what wavelength, and by which mission."
   ]
  },
  {
   "cell_type": "markdown",
   "id": "1405104b",
   "metadata": {},
   "source": [
    "## Query the MAST Archive by Object Name\n",
    "\n",
    "We are going to use the **astroquery.mast** `Observations` package to gather our data from the MAST Archive. In this tutorial, we will use the `Observations.query_object()` function which takes the name of the target and an optional radius. If you don't specify a radius, 0.2 degrees will be used by default. For more information about queries you can read the [astroquery.mast readthedocs](https://astroquery.readthedocs.io/en/latest/mast/mast.html)."
   ]
  },
  {
   "cell_type": "code",
   "execution_count": null,
   "id": "bb3976ff",
   "metadata": {},
   "outputs": [],
   "source": [
    "# Define target name\n",
    "target_name = \"3c273\"\n",
    "\n",
    "# We'll name the data \"obs_table\" for \"observations table\"\n",
    "obs_table = Observations.query_object(target_name)"
   ]
  },
  {
   "cell_type": "code",
   "execution_count": null,
   "id": "89cea44b",
   "metadata": {},
   "outputs": [],
   "source": [
    "# Print out the first 10 entries with limited columns, if you want to see a preview\n",
    "columns = ['intentType', 'obs_collection', 'wavelength_region', 'target_name', 'dataproduct_type', 'em_min']\n",
    "obs_table[:10][columns].show_in_notebook()"
   ]
  },
  {
   "cell_type": "markdown",
   "id": "c3772f97",
   "metadata": {},
   "source": [
    "## Create Plotting Variables\n",
    "Before we start parsing our observations table, let's recall what we want to do with it.\n",
    "\n",
    "First, we want to plot a historical observation coverage plot, where the horizontal axis will be time and the vertical axis will be observed wavelength. We are also going to want to label or color each observation according to what mission it corresponds to. So, we are going need variables for:\n",
    "* array of times of all observations = `times`\n",
    "* array of wavelengths of all observations = `waves`\n",
    "* array of mission names of all observations = `mission` <br> \n",
    "\n",
    "We will want to modify the queried data for easy visualization:\n",
    "1) We will want to convert the Modified Julian Date (MJD) to a calendar year so when we plot the timeline, it will be easy to tell when each observation was made. \n",
    "\n",
    "2) MAST only holds columns for the minimum and maximum wavelength of the observation, but for the historic observation coverage plot, we only want one wavelength per observation. We will calculate the average of the min/max values, and use this number instead."
   ]
  },
  {
   "cell_type": "code",
   "execution_count": null,
   "id": "03622f17",
   "metadata": {},
   "outputs": [],
   "source": [
    "# Parse the observations table to get the Time data\n",
    "obs_times = obs_table[\"t_min\"]\n",
    "\n",
    "# Convert MJD to Calendar Date:\n",
    "# Initialize list for times as calendar dates\n",
    "times = []\n",
    "# Loop through times queried from MAST\n",
    "for t in obs_times:\n",
    "    # Convert MJD to Julian date\n",
    "    t = t + 2400000.5\n",
    "    # Convert Julian date to Calendar date \n",
    "    time = pd.to_datetime(t, unit = 'D', origin = 'julian')\n",
    "    # Add converted date to times list\n",
    "    times.append(time.to_numpy())\n",
    "\n",
    "# Change list to numpy array for easy plotting\n",
    "times = np.array(times)\n",
    "\n",
    "# Parse observations table to get the wavelength data\n",
    "wavelength_min = obs_table[\"em_min\"]\n",
    "wavelength_max = obs_table[\"em_max\"]\n",
    "# Some older missions have wavelengths that are off by a factor of 10^9\n",
    "waves = []\n",
    "for wave in wavelength_min:\n",
    "    if wave/1e9 >= 1:\n",
    "        waves.append(wave/1e9)\n",
    "    else:\n",
    "        waves.append(wave)\n",
    "#change list to numpy array\n",
    "waves = np.array(waves)\n",
    "\n",
    "#Parse the observations table to get the mission names data\n",
    "mission = obs_table[\"obs_collection\"]\n",
    "mission = np.array(mission)"
   ]
  },
  {
   "cell_type": "markdown",
   "id": "fc6ae213",
   "metadata": {},
   "source": [
    "## Plotting Historical Observation Coverage\n",
    "\n",
    "We want to visualize the history of observations of **3c273** according to the wavelength of the observation. This plot will tell us much more if we change the color of each point to indicate which mission made the observation. "
   ]
  },
  {
   "cell_type": "code",
   "execution_count": null,
   "id": "0801f224",
   "metadata": {},
   "outputs": [],
   "source": [
    "#make plot axes\n",
    "fig = plt.figure()\n",
    "fig.set_size_inches(15,10)\n",
    "ax = fig.add_subplot()\n",
    "        \n",
    "#get color for every unique mission name\n",
    "cm = plt.cm.get_cmap(\"plasma\") \n",
    "num_colors = len(np.unique(mission))\n",
    "ax.set_prop_cycle(color = [cm(1.*i/num_colors) for i in range(num_colors)])\n",
    "marker = itertools.cycle(('^', 'o', 's','*')) \n",
    "\n",
    "#loop through the mission names\n",
    "for i in np.unique(mission):\n",
    "    #filter times and wavelengths by mission name\n",
    "    ind = np.where(mission == i)\n",
    "    #plot it\n",
    "    ax.scatter(times[ind], waves[ind], label = i, s = 100, marker = next(marker))#, edgecolor = ecolor)\n",
    "\n",
    "# plt.plot(times, wavelengths)\n",
    "\n",
    "#place the legend\n",
    "plt.legend()  \n",
    "#set the limits of the y-axis\n",
    "plt.ylim(10**-9,10**3)\n",
    "# set the label of the x and y axes\n",
    "plt.xlabel(\"Time of Observation [Year]\", fontsize = 15)\n",
    "plt.ylabel(\"Wavelength of Observation [nm]\", fontsize = 15)\n",
    "#show the plot\n",
    "plt.show()"
   ]
  },
  {
   "cell_type": "markdown",
   "id": "a1fc0f6a",
   "metadata": {},
   "source": [
    "# Plot a Spectrum\n",
    "\n",
    "Now, we want to plot a spectrum from one of our observations, where the x-axis will be wavelength and the y-axis will be flux (brightness).\n",
    "\n",
    "We can use our historical observational coverage plot to choose which observation to plot. Let's pick one from the Hubble Space Telescope (HST). Its high resolution coverage of the ultraviolet makes emission and absorption lines in this region clear; this can help us deduce the composition of **3c273**.\n",
    "\n",
    "### Query HST for Spectra"
   ]
  },
  {
   "cell_type": "code",
   "execution_count": null,
   "id": "196e661c",
   "metadata": {},
   "outputs": [],
   "source": [
    "# Query all the observations of 3c273 from the Hubble Space Telescope\n",
    "hst_table = Observations.query_criteria(objectname=\"3c273\",radius=\"10 arcsec\", \n",
    "                                        dataproduct_type=\"spectrum\", obs_collection=\"HST\")\n",
    "\n",
    "# Let's print out some relevant columns of this table\n",
    "columns = [\"instrument_name\",\"filters\",\"target_name\",\"obs_id\",\"calib_level\",\"t_exptime\"]\n",
    "hst_table[columns].show_in_notebook(display_length=10)"
   ]
  },
  {
   "cell_type": "markdown",
   "id": "cc1bc55a",
   "metadata": {},
   "source": [
    "### List Available Instrument and Filter Combinations\n",
    "\n",
    "Most telescopes will have multiple instruments and observing modes. Here we'll print a summary of the filters and instruments that are available for our search results. This is useful to us because the different instruments aboard Hubble will cover different wavelength ranges.\n",
    "\n",
    "In our table, we'll also create two new columns: average exposure time and maximum exposure time. This can help constrain searches for faint objects, or targets that need a longer exposure to be fully resolved."
   ]
  },
  {
   "cell_type": "code",
   "execution_count": null,
   "id": "e32ba9da",
   "metadata": {},
   "outputs": [],
   "source": [
    "hst_table['count'] = 1\n",
    "columns = hst_table.group_by([\"instrument_name\",\"filters\"])\n",
    "summary_table = columns[\"instrument_name\",\"filters\",\"count\"].groups.aggregate(np.sum)\n",
    "\n",
    "# Create two new columns: the average exposure time, and the maximum\n",
    "summary_table[\"avg_exptime\"] = columns['t_exptime'].groups.aggregate(np.mean)\n",
    "summary_table[\"max_exptime\"] = columns['t_exptime'].groups.aggregate(np.max)\n",
    "summary_table[\"avg_exptime\"].format = \".1f\"\n",
    "summary_table[\"max_exptime\"].format = \".1f\"\n",
    "\n",
    "#Take a look at the summary table\n",
    "summary_table"
   ]
  },
  {
   "cell_type": "markdown",
   "id": "fc2c8be0",
   "metadata": {},
   "source": [
    "### Select Observations with a Specific Instrument and Filter Combination\n",
    "\n",
    "We are interested in an ultraviolet observation that has an appropriate number of observations. Many of these instrument and filter combinations only have 1 or 2 observations. The COS G130M data looks like a good possibility. Let's look at the observations for that mode. "
   ]
  },
  {
   "cell_type": "code",
   "execution_count": null,
   "id": "964b2c29",
   "metadata": {},
   "outputs": [],
   "source": [
    "g130m_table = hst_table['obsid','obs_id','target_name','calib_level',\n",
    "                        't_exptime','filters','em_min','em_max'][hst_table['filters']=='G130M']\n",
    "\n",
    "# Print out the table of data for this specific filter configuration\n",
    "g130m_table"
   ]
  },
  {
   "cell_type": "code",
   "execution_count": null,
   "id": "09769b87",
   "metadata": {},
   "outputs": [],
   "source": [
    "# We'll take the longest exposure in this filter and plot the spectrum\n",
    "sel_table = g130m_table[np.argmax(g130m_table['t_exptime'])]"
   ]
  },
  {
   "cell_type": "code",
   "execution_count": null,
   "id": "76c0de59",
   "metadata": {},
   "outputs": [],
   "source": [
    "#Take a look at the selected observation's data table\n",
    "sel_table"
   ]
  },
  {
   "cell_type": "markdown",
   "id": "b10ae71f",
   "metadata": {},
   "source": [
    "### Filtering for Relevant Products\n",
    "Our table of selected observations includes not just the spectra but also RAW files, dark scans, bias scans, and others, all of which are used in the calibration of the data. These are not necessary for plotting the spectrum, so we'll filter them out by selecting only the Minimum Recommended Products which are marked as intended for science."
   ]
  },
  {
   "cell_type": "code",
   "execution_count": null,
   "id": "3deb04d2",
   "metadata": {},
   "outputs": [],
   "source": [
    "# Query the observations from MAST to get a list of products for our selected observation\n",
    "data_products = Observations.get_product_list(sel_table)\n",
    "\n",
    "# Get the minimum required products\n",
    "filtered = Observations.filter_products(data_products, productType='SCIENCE', \n",
    "                                        productGroupDescription='Minimum Recommended Products')\n",
    "\n",
    "# Let's take a look at the products available for our selected observation\n",
    "filtered"
   ]
  },
  {
   "cell_type": "markdown",
   "id": "180080e1",
   "metadata": {},
   "source": [
    "### Download the Data to Plot"
   ]
  },
  {
   "cell_type": "code",
   "execution_count": null,
   "id": "25e311c9",
   "metadata": {},
   "outputs": [],
   "source": [
    "# Download the data for our selected observation\n",
    "data = Observations.download_products(filtered)"
   ]
  },
  {
   "cell_type": "markdown",
   "id": "c5b136e0",
   "metadata": {},
   "source": [
    "We've downloaded a [Flexible Image Transport System](https://fits.gsfc.nasa.gov/) (FITS) file. This is a very common file type used in astronomy for holding data of multiple dimensions. FITS files can hold images but can also contain spectral and temporal information. \n",
    "\n",
    "We can read the columns of our FITS file to see that it holds two segements of data for this observation, FUVA and FUVB. These are two different subsections of the far-ultraviolet spectrum that Hubble observes.\n",
    "\n",
    "To plot a spectrum, we'll need to get the data from the `Wavelength` and `Flux` columns. "
   ]
  },
  {
   "cell_type": "code",
   "execution_count": null,
   "id": "51232a79",
   "metadata": {},
   "outputs": [],
   "source": [
    "#Take a peek at the FITS file we downloaded\n",
    "filename = data['Local Path'][0]\n",
    "fits.info(filename)\n",
    "\n",
    "#Read the table with the spectrum from the FITS file\n",
    "tab = Table.read(filename)\n",
    "tab"
   ]
  },
  {
   "cell_type": "markdown",
   "id": "beffd6ba",
   "metadata": {},
   "source": [
    "### Plot the Spectrum"
   ]
  },
  {
   "cell_type": "code",
   "execution_count": null,
   "id": "fee75468",
   "metadata": {},
   "outputs": [],
   "source": [
    "#Make the figure and set the font size globally\n",
    "plt.rcParams.update({\"font.size\": 14})\n",
    "plt.figure(1,(15,8))\n",
    "\n",
    "#Gather the arrays from our data table\n",
    "waves = tab['WAVELENGTH']\n",
    "fluxes = tab[\"FLUX\"]\n",
    "segment = tab['SEGMENT']\n",
    "\n",
    "#You'll notice from our data table that there are two segments to this observation, FUV A and FUV B\n",
    "#Let's parse the spectra by their segment and plot them separately\n",
    "ind_A = np.squeeze(np.where(fluxes != 0) and np.where(segment == 'FUVA'))\n",
    "waves_A = waves[ind_A]\n",
    "fluxes_A = fluxes[ind_A]\n",
    "ind_B = np.squeeze(np.where(fluxes != 0) and np.where(segment == 'FUVB'))\n",
    "waves_B = waves[ind_B]\n",
    "fluxes_B = fluxes[ind_B]\n",
    "\n",
    "#Plot both segments\n",
    "plt.plot(waves_B, fluxes_B, label = \"FUV B\", color = 'lightcoral')\n",
    "plt.plot(waves_A, fluxes_A, label = \"FUV A\", color = 'turquoise')\n",
    "\n",
    "#Set the x and y axes labels and the title\n",
    "plt.xlabel('Wavelength [{}]'.format(tab['WAVELENGTH'].unit))\n",
    "plt.ylabel('Flux [{}]'.format(tab['FLUX'].unit))\n",
    "plt.title(\"HST Spectrum of 3c273\")\n",
    "\n",
    "#plot the legend\n",
    "plt.legend()\n",
    "\n",
    "#give the figure a tight layout (optional)\n",
    "plt.tight_layout()"
   ]
  },
  {
   "cell_type": "markdown",
   "id": "30a59ddd",
   "metadata": {},
   "source": [
    "# Exercises\n",
    "### Recognizing Familiar Emission Lines\n",
    "Look at the spectrum we plotted, does anything stand out to you? \n",
    "\n",
    "In astronomy, spectral features at specific wavelengths are indicative of known elements. For example, an emission line at 1216 Angstroms is called Lyman Alpha. It is produced when an orbital electron of a hydrogen atom drops from the first excited state down to the ground state, emitting a photon. \n",
    "\n",
    "Does **3c273** have a Lyman Alpha emission line? Plot a vertical line at 1216 Angstroms to find out."
   ]
  },
  {
   "cell_type": "markdown",
   "id": "1c7fdde4",
   "metadata": {},
   "source": [
    "# Citations\n",
    "\n",
    "* [Citation for `astropy`](https://github.com/astropy/astroquery/blob/main/astroquery/CITATION)\n"
   ]
  },
  {
   "cell_type": "markdown",
   "id": "38972ed1",
   "metadata": {},
   "source": [
    "# About this Notebook\n",
    "\n",
    "**Author**: Emma Lieb <br>\n",
    "**Last updated:** Sep 2022\n",
    "\n",
    "If you have questions, comments, or other feedback, please contact the Archive HelpDesk at archive@stsci.edu.\n",
    "\n",
    "***\n",
    " <img style=\"float: right;\" src=\"https://raw.githubusercontent.com/spacetelescope/notebooks/master/assets/stsci_pri_combo_mark_horizonal_white_bkgd.png\" alt=\"Space Telescope Logo\" width=\"200px\"/>\n",
    "\n",
    "[Return to top of page](#Historical-Quasar-Observations)"
   ]
  }
 ],
 "metadata": {
  "kernelspec": {
   "display_name": "Python 3 (ipykernel)",
   "language": "python",
   "name": "python3"
  },
  "language_info": {
   "codemirror_mode": {
    "name": "ipython",
    "version": 3
   },
   "file_extension": ".py",
   "mimetype": "text/x-python",
   "name": "python",
   "nbconvert_exporter": "python",
   "pygments_lexer": "ipython3",
   "version": "3.8.13"
  }
 },
 "nbformat": 4,
 "nbformat_minor": 5
}