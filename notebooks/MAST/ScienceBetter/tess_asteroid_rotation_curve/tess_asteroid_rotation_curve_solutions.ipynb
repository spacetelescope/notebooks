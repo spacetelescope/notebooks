{
 "cells": [
  {
   "cell_type": "markdown",
   "id": "b7f47a1c",
   "metadata": {},
   "source": [
    "<a id=\"Top\"></a>\n",
    "\n",
    "# Finding the Rotation Curve of an Asteroid or Comet with TESScut and lightkurve: Solutions"
   ]
  },
  {
   "cell_type": "markdown",
   "id": "22cfa35a",
   "metadata": {},
   "source": [
    "Before the solutions can be run, this code reproduces the necessary variables from the tutorial into this notebook.\n",
    "\n",
    "# Contents\n",
    "* [Imports, prerequisite cells](#Imports,-Prerequisite-Cells)\n",
    "1. [Confirm lightcurve truncation is appropriate.](#1)\n",
    "2. [Confirm remove_outlier cutoff value is appropriate.](#2)\n",
    "3. [Is rotation period changed by sector?](#3)\n",
    "4. [Use the TESSCut website to download more observations.](#4)\n",
    "5. [Find the rotation period of Hippodamia.](#5)\n",
    "6. [Why is the median flux of first sector's observations lower than the second?](#6)\n",
    "\n",
    "\n",
    "# Imports, Prerequisite Cells"
   ]
  },
  {
   "cell_type": "code",
   "execution_count": null,
   "id": "a3ec97ec",
   "metadata": {},
   "outputs": [],
   "source": [
    "from astropy.io import fits\n",
    "from astropy.table import Table\n",
    "import astropy.units as u\n",
    "import matplotlib.pyplot as plt\n",
    "import numpy as np\n",
    "\n",
    "from astroquery.mast import Tesscut\n",
    "from astropy.visualization import time_support\n",
    "import lightkurve as lk\n",
    "\n",
    "%matplotlib inline"
   ]
  },
  {
   "cell_type": "code",
   "execution_count": null,
   "id": "2da460d5",
   "metadata": {},
   "outputs": [],
   "source": [
    "objname='Eleonora'\n",
    "nsectors=2\n",
    "for i in range(nsectors):\n",
    "    tpf = lk.TessTargetPixelFile(f\"objname_{i}.fits\")\n",
    "    if i==0: \n",
    "        tpfc=lk.TargetPixelFileCollection([tpf])\n",
    "    else:\n",
    "        tpfc.append(tpf)"
   ]
  },
  {
   "cell_type": "code",
   "execution_count": null,
   "id": "d9196532",
   "metadata": {},
   "outputs": [],
   "source": [
    "for i in range(nsectors):\n",
    "    lc=tpfc[i].to_lightcurve()\n",
    "    if i==0: \n",
    "        lcc=lk.LightCurveCollection([lc])\n",
    "    else:\n",
    "        lcc.append(lc)    \n",
    "lcc[0]=lcc[0].truncate(after=293,column='cadenceno')\n",
    "lcc[1]=lcc[1].truncate(before=59,column='cadenceno')\n",
    "lcc[1]=lcc[1].remove_outliers(sigma_upper=2)"
   ]
  },
  {
   "cell_type": "markdown",
   "id": "4fffbba4",
   "metadata": {},
   "source": [
    "<a id=\"1\"></a>\n",
    "# 1. Confirm that the first lightcurve in our hdulist should be truncated after cadence number 293. "
   ]
  },
  {
   "cell_type": "code",
   "execution_count": null,
   "id": "0fe1fbbd",
   "metadata": {},
   "outputs": [],
   "source": [
    "# Place for code for Exercise 1\n",
    "# The easiest way to do this is to inspect the first TPF and see that \n",
    "# cadence 293 is the last one before one column of the image becomes cut off.\n",
    "tpfc[0].interact()"
   ]
  },
  {
   "cell_type": "markdown",
   "id": "77e19247",
   "metadata": {},
   "source": [
    "<a id=\"2\"></a>\n",
    "# 2. Confirm that using a `remove_outlier` cutoff of `sigma_upper=2` did not affect the other cadences of the lightcurve for the second sector. \n",
    "\n",
    "At this point in the tutorial, the second sector's original light curve is still saved under the variable name `lc`; plot a graph of its time vs. flux columns and then overplot our sigma-clipped time and flux columns. Hint: You'll need to load `time_support()` first in order to use the time column in matplotlib. "
   ]
  },
  {
   "cell_type": "code",
   "execution_count": null,
   "id": "e28e0803",
   "metadata": {},
   "outputs": [],
   "source": [
    "# SOLUTION FOR EXERCISE 2\n",
    "time_support()\n",
    "plt.plot(lc.time,lc.flux)\n",
    "plt.plot(lcc[1].time,lcc[1].flux)\n",
    "plt.ylim(30000,36000) # Need to zoom in to see the two."
   ]
  },
  {
   "cell_type": "markdown",
   "id": "e5439218",
   "metadata": {},
   "source": [
    "<a id=\"3\"></a>\n",
    "# 3. Determine if the rotation period returned by `lightkurve` is different when using only one sector's light curve at a time. "
   ]
  },
  {
   "cell_type": "code",
   "execution_count": null,
   "id": "4e5511f1",
   "metadata": {},
   "outputs": [],
   "source": [
    "# SOLUTION FOR EXERCISE 3\n",
    "pg0=lcc[0].to_periodogram()\n",
    "pg1=lcc[1].to_periodogram()\n",
    "print(pg0.period_at_max_power.to(u.hr))\n",
    "print(pg1.period_at_max_power.to(u.hr))\n",
    "# To 3 significant figures, lightkurve returns the same period (in hours) \n",
    "# with either light curve individually or with the two light curves combined."
   ]
  },
  {
   "cell_type": "markdown",
   "id": "36aa9752",
   "metadata": {},
   "source": [
    "<a id=\"4\"></a>\n",
    "# 4. Use the interactive [TESSCut webpage](https://mast.stsci.edu/tesscut/) to download 10x10 cutouts for all sectors observing Eleonora. \n",
    "Be sure to select \"Moving Target\" at the top! Load the resulting fits files in and confirm that they are identical to the items in `hdulist` above. \n",
    "\n",
    "**Hint:** Astropy has a built-in method called [FITSDiff](https://docs.astropy.org/en/stable/io/fits/api/diff.html). "
   ]
  },
  {
   "cell_type": "code",
   "execution_count": null,
   "id": "889665f2",
   "metadata": {},
   "outputs": [],
   "source": [
    "# SOLUTION FOR EXERCISE 4\n",
    "# Using the default filenames from the website at the time of the writing of this tutorial:\n",
    "diff1=fits.FITSDiff('Eleonora_0.fits','Eleonora_1468.2870040465345-1475.8494727152606_10.0-x-10.0_astrocut.fits',numdiffs=-1)\n",
    "print(diff1.identical)\n",
    "print(diff1.report())\n",
    "# The only differences appera to be in \"CHECKSUM\" and \"DATASUM\" values, which seem to correspond to the \n",
    "# timestamps when the files were saved. Try ignoring those values. \n",
    "diff1_ignore=fits.FITSDiff('Eleonora_0.fits',\n",
    "                           'Eleonora_1468.2870040465345-1475.8494727152606_10.0-x-10.0_astrocut.fits',\n",
    "                           numdiffs=-1,ignore_keywords=['CHECKSUM','DATASUM'])\n",
    "print(diff1_ignore.identical)\n",
    "# Do the same for the other file.\n",
    "diff2_ignore=fits.FITSDiff('Eleonora_1.fits',\n",
    "                           'Eleonora_1945.4743041992188-1954.8493041992188_10.0-x-10.0_astrocut.fits',\n",
    "                           numdiffs=-1,ignore_keywords=['CHECKSUM','DATASUM'])\n",
    "print(diff2_ignore.identical)"
   ]
  },
  {
   "cell_type": "markdown",
   "id": "6529c38e",
   "metadata": {},
   "source": [
    "<a id=\"5\"></a>\n",
    "# 5. Try recreating the procedure above to find the rotation period for a fainter (higher magnitude) small body from [Pál et al. 2020](https://ui.adsabs.harvard.edu/abs/2020ApJS..247...26P/abstract) such as Hippodamia. \n",
    "What issues do you encounter in this case?"
   ]
  },
  {
   "cell_type": "code",
   "execution_count": null,
   "id": "45f497c8",
   "metadata": {},
   "outputs": [],
   "source": [
    "# SOLUTION FOR EXERCISE 5\n",
    "objname2='Hippodamia'\n",
    "sector_table2=Tesscut.get_sectors(objectname=objname2, moving_target=True)\n",
    "print(sector_table2)\n",
    "# Because there is only one sector, we do not need the loops\n",
    "# that we did for Eleonora. \n",
    "hdulist2 = Tesscut.get_cutouts(objectname=objname2, moving_target=True, size=10)"
   ]
  },
  {
   "cell_type": "code",
   "execution_count": null,
   "id": "1ec882fc",
   "metadata": {},
   "outputs": [],
   "source": [
    "i=0\n",
    "hdulist2[i].writeto(objname2+'_'+str(i)+'.fits',overwrite=True)\n",
    "tpf2 = lk.TessTargetPixelFile(objname2+'_'+str(i)+'.fits')\n",
    "tpf2.interact()"
   ]
  },
  {
   "cell_type": "markdown",
   "id": "659ffc6f",
   "metadata": {},
   "source": [
    "After scrolling through the cadences, it's clear that Hippodamia passes in front of many stars that significantly impact the flux in the aperture, because it is so much dimmer by itself. The influence on the light curve is much more pronounced than for Eleonora. We can try to use a similar outlier removal, but so many of the flux data points are high, it will likely not work. Generally, differential photometry (comparing images before the asteroid appears and after) is required. Because Hippodamia's period is relatively short, (P=8.9993 hr), we can try to cutout the few days around cadences 365-460 to see if we can find the rotation period from that."
   ]
  },
  {
   "cell_type": "code",
   "execution_count": null,
   "id": "34db69ed",
   "metadata": {},
   "outputs": [],
   "source": [
    "lc2=tpf2.to_lightcurve()\n",
    "lc2=lc2.truncate(before=365,after=460,column='cadenceno')\n",
    "lc2.plot()"
   ]
  },
  {
   "cell_type": "code",
   "execution_count": null,
   "id": "d3a3d969",
   "metadata": {},
   "outputs": [],
   "source": [
    "pg2=lc2.to_periodogram()\n",
    "pg2.plot()\n",
    "print(pg2.period_at_max_power.to(u.hr))\n",
    "print(2*pg2.period_at_max_power.to(u.hr))\n"
   ]
  },
  {
   "cell_type": "code",
   "execution_count": null,
   "id": "908fcbb6",
   "metadata": {},
   "outputs": [],
   "source": [
    "# Again, our result is close to 1/2 times to the accepted period. \n",
    "lc2.fold(period=2*pg2.period_at_max_power).scatter()"
   ]
  },
  {
   "cell_type": "markdown",
   "id": "f8b93b87",
   "metadata": {},
   "source": [
    "<a id=\"6\"></a>\n",
    "# 6. Use [astroquery's Minor Planet Center Queries (MPC)](https://astroquery.readthedocs.io/en/latest/mpc/mpc.html?highlight=mpc#ephemerides) `get_ephemeris` feature to investigate why the median flux for the first sector's observations is lower than for the second sector's observations. \n",
    "The times of each cadence are in the light curve's `time` column."
   ]
  },
  {
   "cell_type": "code",
   "execution_count": null,
   "id": "dcbc44b9",
   "metadata": {},
   "outputs": [],
   "source": [
    "# SOLUTION FOR EXERCISE 6.\n",
    "from astroquery.mpc import MPC\n",
    "# Get tables for each start and end time. Just view the first row.\n",
    "eph1=MPC.get_ephemeris('Eleonora',start=lcc[0].time[0])\n",
    "eph2=MPC.get_ephemeris('Eleonora',start=lcc[0].time[-1])\n",
    "eph3=MPC.get_ephemeris('Eleonora',start=lcc[1].time[0])\n",
    "eph4=MPC.get_ephemeris('Eleonora',start=lcc[1].time[-1])\n",
    "columns=['Date','RA','Dec','Delta','r','Elongation','Phase','V']\n",
    "print(eph1[columns][0])\n",
    "print(eph2[columns][0])\n",
    "print(eph3[columns][0])\n",
    "print(eph4[columns][0])"
   ]
  },
  {
   "cell_type": "code",
   "execution_count": null,
   "id": "94a50c37",
   "metadata": {},
   "outputs": [],
   "source": [
    "# Compare the medians of the two fluxes.\n",
    "print(np.median(lcc[0].flux))\n",
    "print(np.median(lcc[1].flux))\n",
    "print((np.median(lcc[1].flux)-np.median(lcc[0].flux))/np.median(lcc[0].flux))"
   ]
  },
  {
   "cell_type": "markdown",
   "id": "50679770",
   "metadata": {},
   "source": [
    "During the second sector, Eleonora was 2.0-2.2% closer than the first, but the median flux was nearly 12% higher and the MPC doesn't report any difference in V magnitude.\n",
    "***\n",
    "[Back to top](#Top)\n",
    "\n",
    "<img style=\"float: right;\" src=\"https://raw.githubusercontent.com/spacetelescope/notebooks/master/assets/stsci_pri_combo_mark_horizonal_white_bkgd.png\" alt=\"Space Telescope Logo\" width=\"200px\"/> "
   ]
  }
 ],
 "metadata": {
  "kernelspec": {
   "display_name": "Python 3 (ipykernel)",
   "language": "python",
   "name": "python3"
  },
  "language_info": {
   "codemirror_mode": {
    "name": "ipython",
    "version": 3
   },
   "file_extension": ".py",
   "mimetype": "text/x-python",
   "name": "python",
   "nbconvert_exporter": "python",
   "pygments_lexer": "ipython3",
   "version": "3.8.13"
  }
 },
 "nbformat": 4,
 "nbformat_minor": 5
}
