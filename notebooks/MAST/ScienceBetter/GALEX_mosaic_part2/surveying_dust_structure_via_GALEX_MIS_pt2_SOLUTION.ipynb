{
 "cells": [
  {
   "cell_type": "markdown",
   "id": "7c9aa64b",
   "metadata": {},
   "source": [
    "<a id=\"top\"></a>\n",
    "# Surveying dust structure via GALEX MIS - Part 2 - SOLUTION\n",
    "***\n",
    "\n",
    "Solutions proposed for Part 2.\n",
    "\n",
    "## Imports\n",
    "\n",
    "- `astropy` to use tools needed for performing astronomy and astrophysics with Python, including handling fits files, defining coordinates or choosing the right limits for image visualization.\n",
    "- `Observations` from _astroquery.mast_ to query the Barbara A. Mikulski Archive for Space Telescopes (MAST).\n",
    "- `os` to  use operating system dependent functionality, such as unzipping files.\n",
    "- `matplotlib` to visualize images.\n",
    "- `numpy` to manipulate arrays.\n",
    "- `PIL` to combine multiple images together"
   ]
  },
  {
   "cell_type": "code",
   "execution_count": null,
   "id": "5d658657",
   "metadata": {},
   "outputs": [],
   "source": [
    "from astropy.coordinates import SkyCoord\n",
    "import astropy.units as u\n",
    "from astroquery.mast import Observations\n",
    "import os\n",
    "from astropy.io import fits\n",
    "import matplotlib.pyplot as plt\n",
    "import matplotlib.image as mpimg\n",
    "from astropy.visualization import ZScaleInterval\n",
    "import numpy as np\n",
    "from PIL import Image, ImageDraw"
   ]
  },
  {
   "cell_type": "markdown",
   "id": "e6e4d2b2",
   "metadata": {},
   "source": [
    "## Functions"
   ]
  },
  {
   "cell_type": "code",
   "execution_count": null,
   "id": "addc9d93",
   "metadata": {},
   "outputs": [],
   "source": [
    "def getImCoord(coord_RA,coord_Dec, RA1, RAf, Dec1, Decf,image,extended_image):\n",
    "    \n",
    "    \"\"\"\n",
    "    Transforms coordinates in (RA, Dec) format into image coordinates to be used as input for the paste method from PIL\n",
    "    Inputs:\n",
    "    :param coord_RA, coord_Dec: coordinates of target (Right Ascension and Declination)\n",
    "    :type coord_RA, coord_Dec: float\n",
    "    :param RA/Dec1, RA/Decf: coordinate limits of image for the RA/Dec axis\n",
    "    :type RA/Dec1, RA/Decf: float\n",
    "    :param image/extended_image: 2D arrays corresponding to the image we want to correctly place and the extended image we will place it on\n",
    "    :type image/extended_image: PIL Jpeg image file\n",
    "    \n",
    "    Outputs: \n",
    "    :return: ImCoord_RA, ImCoord_Dec - Image coordinates\n",
    "    :rtype: float\n",
    "    \"\"\"\n",
    "    \n",
    "    RAx = np.array([RA1,RAf])\n",
    "    pixx = np.array([-image.size[0]/2,extended_image.size[0]-image.size[0]/2])\n",
    "    m_RA, b_RA = np.polyfit(RAx, pixx, 1)\n",
    "    ImCoord_RA = m_RA*coord_RA+b_RA\n",
    "    \n",
    "    Decx = np.array([Dec1,Decf])\n",
    "    pixy = np.array([extended_image.size[1]-image.size[1]/2,-image.size[1]/2])\n",
    "    m_Dec, b_Dec= np.polyfit(Decx, pixy, 1)\n",
    "    ImCoord_Dec = m_Dec*coord_Dec+b_Dec\n",
    "    \n",
    "    return ImCoord_RA, ImCoord_Dec"
   ]
  },
  {
   "cell_type": "markdown",
   "id": "072f26f6",
   "metadata": {},
   "source": [
    "## Exercises\n",
    "\n",
    "Now that we have seen the whole process, let's try to do the same for the same target, but this time let's use the NUV images instead of the FUV images.\n",
    "\n",
    "Here are again the coordinates that SIMBAD provides for the [MBM 15](http://simbad.u-strasbg.fr/simbad/sim-id?Ident=mbm+15&NbIdent=1&Radius=2&Radius.unit=arcmin&submit=submit+id) (Gal. coordinates, ep = J2000):\n",
    "\n",
    "- Galactic longitude: 191.6657 deg\n",
    "- Galactic latitude: -52.2938 deg"
   ]
  },
  {
   "cell_type": "markdown",
   "id": "299a00af",
   "metadata": {},
   "source": [
    "### 1. Coordinate query and data download\n",
    "\n",
    "Following the steps shown before, perform a query in the GALEX MIS database and download the NUV intensity maps corresponding to the coordinates provided. Remember to choose a wide radius for the query in order to construct the final mosaic."
   ]
  },
  {
   "cell_type": "code",
   "execution_count": null,
   "id": "e89bf232",
   "metadata": {},
   "outputs": [],
   "source": [
    "coord_gal = SkyCoord(191.6657, -52.2938, unit='deg', frame='galactic')\n",
    "coord_icrs = coord_gal.transform_to('icrs')\n",
    "obs = Observations.query_criteria(obs_collection=\"GALEX\",coordinates=coord_icrs,project='MIS',radius=\"1 deg\")\n",
    "data_products = Observations.get_product_list(obs)\n",
    "data_products_mrp = Observations.filter_products(data_products, productType='SCIENCE',productGroupDescription='Minimum Recommended Products')\n",
    "filename = []\n",
    "for i in range(1,len(data_products_mrp),2):\n",
    "    yourProd = data_products_mrp[i]\n",
    "    table = Observations.download_products(yourProd, mrp_only = False, cache = False) \n",
    "    filename.append(table['Local Path'][0])"
   ]
  },
  {
   "cell_type": "code",
   "execution_count": null,
   "id": "bc7ce9e6",
   "metadata": {},
   "outputs": [],
   "source": [
    "n = len(filename)\n",
    "\n",
    "images_mbm15 = []\n",
    "header_mbm15 = []\n",
    "RA1_mbm15 = np.zeros(n)\n",
    "RAf_mbm15 = np.zeros(n)\n",
    "Dec1_mbm15 = np.zeros(n)\n",
    "Decf_mbm15 = np.zeros(n)\n",
    "vmin_mbm15 = np.zeros(n)\n",
    "vmax_mbm15 = np.zeros(n)\n",
    "RAc_mbm15 = np.zeros(n)\n",
    "Decc_mbm15 = np.zeros(n)\n",
    "\n",
    "for i in range(n):\n",
    "    os.system(\"gunzip \" + filename[i])\n",
    "    \n",
    "    with fits.open(filename[i][:-3]) as hdulist: \n",
    "        header = hdulist[0].header\n",
    "        header_mbm15.append(header)\n",
    "        image = hdulist[0].data\n",
    "        images_mbm15.append(image)\n",
    "        \n",
    "    naxis1 = header['NAXIS1']\n",
    "    naxis2 = header['NAXIS2']\n",
    "    cdelt1 = header['CDELT1']\n",
    "    cdelt2 = header['CDELT2']\n",
    "    crpix1 = header['CRPIX1']\n",
    "    crpix2 = header['CRPIX2']\n",
    "    crval1 = header['CRVAL1']\n",
    "    RAc_mbm15[i] = crval1\n",
    "    crval2 = header['CRVAL2']\n",
    "    Decc_mbm15[i] = crval2\n",
    "    \n",
    "    # Initial RA - Pixel 1\n",
    "    RA1_mbm15[i] = crval1 - (crpix1-1)*cdelt1/np.cos(crval2*(2*np.pi/360.0))\n",
    "    # Final RA - Last Pixel \n",
    "    RAf_mbm15[i] = crval1 + (naxis1+1-crpix1)*cdelt1/np.cos(crval2*(2*np.pi/360.0))\n",
    "    \n",
    "    # Initial Dec - Pixel 1\n",
    "    Dec1_mbm15[i] = crval2 - (crpix2-1)*cdelt2\n",
    "    # Final Dec - Last Pixel \n",
    "    Decf_mbm15[i] = crval2 + (naxis2+1-crpix2)*cdelt2\n",
    "    \n",
    "    cut = image[1850:-1850,1850:-1850]\n",
    "    interval = ZScaleInterval(nsamples=cut.size, contrast=0.75, max_reject=0.5)\n",
    "    vmin_mbm15[i], vmax_mbm15[i] = interval.get_limits(cut)"
   ]
  },
  {
   "cell_type": "markdown",
   "id": "04c45112",
   "metadata": {},
   "source": [
    "_**Note**: don't forget to transform the coordinates from the galactic to the icrs frame!_\n",
    "\n",
    "### 2. Check the orientation of the images\n",
    "\n",
    "As we did before, check the orientation of the image and make the necessary adjustments if the orientations do not coincide:"
   ]
  },
  {
   "cell_type": "code",
   "execution_count": null,
   "id": "9e843f99",
   "metadata": {},
   "outputs": [],
   "source": [
    "for i in range(len(header_mbm15)):\n",
    "    print('Image '+str(i+1)+': '+repr(header_mbm15[i][23:24]))"
   ]
  },
  {
   "cell_type": "markdown",
   "id": "da40b321",
   "metadata": {},
   "source": [
    "### 3. Save non-central images to local\n",
    "\n",
    "In order to use the `paste` method, we first need to save the additional images to our local. The central image is the fist one retrieved from the database, so let's save the rest of the images to our local directory in order to use them later. Remember you need to provide the filename which will be used to save the image to your local directory when using `savefig` from `matplotlib`."
   ]
  },
  {
   "cell_type": "code",
   "execution_count": null,
   "id": "d1e4bea1",
   "metadata": {},
   "outputs": [],
   "source": [
    "for i in range(1,len(RA1_mbm15)):\n",
    "    plt.figure(figsize = (3,3),frameon=False)\n",
    "    ax = plt.gca()\n",
    "    ax.set_axis_off()\n",
    "    plt.imshow(images_mbm15[i], extent=[RA1_mbm15[i], RAf_mbm15[i], Dec1_mbm15[i], Decf_mbm15[i]], vmin=vmin_mbm15[0], vmax=vmax_mbm15[0], cmap='BuPu_r',origin='lower',aspect=1)\n",
    "    plt.savefig('mbm15_'+str(i)+'_sol.jpg',pad_inches=0,bbox_inches='tight')\n",
    "    plt.show()"
   ]
  },
  {
   "cell_type": "markdown",
   "id": "c6d95645",
   "metadata": {},
   "source": [
    "### 4. Generate the masks for the circular images\n",
    "\n",
    "Since we are working with circular images, in order to paste them into our extended image we need to only use the part of the image that actually contains information. In order to do this, let's use circular masks as before. Create a circular mask for each of the images retrieved as shown previously."
   ]
  },
  {
   "cell_type": "code",
   "execution_count": null,
   "id": "bcef9363",
   "metadata": {},
   "outputs": [],
   "source": [
    "mask_im = []\n",
    "n = len(filename)\n",
    "\n",
    "for i in range(1,n):\n",
    "    im2 = Image.open('mbm15_'+str(i)+'_sol.jpg')\n",
    "    mask = Image.new(\"L\", im2.size)\n",
    "    size = mask.size\n",
    "    draw = ImageDraw.Draw(mask)\n",
    "    draw.ellipse((size[0]/7, size[1]/7, size[0]-size[0]/7, size[1]-size[1]/7), fill=255)\n",
    "    mask_im.append(mask)\n",
    "\n",
    "plt.figure()\n",
    "plt.imshow(mask_im[0],cmap='binary_r')\n",
    "plt.show()"
   ]
  },
  {
   "cell_type": "markdown",
   "id": "9cd65315",
   "metadata": {},
   "source": [
    "### 5. Create an expanded image from the central one\n",
    "\n",
    "Using the central image (the first one retrieved from the database), create an extended image by included 0s in the 2D array corresponding to the retrieved intensity map as we did before."
   ]
  },
  {
   "cell_type": "code",
   "execution_count": null,
   "id": "879694fa",
   "metadata": {},
   "outputs": [],
   "source": [
    "w = len(images_mbm15[0])\n",
    "new_zeros = np.zeros((w,w))\n",
    "new_image = np.append(images_mbm15[0], new_zeros, axis = 0)\n",
    "new_image = np.insert(new_image,0,new_zeros,axis= 0)\n",
    "new_zeros2 = np.zeros((w,3*w))\n",
    "new_image = np.insert(new_image,0,new_zeros2,axis= 1)\n",
    "new_image = np.insert(new_image,2*w,new_zeros2,axis= 1)"
   ]
  },
  {
   "cell_type": "markdown",
   "id": "2980c26d",
   "metadata": {},
   "source": [
    "### 6. Obtain the limits of the expanded image and save it\n",
    "\n",
    "Using the technique introduced in Part 1 of this tutorial, and briefly introduced in Part 2 also, obtain the new limits of the extended image we just created using the coordinates of the central image (RA, Dec)."
   ]
  },
  {
   "cell_type": "code",
   "execution_count": null,
   "id": "bc382151",
   "metadata": {},
   "outputs": [],
   "source": [
    "naxis1 = header_mbm15[0]['NAXIS1']\n",
    "naxis2 = header_mbm15[0]['NAXIS2']\n",
    "cdelt1 = header_mbm15[0]['CDELT1']\n",
    "cdelt2 = header_mbm15[0]['CDELT2']\n",
    "crpix1 = header_mbm15[0]['CRPIX1']\n",
    "crpix2 = header_mbm15[0]['CRPIX2']\n",
    "crval1 = header_mbm15[0]['CRVAL1']\n",
    "crval2 = header_mbm15[0]['CRVAL2']\n",
    "\n",
    "# Initial RA - Pixel 1\n",
    "RA1 = crval1 - (crpix1*3-1)*cdelt1/np.cos(crval2*(2*np.pi/360.0))\n",
    "# Final RA - Last Pixel \n",
    "RAf = crval1 + (crpix1*3-1)*cdelt1/np.cos(crval2*(2*np.pi/360.0))\n",
    "\n",
    "# Initial Dec - Pixel 1\n",
    "Dec1 = crval2 - (crpix2*3-1)*cdelt2\n",
    "# Final Dec - Last Pixel \n",
    "Decf = crval2 + (crpix2*3-1)*cdelt2"
   ]
  },
  {
   "cell_type": "code",
   "execution_count": null,
   "id": "7662803a",
   "metadata": {},
   "outputs": [],
   "source": [
    "plt.figure(figsize = (9,9),frameon=False)\n",
    "ax = plt.gca()\n",
    "plt.imshow(new_image, vmin=vmin_mbm15[0], vmax=vmax_mbm15[0], cmap='BuPu_r',origin='lower')\n",
    "ax.set_axis_off()\n",
    "plt.savefig('expanded_sol.jpg',pad_inches=0,bbox_inches='tight')\n",
    "plt.show()"
   ]
  },
  {
   "cell_type": "markdown",
   "id": "a95a81fc",
   "metadata": {},
   "source": [
    "### 7. Transform RA, Dec coordinates into image coordinates\n",
    "\n",
    "Lastly, we need to transform the central coordiantes of the images in order to correctly place them in the mosaic. You can use the function proposed before in this section."
   ]
  },
  {
   "cell_type": "code",
   "execution_count": null,
   "id": "5a4b96ad",
   "metadata": {},
   "outputs": [],
   "source": [
    "Im_RA = np.zeros(n)\n",
    "Im_Dec = np.zeros(n)\n",
    "im_exp = Image.open('expanded_sol.jpg')\n",
    "\n",
    "for i in range(1,n):\n",
    "    im = Image.open('mbm15_'+str(i)+'_sol.jpg')\n",
    "    Im_RA[i], Im_Dec[i] = getImCoord(RAc_mbm15[i],Decc_mbm15[i], RA1, RAf, Dec1, Decf,im,im_exp)\n",
    "    print('(RA, Dec) = ('+str(RAc_mbm15[i])+','+str(Decc_mbm15[i])+') deg -> ('+str(Im_RA[i])+','+str(Im_Dec[i])+')')"
   ]
  },
  {
   "cell_type": "markdown",
   "id": "5a88bf81",
   "metadata": {},
   "source": [
    "### 8. Display the final mosaic\n",
    "\n",
    "Let's put together everything and display the final mosaic!"
   ]
  },
  {
   "cell_type": "code",
   "execution_count": null,
   "id": "cd595679",
   "metadata": {},
   "outputs": [],
   "source": [
    "im_exp = Image.open('expanded_sol.jpg')\n",
    "\n",
    "for i in range(1,n):\n",
    "    im = Image.open('mbm15_'+str(i)+'_sol.jpg')\n",
    "    im_exp.paste(im,(int(Im_RA[i]), int(Im_Dec[i])), mask_im[i-1])\n",
    "\n",
    "plt.figure(figsize=(9,9))\n",
    "ax = plt.gca()\n",
    "plt.imshow(im_exp, extent=[RA1,RAf,Dec1,Decf],aspect=1)\n",
    "plt.xlabel('RA [deg]')\n",
    "plt.ylabel('Dec [deg]')\n",
    "plt.savefig('mbm15_mosaic_sol.jpg',bbox_inches='tight',dpi = 1100)\n",
    "plt.show()"
   ]
  },
  {
   "cell_type": "markdown",
   "id": "8e6c11bf",
   "metadata": {},
   "source": [
    "As we can see in this image, the dust cloud that was clearly present in the FUV images, vaguely shows up in the NUV images. This is due to the fact that FUV images cover the wavelength range 900–2150 Å while NUV cover 1650-3200 Å, and since a good rule of thumb is that the dust size in the image is around the wavelength used for the observation, this serves us to put a preliminary upper limit to the dust grain size!\n",
    "\n",
    "## Additional Resources\n",
    "\n",
    "For more information about the MAST archive and details about the tutorial: \n",
    "\n",
    "* <a href=\"https://mast.stsci.edu/api/v0/index.html\">MAST API</a> <br>\n",
    "* <a href=\"https://galex.stsci.edu/GR6/\">GALEX via MAST</a> <br>\n",
    "\n",
    "## About this Notebook\n",
    "\n",
    "**Author**: Clara Puerto Sánchez <br>\n",
    "**Keyword(s)**: Tutorial, mosaic, dust <br>\n",
    "**Last Updated**: Sep 2022 <br>\n",
    "**Next review**: Apr 2023\n",
    "\n",
    "For support, please contact the Archive HelpDesk at archive@stsci.edu.\n",
    "***\n",
    "[Top of Page](#top)\n",
    "<img style=\"float: right;\" src=\"https://raw.githubusercontent.com/spacetelescope/notebooks/master/assets/stsci_pri_combo_mark_horizonal_white_bkgd.png\" alt=\"Space Telescope Logo\" width=\"200px\"/>"
   ]
  }
 ],
 "metadata": {
  "kernelspec": {
   "display_name": "Python 3 (ipykernel)",
   "language": "python",
   "name": "python3"
  },
  "language_info": {
   "codemirror_mode": {
    "name": "ipython",
    "version": 3
   },
   "file_extension": ".py",
   "mimetype": "text/x-python",
   "name": "python",
   "nbconvert_exporter": "python",
   "pygments_lexer": "ipython3",
   "version": "3.8.13"
  }
 },
 "nbformat": 4,
 "nbformat_minor": 5
}