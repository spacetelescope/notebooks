{
 "cells": [
  {
   "cell_type": "markdown",
   "id": "7c9aa64b",
   "metadata": {},
   "source": [
    "<a id=\"top\"></a>\n",
    "# Surveying dust structure via GALEX MIS - Part 2\n",
    "***\n",
    "\n",
    "## Learning goals\n",
    "\n",
    "By the end of this tutorial you will be able to:\n",
    "\n",
    "- Understand UV images and how they are useful to study dust\n",
    "- Create a mosaic from several GALEX MIS images\n",
    "- Learn how to match images using their central coordinates \n",
    "- Use masks for circular images\n",
    "\n",
    "## Introduction\n",
    "\n",
    "**GALEX background**: The Galaxy Evolution Explorer (GALEX) was a satellite which mission was to produce an All-sky Imaiging Survey (AIS). It observed the sky in two different bands: in the Near UV (NUV) ($1750-27504$ Å) and in the Far UV (FUV) ($1350-1750$ Å). The GALEX database contains over 600 million source measurements in the ultraviolet domain, with some sources having more than one measurement, which could be useful to look for variability. \n",
    "\n",
    "**GALEX Medium Imaging survey (MIS) background**: Single orbit exposures (1,500s) of 1000 square degrees in positions that match the Sloan Digital Sky Survey (SDSS). These images present a higher resolution in comparison with AIS since their exposure time was longer.\n",
    "\n",
    "**Defining some terms:**\n",
    "\n",
    "- **Intensity map**: image that displays the photons per pixel per second corrected for the relative response of the instrument used.\n",
    "\n",
    "Clouds can be visible in UV when they are found close to hot stars. The objective of this tutorial is to extract and display an intensity map image of a high-latitude cloud retrieved from GALEX MIS. High-latitude clouds (Galactic latitude: $|b| > 20-30º$) are interesting because they are considered ideal candidates to study triggered star formation.\n",
    "\n",
    "This tutorial is divided in two parts. In Part 1, you will learn how to navigate the GALEX MIS database through the MAST portal, download and display the intensity maps for specific coordinates, and understand how to properly display the contents of these images. In Part 2, we will use this method to create a mosaic by combining several of these images and study dust clouds.\n",
    "\n",
    "## Table of Contents\n",
    "* [Imports](#Imports)\n",
    "* [Target: MBM 15](#Target:-MBM-15)\n",
    "* [GALEX MIS - Coordinate query and data download](#GALEX-MIS---Coordinate-query-and-data-download)\n",
    "* [Constructing the mosaic](#Constructing-the-mosaic)\n",
    "    * [Checking orientation](#Checking-orientation)\n",
    "    * [Saving images to local](#Saving-images-to-local)\n",
    "    * [Circular mask creation](#Circular-mask-creation)\n",
    "    * [Expanded image](#Expanded-image)\n",
    "    * [Limits of image - Coordinates](#Limits-of-image---Coordinates)\n",
    "    * [Save expanded image to local](#Save-expanded-image-to-local)\n",
    "    * [Transforming RA/Dec into image coordinates](#Transforming-RA/Dec-into-image-coordinates)\n",
    "    * [Final mosaic](#Final-mosaic)\n",
    "* [Exercises](#Exercises)\n",
    "* [Additional Resources](#Additional-Resources)\n",
    "\n",
    "## Imports\n",
    "\n",
    "- `astropy` to use tools needed for performing astronomy and astrophysics with Python, including handling fits files, defining coordinates or choosing the right limits for image visualization.\n",
    "- `Observations` from _astroquery.mast_ to query the Barbara A. Mikulski Archive for Space Telescopes (MAST).\n",
    "- `os` to  use operating system dependent functionality, such as unzipping files.\n",
    "- `matplotlib` to visualize images.\n",
    "- `numpy` to manipulate arrays.\n",
    "- `PIL` to combine multiple images together"
   ]
  },
  {
   "cell_type": "code",
   "execution_count": null,
   "id": "5d658657",
   "metadata": {},
   "outputs": [],
   "source": [
    "from astropy.coordinates import SkyCoord\n",
    "import astropy.units as u\n",
    "from astroquery.mast import Observations\n",
    "import os\n",
    "from astropy.io import fits\n",
    "import matplotlib.pyplot as plt\n",
    "import matplotlib.image as mpimg\n",
    "from astropy.visualization import ZScaleInterval\n",
    "import numpy as np\n",
    "from PIL import Image, ImageDraw"
   ]
  },
  {
   "cell_type": "markdown",
   "id": "f74fd4af",
   "metadata": {},
   "source": [
    "## Target: MBM 15\n",
    "\n",
    "The objective of this tutorial is to create a mosaic of a high-latitude cloud using different UV images retrieved from GALEX MIS. The GALEX MIS products can be accesed through `astroquery.mast`. The whole process to get an individual image and display it is explained in Part 1 of this tutorial, the reader is encouraged to complete the previous tutorial before continuing this one if they haven't done it yet. \n",
    "\n",
    "Now, let's start with our target, <a href=\"http://simbad.u-strasbg.fr/simbad/sim-id?Ident=mbm+15&NbIdent=1&Radius=2&Radius.unit=arcmin&submit=submit+id\">the molecular cloud MBM 15</a>. Let's start with the coordinates that SIMBAD provides for our selected target (GAL coordinates, ep = J2000) are: \n",
    "\n",
    "- Galactic longitude: 191.6657 deg\n",
    "- Galactic latitude: -52.2938 deg"
   ]
  },
  {
   "cell_type": "markdown",
   "id": "f70da37a",
   "metadata": {},
   "source": [
    "## GALEX MIS - Coordinate query and data download\n",
    "\n",
    "As mentioned before, the whole process of downloading and displayed the images from the MAST database has been explained in the previous tutorial, so please refer to Part 1 if you have any doubts about this process, since this is not the main goal of Part 2 and this process will be introduced with no further explanations. \n",
    "\n",
    "The only variation from part 1 is that since we want to construct a mosaic centered on the coordinates of our target, we will increase the radius used for the query up to 1 deg, and download all images found inside this radius. "
   ]
  },
  {
   "cell_type": "code",
   "execution_count": null,
   "id": "9148deb6",
   "metadata": {},
   "outputs": [],
   "source": [
    "coord_gal = SkyCoord(191.6657, -52.2938, unit='deg', frame='galactic')\n",
    "coord_icrs = coord_gal.transform_to('icrs')\n",
    "obs = Observations.query_criteria(obs_collection=\"GALEX\",coordinates=coord_icrs,project='MIS',radius=\"1 deg\")\n",
    "data_products = Observations.get_product_list(obs)\n",
    "data_products_mrp = Observations.filter_products(data_products, productType='SCIENCE',productGroupDescription='Minimum Recommended Products')\n",
    "data_products_mrp.show_in_notebook()"
   ]
  },
  {
   "cell_type": "markdown",
   "id": "ca32ba1b",
   "metadata": {},
   "source": [
    "It should be noted that each source has two entries in the previous table, one corresponding to the NUV image and one for the FUV image. In this tutorial we will select the FUV images, but the reader is encouraged to repeat this process using the NUV images and compare the obtained results."
   ]
  },
  {
   "cell_type": "code",
   "execution_count": null,
   "id": "5ec8cb1d",
   "metadata": {},
   "outputs": [],
   "source": [
    "filename = []\n",
    "for i in range(0,len(data_products_mrp),2):\n",
    "    yourProd = data_products_mrp[i]\n",
    "    table = Observations.download_products(yourProd, mrp_only = False, cache = False) \n",
    "    filename.append(table['Local Path'][0])"
   ]
  },
  {
   "cell_type": "markdown",
   "id": "a42d5d15",
   "metadata": {},
   "source": [
    "Now we will retrieve both the image and the header of our images. The header contains important information that will help us correctly construct our mosaic, such as the length of the axis in pixels ($naxis$), the increase in degrees per pixel ($cdelt$), the central pixel ($crpix$) and the coordinates of the center of our image in (RA, Dec) form ($crval$).\n",
    "\n",
    "For further detail please refer to Part 1 of this tutorial where this process in explained in more detail."
   ]
  },
  {
   "cell_type": "code",
   "execution_count": null,
   "id": "e39885f2",
   "metadata": {},
   "outputs": [],
   "source": [
    "n = len(filename)\n",
    "\n",
    "images_mbm15 = []\n",
    "header_mbm15 = []\n",
    "RA1_mbm15 = np.zeros(n)\n",
    "RAf_mbm15 = np.zeros(n)\n",
    "Dec1_mbm15 = np.zeros(n)\n",
    "Decf_mbm15 = np.zeros(n)\n",
    "vmin_mbm15 = np.zeros(n)\n",
    "vmax_mbm15 = np.zeros(n)\n",
    "RAc_mbm15 = np.zeros(n)\n",
    "Decc_mbm15 = np.zeros(n)\n",
    "\n",
    "for i in range(n):\n",
    "    os.system(\"gunzip \" + filename[i])\n",
    "    \n",
    "    with fits.open(filename[i][:-3]) as hdulist: \n",
    "        header = hdulist[0].header\n",
    "        header_mbm15.append(header)\n",
    "        image = hdulist[0].data\n",
    "        images_mbm15.append(image)\n",
    "        \n",
    "    naxis1 = header['NAXIS1']\n",
    "    naxis2 = header['NAXIS2']\n",
    "    cdelt1 = header['CDELT1']\n",
    "    cdelt2 = header['CDELT2']\n",
    "    crpix1 = header['CRPIX1']\n",
    "    crpix2 = header['CRPIX2']\n",
    "    crval1 = header['CRVAL1']\n",
    "    RAc_mbm15[i] = crval1\n",
    "    crval2 = header['CRVAL2']\n",
    "    Decc_mbm15[i] = crval2\n",
    "    \n",
    "    # Initial RA - Pixel 1\n",
    "    RA1_mbm15[i] = crval1 - (crpix1-1)*cdelt1/np.cos(crval2*(2*np.pi/360.0))\n",
    "    # Final RA - Last Pixel \n",
    "    RAf_mbm15[i] = crval1 + (naxis1+1-crpix1)*cdelt1/np.cos(crval2*(2*np.pi/360.0))\n",
    "    \n",
    "    # Initial Dec - Pixel 1\n",
    "    Dec1_mbm15[i] = crval2 - (crpix2-1)*cdelt2\n",
    "    # Final Dec - Last Pixel \n",
    "    Decf_mbm15[i] = crval2 + (naxis2+1-crpix2)*cdelt2\n",
    "    \n",
    "    cut = image[1850:-1850,1850:-1850]\n",
    "    interval = ZScaleInterval(nsamples=cut.size, contrast=0.75, max_reject=0.5)\n",
    "    vmin_mbm15[i], vmax_mbm15[i] = interval.get_limits(cut)"
   ]
  },
  {
   "cell_type": "markdown",
   "id": "acc37e28",
   "metadata": {},
   "source": [
    "## Constructing the mosaic\n",
    "\n",
    "### Checking orientation\n",
    "\n",
    "Since we want to construct a mosaic with different images, we need to make sure all of them are oriented in the same way. As it is explained in the [GALEX Data Drescription page at MAST](http://galex.stsci.edu/gr6/?page=ddfaq), the fits header of GALEX follow the [World Coordinate System (WCS)](https://danmoser.github.io/notes/gai_fits-imgs.html#wcs-rotation) standard. This means that the information regarding image rotation is contained in the header of the images, especifically under the parameter 'CROTA2', which refers to the rotation of the horizontal and vertical axes in degrees. So let's check all our images:"
   ]
  },
  {
   "cell_type": "code",
   "execution_count": null,
   "id": "3fd3d615",
   "metadata": {},
   "outputs": [],
   "source": [
    "for i in range(len(header_mbm15)):\n",
    "    print('Image '+str(i+1)+': '+repr(header_mbm15[i][23:24]))"
   ]
  },
  {
   "cell_type": "markdown",
   "id": "9877935c",
   "metadata": {},
   "source": [
    "Great! This means all of our images are oriented in the same way, so we can directly work with them without having to perform any rotation."
   ]
  },
  {
   "cell_type": "markdown",
   "id": "882d592a",
   "metadata": {},
   "source": [
    "### Saving images to local\n",
    "\n",
    "Because we will be using [`PIL`](https://pillow.readthedocs.io/en/stable/reference/Image.html) to create our mosaic, we need to individually save the images to our local directory and then open them as _.jpg_, and we will save them without the axis as a first step. The information about their coordinates will be included in the final mosaic. Now, let's save all the images except for the first one, which we will use as the central one in the mosaic.\n",
    "\n",
    "_**Note**: in order to ensure a smooth mosaic, we will use the vmin and vmax corresponding to the first image, this will ensure all images will have the same constrast level._"
   ]
  },
  {
   "cell_type": "code",
   "execution_count": null,
   "id": "f458cdda",
   "metadata": {},
   "outputs": [],
   "source": [
    "for i in range(1,len(RA1_mbm15)):\n",
    "    plt.figure(figsize = (3,3),frameon=False)\n",
    "    ax = plt.gca()\n",
    "    ax.set_axis_off()\n",
    "    plt.imshow(images_mbm15[i], extent=[RA1_mbm15[i], RAf_mbm15[i], Dec1_mbm15[i], Decf_mbm15[i]], vmin=vmin_mbm15[0], vmax=vmax_mbm15[0], cmap='BuPu_r',origin='lower')\n",
    "    plt.savefig('mbm15_'+str(i)+'.jpg',pad_inches=0,bbox_inches='tight')\n",
    "    plt.show()"
   ]
  },
  {
   "cell_type": "markdown",
   "id": "86c627a5",
   "metadata": {},
   "source": [
    "### Circular mask creation\n",
    "\n",
    "Let's create a mask for each image in the form of a circle. We will use this to only paste the circular part of the Draco images, which is where the actual image is contained, into the mosaic. For this we will use `Image.new()`, this method creates a new image for a given mode (in our case \"L\" because we will create it in black and white) and size, which will be the same as its corresponding image. \n",
    "\n",
    "In this new image we will then draw a circle, which will be our actual mask, for this we will use `draw.ellipse()`. The parameters that we need to provide are the four points to define the box in which the ellipse will be contained and the parameter _fill_ specifies the color with which the form will be filled. Since we are using the black and white mode, it does not really matter as long as it is different from black, so we can use any color."
   ]
  },
  {
   "cell_type": "code",
   "execution_count": null,
   "id": "c00cee85",
   "metadata": {},
   "outputs": [],
   "source": [
    "mask_im = []\n",
    "n = len(filename)\n",
    "\n",
    "for i in range(1,n):\n",
    "    im2 = Image.open('mbm15_'+str(i)+'.jpg')\n",
    "    mask = Image.new(\"L\", im2.size)\n",
    "    size = mask.size\n",
    "    draw = ImageDraw.Draw(mask)\n",
    "    draw.ellipse((size[0]/7, size[1]/7, size[0]-size[0]/7, size[1]-size[1]/7), fill=255)\n",
    "    mask_im.append(mask)\n",
    "\n",
    "plt.figure()\n",
    "plt.imshow(mask_im[0],cmap='binary_r')\n",
    "plt.show()"
   ]
  },
  {
   "cell_type": "markdown",
   "id": "166038f2",
   "metadata": {},
   "source": [
    "### Expanded image\n",
    "\n",
    "In order to create our mosaic, let's add zeros to our central image to expand the field of view. We will use this expanded image to paste the additional images in it. So from the size of our image, we will create an image that is 3 times as big in width and height, this can be done as follows:"
   ]
  },
  {
   "cell_type": "code",
   "execution_count": null,
   "id": "f241b298",
   "metadata": {},
   "outputs": [],
   "source": [
    "w = len(images_mbm15[0])\n",
    "new_zeros = np.zeros((w,w))\n",
    "new_image = np.append(images_mbm15[0], new_zeros, axis = 0)\n",
    "new_image = np.insert(new_image,0,new_zeros,axis= 0)\n",
    "new_zeros2 = np.zeros((w,3*w))\n",
    "new_image = np.insert(new_image,0,new_zeros2,axis= 1)\n",
    "new_image = np.insert(new_image,2*w,new_zeros2,axis= 1)"
   ]
  },
  {
   "cell_type": "markdown",
   "id": "9031eb92",
   "metadata": {},
   "source": [
    "### Limits of image - Coordinates\n",
    "\n",
    "We need to update the limits of the expanded image, which is 3 times the size of our original one, so we can simply do the following:"
   ]
  },
  {
   "cell_type": "code",
   "execution_count": null,
   "id": "65319360",
   "metadata": {},
   "outputs": [],
   "source": [
    "naxis1 = header_mbm15[0]['NAXIS1']\n",
    "naxis2 = header_mbm15[0]['NAXIS2']\n",
    "cdelt1 = header_mbm15[0]['CDELT1']\n",
    "cdelt2 = header_mbm15[0]['CDELT2']\n",
    "crpix1 = header_mbm15[0]['CRPIX1']\n",
    "crpix2 = header_mbm15[0]['CRPIX2']\n",
    "crval1 = header_mbm15[0]['CRVAL1']\n",
    "crval2 = header_mbm15[0]['CRVAL2']\n",
    "\n",
    "# Initial RA - Pixel 1\n",
    "RA1 = crval1 - (crpix1*3-1)*cdelt1/np.cos(crval2*(2*np.pi/360.0))\n",
    "# Final RA - Last Pixel \n",
    "RAf = crval1 + (crpix1*3-1)*cdelt1/np.cos(crval2*(2*np.pi/360.0))\n",
    "\n",
    "# Initial Dec - Pixel 1\n",
    "Dec1 = crval2 - (crpix2*3-1)*cdelt2\n",
    "# Final Dec - Last Pixel \n",
    "Decf = crval2 + (crpix2*3-1)*cdelt2"
   ]
  },
  {
   "cell_type": "markdown",
   "id": "7f8bc713",
   "metadata": {},
   "source": [
    "### Save expanded image to local\n",
    "\n",
    "Even though now we have the correct coordinate limits, we won't use them until we create our final mosaic, so for now let's save our expanded image without the axis reference:"
   ]
  },
  {
   "cell_type": "code",
   "execution_count": null,
   "id": "db514ae8",
   "metadata": {},
   "outputs": [],
   "source": [
    "plt.figure(figsize = (9,9),frameon=False)\n",
    "ax = plt.gca()\n",
    "plt.imshow(new_image, vmin=vmin_mbm15[0], vmax=vmax_mbm15[0], cmap='BuPu_r',origin='lower')\n",
    "ax.set_axis_off()\n",
    "plt.savefig('expanded.pdf',pad_inches=0,bbox_inches='tight',dpi = 900)\n",
    "plt.show()"
   ]
  },
  {
   "cell_type": "markdown",
   "id": "ecf5782e",
   "metadata": {},
   "source": [
    "### Transforming RA/Dec into image coordinates\n",
    "\n",
    "We know the center of the additional images in the form (RA, Dec) so we should be able to use this information in order to correctly place them in our mosaic. However, when we use the method `paste` from the [`PIL`](https://pillow.readthedocs.io/en/stable/reference/Image.html) package, we need to specify the coordinates corresponding to the upper left cornerof our image. This means that the coordinates (0,0) are not placed in the middle of our image, let's see this through an example using the expanded image and one of the additional ones from the MBM 15 cloud:"
   ]
  },
  {
   "cell_type": "code",
   "execution_count": null,
   "id": "6feda943",
   "metadata": {},
   "outputs": [],
   "source": [
    "im_exp = Image.open('expanded.jpg')\n",
    "im1 = Image.open('mbm15_1.jpg')\n",
    "\n",
    "im_exp.paste(im1,(0,0),mask_im[-1])\n",
    "\n",
    "plt.figure(figsize=(9,9))\n",
    "ax = plt.gca()\n",
    "plt.imshow(im_exp,extent=[RA1,RAf,Dec1,Decf])\n",
    "plt.xlabel('RA [deg]')\n",
    "plt.ylabel('Dec [deg]')\n",
    "plt.show()"
   ]
  },
  {
   "cell_type": "markdown",
   "id": "fbb318d5",
   "metadata": {},
   "source": [
    "See how the additional image that corresponds to the image (0,0) coordinates is placed towards the upper left? If for example we wanted to place the image exactly over the central one we would need to give the coordinates of half the size of the extended image minus half the size of our first additional image. Let's see this through an example also:\n",
    "\n",
    "_**Note**: the coordinates provided for `paste` should be integer values._"
   ]
  },
  {
   "cell_type": "code",
   "execution_count": null,
   "id": "8ca4c960",
   "metadata": {},
   "outputs": [],
   "source": [
    "im_exp = Image.open('expanded.jpg')\n",
    "im1 = Image.open('mbm15_1.jpg')\n",
    "\n",
    "im_exp.paste(im1,(int(im_exp.size[0]/2-im1.size[0]/2),0),mask_im[0])\n",
    "\n",
    "plt.figure(figsize=(9,9))\n",
    "ax = plt.gca()\n",
    "plt.imshow(im_exp,extent=[RA1,RAf,Dec1,Decf])\n",
    "plt.xlabel('RA [deg]')\n",
    "plt.ylabel('Dec [deg]')\n",
    "plt.show()"
   ]
  },
  {
   "cell_type": "markdown",
   "id": "0e34804d",
   "metadata": {},
   "source": [
    "By using this information, we can create a function that will automatically transform the central coordinates of our images in the (RA,Dec) format into the correct image ones to use them in `paste`:"
   ]
  },
  {
   "cell_type": "code",
   "execution_count": null,
   "id": "addc9d93",
   "metadata": {},
   "outputs": [],
   "source": [
    "def getImCoord(coord_RA,coord_Dec, RA1, RAf, Dec1, Decf,image,extended_image):\n",
    "    \n",
    "    \"\"\"\n",
    "    Transforms coordinates in (RA, Dec) format into image coordinates to be used as input for the paste method from PIL\n",
    "    Inputs:\n",
    "    :param coord_RA, coord_Dec: coordinates of target (Right Ascension and Declination)\n",
    "    :type coord_RA, coord_Dec: float\n",
    "    :param RA/Dec1, RA/Decf: coordinate limits of image for the RA/Dec axis\n",
    "    :type RA/Dec1, RA/Decf: float\n",
    "    :param image/extended_image: 2D arrays corresponding to the image we want to correctly place and the extended image we will place it on\n",
    "    :type image/extended_image: PIL Jpeg image file\n",
    "    \n",
    "    Outputs: \n",
    "    :return: ImCoord_RA, ImCoord_Dec - Image coordinates\n",
    "    :rtype: float\n",
    "    \"\"\"\n",
    "    \n",
    "    RAx = np.array([RA1,RAf])\n",
    "    pixx = np.array([-image.size[0]/2,extended_image.size[0]-image.size[0]/2])\n",
    "    m_RA, b_RA = np.polyfit(RAx, pixx, 1)\n",
    "    ImCoord_RA = m_RA*coord_RA+b_RA\n",
    "    \n",
    "    Decx = np.array([Dec1,Decf])\n",
    "    pixy = np.array([extended_image.size[1]-image.size[1]/2,-image.size[1]/2])\n",
    "    m_Dec, b_Dec= np.polyfit(Decx, pixy, 1)\n",
    "    ImCoord_Dec = m_Dec*coord_Dec+b_Dec\n",
    "    \n",
    "    return ImCoord_RA, ImCoord_Dec"
   ]
  },
  {
   "cell_type": "markdown",
   "id": "f28b03d8",
   "metadata": {},
   "source": [
    "Let's see how this works for our first image:"
   ]
  },
  {
   "cell_type": "code",
   "execution_count": null,
   "id": "bf1736a6",
   "metadata": {},
   "outputs": [],
   "source": [
    "Im_RA = np.zeros(n)\n",
    "Im_Dec = np.zeros(n)\n",
    "\n",
    "im = Image.open('mbm15_1.jpg')\n",
    "Im_RA[1], Im_Dec[1] = getImCoord(RAc_mbm15[1],Decc_mbm15[1], RA1, RAf, Dec1, Decf,im,im_exp)\n",
    "print('(RA, Dec) = ('+str(RAc_mbm15[1])+','+str(Decc_mbm15[1])+') deg -> ('+str(Im_RA[1])+','+str(Im_Dec[1])+')')"
   ]
  },
  {
   "cell_type": "markdown",
   "id": "f860b07d",
   "metadata": {},
   "source": [
    "We have converted our coordiantes in RA/Dec to image pixels, so now we can directly use this to paste our images in the expanded mosaic! Let's do it for the rest of the images now:"
   ]
  },
  {
   "cell_type": "code",
   "execution_count": null,
   "id": "800e9a2d",
   "metadata": {},
   "outputs": [],
   "source": [
    "for i in range(2,n):\n",
    "    im = Image.open('mbm15_'+str(i)+'.jpg')\n",
    "    Im_RA[i], Im_Dec[i] = getImCoord(RAc_mbm15[i],Decc_mbm15[i], RA1, RAf, Dec1, Decf,im,im_exp)"
   ]
  },
  {
   "cell_type": "markdown",
   "id": "1e725cbb",
   "metadata": {},
   "source": [
    "### Final mosaic\n",
    "\n",
    "Now that we have all the ingredients to construct the final mosaic, let's put it all together:"
   ]
  },
  {
   "cell_type": "code",
   "execution_count": null,
   "id": "3ec4ab5c",
   "metadata": {},
   "outputs": [],
   "source": [
    "im_exp = Image.open('expanded.jpg')\n",
    "\n",
    "for i in range(1,n):\n",
    "    im = Image.open('mbm15_'+str(i)+'.jpg')\n",
    "    im_exp.paste(im,(int(Im_RA[i]), int(Im_Dec[i])), mask_im[i-1])\n",
    "\n",
    "plt.figure(figsize=(9,9))\n",
    "ax = plt.gca()\n",
    "plt.imshow(im_exp, extent=[RA1,RAf,Dec1,Decf])\n",
    "plt.xlabel('RA [deg]')\n",
    "plt.ylabel('Dec [deg]')\n",
    "plt.savefig('mbm15_mosaic.jpg',bbox_inches='tight',dpi = 1100)\n",
    "plt.show()"
   ]
  },
  {
   "cell_type": "markdown",
   "id": "9b717237",
   "metadata": {},
   "source": [
    "Finally, we have our mosaic! This image corresponds to the \n",
    "[Molecular cloud MBM 15](http://simbad.cds.unistra.fr/simbad/sim-id?Ident=mbm+15&submit=submit+id). This molecular cloud belong to the Orion-Eridanus superbubble, west of the Orion Nebula. More information about this can be found in [Joubaud et al. (2019)](https://ui.adsabs.harvard.edu/abs/2019A%26A...631A..52J/abstract). "
   ]
  },
  {
   "cell_type": "markdown",
   "id": "072f26f6",
   "metadata": {},
   "source": [
    "## Exercises\n",
    "\n",
    "Now that we have seen the whole process, let's try to do the same for the same target, but this time let's use the NUV images instead of the FUV images.\n",
    "\n",
    "Here are again the coordinates that SIMBAD provides for the [MBM 15](http://simbad.u-strasbg.fr/simbad/sim-id?Ident=mbm+15&NbIdent=1&Radius=2&Radius.unit=arcmin&submit=submit+id) (Gal. coordinates, ep = J2000):\n",
    "\n",
    "- Galactic longitude: 191.6657 deg\n",
    "- Galactic latitude: -52.2938 deg"
   ]
  },
  {
   "cell_type": "markdown",
   "id": "299a00af",
   "metadata": {},
   "source": [
    "### 1. Coordinate query and data download\n",
    "\n",
    "Following the steps shown before, perform a query in the GALEX MIS database and download the NUV or FUV intensity maps corresponding to the coordinates provided. Remember to choose a wide radius for the query in order to construct the final mosaic."
   ]
  },
  {
   "cell_type": "code",
   "execution_count": null,
   "id": "e89bf232",
   "metadata": {},
   "outputs": [],
   "source": [
    "# You can copy, paste and modify the code corresponding to this part that we used before here\n"
   ]
  },
  {
   "cell_type": "markdown",
   "id": "04c45112",
   "metadata": {},
   "source": [
    "_**Note**: don't forget to transform the coordinates from the galactic to the icrs frame!_\n",
    "\n",
    "### 2. Check the orientation of the images\n",
    "\n",
    "As we did before, check the orientation of the image and make the necessary adjustments if the orientations do not coincide:"
   ]
  },
  {
   "cell_type": "code",
   "execution_count": null,
   "id": "9e843f99",
   "metadata": {},
   "outputs": [],
   "source": [
    "# You can copy, paste and modify the code corresponding to this part that we used before here\n"
   ]
  },
  {
   "cell_type": "markdown",
   "id": "da40b321",
   "metadata": {},
   "source": [
    "### 3. Save non-central images to local\n",
    "\n",
    "In order to use the `paste` method, we first need to save the additional images to our local. The central image is the fist one retrieved from the database, so let's save the rest of the images to our local directory in order to use them later. Remember you need to provide the filename which will be used to save the image to your local directory when using `savefig` from `matplotlib`."
   ]
  },
  {
   "cell_type": "code",
   "execution_count": null,
   "id": "d1e4bea1",
   "metadata": {},
   "outputs": [],
   "source": [
    "# You can copy, paste and modify the code corresponding to this part that we used before here\n"
   ]
  },
  {
   "cell_type": "markdown",
   "id": "c6d95645",
   "metadata": {},
   "source": [
    "### 4. Generate the masks for the circular images\n",
    "\n",
    "Since we are working with circular images, in order to paste them into our extended image we need to only use the part of the image that actually contains information. In order to do this, let's use circular masks as before. Create a circular mask for each of the images retrieved as shown previously."
   ]
  },
  {
   "cell_type": "code",
   "execution_count": null,
   "id": "bcef9363",
   "metadata": {},
   "outputs": [],
   "source": [
    "# You can copy, paste and modify the code corresponding to this part that we used before here\n"
   ]
  },
  {
   "cell_type": "markdown",
   "id": "9cd65315",
   "metadata": {},
   "source": [
    "### 5. Create an expanded image from the central one\n",
    "\n",
    "Using the central image (the first one retrieved from the database), create an extended image by included 0s in the 2D array corresponding to the retrieved intensity map as we did before."
   ]
  },
  {
   "cell_type": "code",
   "execution_count": null,
   "id": "879694fa",
   "metadata": {},
   "outputs": [],
   "source": [
    "# You can copy, paste and modify the code corresponding to this part that we used before here\n"
   ]
  },
  {
   "cell_type": "markdown",
   "id": "2980c26d",
   "metadata": {},
   "source": [
    "### 6. Obtain the limits of the expanded image and save it\n",
    "\n",
    "Using the technique introduced in Part 1 of this tutorial, and briefly introduced in Part 2 also, obtain the new limits of the extended image we just created using the coordinates of the central image (RA, Dec)."
   ]
  },
  {
   "cell_type": "code",
   "execution_count": null,
   "id": "bc382151",
   "metadata": {},
   "outputs": [],
   "source": [
    "# You can copy, paste and modify the code corresponding to this part that we used before here\n"
   ]
  },
  {
   "cell_type": "markdown",
   "id": "a95a81fc",
   "metadata": {},
   "source": [
    "### 7. Transform RA, Dec coordinates into image coordinates\n",
    "\n",
    "Lastly, we need to transform the central coordiantes of the images in order to correctly place them in the mosaic. You can use the function proposed before in this section."
   ]
  },
  {
   "cell_type": "code",
   "execution_count": null,
   "id": "5a4b96ad",
   "metadata": {},
   "outputs": [],
   "source": [
    "# You can copy, paste and modify the code corresponding to this part that we used before here\n"
   ]
  },
  {
   "cell_type": "markdown",
   "id": "5a88bf81",
   "metadata": {},
   "source": [
    "### 8. Display the final mosaic\n",
    "\n",
    "Let's put together everything and display the final mosaic!"
   ]
  },
  {
   "cell_type": "code",
   "execution_count": null,
   "id": "cd595679",
   "metadata": {},
   "outputs": [],
   "source": [
    "# You can copy, paste and modify the code corresponding to this part that we used before here\n"
   ]
  },
  {
   "cell_type": "markdown",
   "id": "bde2d606",
   "metadata": {},
   "source": [
    "As we can see in this image, the dust cloud that was clearly present in the FUV images, vaguely shows up in the NUV images. This is due to the fact that FUV images cover the wavelength range 900–2150 Å while NUV cover 1650-3200 Å, and since a good rule of thumb is that the dust size in the image is around the wavelength used for the observation, this serves us to put a preliminary upper limit to the dust grain size!"
   ]
  },
  {
   "cell_type": "markdown",
   "id": "8e6c11bf",
   "metadata": {},
   "source": [
    "## Additional Resources\n",
    "\n",
    "For more information about the MAST archive and details about the tutorial: \n",
    "\n",
    "* <a href=\"https://mast.stsci.edu/api/v0/index.html\">MAST API</a> <br>\n",
    "* <a href=\"https://galex.stsci.edu/GR6/\">GALEX via MAST</a> <br>\n",
    "\n",
    "## About this Notebook\n",
    "\n",
    "**Author**: Clara Puerto Sánchez <br>\n",
    "**Keyword(s)**: Tutorial, mosaic, dust <br>\n",
    "**Last Updated**: Sep 2022 <br>\n",
    "**Next review**: Apr 2023\n",
    "\n",
    "For support, please contact the Archive HelpDesk at archive@stsci.edu.\n",
    "***\n",
    "[Top of Page](#top)\n",
    "<img style=\"float: right;\" src=\"https://raw.githubusercontent.com/spacetelescope/notebooks/master/assets/stsci_pri_combo_mark_horizonal_white_bkgd.png\" alt=\"Space Telescope Logo\" width=\"200px\"/>"
   ]
  }
 ],
 "metadata": {
  "kernelspec": {
   "display_name": "Python 3 (ipykernel)",
   "language": "python",
   "name": "python3"
  },
  "language_info": {
   "codemirror_mode": {
    "name": "ipython",
    "version": 3
   },
   "file_extension": ".py",
   "mimetype": "text/x-python",
   "name": "python",
   "nbconvert_exporter": "python",
   "pygments_lexer": "ipython3",
   "version": "3.8.13"
  }
 },
 "nbformat": 4,
 "nbformat_minor": 5
}