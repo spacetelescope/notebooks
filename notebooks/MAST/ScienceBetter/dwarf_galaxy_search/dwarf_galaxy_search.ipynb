{
 "cells": [
  {
   "cell_type": "markdown",
   "id": "9bd943dc-1e6f-443f-928f-ed24a5bbed07",
   "metadata": {},
   "source": [
    "# Searching for Dwarf Galaxies in Pan-STARRS"
   ]
  },
  {
   "cell_type": "markdown",
   "id": "549e4104",
   "metadata": {},
   "source": [
    "## Learning Goals\n",
    "\n",
    "By the end of this tutorial you will: <br>\n",
    "* Learn to search a survey for observations of a known target.\n",
    "* Be able to plot a color-magnitude diagram.\n",
    "* Understand how to find and plot an image of a field of view. \n",
    "* Use coordinates to download the data products of a known member in a dwarf galaxy. "
   ]
  },
  {
   "cell_type": "markdown",
   "id": "2b9fc1f4",
   "metadata": {},
   "source": [
    "## Introduction\n",
    "\n",
    "There are a number of dwarf galaxies that are gravitationally bound to the Milky Way. These satellites are small and generally faint companions in the Local Group that are not observable with the naked eye, except for the Large and Small Magenllanic Cloud. These satellites are classified into two major classes: Classical dwarf spheroidal and ultra-faint dwarf (UDF) galaxies. Classical dwarf spheroidal galaxies are small, low-luminosity galaxies with very little dust and an older stellar population ([Metz et al. 2018](https://ui.adsabs.harvard.edu/abs/2007MNRAS.376..387M/abstract)). Ultra-faint dwarf galaxies contain from a few hundred to one hundred thousand stars, making them the faintest galaxies in the Universe ([Simon et al. 2019](https://www.annualreviews.org/doi/10.1146/annurev-astro-091918-104453)).\n",
    "\n",
    "We will be searching the [Pan-STARRS](https://outerspace.stsci.edu/display/PANSTARRS/) catalog for data on an already discovered dwarf spheroidal galaxy and then try to search if there are other MAST data associated with the galaxy. The methods we use in this notebook can be extended to find new dwarf galaxies but in this application we will be using the MAST archive and its tools to search PS1 for data on an already known target. To choose our target, we will be referencing the paper \"Milky Way Satellite Census. I. The Observational Selection Function for Milky Way Satellites in DES Y3 and Pan-STARRS DR1\" by [Drlica-Wagner et al. 2020](https://iopscience.iop.org/article/10.3847/1538-4357/ab7eb9).\n",
    "\n",
    "After searching PS1 for data on our target, we will use the data to plot a color-magnitude diagram of the galaxy and also plot an image of the field of view of our target. Next, we will choose another target (a UFD galaxy) repeat the steps of gathering PS1 data, and compare both target's color-magnitude diagrams. Lastly, we will search Hubble Space Telescope data to download the data products available for our first target. \n"
   ]
  },
  {
   "cell_type": "markdown",
   "id": "c21b793a",
   "metadata": {},
   "source": [
    "## Imports\n",
    "\n",
    "The following cell holds the imported packages. These packages are necessary for running the rest of the cells in this notebook. A description of each import is as follows:\n",
    "\n",
    "* numpy to handle array functions\n",
    "* fits from astropy.io for accessing FITS files\n",
    "* Table from astropy.table for creating tidy tables of the data\n",
    "* Image from PIL to functions to load images from a URL\n",
    "* ascii from astropy.io for accessing the API results\n",
    "* matplotlib.pyplot for plotting data\n",
    "* Mast, Observations, and Catalogs from astroquery.mast for querying data and observations from the MAST archive\n",
    "* requests for gathering data from the PS1 API\n",
    "* BytesIO is needed to manipulate bytes data in memory that are returned by requests.\n",
    "* units from astropy and SkyCoord from astropy.coordinates for converting RA and Dec into degrees"
   ]
  },
  {
   "cell_type": "code",
   "execution_count": null,
   "id": "3592b4e7",
   "metadata": {},
   "outputs": [],
   "source": [
    "%matplotlib inline\n",
    "import numpy as np\n",
    "import matplotlib.pyplot as plt\n",
    "import matplotlib.colors as colors\n",
    "import requests\n",
    "from io import BytesIO\n",
    "from PIL import Image\n",
    "from astropy.io import fits\n",
    "import astropy.utils\n",
    "from astropy.table import Table\n",
    "from astroquery.mast import Mast, Observations, Catalogs\n",
    "from astropy.io import ascii\n",
    "from astropy import units as u\n",
    "from astropy.coordinates import SkyCoord\n",
    "from astropy.wcs import WCS"
   ]
  },
  {
   "cell_type": "markdown",
   "id": "36b08aad",
   "metadata": {},
   "source": [
    "# Searching PS1 Data for a Known Target"
   ]
  },
  {
   "cell_type": "markdown",
   "id": "5568929a",
   "metadata": {},
   "source": [
    "## Choosing a Target\n",
    "\n",
    "Using Table 2 and Table 4 from Drlica-Wagner et al. 2020, we can choose a galaxy that has PS1 data to search for. We will choose the galaxy with the brightest magnitude that has been confirmed using PS1: **Leo I**. \n",
    "\n",
    "Table 2 lists the Right Acension, Declination, and distance of **Leo I** which we will use to search the database. We can see that it's basic characteristics are: \n",
    "* Right Ascension: 10h 08m 28.12s or 152.1146 degrees\n",
    "* Declination: +12deg 18' 23.4\" or 12.3059 degrees\n",
    "* Distance: 254 kiloparsecs \n",
    "* Magnitude in v band: −11.78 \n",
    "\n",
    "### Gather necessary parameters \n",
    "\n",
    "Table 2 lists the Right Acension, Declination, and distance of **Leo I** which we will use to search the database. Additionally, we will need the API url in order to search PS1 for this target. We are using a search radius around **Leo I** of 15 arcminutes to be sure we are looking at the entire galaxy, [SIMBAD](https://simbad.u-strasbg.fr/simbad/sim-id?Ident=leo+I&NbIdent=1&Radius=2&Radius.unit=arcmin&submit=submit+id) lists the angular size of **Leo I** as 11.5 arcminutes. "
   ]
  },
  {
   "cell_type": "code",
   "execution_count": null,
   "id": "54f991e0",
   "metadata": {},
   "outputs": [],
   "source": [
    "ra = \"152.1146\" #[deg]\n",
    "dec = \"12.3059\" #[deg]\n",
    "dist = \"254\" #[kpc]\n",
    "radius = \"0.25\" #[deg] = 20 arcminutes"
   ]
  },
  {
   "cell_type": "code",
   "execution_count": null,
   "id": "44c5339e",
   "metadata": {},
   "outputs": [],
   "source": [
    "baseurl=\"https://catalogs.mast.stsci.edu/api/v0.1/panstarrs/\" #this is the base url for querying the API\n",
    "release = \"dr1/\" #you can also look at dr2 if you want\n",
    "obj = \"mean\" #we will look at the mean photometric information for our target\n",
    "condition = \"nDetections.gte=1\" #this condition allows us to only get data where at least 1 observation has been made\n",
    "form = \"csv\""
   ]
  },
  {
   "cell_type": "markdown",
   "id": "434db03a",
   "metadata": {},
   "source": [
    "## Retrieve PS1 data\n",
    "\n",
    "The Panoramic Survey Telescope & Rapid Response System (Pan-STARRS) is a wide-field imaging facility developed at the University of Hawaii's Institute for Astronomy. We are going to be using the MAST API for PS1 to gather our data. Discriptions for the PS1 MeanObjectView table fields can be found here: https://outerspace.stsci.edu/display/PANSTARRS/PS1+MeanObjectView+table+fields . \n",
    "\n",
    "### Build API URL and Get Data"
   ]
  },
  {
   "cell_type": "code",
   "execution_count": null,
   "id": "b671f13c",
   "metadata": {},
   "outputs": [],
   "source": [
    "#now build the url to get the data using the parameters we gathered\n",
    "url = baseurl+release+obj+\"?ra=\"+ra+\"&dec=\"+dec+\"&radius=\"+radius+\"&\"+condition+\"&format=\"+form\n",
    "print(url)\n",
    "\n",
    "#Request data from the API\n",
    "results = requests.get(url)\n",
    "results = results.text\n",
    "\n",
    "#Make a table from the results\n",
    "tab = ascii.read(results)\n",
    "tab[0:5]"
   ]
  },
  {
   "cell_type": "markdown",
   "id": "94f5d5e3",
   "metadata": {},
   "source": [
    "## Plot Color-Magnitude Diagram (CMD) of Leo I\n",
    "\n",
    "Color-Magnitude Diagrams (CMDs) are a common way astronomers visualize the photometric parameters of a stellar system. Where the stars of a system fall on a CMD can tell you things like the age of that system and therefore, what types of stars it is composed of. The colors of a system can also tell us about the temperature of that system. Color in astronomy is defined to be the difference between the magnitude in one filter and the magnitude in another filter.\n",
    "\n",
    "### Gather arrays for plotting\n",
    "A CMD consists of the magnitude in one filter (vertical-axis) vs the difference between the magnitude in that filter and the magnitude in another filter (horizontal-axis). For this example we will plot the magnitude of **Leo I** in g vs the magnitude of **Leo I** in g-r. Additionally, we'll take a look at the CMD in r-i so that you can see how to plot multiple types of CMDs for future reference.\n",
    "\n",
    "What CMDs show is the relationship between the magnitude of the signal we have detected in different color filters, so in this case a larger value for g (bluer filter) minus r (red filter) means the star is redder, and a smaller g-r value means the star is bluer. A larger value in r (red) minus i (even more red) means the star is redder, and a smaller r-i value means the star is bluer. In order to plot these CMDs we will need a few numpy arrarys to store these magnitudes (g,r,i).\n"
   ]
  },
  {
   "cell_type": "code",
   "execution_count": null,
   "id": "cbf41d0f",
   "metadata": {},
   "outputs": [],
   "source": [
    "g_mag = tab[\"gMeanApMag\"] #mean aperture magntiude in g filter\n",
    "r_mag = tab[\"rMeanApMag\"] #mean aperture magntiude in r filter\n",
    "i_mag = tab[\"iMeanApMag\"] #mean aperture magntiude in i filter\n",
    "\n",
    "#convert to numpy arrays for easy plotting\n",
    "g_mag = np.array(g_mag)\n",
    "r_mag = np.array(r_mag)\n",
    "i_mag = np.array(i_mag)\n",
    "\n",
    "#get the difference between the filters \n",
    "g_r = np.subtract(g_mag,r_mag)\n",
    "\n",
    "#get the difference between the filters \n",
    "r_i = np.subtract(r_mag,i_mag)"
   ]
  },
  {
   "cell_type": "markdown",
   "id": "17f47873",
   "metadata": {},
   "source": [
    "### Plot Total CMD in g - r"
   ]
  },
  {
   "cell_type": "code",
   "execution_count": null,
   "id": "9926ab9a",
   "metadata": {},
   "outputs": [],
   "source": [
    "plt.scatter(g_r, g_mag, c = \"coral\", edgecolor = \"black\", alpha = 0.75)\n",
    "plt.xlim(-5,5)\n",
    "plt.ylim(28,12.5)\n",
    "plt.xlabel(\"g - r\")\n",
    "plt.ylabel(\"g\")"
   ]
  },
  {
   "cell_type": "markdown",
   "id": "342685fc",
   "metadata": {},
   "source": [
    "### Filter Data to Show CMD with Old Stars \n",
    "The CMD of all of **Leo I** doesn't tell us much about the stellar evolution of the system. Let's filter the data so we can compare the whole galaxy with just its outer stars that are old and metal-poor.\n",
    "\n",
    "First, we need to calculate the distance modulus of **Leo I**. A distance modulus is the difference between the apparent magnitude and absolute magnitude of a celestial object (m – M), and provides a measure of the distance to the object, r. For **Leo I** (m-M) = 21.8. [Drlica-Wagner et al. 2020](https://iopscience.iop.org/article/10.3847/1538-4357/ab7eb9) shows in Section 5.1, that metal-poor stars reside in a distance modulus between 16 and 22. We know from [Held et al. 2000](https://iopscience.iop.org/article/10.1086/312505/pdf) that old metal-poor stars in **Leo I** will be outside a radius of 4.5' from the galactic center."
   ]
  },
  {
   "cell_type": "code",
   "execution_count": null,
   "id": "6f6603ed",
   "metadata": {},
   "outputs": [],
   "source": [
    "#Filter data to be outside radius of 4.5' = 0.075 degrees\n",
    "ind = np.where((tab[\"raMean\"] <= float(ra)+0.075) & (tab[\"decMean\"] <= float(dec)+0.075))\n",
    "g_mag_outer = tab[\"gMeanApMag\"][ind] #mean aperture magntiude in g filter for just outer stars\n",
    "r_mag_outer = tab[\"rMeanApMag\"][ind] #mean aperture magntiude in r filter for just outer stars\n",
    "i_mag_outer = tab[\"iMeanApMag\"][ind] #mean aperture magntiude in i filter for just outer stars\n",
    "g_r_outer = g_mag_outer-r_mag_outer\n",
    "r_i_outer = r_mag_outer-i_mag_outer\n",
    "\n",
    "#Filter the data again to be of a distance modulus between 16 and 22\n",
    "# distance_modulus = 11.2-tab[\"gMeanApMag\"][ind]\n",
    "# ind2 = np.where((distance_modulus <= 22) & (distance_modulus>=16)) \n",
    "# g_mag_outer = g_mag_outer[ind2] #mean aperture magntiude in g filter for just outer stars\n",
    "# r_mag_outer = r_mag_outer[ind2] #mean aperture magntiude in r filter for just outer stars\n",
    "# g_r_outer = g_mag_outer-r_mag_outer"
   ]
  },
  {
   "cell_type": "markdown",
   "id": "dfc3f545",
   "metadata": {},
   "source": [
    "### Overplot CMD of Whole Galaxy with CMD of just Outer Stars"
   ]
  },
  {
   "cell_type": "code",
   "execution_count": null,
   "id": "ef9219f3",
   "metadata": {},
   "outputs": [],
   "source": [
    "plt.scatter(g_r, g_mag, c = \"coral\", edgecolor = \"black\", alpha = 0.75)\n",
    "plt.scatter(g_r_outer, g_mag_outer, c = \"darkgrey\", s = 5)\n",
    "plt.xlim(-5,5)\n",
    "plt.ylim(28,12.5)\n",
    "plt.xlabel(\"g - r\")\n",
    "plt.ylabel(\"g\")"
   ]
  },
  {
   "cell_type": "markdown",
   "id": "cfb5463a",
   "metadata": {},
   "source": [
    "### Plot CMD in r - i"
   ]
  },
  {
   "cell_type": "code",
   "execution_count": null,
   "id": "03d3ffc2",
   "metadata": {},
   "outputs": [],
   "source": [
    "plt.scatter(r_i, i_mag, c = \"turquoise\", edgecolor = \"black\", alpha = 0.75)\n",
    "plt.xlim(-5,5)\n",
    "plt.ylim(30,10)\n",
    "plt.xlabel(\"r - i\")\n",
    "plt.ylabel(\"i\")"
   ]
  },
  {
   "cell_type": "markdown",
   "id": "137a023a",
   "metadata": {},
   "source": [
    "### Overplot CMD of Whole Galaxy with CMD of Outer Stars in r-i"
   ]
  },
  {
   "cell_type": "code",
   "execution_count": null,
   "id": "34f4713c",
   "metadata": {},
   "outputs": [],
   "source": [
    "plt.scatter(r_i, i_mag, c = \"turquoise\", edgecolor = \"black\", alpha = 0.75)\n",
    "plt.scatter(r_i_outer, i_mag_outer, c = \"darkgrey\", s = 5)\n",
    "plt.xlim(-5,5)\n",
    "plt.ylim(30,10)\n",
    "plt.xlabel(\"r - i\")\n",
    "plt.ylabel(\"i\")"
   ]
  },
  {
   "cell_type": "markdown",
   "id": "dcec7706",
   "metadata": {},
   "source": [
    "### Plot CMD in g-r and r-i side-by-side"
   ]
  },
  {
   "cell_type": "code",
   "execution_count": null,
   "id": "ac0c3d55",
   "metadata": {},
   "outputs": [],
   "source": [
    "fig, (ax1,ax2) = plt.subplots(1,2)\n",
    "fig.set_size_inches(10,3)\n",
    "\n",
    "ax1.scatter(g_r, g_mag, c = \"coral\", edgecolor = \"black\", alpha = 0.75)\n",
    "ax1.set_xlim(-5,5)\n",
    "ax1.set_ylim(30,10)\n",
    "ax1.set_xlabel(\"g - r\")\n",
    "ax1.set_ylabel(\"g\")\n",
    "\n",
    "ax2.scatter(r_i, i_mag, c = \"turquoise\", edgecolor = \"black\", alpha = 0.75)\n",
    "ax2.set_xlim(-5,5)\n",
    "ax2.set_ylim(30,10)\n",
    "ax2.set_xlabel(\"r - i\")\n",
    "ax2.set_ylabel(\"i\")"
   ]
  },
  {
   "cell_type": "markdown",
   "id": "b287a4e6",
   "metadata": {},
   "source": [
    "## Plot Field of View (FOV) of Leo I\n",
    "\n",
    "### Build the url to the fits file of the region for our target by the cutout service.\n"
   ]
  },
  {
   "cell_type": "code",
   "execution_count": null,
   "id": "cc93dd75",
   "metadata": {},
   "outputs": [],
   "source": [
    "filters = \"grizy\"\n",
    "size = \"3000\" #extracted image size in pixels (0.25 arcsec/pixel)\n",
    "form = \"fits\" #file format of the file we would like\n",
    "\n",
    "color = \"red\" #you can change this, red is typically the i or r filter\n",
    "\n",
    "#get the url to the PS1 images\n",
    "images_url = \"https://ps1images.stsci.edu/cgi-bin/ps1filenames.py?ra=\"+ra+\"&dec=\"+dec+\"&filters=\"+filters\n",
    "#read the images data into a table\n",
    "img_table = Table.read(images_url, format='ascii')\n",
    "\n",
    "#get the first filename from the list of images\n",
    "file = img_table['filename'][0]\n",
    "\n",
    "#build the url to the fits file\n",
    "fits_url = \"https://ps1images.stsci.edu/cgi-bin/fitscut.cgi?ra=\"+ra+\"&dec=\"+dec+\"&size=\"+size+\"&format=\"+form+\"&\"+color+\"=\"+file\n",
    "\n",
    "print(fits_url)"
   ]
  },
  {
   "cell_type": "markdown",
   "id": "f30242c0",
   "metadata": {},
   "source": [
    "### Open the fits file and inspect the header\n",
    "\n",
    "Here we will plot the field of view containing our galaxy, **Leo I**. In the next step we will also show you how to convert from pixel coordinates to sky coordinates (RA and Dec), to do this we will use the information in the FITS header combined with the astropy package WCS. FITS headers contain meta-deta about the image or data cube including but not limited to: the date, time, telescope, and instrument that made the observation, the exposure time and wavelength band of the data, and the physical size and binning of the pixels in the image."
   ]
  },
  {
   "cell_type": "code",
   "execution_count": null,
   "id": "73a45b84",
   "metadata": {
    "scrolled": true
   },
   "outputs": [],
   "source": [
    "#open the fits file and get the data\n",
    "fh = fits.open(fits_url)\n",
    "fits_img = fh[0].data\n",
    "\n",
    "#get the FITS header\n",
    "header = fh[0].header\n",
    "wcs_leoI = WCS(header)\n",
    "\n",
    "#take a look at the FITS header\n",
    "header"
   ]
  },
  {
   "cell_type": "markdown",
   "id": "1bde50e2",
   "metadata": {},
   "source": [
    "### Plot the Field of View image"
   ]
  },
  {
   "cell_type": "code",
   "execution_count": null,
   "id": "d57a4bd5",
   "metadata": {},
   "outputs": [],
   "source": [
    "# replace NaN values with zero for display\n",
    "fits_img[np.isnan(fits_img)] = 0.0\n",
    "\n",
    "#make figure\n",
    "fig = plt.figure(figsize = (10, 10))\n",
    "#this subplot with the \"projection\" keyword will put our axes into units of RA and Dec\n",
    "ax = plt.subplot(projection = wcs_leoI)\n",
    "plt.imshow(fits_img, origin = 'lower', cmap = 'Greys_r', aspect = 'equal', vmin = 0, vmax = 255)\n",
    "plt.xlabel('RA')\n",
    "plt.ylabel('Dec')\n",
    "plt.xlim(400,3000)"
   ]
  },
  {
   "cell_type": "markdown",
   "id": "f9cc7d6b",
   "metadata": {},
   "source": [
    "### Build the url to the color image file of the region for our target"
   ]
  },
  {
   "cell_type": "code",
   "execution_count": null,
   "id": "eac5f2b4",
   "metadata": {},
   "outputs": [],
   "source": [
    "size = \"3000\" #extracted image size in pixels (0.25 arcsec/pixel) = 12.5 arcminutes of angular size\n",
    "form = \"png\" #file format of the file we would like, for color images it has to be a jpeg or png\n",
    "filters = \"yig\" #using three images of filters 'y' (for red), 'i' (for green), and 'g' (for blue). \n",
    "\n",
    "#build the PS1 url for the color image\n",
    "color_img_url = \"https://ps1images.stsci.edu/cgi-bin/ps1filenames.py?ra=\"+ra+\"&dec=\"+dec+\"&filters=\"+filters\n",
    "color_img_table = Table.read(color_img_url, format='ascii')\n",
    "color_file = color_img_table['filename'][0]\n",
    "color_png_url = \"https://ps1images.stsci.edu/cgi-bin/fitscut.cgi?ra=\"+ra+\"&dec=\"+dec+\"&size=\"+size+\"&format=\"+form\n",
    "\n",
    "#now we need to get all three colors (r,g,b)\n",
    "for i, param in enumerate([\"red\",\"green\",\"blue\"]):\n",
    "            color_png_url = color_png_url + \"&{}={}\".format(param,color_img_table['filename'][i])\n"
   ]
  },
  {
   "cell_type": "markdown",
   "id": "c7ef072e",
   "metadata": {},
   "source": [
    "### Plot the FOV in Color "
   ]
  },
  {
   "cell_type": "code",
   "execution_count": null,
   "id": "3406b124",
   "metadata": {},
   "outputs": [],
   "source": [
    "#open the url and get the image\n",
    "r = requests.get(color_png_url)\n",
    "im = Image.open(BytesIO(r.content))\n",
    "#make figure\n",
    "fig = plt.figure(figsize = (10, 10))\n",
    "#this subplot with the \"projection\" keyword will put our axes into units of RA and Dec\n",
    "ax = plt.subplot(projection = wcs_leoI)\n",
    "#plot the image\n",
    "plt.imshow(im, origin = 'lower', aspect = 'equal',vmin=0, vmax = 255) \n",
    "plt.xlabel(r'RA')\n",
    "plt.ylabel(r'Dec')\n",
    "plt.xlim(400,3000)"
   ]
  },
  {
   "cell_type": "markdown",
   "id": "eb8651bb",
   "metadata": {},
   "source": [
    "## Repeat with New Target and Compare\n",
    "\n",
    "Now we will repeat the same process for a new target, **Draco II**, which is a UFD galaxy and compare it with **Leo I**, a classical dwarf spheroidal.\n",
    "\n",
    "### Retrieve PS1 data \n",
    "This is the same method as before, just using the position of **Draco II** instead. You can find the RA and Dec of **Draco II** in Table I of its discovery paper, [Laevens et al 2015](https://iopscience.iop.org/article/10.1088/0004-637X/813/1/44 ). It is also listed on [SIMBAD](https://simbad.u-strasbg.fr/simbad/sim-id?Ident=draco+ii&NbIdent=1&Radius=2&Radius.unit=arcmin&submit=submit+id). "
   ]
  },
  {
   "cell_type": "code",
   "execution_count": null,
   "id": "e707ed1c",
   "metadata": {},
   "outputs": [],
   "source": [
    "#read RA and Dec from either SIMBAD or Table 1 in Laevens et al 2015\n",
    "r = '15:52:47.6'\n",
    "d = '+64:33:55'\n",
    "form = \"csv\"\n",
    "radius = \"0.1\""
   ]
  },
  {
   "cell_type": "code",
   "execution_count": null,
   "id": "1cfa2a90",
   "metadata": {},
   "outputs": [],
   "source": [
    "\n",
    "#Convert the RA and Dec to degrees\n",
    "c = SkyCoord(r+d, unit=(u.hourangle, u.deg))\n",
    "draco_ra = str(c.ra.degree)\n",
    "draco_dec = str(c.dec.degree)\n",
    "\n",
    "#now build the url to get the data from using the parameters we gathered\n",
    "draco_url = baseurl+release+obj+\"?ra=\"+draco_ra+\"&dec=\"+draco_dec+\"&radius=\"+radius+\"&\"+condition+\"&format=\"+form\n",
    "print(draco_url)\n",
    "\n",
    "#Request data from the API\n",
    "draco_results = requests.get(draco_url)\n",
    "draco_results = draco_results.text\n",
    "\n",
    "#Make a table from the results\n",
    "draco_tab = ascii.read(draco_results)\n",
    "draco_tab[0:5]"
   ]
  },
  {
   "cell_type": "markdown",
   "id": "44ce217f",
   "metadata": {},
   "source": [
    "## Plot CMDs of Draco II\n",
    "\n",
    "Gather the arrays for plotting the color-magnitude diagrams using the same method as before. "
   ]
  },
  {
   "cell_type": "code",
   "execution_count": null,
   "id": "bb76efb4",
   "metadata": {},
   "outputs": [],
   "source": [
    "draco_g_mag = draco_tab[\"gMeanApMag\"] #mean aperture magntiude in g filter\n",
    "draco_r_mag = draco_tab[\"rMeanApMag\"] #mean aperture magntiude in r filter\n",
    "draco_i_mag = draco_tab[\"iMeanApMag\"] #mean aperture magntiude in i filter\n",
    "\n",
    "#convert to numpy arrays for easy plotting\n",
    "draco_g_mag = np.array(draco_g_mag)\n",
    "draco_r_mag = np.array(draco_r_mag)\n",
    "draco_i_mag = np.array(draco_i_mag)\n",
    "\n",
    "#get the difference between the filters \n",
    "draco_g_r = np.subtract(draco_g_mag,draco_r_mag)\n",
    "draco_r_i = np.subtract(draco_r_mag,draco_i_mag)"
   ]
  },
  {
   "cell_type": "markdown",
   "id": "68fbb90b",
   "metadata": {},
   "source": [
    "### Plot CMD in g-r and r-i side-by-side"
   ]
  },
  {
   "cell_type": "code",
   "execution_count": null,
   "id": "c743008c",
   "metadata": {},
   "outputs": [],
   "source": [
    "fig, (ax1,ax2) = plt.subplots(1,2)\n",
    "fig.set_size_inches(10,3)\n",
    "\n",
    "ax1.scatter(draco_g_r, draco_g_mag, c = \"gold\", edgecolor = \"black\", alpha = 0.75)\n",
    "ax1.set_xlim(-5,5)\n",
    "ax1.set_ylim(30,10)\n",
    "ax1.set_xlabel(\"g - r\")\n",
    "ax1.set_ylabel(\"g\")\n",
    "\n",
    "ax2.scatter(draco_r_i, draco_i_mag, c = \"dodgerblue\", edgecolor = \"black\", alpha = 0.75)\n",
    "ax2.set_xlim(-5,5)\n",
    "ax2.set_ylim(30,10)\n",
    "ax2.set_xlabel(\"r - i\")\n",
    "ax2.set_ylabel(\"i\")"
   ]
  },
  {
   "cell_type": "markdown",
   "id": "ab8ce9b9",
   "metadata": {},
   "source": [
    "## Let's overplot the CMDs for Leo I and Draco II \n",
    "\n",
    "To compare the compositions of **Leo I** and **Draco II**, we can plot their Color-Magnitude Diagrams on top of each other to see how they differ. As before, we will first plot a CMD in g-r vs g and then in r-i vs i. "
   ]
  },
  {
   "cell_type": "code",
   "execution_count": null,
   "id": "f034e27e",
   "metadata": {},
   "outputs": [],
   "source": [
    "plt.scatter(g_r, g_mag, c = \"coral\", label = \"Leo I\", edgecolor = \"black\", alpha = 0.75)\n",
    "plt.scatter(draco_g_r, draco_g_mag, c = \"gold\", label = \"Draco II\", edgecolor = \"black\", alpha = 0.75)\n",
    "plt.xlim(-5,5)\n",
    "plt.ylim(30,10)\n",
    "plt.xlabel(\"g - r\")\n",
    "plt.ylabel(\"g\")\n",
    "plt.legend()"
   ]
  },
  {
   "cell_type": "code",
   "execution_count": null,
   "id": "9252a8d2",
   "metadata": {},
   "outputs": [],
   "source": [
    "plt.scatter(r_i, i_mag, c = \"turquoise\", label = \"Leo I\", edgecolor = \"black\", alpha = 0.75)\n",
    "plt.scatter(draco_r_i, draco_i_mag, c = \"dodgerblue\", label = \"Draco II\", edgecolor = \"black\", alpha = 0.75)\n",
    "plt.xlim(-5,5)\n",
    "plt.ylim(30,10)\n",
    "plt.xlabel(\"r - i\")\n",
    "plt.ylabel(\"i\")\n",
    "plt.legend()"
   ]
  },
  {
   "cell_type": "markdown",
   "id": "3b528209",
   "metadata": {},
   "source": [
    "We can see that the CMDs for both galaxies are actually quite similar. They show the same distribtion in either color. The average color of **Draco II's** stars look to be very slightly redder than **Leo I**, at least in the g-r CMD. **Draco II** is also a smaller galaxy with less stars -- this is expected since **Draco II** is an ultra-faint dwarf while **Leo I** is a classical dwarf. "
   ]
  },
  {
   "cell_type": "markdown",
   "id": "8ba7380e",
   "metadata": {},
   "source": [
    "## Find the Spectral Image for a Member of Leo I\n",
    " \n",
    "We can use the paper [Kirby et al. 2010 ](https://ui.adsabs.harvard.edu/abs/2010ApJS..191..352K/abstract) to find an individual member of **Leo I**. From here we can use the coordinates of a member, search the MAST archive for observations of it, and download its spectrum.\n",
    "\n",
    "Let's take a look at member **LeoI72134** by Kirby et al. 2010, we are choosing this star because it has multiple citations so we should be able to learn a lot about it. \n",
    "\n",
    "### Convert RA and Dec to Degrees\n",
    "\n",
    "The coordinates from Kirby et al. 2010 are in units of hour angle while the MAST archive needs units of degrees, so we will have to convert the coordinates."
   ]
  },
  {
   "cell_type": "code",
   "execution_count": null,
   "id": "7596d132",
   "metadata": {},
   "outputs": [],
   "source": [
    "#Get the RA and Dec\n",
    "ra = \"10 08 01.88\"\n",
    "dec = \"+12 17 55.5\" \n",
    "\n",
    "#Convert the RA and Dec into degrees\n",
    "c = SkyCoord(ra+dec, unit=(u.hourangle, u.deg))\n",
    "ra = str(c.ra.deg)\n",
    "dec = str(c.dec.deg)\n",
    "print(ra,dec)"
   ]
  },
  {
   "cell_type": "markdown",
   "id": "d233e8ac",
   "metadata": {},
   "source": [
    "### First, Query MAST Archive for HST observations of LeoI72134"
   ]
  },
  {
   "cell_type": "code",
   "execution_count": null,
   "id": "f259296c",
   "metadata": {},
   "outputs": [],
   "source": [
    "hst_table = Observations.query_criteria(coordinates = ra+dec,radius=\"0.5 degrees\", dataproduct_type=\"spectrum\", obs_collection=\"HST\")\n",
    "\n",
    "#Let's print out some relevant columns of this table\n",
    "hst_table[\"instrument_name\",\"filters\",\"target_name\",\"obs_id\",\"calib_level\",\"t_exptime\"]"
   ]
  },
  {
   "cell_type": "markdown",
   "id": "408a4c36",
   "metadata": {},
   "source": [
    "### Now, we have to select observations for a specific instrument and filter combination\n",
    "\n",
    "Unfortuntely, there are no MAST data of any specific stars in **Leo I**. Here we will show the process for the object that we do find an observation for, but keep in mind this object is not inside **Leo I** but is far away from the galaxy in the same region of the sky within a 0.5 degree radius. "
   ]
  },
  {
   "cell_type": "code",
   "execution_count": null,
   "id": "a8b0c46f",
   "metadata": {},
   "outputs": [],
   "source": [
    "g230L_table = hst_table['obsid','obs_id','target_name','calib_level',\n",
    "                        't_exptime','filters','em_min','em_max'][hst_table['filters']=='G230L']\n",
    "\n",
    "sel_table = g230L_table[np.argmin(g230L_table['t_exptime'])]\n",
    "sel_table"
   ]
  },
  {
   "cell_type": "markdown",
   "id": "3e488aa3",
   "metadata": {},
   "source": [
    "### Get the Minimum Recommended Products for this observation\n",
    "\n",
    "Now, we will query the observations from MAST to get a list of products for our selected observation. Then, we will gather the minimum recommended products needed in order to plot a spectrum. This step is necessary as HST specifically can provide more data than is needed to plot the spectrum of our observation. "
   ]
  },
  {
   "cell_type": "code",
   "execution_count": null,
   "id": "1e953d76",
   "metadata": {},
   "outputs": [],
   "source": [
    "data_products = Observations.get_product_list(sel_table)\n",
    "\n",
    "wprod = np.where((data_products['productGroupDescription']=='Minimum Recommended Products') & \n",
    "                 (data_products['productType']=='SCIENCE'))[0]\n",
    "\n",
    "data_products[wprod]"
   ]
  },
  {
   "cell_type": "markdown",
   "id": "af6ec5b8",
   "metadata": {},
   "source": [
    "### Download the data to plot"
   ]
  },
  {
   "cell_type": "code",
   "execution_count": null,
   "id": "3e41663f",
   "metadata": {},
   "outputs": [],
   "source": [
    "data = Observations.download_products(data_products[wprod])\n",
    "\n",
    "data"
   ]
  },
  {
   "cell_type": "markdown",
   "id": "312ae522",
   "metadata": {},
   "source": [
    "### Next, we will investigate the FITS file we just downloaded "
   ]
  },
  {
   "cell_type": "code",
   "execution_count": null,
   "id": "2e09d628",
   "metadata": {},
   "outputs": [],
   "source": [
    "filename = data['Local Path'][0]\n",
    "hdulist = fits.open(filename)\n",
    "\n",
    "header = hdulist[0].header\n",
    "scidata = hdulist[1].data"
   ]
  },
  {
   "cell_type": "markdown",
   "id": "306f6899",
   "metadata": {},
   "source": [
    "### Vizualize the Spectral Image\n",
    "\n",
    "Now, finally, we can investiage the spectral image using Matplotlib."
   ]
  },
  {
   "cell_type": "code",
   "execution_count": null,
   "id": "b88fcd2f",
   "metadata": {},
   "outputs": [],
   "source": [
    "plt.rcParams[\"figure.figsize\"] = (20,3)\n",
    "plt.imshow(scidata, cmap=\"CMRmap\")\n",
    "plt.ylim(600,450)\n",
    "plt.xlabel(\"x pixels\")\n",
    "plt.ylabel(\"y pixels\")"
   ]
  },
  {
   "cell_type": "markdown",
   "id": "936719c9",
   "metadata": {},
   "source": [
    "## Exercise\n",
    "\n",
    "### 1. Plot Field of View of Draco II \n",
    "\n",
    "Can you recreate the steps we took for **Leo I** to plot the field of view of **Draco II** in black and white and in color? "
   ]
  },
  {
   "cell_type": "markdown",
   "id": "8e1699df",
   "metadata": {},
   "source": [
    "# About this Notebook\n",
    "\n",
    "**Author:** Emma Lieb <br>\n",
    "**Last Updated:** Sept 2022"
   ]
  },
  {
   "cell_type": "markdown",
   "id": "1dc4fb00",
   "metadata": {},
   "source": [
    "# Citations\n",
    "\n",
    "* [Citation for `astropy`](https://www.astropy.org/acknowledging.html)"
   ]
  }
 ],
 "metadata": {
  "kernelspec": {
   "display_name": "Python 3 (ipykernel)",
   "language": "python",
   "name": "python3"
  },
  "language_info": {
   "codemirror_mode": {
    "name": "ipython",
    "version": 3
   },
   "file_extension": ".py",
   "mimetype": "text/x-python",
   "name": "python",
   "nbconvert_exporter": "python",
   "pygments_lexer": "ipython3",
   "version": "3.8.13"
  }
 },
 "nbformat": 4,
 "nbformat_minor": 5
}