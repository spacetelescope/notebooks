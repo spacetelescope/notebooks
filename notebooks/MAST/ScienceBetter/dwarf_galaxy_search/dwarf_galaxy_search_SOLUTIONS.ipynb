{
 "cells": [
  {
   "cell_type": "markdown",
   "id": "b6ab59f6",
   "metadata": {},
   "source": [
    "# Solution to Exercise in ultrafaint_dwarf_galaxy_search.ipynb\n",
    "\n",
    "## 1. Plot Field of View of Draco II \n",
    "\n",
    "Can you recreate the steps we took for **Leo I** to plot the field of view of **Draco II** in black and white and in color?  \n",
    "\n",
    "### Start by building the url to the fits file of the region for our target"
   ]
  },
  {
   "cell_type": "code",
   "execution_count": null,
   "id": "1199c638",
   "metadata": {},
   "outputs": [],
   "source": [
    "#read RA and Dec from either SIMBAD or Table 1 in Laevens et al 2015\n",
    "r = '15:52:47.6'\n",
    "d = '+64:33:55'\n",
    "\n",
    "#Convert the RA and Dec to degrees\n",
    "c = SkyCoord(r+d, unit=(u.hourangle, u.deg))\n",
    "ra = str(c.ra.degree)\n",
    "dec = str(c.dec.degree)\n",
    "\n",
    "filters = \"grizy\"\n",
    "size = \"240\" #extracted image size in pixels (0.25 arcsec/pixel)\n",
    "form = \"fits\" #file format of the file we would like\n",
    "\n",
    "color = \"red\" #you can change this, red is typically the i or r filter\n",
    "\n",
    "#get the url to the PS1 images\n",
    "images_url = \"https://ps1images.stsci.edu/cgi-bin/ps1filenames.py?ra=\"+ra+\"&dec=\"+dec+\"&filters=\"+filters\n",
    "#read the images data into a table\n",
    "img_table = Table.read(images_url, format='ascii')\n",
    "\n",
    "#get the first filename from the list of images\n",
    "file = img_table['filename'][0]\n",
    "\n",
    "#build the url to the fits file\n",
    "fits_url = \"https://ps1images.stsci.edu/cgi-bin/fitscut.cgi?ra=\"+ra+\"&dec=\"+dec+\"&size=\"+size+\"&format=\"+form+\"&\"+color+\"=\"+file\n",
    "\n",
    "print(fits_url)"
   ]
  },
  {
   "cell_type": "markdown",
   "id": "88629e31",
   "metadata": {},
   "source": [
    "### Open the fits file and plot the image\n",
    "\n",
    "Here we will plot the field of view containing our UFD, Leo I. Remember, it is Ultra-Faint!\n"
   ]
  },
  {
   "cell_type": "code",
   "execution_count": null,
   "id": "c325c0f2",
   "metadata": {},
   "outputs": [],
   "source": [
    "#open the fits file and get the data\n",
    "fh = fits.open(fits_url)\n",
    "fits_img = fh[0].data\n",
    "\n",
    "# replace NaN values with zero for display\n",
    "fits_img[np.isnan(fits_img)] = 0.0\n",
    "\n",
    "#show the fits image\n",
    "plt.imshow(fits_img,cmap=\"gray\",origin=\"lower\")\n",
    "plt.title(\"Draco II - PS1 i\")"
   ]
  },
  {
   "cell_type": "code",
   "execution_count": null,
   "id": "1e23ec4a",
   "metadata": {},
   "outputs": [],
   "source": [
    "#make a stacked color image by combining filters\n",
    "filters = \"grizy\"\n",
    "size = \"240\" #extracted image size in pixels (0.25 arcsec/pixel)\n",
    "form = \"fits\" #file format of the file we would like\n",
    "\n",
    "red = \"red\" #you can change this, red is typically the r or i filter\n",
    "blue = \"blue\"\n",
    "green = \"green\"\n",
    "\n",
    "#get the url to the PS1 images\n",
    "images_url = \"https://ps1images.stsci.edu/cgi-bin/ps1filenames.py?ra=\"+ra+\"&dec=\"+dec+\"&filters=\"+filters\n",
    "#read the images data into a table\n",
    "img_table = Table.read(images_url, format='ascii')\n",
    "\n",
    "#get the first filename from the list of images\n",
    "file = img_table['filename'][0]\n",
    "\n",
    "#build the url to the fits file\n",
    "red_fits_url = \"https://ps1images.stsci.edu/cgi-bin/fitscut.cgi?ra=\"+ra+\"&dec=\"+dec+\"&size=\"+size+\"&format=\"+form+\"&\"+red+\"=\"+file\n",
    "blue_fits_url = \"https://ps1images.stsci.edu/cgi-bin/fitscut.cgi?ra=\"+ra+\"&dec=\"+dec+\"&size=\"+size+\"&format=\"+form+\"&\"+blue+\"=\"+file\n",
    "green_fits_url = \"https://ps1images.stsci.edu/cgi-bin/fitscut.cgi?ra=\"+ra+\"&dec=\"+dec+\"&size=\"+size+\"&format=\"+form+\"&\"+green+\"=\"+file\n",
    "\n",
    "\n",
    "print(fits_url)"
   ]
  },
  {
   "cell_type": "code",
   "execution_count": null,
   "id": "fa39a1e9",
   "metadata": {},
   "outputs": [],
   "source": [
    "#open the fits file and get the data\n",
    "fh_red = fits.open(red_fits_url)\n",
    "fh_blue = fits.open(blue_fits_url)\n",
    "fh_green = fits.open(green_fits_url)\n",
    "\n",
    "red_fits_img = fh_red[0].data\n",
    "blue_fits_img = fh_blue[0].data\n",
    "green_fits_img = fh_green[0].data\n",
    "\n",
    "# replace NaN values with zero for display\n",
    "red_fits_img[np.isnan(red_fits_img)] = 0.0\n",
    "blue_fits_img[np.isnan(blue_fits_img)] = 0.0\n",
    "green_fits_img[np.isnan(green_fits_img)] = 0.0\n",
    "\n",
    "#show the fits image\n",
    "plt.imshow(green_fits_img,cmap=\"Greens_r\",origin=\"lower\", alpha = 0.35)\n",
    "plt.imshow(red_fits_img,cmap=\"Reds_r\",origin=\"lower\", alpha = 0.45)\n",
    "plt.imshow(blue_fits_img,cmap=\"Blues_r\",origin=\"lower\", alpha = 0.25)\n",
    "plt.title(\"Draco II - PS1 r,g,i\")"
   ]
  }
 ],
 "metadata": {
  "kernelspec": {
   "display_name": "Python 3 (ipykernel)",
   "language": "python",
   "name": "python3"
  },
  "language_info": {
   "codemirror_mode": {
    "name": "ipython",
    "version": 3
   },
   "file_extension": ".py",
   "mimetype": "text/x-python",
   "name": "python",
   "nbconvert_exporter": "python",
   "pygments_lexer": "ipython3",
   "version": "3.8.13"
  }
 },
 "nbformat": 4,
 "nbformat_minor": 5
}
