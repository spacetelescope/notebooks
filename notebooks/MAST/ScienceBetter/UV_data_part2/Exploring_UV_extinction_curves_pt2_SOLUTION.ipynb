{
 "cells": [
  {
   "cell_type": "markdown",
   "id": "b916d87f",
   "metadata": {},
   "source": [
    "<a id=\"top\"></a>\n",
    "# Exploring UV extinction curves – Part 2 – SOLUTIONS\n",
    "***\n",
    "\n",
    "Solutions proposed for Part 2.\n",
    "\n",
    "## Imports\n",
    "\n",
    "The first step will be to import the libraries we will be using throughout this tutorial: \n",
    "\n",
    "- `matplotlib.pyplot` for plotting data\n",
    "- `numpy` for array manipulations\n",
    "- `Simbad` from _astroquery.simbad_ to query the SIMBAD astronomical database.\n",
    "- `curve_fit` from scipy.optimize for data-fitting"
   ]
  },
  {
   "cell_type": "code",
   "execution_count": null,
   "id": "e35e3468",
   "metadata": {},
   "outputs": [],
   "source": [
    "import matplotlib.pyplot as plt\n",
    "import numpy as np\n",
    "from astroquery.simbad import Simbad\n",
    "from scipy.optimize import curve_fit"
   ]
  },
  {
   "cell_type": "markdown",
   "id": "b97fc4d1",
   "metadata": {},
   "source": [
    "## Functions needed\n",
    "\n",
    "Functions defined in the tutorial and modified for the porpuse of this exercise that will be used in the solutions:"
   ]
  },
  {
   "cell_type": "code",
   "execution_count": null,
   "id": "08de614a",
   "metadata": {},
   "outputs": [],
   "source": [
    "def FMpar(x, C1, C2, C3, C4, xo, gamma):\n",
    "    \n",
    "    \"\"\"\n",
    "    Parametrization of UV extinction curve according to Fitzpatrick and Massa 1990\n",
    "    \n",
    "    Inputs:\n",
    "    :param x: input inverse-wavelength arrays (x = 1/wavelength)\n",
    "    :type x: float array\n",
    "    :param C1, C2, C3, C4, xo, gamma: input parameters to be fitted\n",
    "    :type C1, C2, C3, C4, xo, gamma: float\n",
    "    \n",
    "    Outputs: \n",
    "    :return: k, extinction curve evaluated for the different x's\n",
    "    :rtype: float array\n",
    "    \"\"\"\n",
    "\n",
    "    F = np.zeros(len(x))\n",
    "    for i in range(len(x)):\n",
    "        if x[i] >= 5.9:\n",
    "            F = 0.5392*(x-5.9)**2+0.05644*(x-5.9)**3\n",
    "        \n",
    "    D = x**2/((x**2-xo**2)**2+x**2*gamma**2)\n",
    "    \n",
    "    k = C1 + C2*x + C3*D + C4*F\n",
    "    \n",
    "    return k"
   ]
  },
  {
   "cell_type": "markdown",
   "id": "a858db72",
   "metadata": {},
   "source": [
    "## Exercises\n",
    "\n",
    "Now you can try to do it yourself! Try to obtain the extinction curve of a Large Magellanic Cloud (LMC) following the steps presented for the SMC one and look for the differences in the trend between the two.\n",
    "\n",
    "### 1. Load the data\n",
    "\n",
    "The targets for this exercise will be:\n",
    "\n",
    "- Sk -69 206 (reddened star)\n",
    "- Sk -67 5 (unreddened star) \n",
    "\n",
    "And the data neccessary to do this exercise can be found in _sw_sk69206_sk675.txt_ (short wavelength) and _lw_sk69206_sk675.txt_ (long wavelength).\n",
    "\n",
    "_**Note:** these arrays come from Part 1 of this tutorial, if you have not completed this part yet, please do so before attempting this part._"
   ]
  },
  {
   "cell_type": "code",
   "execution_count": null,
   "id": "1d472036",
   "metadata": {},
   "outputs": [],
   "source": [
    "wav_sk_69_206_sw,flux_sk_69_206_sw,wav_sk_67_5_sw,flux_sk_67_5_sw = np.loadtxt('sw_sk69206_sk675.txt')\n",
    "wav_sk_69_206_lw,flux_sk_69_206_lw,wav_sk_67_5_lw,flux_sk_67_5_lw = np.loadtxt('lw_sk69206_sk675.txt')"
   ]
  },
  {
   "cell_type": "markdown",
   "id": "629079c9",
   "metadata": {},
   "source": [
    "### 2. Plot the spectra of both stars\n",
    "\n",
    "Remember that normally in these studies you plot the logarithm of the fluxes versus the inverse of the wavelengths."
   ]
  },
  {
   "cell_type": "code",
   "execution_count": null,
   "id": "5950e333",
   "metadata": {},
   "outputs": [],
   "source": [
    "wavinv_sk_69_206_sw = 1/(wav_sk_69_206_sw*1e-4) # mu-m\n",
    "wavinv_sk_69_206_lw = 1/(wav_sk_69_206_lw*1e-4) # mu-m\n",
    "wavinv_sk_67_5_sw = 1/(wav_sk_67_5_sw*1e-4) # mu-m\n",
    "wavinv_sk_67_5_lw = 1/(wav_sk_67_5_lw*1e-4) # mu-m\n",
    "\n",
    "fig = plt.figure()\n",
    "ax = plt.subplot(111)\n",
    "\n",
    "plt.plot(wavinv_sk_69_206_sw,np.log10(flux_sk_69_206_sw),'r',label='swp36552')\n",
    "plt.plot(wavinv_sk_69_206_lw,np.log10(flux_sk_69_206_lw),'r:',label='lwp15751')\n",
    "plt.text(7, -14, 'Sk -69 206', fontsize = 11)\n",
    "plt.plot(wavinv_sk_67_5_sw,np.log10(flux_sk_67_5_sw),'b',label='swp04827')\n",
    "plt.plot(wavinv_sk_67_5_lw,np.log10(flux_sk_67_5_lw),'b:',label='lwr04170')\n",
    "plt.text(7, -11.2, 'Sk -67 5', fontsize = 11)\n",
    "\n",
    "ax.set_xlabel('1/$\\lambda$ ($\\mu m^{-1}$)')\n",
    "ax.set_ylabel(r'log(Flux (ergs $cm^{-2}$ $s^{-1}$ $\\AA^{-1}$))')\n",
    "ax.set_xlim([3, 8])\n",
    "ax.set_ylim([-15, -10.5])\n",
    "\n",
    "plt.legend(loc='best',frameon=False)\n",
    "\n",
    "plt.show()"
   ]
  },
  {
   "cell_type": "markdown",
   "id": "fb14fa2c",
   "metadata": {},
   "source": [
    "### 3. Find the values for the B and V bands in SIMBAD\n",
    "\n",
    "For the reddened star:"
   ]
  },
  {
   "cell_type": "code",
   "execution_count": null,
   "id": "8c9133cf",
   "metadata": {},
   "outputs": [],
   "source": [
    "Simbad.add_votable_fields('flux(B)','flux(V)')\n",
    "table_sk_69_206 = Simbad.query_object('Sk -69 206')\n",
    "table_sk_69_206"
   ]
  },
  {
   "cell_type": "markdown",
   "id": "d2f66e1c",
   "metadata": {},
   "source": [
    "For the unreddened star:"
   ]
  },
  {
   "cell_type": "code",
   "execution_count": null,
   "id": "15af504e",
   "metadata": {},
   "outputs": [],
   "source": [
    "table_sk_67_5 = Simbad.query_object('Sk -67 5')\n",
    "table_sk_67_5"
   ]
  },
  {
   "cell_type": "markdown",
   "id": "b1831de8",
   "metadata": {},
   "source": [
    "Now, calculate the $E(B-V)$ value: "
   ]
  },
  {
   "cell_type": "code",
   "execution_count": null,
   "id": "c61732db",
   "metadata": {},
   "outputs": [],
   "source": [
    "V_69_206 = float(table_sk_69_206['FLUX_V'])\n",
    "B_69_206 = float(table_sk_69_206['FLUX_B'])\n",
    "\n",
    "V_67_5 = float(table_sk_67_5['FLUX_V'])\n",
    "B_67_5 = float(table_sk_67_5['FLUX_B'])\n",
    "\n",
    "E_B_V = (B_69_206-V_69_206)-(B_67_5-V_67_5)\n",
    "\n",
    "print(\"The value of E(B-V) is equal to\",E_B_V)"
   ]
  },
  {
   "cell_type": "markdown",
   "id": "4bb1706f",
   "metadata": {},
   "source": [
    "### 4. Create the scattered extinction curve"
   ]
  },
  {
   "cell_type": "code",
   "execution_count": null,
   "id": "36223f9b",
   "metadata": {},
   "outputs": [],
   "source": [
    "plt.figure()\n",
    "plt.plot(wavinv_sk_69_206_sw,np.abs((np.log(flux_sk_69_206_sw/flux_sk_67_5_sw)-np.log(V_69_206/V_67_5))/E_B_V),'o',markersize=2)\n",
    "plt.plot(wavinv_sk_69_206_lw,np.abs((np.log(flux_sk_69_206_lw/flux_sk_67_5_lw)-np.log(V_69_206/V_67_5))/E_B_V),'o',markersize=2)\n",
    "plt.xlim([3,8])\n",
    "plt.ylim([5,13])\n",
    "plt.xlabel(r'$1/\\lambda$ $[\\mu m^{-1}]$')\n",
    "plt.ylabel(r'$E(\\lambda-V)/E(B-V)$')\n",
    "plt.title('Sk -69 206')\n",
    "plt.show()"
   ]
  },
  {
   "cell_type": "markdown",
   "id": "dbd4a877",
   "metadata": {},
   "source": [
    "### 5. Parametrize the curve\n",
    "\n",
    "First, obtain the parameters for the curve fitting. Since the target star belongs to the LMC and not the SMC, the bump at 2175 Å bar is present (as you should be able to appreciate in your extinction curve from part 4 of this exercise). Modify the function for the parametrization accordingly to now include $x_o$ and $\\gamma$. \n",
    "\n",
    "_**Tip**: You can use the values we had for these parameters are initial conditions in the parametrization._"
   ]
  },
  {
   "cell_type": "code",
   "execution_count": null,
   "id": "1a0e7d73",
   "metadata": {},
   "outputs": [],
   "source": [
    "wvinv = np.concatenate((wavinv_sk_69_206_lw,wavinv_sk_69_206_sw))\n",
    "k_lam_V = np.concatenate((np.abs((np.log(flux_sk_69_206_lw/flux_sk_67_5_lw)-np.log(V_69_206/V_67_5))/E_B_V),np.abs((np.log(flux_sk_69_206_sw/flux_sk_67_5_sw)-np.log(V_69_206/V_67_5))/E_B_V)))\n",
    "\n",
    "prob = np.where(np.isnan(k_lam_V))[0]\n",
    "\n",
    "wvinv[prob] = 0\n",
    "k_lam_V[prob] = 0\n",
    "\n",
    "ic = np.array([1.0,1.0,1.0,1.0,4.6,1.0])\n",
    "\n",
    "parameters, covariance = curve_fit(FMpar, wvinv, k_lam_V, p0 = ic)\n",
    "\n",
    "print('Parameters obtained for fit: \\n')\n",
    "print('C1: ',parameters[0])\n",
    "print('C2: ',parameters[1])\n",
    "print('C3: ',parameters[2])\n",
    "print('C4: ',parameters[3])\n",
    "print('xo: ',parameters[4])\n",
    "print('gamma: ',parameters[5])"
   ]
  },
  {
   "cell_type": "markdown",
   "id": "e2ebbe83",
   "metadata": {},
   "source": [
    "Once you have that, include the fit in the extinction curve you obtained:"
   ]
  },
  {
   "cell_type": "code",
   "execution_count": null,
   "id": "6eb7fd63",
   "metadata": {},
   "outputs": [],
   "source": [
    "n = 1000\n",
    "x_wavinv = np.linspace(3,8,n)\n",
    "\n",
    "F = 0.5392*(x_wavinv-5.9)**2+0.05644*(x_wavinv-5.9)**3\n",
    "D = x_wavinv**2/((x_wavinv**2-parameters[4]**2)**2+x_wavinv**2*parameters[5]**2)\n",
    "k = parameters[0] + parameters[1]*x_wavinv + parameters[2]*D + parameters[3]*F\n",
    "\n",
    "plt.figure()\n",
    "plt.plot(wavinv_sk_69_206_sw,np.abs((np.log(flux_sk_69_206_sw/flux_sk_67_5_sw)-np.log(V_69_206/V_67_5))/E_B_V),'o',markersize=2)\n",
    "plt.plot(wavinv_sk_69_206_lw,np.abs((np.log(flux_sk_69_206_lw/flux_sk_67_5_lw)-np.log(V_69_206/V_67_5))/E_B_V),'o',markersize=2)\n",
    "plt.plot(x_wavinv,k,'k',linewidth=2)\n",
    "plt.xlim([3,8])\n",
    "plt.ylim([5,13])\n",
    "plt.xlabel(r'$1/\\lambda$ $[\\mu m^{-1}]$')\n",
    "plt.ylabel(r'$E(\\lambda-V)/E(B-V)$')\n",
    "plt.title('Sk -69 206')\n",
    "plt.show()"
   ]
  },
  {
   "cell_type": "markdown",
   "id": "83334498",
   "metadata": {},
   "source": [
    "Can you see the difference in the trend followed by the extinction curve between this case (LMC) and the one before (SMC)? More information about the different trends can be found in <a href=\"https://arxiv.org/pdf/astro-ph/0305257.pdf\">Gordon et al. 2003</a>."
   ]
  },
  {
   "cell_type": "markdown",
   "id": "5dc0114c",
   "metadata": {},
   "source": [
    "## Additional Resources\n",
    "\n",
    "For more information about the MAST archive and details about mission data: \n",
    "\n",
    "* <a href=\"https://mast.stsci.edu/api/v0/index.html\">MAST API</a> <br>\n",
    "* <a href=\"https://archive.stsci.edu/iue/\">International Ultraviolet Explorer Page (MAST)</a> <br>\n",
    "* <a href=\"https://archive.stsci.edu/iue/mdr_help.html\">IUE Data Retrieval Help Page</a> \n",
    "\n",
    "For more information about extinction curves and their parametrization:\n",
    "\n",
    "\n",
    "* <a href=\"https://ui.adsabs.harvard.edu/abs/2003ApJ...594..279G/abstract\">A quantitative comparison of SMC, LMC and Milky Way UV to NIR extinction curves</a> <br>\n",
    "* <a href=\"https://adsabs.harvard.edu/pdf/1990ApJS...72..163F\">An analysis of the shapes of the ultraviolet extinction curves. III. An atlas of ultraviolet extinction curves</a> "
   ]
  },
  {
   "cell_type": "markdown",
   "id": "7d71ae3d",
   "metadata": {},
   "source": [
    "## About this Notebook\n",
    "\n",
    "**Author**: Clara Puerto Sánchez <br>\n",
    "**Keyword(s)**: Tutorial, UV, reddening, extinction-curve <br>\n",
    "**Last Updated**: Sep 2022 <br>\n",
    "**Next review**: Apr 2023\n",
    "\n",
    "For support, please contact the Archive HelpDesk at archive@stsci.edu.\n",
    "***\n",
    "[Top of Page](#top)\n",
    "<img style=\"float: right;\" src=\"https://raw.githubusercontent.com/spacetelescope/notebooks/master/assets/stsci_pri_combo_mark_horizonal_white_bkgd.png\" alt=\"Space Telescope Logo\" width=\"200px\"/>"
   ]
  }
 ],
 "metadata": {
  "kernelspec": {
   "display_name": "Python 3 (ipykernel)",
   "language": "python",
   "name": "python3"
  },
  "language_info": {
   "codemirror_mode": {
    "name": "ipython",
    "version": 3
   },
   "file_extension": ".py",
   "mimetype": "text/x-python",
   "name": "python",
   "nbconvert_exporter": "python",
   "pygments_lexer": "ipython3",
   "version": "3.8.13"
  }
 },
 "nbformat": 4,
 "nbformat_minor": 5
}