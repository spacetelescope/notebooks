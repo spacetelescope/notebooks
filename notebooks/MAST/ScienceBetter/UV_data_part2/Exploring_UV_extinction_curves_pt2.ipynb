{
 "cells": [
  {
   "cell_type": "markdown",
   "id": "1695effd",
   "metadata": {
    "tags": []
   },
   "source": [
    "<a id=\"top\"></a>\n",
    "# Exploring UV extinction curves – Part 2\n",
    "***\n",
    "\n",
    "This is the continuation of _Exploring UV extinction curves – Part 1_ tutorial which explores how to access the International Ultraviolet Explorer (IUE) through the MAST database, download specific data and process it. In this tutorial, all those steps will not be explained again. "
   ]
  },
  {
   "cell_type": "markdown",
   "id": "853b19c6",
   "metadata": {},
   "source": [
    "## Learning goals\n",
    "\n",
    "By the end of this tutorial, you will be able to:\n",
    "\n",
    "- Understand what a UV extinction curve is and how it is used to study dust properties\n",
    "- Create your own UV extinction curve and plot it\n",
    "- Parametrize a curve based on your UV extinction curve\n",
    "- Implement Python functions\n",
    "- Discover the difference in the trend for curves corresponding to the Small and Large Magellanic Clouds (LMC and SMC)"
   ]
  },
  {
   "cell_type": "markdown",
   "id": "4e079fea",
   "metadata": {},
   "source": [
    "## Introduction\n",
    "\n",
    "**Extinction curve background**: An extinction curve represents the wavelength dependence of dust extinction. It compares the inherent Spectral Energy Distribution (SED) (~dust-free) of a star to the observed SED affected by dust extinction. Normally these curves are created by plotting $k(\\lambda-V)$ versus $1/\\lambda$, with $\\lambda$ being the wavelength.\n",
    "\n",
    "Extinction is relevant in many different scenarios. Dust can be found very near the observed object – such as stars having disks or proto-stellar clouds surrounding it – or can be far away from it but still affect the observation performed – for example dust in a galaxy that happens to be between the observer and the star.\n",
    "\n",
    "**International Ultraviolet Explorer (IUE)**: The IUE performed spectrophotometry in the wavelength range going from 1150 Å to 3200 Å. More than 100,000 spectra collected by the IUE between 1978 and 1996 can be accessed via the [MAST portal](https://archive.stsci.edu/iue/).\n",
    "\n",
    "**Magellanic Clouds**: irregular dwarf galaxies that orbit the Milky Way galaxy and are located in the southern celestial hemisphere. Two distinct groups can be differentiated: the Large Magellanic Cloud (LMC) and the Small Magellanic Cloud (SMC).\n",
    "\n",
    "**Defining some terms**:\n",
    "\n",
    "- **Color index**: difference between magnitude of a star in 2 different passbands, typically B and V. Symbol: $(B-V)$. \n",
    "- **Extinction**: absoption and scattering of light by dust and gas between an object and the observer. It is a measure of the interstellar reddening quantified by the difference between the magnitude of the band when observed through dust versus a dust-free environment. Symbol: $A(\\lambda)$.  \n",
    "\n",
    "- **Spectral type**: stellar classification from hotter (O stars) to cooler (M stars). Temperature defines a star's \"color\" and surface brightness.\n",
    "\n",
    "\n",
    "**Useful equations**\n",
    "- $k(\\lambda-V) = \\frac{m(\\lambda-V)-m(\\lambda-V)_o}{(B-V)-(B-V)_o} = \\frac{A(\\lambda)-A(V)}{A(B)-A(V)}$\n",
    "\n",
    "_**Note**: the $x_o$ terms refer to the star that is nearly unaffected by dust, i.e. $(B-V)$ corresponds to the observed color index and $(B-V)_o$ to the observed color index if there was no extinction due to dust. The stars should have the same spectral type in order to perform this comparison._\n",
    "\n",
    "- The [Fitzpatrick and Massa (1990) parametrization](https://ui.adsabs.harvard.edu/abs/1990ApJS...72..163F/abstract): this will be the parametrization that will be followed in this tutorial for extinction curves. This parametrization is a combination of three elements; a linear \"background term\"; a Lorentsian-like \"Drude\" profile for the 2175 Å bump, $D(x; \\gamma, x_o)$; finally, a far-UV curvature term, $F(x)$. The $x$ in the equation corresponds to $x = \\lambda^{-1}$. \n",
    "\n",
    "$$\\begin{equation}\n",
    " k(x-V) = c_1 + c_2x + c_3D(x; \\gamma, x_o)+c_4F(x)\n",
    "\\end{equation}$$\n",
    "\n",
    "$$\\begin{equation}\n",
    " D(x; \\gamma, x_o) = \\frac{x^2}{(x^2-x_o^2)^2+x^2\\gamma^2}\n",
    "\\end{equation}$$\n",
    "\n",
    "$$\\begin{equation}\n",
    " F(x) = \\begin{cases}\n",
    "    0.5392(x-5.9)^2+0.05644(x-5.9)^3, & \\text{for $x \\geq 5.9 \\mu m^{-1}$}.\\\\\n",
    "    0, & \\text{otherwise}.\n",
    "  \\end{cases}\n",
    "\\end{equation}$$\n",
    "\n",
    "This tutorial is divided in two parts. In Part 1, you will learn how to navigate the IUE database through the MAST portal, download and save to your local computer the fluxes and their corresponding wavelengths of different stars, one reddened and one unreddened one. In Part 2, we will use these stars spectra to construct and plot UV extinction curves.  \n",
    "    \n",
    "## Table of Contents \n",
    "* [Imports](#Imports)\n",
    "* [Data loading](#Data-loading)\n",
    "* [Data plotting](#Data-plotting)\n",
    "* [Extinction curve construction](#Extinction-curve-construction)\n",
    "* [Curve parametrization](#Curve-parametrization)\n",
    "* [Exercises](#Exercises)\n",
    "* [Additional Resources](#Additional-Resources)"
   ]
  },
  {
   "cell_type": "markdown",
   "id": "35911b5e",
   "metadata": {},
   "source": [
    "## Imports\n",
    "\n",
    "The first step will be to import the libraries we will be using throughout this tutorial: \n",
    "\n",
    "- `matplotlib.pyplot` for plotting data\n",
    "- `numpy` for array manipulations\n",
    "- `Simbad` from _astroquery.simbad_ to query the SIMBAD astronomical database.\n",
    "- `curve_fit` from scipy.optimize for data-fitting"
   ]
  },
  {
   "cell_type": "code",
   "execution_count": null,
   "id": "f11bcd45",
   "metadata": {},
   "outputs": [],
   "source": [
    "import matplotlib.pyplot as plt\n",
    "import numpy as np\n",
    "from astroquery.simbad import Simbad\n",
    "from scipy.optimize import curve_fit"
   ]
  },
  {
   "cell_type": "markdown",
   "id": "6bd48627",
   "metadata": {},
   "source": [
    "_**Warning**: If you have not installed the astroquery package in your computer, you may need to. Information about astroquery can be found <a href=\"https://astroquery.readthedocs.io/en/latest/\">here</a>._"
   ]
  },
  {
   "cell_type": "markdown",
   "id": "7b3c1547",
   "metadata": {},
   "source": [
    "## Data loading\n",
    "\n",
    "In order to follow the steps presented here, you should have completed _Exploring UV extinction curves – Part 1_ since we will use .txt files that were created in that tutorial. As a reminder, the final goal of this tutorial is to recreate one of the extinction curves that is presented in [Gordon et al. (2003)](https://ui.adsabs.harvard.edu/abs/2003ApJ...594..279G/abstract), especifically the one corresponding to AzV 214. \n",
    "\n",
    "To create an extinction curve, we need a reddened and an unreddened star. Let's load the data for the corresponding stars' fluxes and corresponding wavelengths.\n",
    "\n",
    "_**Note**: to load the .txt files they should be stored in the same directory as this notebook, if you have saved the files somewhere else copy them now into the current directory in which you are working now._"
   ]
  },
  {
   "cell_type": "code",
   "execution_count": null,
   "id": "11b0b474",
   "metadata": {},
   "outputs": [],
   "source": [
    "wav_av214_sw,flux_av214_sw,wav_av380_sw,flux_av380_sw = np.loadtxt('sw_av214_av380.txt')\n",
    "wav_av214_lw,flux_av214_lw,wav_av380_lw,flux_av380_lw = np.loadtxt('lw_av214_av380.txt')"
   ]
  },
  {
   "cell_type": "markdown",
   "id": "557a028f",
   "metadata": {},
   "source": [
    "## Data plotting\n",
    "\n",
    "Let's now plot the logarithm of their flux versus the inverse of the wavelength, as it is normally done in this type of studies."
   ]
  },
  {
   "cell_type": "code",
   "execution_count": null,
   "id": "aa4c0a96",
   "metadata": {},
   "outputs": [],
   "source": [
    "wavinv_av214_sw = 1/(wav_av214_sw*1e-4) # mu-m ^-1\n",
    "wavinv_av214_lw = 1/(wav_av214_lw*1e-4) # mu-m ^-1\n",
    "wavinv_av380_sw = 1/(wav_av380_sw*1e-4) # mu-m ^-1\n",
    "wavinv_av380_lw = 1/(wav_av380_lw*1e-4) # mu-m ^-1\n",
    "\n",
    "fig = plt.figure()\n",
    "ax = plt.subplot(111)\n",
    "\n",
    "plt.plot(wavinv_av214_sw,np.log10(flux_av214_sw),'r',label='swp22372')\n",
    "plt.plot(wavinv_av214_lw,np.log10(flux_av214_lw),'r:',label='lwr17263')\n",
    "plt.text(4, -12.8,'AzV 380', fontsize = 11)\n",
    "plt.plot(wavinv_av380_sw,np.log10(flux_av380_sw),'b',label='swp10319')\n",
    "plt.plot(wavinv_av380_lw,np.log10(flux_av380_lw),'b:',label='lwr17265')\n",
    "plt.text(5.7, -13.4, 'AzV 214', fontsize = 11)\n",
    "\n",
    "ax.set_xlabel('1/$\\lambda$ ($\\mu m^{-1}$)')\n",
    "ax.set_ylabel(r'log(Flux (ergs $cm^{-2}$ $s^{-1}$ $\\AA^{-1}$))')\n",
    "ax.set_xlim([3, 8])\n",
    "ax.set_ylim([-14, -12.5])\n",
    "\n",
    "plt.legend(loc='best',frameon=False)\n",
    "\n",
    "plt.show()"
   ]
  },
  {
   "cell_type": "markdown",
   "id": "343649c4",
   "metadata": {},
   "source": [
    "Here we can clearly see the difference between the two stars, even though they have the same spectral type and luminosity class their spectra differs due to dust, and the reddening becomes more pronounced at higher values of $1/\\lambda$ (shorter wavelengths). This was expected since shorter wavelengths (blue) tend to be more havily reddened than longer ones (red)."
   ]
  },
  {
   "cell_type": "markdown",
   "id": "b6710538",
   "metadata": {},
   "source": [
    "## Extinction curve construction\n",
    "\n",
    "Let's now use <a href=\"http://simbad.cds.unistra.fr/simbad/\">SIMBAD</a> database to look for the fluxes in the B and V bands for both stars. We can do a simple query using the identifier of both stars. The magnitudes can be found under the 8th subgroup presented below the name of the stars, called 'Fluxes', since SIMBAD can provide you with either the flux or the magnitude of the star in those bands.\n",
    "\n",
    "From these values we can directly calculate the value of $E(B-V) = (B-V)-(B-V)_o$. In order to do this using Python we can do the following, first add the fields for the query that we want, namely _flux(B)_ and _flux(V)_, and then look for the specific target we are interested in:"
   ]
  },
  {
   "cell_type": "code",
   "execution_count": null,
   "id": "be0bfffb",
   "metadata": {},
   "outputs": [],
   "source": [
    "Simbad.add_votable_fields('flux(B)','flux(V)')\n",
    "table_av214 = Simbad.query_object('AzV 214')\n",
    "table_av214"
   ]
  },
  {
   "cell_type": "code",
   "execution_count": null,
   "id": "13407129",
   "metadata": {},
   "outputs": [],
   "source": [
    "table_av380 = Simbad.query_object('AzV 380')\n",
    "table_av380"
   ]
  },
  {
   "cell_type": "code",
   "execution_count": null,
   "id": "afa0dcfb",
   "metadata": {},
   "outputs": [],
   "source": [
    "V_214 = float(table_av214['FLUX_V'])\n",
    "B_214 = float(table_av214['FLUX_B'])\n",
    "\n",
    "V_380 = float(table_av380['FLUX_V'])\n",
    "B_380 = float(table_av380['FLUX_B'])\n",
    "\n",
    "E_B_V = (B_214-V_214)-(B_380-V_380)\n",
    "\n",
    "print(\"The value of E(B-V) is equal to\",E_B_V)"
   ]
  },
  {
   "cell_type": "markdown",
   "id": "d92fac52",
   "metadata": {},
   "source": [
    "So finally, let's plot the extinction curve!"
   ]
  },
  {
   "cell_type": "code",
   "execution_count": null,
   "id": "cc92e405",
   "metadata": {},
   "outputs": [],
   "source": [
    "plt.figure()\n",
    "plt.plot(wavinv_av214_sw,np.abs((np.log(flux_av214_sw/flux_av380_sw)-np.log(V_214/V_380))/E_B_V),'o',markersize=2)\n",
    "plt.plot(wavinv_av214_lw,np.abs((np.log(flux_av214_lw/flux_av380_lw)-np.log(V_214/V_380))/E_B_V),'o',markersize=2)\n",
    "plt.xlim([3,8])\n",
    "plt.ylim([0,12])\n",
    "plt.xlabel(r'$1/\\lambda$ $[\\mu m^{-1}]$')\n",
    "plt.ylabel(r'$E(\\lambda-V)/E(B-V)$')\n",
    "plt.title('AzV 214')\n",
    "plt.show()"
   ]
  },
  {
   "cell_type": "markdown",
   "id": "db4c99e7",
   "metadata": {},
   "source": [
    "This is the typical shape encountered for extinction curves corresponding to the Small Magellanic Cloud (SMC), as can be seen in [Gordon et al. (2003)](https://ui.adsabs.harvard.edu/abs/2003ApJ...594..279G/abstract).\n",
    "\n",
    "## Curve parametrization\n",
    "\n",
    "Now that we have the curve, we can parametrize it! First let's combine the arrays we have into one unique 1D vector:"
   ]
  },
  {
   "cell_type": "code",
   "execution_count": null,
   "id": "c5a390a1",
   "metadata": {},
   "outputs": [],
   "source": [
    "wvinv = np.concatenate((wavinv_av214_lw,wavinv_av214_sw))\n",
    "k_lam_V = np.concatenate((np.abs((np.log(flux_av214_lw/flux_av380_lw)-np.log(V_214/V_380))/E_B_V),np.abs((np.log(flux_av214_sw/flux_av380_sw)-np.log(V_214/V_380))/E_B_V)))"
   ]
  },
  {
   "cell_type": "markdown",
   "id": "832aa056",
   "metadata": {},
   "source": [
    "Let's create the x-vector that we will use for the data-fitting, _$x = 1/\\lambda$_, using `np.linspace`:"
   ]
  },
  {
   "cell_type": "code",
   "execution_count": null,
   "id": "40321651",
   "metadata": {},
   "outputs": [],
   "source": [
    "n = 1000\n",
    "x_wavinv = np.linspace(0,9,n)"
   ]
  },
  {
   "cell_type": "markdown",
   "id": "956988de",
   "metadata": {},
   "source": [
    "Now, let's parametrize the curve according to the FM parametrization as presented in\n",
    "<a href=\"https://ui.adsabs.harvard.edu/abs/1990ApJS...72..163F/abstract\">Fitzpatrick and Massa 1990</a>. Fist, let's create the function with the suggested structure of the article. Since AzV 214 belong to the SMC bar, and the extinction curves of said stars seem to lack the 2175 Å bump, [Gordon et al. (2003)](https://ui.adsabs.harvard.edu/abs/2003ApJ...594..279G/abstract) fixes the values of $x_o = 4.6$ and $\\gamma = 1.0$ due to the weak to nonexistent bump."
   ]
  },
  {
   "cell_type": "code",
   "execution_count": null,
   "id": "99eb25d7",
   "metadata": {},
   "outputs": [],
   "source": [
    "xo = 4.6\n",
    "gamma = 1.0"
   ]
  },
  {
   "cell_type": "markdown",
   "id": "8da02424",
   "metadata": {},
   "source": [
    "A function in Python is defined starting with the word def, then the name of your function, inside the parenthesis the inputs are defined, and the output of said function is whatever follows the word _return_. More information on Python functions can be found <a href=\"https://www.datacamp.com/tutorial/functions-python-tutorial\">here</a>."
   ]
  },
  {
   "cell_type": "code",
   "execution_count": null,
   "id": "bf73e8a3",
   "metadata": {},
   "outputs": [],
   "source": [
    "def FMpar(x, C1, C2, C3, C4):\n",
    "    \n",
    "    \"\"\"\n",
    "    Parametrization of UV extinction curve according to Fitzpatrick and Massa 1990\n",
    "    \n",
    "    Inputs:\n",
    "    :param x: input inverse-wavelength arrays (x = 1/wavelength)\n",
    "    :type x: float array\n",
    "    :param C1, C2, C3, C4: input parameters to be fitted\n",
    "    :type C1, C2, C3, C4: float\n",
    "    \n",
    "    Outputs: \n",
    "    :return: k, extinction curve evaluated for the different x's\n",
    "    :rtype: float array\n",
    "    \"\"\"\n",
    "    \n",
    "    xo = 4.6\n",
    "    gamma = 1.0\n",
    "\n",
    "    F = np.zeros(len(x))\n",
    "    for i in range(len(x)):\n",
    "        if x[i] >= 5.9:\n",
    "            F = 0.5392*(x-5.9)**2+0.05644*(x-5.9)**3\n",
    "        \n",
    "    D = x**2/((x**2-xo**2)**2+x**2*gamma**2)\n",
    "    \n",
    "    k = C1 + C2*x + C3*D + C4*F\n",
    "    \n",
    "    return k"
   ]
  },
  {
   "cell_type": "markdown",
   "id": "43596d87",
   "metadata": {},
   "source": [
    "Let's now to the curve fitting for the missing parameters:"
   ]
  },
  {
   "cell_type": "code",
   "execution_count": null,
   "id": "c19d42cc",
   "metadata": {},
   "outputs": [],
   "source": [
    "ic = np.array([-4.5,2.3,-0.1,-0.5])\n",
    "\n",
    "parameters, covariance = curve_fit(FMpar, wvinv[100:-100], k_lam_V[100:-100],p0=ic)\n",
    "\n",
    "print('Parameters obtained for fit: \\n')\n",
    "print('C1: ',parameters[0])\n",
    "print('C2: ',parameters[1])\n",
    "print('C3: ',parameters[2])\n",
    "print('C4: ',parameters[3])\n",
    "print('xo: ',xo)\n",
    "print('gamma: ',gamma)"
   ]
  },
  {
   "cell_type": "markdown",
   "id": "62d173a2",
   "metadata": {},
   "source": [
    "If we compare the values obtained with the theoretical ones obtained in [Gordon et al. (2003)](https://ui.adsabs.harvard.edu/abs/2003ApJ...594..279G/abstract) there are some differents between them. However, if you look at the actual extinction curve they obtained for AzV 214 you can appreciate that the data they used has less dispersion that the one we are using for our fit, so the differences probably are due to this phenomena. Nevertheless, this parametrization serves a good first approach to studying the extinction curve of AzV 214, so let's see how the final graph looks like:"
   ]
  },
  {
   "cell_type": "code",
   "execution_count": null,
   "id": "23e99a02",
   "metadata": {},
   "outputs": [],
   "source": [
    "F = 0.5392*(x_wavinv-5.9)**2+0.05644*(x_wavinv-5.9)**3\n",
    "D = x_wavinv**2/((x_wavinv**2-xo**2)**2+x_wavinv**2*gamma**2)\n",
    "k = parameters[0] + parameters[1]*x_wavinv + parameters[2]*D + parameters[3]*F\n",
    "\n",
    "plt.figure()\n",
    "plt.plot(wavinv_av214_sw,np.abs((np.log(flux_av214_sw/flux_av380_sw)-np.log(V_214/V_380))/E_B_V),'o',markersize=2)\n",
    "plt.plot(wavinv_av214_lw,np.abs((np.log(flux_av214_lw/flux_av380_lw)-np.log(V_214/V_380))/E_B_V),'o',markersize=2)\n",
    "plt.plot(x_wavinv,k,'k',linewidth=2)\n",
    "plt.xlim([3,8])\n",
    "plt.ylim([0,12])\n",
    "plt.xlabel(r'$1/\\lambda$ $[\\mu m^{-1}]$')\n",
    "plt.ylabel(r'$E(\\lambda-V)/E(B-V)$')\n",
    "plt.title('AzV 214')\n",
    "plt.show()"
   ]
  },
  {
   "cell_type": "markdown",
   "id": "2e055ba4",
   "metadata": {},
   "source": [
    "_**Note**: the bump that can be appreciated at low values for the x-axis ($1/\\lambda \\sim 4.5$) is due to the scattering of the points, not to the real trend of the curve, which additionally affects the parametrization values obtained._\n",
    "\n",
    "## Exercises\n",
    "\n",
    "Now you can try to do it yourself! Try to obtain the extinction curve of a Large Magellanic Cloud (LMC) following the steps presented for the SMC one and look for the differences in the trend between the two.\n",
    "\n",
    "### 1. Load the data\n",
    "\n",
    "The targets for this exercise will be:\n",
    "\n",
    "- Sk -69 206 (reddened star)\n",
    "- Sk -67 5 (unreddened star) \n",
    "\n",
    "And the data neccessary to do this exercise can be found in _sw_sk69206_sk675.txt_ (short wavelength) and _lw_sk69206_sk675.txt_ (long wavelength).\n",
    "\n",
    "_**Note:** these arrays come from Part 1 of this tutorial, if you have not completed this part yet, please do so before attempting this part._"
   ]
  },
  {
   "cell_type": "code",
   "execution_count": null,
   "id": "6afdab46",
   "metadata": {},
   "outputs": [],
   "source": [
    "# You can copy, paste and modify the code corresponding to this part that we used for the SMC cloud here\n",
    "# You can also use any function that was defined before\n"
   ]
  },
  {
   "cell_type": "markdown",
   "id": "b2df27e8",
   "metadata": {},
   "source": [
    "### 2. Plot the spectra of both stars\n",
    "\n",
    "Remember that normally in these studies you plot the logarithm of the fluxes versus the inverse of the wavelengths."
   ]
  },
  {
   "cell_type": "code",
   "execution_count": null,
   "id": "d4b798a8",
   "metadata": {},
   "outputs": [],
   "source": [
    "# You can copy, paste and modify the code corresponding to this part that we used for the SMC cloud here\n",
    "# You can also use any function that was defined before\n"
   ]
  },
  {
   "cell_type": "markdown",
   "id": "5b70d7a2",
   "metadata": {},
   "source": [
    "### 3. Find the values for the B and V bands in SIMBAD\n",
    "\n",
    "For the reddened star:"
   ]
  },
  {
   "cell_type": "code",
   "execution_count": null,
   "id": "744bdf09",
   "metadata": {},
   "outputs": [],
   "source": [
    "# You can copy, paste and modify the code corresponding to this part that we used for the SMC cloud here\n",
    "# You can also use any function that was defined before\n"
   ]
  },
  {
   "cell_type": "markdown",
   "id": "4d9fdf34",
   "metadata": {},
   "source": [
    "For the unreddened star:"
   ]
  },
  {
   "cell_type": "code",
   "execution_count": null,
   "id": "6a7ad6ea",
   "metadata": {},
   "outputs": [],
   "source": [
    "# You can copy, paste and modify the code corresponding to this part that we used for the SMC cloud here\n",
    "# You can also use any function that was defined before\n"
   ]
  },
  {
   "cell_type": "markdown",
   "id": "65433f07",
   "metadata": {},
   "source": [
    "Now, calculate the $E(B-V)$ value: "
   ]
  },
  {
   "cell_type": "code",
   "execution_count": null,
   "id": "9ee1605b",
   "metadata": {},
   "outputs": [],
   "source": [
    "# You can copy, paste and modify the code corresponding to this part that we used for the SMC cloud here\n",
    "# You can also use any function that was defined before\n"
   ]
  },
  {
   "cell_type": "markdown",
   "id": "d5ebc5fe",
   "metadata": {},
   "source": [
    "### 4. Create the scattered extinction curve"
   ]
  },
  {
   "cell_type": "code",
   "execution_count": null,
   "id": "8c3aebfa",
   "metadata": {},
   "outputs": [],
   "source": [
    "# You can copy, paste and modify the code corresponding to this part that we used for the SMC cloud here\n",
    "# You can also use any function that was defined before\n"
   ]
  },
  {
   "cell_type": "markdown",
   "id": "8ac91774",
   "metadata": {},
   "source": [
    "### 5. Parametrize the curve\n",
    "\n",
    "First, obtain the parameters for the curve fitting. Since the target star belongs to the LMC and not the SMC, the bump at 2175 Å bar is present (as you should be able to appreciate in your extinction curve from part 4 of this exercise). Modify the function for the parametrization accordingly to now include $x_o$ and $\\gamma$. \n",
    "\n",
    "_**Tip**: You can use the values we had for these parameters are initial conditions in the parametrization._"
   ]
  },
  {
   "cell_type": "code",
   "execution_count": null,
   "id": "17982d05",
   "metadata": {},
   "outputs": [],
   "source": [
    "# You can copy, paste and modify the code corresponding to this part that we used for the SMC cloud here\n",
    "# You can also use any function that was defined before\n"
   ]
  },
  {
   "cell_type": "markdown",
   "id": "6850ef39",
   "metadata": {},
   "source": [
    "Once you have that, include the fit in the extinction curve you obtained:"
   ]
  },
  {
   "cell_type": "code",
   "execution_count": null,
   "id": "214952c9",
   "metadata": {},
   "outputs": [],
   "source": [
    "# You can copy, paste and modify the code corresponding to this part that we used for the SMC cloud here\n",
    "# You can also use any function that was defined before\n"
   ]
  },
  {
   "cell_type": "markdown",
   "id": "f92610be",
   "metadata": {},
   "source": [
    "Can you see the difference in the trend followed by the extinction curve between this case (LMC) and the one before (SMC)? More information about the different trends can be found in <a href=\"https://arxiv.org/pdf/astro-ph/0305257.pdf\">Gordon et al. 2003</a>."
   ]
  },
  {
   "cell_type": "markdown",
   "id": "8530799b",
   "metadata": {},
   "source": [
    "## Additional Resources\n",
    "\n",
    "For more information about the MAST archive and details about mission data: \n",
    "\n",
    "* <a href=\"https://mast.stsci.edu/api/v0/index.html\">MAST API</a> <br>\n",
    "* <a href=\"https://archive.stsci.edu/iue/\">International Ultraviolet Explorer Page (MAST)</a> <br>\n",
    "* <a href=\"https://archive.stsci.edu/iue/mdr_help.html\">IUE Data Retrieval Help Page</a> \n",
    "\n",
    "For more information about extinction curves and their parametrization:\n",
    "\n",
    "\n",
    "* <a href=\"https://ui.adsabs.harvard.edu/abs/2003ApJ...594..279G/abstract\">A quantitative comparison of SMC, LMC and Milky Way UV to NIR extinction curves</a> <br>\n",
    "* <a href=\"https://adsabs.harvard.edu/pdf/1990ApJS...72..163F\">An analysis of the shapes of the ultraviolet extinction curves. III. An atlas of ultraviolet extinction curves</a> "
   ]
  },
  {
   "cell_type": "markdown",
   "id": "1bf4234b",
   "metadata": {},
   "source": [
    "## About this Notebook\n",
    "\n",
    "**Author**: Clara Puerto Sánchez <br>\n",
    "**Keyword(s)**: Tutorial, UV, reddening, extinction-curve <br>\n",
    "**Last Updated**: Sep 2022 <br>\n",
    "**Next review**: Apr 2023\n",
    "\n",
    "For support, please contact the Archive HelpDesk at archive@stsci.edu.\n",
    "***\n",
    "[Top of Page](#top)\n",
    "<img style=\"float: right;\" src=\"https://raw.githubusercontent.com/spacetelescope/notebooks/master/assets/stsci_pri_combo_mark_horizonal_white_bkgd.png\" alt=\"Space Telescope Logo\" width=\"200px\"/>"
   ]
  }
 ],
 "metadata": {
  "kernelspec": {
   "display_name": "Python 3 (ipykernel)",
   "language": "python",
   "name": "python3"
  },
  "language_info": {
   "codemirror_mode": {
    "name": "ipython",
    "version": 3
   },
   "file_extension": ".py",
   "mimetype": "text/x-python",
   "name": "python",
   "nbconvert_exporter": "python",
   "pygments_lexer": "ipython3",
   "version": "3.8.13"
  }
 },
 "nbformat": 4,
 "nbformat_minor": 5
}