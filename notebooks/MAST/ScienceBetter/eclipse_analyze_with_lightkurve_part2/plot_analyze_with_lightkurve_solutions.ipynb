{
 "cells": [
  {
   "cell_type": "markdown",
   "metadata": {
    "slideshow": {
     "slide_type": "slide"
    }
   },
   "source": [
    "# Plotting and Analyzing Light Curves of Eclipsing Binary Stars with `lightkurve`: Solutions"
   ]
  },
  {
   "cell_type": "markdown",
   "metadata": {
    "slideshow": {
     "slide_type": "skip"
    }
   },
   "source": [
    "***"
   ]
  },
  {
   "cell_type": "code",
   "execution_count": null,
   "metadata": {
    "slideshow": {
     "slide_type": "fragment"
    }
   },
   "outputs": [],
   "source": [
    "%matplotlib inline\n",
    "import numpy as np\n",
    "from astropy.io import fits\n",
    "from astropy.table import Table\n",
    "from astropy.coordinates import SkyCoord\n",
    "from astropy import units as u\n",
    "import matplotlib.pyplot as plt\n",
    "from astroquery.mast import Observations\n",
    "import lightkurve as lk"
   ]
  },
  {
   "cell_type": "markdown",
   "metadata": {},
   "source": [
    "***"
   ]
  },
  {
   "cell_type": "markdown",
   "metadata": {},
   "source": [
    "### Exercise 1\n",
    "\n",
    "Use the documentation linked above and the [FITS Headers](https://docs.astropy.org/en/stable/io/fits/usage/headers.html) documentation from astropy to answer the following questions:\n",
    "1. Is the magnitude of this target included, and if so, what is it?\n",
    "2. Is the mass of this target included, and if so, what is it? \n",
    "3. What was the mass determined in the RV catalog? (You'll need to go back to Part 1 of the tutorial to complete this step!)"
   ]
  },
  {
   "cell_type": "code",
   "execution_count": null,
   "metadata": {},
   "outputs": [],
   "source": [
    "# This bit of code is reproduced from the original notebook to create the variable lcfits\n",
    "url='mast:HLSP/qlp/s0018/0000/0003/7328/3207/hlsp_qlp_tess_ffi_s0018-0000000373283207_tess_v01_llc.fits'\n",
    "Observations.download_file(url)\n",
    "filename=url.split('/')[-1]\n",
    "lcfits=fits.open(filename)\n",
    "# Exercise 1 Solutions:\n",
    "print(lcfits[0].header['TESSMAG'])\n",
    "print(lcfits[0].header['MASS'])"
   ]
  },
  {
   "cell_type": "markdown",
   "metadata": {},
   "source": [
    "Answers:\n",
    "1. The magnitude is 13.3269. \n",
    "2. The -1.0 means the mass is NOT included in the catalog. \n",
    "3. The mass from the RV catalog is 1.2 stellar masses."
   ]
  },
  {
   "cell_type": "markdown",
   "metadata": {},
   "source": [
    "## Additional Exercises\n",
    "\n",
    "1. In Part 1 of the tutorial, `find _eclipse_candidates`, we created a for loop to search for TASOC and QLP observations using astroquery.mast Observations. Load the same `tbl` variable from that tutorial (a filtered version of [Price-Whelan et al. 2018 (AJ, 156, 1, 18)](https://ui.adsabs.harvard.edu/abs/2018AJ....156...18P/abstract) Table 4a, and create a loop to search for TASOC and QLP observation using lk.search_lightcurve instead. Which is faster? \n",
    "\n",
    "2. Choose another stellar system from PW+2018, plot the stitched light curve, and create the periodogram. Compare the period at maximum power found to the period derived from the radial velocity method."
   ]
  },
  {
   "cell_type": "code",
   "execution_count": null,
   "metadata": {},
   "outputs": [],
   "source": [
    "# Additional Exercise 1 Solution: \n",
    "# First, this is the code from Part 1 of the tutorial to create the tbl variable. \n",
    "# We need one additional import\n",
    "from astroquery.vizier import Vizier\n",
    "v=Vizier(columns=['APOGEE','Per','M1','M2min','qmin','RAJ2000', 'DEJ2000'],\n",
    "           column_filters={\"Per\":\"<100\",\"Conv\":\"=1\"})\n",
    "v.ROW_LIMIT = -1\n",
    "catalogs=v.get_catalogs('J/AJ/156/18')\n",
    "tbl=catalogs[2]\n",
    "tbl.sort('qmin')\n",
    "tbl.reverse()\n",
    "tbl=tbl[~tbl['qmin'].mask]\n",
    "# Like in Part 1, add columns to tbl that we can use to indicate if a TASOC\n",
    "# or QLP light curve is available. \n",
    "n=len(tbl)\n",
    "col_TASOC = Table.Column(name='TASOC',data=np.full(n,False))\n",
    "col_QLP = Table.Column(name='QLP',data=np.full(n,False))\n",
    "if 'TASOC' not in tbl.colnames: \n",
    "    tbl.add_column(col_TASOC) # Can only add the column once.\n",
    "else:\n",
    "    tbl['TASOC']=col_TASOC\n",
    "if 'QLP' not in tbl.colnames: \n",
    "    tbl.add_column(col_QLP)\n",
    "else: \n",
    "    tbl['QLP']=col_QLP"
   ]
  },
  {
   "cell_type": "code",
   "execution_count": null,
   "metadata": {},
   "outputs": [],
   "source": [
    "# Now this loop looks similar to the one done in Part 1, but \n",
    "# using lk.search_lightcurve instead.\n",
    "for i in range(0,n):\n",
    "    coord=SkyCoord(ra=tbl['RAJ2000'].data[i]*u.degree, dec=tbl['DEJ2000'].data[i]*u.degree, frame='icrs')\n",
    "    print('Searching for index '+str(i)+', coordinate: '+coord.to_string('decimal'))\n",
    "    \n",
    "    # Though you can search just by author=\"QLP\" and author=\"TASOC\", \n",
    "    # to be comparable to Part 1, we'll search for all observations. \n",
    "    obs_tbl=lk.search_lightcurve(coord)\n",
    "\n",
    "    # Instead of \"provenance_name\" the column we need here is \"Author\"\n",
    "    # Also, we need to check that there are any returned at all!\n",
    "    # Most tables will be empty, unlike with the Observations search.\n",
    "    if len(obs_tbl)==0: continue\n",
    "    if np.any(obs_tbl.author.data=='TASOC'):\n",
    "        tbl['TASOC'][i]=True\n",
    "        print('Found TASOC light curve for index '+str(i)+', coordinate: '+coord.to_string('decimal'))\n",
    "    if np.any(obs_tbl.author.data=='QLP'):\n",
    "        tbl['QLP'][i]=True\n",
    "        print('Found QLP light curve for index '+str(i)+', coordinate: '+coord.to_string('decimal'))\n",
    "print('Done.')"
   ]
  },
  {
   "cell_type": "code",
   "execution_count": null,
   "metadata": {},
   "outputs": [],
   "source": [
    "# Alternatively, we could JUST search for QLP, TASOC by name.\n",
    "# This requires two separate searches. \n",
    "for i in range(0,n):\n",
    "    coord=SkyCoord(ra=tbl['RAJ2000'].data[i]*u.degree, dec=tbl['DEJ2000'].data[i]*u.degree, frame='icrs')\n",
    "    print('Searching for index '+str(i)+', coordinate: '+coord.to_string('decimal'))\n",
    "\n",
    "    obs_tbl=lk.search_lightcurve(coord,author='TASOC')\n",
    "    if len(obs_tbl)>0: \n",
    "        tbl['TASOC'][i]=True\n",
    "        print('Found TASOC light curve for index '+str(i)+', coordinate: '+coord.to_string('decimal'))\n",
    "\n",
    "    obs_tbl=lk.search_lightcurve(coord,author='QLP')\n",
    "    if len(obs_tbl)>0: \n",
    "        tbl['QLP'][i]=True\n",
    "        print('Found QLP light curve for index '+str(i)+', coordinate: '+coord.to_string('decimal'))\n",
    "        \n",
    "print('Done.')"
   ]
  },
  {
   "cell_type": "markdown",
   "metadata": {},
   "source": [
    "For the writer of this tutorial, the first method shown here was much faster than that in Part 1, and the second method was marginally faster than the first. It is generally faster to specify the types of observations being search for than to search for all observations and narrow down the list afterwards. "
   ]
  },
  {
   "cell_type": "code",
   "execution_count": null,
   "metadata": {},
   "outputs": [],
   "source": [
    "# Additional Exercise 2 Solution:\n",
    "# The other system from tbl that has a QLP light curve is APOGEE 2M08112409+3251415, \n",
    "# with a reported period of 23.04126 days and RA = 122.850404, Dec = 32.861553\n",
    "# If you chose to sort PW+2018 another way, there are other systems available with light curves.\n",
    "coord=SkyCoord(ra=122.850404*u.degree, dec=32.861553*u.degree, frame='icrs')\n",
    "per=23.04126\n",
    "search_result=lk.search_lightcurve(coord,author=\"QLP\") # Find the lightcurves\n",
    "lc_collection=search_result.download_all()             # Download all\n",
    "lc_stitched=lc_collection.stitch()                     # Stitch all together\n",
    "lc_stitched=lc_stitched[lc_stitched['quality']==0]     # Only select data points with quality = 0 \n",
    "lc_stitched.flux=lc_stitched['kspsap_flux']            # Replace flux, error column with kspsap_flux\n",
    "lc_stitched.flux_err=lc_stitched['kspsap_flux_err']\n",
    "lc_stitched.meta['FLUX_ORIGIN']='kspsap_flux'\n",
    "lc_stitched.plot()                                     # Plot the lightcurve\n",
    "pg=lc_stitched.to_periodogram()                        # Create the periodogram\n",
    "# Now view the periodogram\n",
    "ax=pg.plot(view='period',scale='log')\n",
    "ax.axvline(per,label='PW+ 2018 period')\n",
    "ax.axvline(pg.period_at_max_power.value,label='Period at Max Power',linestyle='--')\n",
    "ax.legend()\n",
    "print('PW+ 2018 period: '+str(per)+' days')\n",
    "print('Period at Max Power: '+str(pg.period_at_max_power))"
   ]
  },
  {
   "cell_type": "markdown",
   "metadata": {},
   "source": [
    "Again, the eclipse signal is not found in this lightcurve. "
   ]
  },
  {
   "cell_type": "markdown",
   "metadata": {},
   "source": [
    "***"
   ]
  },
  {
   "cell_type": "markdown",
   "metadata": {},
   "source": [
    "[Top of Page](#top)\n",
    "<img style=\"float: right;\" src=\"https://raw.githubusercontent.com/spacetelescope/notebooks/master/assets/stsci_pri_combo_mark_horizonal_white_bkgd.png\" alt=\"Space Telescope Logo\" width=\"200px\"/> "
   ]
  }
 ],
 "metadata": {
  "kernelspec": {
   "display_name": "Python 3 (ipykernel)",
   "language": "python",
   "name": "python3"
  },
  "language_info": {
   "codemirror_mode": {
    "name": "ipython",
    "version": 3
   },
   "file_extension": ".py",
   "mimetype": "text/x-python",
   "name": "python",
   "nbconvert_exporter": "python",
   "pygments_lexer": "ipython3",
   "version": "3.8.13"
  }
 },
 "nbformat": 4,
 "nbformat_minor": 4
}
