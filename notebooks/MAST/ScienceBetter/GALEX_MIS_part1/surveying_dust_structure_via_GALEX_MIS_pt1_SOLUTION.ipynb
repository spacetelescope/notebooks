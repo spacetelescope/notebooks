{
 "cells": [
  {
   "cell_type": "markdown",
   "id": "7c9aa64b",
   "metadata": {},
   "source": [
    "<a id=\"top\"></a>\n",
    "# Surveying dust structure via GALEX MIS - Part 1 - SOLUTIONS\n",
    "***\n",
    "\n",
    "Solutions proposed for Part 1. \n",
    "\n",
    "## Imports\n",
    "\n",
    "- `astropy` to use tools needed for performing astronomy and astrophysics with Python, including handling fits files, defining coordinates or choosing the right limits for image visualization.\n",
    "- `Observations` from _astroquery.mast_ to query the Barbara A. Mikulski Archive for Space Telescopes (MAST).\n",
    "- `os` to  use operating system dependent functionality, such as unzipping files.\n",
    "- `matplotlib` to visualize images.\n",
    "- `numpy` to manipulate arrays."
   ]
  },
  {
   "cell_type": "code",
   "execution_count": null,
   "id": "5d658657",
   "metadata": {},
   "outputs": [],
   "source": [
    "from astropy.coordinates import SkyCoord\n",
    "import astropy.units as u\n",
    "from astroquery.mast import Observations\n",
    "import os\n",
    "from astropy.io import fits\n",
    "import matplotlib.pyplot as plt\n",
    "import matplotlib.image as mpimg\n",
    "from astropy.visualization import ZScaleInterval\n",
    "import numpy as np"
   ]
  },
  {
   "cell_type": "markdown",
   "id": "072f26f6",
   "metadata": {},
   "source": [
    "## Exercises\n",
    "\n",
    "Now that we have seen the whole process, let's try to do the same for a different target from the MBM catalog. Let's study now the molecular cloud LDN 1569.\n",
    "\n",
    "Let's start again with the coordinates that SIMBAD provides for the [molecular cloud LDN 1569](http://simbad.cds.unistra.fr/simbad/sim-id?Ident=ldn+1569&NbIdent=1&Radius=2&Radius.unit=arcmin&submit=submit+id) (Gal. coordinates, ep = J2000):\n",
    "\n",
    "- Galactic longitude: 189.1050 deg\n",
    "- Galactic latitude: -36.0158 deg\n",
    "\n",
    "### 1. Coordinate query and data downloading\n",
    "\n",
    "Following the steps shown before, transform the coordinates from the Galactic frame to the ICRS, perform a query in the GALEX MIS database and download the UV intensity map corresponding to the coordinates provided."
   ]
  },
  {
   "cell_type": "code",
   "execution_count": null,
   "id": "281fae8c",
   "metadata": {},
   "outputs": [],
   "source": [
    "coord_gal = SkyCoord(189.1050, -36.0158, unit='deg', frame='galactic')\n",
    "coord_icrs = coord_gal.transform_to('icrs')\n",
    "obs = Observations.query_criteria(obs_collection=\"GALEX\",coordinates=coord_icrs,project='MIS',radius=\"0.5 deg\")\n",
    "data_products = Observations.get_product_list(obs)\n",
    "data_products_mrp = Observations.filter_products(data_products, productType='SCIENCE',productGroupDescription='Minimum Recommended Products')\n",
    "yourProd = data_products_mrp[0]\n",
    "table = Observations.download_products(yourProd, mrp_only = False, cache = False) \n",
    "table"
   ]
  },
  {
   "cell_type": "markdown",
   "id": "fb11f3c2",
   "metadata": {},
   "source": [
    "### 2. Unzip the file and retrieve the information from the _.fits_ file\n",
    "\n",
    "As we also saw before, the files in the GALEX database can be zipped in the form of _.gz_ files. First unzip the download file, and then retrieve the pertaining information contained in the _.fits_ file. Remember that we will need to use both the actual image and the information contained in the header!"
   ]
  },
  {
   "cell_type": "code",
   "execution_count": null,
   "id": "81aa0364",
   "metadata": {},
   "outputs": [],
   "source": [
    "filename = table['Local Path'][0]\n",
    "os.system(\"gunzip \" + filename)"
   ]
  },
  {
   "cell_type": "code",
   "execution_count": null,
   "id": "aed389b9",
   "metadata": {},
   "outputs": [],
   "source": [
    "fits.info(filename[:-3])"
   ]
  },
  {
   "cell_type": "code",
   "execution_count": null,
   "id": "08e1f7a6",
   "metadata": {},
   "outputs": [],
   "source": [
    "with fits.open(filename[:-3]) as hdulist: \n",
    "    header = hdulist[0].header\n",
    "    image = hdulist[0].data"
   ]
  },
  {
   "cell_type": "markdown",
   "id": "1ba3566a",
   "metadata": {},
   "source": [
    "### 3. Coordinate limits\n",
    "\n",
    "Using the knowledge about the header information from before, calculate what will be the coordinate limits of our image for both the RA and Dec axes."
   ]
  },
  {
   "cell_type": "code",
   "execution_count": null,
   "id": "7fc78818",
   "metadata": {},
   "outputs": [],
   "source": [
    "naxis1 = header['NAXIS1']\n",
    "naxis2 = header['NAXIS2']\n",
    "cdelt1 = header['CDELT1']\n",
    "cdelt2 = header['CDELT2']\n",
    "crpix1 = header['CRPIX1']\n",
    "crpix2 = header['CRPIX2']\n",
    "crval1 = header['CRVAL1']\n",
    "crval2 = header['CRVAL2']\n",
    "\n",
    "# Initial RA - Pixel 1\n",
    "RA1 = crval1 - (crpix1-1)*cdelt1/np.cos(crval2*(2*np.pi/360.0))\n",
    "# Final RA - Last Pixel \n",
    "RAf = crval1 + (naxis1+1-crpix1)*cdelt1/np.cos(crval2*(2*np.pi/360.0))\n",
    "\n",
    "# Initial Dec - Pixel 1\n",
    "Dec1 = crval2 - (crpix2-1)*cdelt2\n",
    "# Final Dec - Last Pixel \n",
    "Decf = crval2 + (naxis2+1-crpix2)*cdelt2"
   ]
  },
  {
   "cell_type": "markdown",
   "id": "43553dd7",
   "metadata": {},
   "source": [
    "### 4. Define vmin and vmax for the image display\n",
    "\n",
    "Let's use now `ZScaleInterval` and a central part of the image to decide the contrast that we will use on our image."
   ]
  },
  {
   "cell_type": "code",
   "execution_count": null,
   "id": "444e5869",
   "metadata": {},
   "outputs": [],
   "source": [
    "cut = image[1850:-1850,1850:-1850]\n",
    "interval = ZScaleInterval(nsamples=cut.size, contrast=1, max_reject=0.5)\n",
    "vmin, vmax = interval.get_limits(cut)\n",
    "\n",
    "print('Limits for image: vmin = ',vmin,', vmax = ',vmax)"
   ]
  },
  {
   "cell_type": "markdown",
   "id": "aecb9120",
   "metadata": {},
   "source": [
    "### 5. Display the final image\n",
    "\n",
    "Now that you have all the ingredients, let's display the final image! Do not forget to include a colorbar with the proper units."
   ]
  },
  {
   "cell_type": "code",
   "execution_count": null,
   "id": "7265025e",
   "metadata": {},
   "outputs": [],
   "source": [
    "plt.figure(figsize=(9,5))\n",
    "plt.imshow(image, extent=[RA1,RAf,Dec1,Decf], vmin=vmin, vmax=vmax, cmap='BuPu_r',origin='lower')\n",
    "plt.xlabel('RA [deg]')\n",
    "plt.ylabel('Dec [deg]')\n",
    "plt.colorbar(label='[cnts/pixel/s]')\n",
    "plt.show()"
   ]
  },
  {
   "cell_type": "markdown",
   "id": "bdfffd9a",
   "metadata": {},
   "source": [
    "This image corresponds to a part of the molecular cloud LDN 1569 or MBM 18. This molecular cloud also belong to the Orion-Eridanus superbubble, but to the north rim in comparison with MBM 15 which is part of the west rim. For more information regarding this please refer to [Joubaud et al. (2019)](https://ui.adsabs.harvard.edu/abs/2019A%26A...631A..52J/abstract)."
   ]
  },
  {
   "cell_type": "markdown",
   "id": "8e6c11bf",
   "metadata": {},
   "source": [
    "## Additional Resources\n",
    "\n",
    "For more information about the MAST archive and details about the tutorial: \n",
    "\n",
    "* <a href=\"https://mast.stsci.edu/api/v0/index.html\">MAST API</a> <br>\n",
    "* <a href=\"https://galex.stsci.edu/GR6/\">GALEX via MAST</a> <br>\n",
    "\n",
    "## About this Notebook\n",
    "\n",
    "**Author**: Clara Puerto Sánchez <br>\n",
    "**Keyword(s)**: Tutorial, mosaic, dust <br>\n",
    "**Last Updated**: Sep 2022 <br>\n",
    "**Next review**: Apr 2023\n",
    "\n",
    "For support, please contact the Archive HelpDesk at archive@stsci.edu.\n",
    "***\n",
    "[Top of Page](#top)\n",
    "<img style=\"float: right;\" src=\"https://raw.githubusercontent.com/spacetelescope/notebooks/master/assets/stsci_pri_combo_mark_horizonal_white_bkgd.png\" alt=\"Space Telescope Logo\" width=\"200px\"/>"
   ]
  }
 ],
 "metadata": {
  "kernelspec": {
   "display_name": "Python 3 (ipykernel)",
   "language": "python",
   "name": "python3"
  },
  "language_info": {
   "codemirror_mode": {
    "name": "ipython",
    "version": 3
   },
   "file_extension": ".py",
   "mimetype": "text/x-python",
   "name": "python",
   "nbconvert_exporter": "python",
   "pygments_lexer": "ipython3",
   "version": "3.8.13"
  }
 },
 "nbformat": 4,
 "nbformat_minor": 5
}