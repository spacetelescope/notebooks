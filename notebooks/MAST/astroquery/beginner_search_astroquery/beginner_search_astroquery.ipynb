{
 "cells": [
  {
   "cell_type": "markdown",
   "metadata": {},
   "source": [
    "<a id=\"top\"></a>\n",
    "# Beginner: Searching MAST using astroquery.mast\n",
    "\n",
    "## Introduction and Goals:\n",
    "This is a beginner tutorial on accessing the [MAST Archive](https://archive.stsci.edu) using the [Astroquery API](https://astroquery.readthedocs.io/en/latest/mast/mast.html). We'll cover the major search features you might find useful when querying for observations. By the end of this tutorial, you will:\n",
    "\n",
    "* Understand how to search for observations hosted on the MAST Archive\n",
    "* Download data products corresponding to your observations of interest\n",
    "* Create a visual display of the downloaded data"
   ]
  },
  {
   "cell_type": "markdown",
   "metadata": {},
   "source": [
    "## Table of Contents\n",
    "\n",
    "* [Imports](#Imports)\n",
    "\n",
    "\n",
    "* [Three ways to search for MAST observations](#Three-Ways-to-Search-for-MAST-Observations)\n",
    "    - [By Region](#1.-By-Region)\n",
    "    - [By Object Name](#2.-By-Object-Name)\n",
    "    - [By Criteria](#crit)\n",
    "    \n",
    "    \n",
    "* [Getting Associated Data Products](#Getting-Associated-Data-Products)\n",
    "    - [Performing a Product Query](#Performing-a-Product-Query)\n",
    "    - [Filtering Data Products](#Filtering-the-Data-Products)\n",
    "    \n",
    "    \n",
    "* [Downloading Products](#Downloading-Products)\n",
    "* [Displaying Data](#Displaying-Data)\n",
    "* [Further Reading](#Further-Reading)"
   ]
  },
  {
   "cell_type": "markdown",
   "metadata": {},
   "source": [
    "## Imports"
   ]
  },
  {
   "cell_type": "markdown",
   "metadata": {},
   "source": [
    "Let's start by importing the packages we need for this notebook.\n",
    "\n",
    "* `astroquery.mast` to access the MAST API\n",
    "* `astropy` to create [coordinate objects](https://docs.astropy.org/en/stable/coordinates/index.html) and access the data\n",
    "* `matplotlib` to plot the data"
   ]
  },
  {
   "cell_type": "code",
   "execution_count": null,
   "metadata": {
    "scrolled": true
   },
   "outputs": [],
   "source": [
    "from astropy.coordinates import SkyCoord\n",
    "from astroquery.mast import Observations\n",
    "from astropy.io import fits\n",
    "from matplotlib.colors import SymLogNorm\n",
    "\n",
    "import matplotlib.pyplot as plt\n",
    "\n",
    "%matplotlib inline"
   ]
  },
  {
   "cell_type": "markdown",
   "metadata": {},
   "source": [
    "## Three Ways to Search for MAST Observations"
   ]
  },
  {
   "cell_type": "markdown",
   "metadata": {},
   "source": [
    "### 1. By Region\n",
    "To search by coordinates (and a radius), you can use `query_region`.\n",
    "\n",
    "The coordinates can be given as a string or `astropy.coordinates` object, and the radius as a string or float object. If no radius is specified, the default is 0.2 degrees.\n",
    "\n",
    "Let's try an example search with the coordinates (322.49324, 12.16683) and no radius."
   ]
  },
  {
   "cell_type": "code",
   "execution_count": null,
   "metadata": {
    "scrolled": true
   },
   "outputs": [],
   "source": [
    "# This will give a warning that the coordinates are being interpreted as an ICRS coordinate provided in degrees\n",
    "obsByRegion = Observations.query_region(\"322.49324 12.16683\")\n",
    "len(obsByRegion)"
   ]
  },
  {
   "cell_type": "markdown",
   "metadata": {},
   "source": [
    "Excellent! At the time of writing, this search returns 2240 results. As the MAST archive grows, this number increases; you might see a larger value. Let's take a look a subset of the results."
   ]
  },
  {
   "cell_type": "code",
   "execution_count": null,
   "metadata": {
    "scrolled": true
   },
   "outputs": [],
   "source": [
    "# Preview the first 3 results\n",
    "obsByRegion[:3].show_in_notebook()"
   ]
  },
  {
   "cell_type": "markdown",
   "metadata": {},
   "source": [
    "The columns of the above table (there are many!) correspond to searchable fields in the MAST database. You can find the full list of criteria [here](https://mast.stsci.edu/api/v0/_c_a_o_mfields.html) and an example of performing a search by criteria [down below](#crit).\n",
    "\n",
    "If we want to avoid that pesky warning from the search above we can create a `coordinates` object and pass it to our search. Let's try that now, and in addition, let's add a radius of 1 arcsecond to this search."
   ]
  },
  {
   "cell_type": "code",
   "execution_count": null,
   "metadata": {
    "scrolled": true
   },
   "outputs": [],
   "source": [
    "# Set up our coordinates object\n",
    "coord = SkyCoord(290.213503, -11.800746, unit='deg')\n",
    "\n",
    "# Same search as above, now with a radius of 1 arcsecond\n",
    "obsByRegion2 = Observations.query_region(coord, radius='1s')\n",
    "len(obsByRegion2)"
   ]
  },
  {
   "cell_type": "markdown",
   "metadata": {},
   "source": [
    "Sanity check: we expect that as the radius gets smaller, we get fewer results. In this case, only 15 results are returned.\n",
    "\n",
    "Let's take a look at the results again, but let's limit the columns that get displayed."
   ]
  },
  {
   "cell_type": "code",
   "execution_count": null,
   "metadata": {
    "scrolled": true
   },
   "outputs": [],
   "source": [
    "# Let's limit the number of columns we see at once\n",
    "columns = ['obs_collection', 'intentType', 'instrument_name', \n",
    "            'target_name', 't_exptime', 'filters', 'dataproduct_type']\n",
    "\n",
    "# Show the results with the above columns only\n",
    "obsByRegion2[columns].show_in_notebook()"
   ]
  },
  {
   "cell_type": "markdown",
   "metadata": {},
   "source": [
    "This \"streamlined\" view is helpful: it avoids visual clutter and helps you to focus on the fields that are most relevant to your search."
   ]
  },
  {
   "cell_type": "markdown",
   "metadata": {},
   "source": [
    "### 2. By Object Name\n",
    "\n",
    "To search for an object by name, you can use the `query.object` function. This function also optionally allows you to specify a radius.\n",
    "\n",
    "The object name is first resolved to coordinates by a call to the [Simbad](https://simbad.unistra.fr/simbad/) and [NED](https://ned.ipac.caltech.edu/Documents/Overview) archives. Then, the search proceeeds based on these coordinates."
   ]
  },
  {
   "cell_type": "code",
   "execution_count": null,
   "metadata": {
    "scrolled": true
   },
   "outputs": [],
   "source": [
    "obsByName = Observations.query_object(\"M51\",radius=\".005 deg\")"
   ]
  },
  {
   "cell_type": "code",
   "execution_count": null,
   "metadata": {
    "scrolled": true
   },
   "outputs": [],
   "source": [
    "print(\"Number of results:\",len(obsByName))\n",
    "\n",
    "# Here we just print the values, but you can use '.show_in_table' like we did in the previous cell\n",
    "print(obsByName[:10])"
   ]
  },
  {
   "cell_type": "markdown",
   "metadata": {},
   "source": [
    "For some special catalogs, like those used with Kepler, K2, and TESS, astroquery performs a direct lookup using the MAST catalog. It is important to include both the **_catalog identifier_** and number when searching one of these datasets; for example, to query the TESS Input catalog you would use \"TIC 261136679\", rather than a plain\n",
    "\"261136679\"."
   ]
  },
  {
   "cell_type": "code",
   "execution_count": null,
   "metadata": {
    "scrolled": true
   },
   "outputs": [],
   "source": [
    "obsByTessName = Observations.query_object(\"TIC 261136679\", radius=\"1s\")"
   ]
  },
  {
   "cell_type": "code",
   "execution_count": null,
   "metadata": {
    "scrolled": true
   },
   "outputs": [],
   "source": [
    "# As before, we use columns to limit the display\n",
    "columns = ['obs_collection', 'wavelength_region', 'provenance_name', 't_min', 't_max', 'obsid']\n",
    "obsByTessName[columns].show_in_notebook(display_length=10)"
   ]
  },
  {
   "cell_type": "markdown",
   "metadata": {},
   "source": [
    "It's worth noting that even though we queried using the TESS Input Catalog, not all of the results are from the TESS mission. The TIC is a catalog like any other, and the MAST Archive resolves the input name to a location on the sky. Other missions that have observed the same region will also return results.\n",
    "\n",
    "To search for results that are specific to TESS, or your mission of choice, see the 'by other criteria' section below."
   ]
  },
  {
   "cell_type": "markdown",
   "metadata": {},
   "source": [
    "### 3. By Other Criteria (with or without name/region) <a id=\"crit\"></a>\n",
    "\n",
    "To search for observations based on additonal parameters, you can use `query_criteria`. In a sense, this is a more powerful version of the tools above, as you can still search by coordinates and objectname; however, you can inculde additional desired criteria. You may also run the search without specifying a name or coordinates.\n",
    "\n",
    "To perform the search, give your critera as keyword arguments. Valid criteria and their descriptions are listed [here](https://mast.stsci.edu/api/v0/_c_a_o_mfields.html). (Note that these are columns of the results tables we saw above!) Some relevant examples are: \"filters\", \"t_exptime\" (exposure time), instrument_name, \"provenance_name\", and \"sequence_number\". \n",
    "\n",
    "Let's for TESS Sector 9 data with an exposure time between 1400 and 1500s."
   ]
  },
  {
   "cell_type": "code",
   "execution_count": null,
   "metadata": {
    "scrolled": true
   },
   "outputs": [],
   "source": [
    "obsByCriteria = Observations.query_criteria(obs_collection=[\"TESS\"], sequence_number=9,\n",
    "                                            t_exptime=[1400,1500])"
   ]
  },
  {
   "cell_type": "code",
   "execution_count": null,
   "metadata": {
    "scrolled": false
   },
   "outputs": [],
   "source": [
    "columns = ['target_name','s_ra', 's_dec', 't_exptime', 'obsid']\n",
    "obsByCriteria[columns].show_in_notebook(display_length=5)"
   ]
  },
  {
   "cell_type": "markdown",
   "metadata": {},
   "source": [
    "There's no limit on the number of filters you can apply in a search. It may be an interesting exercise for the reader to go through the example below and figure out what exactly we're searching for.\n",
    "\n",
    "(Hint: check the [field descriptions](https://mast.stsci.edu/api/v0/_c_a_o_mfields.html))"
   ]
  },
  {
   "cell_type": "code",
   "execution_count": null,
   "metadata": {
    "scrolled": true
   },
   "outputs": [],
   "source": [
    "# Make sure to run this cell, as the data is used in the sections that follow\n",
    "\n",
    "exByCriteria = Observations.query_criteria(obs_collection=[\"HLA\"], s_dec=[50,60], \n",
    "                                            calib_level=[3], proposal_pi=\"Mould*\", \n",
    "                                            dataproduct_type=\"IMAGE\", t_max=[49800,49820])"
   ]
  },
  {
   "cell_type": "code",
   "execution_count": null,
   "metadata": {
    "scrolled": true
   },
   "outputs": [],
   "source": [
    "columns = ['obs_collection', 'obs_id', 'target_name', 'filters', 'instrument_name', 'proposal_id']\n",
    "exByCriteria[columns].show_in_notebook()"
   ]
  },
  {
   "cell_type": "markdown",
   "metadata": {},
   "source": [
    "## Getting Associated Data Products"
   ]
  },
  {
   "cell_type": "markdown",
   "metadata": {},
   "source": [
    "### Performing a Product Query\n"
   ]
  },
  {
   "cell_type": "markdown",
   "metadata": {},
   "source": [
    "Each observation returned from a MAST query can have one or more associated data products. For example, a JWST observation might return an [uncalibrated file](https://outerspace.stsci.edu/display/MASTDOCS/Supplemental+Products), [a guide-star file](https://jwst-docs.stsci.edu/jwst-observatory-characteristics/jwst-guide-stars), and the science data you're searching for.\n",
    "\n",
    "You can input a table of observations or list of observation ids (“obs_id”) and `get_product_list` will return a table containing the associated data products.\n",
    "\n",
    "Since we already have a list of observations, we can use that as the starting point for our query. To keep it simple, let's look at only the last observation from our search above."
   ]
  },
  {
   "cell_type": "code",
   "execution_count": null,
   "metadata": {
    "scrolled": true
   },
   "outputs": [],
   "source": [
    "# Let's select a small subset from our critera search above\n",
    "newObsList = exByCriteria[-1:]\n",
    "\n",
    "# Now we get the list of products associated with that observation\n",
    "dataProducts = Observations.get_product_list(newObsList)"
   ]
  },
  {
   "cell_type": "code",
   "execution_count": null,
   "metadata": {
    "scrolled": true
   },
   "outputs": [],
   "source": [
    "dataProducts.show_in_notebook(display_length=5)"
   ]
  },
  {
   "cell_type": "markdown",
   "metadata": {},
   "source": [
    "### Filtering the Data Products\n",
    "\n",
    "After the data products have been retrieved, you can use `filter_products` to download only data products that meet your given criteria. Available filters are listed [here](https://mast.stsci.edu/api/v0/_productsfields.html). Some examples are: “mrp_only” (Minimum Recommended Products) and “extension” (file extension).\n",
    "\n",
    "A note on filtering: each listed filter is joined with an AND, but each option within that filter is joined with an OR. For example, the search below will return any products that are 'science' type **and** have a calibration level of 2 **or** 3."
   ]
  },
  {
   "cell_type": "code",
   "execution_count": null,
   "metadata": {
    "scrolled": true
   },
   "outputs": [],
   "source": [
    "scienceProducts = Observations.filter_products(dataProducts, productType=[\"SCIENCE\"],\n",
    "                                               calib_level=[2,3], mrp_only=False)"
   ]
  },
  {
   "cell_type": "code",
   "execution_count": null,
   "metadata": {
    "scrolled": true
   },
   "outputs": [],
   "source": [
    "scienceProducts.show_in_notebook(display_length=5)"
   ]
  },
  {
   "cell_type": "markdown",
   "metadata": {},
   "source": [
    "## Downloading Products\n",
    "Passing a table of products (like the one above) to `download_products` will download the entire table. You can also pass a list of Observation IDs (obs_id) if you know them.\n",
    "\n",
    "`download_products` also allows you to filter data as you request the download. In the example below, we will only download the drizzled files (drz.fits).\n",
    "\n",
    "Products will by default be downloaded into the current working directory, in a subdirectory called \"mastDownload.\"<br>\n",
    "The full local file paths will have the form \"mastDownload/Mission/Observation ID/file.\""
   ]
  },
  {
   "cell_type": "code",
   "execution_count": null,
   "metadata": {
    "scrolled": false
   },
   "outputs": [],
   "source": [
    "# This is the filtered download of the scienceProducts table\n",
    "manifest = Observations.download_products(scienceProducts, extension=(\"drz.fits\"))\n",
    "\n",
    "# Uncomment below for \"plain\" download of the scienceProducts table\n",
    "# manifest = Observations.download_products(scienceProducts)"
   ]
  },
  {
   "cell_type": "markdown",
   "metadata": {},
   "source": [
    "Note: `download_products` includes caching by default. If you have downloaded the files before, they will not be downloaded again unless caching is turned off. This may cause issues if the data is updated and the filename remains the same!"
   ]
  },
  {
   "cell_type": "code",
   "execution_count": null,
   "metadata": {
    "scrolled": false
   },
   "outputs": [],
   "source": [
    "manifest.show_in_notebook()"
   ]
  },
  {
   "cell_type": "markdown",
   "metadata": {},
   "source": [
    "The manifest returns useful information about the status of the files. You can find the local path, along with a status. This will either be COMPLETE, SKIPPED, or ERROR. If the status is ERROR, there will be additional information in the 'Message' column. The URL field includes a link to directly download the data."
   ]
  },
  {
   "cell_type": "markdown",
   "metadata": {},
   "source": [
    "## Displaying Data"
   ]
  },
  {
   "cell_type": "markdown",
   "metadata": {},
   "source": [
    "At this point the data is ready for analysis, and we are done querying the MAST Archive.\n",
    "\n",
    "Below we take a look at the data files using `astropy.fits` and `matplotlib`."
   ]
  },
  {
   "cell_type": "code",
   "execution_count": null,
   "metadata": {
    "scrolled": true
   },
   "outputs": [],
   "source": [
    "# Get the filenames from the manifest\n",
    "filename0 = manifest['Local Path'][0]\n",
    "filename1 = manifest['Local Path'][1]\n",
    "\n",
    "# Open the files using astropy.fits\n",
    "file1 = fits.open(filename0)\n",
    "file2 = fits.open(filename1)"
   ]
  },
  {
   "cell_type": "code",
   "execution_count": null,
   "metadata": {
    "scrolled": true
   },
   "outputs": [],
   "source": [
    "f, (ax1, ax2) = plt.subplots(1, 2)\n",
    "f.set_figheight(5)\n",
    "f.set_figwidth(12)\n",
    "ax1.imshow(file1[0].data, cmap=\"inferno\", norm=SymLogNorm(linthresh=0.03,vmin=0, vmax=1.5))\n",
    "ax2.imshow(file2['SCI'].data, cmap=\"inferno\", norm=SymLogNorm(linthresh=0.03,vmin=-0.01, vmax=1.5))"
   ]
  },
  {
   "cell_type": "markdown",
   "metadata": {},
   "source": [
    "We see the same region of the sky, with subtle differences caused by the differing filters."
   ]
  },
  {
   "cell_type": "markdown",
   "metadata": {},
   "source": [
    "## Further Reading\n",
    "Full documentation on **`astroquery.mast`** can be found [here](https://astroquery.readthedocs.io/en/latest/mast/mast.html)."
   ]
  },
  {
   "cell_type": "markdown",
   "metadata": {
    "collapsed": true
   },
   "source": [
    "## About this Notebook\n",
    "For additonal questions, comments, or feedback, please email `archive@stsci.edu`. \n",
    "\n",
    "**Authors:** Thomas Dutkiewicz, Scott Fleming <br>\n",
    "**Keywords:** MAST, astroquery <br>\n",
    "**Latest update** Oct 2022 <br>\n",
    "**Next Review:** Apr 2023"
   ]
  },
  {
   "cell_type": "markdown",
   "metadata": {},
   "source": [
    "[Top of Page](#top)\n",
    "<img style=\"float: right;\" src=\"https://raw.githubusercontent.com/spacetelescope/notebooks/master/assets/stsci_pri_combo_mark_horizonal_white_bkgd.png\" alt=\"Space Telescope Logo\" width=\"200px\"/> "
   ]
  }
 ],
 "metadata": {
  "kernelspec": {
   "display_name": "Python 3 (ipykernel)",
   "language": "python",
   "name": "python3"
  },
  "language_info": {
   "codemirror_mode": {
    "name": "ipython",
    "version": 3
   },
   "file_extension": ".py",
   "mimetype": "text/x-python",
   "name": "python",
   "nbconvert_exporter": "python",
   "pygments_lexer": "ipython3",
   "version": "3.9.12"
  },
  "widgets": {
   "state": {},
   "version": "1.1.2"
  }
 },
 "nbformat": 4,
 "nbformat_minor": 1
}
