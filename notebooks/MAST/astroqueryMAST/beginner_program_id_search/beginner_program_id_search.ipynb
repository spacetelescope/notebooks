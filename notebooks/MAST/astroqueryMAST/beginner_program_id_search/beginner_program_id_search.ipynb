{
 "cells": [
  {
   "cell_type": "markdown",
   "metadata": {
    "slideshow": {
     "slide_type": "slide"
    }
   },
   "source": [
    "<a id=\"top\"></a>\n",
    "# Accessing JWST Proposal Data in astroquery.mast\n",
    "## Learning Goals\n",
    "This tutorial is aimed at researchers of any level looking for _specific_ observations from a particular program ID. It will cover the basics of authentication, data search, and data downloads.\n",
    "\n",
    "By the end of this tutorial, you will:\n",
    "\n",
    "* Know to how to login/logout to access data in astroquery.\n",
    "* Be able to search for data based on proposal ID.\n",
    "* Download filtered data products from the MAST archive.\n",
    "***\n",
    "## Table of Contents\n",
    "\n",
    "The workflow for this notebook consists of:\n",
    "* [Logging in/out](#Logging-in-and-out)\n",
    "* [Searching for Data by ID](#Searching-for-Data-by-ID)\n",
    "* [Filtering and Downloading Data](#Filtering-and-Downloading-Data)\n",
    "    * [Filtering](#Filtering)\n",
    "    * [Downloading Directly](#Downloading-Data-Directly)\n",
    "    * [Downloading via Curl Script](#Downloading-via-Curl-Script)\n",
    "* [Additional Resources](#Additional-Resources)\n",
    "\n",
    "## Imports\n",
    "We need to import 'Observations' from astroquery.mast in order for this tutorial to work:"
   ]
  },
  {
   "cell_type": "code",
   "execution_count": null,
   "metadata": {
    "slideshow": {
     "slide_type": "fragment"
    }
   },
   "outputs": [],
   "source": [
    "from astroquery.mast import Observations"
   ]
  },
  {
   "cell_type": "markdown",
   "metadata": {},
   "source": [
    "***\n",
    "## Logging in and out\n",
    "Most data in the MAST archive is public, and can be accessed without logging in. However, some data is restricted during its 'exclusive access period' (EAP), during which time it is only available to the PI team. During this period, your team will need to sign in to access the data.\n",
    "\n",
    "To begin, you should make sure that you have an authorized [MyST Account](https://archive.stsci.edu/registration/index.html). \n",
    "\n",
    "In order to access data programatically we will also need to obtain an API token. To create and view tokens associated with your account, visit https://auth.mast.stsci.edu/tokens.\n",
    "\n",
    "There are several ways to enter your token, including:\n",
    "1. Manual response to prompt from `Observations.login()` (must be done every time)\n",
    "2. Python keyring; either through the `keyring` library or `Observations.login`\n",
    "3. Storing it in the bash environment variable `$MAST-API-TOKEN`\n",
    "\n",
    "This flexiblility can overwhelming at first; let's take a look at some examples of these methods below."
   ]
  },
  {
   "cell_type": "code",
   "execution_count": null,
   "metadata": {},
   "outputs": [],
   "source": [
    "# Option 1: Respond to prompt\n",
    "Observations.login()"
   ]
  },
  {
   "cell_type": "markdown",
   "metadata": {},
   "source": [
    "This works well for infrequent API users, but storing the token is far more convenient for repeated logins. You can store the token using [keyring](https://pypi.org/project/keyring/) or use the built-in `store_token` flag:"
   ]
  },
  {
   "cell_type": "code",
   "execution_count": null,
   "metadata": {},
   "outputs": [],
   "source": [
    "# Option 2: Store Token\n",
    "Observations.login(store_token=True)"
   ]
  },
  {
   "cell_type": "markdown",
   "metadata": {},
   "source": [
    "Using 'store_token' will allow us to automatically log in, without needing to re-enter the token, for as long as the token remains valid. Note that tokens expire after 10 days of inactivity, or 60 days after creation, whichever comes first. Once it expires, you should use `reenter_token=True` to overwrite the old token with the new one.\n",
    "\n",
    "The third option is to store the token as the bash environment variable `$MAST_API_TOKEN`. This method varies from system to system; for more details, you can check out [this guide](https://www3.ntu.edu.sg/home/ehchua/programming/howto/Environment_Variables.html) (links to a non-STScI site).\n",
    "\n",
    "Let's take a minute to verify that our login was successful:"
   ]
  },
  {
   "cell_type": "code",
   "execution_count": null,
   "metadata": {},
   "outputs": [],
   "source": [
    "session_info = Observations.session_info()"
   ]
  },
  {
   "cell_type": "markdown",
   "metadata": {},
   "source": [
    "You should see all of your information above. If not, verify that your token and MyST account are active.\n",
    "\n",
    "And of course, if the need arises, we can logout:"
   ]
  },
  {
   "cell_type": "code",
   "execution_count": null,
   "metadata": {},
   "outputs": [],
   "source": [
    "Observations.logout()\n",
    "session_info = Observations.session_info()"
   ]
  },
  {
   "cell_type": "markdown",
   "metadata": {
    "slideshow": {
     "slide_type": "slide"
    }
   },
   "source": [
    "## Searching for Data by ID"
   ]
  },
  {
   "cell_type": "markdown",
   "metadata": {
    "slideshow": {
     "slide_type": "slide"
    }
   },
   "source": [
    "We can use a program ID to query the MAST archives for data. In the example below, we'll use 2733 as the ID. This is the program that produced the [stunning images](https://webbtelescope.org/contents/media/images/2022/033/01G709QXZPFH83NZFAFP66WVCZ) of the Southern Ring Nebula!"
   ]
  },
  {
   "cell_type": "code",
   "execution_count": null,
   "metadata": {
    "slideshow": {
     "slide_type": "fragment"
    }
   },
   "outputs": [],
   "source": [
    "# Let's get a list of all observations associated with this proposal\n",
    "obs_list = Observations.query_criteria(proposal_id=\"2733\")\n",
    "\n",
    "obs_list.show_in_notebook(display_length=5)"
   ]
  },
  {
   "cell_type": "markdown",
   "metadata": {},
   "source": [
    "For more information about the observation fields (the columns in the above table), read [here](https://mast.stsci.edu/api/v0/_c_a_o_mfields.html).\n",
    "\n",
    "Let's verify we've found the right observations by looking at the PI. This is available in the above table under the `'proposal_pi'` field."
   ]
  },
  {
   "cell_type": "code",
   "execution_count": null,
   "metadata": {},
   "outputs": [],
   "source": [
    "# Let's check the observations for the PI\n",
    "print(obs_list['proposal_pi'])"
   ]
  },
  {
   "cell_type": "markdown",
   "metadata": {},
   "source": [
    "The first observation has no PI listed, as it is a release image from the Webb Science Launch.\n",
    "\n",
    "Each observation consists of a set of \"visits\" to a field: generally pointing at the same region of the sky, and using the same intruments and filters. For some observations, especially those with a higher calibration level, it's likely that there are many associated data products. These are lower level auxilliary products like guide star images and uncalibrated exposures.\n",
    "\n",
    "Let's take a look at how many products the are associated with second observation."
   ]
  },
  {
   "cell_type": "code",
   "execution_count": null,
   "metadata": {},
   "outputs": [],
   "source": [
    "second_obs = obs_list[1:2]\n",
    "data_products = Observations.get_product_list(second_obs)\n",
    "len(data_products)"
   ]
  },
  {
   "cell_type": "markdown",
   "metadata": {},
   "source": [
    "This produces over 3000 data products associated with this observation! This is not uncommon for a JWST level-3 observation. In the next section, we'll take a look at how we can filter down the number of results before we download them."
   ]
  },
  {
   "cell_type": "markdown",
   "metadata": {},
   "source": [
    "## Filtering and Downloading Data\n",
    "\n",
    "### Filtering"
   ]
  },
  {
   "cell_type": "markdown",
   "metadata": {},
   "source": [
    "You can apply filter keyword arguments to download only data products that meet your given criteria. Available filters are “mrp_only” (Minimum Recommended Products), “extension” (file extension), and all products fields listed [here](https://mast.stsci.edu/api/v0/_productsfields.html).\n",
    "\n",
    "For this example, let's try filtering for only the [minimum recommended products](https://outerspace.stsci.edu/display/MASTDOCS/Minimum+Recommended+Products) (MRP)."
   ]
  },
  {
   "cell_type": "code",
   "execution_count": null,
   "metadata": {
    "scrolled": false
   },
   "outputs": [],
   "source": [
    "filtered_prod = Observations.filter_products(data_products, mrp_only=True)\n",
    "print(filtered_prod)"
   ]
  },
  {
   "cell_type": "markdown",
   "metadata": {},
   "source": [
    "Well, that was effective! We now have 5 files, instead of over 3000."
   ]
  },
  {
   "cell_type": "markdown",
   "metadata": {},
   "source": [
    "### Downloading Data Directly\n",
    "\n",
    "We'll use the filtered product list to select our downloads. This method will immediately send a request to the MAST archives, and download the data to this notebook's folder."
   ]
  },
  {
   "cell_type": "code",
   "execution_count": null,
   "metadata": {},
   "outputs": [],
   "source": [
    "# Don't forget to login, if accessing non-public data! You can un-comment the line below:\n",
    "# Observations.login()\n",
    "\n",
    "manifest = Observations.download_products(filtered_prod)\n",
    "print(manifest['Status'])"
   ]
  },
  {
   "cell_type": "markdown",
   "metadata": {},
   "source": [
    "### Downloading via Curl Script\n",
    "Rather than downloading the files directly, we can instead download a curl script. You can run the script at any time to download your data.\n",
    "\n",
    "This method supports larger data volumes (and downloads more quickly!) than a traditional portal download."
   ]
  },
  {
   "cell_type": "code",
   "execution_count": null,
   "metadata": {},
   "outputs": [],
   "source": [
    "Observations.download_products(filtered_prod, curl_flag=True)"
   ]
  },
  {
   "cell_type": "markdown",
   "metadata": {},
   "source": [
    "You can run the script in your terminal by navigating to the desired download location and typing `bash [filename].sh`. For Windows users, this will require [cygwin](https://www.cygwin.com) or other programs that support bash scripts. You may be prompted for your API token."
   ]
  },
  {
   "cell_type": "markdown",
   "metadata": {},
   "source": [
    "## Additional Resources\n",
    "\n",
    "Within the current directory, there is a companion script that unifies all of the code from this notebook. It runs in the terminal with two arguments: the program ID, and whether you should download a curl script.<br> For example, you might run `python3 companion_script.py 2733 True` to download the above data via a curl script.\n",
    "\n",
    "For additional details about astroquery.mast, see the [readthedocs](https://astroquery.readthedocs.io/en/latest/mast/mast.html) page.\n",
    "\n",
    "- [MAST Portal](https://mast.stsci.edu/portal/Mashup/Clients/Mast/Portal.html)\n",
    "- [MAST API](https://mast.stsci.edu/api/v0/index.html)"
   ]
  },
  {
   "cell_type": "markdown",
   "metadata": {
    "slideshow": {
     "slide_type": "slide"
    }
   },
   "source": [
    "## About this Notebook\n",
    "For additonal questions, comments, or feedback, please email `archive@stsci.edu`. \n",
    "\n",
    "**Author:** Thomas Dutkiewicz <br>\n",
    "**Keywords:** JWST, MAST, authentication <br>\n",
    "**Last Updated:** Jul 2022 <br>\n",
    "**Next Review:** Jan 2023"
   ]
  },
  {
   "cell_type": "markdown",
   "metadata": {},
   "source": [
    "## Citations\n",
    "\n",
    "If you use `astroquery` for published research, please [cite](https://github.com/astropy/astroquery/blob/main/astroquery/CITATION) the\n",
    "authors."
   ]
  },
  {
   "cell_type": "markdown",
   "metadata": {},
   "source": [
    "***"
   ]
  },
  {
   "cell_type": "markdown",
   "metadata": {},
   "source": [
    "[Top of Page](#top)\n",
    "<img style=\"float: right;\" src=\"https://raw.githubusercontent.com/spacetelescope/notebooks/master/assets/stsci_pri_combo_mark_horizonal_white_bkgd.png\" alt=\"Space Telescope Logo\" width=\"200px\"/> "
   ]
  }
 ],
 "metadata": {
  "kernelspec": {
   "display_name": "Python 3 (ipykernel)",
   "language": "python",
   "name": "python3"
  },
  "language_info": {
   "codemirror_mode": {
    "name": "ipython",
    "version": 3
   },
   "file_extension": ".py",
   "mimetype": "text/x-python",
   "name": "python",
   "nbconvert_exporter": "python",
   "pygments_lexer": "ipython3",
   "version": "3.9.12"
  }
 },
 "nbformat": 4,
 "nbformat_minor": 2
}
