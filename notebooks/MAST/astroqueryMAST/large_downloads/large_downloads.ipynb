{
 "cells": [
  {
   "cell_type": "markdown",
   "id": "50cdff59",
   "metadata": {},
   "source": [
    "# Large Downloads in `astroquery.mast`"
   ]
  },
  {
   "cell_type": "markdown",
   "id": "c0d3d414",
   "metadata": {},
   "source": [
    "For some programs stored in the MAST archives, you may encounter issues when downloading data via the MAST Portal due to a large number of files. This applies particularly to JWST programs using Wide-Field Slitless Spectroscopy. It is preferable — and often, necessary — to use an API to get this data instead.\n",
    "\n",
    "To that end, this notebook will demonstrate:\n",
    "* Searching the MAST Portal for observations using the `astroquery.mast` API\n",
    "* Retreiving associated data products, without causing a timeout error\n",
    "* Downloading the desired subset of data products\n",
    "\n",
    "## Table of Contents\n",
    "* [Imports](#Imports)\n",
    "* [Search the MAST Archives](#Search-the-MAST-Archives)\n",
    "* [Retrieve Associated Products](#Retreive-Associated-Products)\n",
    "* [Filter and Download Products](#Filter-and-Download-Products)\n",
    "* [Further Reading](#Further-Reading)"
   ]
  },
  {
   "cell_type": "markdown",
   "id": "062128be",
   "metadata": {},
   "source": [
    "## Imports\n",
    "In order to run this notebook, we need: \n",
    "* `astroquery.mast` to access the MAST archives\n",
    "* `astropy.table` to hold the results of our queries, combine them, and then filter them for unique products"
   ]
  },
  {
   "cell_type": "code",
   "execution_count": null,
   "id": "31c75410",
   "metadata": {},
   "outputs": [],
   "source": [
    "from astroquery.mast import Observations\n",
    "from astropy.table import unique, vstack, Table"
   ]
  },
  {
   "cell_type": "markdown",
   "id": "c8ae8d69",
   "metadata": {},
   "source": [
    "## Search the MAST Archives\n",
    "The first step to downloading the data is finding the observations we're interested in. This is easiest to do using `query_criteria`, which allows us to specify criteria such as RA/Dec, filters, exposure time, and any other fields listed [here](#https://mast.stsci.edu/api/v0/_c_a_o_mfields.html). \n",
    "\n",
    "In this example, we use `query_criteria` to find MIRI observations from JWST Program 1173."
   ]
  },
  {
   "cell_type": "code",
   "execution_count": null,
   "id": "d4775f28",
   "metadata": {
    "scrolled": false
   },
   "outputs": [],
   "source": [
    "matched_obs = Observations.query_criteria(\n",
    "        obs_collection = 'JWST'\n",
    "        , proposal_id = '1173'\n",
    "        , instrument_name = 'Miri'\n",
    "        , filters = 'OPAQUE'\n",
    "        )\n",
    "\n",
    "# This displays selected columns from the observation table, as a sanity check\n",
    "columns = ['dataproduct_type', 'calib_level', 't_exptime', 'proposal_pi', 'intentType', 'obsid']\n",
    "matched_obs[columns].show_in_notebook(display_length=5)"
   ]
  },
  {
   "cell_type": "markdown",
   "id": "1d90dc1a",
   "metadata": {},
   "source": [
    "## Retreive Associated Products\n",
    "Each observation has associated data products. Which products are of interest to you depends on how you intend to use the data; more on this in the section below. For now, let's retreive all the products by requesting them, one observation at a time.\n",
    "\n",
    "**Note: It is imperative that you do not request all of the products simultaneously.** This is extremely likely to take an enormous amount of time, fail, or worse, do both, ultimately giving you a headache. MAST archives offers no medical advice, but we are decidedly anti-headache."
   ]
  },
  {
   "cell_type": "code",
   "execution_count": null,
   "id": "a2dd4e37",
   "metadata": {},
   "outputs": [],
   "source": [
    "t = [Observations.get_product_list(obs) for obs in matched_obs]\n",
    "files = unique(vstack(t), keys='productFilename')"
   ]
  },
  {
   "cell_type": "markdown",
   "id": "68e08930",
   "metadata": {},
   "source": [
    "## Filter and Download Products\n",
    "If you are trying to download proprietary data, you will need to login. This requires a MAST token, which you can create at the [auth.mast](#https://auth.mast.stsci.edu/tokens) wesbite.\n",
    "\n",
    "In this example, we are looking to download the uncalibrated products. We will filter those out below using the `productSubGroupDescription` field. You can find the other available product filters, including product type and file size, [here](https://mast.stsci.edu/api/v0/_productsfields.html).\n",
    "\n",
    "An additional option we make use of is the `curl_script` flag. Rather than downloading the data immediately, this method instead downloads a curl script. This is turned off by default, but may provide a more robust connection that a direct download."
   ]
  },
  {
   "cell_type": "code",
   "execution_count": null,
   "id": "f30c77f5",
   "metadata": {},
   "outputs": [],
   "source": [
    "# Un-comment below if downloading data during its exclusive access period.\n",
    "#Observations.login()\n",
    "\n",
    "manifest = Observations.download_products(\n",
    "           files,\n",
    "           productSubGroupDescription='UNCAL',\n",
    "           curl_flag=True\n",
    "           )"
   ]
  },
  {
   "cell_type": "markdown",
   "id": "b73490b3",
   "metadata": {},
   "source": [
    "All of the code in this notebook is available as a 'companion script', for further convenience."
   ]
  },
  {
   "cell_type": "markdown",
   "id": "9e88b2a6",
   "metadata": {},
   "source": [
    "## Futher Reading\n",
    "* For a full explanation of product levels and the processing pipleline, see [Science Data Products](https://outerspace.stsci.edu/display/MASTDOCS/Science+Data+Products)"
   ]
  },
  {
   "cell_type": "markdown",
   "id": "3bad206e",
   "metadata": {},
   "source": [
    "## About this Notebook\n",
    "\n",
    "\n",
    "**Authors:** Thomas Dutkiewicz, Dick Shaw <br>\n",
    "**Keywords:** Downloads, astroquery, MAST <br>\n",
    "**Last Updated:** Aug 2022 <br>\n",
    "**Next Review Date:** Feb 2023"
   ]
  },
  {
   "cell_type": "markdown",
   "id": "add0e171",
   "metadata": {},
   "source": [
    "[Top of Page](#top)\n",
    "<img style=\"float: right;\" src=\"https://raw.githubusercontent.com/spacetelescope/notebooks/master/assets/stsci_pri_combo_mark_horizonal_white_bkgd.png\" alt=\"Space Telescope Logo\" width=\"200px\"/> "
   ]
  }
 ],
 "metadata": {
  "kernelspec": {
   "display_name": "Python 3 (ipykernel)",
   "language": "python",
   "name": "python3"
  },
  "language_info": {
   "codemirror_mode": {
    "name": "ipython",
    "version": 3
   },
   "file_extension": ".py",
   "mimetype": "text/x-python",
   "name": "python",
   "nbconvert_exporter": "python",
   "pygments_lexer": "ipython3",
   "version": "3.9.12"
  }
 },
 "nbformat": 4,
 "nbformat_minor": 5
}
