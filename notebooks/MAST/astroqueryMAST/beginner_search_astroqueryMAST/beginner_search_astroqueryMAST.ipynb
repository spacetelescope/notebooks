{
 "cells": [
  {
   "cell_type": "markdown",
   "metadata": {},
   "source": [
    "<a id=\"top\"></a>\n",
    "# MAST API Tutorial - Astroquery API\n",
    "\n",
    "## Introduction and Goals:\n",
    "This is a beginner tutorial on accessing the MAST database using the Astroquery API. By the end of this tutorial, you will:\n",
    "\n",
    "* Understand how to search for observations hosted on the MAST archive\n",
    "* Download data products corresponding to your observations of interest\n",
    "* Create a visual display of the downloaded data"
   ]
  },
  {
   "cell_type": "markdown",
   "metadata": {},
   "source": [
    "## Table of Contents\n",
    "\n",
    "* [Imports](#Imports)\n",
    "\n",
    "\n",
    "* [Three ways to search for MAST observations](#Three-Ways-to-Search-for-MAST-Observations)\n",
    "    - [By Region](#1.-By-Region)\n",
    "    - [By Object Name](#2.-By-Object-Name)\n",
    "    - [By Criteria](#crit)\n",
    "    \n",
    "    \n",
    "* [Getting Associated Data Products](#Getting-Associated-Data-Products)\n",
    "    - [Performing a Product Query](#Performing-a-Product-Query)\n",
    "    - [Filtering Data Products](#Filtering-the-Data-Products)\n",
    "    \n",
    "    \n",
    "* [Downloading Products](#Downloading-Products)\n",
    "\n",
    "\n",
    "* [Displaying Data](#Displaying-Data)\n",
    "\n",
    "\n",
    "* [Further Reading](#Further-Reading)"
   ]
  },
  {
   "cell_type": "markdown",
   "metadata": {},
   "source": [
    "## Imports"
   ]
  },
  {
   "cell_type": "markdown",
   "metadata": {},
   "source": [
    "The only import we need for the MAST API is `astroquery.mast`. \n",
    "\n",
    "`astropy` and `matplotlib` are for opening and plotting the data, respectively."
   ]
  },
  {
   "cell_type": "code",
   "execution_count": null,
   "metadata": {},
   "outputs": [],
   "source": [
    "from astroquery.mast import Observations\n",
    "\n",
    "from astropy.io import fits\n",
    "\n",
    "import matplotlib.pyplot as plt\n",
    "from matplotlib.colors import SymLogNorm\n",
    "%matplotlib inline "
   ]
  },
  {
   "cell_type": "markdown",
   "metadata": {},
   "source": [
    "## Three Ways to Search for MAST Observations"
   ]
  },
  {
   "cell_type": "markdown",
   "metadata": {},
   "source": [
    "### 1. By Region\n",
    "You can use `query_region` to find objects based on coordinates and radius.  \n",
    "The coordinates can be given as a string or `astropy.coordinates` object, and the radius as a string or float object. If no radius is specified, the default is 0.2 degrees."
   ]
  },
  {
   "cell_type": "code",
   "execution_count": null,
   "metadata": {},
   "outputs": [],
   "source": [
    "# This will give a warning that the coordinates are being interpreted as an ICRS coordinate provided in degrees\n",
    "obsByRegion = Observations.query_region(\"322.49324 12.16683\")"
   ]
  },
  {
   "cell_type": "code",
   "execution_count": null,
   "metadata": {},
   "outputs": [],
   "source": [
    "# How many results? Let's look at the first ten.\n",
    "print(\"Number of results:\",len(obsByRegion))\n",
    "print(obsByRegion[:10])"
   ]
  },
  {
   "cell_type": "markdown",
   "metadata": {},
   "source": [
    "### 2. By Object Name\n",
    "\n",
    "The `query.object` method allows you to search based on object name and optional radius argument.  \n",
    "The object name is first resolved to sky coordinates, and then the resolved region is queried as above."
   ]
  },
  {
   "cell_type": "code",
   "execution_count": null,
   "metadata": {},
   "outputs": [],
   "source": [
    "obsByName = Observations.query_object(\"M51\",radius=\".005 deg\")"
   ]
  },
  {
   "cell_type": "code",
   "execution_count": null,
   "metadata": {},
   "outputs": [],
   "source": [
    "print(\"Number of results:\",len(obsByName))\n",
    "print(obsByName[:10])"
   ]
  },
  {
   "cell_type": "markdown",
   "metadata": {},
   "source": [
    "### 3. By Other Criteria (with or without name/region) <a id=\"crit\"></a>\n",
    "\n",
    "To search for observations based on additonal parameters, you can use `query_criteria`. In a sense, this is a more powerful version of the tools above, as you can still search by coordinates and objectname; however, you can inculde additional desired criteria. You may also run the search without specifying a name or coordinates.\n",
    "\n",
    "To perform the search, give your critera as keyword arguments. Valid criteria are listed [here](https://mast.stsci.edu/api/v0/_c_a_o_mfields.html). Some examples are: \"coordinates\", \"t_exptime\" (exposure time), and \"s_dec\" (source declination)."
   ]
  },
  {
   "cell_type": "code",
   "execution_count": null,
   "metadata": {},
   "outputs": [],
   "source": [
    "obsByCriteria = Observations.query_criteria(obs_collection=[\"HLA\"], s_dec=[50,60], \n",
    "                                            calib_level=[3], proposal_pi=\"Mould*\", \n",
    "                                            dataproduct_type=\"IMAGE\", t_max=[49800,49820])\n",
    "\n",
    "#obsByCriteria = Observations.query_criteria(obs_id = 'hst_05766_04_wfpc2_total_wf')"
   ]
  },
  {
   "cell_type": "code",
   "execution_count": null,
   "metadata": {
    "scrolled": false
   },
   "outputs": [],
   "source": [
    "obsByCriteria.show_in_notebook(display_length=5)"
   ]
  },
  {
   "cell_type": "markdown",
   "metadata": {},
   "source": [
    "## Getting Associated Data Products"
   ]
  },
  {
   "cell_type": "markdown",
   "metadata": {},
   "source": [
    "### Performing a Product Query\n"
   ]
  },
  {
   "cell_type": "markdown",
   "metadata": {},
   "source": [
    "Each observation returned from a MAST query can have one or more associated data products. When you input observations or observation ids (“obs_id”), `get_product_list` will return a table containing the associated data products. The product fields are documented [here](https://mast.stsci.edu/api/v0/_productsfields.html).\n",
    "\n",
    "Since we already have a list of observations, we can use that as the starting point for our query. To keep it simple, let's look at only the last observation from our search above."
   ]
  },
  {
   "cell_type": "code",
   "execution_count": null,
   "metadata": {},
   "outputs": [],
   "source": [
    "# Let's select a small subset from our critera search above\n",
    "newObsList = obsByCriteria[3:]\n",
    "\n",
    "# Now we get the list of products associated with that observation\n",
    "dataProducts = Observations.get_product_list(newObsList)"
   ]
  },
  {
   "cell_type": "code",
   "execution_count": null,
   "metadata": {
    "scrolled": false
   },
   "outputs": [],
   "source": [
    "dataProducts.show_in_notebook(display_length=5)"
   ]
  },
  {
   "cell_type": "markdown",
   "metadata": {},
   "source": [
    "### Filtering the Data Products\n",
    "\n",
    "After the data products have been retrieved, you can use `filter_products` to download only data products that meet your given criteria. Available filters are listed [here](https://mast.stsci.edu/api/v0/_productsfields.html). Some examples are: “mrp_only” (Minimum Recommended Products) and “extension” (file extension).\n",
    "\n",
    "Note: the ‘AND’ operation is performed for a list of filters, and the ‘OR’ operation is performed within a filter set."
   ]
  },
  {
   "cell_type": "code",
   "execution_count": null,
   "metadata": {},
   "outputs": [],
   "source": [
    "scienceProducts = Observations.filter_products(dataProducts, productType=[\"SCIENCE\"],\n",
    "                                               mrp_only=False)"
   ]
  },
  {
   "cell_type": "code",
   "execution_count": null,
   "metadata": {
    "scrolled": false
   },
   "outputs": [],
   "source": [
    "scienceProducts.show_in_notebook(display_length=5)"
   ]
  },
  {
   "cell_type": "markdown",
   "metadata": {},
   "source": [
    "## Downloading Products\n"
   ]
  },
  {
   "cell_type": "markdown",
   "metadata": {},
   "source": [
    "In additon to pre-filtering, `download_products` also allows you to filter data as you request the download. In this instance, we will only download the drizzled files (drz.fits).\n",
    "\n",
    "Products will by default be downloaded into the current working directory, in a subdirectory called \"mastDownload.\"<br>\n",
    "The full local file paths will have the form \"mastDownload/Mission/Observation ID/file.\"\n",
    "\n",
    "Note: `download_products` includes caching by default, so if the files have been downloaded, they will not be downloaded again unless caching is turned off."
   ]
  },
  {
   "cell_type": "code",
   "execution_count": null,
   "metadata": {
    "scrolled": true
   },
   "outputs": [],
   "source": [
    "manifest = Observations.download_products(scienceProducts, mrp_only=False,\n",
    "                                          extension=(\"drz.fits\"), cache=True)"
   ]
  },
  {
   "cell_type": "code",
   "execution_count": null,
   "metadata": {
    "scrolled": true
   },
   "outputs": [],
   "source": [
    "manifest.show_in_notebook()"
   ]
  },
  {
   "cell_type": "markdown",
   "metadata": {},
   "source": [
    "## Displaying Data"
   ]
  },
  {
   "cell_type": "markdown",
   "metadata": {},
   "source": [
    "At this point the data is ready for analysis, and we are done using `mast.astroquery`. <br>\n",
    "Below we take a look at the data files using `astropy` and `matplotlib`."
   ]
  },
  {
   "cell_type": "code",
   "execution_count": null,
   "metadata": {},
   "outputs": [],
   "source": [
    "file1 = fits.open(manifest['Local Path'][0])\n",
    "file2 = fits.open(manifest['Local Path'][1])"
   ]
  },
  {
   "cell_type": "code",
   "execution_count": null,
   "metadata": {},
   "outputs": [],
   "source": [
    "f, (ax1, ax2) = plt.subplots(1, 2)\n",
    "f.set_figheight(5)\n",
    "f.set_figwidth(12)\n",
    "ax1.imshow(file1[0].data, cmap=\"inferno\", norm=SymLogNorm(linthresh=0.03,vmin=0, vmax=1.5))\n",
    "ax2.imshow(file2['SCI'].data, cmap=\"inferno\", norm=SymLogNorm(linthresh=0.03,vmin=-0.01, vmax=1.5))"
   ]
  },
  {
   "cell_type": "markdown",
   "metadata": {},
   "source": [
    "## Further Reading\n",
    "Full documentation on **`astroquery.mast`** can be found [here](https://astroquery.readthedocs.io/en/latest/mast/mast.html)."
   ]
  },
  {
   "cell_type": "markdown",
   "metadata": {
    "collapsed": true
   },
   "source": [
    "## About this Notebook\n",
    "For additonal questions, comments, or feedback, please email `archive@stsci.edu`. \n",
    "\n",
    "**Authors:** Thomas Dutkiewicz, Scott Fleming <br>\n",
    "**Keywords:** MAST, astroquery <br>\n",
    "**Created On:** 2022-06-28 <br>\n",
    "**Next Review:** 2023-06"
   ]
  },
  {
   "cell_type": "markdown",
   "metadata": {},
   "source": [
    "[Top of Page](#top)\n",
    "<img style=\"float: right;\" src=\"https://raw.githubusercontent.com/spacetelescope/notebooks/master/assets/stsci_pri_combo_mark_horizonal_white_bkgd.png\" alt=\"Space Telescope Logo\" width=\"200px\"/> "
   ]
  }
 ],
 "metadata": {
  "kernelspec": {
   "display_name": "Python 3 (ipykernel)",
   "language": "python",
   "name": "python3"
  },
  "language_info": {
   "codemirror_mode": {
    "name": "ipython",
    "version": 3
   },
   "file_extension": ".py",
   "mimetype": "text/x-python",
   "name": "python",
   "nbconvert_exporter": "python",
   "pygments_lexer": "ipython3",
   "version": "3.9.12"
  },
  "widgets": {
   "state": {},
   "version": "1.1.2"
  }
 },
 "nbformat": 4,
 "nbformat_minor": 1
}
