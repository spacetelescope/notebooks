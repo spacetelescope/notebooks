{
 "cells": [
  {
   "cell_type": "markdown",
   "metadata": {},
   "source": [
    "# Drizzling WFPC2 Images to use a Single Zeropoint"
   ]
  },
  {
   "cell_type": "markdown",
   "metadata": {},
   "source": [
    "<div class=\"alert-danger\">Note: The notebook in this repository 'Initialization.ipynb' goes over many of the basic concepts such as the setup of the environment/package installation and should be read first if you are new to HST images, DrizzlePac, or Astroquery.</div>"
   ]
  },
  {
   "cell_type": "markdown",
   "metadata": {},
   "source": [
    "## Introduction\n",
    "\n",
    "Extra care must be taken when using `AstroDrizzle` to combine observations from detectors comprised of multiple chips of varying sensitivity. `AstroDrizzle` works with calibrated images in units of counts (electrons or Data Numbers) or count rates and not in units of flux. It assumes that all input frames can be converted to physical flux units using a single inverse-sensitivity factor, recorded in the FITS image headers as `PHOTFLAM`, and the output drizzled product simply copies the `PHOTFLAM` keyword value from the first input image. When this occurs, the inverse-sensitivity will vary across the final drizzled product, and users will need to keep track of which sources fell on which chip when doing photometry. Moreover, varying detector sensitivities will affect the cosmic-ray rejection algorithm used by `AstroDrizzle`, and this may result in the misidentification of some good pixels as cosmic rays.\n",
    "\n",
    "This is a typical situation when drizzle-combining images from HST instruments with different chip sensitivities, e.g. Wide Field and Planetary Camera 2 (WFPC2). For more detail, see the section on [Gain Variation](http://www.stsci.edu/instruments/wfpc2/Wfpc2_dhb/wfpc2_ch53.html) under 'Position-Dependent Photometric Corrections' in the WFPC2 Data Handbook. As a result, each of the four chips requires a [unique PHOTFLAM](http://www.stsci.edu/instruments/wfpc2/Wfpc2_dhb/wfpc2_ch52.html#1933986) header keyword value. A similar situation may occur when drizzle-combining observations taken over a span of several years as detector's sensitivity declines over time, see e.g. [ACS ISR 2016-03](https://doi.org/10.3847/0004-6256/152/3/60).\n",
    "\n",
    "One approach is to rescale the input data so that `AstroDrizzle` can properly assume the images/chips have the same sensitivity; that is, a single `PHOTFLAM` value can be used to convert re-scaled image counts (or count-rates) to physical _integrated_ flux units. The `photeq` task in `Drizzlepac` automates this image intensity rescaling to a single inverse-sensitivity factor `PHOTFLAM`.\n",
    "\n",
    "In this example notebook, archival WFPC2 images are used to demonstrate advanced reprocessing using `TweakReg` and `AstroDrizzle` for alignment and image combination. The notebook is based on a prior WFPC2 [example](http://www.stsci.edu/hst/HST_overview/drizzlepac/examples/example7) but includes additional information about equalizing the chip sensitivities prior to combining. \n",
    "\n",
    "**NOTE:** It is important to note that `photeq` only adjusts image counts so that _integrated_ physical fluxes can be obtained using a single `PHOTFLAM`. It does nothing to account for different throughtputs at different wavelengths."
   ]
  },
  {
   "cell_type": "code",
   "execution_count": null,
   "metadata": {},
   "outputs": [],
   "source": [
    "import shutil\n",
    "import glob\n",
    "import os\n",
    "import crds\n",
    "\n",
    "import matplotlib.pyplot as plt\n",
    "from astropy.io import fits\n",
    "\n",
    "from astroquery.mast import Observations\n",
    "from stwcs.updatewcs import updatewcs\n",
    "from drizzlepac import tweakreg, astrodrizzle, photeq\n",
    "from stsci.skypac import skymatch\n",
    "\n",
    "# ONLY needed for the simulation section:\n",
    "import numpy as np\n",
    "from stwcs.wcsutil import HSTWCS\n",
    "from drizzlepac.wfpc2Data import WFPC2_GAINS\n",
    "\n",
    "%matplotlib inline"
   ]
  },
  {
   "cell_type": "markdown",
   "metadata": {},
   "source": [
    "## 1. Download the Data\n",
    "\n",
    "This example uses WFPC2 observations of Messier 2 in the F814W filter. The data come from GO proposal [11100](http://www.stsci.edu/cgi-bin/get-proposal-info?id=11100&observatory=HST) _\"Two new 'bullets' for MOND: revealing the properties of dark matter in massive merging clusters\"_. Four images were acquired using a 4-pt dither box pattern, followed by two images offset with a dither-line pattern. \n",
    "\n",
    "The data are downloaded using the `astroquery` API to access the [MAST](http://archive.stsci.edu) archive. The `astroquery.mast` [documentation](http://astroquery.readthedocs.io/en/latest/mast/mast.html) has more examples for how to find and download data from MAST."
   ]
  },
  {
   "cell_type": "code",
   "execution_count": null,
   "metadata": {
    "scrolled": false
   },
   "outputs": [],
   "source": [
    "# Retrieve the observation information.\n",
    "if os.path.isdir('mastDownload'):\n",
    "    shutil.rmtree('mastDownload')\n",
    "obs_table = Observations.query_criteria(obs_id='ua0605*', filters='F814W', obstype='ALL')\n",
    "products = Observations.get_product_list(obs_table)\n",
    "\n",
    "# Download only the ua0605*_c0m.fits and ua0605*_c1m.fits (DQ) images:\n",
    "Observations.download_products(products, mrp_only=False, productSubGroupDescription=['C0M', 'C1M'], extension='fits')\n",
    "\n",
    "# Move the files from the mastDownload directory to the current working\n",
    "# directory and make a backup of the files.\n",
    "fits_files = glob.glob('mastDownload/HST/ua*/ua*c?m.fits')\n",
    "for fil in fits_files:\n",
    "    base_name = os.path.basename(fil)\n",
    "    if os.path.isfile(base_name):\n",
    "        os.remove(base_name)\n",
    "    shutil.move(fil, '.')\n",
    "    \n",
    "# Delete the mastDownload directory and all subdirectories it contains.\n",
    "shutil.rmtree('mastDownload')"
   ]
  },
  {
   "cell_type": "markdown",
   "metadata": {},
   "source": [
    "## 2. Update the WCS\n",
    "\n",
    "WFPC2 images downloaded from the archive contain World Coordinate System (WCS) information based on an older-style description of image distortions. Before these images can be processed with `drizzlepac`, their WCS must be converted to a new format. This can be achieved using `updatewcs()` function from the `stwcs` package. More details may be found here: ['Making WFPC2 Images Compatible with AstroDrizzle'](http://documents.stsci.edu/hst/HST_overview/documents/DrizzlePac/ch45.html#601857). Note that `updatewcs` is no longer a parameter in AstroDrizzle or TweakReg and must be run separately before processing the data. \n",
    "\n",
    "First we download the reference files from the CRDS website. See the initialization notebook in this repository for more information.  "
   ]
  },
  {
   "cell_type": "code",
   "execution_count": null,
   "metadata": {},
   "outputs": [],
   "source": [
    "os.environ['CRDS_SERVER_URL'] = 'https://hst-crds.stsci.edu'\n",
    "os.environ['CRDS_PATH'] = os.path.abspath(os.path.join('.', 'reference_files'))\n",
    "\n",
    "crds.assign_bestrefs(glob.glob(\"ua0605*_c0m.fits\"), sync_references=True, verbosity=0)\n",
    "\n",
    "os.environ['uref'] = os.path.abspath(os.path.join('.', 'reference_files', 'references', 'hst', 'wfpc2')) + os.path.sep"
   ]
  },
  {
   "cell_type": "markdown",
   "metadata": {},
   "source": [
    "**NOTE:** This next step may raise warnings because the Astrometry database is in progress and currently does not cover the entire sky. Please ignore these warnings. The WCS will still be updated.  "
   ]
  },
  {
   "cell_type": "code",
   "execution_count": null,
   "metadata": {},
   "outputs": [],
   "source": [
    "updatewcs('ua*c0m.fits', use_db=True)"
   ]
  },
  {
   "cell_type": "markdown",
   "metadata": {},
   "source": [
    "### Backup an Image\n",
    "\n",
    "In a later section we will generate simulated data to illustrate the effects of drizzling WFPC2 images without sensitivity equalization. For that purpose we will need a copy of an original image that has the original inverse-sensitivity values (`PHOTFLAM`) in their headers. Here we create a backup copy of the first image.\n",
    "\n",
    "**NOTE:** This step is needed for illustration purpose in this notebook only. It is not needed when processing data."
   ]
  },
  {
   "cell_type": "code",
   "execution_count": null,
   "metadata": {},
   "outputs": [],
   "source": [
    "orig_image = glob.glob('ua*c0m.fits')[0]\n",
    "backup_image = 'simulation.fits'\n",
    "if os.path.isfile(backup_image):\n",
    "    os.remove(backup_image)\n",
    "shutil.copy2(orig_image, backup_image)"
   ]
  },
  {
   "cell_type": "markdown",
   "metadata": {},
   "source": [
    "## 3. Align the Images\n",
    "\n",
    "Due to small pointing errors, the image header WCS typically needs to be updated in order to achieve the best drizzle-combined products. The expected pointing accuracy for various observing scenerios is summarized in the DrizzlePac Handbook [Appendix B](http://documents.stsci.edu/hst/HST_overview/documents/DrizzlePac/AppendixB2.html). Input images must first be aligned so that when the coordinates of a given object (in detector space) are converted to sky coordinates (using the WCS), that object's sky coordinates must be approximately equal in each frame. \n",
    "\n",
    "The `DrizzlePac` task `TweakReg` may be used to correct for any errors in the image header WCS. First, `TweakReg` finds sources in each image, matches sources in common across images, and finds a separate linear transformation to align each image. `TweakReg` then computes a new WCS for each image based on this linear transformation.\n",
    "\n",
    "Here we show a basic image alignment procedure. For a more detailed illustration of image alignment, please refer to other example notebooks such as the mosaic example in this repository."
   ]
  },
  {
   "cell_type": "code",
   "execution_count": null,
   "metadata": {},
   "outputs": [],
   "source": [
    "tweakreg.TweakReg('ua*c0m.fits', updatehdr=True, reusename=True, interactive=False,\n",
    "                  conv_width=3.0, threshold=300.0, peakmin=100, peakmax=10000)"
   ]
  },
  {
   "cell_type": "markdown",
   "metadata": {},
   "source": [
    "## 4. Equalize the chip sensitivities\n",
    "\n",
    "This step adjusts image data values so that all images and chips appear (to `AstroDrizzle`) to have a single inverse sensitivity (`PHOTFLAM`). This can be achieved using the `photeq` task in `Drizzlepac`. This task adjusts image data so that when these data are multiplied by the same single `PHOTFLAM` value, the correct flux is obtained."
   ]
  },
  {
   "cell_type": "code",
   "execution_count": null,
   "metadata": {},
   "outputs": [],
   "source": [
    "photeq.photeq(files='ua*_c0m.fits', ref_phot_ext=3, readonly=False)"
   ]
  },
  {
   "cell_type": "markdown",
   "metadata": {},
   "source": [
    "In the above command, we instruct `photeq` to \"equalize\" all chips of all input images using the `PHOTFLAM` for the `WF3` chip (`ref_phot_ext=3`), using the first image as a reference. This reference `PHOTFLAM` value is reported in the log file:\n",
    "\n",
    "```\n",
    "REFERENCE VALUE FROM FILE: 'ua060502m_c0m.fits['SCI',1]'\n",
    "REFERENCE 'PHOTFLAM' VALUE IS: 2.507987e-18\n",
    "```\n",
    "\n",
    "Upon the completion, `photeq` will not only adjust image data but also update `PHOTFLAM` values for all chips to this specific reference value."
   ]
  },
  {
   "cell_type": "markdown",
   "metadata": {},
   "source": [
    "## 5. Drizzle-combine the images\n",
    "\n",
    "All four chips are now drizzled together with an output pixel scale set to that of the WF chips:"
   ]
  },
  {
   "cell_type": "code",
   "execution_count": null,
   "metadata": {},
   "outputs": [],
   "source": [
    "astrodrizzle.AstroDrizzle('ua*c0m.fits',\n",
    "                          preserve=False,\n",
    "                          driz_sep_bits='8,1024',\n",
    "                          driz_sep_wcs=True,\n",
    "                          driz_sep_scale=0.0996,\n",
    "                          combine_type='median',\n",
    "                          driz_cr_snr='5.5 3.5',\n",
    "                          driz_cr_scale='2.0 1.5',\n",
    "                          final_fillval=None,\n",
    "                          final_bits='8,1024',\n",
    "                          final_wcs=True,\n",
    "                          final_scale=0.0996)"
   ]
  },
  {
   "cell_type": "code",
   "execution_count": null,
   "metadata": {},
   "outputs": [],
   "source": [
    "drz = fits.getdata('final_drz_sci.fits')\n",
    "plt.figure(figsize=(15, 15))\n",
    "plt.imshow(drz, cmap='gray', vmin=-0.1, vmax=0.5, origin='lower')"
   ]
  },
  {
   "cell_type": "markdown",
   "metadata": {},
   "source": [
    "## 6. Illustration of the Effects of Sensitivity Variation on Drizzling\n",
    "\n",
    "The effect of drizzling images with different detector sensitivies, while tangible, is sometimes difficult to _visualize_ in noisy data, especially when drizzling multiple dithered images that can blur the borders between chips.\n",
    "\n",
    "In this section we produce a simple simulation of observing a constant intensity \"blank sky\". We then make a copy of this image and apply sensitivity equalization to it. Finally we drizzle both images and compare them side-by-side."
   ]
  },
  {
   "cell_type": "markdown",
   "metadata": {},
   "source": [
    "### Simulate an Image of Constant \"Blank Sky\" Background\n",
    "\n",
    "In this simple simulation we assume only Poisson noise."
   ]
  },
  {
   "cell_type": "code",
   "execution_count": null,
   "metadata": {},
   "outputs": [],
   "source": [
    "with fits.open(backup_image, mode='update') as h:\n",
    "    # get chip inverse-sensitivity:\n",
    "    phot1 = h[1].header['PHOTFLAM']\n",
    "    phot2 = h[2].header['PHOTFLAM']\n",
    "    phot3 = h[3].header['PHOTFLAM']\n",
    "    phot4 = h[4].header['PHOTFLAM']\n",
    "    \n",
    "    # get chip WCS:\n",
    "    w1 = HSTWCS(h, ext=1)\n",
    "    w2 = HSTWCS(h, ext=2)\n",
    "    w3 = HSTWCS(h, ext=3)\n",
    "    w4 = HSTWCS(h, ext=4)\n",
    "    ref_pscale = w4.idcscale\n",
    "    \n",
    "    # get chip gain:\n",
    "    cmdgain = h[0].header['ATODGAIN']\n",
    "    gain1 = WFPC2_GAINS[1][cmdgain][0]\n",
    "    gain2 = WFPC2_GAINS[2][cmdgain][0]\n",
    "    gain3 = WFPC2_GAINS[3][cmdgain][0]\n",
    "    gain4 = WFPC2_GAINS[4][cmdgain][0]\n",
    "    \n",
    "    # final drizzle scale:\n",
    "    scale = 0.0996\n",
    "    \n",
    "    # simulated sky level (\"true\" sky is constant):\n",
    "    sky = 10 * phot3\n",
    "\n",
    "    # simulate observed counts assuming only Poisson noise:\n",
    "    conv1a = gain1 * (w1.idcscale / ref_pscale)**2 / phot1\n",
    "    conv1b = (gain4 / gain1**2) * (ref_pscale / scale)**2\n",
    "    conv2a = gain2 * (w2.idcscale / ref_pscale)**2 / phot2\n",
    "    conv2b = (gain4 / gain2**2) * (ref_pscale / scale)**2\n",
    "    conv3a = gain3 * (w3.idcscale / ref_pscale)**2 / phot3\n",
    "    conv3b = (gain4 / gain3**2) * (ref_pscale / scale)**2\n",
    "    conv4a = gain4 * (w4.idcscale / ref_pscale)**2 / phot4\n",
    "    conv4b = (1.0 / gain4) * (ref_pscale / scale)**2\n",
    "\n",
    "    h[1].data[:, :] = np.random.poisson(conv1a * sky, h[1].data.shape) * conv1b\n",
    "    h[2].data[:, :] = np.random.poisson(conv2a * sky, h[2].data.shape) * conv2b\n",
    "    h[3].data[:, :] = np.random.poisson(conv3a * sky, h[3].data.shape) * conv3b\n",
    "    h[4].data[:, :] = np.random.poisson(conv4a * sky, h[4].data.shape) * conv4b\n",
    "\n",
    "# make a copy of this file:\n",
    "photeq_image = 'simulation_eq.fits'\n",
    "if os.path.isfile(photeq_image):\n",
    "    os.remove(photeq_image)\n",
    "shutil.copy2(backup_image, photeq_image)\n",
    "\n",
    "# apply equalization to the image copy:\n",
    "photeq.photeq(files=photeq_image, ref_phot_ext=3, readonly=False)"
   ]
  },
  {
   "cell_type": "markdown",
   "metadata": {},
   "source": [
    "### Drizzle the Original Simulated Image and the Equalized Image"
   ]
  },
  {
   "cell_type": "code",
   "execution_count": null,
   "metadata": {},
   "outputs": [],
   "source": [
    "astrodrizzle.AstroDrizzle(\n",
    "    backup_image,\n",
    "    output='nonequalized.fits',\n",
    "    stepsize=1,\n",
    "    preserve=False,\n",
    "    restore=False,\n",
    "    in_memory=True,\n",
    "    context=False,\n",
    "    build=False,\n",
    "    static=False,\n",
    "    skysub=False,\n",
    "    median=False,\n",
    "    blot=False,\n",
    "    driz_cr=False,\n",
    "    final_fillval=None,\n",
    "    final_bits='',\n",
    "    final_wcs=True,\n",
    "    final_scale=scale)\n",
    "\n",
    "astrodrizzle.AstroDrizzle(\n",
    "    photeq_image,\n",
    "    output='equalized.fits',\n",
    "    stepsize=1,\n",
    "    preserve=False,\n",
    "    restore=False,\n",
    "    in_memory=True,\n",
    "    context=False,\n",
    "    build=False,\n",
    "    static=False,\n",
    "    skysub=False,\n",
    "    median=False,\n",
    "    blot=False,\n",
    "    driz_cr=False,\n",
    "    final_fillval=None,\n",
    "    final_bits='',\n",
    "    final_wcs=True,\n",
    "    final_scale=scale)"
   ]
  },
  {
   "cell_type": "markdown",
   "metadata": {},
   "source": [
    "### Display The Results of the Simulation Side-by-Side"
   ]
  },
  {
   "cell_type": "code",
   "execution_count": null,
   "metadata": {},
   "outputs": [],
   "source": [
    "drz_noneq = fits.getdata('nonequalized_sci.fits')\n",
    "drz_eq = fits.getdata('equalized_sci.fits')\n",
    "\n",
    "fig, (ax1, ax2) = plt.subplots(ncols=2, figsize=(24, 10))\n",
    "im1 = ax1.imshow(drz_noneq, cmap='gray', vmin=0.88, vmax=1.08, origin='lower')\n",
    "ax1.set_title('Original Simulation (Not equalized)')\n",
    "im2 = ax2.imshow(drz_eq, cmap='gray', vmin=0.88, vmax=1.08, origin='lower')\n",
    "ax2.set_title('Equalized Simulated Image')\n",
    "\n",
    "x1 = ax1.get_position().get_points().flatten()[0]\n",
    "x2 = ax2.get_position().get_points().flatten()[2] - x1\n",
    "ax_cbar = fig.add_axes([x1, 0, x2, 0.03])\n",
    "plt.colorbar(im1, cax=ax_cbar, orientation='horizontal')"
   ]
  },
  {
   "cell_type": "markdown",
   "metadata": {},
   "source": [
    "# About this Notebook\n",
    "\n",
    "    Author: M. Cara, STScI Data Analysis Tools Branch\n",
    "    Updated: December 14, 2018\n",
    "    Updated: June 23, 2018"
   ]
  }
 ],
 "metadata": {
  "kernelspec": {
   "display_name": "Python 3",
   "language": "python",
   "name": "python3"
  },
  "language_info": {
   "codemirror_mode": {
    "name": "ipython",
    "version": 3
   },
   "file_extension": ".py",
   "mimetype": "text/x-python",
   "name": "python",
   "nbconvert_exporter": "python",
   "pygments_lexer": "ipython3",
   "version": "3.7.6"
  }
 },
 "nbformat": 4,
 "nbformat_minor": 2
}
