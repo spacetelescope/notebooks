{
 "cells": [
  {
   "cell_type": "markdown",
   "metadata": {},
   "source": [
    "# Sky Matching "
   ]
  },
  {
   "cell_type": "markdown",
   "metadata": {},
   "source": [
    "<div class=\"alert-danger\">Note: The notebook in this repository 'Initialization.ipynb' goes over many of the basic concepts such as the setup of the environment/package installation and should be read first if you are new to HST images, DrizzlePac, or Astroquery.</div>"
   ]
  },
  {
   "cell_type": "markdown",
   "metadata": {},
   "source": [
    "## Introduction\n",
    "\n",
    "When a user decided to mosaic several images it can be difficult to decide how to relate the background of one image to the others. AstroDrizzle has the ability to compute and then either subtract or equalize the background in input images in order to match the sky between those images. The function allows users to select the algorithm for the sky subtraction using the `skymethod` parameter. \n",
    "\n",
    "There are four methods available in sky matching: 'localmin', 'match', 'globalmin', 'globalmin+match'.\n",
    "\n",
    "By applying `drizzlepac.sky.sky()`, or by applying the `skymethod` parameter in the call to `drizzlepac.astrodrizzle.AstroDrizzle()`, AstroDrizzle will update the keyword `MDRIZSKY` in the headers of the input files. \n",
    "\n",
    "The **recommended** use for images with sparse fields that have few astronomical sources is `skymethod = localmin` and for images with complicated backgrounds, such as nebulae and large host galaxies, `skymethod = match` is recommended.\n",
    "\n",
    "For more information on the specifics of this function please refer to the documentation [here](https://drizzlepac.readthedocs.io/en/deployment/sky.html#drizzlepac.sky.sky).\n",
    "\n",
    "Below, each of the four methods will be demonstrated using a single example dataset, and differences between the methods will be highlighted. "
   ]
  },
  {
   "cell_type": "code",
   "execution_count": null,
   "metadata": {},
   "outputs": [],
   "source": [
    "# All imports needed through out this notebook are included at the beginning. \n",
    "import glob\n",
    "import os\n",
    "import shutil\n",
    "from shutil import copyfile\n",
    "\n",
    "from astropy.io import fits\n",
    "from astropy.visualization import astropy_mpl_style\n",
    "from astroquery.mast import Observations\n",
    "from ccdproc import ImageFileCollection\n",
    "from IPython.display import Image\n",
    "import matplotlib.pyplot as plt\n",
    "import pandas as pd\n",
    "\n",
    "import drizzlepac\n",
    "from drizzlepac import tweakreg\n",
    "from drizzlepac import tweakback\n",
    "from stwcs import updatewcs "
   ]
  },
  {
   "cell_type": "markdown",
   "metadata": {},
   "source": [
    "## 1. Retrieve Observations using Astroquery"
   ]
  },
  {
   "cell_type": "markdown",
   "metadata": {},
   "source": [
    "WFC3/IR observations of the Horsehead Nebula obtained in HST proposal 12812 (PI: Levay) will be used for this demonstration. The images have been processed by the HST WFC3 pipeline (calwf3), which includes bias subtraction, dark current correction, cosmic-ray rejection, and flatfielding.\n",
    "\n",
    "The alignment specifics for this example are based on the example found [here](https://archive.stsci.edu/prepds/heritage/horsehead/readme_HLSP_v3.txt). We will provide explanation about the process as we go. \n",
    "\n",
    "The code used to retrieve the data from astroquery is below."
   ]
  },
  {
   "cell_type": "code",
   "execution_count": null,
   "metadata": {
    "scrolled": false
   },
   "outputs": [],
   "source": [
    "# Retrieve the observation information.\n",
    "obs_table = Observations.query_criteria(proposal_id='12812', filters=[\"F160W\"], project='HST')\n",
    "obs_table.show_in_notebook()\n",
    "\n",
    "# Figure out the downloadable products:\n",
    "dataProductsByObservation = Observations.get_product_list(obs_table)\n",
    "dataProductsByObservation.show_in_notebook()\n",
    "\n",
    "# Download the flc.fits files: \n",
    "obsids = obs_table['obsid']\n",
    "\n",
    "# Download the data - uncomment to download: \n",
    "Observations.download_products(obsids, mrp_only=False, productSubGroupDescription=['FLT', 'DRZ'])"
   ]
  },
  {
   "cell_type": "markdown",
   "metadata": {},
   "source": [
    "### Move files to the local directory "
   ]
  },
  {
   "cell_type": "code",
   "execution_count": null,
   "metadata": {},
   "outputs": [],
   "source": [
    "flt_files = glob.glob('mastDownload/*/*/*flt.fits')\n",
    "\n",
    "for file in flt_files:\n",
    "    im = fits.open(file)\n",
    "    rootname = im[0].header['ROOTNAME']\n",
    "    im.close()\n",
    "    dst = rootname + \"_flt.fits\"\n",
    "    copyfile(file, dst)\n",
    "\n",
    "drz_files = glob.glob('mastDownload/*/*/*drz.fits')\n",
    "\n",
    "for file in drz_files:\n",
    "    im = fits.open(file)\n",
    "    rootname = im[0].header['ROOTNAME']\n",
    "    im.close()\n",
    "    dst = rootname + \"_drz.fits\"\n",
    "    copyfile(file, dst)"
   ]
  },
  {
   "cell_type": "markdown",
   "metadata": {},
   "source": [
    "### Inspect the image headers"
   ]
  },
  {
   "cell_type": "code",
   "execution_count": null,
   "metadata": {},
   "outputs": [],
   "source": [
    "collect_flt = ImageFileCollection('./', glob_include=\"*flt.fits\", ext=0,\n",
    "                                  keywords=[\"asn_id\", \"detector\", \"filter\", \"exptime\", \"postarg1\", \"postarg2\"])\n",
    "    \n",
    "flt_table = collect_flt.summary\n",
    "flt_table['exptime'].format = '7.1f'\n",
    "flt_table['postarg1'].format = '7.2f'\n",
    "flt_table['postarg2'].format = '7.2f'\n",
    "flt_table"
   ]
  },
  {
   "cell_type": "code",
   "execution_count": null,
   "metadata": {},
   "outputs": [],
   "source": [
    "collect_drz = ImageFileCollection('./', glob_include=\"*drz.fits\", ext=0,\n",
    "                                  keywords=[\"asn_id\", \"detector\", \"filter\", \"exptime\"])\n",
    "    \n",
    "drz_table = collect_drz.summary\n",
    "drz_table['exptime'].format = '7.1f'\n",
    "drz_table"
   ]
  },
  {
   "cell_type": "markdown",
   "metadata": {},
   "source": [
    "## 2. Align the visit-level drizzled data"
   ]
  },
  {
   "cell_type": "markdown",
   "metadata": {},
   "source": [
    "Exposures obtained within a single HST visit tend to be aligned very well since they use the same guide stars. Thus, we will use TweakReg to align the DRZ files and then use TweakBack to propagate those solutions back to the FLT image headers prior to combining with AstroDrizzle. Making use of the parameter `expand_refcat`, TweakReg will build up an expanded reference catalog on the sky to be used for alignment. For this dataset, we obtain the best results when we tell TweakReg to align the DRZ files in a specific order, and this is achieved by giving a list of files as input. More details on alignment of HST mosaics can be found in the notebook 'mosaics.ipynb' in this repository.\n",
    "    \n",
    "    drz.list\n",
    "    ibxl54030_drz.fits\t<-- Note that tile 54 is the reference and is listed first\n",
    "    ibxl51030_drz.fits  \n",
    "    ibxl53030_drz.fits\n",
    "    ibxl55030_drz.fits\n",
    "    ibxl57030_drz.fits\n",
    "    ibxl50030_drz.fits\n",
    "    ibxl52030_drz.fits\n",
    "    ibxl56030_drz.fits\n",
    "    ibxl58030_drz.fits\n",
    "      ____ ____ ____\n",
    "     |    |    |    |    <-- The 4 tiles with the most overlap are aligned first\n",
    "     |    | 55 |    |\n",
    "     |____|____|____|\n",
    "     |    |    |    |\n",
    "     | 57 | 54 | 51 |\n",
    "     |____|____|____|\n",
    "     |    |    |    |\n",
    "     |    | 53 |    |\n",
    "     |____|____|____|\n",
    "   \n",
    "      ____ ____ ____\n",
    "     |    |    |    |    <-- Then the corner tiles are added \n",
    "     | 58 |    | 52 |\n",
    "     |____|____|____|\n",
    "     |    |    |    |\n",
    "     |    |    |    |\n",
    "     |____|____|____|\n",
    "     |    |    |    |\n",
    "     | 56 |    | 50 |\n",
    "     |____|____|____|\n",
    "\n",
    "This allows TweakReg to start with the tiles with the most overlap first and then build upon that, expanding the reference catalog as each new tile is aligned. "
   ]
  },
  {
   "cell_type": "code",
   "execution_count": null,
   "metadata": {},
   "outputs": [],
   "source": [
    "tweakreg.TweakReg('@drz.list', \n",
    "                  imagefindcfg={'threshold': 10, 'conv_width': 4.5, 'peakmin': 1}, \n",
    "                  minobj=5, \n",
    "                  shiftfile=True, \n",
    "                  expand_refcat=True, \n",
    "                  enforce_user_order=True, \n",
    "                  outshifts='shift4_drc.txt',\n",
    "                  searchrad=3.0,\n",
    "                  ylimit=0.5, \n",
    "                  updatehdr=True, \n",
    "                  interactive=False)"
   ]
  },
  {
   "cell_type": "markdown",
   "metadata": {},
   "source": [
    "Tweakback is then run on the aligned DRZ files to propogate the updated WCS information back to the FLT files."
   ]
  },
  {
   "cell_type": "code",
   "execution_count": null,
   "metadata": {},
   "outputs": [],
   "source": [
    "drz_files = glob.glob('i*_drz.fits')\n",
    "\n",
    "for f in drz_files:\n",
    "    tweakback.tweakback(f, verbose=True)"
   ]
  },
  {
   "cell_type": "markdown",
   "metadata": {},
   "source": [
    "## 3. Compare  `skymethod` options in AstroDrizzle"
   ]
  },
  {
   "cell_type": "markdown",
   "metadata": {},
   "source": [
    "### `skymethod = 'localmin'`"
   ]
  },
  {
   "cell_type": "markdown",
   "metadata": {},
   "source": [
    "When using AstroDrizzle to compute the sky in each frame, 'localmin' will compute a common sky for all members of an exposure, as described [here](https://drizzlepac.readthedocs.io/en/deployment/sky.html#drizzlepac.sky.sky). This algorithm is recommended when images are dominated by blank sky instead of extended, diffuse sources.\n",
    "\n",
    "For a typical use, it will compute sky values for each chip/image extension (marked for sky subtraction in the input parameter) in an input image, and it will subtract the previously found minimum sky value from all chips in that image. This process is repeated for each input image.\n",
    "\n",
    "In the command below, the aligned FLT frames are sky subtracted and drizzled together. Because the WFC3/IR data products are already cleaned of cosmic rays during calwf3 processing, cosmic-ray rejection is turned off in AstroDrizzle by setting the parameters `driz_separate`, `median`, `blot`, and `driz_cr` to 'False'."
   ]
  },
  {
   "cell_type": "code",
   "execution_count": null,
   "metadata": {},
   "outputs": [],
   "source": [
    "drizzlepac.astrodrizzle.AstroDrizzle('*flt.fits', \n",
    "                                     output='f160w_localmin',\n",
    "                                     preserve=False, \n",
    "                                     skymethod='localmin', \n",
    "                                     driz_separate=False, \n",
    "                                     median=False, \n",
    "                                     blot=False, \n",
    "                                     driz_cr=False, \n",
    "                                     final_bits='16',\n",
    "                                     final_wcs=True, \n",
    "                                     final_rot=257.)"
   ]
  },
  {
   "cell_type": "markdown",
   "metadata": {},
   "source": [
    "### `skymethod = 'match'`"
   ]
  },
  {
   "cell_type": "markdown",
   "metadata": {},
   "source": [
    "When `skymethod` is set to ‘match’, differences in sky values between images in common sky regions will be computed. Thus, sky values will be relative (delta) to the sky computed in one of the input images whose sky value will be set to and reported as 0. This setting “equalizes” sky values between the images in large mosaics. \n",
    "\n",
    "This is the **recommended** setting for images containing diffuse sources (e.g., galaxies, nebulae) covering significant parts of the image."
   ]
  },
  {
   "cell_type": "code",
   "execution_count": null,
   "metadata": {},
   "outputs": [],
   "source": [
    "drizzlepac.astrodrizzle.AstroDrizzle('*flt.fits', \n",
    "                                     output='f160w_match',\n",
    "                                     preserve=False, \n",
    "                                     skymethod='match',\n",
    "                                     driz_separate=False, \n",
    "                                     median=False, \n",
    "                                     blot=False, \n",
    "                                     driz_cr=False, \n",
    "                                     final_bits='16',\n",
    "                                     final_wcs=True, \n",
    "                                     final_rot=257.)"
   ]
  },
  {
   "cell_type": "markdown",
   "metadata": {},
   "source": [
    "### `skymethod = 'globalmin+match'`"
   ]
  },
  {
   "cell_type": "markdown",
   "metadata": {},
   "source": [
    "When `skymethod` is set to ‘globalmin+match', AstroDrizzle will first find a minimum “global” sky value in all input images and then use the ‘match’ method to equalize sky values between images."
   ]
  },
  {
   "cell_type": "code",
   "execution_count": null,
   "metadata": {},
   "outputs": [],
   "source": [
    "drizzlepac.astrodrizzle.AstroDrizzle('*flt.fits', \n",
    "                                     output='f160w_globalmin_match',\n",
    "                                     preserve=False, \n",
    "                                     skymethod='globalmin+match',\n",
    "                                     driz_separate=False, \n",
    "                                     median=False, \n",
    "                                     blot=False, \n",
    "                                     driz_cr=False, \n",
    "                                     final_bits='16',\n",
    "                                     final_wcs=True, \n",
    "                                     final_rot=257.)"
   ]
  },
  {
   "cell_type": "markdown",
   "metadata": {},
   "source": [
    "### `skymethod = 'globalmin'`"
   ]
  },
  {
   "cell_type": "markdown",
   "metadata": {},
   "source": [
    "When `skymethod` is set to ‘globalmin’, a common sky value will be computed for all exposures. AstroDrizzle will compute sky values for each chip/image extension, find the minimum sky value from all the exposures, and then subtract that minimum sky value from all chips in all images. \n",
    "\n",
    "This method may be useful when input images already have matched background values."
   ]
  },
  {
   "cell_type": "code",
   "execution_count": null,
   "metadata": {},
   "outputs": [],
   "source": [
    "drizzlepac.astrodrizzle.AstroDrizzle('*flt.fits', \n",
    "                                     output='f160w_globalmin',     \n",
    "                                     preserve=False,\n",
    "                                     skymethod='globalmin',     \n",
    "                                     driz_separate=False, \n",
    "                                     median=False, \n",
    "                                     blot=False, \n",
    "                                     driz_cr=False, \n",
    "                                     final_bits='16',\n",
    "                                     final_wcs=True, \n",
    "                                     final_rot=257.)"
   ]
  },
  {
   "cell_type": "markdown",
   "metadata": {},
   "source": [
    "## 4. Compare the MDRIZSKY values for each method"
   ]
  },
  {
   "cell_type": "markdown",
   "metadata": {},
   "source": [
    "Below we provide a gif comparing the upper portion of the final drizzled image. We cycle through three of the versions that use different `skymethod` algorithms:  \n",
    "\n",
    "![SegmentLocal](labeled_local_globalmatch_match.gif)"
   ]
  },
  {
   "cell_type": "markdown",
   "metadata": {},
   "source": [
    "Below is the code used to compare results from the various skymatching methods. It's best practice to use more compact for loops when possible in situations like this, but we wanted to write out each file to ensure we are gathering the proper `MDRIZSKY` values for each `skymethod` run. We also display a table (Pandas DataFrame) of the different sky matching `MDRIZSKY` values for comparison."
   ]
  },
  {
   "cell_type": "code",
   "execution_count": null,
   "metadata": {},
   "outputs": [],
   "source": [
    "# This is a quick method of opening our different results and gathering the `MDRIZSKY` values: \n",
    "im = fits.open(\"f160w_globalmin_drz_sci.fits\")\n",
    "rootname = im[1].data['ROOTNAME']\n",
    "asn_id = im[1].data['ASN_ID']\n",
    "orientat = im[1].data['ORIENTAT']\n",
    "mdrizsky = im[1].data['MDRIZSKY']\n",
    "im.close()\n",
    "\n",
    "im = fits.open(\"f160w_globalmin_match_drz_sci.fits\")\n",
    "globalmatchrootname = im[1].data['ROOTNAME']\n",
    "asn_id = im[1].data['ASN_ID']\n",
    "orientat = im[1].data['ORIENTAT']\n",
    "globalmatchmdrizsky = im[1].data['MDRIZSKY']\n",
    "im.close()\n",
    "\n",
    "im = fits.open(\"f160w_match_drz_sci.fits\")\n",
    "matchrootname = im[1].data['ROOTNAME']\n",
    "asn_id = im[1].data['ASN_ID']\n",
    "orientat = im[1].data['ORIENTAT']\n",
    "matchmdrizsky = im[1].data['MDRIZSKY']\n",
    "im.close()\n",
    "\n",
    "im = fits.open(\"f160w_localmin_drz_sci.fits\")\n",
    "localrootname = im[1].data['ROOTNAME']\n",
    "asn_id = im[1].data['ASN_ID']\n",
    "orientat = im[1].data['ORIENTAT']\n",
    "localmdrizsky = im[1].data['MDRIZSKY']\n",
    "im.close()\n",
    "\n",
    "mdrizsky_val = pd.DataFrame(\n",
    "    {'Rootname': rootname,\n",
    "     'globalmin': mdrizsky,\n",
    "     'globalmin_match': globalmatchmdrizsky,\n",
    "     'match': matchmdrizsky,\n",
    "     'local': localmdrizsky})\n",
    "\n",
    "mdrizsky_val"
   ]
  },
  {
   "cell_type": "markdown",
   "metadata": {},
   "source": [
    "These computed sky values can be visualized in the plot below. To reiterate, the MDRIZSKY keyword reports the value subtracted from each image, and not the sky level itself. Thus the values for `skymethod='match'` are close to zero. We also note that varying background levels across the individual tiles result in inaccurate sky background determination when `skymethod='match'` and thus a mismatched sky in the final mosaic."
   ]
  },
  {
   "cell_type": "code",
   "execution_count": null,
   "metadata": {},
   "outputs": [],
   "source": [
    "index = mdrizsky_val.index.tolist()\n",
    "globalmin = list(mdrizsky_val['globalmin'])\n",
    "globalmin_match = list(mdrizsky_val['globalmin_match'])\n",
    "match = list(mdrizsky_val['match'])\n",
    "local = list(mdrizsky_val['local'])\n",
    "\n",
    "#Plotting code: \n",
    "fig = plt.figure(figsize=[10,10])\n",
    "plt.scatter(index, globalmin_match, color='magenta', label='Globalmin + Match')\n",
    "plt.scatter(index, match, color='navy', label='Match')\n",
    "plt.scatter(index, local, color='olive', label='Local')\n",
    "plt.scatter(index, globalmin, color = 'orange', label='Globalmin')\n",
    "plt.xlabel('Individual Images')\n",
    "plt.ylabel('MDRIZSKY Value')\n",
    "plt.legend(loc=\"center left\")\n",
    "plt.xticks(index)\n",
    "plt.tight_layout()"
   ]
  },
  {
   "cell_type": "markdown",
   "metadata": {},
   "source": [
    "## 5. Display the full 'matched' mosaic "
   ]
  },
  {
   "cell_type": "code",
   "execution_count": null,
   "metadata": {},
   "outputs": [],
   "source": [
    "sci = fits.getdata('f160w_match_drz_sci.fits')\n",
    "fig = plt.figure(figsize=(14, 14))\n",
    "plt.imshow(sci, vmin=-0.4, vmax=3, cmap='Greys_r', origin='lower')"
   ]
  },
  {
   "cell_type": "markdown",
   "metadata": {},
   "source": [
    "# About this Notebook\n",
    "\n",
    "    Author: C. Martlin, STScI WFC3 Team  \n",
    "    Updated: December, 14 2018"
   ]
  }
 ],
 "metadata": {
  "kernelspec": {
   "display_name": "Python 3",
   "language": "python",
   "name": "python3"
  },
  "language_info": {
   "codemirror_mode": {
    "name": "ipython",
    "version": 3
   },
   "file_extension": ".py",
   "mimetype": "text/x-python",
   "name": "python",
   "nbconvert_exporter": "python",
   "pygments_lexer": "ipython3",
   "version": "3.7.4"
  }
 },
 "nbformat": 4,
 "nbformat_minor": 2
}
