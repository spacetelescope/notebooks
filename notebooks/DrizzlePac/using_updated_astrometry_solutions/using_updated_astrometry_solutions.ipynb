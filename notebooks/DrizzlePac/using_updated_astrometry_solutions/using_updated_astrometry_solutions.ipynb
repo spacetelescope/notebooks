{
 "cells": [
  {
   "cell_type": "markdown",
   "metadata": {},
   "source": [
    "# Using updated astrometry solutions"
   ]
  },
  {
   "cell_type": "markdown",
   "metadata": {},
   "source": [
    "As part of an effort to improve the absolute astrometry of HST images, STScI has created multiple new astrometric solutions for ACS and WFC3 images.  These solutions are contained in the World Coordinate System (WCS) of the images, as well as headerlet extesions.  This notebook provides an example workflow showing how to use/change to a different solution."
   ]
  },
  {
   "cell_type": "markdown",
   "metadata": {},
   "source": [
    "The solutions are contained in the exposure files (`flt.fits` and `flc.fits`), so no extra files are required.  However, these updates were implemented in December 2019 as a part of HST Data Processing version 2019.5.  If data were downloaded before that, they can either be redownloaded (and will contain the new solutions) from mast.stsci.edu or via astroquery, or can be updated by connecting to the database cotaining solutions (shown below).\n",
    "\n",
    "For more information, see the overview page here: https://outerspace.stsci.edu/pages/viewpage.action?spaceKey=HAdP&title=Improvements+in+HST+Astrometry\n"
   ]
  },
  {
   "cell_type": "markdown",
   "metadata": {},
   "source": [
    "<div class=\"alert alert-block alert-info\">\n",
    "<b>REQUIREMENT:</b> This notebook was designed around using stwcs version 1.5.3, and python version 3.6.  If versions older than this are used <b>the software will likely not work</b>!\n",
    "</div>"
   ]
  },
  {
   "cell_type": "markdown",
   "metadata": {},
   "source": [
    "<div class=\"alert alert-block alert-warning\">\n",
    "<b>NOTE:</b> The new solutions are used by default by the MAST pipeline!  Some datasets may have certain solutions  such as fitting to Gaia DR2, though other datasets (even in the same visit) may not!  Thus, it is crucial to check the which solution (WCS) is active!  The easiest way to check which solution is active is to check the WCSNAME keyword in the header of the SCI extensions.\n",
    "</div>"
   ]
  },
  {
   "cell_type": "markdown",
   "metadata": {},
   "source": [
    "# Table Of Contents\n",
    "\n",
    " 0. [Example Data Download](#0.-Example-Data-Download)\n",
    " 1.  [New Extensions on FITS Files](#1.-New-extensions-on-fits-files)\n",
    " 2. [Exploring different solutions](2.-Exploring-different-solutions)\n",
    " 3. [Applying a headerlet to the science extensions](#3.-Applying-a-headerlet-to-the-science-extensions)\n",
    " 4. [Restoring the \"old\" solution](#4.-Restoring-the-\"old\"-solution)\n",
    " 5. [Inspecting alignment](#5.-Inspecting-alignment-(optional))\n",
    " 6. [Changing the WCS of drizzled images](#6.-Changing-the-WCS-of-drizzled-images)"
   ]
  },
  {
   "cell_type": "code",
   "execution_count": null,
   "metadata": {},
   "outputs": [],
   "source": [
    "import glob\n",
    "import numpy as np\n",
    "import os\n",
    "import shutil\n",
    "import subprocess \n",
    "\n",
    "from astropy.io import fits\n",
    "from astropy.table import Table\n",
    "from astroquery.mast import Observations\n",
    "from stwcs.wcsutil import headerlet\n",
    "from stwcs import updatewcs"
   ]
  },
  {
   "cell_type": "markdown",
   "metadata": {},
   "source": [
    "Because some steps in this notebook require access to reference files, we will create a temporary 'iref' directory here to place these reference files after download. This step is typically done by defining the 'iref' path in your bash profile so that all reference files for all datasets can be in one static location, but for the portability of this notebook we will just create a temporary directory. Please see the ['Initalization' notebook](../Initialization/Initialization.ipynb) for more information."
   ]
  },
  {
   "cell_type": "code",
   "execution_count": null,
   "metadata": {},
   "outputs": [],
   "source": [
    "os.environ['CRDS_SERVER_URL'] = 'https://hst-crds.stsci.edu'\n",
    "os.environ['CRDS_PATH'] = os.path.abspath(os.path.join('.', 'reference_files'))\n",
    "\n",
    "os.environ['iref'] = os.path.abspath(os.path.join('.', 'reference_files', 'references', 'hst', 'wfc3')) + os.path.sep"
   ]
  },
  {
   "cell_type": "markdown",
   "metadata": {},
   "source": [
    "## 0. Example Data Download"
   ]
  },
  {
   "cell_type": "markdown",
   "metadata": {},
   "source": [
    "Lets find some example HST data from MAST and download it:"
   ]
  },
  {
   "cell_type": "code",
   "execution_count": null,
   "metadata": {},
   "outputs": [],
   "source": [
    "obsTable = Observations.query_criteria(project='HST',proposal_id='14689',obs_id='ID7307030')\n",
    "products = Observations.get_product_list(obsTable)\n",
    "filtered_products = Observations.filter_products(products, mrp_only=False, productSubGroupDescription=['FLC', 'ASN'])\n",
    "filtered_products"
   ]
  },
  {
   "cell_type": "code",
   "execution_count": null,
   "metadata": {},
   "outputs": [],
   "source": [
    "dl_tbl = Observations.download_products(filtered_products, mrp_only=False)\n",
    "dl_tbl"
   ]
  },
  {
   "cell_type": "markdown",
   "metadata": {},
   "source": [
    "Now to make the paths easier to work with, lets move those files from their default download locations into the same location as this notebook:"
   ]
  },
  {
   "cell_type": "code",
   "execution_count": null,
   "metadata": {},
   "outputs": [],
   "source": [
    "for f in dl_tbl['Local Path']:\n",
    "    filename = os.path.split(f)[-1]\n",
    "    if not os.path.exists(filename):\n",
    "        shutil.move(f, '.')"
   ]
  },
  {
   "cell_type": "markdown",
   "metadata": {},
   "source": [
    "And then download all of the necessary reference files for the images using CRDS (this uses the CRDS paths defined at the top of the notebook, although you would probably want to use a different path for your own data as described above):"
   ]
  },
  {
   "cell_type": "code",
   "execution_count": null,
   "metadata": {},
   "outputs": [],
   "source": [
    "for row in filtered_products:\n",
    "    if row['productSubGroupDescription'] == 'FLC':\n",
    "        subprocess.check_output('crds bestrefs --files {}_flc.fits --sync-references=1 --update-bestrefs'.format(row['obs_id']), \\\n",
    "                                shell=True, stderr=subprocess.DEVNULL)\n"
   ]
  },
  {
   "cell_type": "markdown",
   "metadata": {},
   "source": [
    "## 1. New extensions on fits files"
   ]
  },
  {
   "cell_type": "markdown",
   "metadata": {},
   "source": [
    "Using `fits.info` prints basic information about the extensions in a fits file.  In the following examples, we will show operations for one file, though performing the same operations for multiple files simply requires looping."
   ]
  },
  {
   "cell_type": "code",
   "execution_count": null,
   "metadata": {},
   "outputs": [],
   "source": [
    "filename = 'id7307xfq_flc.fits'"
   ]
  },
  {
   "cell_type": "markdown",
   "metadata": {},
   "source": [
    "If no extensions named `HDRLET` appear, then solutions can be downloaded from the database (if available) and automatically appended to the fits files using the following command:"
   ]
  },
  {
   "cell_type": "code",
   "execution_count": null,
   "metadata": {},
   "outputs": [],
   "source": [
    "updatewcs.updatewcs(filename, use_db=True)"
   ]
  },
  {
   "cell_type": "markdown",
   "metadata": {},
   "source": [
    "The updated solutions should then show up as extra `HDRLET` extensions"
   ]
  },
  {
   "cell_type": "code",
   "execution_count": null,
   "metadata": {},
   "outputs": [],
   "source": [
    "fits.info(filename)"
   ]
  },
  {
   "cell_type": "markdown",
   "metadata": {},
   "source": [
    "As seen above, there are new `HDRLET` extensions in the fits files (compared to the pre-2019.3 products).  These extensions each contain information used to construct a World Coordinate System (WCS), which is used to transform image coordinates into physical (sky) coordinates.  Each of these WCS's represent an astrometric solution derived in a different way."
   ]
  },
  {
   "cell_type": "markdown",
   "metadata": {},
   "source": [
    "## 2. Exploring different solutions"
   ]
  },
  {
   "cell_type": "markdown",
   "metadata": {},
   "source": [
    "Each HDRLET extension contains information describing the solution used in its creation. To investigate this we first programmatically obtain the extension numbers of the HDRLETs."
   ]
  },
  {
   "cell_type": "code",
   "execution_count": null,
   "metadata": {},
   "outputs": [],
   "source": [
    "ext_indices = headerlet.find_headerlet_HDUs(filename, strict=False)\n",
    "\n",
    "# To show it's consistent with the fits.info from above\n",
    "print(ext_indices)"
   ]
  },
  {
   "cell_type": "markdown",
   "metadata": {},
   "source": [
    "We can then loop through these extensions to see what the WCS solutions are."
   ]
  },
  {
   "cell_type": "code",
   "execution_count": null,
   "metadata": {},
   "outputs": [],
   "source": [
    "hdu = fits.open(filename)\n",
    "print('Ext\\tWCSNAME')\n",
    "for ext_ind in ext_indices:\n",
    "    print(ext_ind, '\\t', hdu[ext_ind].header['WCSNAME'])\n",
    "\n",
    "hdu.close()"
   ]
  },
  {
   "cell_type": "markdown",
   "metadata": {},
   "source": [
    "Alternatively, we can use `get_headerlet_kw_names`:"
   ]
  },
  {
   "cell_type": "code",
   "execution_count": null,
   "metadata": {},
   "outputs": [],
   "source": [
    "new_wcsnames = headerlet.get_headerlet_kw_names(filename, kw='WCSNAME')\n",
    "new_wcsnames"
   ]
  },
  {
   "cell_type": "markdown",
   "metadata": {},
   "source": [
    "We can write this into a convenience function:"
   ]
  },
  {
   "cell_type": "code",
   "execution_count": null,
   "metadata": {},
   "outputs": [],
   "source": [
    "def get_hdrlet_wcsnames(filename):\n",
    "    \"\"\"Print and return list of WCS names in HDRLET extensions of fits file\"\"\"\n",
    "    hdu = fits.open(filename)\n",
    "    ext_indices = headerlet.find_headerlet_HDUs(filename, strict=False)\n",
    "\n",
    "    print('Ext\\tWCSNAME')\n",
    "    new_wcsnames = []\n",
    "    for ext_ind in ext_indices:\n",
    "        name = hdu[ext_ind].header['WCSNAME']\n",
    "        print(ext_ind, '\\t', name)\n",
    "        new_wcsnames.append(name)\n",
    "        \n",
    "    hdu.close()\n",
    "    return new_wcsnames"
   ]
  },
  {
   "cell_type": "code",
   "execution_count": null,
   "metadata": {},
   "outputs": [],
   "source": [
    "new_wcsnames = get_hdrlet_wcsnames(filename)"
   ]
  },
  {
   "cell_type": "markdown",
   "metadata": {},
   "source": [
    "We can also see which solution is the \"active\" solution (the one currently applied to the SCI extensions):"
   ]
  },
  {
   "cell_type": "code",
   "execution_count": null,
   "metadata": {},
   "outputs": [],
   "source": [
    "current_wcs = fits.getval(filename, 'WCSNAME', ext=('SCI', 1))\n",
    "\n",
    "print(current_wcs)"
   ]
  },
  {
   "cell_type": "markdown",
   "metadata": {},
   "source": [
    "The nature of each solution is described here: https://drizzlepac.readthedocs.io/en/latest/astrometry.html#interpreting-wcs-names"
   ]
  },
  {
   "cell_type": "markdown",
   "metadata": {},
   "source": [
    "## 3. Applying a headerlet to the science extensions"
   ]
  },
  {
   "cell_type": "markdown",
   "metadata": {},
   "source": [
    "To apply/activate one of the other solutions, the `restore_from_headerlet()` function can be used.  This function applies the WCS contained in a HDRLET extension to all SCI extensions of the image.  Doing this requires knowing which solution should be applied, which can be obtained in multiple ways.\n",
    "\n",
    "<div class=\"alert alert-block alert-warning\">\n",
    "NOTE: This is especially useful in cases where some of the exposures in a visit will have solutions that are aligned to Gaia, but others won't.  This is true for grism images in the same visit as direct images, or shallow/deep exposure combinations.\n",
    "<div>"
   ]
  },
  {
   "cell_type": "markdown",
   "metadata": {},
   "source": [
    "For instance, if the desired solution is `IDC_2731450pi-GSC240`, we can find the `EXTVER` of the corresponding HDRLET from the list of wcs names we generated before."
   ]
  },
  {
   "cell_type": "code",
   "execution_count": null,
   "metadata": {},
   "outputs": [],
   "source": [
    "# Gets the index of list element with value 'IDC_2731450pi-GSC240'\n",
    "# The index in this list + 1 is the same as the EXTVER of the corresponding HDRLET\n",
    "# We need to add 1 because lists are 0-indexed, while EXTVER's are 1 indexed\n",
    "chosen_ext = new_wcsnames.index('IDC_2731450pi-GSC240') + 1"
   ]
  },
  {
   "cell_type": "code",
   "execution_count": null,
   "metadata": {},
   "outputs": [],
   "source": [
    "headerlet.restore_from_headerlet(filename, hdrext=('HDRLET', chosen_ext), archive=False, force=False)"
   ]
  },
  {
   "cell_type": "markdown",
   "metadata": {},
   "source": [
    "In this case we set `archive` keyword argument to `False`.  Setting `archive` to True will preserve the currently active WCS as a new HDRLET extension on the file.  Since in our case the current solution already has a HDRLET, we do not need to archive it.  This may be useful in some cases, such as when the image has been manually aligned/transformed, and keeping a record of that solution is desired.\n",
    "\n"
   ]
  },
  {
   "cell_type": "markdown",
   "metadata": {},
   "source": [
    "We can check that the solution was applied:"
   ]
  },
  {
   "cell_type": "code",
   "execution_count": null,
   "metadata": {},
   "outputs": [],
   "source": [
    "current_wcs = fits.getval(filename, 'WCSNAME', ext=('SCI', 1))\n",
    "\n",
    "print(current_wcs)"
   ]
  },
  {
   "cell_type": "markdown",
   "metadata": {},
   "source": [
    "We can also apply the solution via the HDRNAME:"
   ]
  },
  {
   "cell_type": "code",
   "execution_count": null,
   "metadata": {},
   "outputs": [],
   "source": [
    "hdrlet_hdrnames = headerlet.get_headerlet_kw_names(fits.open(filename), 'HDRNAME')\n",
    "desired_hdrname = hdrlet_hdrnames[new_wcsnames.index('IDC_2731450pi-GSC240')]"
   ]
  },
  {
   "cell_type": "code",
   "execution_count": null,
   "metadata": {},
   "outputs": [],
   "source": [
    "print(desired_hdrname)"
   ]
  },
  {
   "cell_type": "code",
   "execution_count": null,
   "metadata": {},
   "outputs": [],
   "source": [
    "headerlet.restore_from_headerlet(filename, hdrname=desired_hdrname, archive=False, force=False)"
   ]
  },
  {
   "cell_type": "markdown",
   "metadata": {},
   "source": [
    "We can also apply some logic to get the `hdrext` programatically.  For instance, if we only wanted the `IDC` (distortion calibrated) solution with the `GSC240` tag (indicating that the guide star positions had been updated), we can do the following:"
   ]
  },
  {
   "cell_type": "code",
   "execution_count": null,
   "metadata": {},
   "outputs": [],
   "source": [
    "for i, wcsname in enumerate(new_wcsnames):\n",
    "    if 'IDC' in wcsname and 'GSC240' in wcsname:\n",
    "        chosen_ext = i + 1 # Add one due to 0 indexing of enumerate vs 1 indexing of EXTVER\n",
    "        break\n",
    "\n",
    "print('The desired extension is:', ('HDRLET', chosen_ext))\n",
    "    "
   ]
  },
  {
   "cell_type": "markdown",
   "metadata": {},
   "source": [
    "Finding the solution this way can be easier, as it doesn't require a full typing out of the IDCTAB name.  However, in the future, if new IDCTABs are created, there may be multiple solutions matching the criteria above, and more sophisticated logic will need to be applied."
   ]
  },
  {
   "cell_type": "markdown",
   "metadata": {},
   "source": [
    "## 4. Restoring the \"old\" solution"
   ]
  },
  {
   "cell_type": "markdown",
   "metadata": {},
   "source": [
    "If the original solution is desired, it can be restored using the methods shown above, by replacing the WCSNAME simply with `IDC_2731450pi`, or whatever the name of the IDCTAB for that file is.  To get that name, the following procedure can be done:\n"
   ]
  },
  {
   "cell_type": "markdown",
   "metadata": {},
   "source": [
    "<div class=\"alert alert-block alert-warning\">\n",
    "<b>NOTE:</b> Data taken after October 2017 may not have a solution of the form IDC_xxxxxxxxx, as the pointing information of the telescope was already calculated using GSC 2.4.0.  As such, the \"old\" solution may be of the same form as the a priori solution, i.e.: IDC_xxxxxxxxx-GSC240.\n",
    "</div>"
   ]
  },
  {
   "cell_type": "code",
   "execution_count": null,
   "metadata": {},
   "outputs": [],
   "source": [
    "idc_file = fits.getval(filename, 'IDCTAB')\n",
    "idc_filename = idc_file.split('$')[-1]\n",
    "idc_wcsname = 'IDC_' + idc_filename.replace('_idc.fits', '')"
   ]
  },
  {
   "cell_type": "code",
   "execution_count": null,
   "metadata": {},
   "outputs": [],
   "source": [
    "print(idc_wcsname)"
   ]
  },
  {
   "cell_type": "markdown",
   "metadata": {},
   "source": [
    "Restoring the solution is then done the same as above:"
   ]
  },
  {
   "cell_type": "code",
   "execution_count": null,
   "metadata": {},
   "outputs": [],
   "source": [
    "chosen_ext = new_wcsnames.index(idc_wcsname) + 1"
   ]
  },
  {
   "cell_type": "code",
   "execution_count": null,
   "metadata": {},
   "outputs": [],
   "source": [
    "headerlet.restore_from_headerlet(filename, hdrext=('HDRLET', chosen_ext), archive=False, force=False)"
   ]
  },
  {
   "cell_type": "code",
   "execution_count": null,
   "metadata": {},
   "outputs": [],
   "source": [
    "current_wcs = fits.getval(filename, 'WCSNAME', ext=('SCI', 1))\n",
    "\n",
    "print(current_wcs)"
   ]
  },
  {
   "cell_type": "markdown",
   "metadata": {},
   "source": [
    "Alternatively, `updatewcs` can be run on the image, with the `use_db` flag set to `False`:"
   ]
  },
  {
   "cell_type": "code",
   "execution_count": null,
   "metadata": {},
   "outputs": [],
   "source": [
    "from stwcs import updatewcs\n",
    "updatewcs.updatewcs(filename, use_db=False)"
   ]
  },
  {
   "cell_type": "code",
   "execution_count": null,
   "metadata": {},
   "outputs": [],
   "source": [
    "current_wcs = fits.getval(filename, 'WCSNAME', ext=('SCI', 1))\n",
    "\n",
    "print(current_wcs)"
   ]
  },
  {
   "cell_type": "markdown",
   "metadata": {},
   "source": [
    "## 5. Inspecting alignment (optional)"
   ]
  },
  {
   "cell_type": "markdown",
   "metadata": {},
   "source": [
    "While the solutions should improve the astrometry of the images, they may not have perfect absolute astrometry.  To check the quality of the absolute astrometry.  To do this, we can overplot the positions of the Gaia sources on the images.  If the absolute astrometry is correct, the Gaia positions will project on top of the sources in the images.  The WCS solutions that contain 'FIT-GAIA' in the WCSNAME should have the closest alignment, while the GSC-240 and baseline IDC solution will likely have small offsets."
   ]
  },
  {
   "cell_type": "code",
   "execution_count": null,
   "metadata": {},
   "outputs": [],
   "source": [
    "import matplotlib.pyplot as plt\n",
    "from astropy.visualization import PercentileInterval, ImageNormalize, LogStretch\n",
    "%matplotlib notebook"
   ]
  },
  {
   "cell_type": "markdown",
   "metadata": {},
   "source": [
    "We first need to get a listing of the Gaia sources:"
   ]
  },
  {
   "cell_type": "code",
   "execution_count": null,
   "metadata": {},
   "outputs": [],
   "source": [
    "from drizzlepac.align import generate_astrometric_catalog\n",
    "ast_tbl = generate_astrometric_catalog('id7307xfq_flc.fits', output=True) \n",
    "ast_tbl"
   ]
  },
  {
   "cell_type": "markdown",
   "metadata": {},
   "source": [
    "We then need the WCS of the images, to project the Gaia positions onto the image coordinate frame."
   ]
  },
  {
   "cell_type": "code",
   "execution_count": null,
   "metadata": {},
   "outputs": [],
   "source": [
    "from astropy.wcs import WCS"
   ]
  },
  {
   "cell_type": "code",
   "execution_count": null,
   "metadata": {},
   "outputs": [],
   "source": [
    "hdu = fits.open(filename)\n",
    "w = WCS(hdu['SCI',1].header, hdu)\n",
    "data = hdu['SCI',1].data"
   ]
  },
  {
   "cell_type": "code",
   "execution_count": null,
   "metadata": {},
   "outputs": [],
   "source": [
    "x, y = w.all_world2pix(np.array([ast_tbl['RA'], ast_tbl['DEC']]).T, 0).T"
   ]
  },
  {
   "cell_type": "code",
   "execution_count": null,
   "metadata": {
    "scrolled": false
   },
   "outputs": [],
   "source": [
    "fig = plt.figure(figsize=(10,5))\n",
    "ax = plt.subplot(projection=w) # matplotlib has support for axes using WCS projections!\n",
    "\n",
    "ax.imshow(data, origin='lower',\n",
    "          norm=ImageNormalize(data, interval=PercentileInterval(99.65), stretch=LogStretch()))\n",
    "ax.coords.grid(True, color='white', ls=':', alpha=.6)\n",
    "ax.autoscale(False)\n",
    "ax.scatter(x, y, edgecolors='r', facecolor=None, alpha=.8)"
   ]
  },
  {
   "cell_type": "markdown",
   "metadata": {},
   "source": [
    "The original (only IDC tab) WCS will likely have an offset between the Gaia positions and the sources.  The GSC-240 solution offset is generally smaller, while any of the `GAIA-FIT` solutions should be well under a pixel.  Using the code in section 3, the offsets can be seen for each available WCS."
   ]
  },
  {
   "cell_type": "markdown",
   "metadata": {},
   "source": [
    "## 6. Changing the WCS of drizzled images"
   ]
  },
  {
   "cell_type": "markdown",
   "metadata": {},
   "source": [
    "Because the drizzling process is directly affected by the WCS's of the input images, the WCS of the drizzled image cannot be changed as simply as shown above for FLC images.  To use an astrometric solution (other than the one  applied to the FLT/FLC at the time of drizzling), the images will have to be re-drizzled after activating the desired WCS in the FLT/FLC images.\n",
    "\n",
    "<div class=\"alert alert-block alert-warning\">\n",
    "<b>NOTE:</b> The images input to astrodrizzle should use the same WCS solution, or the drizzling process will produce poor results.\n",
    "</div>"
   ]
  },
  {
   "cell_type": "code",
   "execution_count": null,
   "metadata": {},
   "outputs": [],
   "source": [
    "from drizzlepac import astrodrizzle"
   ]
  },
  {
   "cell_type": "markdown",
   "metadata": {},
   "source": [
    "In order to get the same name for the drizzled file, we can simply run astrodrizzle on the association (asn) file we downloaded before."
   ]
  },
  {
   "cell_type": "code",
   "execution_count": null,
   "metadata": {},
   "outputs": [],
   "source": [
    "astrodrizzle.AstroDrizzle('id7307030_asn.fits', mdriztab=True, build=True, clean=True, preserve=False)"
   ]
  }
 ],
 "metadata": {
  "kernelspec": {
   "display_name": "Python 3",
   "language": "python",
   "name": "python3"
  },
  "language_info": {
   "codemirror_mode": {
    "name": "ipython",
    "version": 3
   },
   "file_extension": ".py",
   "mimetype": "text/x-python",
   "name": "python",
   "nbconvert_exporter": "python",
   "pygments_lexer": "ipython3",
   "version": "3.8.0"
  }
 },
 "nbformat": 4,
 "nbformat_minor": 2
}
