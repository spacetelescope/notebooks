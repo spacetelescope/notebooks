{
 "cells": [
  {
   "cell_type": "markdown",
   "metadata": {},
   "source": [
    "The MAST team has released a new HST-specific data search interface which allows for easier downloading of data. You can access this **new HST search form** [here](https://mast.stsci.edu/search/ui/#/hst). Most of the search parameters on the new form are the same as on **the legacy HST Data Search interface** ([available here](https://archive.stsci.edu/hst/search.php)).\n",
    "\n",
    "Full documentation of the new HST search can be found [here](https://outerspace.stsci.edu/display/MASTDOCS/Mission+Search+Guide). In this Notebook, we'll simply show an example of searching for specific COS data. "
   ]
  },
  {
   "cell_type": "markdown",
   "metadata": {},
   "source": [
    "The new HST search form is shown in Fig. N-a. If you are accessing proprietary data, you will need to make an account or log in at the top right under \"MY ST\". If you are accessing non-proprietary data, you may continue without logging in.\n",
    "\n",
    "### Fig N-a\n",
    "<center><img src =figures/new_hst_search_login.png width =\"900\" title=\"New HST search website\"> </center>"
   ]
  },
  {
   "cell_type": "markdown",
   "metadata": {},
   "source": [
    "Figure N-b shows our example search, which queries the archive for observations which...\n",
    "* Fall within 3 arcminutes of the resolved stars AV75 and AV80\n",
    "* Are spectroscopic observations, rather than images\n",
    "* Have exposure times of greater than 1000 seconds\n",
    "* Are taken with the COS instrument, using the G160M grating and either the 1533 or the 1577 cenwave setting\n",
    "\n",
    "### Fig N-b\n",
    "<center><img src =figures/new_hst_search_query.png width =\"900\" title=\"New HST search website with filled in query\"> </center>"
   ]
  },
  {
   "cell_type": "markdown",
   "metadata": {},
   "source": [
    "The above search results in the table shown in Fig N-c. If you need to change some parameters in your search - for instance, to also find data from the G130M grating - click on \"Edit Search\" (red dashed box in figure).\n",
    "\n",
    "If you are happy with your search, you may now select all the observations whose data you would like to download. Do this by clicking on the checkbox for those observations (blue box), and then clicking \"Download Data\" (green oval).\n",
    "\n",
    "### Fig N-c\n",
    "<center><img src =figures/new_hst_search_results.png width =\"900\" title=\"Results from new HST search website query\"> </center>"
   ]
  },
  {
   "cell_type": "markdown",
   "metadata": {},
   "source": [
    "Clicking \"Download Data\" opens a window as shown in Fig N-d. You can choose to show/hide certain types of data such as the uncalibrated data (red box), search for filetypes using the search bar, and unselect/select all the data products shown in the filtered list (green circle). \n",
    "\n",
    "When all of your desired data products are checked, click \"Start Download\" (Yellow dashed box). This will download a compressed \"zipped\" folder of all of your data, divided into subdirectories by the observation. Most operating systems can decompress these folders by default. \n",
    "\n",
    "### Fig N-d\n",
    "<center><img src =figures/new_hst_search_downloading.png width =\"900\" title=\"Choosing what to download in the new HST search website query\"> </center>"
   ]
  },
  {
   "cell_type": "markdown",
   "metadata": {},
   "source": []
  }
 ],
 "metadata": {
  "interpreter": {
   "hash": "e5784b3e3be4ffa319eb7c9e4ac489bbbf191ad109372c471204ed1d5c08c61e"
  },
  "kernelspec": {
   "display_name": "Python 3.9.5 ('fs2')",
   "language": "python",
   "name": "python3"
  },
  "language_info": {
   "name": "python",
   "version": "3.9.5"
  }
 },
 "nbformat": 4,
 "nbformat_minor": 2
}
