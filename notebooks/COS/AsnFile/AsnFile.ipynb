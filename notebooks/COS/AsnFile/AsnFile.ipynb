{
 "cells": [
  {
   "cell_type": "markdown",
   "metadata": {},
   "source": [
    "<a id=\"topAF\"></a>\n",
    "\n",
    "# Modifying or Creating an Association File\n",
    "\n",
    "# Learning Goals\n",
    "<font size=\"4\"> This Notebook is designed to walk the user (<em>you</em>) through: <b>Creating or altering the association (<tt>asn</tt>) file used by the Cosmic Origins Spectrograph (<em>COS</em>) pipeline to determine which data to process:</b> </font><br>\n",
    "    \n",
    "**1. [Examining an association file](#examAF)**\n",
    "\n",
    "**2. [Editing an existing association file](#editAF)**\n",
    "\n",
    "\\- 2.1. [Removing an exposure](#subAF)\n",
    "\n",
    "\\+ 2.1.1. [Removing a bad exposure](#removebadAF)\n",
    "\n",
    "\\+ 2.1.2. [Filtering to a single exposure (e.g. for LP6 data)](#removefiltAF)\n",
    "    \n",
    "\\- 2.2. [Adding an exposure](#addAF)\n",
    "    \n",
    "**3. [Creating an entirely new association file](#newAF)**\n",
    "\n",
    "\\- 3.1. [Simplest method](#simpleAF)\n",
    "    \n",
    "\\- 3.2. [With fits header metadata](#metaAF)\n",
    "    \n",
    "\\- 3.3. [Association files for non-TAGFLASH datasets](#nontagAF)\n",
    "\n",
    "\\+ 3.3.1. [Gathering the exposure information](#331-gathering-the-exposure-informationAF)\n",
    "\n",
    "\\+ 3.3.2. [Creating the `SPLIT` wavecal association file](#332-creating-the-split-wavecal-association-fileAF)\n"
   ]
  },
  {
   "cell_type": "markdown",
   "metadata": {},
   "source": [
    "# 0. Introduction\n",
    "**The Cosmic Origins Spectrograph ([*COS*](https://www.nasa.gov/content/hubble-space-telescope-cosmic-origins-spectrograph)) is an ultraviolet spectrograph on-board the Hubble Space Telescope ([*HST*](https://www.stsci.edu/hst/about)) with capabilities in the near ultraviolet (*NUV*) and far ultraviolet (*FUV*).**\n",
    "\n",
    "**This tutorial aims to prepare you to alter the association file used by the `CalCOS` pipeline.** Association files are `fits` files containing a binary table extension, which list their \"member\" files: science and calibration exposures which the pipeline will process together into spectral data products.\n",
    "\n",
    "- For an in-depth manual to working with COS data and a discussion of caveats and user tips, see the [COS Data Handbook](https://hst-docs.stsci.edu/display/COSDHB/).\n",
    "- For a detailed overview of the COS instrument, see the [COS Instrument Handbook](https://hst-docs.stsci.edu/display/COSIHB/).\n",
    "\n",
    "We'll demonstrate creating an `asn` file in three ways: First, we'll demonstrate [editing an existing `asn` file to add or remove an exposure](#2-editing-an-existing-association-file). Second, we'll show how to [create an entirely new `asn` file](#newAF). Finally, we'll show an example of [creating an `asn` file for use with SPLIT wavecal data](#332-example-for-split-wavecal-dataAF), such as that obtained at COS lifetime position 6 (LP6)."
   ]
  },
  {
   "cell_type": "markdown",
   "metadata": {},
   "source": [
    "## We will import the following packages:\n",
    "\n",
    "- `numpy` to handle array functions\n",
    "- `astropy.io fits` and `astropy.table Table` for accessing FITS files\n",
    "- `glob`, `os`, and `shutil` for working with system files\n",
    "  - `glob` helps us search for filenames\n",
    "  - `os` and `shutil` for moving files and deleting folders, respectively\n",
    "- `astroquery.mast Mast` and `Observations` for finding and downloading data from the [MAST](https://mast.stsci.edu/portal/Mashup/Clients/Mast/Portal.html) archive\n",
    "- `datetime` for updating fits headers with today's date\n",
    "- `pathlib Path` for managing system paths\n",
    "\n",
    "If you have an existing astroconda environment, it may or may not already have the necessary packages to run this Notebook. To create a Python environment capable of running all the data analyses in these COS Notebooks, please see Section 1 of our Notebook tutorial on [setting up an environment](https://github.com/spacetelescope/notebooks/blob/master/notebooks/COS/Setup/Setup.ipynb)."
   ]
  },
  {
   "cell_type": "code",
   "execution_count": null,
   "metadata": {},
   "outputs": [],
   "source": [
    "# Import for: array manipulation\n",
    "import numpy as np\n",
    "\n",
    "# Import for: data table manipulatioon\n",
    "import pandas as pd\n",
    "\n",
    "# Import for: reading fits files\n",
    "from astropy.io import fits                                            \n",
    "from astropy.table import Table\n",
    "\n",
    "# Import for: system files\n",
    "import glob\n",
    "import os\n",
    "import shutil\n",
    "\n",
    "# Import for: downloading the data\n",
    "from astroquery.mast import Observations\n",
    "\n",
    "# Import for: changing modification date in a fits header\n",
    "import datetime\n",
    "\n",
    "#Import for: working with system paths\n",
    "from pathlib import Path"
   ]
  },
  {
   "cell_type": "markdown",
   "metadata": {},
   "source": [
    "## We will also define a few directories we will need:"
   ]
  },
  {
   "cell_type": "code",
   "execution_count": null,
   "metadata": {},
   "outputs": [],
   "source": [
    "# These will be important directories for the Notebook\n",
    "\n",
    "datadir = Path('./data/')\n",
    "outputdir = Path('./output/')\n",
    "plotsdir = Path('./output/plots/')\n",
    "\n",
    "# Make the directories if they don't already exist\n",
    "datadir.mkdir(exist_ok=True), outputdir.mkdir(exist_ok=True), plotsdir.mkdir(exist_ok=True)\n",
    "print(\"Made the following directories:\"+\"\\n    \", f'./{datadir}, ./{outputdir}, ./{plotsdir}')"
   ]
  },
  {
   "cell_type": "markdown",
   "metadata": {},
   "source": [
    "## And we will need to download the data we wish to filter and analyze\n",
    "We choose the exposures with the association obs_ids: `ldif01010` and `ldif02010` because we happen to know that some of the exposures in these groups failed, which gives us a real-world use case for editing an association file. Both `ldif01010` and `ldif02010` are far-ultraviolet (FUV) datasets on the quasi-stellar object (QSO) [PDS 456](https://doi.org/10.1051/0004-6361/201935524).\n",
    "\n",
    "For more information on downloading COS data, see our [Notebook tutorial on downloading COS data](https://github.com/spacetelescope/notebooks/blob/master/notebooks/COS/DataDl/DataDl.ipynb)."
   ]
  },
  {
   "cell_type": "code",
   "execution_count": null,
   "metadata": {},
   "outputs": [],
   "source": [
    "pl = Observations.get_product_list(Observations.query_criteria(obs_id='ldif0*10')) # search for the correct obs_ids and get the product list \n",
    "fpl = Observations.filter_products(pl,\n",
    "                                   productSubGroupDescription=['RAWTAG_A', 'RAWTAG_B','ASN']) # filter to rawtag and asn files in the product list\n",
    "\n",
    "Observations.download_products(fpl, download_dir=str(datadir)) # Download these chosen products\n",
    "for gfile in glob.glob(\"**/ldif*/*.fits\", recursive=True): # Move all fits files in this set to the base data directory\n",
    "    os.rename(gfile,datadir / os.path.basename(gfile))\n",
    "shutil.rmtree(datadir / 'mastDownload') # Delete the now-empty, nested mastDownload directory"
   ]
  },
  {
   "cell_type": "markdown",
   "metadata": {},
   "source": [
    "<a id = examAF></a>\n",
    "# 1. Examining an association file"
   ]
  },
  {
   "cell_type": "markdown",
   "metadata": {},
   "source": [
    "Association files are lists of \"member\" files - science and wavelength calibration exposures - which the `CalCOS` pipeline will process together.\n",
    "Above, we downloaded two association files and the rawtag data files which are their members. We will begin by searching for the association files and reading one of them (with observation ID `LDIF01010`). We could just as easily pick `ldif02010`."
   ]
  },
  {
   "cell_type": "code",
   "execution_count": null,
   "metadata": {},
   "outputs": [],
   "source": [
    "asnfiles = sorted(glob.glob(\"**/*ldif*asn*\", recursive=True)) # There will be two (ldif01010_asn.fits and ldif02010_asn.fits)\n",
    "asnfile = asnfiles[0] # We want to work primarily with ldif01010_asn.fits\n",
    "\n",
    "asn_contents = Table.read(asnfile) # Gets the contents of the asn file\n",
    "asn_contents # Display these contents"
   ]
  },
  {
   "cell_type": "markdown",
   "metadata": {},
   "source": [
    "The association file has three columns: `MEMNAME`, `MEMTYPE`, `MEMPRSNT` which we describe below. More information can be found in [Section 3 of the COS Data Handbook](https://hst-docs.stsci.edu/cosdhb/chapter-3-cos-calibration).\n",
    "\n",
    "1. `MEMNAME` (*short for \"member name\"*): The rootname of the file, e.g. `ldif01u0q` for the file `ldif01u0q_rawtag_a.fits`\n",
    "2. `MEMTYPE` (*\"membership type\"*): Whether the item is a science exposure (`EXP-FP`), a wavecal exposure (`EXP-SWAVE`/`EXP-GWAVE`/`EXP-AWAVE`), or the output product (`PROD-FP`)\n",
    "3. `MEMPRSNT` (*\"member present\"*): Whether to include the file in `CalCOS`' processing\n",
    "\n",
    "We also see that this association file has five rows: four science exposures denoted with the `MEMTYPE` = `EXP-FP`, and an output product with `MEMTYPE` = `PROD-FP`.\n",
    "\n",
    "In the cell below, we examine a bit about each of the exposures as a diagnostic:"
   ]
  },
  {
   "cell_type": "code",
   "execution_count": null,
   "metadata": {},
   "outputs": [],
   "source": [
    "for memname, memtype in zip(asn_contents['MEMNAME'], asn_contents[\"MEMTYPE\"]): # Cycles through each file in asn table\n",
    "    memname = memname.lower() # Find file names in lower case letters\n",
    "    if memtype == 'EXP-FP': # We only want to look at the exposure files\n",
    "        rt_a = (glob.glob(f\"**/*{memname}*rawtag_a*\", recursive=True))[0] # Find the actual filepath of the memname for rawtag_a and rawtag_b\n",
    "        rt_b = (glob.glob(f\"**/*{memname}*rawtag_b*\", recursive=True))[0]\n",
    "\n",
    "        # Now print all these diagnostics:\n",
    "        print(f\"Association {(fits.getheader(rt_a))['ASN_ID']} has {memtype} exposure {memname.upper()} with \\\n",
    "exposure time {(fits.getheader(rt_a, ext=1))['EXPTIME']} seconds at cenwave {(fits.getheader(rt_a, ext=0))['CENWAVE']} \\\n",
    "Å and FP-POS {(fits.getheader(rt_a, ext=0))['FPPOS']}.\")"
   ]
  },
  {
   "cell_type": "markdown",
   "metadata": {},
   "source": [
    "**We notice that something seems amiss with the science exposure LDIF01TYQ**:\n",
    "This file has an exposure time of 0.0 seconds - something has gone wrong. In this case, there was a guide star acquisition failure as described on the [data preview page](http://archive.stsci.edu/cgi-bin/mastpreview?mission=hst&dataid=LDIF01010).\n",
    "\n",
    "In the next section, we will correct this lack of data by removing the bad exposure and combining in exposures from the other association group."
   ]
  },
  {
   "cell_type": "markdown",
   "metadata": {},
   "source": [
    "<a id = editAF></a>\n",
    "# 2. Editing an existing association file\n",
    "\n",
    "<a id = subAF></a>\n",
    "## 2.1. Removing an exposure\n",
    "\n",
    "<a id = removebadAF></a>\n",
    "#### 2.1.1. Removing a bad exposure\n",
    "\n",
    "We know that at least one of our exposures - `ldif01tyq` - is not suited for combination into the final product. It has an exposure time of 0.0 seconds, in this case from a guide star acquisition failure. This is a generalizable issue, as you may often know an exposure is \"*bad*\" for many reasons: perhaps it was taken with the shutter closed, or with anomolously high background noise, or any number of reasons we may wish to exclude an exposure from our data. To do this, we will need to alter our existing association file before we re-run `CalCOS`. Afterwards we will compare the flux of the resulting spectrum made without the bad exposure to the same dataset with the bad exposure. The flux levels should match closely."
   ]
  },
  {
   "cell_type": "markdown",
   "metadata": {},
   "source": [
    "We again see the contents of our main association file below. Note that `True/False` and `1/0` are essentially interchangable in the `MEMPRSNT` column."
   ]
  },
  {
   "cell_type": "code",
   "execution_count": null,
   "metadata": {},
   "outputs": [],
   "source": [
    "Table.read(asnfiles[0])"
   ]
  },
  {
   "cell_type": "markdown",
   "metadata": {},
   "source": [
    "We can set the `MEMPRSNT` value to `False` or `0` for our bad exposure. If we were to run the `CalCOS` pipeline on the edited association file, it would not be processed. `CalCOS` can take a long time to run. To avoid slowing down this Notebook, the code to run `CalCOS` on the association files we have created has been spun out into `Python` files in this directory with the names `test_<type of association file>.py` (in this case, `test_removed_exposure_asn.py`). If you wish to re-run the analysis within, you will need to specify a valid cache of CRDS reference files (see our [Setup Notebook](https://github.com/spacetelescope/notebooks/blob/master/notebooks/COS/Setup/Setup.ipynb) for details on downloading reference files) in the `Python` file."
   ]
  },
  {
   "cell_type": "code",
   "execution_count": null,
   "metadata": {},
   "outputs": [],
   "source": [
    "with fits.open(asnfile, mode='update') as hdulist: # We need to change values with the asnfile opened and in 'update' mode\n",
    "    tbdata = hdulist[1].data # This is where the table data is read into\n",
    "    for expfile in tbdata: # Check if each file is one of the bad ones\n",
    "        if expfile['MEMNAME'] in ['LDIF01TYQ']:\n",
    "            expfile['MEMPRSNT'] = False # If so, set MEMPRSNT to False AKA 0\n",
    "\n",
    "# Copy this file, which we will go on to edit, in case we want to run CalCOS on it.\n",
    "shutil.copy(asnfile, datadir / \"removed_badfile_asn.fits\")\n",
    "# Re-read the table to see the change\n",
    "Table.read(asnfile)"
   ]
  },
  {
   "cell_type": "markdown",
   "metadata": {},
   "source": [
    "To show what would happen if we run `CalCOS` on this association file, we include Figure 1. This figure shows that the flux level of the spectrum retrieved from MAST matches that which was processed after removing the bad exposure. Slight differences in the two spectra may arise from MAST using a different random seed value. What matters for this comparison is that the fluxes match well, as they should because the empty exposure adds 0 counts over 0 time. Thus, for the purposes of flux calibration, it should be ignored. Other types of bad exposures, for instance those taken with the source at the edge of COS's aperture, would impact the fluxes.\n",
    "\n",
    "### Figure 1. Comparison of fluxes between the data retrieved from MAST, and the same data reprocessed after removing the bad exposure\n",
    "\n",
    "<img src=./figures/compare_fluxes_after_removing_badfile.png width=60% title='Comparison of fluxes'>"
   ]
  },
  {
   "cell_type": "markdown",
   "metadata": {},
   "source": [
    "<a id = removefiltAF></a>\n",
    "#### 2.1.2. Filtering to a single exposure (e.g. for LP6 data)\n",
    "\n",
    "Another situation when users often wish to remove exposures from an association file is when re-processing individual exposures taken at COS's lifetime position 6 (LP6) or other modes at which the wavelength calibration data is not contained by the science exposures' `rawtag` files. \n",
    "\n",
    "Often users wish to process a single exposure's file with `CalCOS`. With the [`TAGFLASH` wavelength calibration method](https://hst-docs.stsci.edu/cosihb/chapter-5-spectroscopy-with-cos/5-7-internal-wavelength-calibration-exposures#id-5.7InternalWavelengthCalibrationExposures-Section5.7.15.7.1ConcurrentWavelengthCalibrationwithTAGFLASH) standard at all lifetime positions prior to LP6, the wavelength calibration data was taken concurrently with the science data and was contained by the same `rawtag` data files. However, as described in this [COS 2030 plan poster](https://aas240-aas.ipostersessions.com/default.aspx?s=06-68-AE-28-CC-4A-12-7A-B0-4F-02-46-BC-D1-BE-7E), this is not possible at LP6. Instead, separate wavelength calibration exposures are taken at separate lifetime positions in a process known as [SPLIT wavecals](https://hst-docs.stsci.edu/cosihb/chapter-5-spectroscopy-with-cos/5-7-internal-wavelength-calibration-exposures#id-5.7InternalWavelengthCalibrationExposures-Section5.7.65.7.6SPLITWavecals(defaultnon-concurrentwavelengthcalibrationatLP6)). As a result, the wavelength calibration data no longer exists in the same file as the science data for such exposures.\n",
    "\n",
    "For `TAGFLASH` data, users could run `CalCOS` directly on their `rawtag` file of interest (though using an association file was always recommended). However, doing so with LP6 data would not allow the proper wavelength calibration. Instead, users should create a custom association file created by removing exposures from the default association file. We demonstrate this below."
   ]
  },
  {
   "cell_type": "markdown",
   "metadata": {},
   "source": [
    "We'll alter an LP6 association file with the observation ID `letc01010`.\n",
    "Let's begin by downloading the default LP6 association file from MAST and displaying it:"
   ]
  },
  {
   "cell_type": "code",
   "execution_count": null,
   "metadata": {},
   "outputs": [],
   "source": [
    "# Search for the correct obs_ids and get the list of data products\n",
    "lp6_observation_products = Observations.get_product_list( \n",
    "    Observations.query_criteria(obs_id='letc01010'),\n",
    ")\n",
    "\n",
    "# Download the asnfile product list, then get the 0th element of the resulting path list, since there's only 1 asn file\n",
    "lp6_original_asnfile = Path(\n",
    "    Observations.download_products(\n",
    "        Observations.filter_products(\n",
    "            lp6_observation_products,\n",
    "            productSubGroupDescription=['ASN'],\n",
    "        ),\n",
    "        download_dir=str(datadir)\n",
    "    )['Local Path'][0]\n",
    ")\n",
    "\n",
    "# Show the default association file for the LP6 dataset.\n",
    "Table.read(lp6_original_asnfile)"
   ]
  },
  {
   "cell_type": "markdown",
   "metadata": {},
   "source": [
    "As expected, we see 4 `EXP-FP` members, which are the science exposures at COS's 4 [fixed-pattern noise positions (`FP-POS`)](https://hst-docs.stsci.edu/cosdhb/chapter-1-cos-overview/1-1-instrument-capabilities-and-design). Each is bracketed by a SPLIT wavecal wavelength calibration exposure on each side (`EXP-SWAVE`).\n",
    "\n",
    "If we only wish to process one of the science exposures, (along with its wavelength calibration exposures,) we turn off all the other exposures by setting their `MEMPRSNT` values to 0/`False`. The product file (`PROD-FP`) must also be turned on, and should be renamed to show that it will only include data from a single exposure. Below, we do so, assuming we wish to process only the FP3 science exposure: `LETC01MTQ` (and its wavelength calibration exposures: `LETC01M6Q` and `LETC01MVQ`)."
   ]
  },
  {
   "cell_type": "code",
   "execution_count": null,
   "metadata": {},
   "outputs": [],
   "source": [
    "exposures_to_use = ['LETC01M6Q','LETC01MTQ','LETC01MVQ'] # WAVECAL -> SCIENCE -> WAVECAL\n",
    "print(f\"We will turn off all the input exposures except for: {exposures_to_use}.\" +\\\n",
    "    \" We will also leave the output product file turned on.\")\n",
    "# Make a copy of the original asn file with a name to indicate it will only process a single chosen exposure\n",
    "lp6_1exposure_asnfile = shutil.copy(lp6_original_asnfile, datadir / 'letc01mtq_only_asn.fits')\n",
    "\n",
    "# Turn off all the other exposures in the copy\n",
    "with fits.open(lp6_1exposure_asnfile, mode='update') as hdulist:\n",
    "    tbdata = hdulist[1].data\n",
    "    for expfile in tbdata:\n",
    "        # Turn off files except those listed here\n",
    "        if expfile['MEMNAME'] not in exposures_to_use:\n",
    "            expfile['MEMPRSNT'] = False # If so, set MEMPRSNT to False AKA 0\n",
    "        # Turn on and rename the product file to indicate it will only include the chosen exposure\n",
    "        if expfile['MEMTYPE'] == 'PROD-FP':\n",
    "            expfile['MEMPRSNT'] = True # Turn on the product file\n",
    "            expfile['MEMNAME'] = \"LETC01MTQ_only\" # Rename the product file\n",
    "\n",
    "# Re-read the table to see the change\n",
    "Table.read(lp6_1exposure_asnfile)"
   ]
  },
  {
   "cell_type": "markdown",
   "metadata": {},
   "source": [
    "<a id = addAF></a>\n",
    "## 2.2. Adding an exposure\n",
    "In section 2.1.1, we removed the failed exposure taken with `FP-POS = 1` from our `ldif01010` association file. When possible, we usually want to combine one or more of each of the four FP-POS types. In this example scenario, let's add the `FP-POS = 1` exposure from the other association group. Please note that combining data from separate visits with different target acquisitions can result in true errors which are higher than those calculated by `CalCOS`.\n",
    "We combine the datasets here as an example only and do not specifically endorse combining these exposures.\n",
    "Also note that you should only combine files taken using the same grating and central wavelength settings in this manner.\n",
    "\n",
    "In the cell below, we determine which exposure from `LDIF02010` was taken with `FP-POS = 1`.\n",
    "- *It does this by looping through the files listed in `LDIF02010`'s association file, and then reading in that file's header to check if its `FPPOS` value equals 1.*\n",
    "- *It also prints some diagnostic information about all of the exposure files.*"
   ]
  },
  {
   "cell_type": "code",
   "execution_count": null,
   "metadata": {},
   "outputs": [],
   "source": [
    "asn_contents_2 = Table.read(asnfiles[1]) # Reads the contents of the 2nd asn file\n",
    "\n",
    "for memname, memtype in zip(asn_contents_2['MEMNAME'], asn_contents_2[\"MEMTYPE\"]): # Loops through each file in asn table for `LDIF02010`\n",
    "    memname = memname.lower() # Convert file names to lower case letters, as in actual filenames\n",
    "    if memtype == 'EXP-FP': # We only want to look at the exposure files\n",
    "        rt_a = (glob.glob(f\"**/*{memname}*rawtag_a*\", recursive=True))[0] # Search for the actual filepath of the memname for rawtag_a \n",
    "        rt_b = (glob.glob(f\"**/*{memname}*rawtag_b*\", recursive=True))[0] # Search for the actual filepath of the memname for rawtag_b \n",
    "        # Now print all these diagnostics:\n",
    "        print(f\"Association {(fits.getheader(rt_a))['ASN_ID']} has {memtype} exposure {memname.upper()} with \\\n",
    "exptime {(fits.getheader(rt_a, ext=1))['EXPTIME']} seconds at cenwave {(fits.getheader(rt_a, ext=0))['CENWAVE']} Å and FP-POS {(fits.getheader(rt_a, ext=0))['FPPOS']}.\")\n",
    "\n",
    "        if (fits.getheader(rt_a, ext=0))['FPPOS'] == 1:\n",
    "            print(f\"^^^ The one above this has the FP-POS we are looking for ({memname.upper()})^^^\\n\")\n",
    "            asn2_fppos1_name = memname.upper() # Save the right file basename in a variable"
   ]
  },
  {
   "cell_type": "markdown",
   "metadata": {},
   "source": [
    "There's a slightly different procedure to add a new exposure to the list rather than remove one. \n",
    "\n",
    "Here we will read the table in the fits association file into an `astropy` Table. We can then add a row into the right spot, filling it with the new file's `MEMNAME`, `MEMTYPE`, and `MEMPRSNT`. Finally, we have to save this table into the existing fits association file."
   ]
  },
  {
   "cell_type": "code",
   "execution_count": null,
   "metadata": {},
   "outputs": [],
   "source": [
    "asn_orig_table = Table.read(asnfile) # Read in original data from the file\n",
    "asn_orig_table.insert_row(len(asn_orig_table)- 1 , [asn2_fppos1_name,'EXP-FP',1]) # Add a row with the right name after all the original EXP-FP's\n",
    "new_table = fits.BinTableHDU(asn_orig_table) # Turn this into a fits Binary Table HDU \n",
    "\n",
    "with fits.open(asnfile, mode='update') as hdulist: # We need to change data with the asnfile opened and in 'update' mode\n",
    "    hdulist[1].data = new_table.data  # Change the orig file's data to the new table data we made\n",
    "print(f\"Added {asn2_fppos1_name} to the association file.\")"
   ]
  },
  {
   "cell_type": "markdown",
   "metadata": {},
   "source": [
    "Now, we can see there is a new row with our exposure from the other `asn` file group: `LDIF02NMQ`."
   ]
  },
  {
   "cell_type": "code",
   "execution_count": null,
   "metadata": {},
   "outputs": [],
   "source": [
    "Table.read(asnfile)"
   ]
  },
  {
   "cell_type": "markdown",
   "metadata": {},
   "source": [
    "<font size=\"4 \"><b>Excellent.</b> In the next section we will create a new association file from scratch.</font>"
   ]
  },
  {
   "cell_type": "markdown",
   "metadata": {},
   "source": [
    "<a id = newAF></a>\n",
    "# 3. Creating an entirely new association file\n",
    "\n",
    "Users will rarely need to create an entirely new association file. Much more often, they should alter an existing one found on MAST. However, a user may wish to create a new association file if they are combining altered exposures, perhaps after using the [`costools.splittag` tool](https://github.com/spacetelescope/notebooks/blob/master/notebooks/COS/SplitTag/SplitTag.ipynb). This section describes how to make one from scratch.\n",
    "\n",
    "For the sake of demonstration, we will generate a new association file with four exposure members: even-numbered `FP-POS` (2,4) from the first original association (`LDIF01010`), and odd-numbered `FP-POS` (1,3) from from the second original association (`LDIF02010`).\n",
    "\n",
    "From section 2, we see that this corresponds to :\n",
    "\n",
    "|Name|Original asn|FP-POS|\n",
    "|----|------------|------|\n",
    "|LDIF02010|LDIF02NMQ|1|\n",
    "|LDIF01010|LDIF01U0Q|2|\n",
    "|LDIF02010|LDIF02NUQ|3|\n",
    "|LDIF01010|LDIF01U4Q|4|\n"
   ]
  },
  {
   "cell_type": "markdown",
   "metadata": {},
   "source": [
    "<a id = simpleAF></a>\n",
    "## 3.1. Simplest method\n",
    "Below, we manually build up an association file from the three necessary columns (`MEMNAME`, `MEMTYPE`, `MEMPRSNT`)."
   ]
  },
  {
   "cell_type": "code",
   "execution_count": null,
   "metadata": {},
   "outputs": [],
   "source": [
    "# Adding the exposure file details to the association table\n",
    "new_asn_memnames = ['LDIF02NMQ','LDIF01U0Q','LDIF02NUQ','LDIF01U4Q'] # MEMNAME\n",
    "types = ['EXP-FP', 'EXP-FP', 'EXP-FP', 'EXP-FP'] # MEMTYPE\n",
    "included = [True, True, True, True] # MEMPRSNT\n",
    "\n",
    "# Adding the ASN details to the end of the association table\n",
    "new_asn_memnames.append('ldifcombo'.upper()) # MEMNAME column\n",
    "types.append('PROD-FP') # MEMTYPE column\n",
    "included.append(True) # MEMPRSNT column\n",
    "\n",
    "# Putting together the fits table\n",
    "#   40 is the number of characters allowed in this field with the MEMNAME format = 40A. \n",
    "#    If your rootname is longer than 40, you will need to increase this\n",
    "c1 = fits.Column(name='MEMNAME', array=np.array(new_asn_memnames), format='40A') \n",
    "c2 = fits.Column(name='MEMTYPE', array=np.array(types), format='14A')\n",
    "c3 = fits.Column(name='MEMPRSNT', format='L', array=included)\n",
    "asn_table = fits.BinTableHDU.from_columns([c1, c2, c3])\n",
    "\n",
    "# Writing the fits table\n",
    "asn_table.writeto(outputdir / 'ldifcombo_asn.fits', overwrite=True)\n",
    "\n",
    "print('Saved '+ 'ldifcombo_asn.fits'+ f\" in the output directory: {outputdir}\")"
   ]
  },
  {
   "cell_type": "markdown",
   "metadata": {},
   "source": [
    "**Examining the file we have created:**\n",
    "\n",
    "We see that the data looks correct - exactly the table we want!"
   ]
  },
  {
   "cell_type": "code",
   "execution_count": null,
   "metadata": {},
   "outputs": [],
   "source": [
    "Table.read(outputdir / 'ldifcombo_asn.fits')"
   ]
  },
  {
   "cell_type": "markdown",
   "metadata": {},
   "source": [
    "**However, the 0th and 1st fits headers no longer contain useful information about the data.**\n",
    "While `CalCOS` will process these files, vital header keys may not be propagated. If it's important to preserve the header information, you may follow the steps in the next section."
   ]
  },
  {
   "cell_type": "code",
   "execution_count": null,
   "metadata": {},
   "outputs": [],
   "source": [
    "fits.getheader(outputdir / 'ldifcombo_asn.fits', ext=0)"
   ]
  },
  {
   "cell_type": "code",
   "execution_count": null,
   "metadata": {},
   "outputs": [],
   "source": [
    "fits.getheader(outputdir / 'ldifcombo_asn.fits', ext=1)"
   ]
  },
  {
   "cell_type": "markdown",
   "metadata": {},
   "source": [
    "<a id = metaAF></a>\n",
    "## 3.2. With fits header metadata\n",
    "\n",
    "**We can instead build up a new file with our old file's fits header, and alter it to reflect our changes.**\n",
    "\n",
    "We first build a new association file, a piecewise combination of our original file's headers and our new table:"
   ]
  },
  {
   "cell_type": "code",
   "execution_count": null,
   "metadata": {},
   "outputs": [],
   "source": [
    "with fits.open(asnfile, mode='readonly') as hdulist: # Open up the old asn file\n",
    "    hdulist.info() # Shows the first hdu is empty except for the header we want\n",
    "    hdu0 = hdulist[0] # We want to directly copy over the old 0th header/data-unit AKA \"hdu\":\n",
    "                        # essentially a section of data and its associated metadata, called a \"header\"\n",
    "                        # see https://fits.gsfc.nasa.gov/fits_primer.html for info on fits structures\n",
    "    d0 = hdulist[0].data # gather the data from the header/data unit to allow the readout\n",
    "    h1 = hdulist[1].header # gather the header from the 1st header/data unit to copy to our new file\n",
    "    \n",
    "hdu1 = fits.BinTableHDU.from_columns([c1, c2, c3], header=h1) # Put together new 1st hdu from old header and new data\n",
    "\n",
    "new_HDUlist = fits.HDUList([hdu0,hdu1]) # New HDUList from old HDU 0 and new combined HDU 1\n",
    "new_HDUlist.writeto(outputdir / 'ldifcombo_2_asn.fits', overwrite=True) # Write this out to a new file\n",
    "new_asnfile = outputdir / 'ldifcombo_2_asn.fits' # Path to this new file\n",
    "print('\\nSaved '+ 'ldifcombo_2_asn.fits'+ f\"in the output directory: {outputdir}\")"
   ]
  },
  {
   "cell_type": "markdown",
   "metadata": {},
   "source": [
    "**Now we edit the relevant values in our fits headers that are different from the original.**\n",
    "\n",
    "*Note: It is possible that a generic fits file may have different values you may wish to change. It is highly recommended to examine your fits headers.*"
   ]
  },
  {
   "cell_type": "code",
   "execution_count": null,
   "metadata": {},
   "outputs": [],
   "source": [
    "date = datetime.date.today() # Find today's date\n",
    "# Below, make a dict of what header values we want to change, corresponding to [new value, extension the value lives in, 2nd extension if applies]\n",
    "keys_to_change = {'DATE':[f'{date.year}-{date.month}-{date.day}',0], 'FILENAME':['ldifcombo_2_asn.fits',0],\n",
    "                      'ROOTNAME':['ldifcombo_2',0,1], 'ASN_ID':['ldifcombo_2',0], 'ASN_TAB':['ldifcombo_2_asn.fits',0], 'ASN_PROD':['False',0],\n",
    "                     'EXTVER':[2,1], 'EXPNAME':['ldifcombo_2',1]}\n",
    "# Actually change the values below (verbosely):\n",
    "for keyval in keys_to_change.items():\n",
    "    print(f\"Editing {keyval[0]} in Extension {keyval[1][1]}\")\n",
    "    fits.setval(filename=new_asnfile, keyword=keyval[0], value=keyval[1][0], ext=keyval[1][1])\n",
    "    # Below is necessary as some keys are repeated in both headers ('ROOTNAME')\n",
    "    if len(keyval[1])>2:\n",
    "        print(f\"Editing {keyval[0]} in Extension {keyval[1][2]}\")\n",
    "        fits.setval(filename=new_asnfile, keyword=keyval[0], value= keyval[1][0], ext=keyval[1][2])"
   ]
  },
  {
   "cell_type": "markdown",
   "metadata": {},
   "source": [
    "<font size=\"4 \"><b>And now we have created our new association file.</b> The file is now ready to be used in the <code>CalCOS</code> pipeline!</font>\n",
    "    \n",
    "If you're interested in testing your file by running it through the `CalCOS` pipeline, you may wish to run the `test_asn.py file` included in this subdirectory of the GitHub repository. i.e. from the command line: \n",
    "\n",
    "```bash\n",
    "$ python test_asn.py\n",
    "```\n",
    "*Note* that you must first...\n",
    "1. Have created the file by running this Notebook\n",
    "2. Alter line 21 of `test_asn.py` to set the lref directory to wherever you have your cache of CRDS reference files (see our [Setup Notebook](https://github.com/spacetelescope/notebooks/blob/master/notebooks/COS/Setup/Setup.ipynb)).\n",
    "\n",
    "If the test runs successfully, it will create a plot in the subdirectory `./output/plots/` ."
   ]
  },
  {
   "cell_type": "markdown",
   "metadata": {},
   "source": [
    "<a id = nontagAF></a>\n",
    "## 3.3. Association files for non-TAGFLASH datasets"
   ]
  },
  {
   "cell_type": "markdown",
   "metadata": {},
   "source": [
    "As touched upon in [Section 2.1.2.](#removefiltAF), most COS exposures contain the calibration lamp data necessary to perform wavelength calibration; however, exposures taken at LP6 and those taken with [AUTO and GO wavecals](https://hst-docs.stsci.edu/cosihb/chapter-5-spectroscopy-with-cos/5-7-internal-wavelength-calibration-exposures#id-5.7InternalWavelengthCalibrationExposures-Section5.7.25.7.2AUTOWavecals(whenTAGFLASHisnotused)) (including BOA and ACCUM mode exposures) have separate exposures for wavelength calibration. Table 1 below summarizes the types of wavelength calibration modes. More information may be found in [Section 5.7 of the COS Instrument Handbook](https://hst-docs.stsci.edu/cosihb/chapter-5-spectroscopy-with-cos/5-7-internal-wavelength-calibration-exposures).\n",
    "\n",
    "#### Table 1. Comparison of wavelength calibration modes\n",
    "\n",
    "|**Wavelength calibration mode**||`TAGFLASH`|`SPLIT` Wavecal|`AUTO` Wavecal|GO Wavecal|\n",
    "|-|-|-|-|-|-|\n",
    "|**When used**||Default for LP1-LP5|Default for LP6|Used for LP1-LP5 non-TAGFLASH exposures|User specified (rare)|\n",
    "|**Description**||Wavelength calibration lamp flashes concurrently with science exposure|Wavelength calibration lamp flashes at another LP|Wavelength calibration lamp flashes separately from science exposure|Wavelength calibration lamp flashes separately from science exposure|\n",
    "|**Additional wavelength calibration file in the association table**||None - wavelength calibration data included in the `EXP-FP`s of the science exposures|`EXP-SWAVE`|`EXP-AWAVE`|`EXP-GWAVE`|"
   ]
  },
  {
   "cell_type": "markdown",
   "metadata": {},
   "source": [
    "Non-`TAGFLASH` datasets must be processed from a single association file which includes all the science and wavelength calibration exposures, properly labeled with the correct `MEMTYPE`s.\n",
    "\n",
    "Users will rarely need to build an entirely new association file for non-TAGFLASH datasets. The most common reason for a user to have non-TAGFLASH data is that the exposures were obtained using the `SPLIT` wavecal method at LP6. The association files for these files are correctly created and made available in the MAST archive. Removing specific exposures can most easily be done as in [Section 2.1.2](#212-filtering-to-a-single-exposure-eg-for-lp6-data). However, if a user needed to craft a completely customized `CalCOS` run, for instance to combine multiple non-TAGFLASH datasets, they can follow this section.\n",
    "\n",
    "In this section we will manually recreate the association file for the `SPLIT` wavecal data from the same dataset whose association file we altered as part of [Section 2.1.2](#removefiltAF). We could just as easily do so with `AUTO` or GO wavecal data. We will first select and examine the relevant exposures, then we will combine them into an association file."
   ]
  },
  {
   "cell_type": "markdown",
   "metadata": {},
   "source": [
    "<a id = 331-gathering-the-exposure-informationAF></a>\n",
    "### 3.3.1. Gathering the exposure information\n",
    "We begin by downloading the data from a visit which utilized COS' LP6 split wavecal mode (proposal ID: `16907`, observation ID: `letc01010`). We previously downloaded the association file for this dataset in [Section 2.1.2](#removefiltAF), but here we download the rest of the data products we will need."
   ]
  },
  {
   "cell_type": "code",
   "execution_count": null,
   "metadata": {},
   "outputs": [],
   "source": [
    "# Search for the correct obs_ids and get the list of data products\n",
    "lp6_observation_products = Observations.get_product_list( \n",
    "    Observations.query_criteria(obs_id='letc01010'),\n",
    ")\n",
    "\n",
    "# Filter and download the rawtag files and asn file in the product list from MAST\n",
    "# First filter to just the rawtag products \n",
    "lp6_rawtags_pl = Observations.filter_products(\n",
    "    lp6_observation_products,\n",
    "    productSubGroupDescription=['RAWTAG_A', 'RAWTAG_B'],\n",
    ")\n",
    "# Download these chosen rawtag products\n",
    "lp6_rawtags = Observations.download_products(lp6_rawtags_pl, download_dir=str(datadir))['Local Path']"
   ]
  },
  {
   "cell_type": "markdown",
   "metadata": {},
   "source": [
    "We'll begin by taking a look at the original association file from MAST in the cell below. Note that the exposures are ordered in groups of a single `EXP-FP` (also known as science or `EXTERNAL/SCI`) exposure bracketed on both sides by an `EXP-SWAVE` (SPLIT wavecal) exposure (i.e. wavecal-->science-->wavecal). This is often the case for non-TAGFLASH files, especially for exposures longer than ~600 seconds."
   ]
  },
  {
   "cell_type": "code",
   "execution_count": null,
   "metadata": {},
   "outputs": [],
   "source": [
    "Table.read(lp6_original_asnfile)"
   ]
  },
  {
   "cell_type": "markdown",
   "metadata": {},
   "source": [
    "We'll simulate an occasion on which we would need to create our own association file by supposing we want to process only data from this observation taken in the FP1 or FP3 configuration. We could achieve the same result by taking the default association file from MAST and turning the `MEMPRSNT` value to False for all the FP2 and FP4 files, similarly to in [Section 2.1.2](#removefiltAF).\n",
    "\n",
    "Below, we filter to such exposures and check whether they meet our expectations for `SPLIT` wavecal data. Namely, we check that:\n",
    "1. The files are listed in chronological order.\n",
    "2. All science (`EXTERNAL/SCI`) exposures are bracketed by a `WAVECAL` exposure on either side.\n",
    "3. The data is organized into groups of 3 exposures with the grouping described in test 2 (`WAVECAL`-->`EXTERNAL/SCI`-->`WAVECAL`).\n",
    "\n",
    "`CalCOS` does not strictly need the files to be arranged in chronological order; however, it is a helpful exercise to make sure we include all the files we need to calibrate this dataset. We can investigate the files manually and diagnose any failures in the table printed by the following cell."
   ]
  },
  {
   "cell_type": "code",
   "execution_count": null,
   "metadata": {
    "notebookRunGroups": {
     "groupValue": ""
    }
   },
   "outputs": [],
   "source": [
    "# Filter the rawtag files to exposures at FP1 and FP3\n",
    "lp6_rawtags_fp13 = [rt for rt in lp6_rawtags if fits.getval(rt, \"FPPOS\", ext=0) in [1,3]]\n",
    "# Gather information on all the exposures\n",
    "rawtag_a_exptypes_dict = {rt : fits.getval(rt, \"EXPTYPE\", ext=0) for rt in lp6_rawtags_fp13 if \"rawtag_a\" in rt}\n",
    "rawtag_a_rootnames = [fits.getval(rt, \"ROOTNAME\", ext=0) for rt in lp6_rawtags_fp13 if \"rawtag_a\" in rt]\n",
    "rawtag_a_exptypes = [fits.getval(rt, \"EXPTYPE\", ext=0) for rt in lp6_rawtags_fp13 if \"rawtag_a\" in rt]\n",
    "rawtag_a_expstart_times = [fits.getval(rt, \"EXPSTART\", ext=1) for rt in lp6_rawtags_fp13 if \"rawtag_a\" in rt]\n",
    "\n",
    "\n",
    "# Test 1\n",
    "# Check chronological sorting\n",
    "assert all(np.diff(rawtag_a_expstart_times) >= 0),\"These exposures are not ordered by start time.\"\n",
    "print(\"Passed Test #1: The exposures are in chronological order.\")\n",
    "\n",
    "\n",
    "# Test 2\n",
    "# Check science exposures are bracketed by wavecals\n",
    "for i, rta_type in enumerate(rawtag_a_exptypes):\n",
    "    if rta_type == \"EXTERNAL/SCI\":\n",
    "        assert rawtag_a_exptypes[i-1] == \"WAVECAL\", \"EXTERNAL/SCI exposure not preceded by a WAVECAL exposure\"\n",
    "        assert rawtag_a_exptypes[i+1] == \"WAVECAL\", \"EXTERNAL/SCI exposure not followed by a WAVECAL exposure\"\n",
    "print(\"Passed Test #2: Each EXTERNAL/SCI is bracketted on both sides by a WAVECAL exposure.\")\n",
    "\n",
    "# Test 3 \n",
    "# Check that only these groups of exposures exist (WAVECAL-->EXTERNAL/SCI-->WAVECAL)\n",
    "for group_of_3 in [rawtag_a_exptypes[3*i:3*i+3] for i in range(int(len(rawtag_a_exptypes)/3))]:\n",
    "    assert group_of_3 == ['WAVECAL', 'EXTERNAL/SCI', 'WAVECAL'], \"Incorrect groupings of exposures\"\n",
    "print(\"Passed Test #3: No unexpected groupings of files were found.\")"
   ]
  },
  {
   "cell_type": "markdown",
   "metadata": {},
   "source": [
    "Below, we may inspect these files by eye, and see that they are indeed ordered correctly."
   ]
  },
  {
   "cell_type": "code",
   "execution_count": null,
   "metadata": {},
   "outputs": [],
   "source": [
    "pd.DataFrame({\n",
    "    \"Rootname\":[name.upper() for name in rawtag_a_rootnames], \n",
    "    \"Exposure_type\":rawtag_a_exptypes, \n",
    "    \"Exposure_start_date\":rawtag_a_expstart_times, # Date in MJD\n",
    "    \"Seconds_since_first_exposure\":\\\n",
    "        # convert time since the first exposure into seconds\n",
    "        86400*np.subtract(rawtag_a_expstart_times, min(rawtag_a_expstart_times))\n",
    "})"
   ]
  },
  {
   "cell_type": "markdown",
   "metadata": {},
   "source": [
    "Once we are sure that the correct exposures are selected, we gather the information we need for an association table:\n",
    "* The exposure ID (`ROOTNAME`) of each exposure.\n",
    "  * When capitalized, this is the same as the `MEMNAME` we find in association files.\n",
    "* The exposure type (`EXPTYPE`) of each exposure.\n",
    "  * We will need to convert from the way that exposure types are written in the FITS header to the way `CalCOS` will recognize them in the association file.\n",
    "\n",
    "To prevent duplication, we only gather this information from either the `rawtag_a` or `rawtag_b` files."
   ]
  },
  {
   "cell_type": "code",
   "execution_count": null,
   "metadata": {},
   "outputs": [],
   "source": [
    "# Choose either rawtag_a (default) of rawtag_b files if no rawtag_a files found\n",
    "if any([\"rawtag_a\" in rt for rt in lp6_rawtags_fp13]):\n",
    "    segment_found=\"a\"\n",
    "elif any([\"rawtag_b\" in rt for rt in lp6_rawtags_fp13]):\n",
    "    segment_found=\"b\"\n",
    "else:\n",
    "    print(\"Neither rawtag_a nor rawtag_b found.\")\n",
    "\n",
    "lp6_fp13_memnames = [fits.getval(rt, \"ROOTNAME\", ext=0).upper() for rt in lp6_rawtags_fp13 if f\"rawtag_{segment_found}\" in rt]\n",
    "lp6_fp13_exptypes = [fits.getval(rt, \"EXPTYPE\", ext=0) for rt in lp6_rawtags_fp13 if f\"rawtag_{segment_found}\" in rt]\n",
    "# We need to change the wavecals' MEMTYPE to \"EXP-SWAVE\", and the sciences' to \"EXP-FP\"\n",
    "# If these were GO or AUTO wavecals, we would instead convert to \"EXP-AWAVE\" or \"EXP-GWAVE\"\n",
    "lp6_fp13_exptypes = [\n",
    "    \"EXP-SWAVE\" if etype == \"WAVECAL\" \n",
    "    else \"EXP-FP\" if etype == \"EXTERNAL/SCI\" \n",
    "    else None for etype in lp6_fp13_exptypes\n",
    "]\n",
    "print(f\"Gathered exposure information for creating a new non-TAGFLASH association file.\")"
   ]
  },
  {
   "cell_type": "markdown",
   "metadata": {},
   "source": [
    "<a id = 332-creating-the-split-wavecal-association-fileAF></a>\n",
    "### 3.3.2. Creating the `SPLIT` wavecal association file\n",
    "Now that we've gathered `MEMNAME`s and `MEMTYPE`s of our exposures, we can create the association file. This very closely mirrors [Section 3.2](#32-with-fits-header-metadata)."
   ]
  },
  {
   "cell_type": "code",
   "execution_count": null,
   "metadata": {},
   "outputs": [],
   "source": [
    "# Adding the exposure file details to the association table\n",
    "new_asn_memnames = lp6_fp13_memnames # MEMNAME\n",
    "types = lp6_fp13_exptypes # MEMTYPE\n",
    "included = [True] * len(lp6_fp13_memnames) # MEMPRSNT\n",
    "\n",
    "# Adding the output science product details to the end of the association table columns\n",
    "new_asn_memnames.append('splitwave'.upper()) # MEMNAME column\n",
    "types.append('PROD-FP') # MEMTYPE column\n",
    "included.append(True) # MEMPRSNT column\n",
    "\n",
    "# Convert the columns into a the necessary form for a fits file\n",
    "c1 = fits.Column(name='MEMNAME', array=np.array(new_asn_memnames), format='40A') \n",
    "c2 = fits.Column(name='MEMTYPE', array=np.array(types), format='14A')\n",
    "c3 = fits.Column(name='MEMPRSNT', format='L', array=included)\n",
    "\n",
    "with fits.open(lp6_original_asnfile, mode='readonly') as hdulist: # Open up the old asn file\n",
    "    hdulist.info() # Shows the first hdu is empty except for the header we want\n",
    "    hdu0 = hdulist[0] # We want to directly copy over the old 0th header/data-unit\n",
    "    d0 = hdulist[0].data # gather the data from the header/data unit to allow the readout\n",
    "    h1 = hdulist[1].header # gather the header from the 1st header/data unit to copy to our new file\n",
    "    \n",
    "hdu1 = fits.BinTableHDU.from_columns([c1, c2, c3], header=h1) # Put together new 1st hdu from old header and new data\n",
    "\n",
    "new_HDUlist = fits.HDUList([hdu0,hdu1]) # New HDUList from old HDU 0 and new combined HDU 1\n",
    "new_HDUlist.writeto(outputdir / 'splitwave_asn.fits', overwrite=True) # Write this out to a new file\n",
    "new_asnfile = outputdir / 'splitwave_asn.fits' # Path to this new file\n",
    "print('\\nSaved '+ 'splitwave_asn.fits'+ f\" in the output directory: {outputdir}\")"
   ]
  },
  {
   "cell_type": "code",
   "execution_count": null,
   "metadata": {},
   "outputs": [],
   "source": [
    "Table.read(outputdir/\"splitwave_asn.fits\")"
   ]
  },
  {
   "cell_type": "markdown",
   "metadata": {},
   "source": [
    "Well done - you have now successfully created the association file you need to process your `SPLIT` wavecal data. If you wish to test it by running the `CalCOS` data calibration pipeline on it, you may run the file `test_splitwave_asn.py` in this directory. Note the following requirements: \n",
    "1. `test_splitwave_asn.py` can only be run after creating the `asn` files in Section 3.3 of this Notebook.\n",
    "2. Your version of `CalCOS` must be ≥ 3.4. This version introduced the ability to process SPLIT wavecal data to the pipeline. You can check your version with `calcos --version` from the command line.\n",
    "3. You must first update the `lref` environment variable set in `test_splitwave_asn.py` to the path to a directory containing all of your reference files. For more information on setting up such a directory, see [our Notebook on setting up an environment for COS data analysis](https://github.com/spacetelescope/notebooks/blob/master/notebooks/COS/Setup/Setup.ipynb)."
   ]
  },
  {
   "cell_type": "markdown",
   "metadata": {},
   "source": [
    "## Congratulations! You finished this Notebook!\n",
    "<font size=\"5\">There are more COS data walkthrough Notebooks on different topics. You can find them <a href=\"https://spacetelescope.github.io/COS-Notebooks/\">here</a>.</font>"
   ]
  },
  {
   "cell_type": "markdown",
   "metadata": {},
   "source": [
    "---\n",
    "## About this Notebook\n",
    "**Author:** Nat Kerman: <nkerman@stsci.edu>\n",
    "\n",
    "**Contributors:** Elaine Mae Frazer, Travis Fischer\n",
    "\n",
    "**Updated On:** 2022-09-20\n",
    "\n",
    "> *This tutorial was generated to be in compliance with the [STScI style guides](https://github.com/spacetelescope/style-guides) and would like to cite the [Jupyter guide](https://github.com/spacetelescope/style-guides/blob/master/templates/example_notebook.ipynb) in particular.*\n",
    "\n",
    "## Citations\n",
    "\n",
    "If you use `astropy`, `matplotlib`, `astroquery`, or `numpy` for published research, please cite the\n",
    "authors. Follow these links for more information about citations:\n",
    "\n",
    "* [Citing `astropy`/`numpy`/`matplotlib`](https://www.scipy.org/citing.html)\n",
    "* [Citing `astroquery`](https://astroquery.readthedocs.io/en/latest/)\n",
    "\n",
    "---\n",
    "\n",
    "[Top of Page](#topAF)\n",
    "<img style=\"float: right;\" src=\"https://raw.githubusercontent.com/spacetelescope/notebooks/master/assets/stsci_pri_combo_mark_horizonal_white_bkgd.png\" alt=\"Space Telescope Logo\" width=\"200px\"/> \n",
    "\n",
    "<br></br>\n",
    "<br></br>\n",
    "<br></br>"
   ]
  }
 ],
 "metadata": {
  "kernelspec": {
   "display_name": "Python 3.9.5 ('fs2')",
   "language": "python",
   "name": "python3"
  },
  "language_info": {
   "codemirror_mode": {
    "name": "ipython",
    "version": 3
   },
   "file_extension": ".py",
   "mimetype": "text/x-python",
   "name": "python",
   "nbconvert_exporter": "python",
   "pygments_lexer": "ipython3",
   "version": "3.9.5"
  },
  "nbdime-conflicts": {
   "local_diff": [
    {
     "diff": [
      {
       "diff": [
        {
         "key": 0,
         "op": "addrange",
         "valuelist": [
          "Python 3.9.5 ('fs2')"
         ]
        },
        {
         "key": 0,
         "length": 1,
         "op": "removerange"
        }
       ],
       "key": "display_name",
       "op": "patch"
      }
     ],
     "key": "kernelspec",
     "op": "patch"
    },
    {
     "diff": [
      {
       "diff": [
        {
         "key": 0,
         "op": "addrange",
         "valuelist": [
          "3.9.5"
         ]
        },
        {
         "key": 0,
         "length": 1,
         "op": "removerange"
        }
       ],
       "key": "version",
       "op": "patch"
      }
     ],
     "key": "language_info",
     "op": "patch"
    }
   ],
   "remote_diff": [
    {
     "diff": [
      {
       "diff": [
        {
         "key": 0,
         "op": "addrange",
         "valuelist": [
          "Python 3 (ipykernel)"
         ]
        },
        {
         "key": 0,
         "length": 1,
         "op": "removerange"
        }
       ],
       "key": "display_name",
       "op": "patch"
      }
     ],
     "key": "kernelspec",
     "op": "patch"
    },
    {
     "diff": [
      {
       "diff": [
        {
         "key": 0,
         "op": "addrange",
         "valuelist": [
          "3.9.7"
         ]
        },
        {
         "key": 0,
         "length": 1,
         "op": "removerange"
        }
       ],
       "key": "version",
       "op": "patch"
      }
     ],
     "key": "language_info",
     "op": "patch"
    }
   ]
  },
  "vscode": {
   "interpreter": {
    "hash": "e5784b3e3be4ffa319eb7c9e4ac489bbbf191ad109372c471204ed1d5c08c61e"
   }
  }
 },
 "nbformat": 4,
 "nbformat_minor": 4
}
