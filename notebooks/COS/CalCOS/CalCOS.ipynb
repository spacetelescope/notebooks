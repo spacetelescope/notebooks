{
 "cells": [
  {
   "cell_type": "markdown",
   "metadata": {},
   "source": [
    "<a id=\"topC\"></a>\n",
    "\n",
    "# Running the COS Data Pipeline (`CalCOS`)\n",
    "\n",
    "# Learning Goals\n",
    "<font size=\"4 \"> This Notebook is designed to walk the user (<em>you</em>) through:</font>\n",
    "\n",
    "**1. [Setting up the environment to run `CalCOS`](#setupC)**\n",
    "\n",
    "\\- 1.1. [Prerequisites](#prereqC)\n",
    "\n",
    "\\- 1.2. [Create your conda environment](#condaenvC)\n",
    "\n",
    "\\- 1.3. [Imports and basic directories](#impdirC)\n",
    "\n",
    "\\- 1.4. [Set up a reference file directory](#lrefC)\n",
    "\n",
    "\n",
    "**2. [Gathering the data to run `CalCOS`](#gatherC)**\n",
    "\n",
    "\\- 2.1. [Downloading the raw data](#datadlC)\n",
    "\n",
    "\\- 2.2. [Gathering reference files](#reffileC)\n",
    "\n",
    "**3. [Processing raw COS data using `CalCOS`](#runC)**\n",
    "\n",
    "\\- 3.1. [Running `CalCOS`: *From a python environment*](#runpyC)\n",
    "\n",
    "\\- 3.2. [Running `CalCOS`: *From the command line*](#runcliC)\n",
    "\n",
    "**4. [Re-processing COS data with altered parameters](#rerunC)**\n",
    "\n",
    "\\- 4.1. [Altering the calibration switches](#alterswitchC)\n",
    "\n",
    "\\- 4.2. [Running `CalCOS` with a specific set of switches](#switchrunC)\n",
    "\n",
    "\\- 4.3. [Running `CalCOS` with a different reference file](#refrunC)\n"
   ]
  },
  {
   "cell_type": "markdown",
   "metadata": {},
   "source": [
    "# 0. Introduction\n",
    "**The Cosmic Origins Spectrograph ([*COS*](https://www.nasa.gov/content/hubble-space-telescope-cosmic-origins-spectrograph)) is an ultraviolet spectrograph on-board the Hubble Space Telescope ([*HST*](https://www.stsci.edu/hst/about)) with capabilities in the near ultraviolet (*NUV*) and far ultraviolet (*FUV*).**\n",
    "\n",
    "**`CalCOS`** is the data processing pipeline which converts the raw data produced by COS's detectors onboard HST into usable spectral data. It transforms the data from a list of many individual recorded photon interactions into tables of wavelength and flux at that wavelength.\n",
    "\n",
    "**This tutorial aims to prepare you run the `CalCOS` pipeline to reduce spectral data taken with the COS instrument.** It focuses on COS data taken in `TIME-TAG` mode. \n",
    "*Note* that there is another, less commonly used mode: `ACCUM`, which should generally be used only for UV bright targets.\n",
    "\n",
    "- For an in-depth manual to working with COS data and a discussion of caveats and user tips, see the [COS Data Handbook](https://hst-docs.stsci.edu/display/COSDHB/).\n",
    "- For a detailed overview of the COS instrument, see the [COS Instrument Handbook](https://hst-docs.stsci.edu/display/COSIHB/)."
   ]
  },
  {
   "cell_type": "markdown",
   "metadata": {},
   "source": [
    "#### Notes for those new to Python/Jupyter/Coding:\n",
    "- You will frequently see exclamation points (**!**) or dollar signs (**\\$**) at the beginning of a line of code. These are not part of the actual commands. The exclamation points tell a jupyter Notebook to pass the following line to the command line, and the dollar sign merely indicates the start of a terminal prompt. "
   ]
  },
  {
   "cell_type": "markdown",
   "metadata": {},
   "source": [
    "<a id = setupC></a>\n",
    "# 1. Setting up the environment to run `CalCOS`\n",
    "\n",
    "The first step to processing your data is setting up an environment from which to run `CalCOS`.\n",
    "<a id = prereqC></a>\n",
    "## 1.1. Prerequisites\n",
    "This tutorial assumes some basic knowledge of the command line and was built using a unix style shell. Those using a Windows computer will likely have the best results if working within the [Windows Subsystem for Linux](https://docs.microsoft.com/en-us/windows/wsl/install-win10).\n",
    "\n",
    "If you do not already have any distribution of the `conda` tool, see [this page](https://astroconda.readthedocs.io/en/latest/getting_started.html#getting-started-jump) for instructions, and install either [`anaconda` (more beginner friendly, \\~ 3 GB, lots of extras you likely won't use)](https://docs.anaconda.com/anaconda/install/) or [`miniconda` (\\~ 400 MB, only what you need to make environments)](https://docs.conda.io/en/latest/miniconda.html).\n"
   ]
  },
  {
   "cell_type": "markdown",
   "metadata": {},
   "source": [
    "\n",
    "<a id = condaenvC></a>\n",
    "## 1.2. Create your conda environment\n",
    "\n",
    "Once you have `conda` installed, you can create an environment. \n",
    "\n",
    "Open up your terminal app, likely `Terminal` or `iTerm` on a Mac or `Windows Terminal` or `Powershell` on Windows.\n",
    "\n",
    "First, add the \"conda-forge\" channel to your computer's conda channel list. This enables conda to look in the right place to find all the packages we want to install.\n",
    "\n",
    "``` $ conda config --add channels conda-forge ```\n",
    "\n",
    "Now we can create a new environment for running `CalCOS`; let's call it `calcos_env`, and initialize it with python version 3.10 and several packages we'll need.\n",
    "\n",
    "``` $ conda create -n calcos_env python=3.10 notebook jupyterlab numpy astropy matplotlib astroquery```\n",
    "\n",
    "After allowing conda to proceed to installing the packages (type `y` then hit enter/return), you can see all of your environments with:\n",
    "\n",
    "``` $ conda env list```\n",
    "\n",
    "and then switch over to your new environment with \n",
    "\n",
    "``` $ conda activate calcos_env ```\n",
    "\n",
    "<!-- Substitute for working astroconda - hopefully change once astroconda is updated  -->\n",
    "\n",
    "Finally you must install the `CalCOS` and `CRDS` packages using `pip`:\n",
    "\n",
    "``` $ pip install calcos crds```\n",
    "\n",
    "At this point, typing `calcos --version` into the command line and hitting enter should no longer yield the error \n",
    "\n",
    "> ```command not found: calcos``` \n",
    "\n",
    "but rather respond with a version number, i.e. `3.4.0`."
   ]
  },
  {
   "cell_type": "markdown",
   "metadata": {},
   "source": [
    "At this point, if you started this Jupyter Notebook in another Python environment, you should now quit that instance, run `$ conda activate calcos_env`, and reopen this Jupyter Notebook. If you're unsure whether you're already using the `calcos_env` environment, you can see the active environment with the following cell."
   ]
  },
  {
   "cell_type": "code",
   "execution_count": null,
   "metadata": {},
   "outputs": [],
   "source": [
    "# Displays name of current conda environment\n",
    "from os import environ\n",
    "print(\"You are using:\", environ[\"CONDA_DEFAULT_ENV\"])"
   ]
  },
  {
   "cell_type": "markdown",
   "metadata": {},
   "source": [
    "<a id=impdirC></a>\n",
    "\n",
    "## 1.3. Imports and basic directories\n",
    "\n",
    "We will import the following packages:\n",
    "\n",
    "- `calcos` to run the COS data pipeline\n",
    "- `astroquery.mast Mast and Observations` for finding and downloading data from the [MAST](https://mast.stsci.edu/portal/Mashup/Clients/Mast/Portal.html) archive\n",
    "- `numpy` to handle array functions (version $\\ge$ 1.17)\n",
    "- `astropy.io` fits for accessing FITS files\n",
    "- `astropy.table Table` for creating/reading organized tables of the data\n",
    "- `matplotlib.pyplot` for plotting data\n",
    "- `glob`, `shutil`, and `os` for searching and working with system files and variables\n",
    "- `pathlib Path` for managing system paths"
   ]
  },
  {
   "cell_type": "code",
   "execution_count": null,
   "metadata": {},
   "outputs": [],
   "source": [
    "# Import for: The COS Data Reduction Pipeline\n",
    "import calcos\n",
    "\n",
    "# Import for: Manipulating arrays\n",
    "import numpy as np\n",
    "\n",
    "# Import for: Reading in data\n",
    "from astropy.io import fits\n",
    "from astropy.table import Table\n",
    "\n",
    "# Import for: Plotting\n",
    "import matplotlib.pyplot as plt\n",
    "# This line makes matplotlib plots appear in the Notebook instead of possibly showing up in separate windows\n",
    "%matplotlib inline\n",
    "\n",
    "# Import for: Downloading data from archive\n",
    "from astroquery.mast import Observations\n",
    "\n",
    "# Import for: Searching for files on our system\n",
    "import glob\n",
    "\n",
    "# Import for: Making environment variables\n",
    "import os, shutil\n",
    "\n",
    "# Import for: Working with system paths\n",
    "from pathlib import Path"
   ]
  },
  {
   "cell_type": "markdown",
   "metadata": {},
   "source": [
    "### We will also define a few basic directories in which to place our inputs and outputs."
   ]
  },
  {
   "cell_type": "code",
   "execution_count": null,
   "metadata": {},
   "outputs": [],
   "source": [
    "# These will be important directories for the Notebook\n",
    "\n",
    "datadir = Path('./data/')\n",
    "outputdir = Path('./output/')\n",
    "\n",
    "# Make the directories if they don't exist\n",
    "datadir.mkdir(exist_ok=True), outputdir.mkdir(exist_ok=True)"
   ]
  },
  {
   "cell_type": "markdown",
   "metadata": {},
   "source": [
    "<a id = lrefC></a>\n",
    "## 1.4. Set up a reference file directory\n",
    "\n",
    "`CalCOS` needs to be able to find all your reference files, (flat field image, bad pixel table, etc.), and the best way to enable that is to create a central directory of all the calibration files you'll need. We refer to this directory  as \"lref\" by convention, and set a system variable `lref` to the location of the directory. In this section, we will create the `lref` environment variable; however, we need to populate the `lref` folder with the actual reference files. We do this in [Section 2.2](#reffileC). If you have already downloaded the set of COS reference files you need to use into an existing lref directory, you should instead set `lref` to the path to this directory. \n",
    "\n",
    "We can assign a system variable in three different ways, depending on whether we are working from:\n",
    "1. The command line\n",
    "2. A python environment\n",
    "3. A Jupyter Notebook\n",
    "\n",
    "|Unix-style Command Line| Python | Jupyter Notebook|\n",
    "|-|-|-|\n",
    "| export lref='./data/reference/...' | os.environ[\"lref\"] = \"./data/reference/...\"| %env lref ./data/reference/...|\n",
    "\n",
    "\n",
    "Note that this system variable must be set again with every new instance of a terminal - if you frequently need to use the same `lref` directory, consider adding an export statement to your `.bash_profile` or equivalent file.\n",
    "\n",
    "Because this is a jupyter Notebook, we set our reference directory with the [cell magic](https://ipython.readthedocs.io/en/stable/interactive/magics.html) below:\n",
    "\n",
    "<!-- Looking in the headers of our data below, we see that the `$lref` argument appears at the beginning of all of the reference file locations: -->"
   ]
  },
  {
   "cell_type": "code",
   "execution_count": null,
   "metadata": {},
   "outputs": [],
   "source": [
    "%env lref ./data/reference/references/hst/cos/"
   ]
  },
  {
   "cell_type": "markdown",
   "metadata": {},
   "source": [
    "We can note the value of the system variable using the `echo` command:"
   ]
  },
  {
   "cell_type": "code",
   "execution_count": null,
   "metadata": {},
   "outputs": [],
   "source": [
    "!echo $lref"
   ]
  },
  {
   "cell_type": "markdown",
   "metadata": {},
   "source": [
    "---\n",
    "\n",
    "<a id = gatherC></a>\n",
    "# 2. Gathering the data to run `CalCOS`\n",
    "\n",
    "The `CalCOS` pipeline can be run either from a python environment, or directly from a Unix-style command line. The two use the same underlying machinery but can differ in syntax. For specifics on the keywords to run `CalCOS` with specific behaviors and arguments, see [Table 3.2: Arguments for Running CalCOS in Python](https://hst-docs.stsci.edu/cosdhb/chapter-3-cos-calibration/3-6-customizing-cos-data-calibration) and [Table 3.3: Command-line Options for Running CalCOS in Unix/Linux/Mac](https://hst-docs.stsci.edu/cosdhb/chapter-3-cos-calibration/3-6-customizing-cos-data-calibration).\n",
    "\n",
    "<a id = datadlC></a>\n",
    "## 2.1. Downloading the raw data\n",
    "\n",
    "First, we need to make sure we have all of our data ready and in the right spot. If you are unfamiliar with searching the archive for data, we recommend that you view our [tutorial on downloading COS data](https://github.com/spacetelescope/COS-Notebooks). This Notebook will largely gloss over downloading the data.\n",
    "\n",
    "To run `CalCOS`, we will need the following files:\n",
    "1. All the **raw data** from separate exposures we wish to combine as `_rawtag` fits files\n",
    "2. The **association** file telling `CalCOS` which files to combine as a `_asn` fits file.\n",
    "\n",
    "***Note* that we do not generally run the `CalCOS` pipeline directly on the data files, but instead on an association `_asn` file. This allows for the calibration of related exposures into combined `_x1dsum` files.**\n",
    "\n",
    "If you instead use `_rawtag` or `_corrtag` exposure files files as your inputs, you will only receive the exposure-specific `_x1d` files as your outputs.\n",
    "\n",
    "For this example, we're choosing the dataset `LCXV13040` of COS/FUV observing the [quasar 3C48](https://en.wikipedia.org/wiki/3C_48). In the cell below we download the data from the archive."
   ]
  },
  {
   "cell_type": "code",
   "execution_count": null,
   "metadata": {},
   "outputs": [],
   "source": [
    "# Guery the MAST archive for data with observation id starting with lcxv1304\n",
    "q1 = Observations.query_criteria(obs_id='lcxv1304*')\n",
    "\n",
    "# Make a list of all products we could download associates with this file\n",
    "pl = Observations.get_product_list(q1)\n",
    "\n",
    "# Filter to a list of only the products which are association files\n",
    "asn_file_list = pl[pl[\"productSubGroupDescription\"] == 'ASN']\n",
    "\n",
    "# Filter to a list of only the products which are rawtag files\n",
    "rawtag_list = pl[\n",
    "    (pl[\"productSubGroupDescription\"] == 'RAWTAG_A') | \n",
    "    (pl[\"productSubGroupDescription\"] == 'RAWTAG_B')\n",
    "]\n",
    "\n",
    "# Download the two file lists to the data directory\n",
    "rawtag_locs = Observations.download_products(\n",
    "    rawtag_list, download_dir=str(datadir))\n",
    "asn_locs = Observations.download_products(\n",
    "    asn_file_list, download_dir=str(datadir))"
   ]
  },
  {
   "cell_type": "markdown",
   "metadata": {},
   "source": [
    "**By default, each exposure's files are downloaded to separate directories, as is the association file.**\n",
    "\n",
    "We need to move around these files to all be in the same directory, which we do below."
   ]
  },
  {
   "cell_type": "code",
   "execution_count": null,
   "metadata": {},
   "outputs": [],
   "source": [
    "# move the files to the base data directory\n",
    "for lpath in rawtag_locs['Local Path']:\n",
    "    Path(lpath).replace(datadir/os.path.basename(lpath))\n",
    "for lpath in asn_locs['Local Path']:\n",
    "    Path(lpath).replace(datadir/os.path.basename(lpath))\n",
    "    asn_name = os.path.basename(lpath)\n",
    "\n",
    "# Delete the now-empty nested subdirectories\n",
    "shutil.rmtree(datadir/'mastDownload')"
   ]
  },
  {
   "cell_type": "markdown",
   "metadata": {},
   "source": [
    "<a id = reffileC></a>\n",
    "## 2.2. Gathering reference files\n",
    "\n",
    "The following process of gathering reference files is given a detailed explanation in Section 3 of our [Notebook on Setting up an environment to work with COS data](https://github.com/spacetelescope/notebooks/blob/master/notebooks/COS/Setup/Setup.ipynb). Your process will be somewhat simpler and quicker if you have already downloaded the reference files.\n",
    "\n",
    "Each data file has an associated set of calibration files which are needed to run the associated correction with (i.e. you need the `FLATFILE` to flat field correct the data.) These reference files must be located in the `$lref` directory to run the pipeline.\n",
    "\n",
    "The Space Telescope Science Institute (STScI) team is regularly producing new calibration files in an effort to keep improving data reduction. Periodically the pipeline is re-run on all COS data.\n",
    "To determine which reference files were used most recently by STScI to calibrate your data, you can refer to your data file's \"CRDS_CTX\" keyword in its fits header (see next cell)."
   ]
  },
  {
   "cell_type": "code",
   "execution_count": null,
   "metadata": {},
   "outputs": [],
   "source": [
    "# Find all of the raw files:\n",
    "rawfiles = glob.glob(str(datadir/'*raw*.fits'))\n",
    "# Get the header of the 0th raw file, look for its CRDS context keyword:\n",
    "crds_ctx = fits.getheader(rawfiles[0])['CRDS_CTX']\n",
    "# Print it:\n",
    "print(f\"The CRDS Context last run with {rawfiles[0]} was:\\t{crds_ctx}\")"
   ]
  },
  {
   "cell_type": "markdown",
   "metadata": {},
   "source": [
    "The value of this keyword in the header is a `.pmap` or observatory context file which tells the CRDS calibration data distribution program which files to distribute. You can also find the newest \"operational\" context on the [HST CRDS website](https://hst-crds.stsci.edu).\n",
    "\n",
    "To download the reference files specified by a context file, we use the `crds` tool we installed earlier. "
   ]
  },
  {
   "cell_type": "markdown",
   "metadata": {},
   "source": [
    "---\n",
    "**If you haven't already downloaded up-to-date reference files,** (as in Section 3 of \"Setup.ipynb\",) [click to skip this cell and begin downloading the files!](#skipcellC)\n",
    "\n",
    "**If you have recently downloaded COS reference files,** (i.e. if you ran Section 3 of the \"Setup\" Notebook,) you likely do not have to download more reference files. Instead, follow the instructions in this cell and then skip to Section 3.\n",
    "\n",
    "If you already downloaded the files, you can simply point the pipeline to the ones you downloaded, using the `crds bestrefs` command, as shown in the following three steps. Run these steps from your command line if you already have the reference files in a local cache. *Note* also that there may be newer reference files available. To make sure you are always using the most up-to-date reference files, we advise you familiarize yourself with the newest files and documentation at the [CRDS homepage](https://hst-crds.stsci.edu).\n",
    "\n",
    "1. The following sets the environment variable for crds to look for the reference data online:\n",
    "\n",
    "```$ export CRDS_SERVER_URL=https://hst-crds.stsci.edu``` \n",
    "\n",
    "2. The following tells crds where to save the files it downloads - set this to the directory where you saved the crds_cache, i.e. in [Section 3 of our Notebook on \"Setup\"](https://spacetelescope.github.io/COS-Notebooks/Setup.html#crdsS):\n",
    "\n",
    "```$ export CRDS_PATH=${HOME}/crds_cache```\n",
    "\n",
    "3. The following will update the data files you downloaded so that they will be processed with the reference files you previously downloaded:\n",
    "\n",
    "```$ crds bestrefs --files data/*raw*.fits --update-bestrefs --new-context '<the imap or pmap file you used to download the reference files>'```\n",
    "\n",
    "\n",
    "**Assuming everything ran successfully, you can now [skip to Section 3](#runC).**\n",
    "\n",
    "---"
   ]
  },
  {
   "cell_type": "markdown",
   "metadata": {},
   "source": [
    "<a id=skipcellC></a>\n",
    "\n",
    "<font size=\"4 \"> If you have not yet downloaded the reference files, you will need to do so, as shown below:</font>\n",
    "\n",
    "<font size=\"4 \">Caution!</font>\n",
    "    \n",
    "<img src= ./figures/warning.png width =\"60\" title=\"CAUTION!\"> \n",
    "\n",
    "*Note* that as of the time of this Notebook's last update, the pipeline context used below was **`hst_0989.pmap`**, but this changes over time. You are running this in the future, and there is certainly a newer context you would be better off working with. Take a minute to consider this, and check the [HST Calibration Reference Data System webpage](http://hst-crds.stsci.edu/) to determine what the **current operational pmap file** is. "
   ]
  },
  {
   "cell_type": "markdown",
   "metadata": {},
   "source": [
    "Unless we are connected to the STScI network, or already have the reference files on our machine, we will need to download the reference files and tell the pipeline where to look for the flat files, bad-pixel files, etc.\n",
    "\n",
    "The process in the following two cells can take a long time and strain network resources. If you have already downloaded *up-to-date* COS reference files, we recommend that you avoid doing so again. Instead, keep these crds files in an accessible location, and point an environment variable `lref` to this directory. For instance, if your `lref` files are on your username's home directory in a subdirectory called `crds_cache`, give Jupyter the following command then skip to [Section 2.3](#runpyC):\n",
    "\n",
    "```%env lref /Users/<your username>/crds_cache/references/hst/cos/```\n",
    "\n",
    "If you have an older cache of reference files, you may also simply update your cached reference files. Please see the [CRDS Guide](https://hst-crds.stsci.edu/static/users_guide/index.html) for more information.\n",
    "\n",
    "Assuming you have not yet downloaded these files, in the next two cells, we will setup an environment of reference files, download the files, and save the output of the crds download process in a log file:"
   ]
  },
  {
   "cell_type": "code",
   "execution_count": null,
   "metadata": {},
   "outputs": [],
   "source": [
    "%%capture cap --no-stderr \n",
    "# The above ^ allows us to redirect the cell's output into a txt file created in the next cell\n",
    "#  This avoids a very long printed output\n",
    "%env CRDS_SERVER_URL https://hst-crds.stsci.edu\n",
    "# The above ^ sets an environment variable for crds to look for the reference data online\n",
    "%env CRDS_PATH ./data/reference/ \n",
    "#The above ^ tells crds where to save the files it downloads\n",
    "\n",
    "# The next command depends on your context and pmap file  - it looks up the specified pmap \"context\" file,\n",
    "    # which tells it what reference files to download. It then downloads these to the CRDS_PATH directory\n",
    "# You may wish to update this pmap if there is a newer pmap file - check https://hst-crds.stsci.edu\n",
    "!crds bestrefs --files data/*raw*.fits  --sync-references=2 --update-bestrefs --new-context 'hst_0989.pmap' "
   ]
  },
  {
   "cell_type": "code",
   "execution_count": null,
   "metadata": {},
   "outputs": [],
   "source": [
    "# This file will contain the output of the last cell\n",
    "with open(str(outputdir/'crds_output_1.txt'), 'w') as f:\n",
    "    f.write(cap.stdout)"
   ]
  },
  {
   "cell_type": "markdown",
   "metadata": {},
   "source": [
    "**We'll print the beginning and end of that file just to take a look:**"
   ]
  },
  {
   "cell_type": "code",
   "execution_count": null,
   "metadata": {},
   "outputs": [],
   "source": [
    "crds_output_dict = {}  # pair each line with its line number, start at 0\n",
    "with open(str(outputdir/'crds_output_1.txt'), 'r') as cell_outputs:  # open the file\n",
    "    for linenum, line in enumerate(cell_outputs):  # loop through lines\n",
    "        crds_output_dict[linenum] = line[:-1]  # save each line to dict\n",
    "# Get the length of the dictionary - how many lines of output\n",
    "total_lines = len(crds_output_dict)\n",
    "\n",
    "print(\n",
    "    f\"Printing the first and last 5 lines of {total_lines} lines output by the previous cell:\\n\")\n",
    "for i in np.append(range(5), np.subtract(total_lines - 1, range(5)[::-1])):\n",
    "    print(f\"Line {i}:   \\t\", crds_output_dict[i])\n",
    "\n",
    "# Delete the contents of the dict to avoid 'garbage' filling memory\n",
    "crds_output_dict.clear()"
   ]
  },
  {
   "cell_type": "markdown",
   "metadata": {},
   "source": [
    "**Line 158 of the output should show 0 errors.**\n",
    "\n",
    "If you receive errors, you may need to attempt to run the `crds bestrefs` line again. These errors can arise from imperfect network connections. \n",
    "\n",
    "**It is recommended that you use this new `$lref` folder of reference files for subsequent `CalCOS` use, rather than re-downloading the reference files each time.** To do this (*after completing this Notebook*): \n",
    "- Save this folder somewhere accessibile, i.e. `~/crds_cache`\n",
    "- Add a line to your .bashrc or similar: `export lref=<Path to your reference file directory>`\n",
    "  - If you wish to avoid adding this to your .bashrc, simply type the line above into any terminal you wish to run `CalCOS` from\n",
    "  - If running `CalCOS` from a jupyter Notebook, instead add a cell with: `%env lref /Users/<Your Username>/crds_cache/references/hst/cos`"
   ]
  },
  {
   "cell_type": "markdown",
   "metadata": {},
   "source": [
    "<a id = runC></a>\n",
    "# 3. Processing raw COS data using `CalCOS`\n",
    "\n",
    "**Now we have all the reference files we need to  run the pipeline on our data.**\n",
    "\n",
    "This following cells which run the pipeline can take a while, sometimes more than **10 minutes**, so you may choose to not run the remaining cells of this Notebook on the example data. You may, instead, wish to simply look at the rendered output in the [html version of this Notebook](https://spacetelescope.github.io/COS-Notebooks/Calcos.html).\n",
    "\n",
    "By default, the pipeline also outputs hundreds of lines of text - we will suppress the printing of this text and instead save it to a text file."
   ]
  },
  {
   "cell_type": "markdown",
   "metadata": {},
   "source": [
    "<a id = runpyC></a>\n",
    "## 3.1. Running `CalCOS`: *From a python environment*"
   ]
  },
  {
   "cell_type": "markdown",
   "metadata": {},
   "source": [
    "**Now, we can run the pipeline program:**\n",
    "\n",
    "Note that generally, `CalCOS` should be run on an association (`_asn`) file (in this case: `./data/lcxv13040_asn.fits`). You *may* run `CalCOS` directly on `_rawtag` or `_corrtag` exposure files, but this will not produce an `_x1dsum` file and can result in errors for data taken at certain lifetime positions. No matter what type of files you run `CalCOS` on, you should only specify the FUVA segment's file, i.e. the `_rawtag_a` file. If a `rawtag_b` file is in the same directory, `CalCOS` will find both segments' files.\n",
    "\n",
    "In this example, we also specify that `verbosity` = 2, resulting in a **very** verbose output, and we specify a directory to put all the output files in: `output/calcos_processed_1`. To avoid polluting this Notebook with more than a thousand lines of the output, we again capture the output of the next cell and save it to `output/output_calcos_1.txt` in the cell below."
   ]
  },
  {
   "cell_type": "code",
   "execution_count": null,
   "metadata": {},
   "outputs": [],
   "source": [
    "%%capture cap --no-stderr \n",
    "# Above ^ again, capture the output and save it in the next cell\n",
    "\n",
    "calcos.calcos(str(datadir/asn_name), # 1st param specifies which asn file to run the pipeline on\n",
    "              verbosity=2, # verbosity param: [0 = don't print much at all to the console or text file, 1 = print some, 2 = print everything]\n",
    "              outdir=str(outputdir/\"calcos_processed_1\")) # save all resulting files in this subdirectory in our output directory"
   ]
  },
  {
   "cell_type": "code",
   "execution_count": null,
   "metadata": {},
   "outputs": [],
   "source": [
    "# This file now contains the output of the last cell\n",
    "with open(str(outputdir/'output_calcos_1.txt'), 'w') as f:\n",
    "    f.write(cap.stdout)"
   ]
  },
  {
   "cell_type": "markdown",
   "metadata": {},
   "source": [
    "**Again, we'll print the beginning and end of that file just to take a look and make sure `CalCOS` ran successfully.**"
   ]
  },
  {
   "cell_type": "code",
   "execution_count": null,
   "metadata": {},
   "outputs": [],
   "source": [
    "calcos_output_dict = {}  # pair each line with its line number, start at 0\n",
    "with open(str(outputdir/'output_calcos_1.txt'), 'r') as cell_outputs:  # open the file\n",
    "    for linenum, line in enumerate(cell_outputs):  # loop through lines\n",
    "        calcos_output_dict[linenum] = line[:-1]  # save each line to dict\n",
    "# Get the length of the dictionary - how many lines of output\n",
    "total_lines = len(calcos_output_dict)\n",
    "\n",
    "print(\n",
    "    f\"Printing the first and last 5 lines of {total_lines} lines output by the previous cell:\\n\")\n",
    "for i in np.append(range(5), np.subtract(total_lines - 1, range(5)[::-1])):\n",
    "    print(f\"Line {i}:   \\t\", calcos_output_dict[i])\n",
    "\n",
    "calcos_output_dict.clear()  # Delete the contents of the dict"
   ]
  },
  {
   "cell_type": "markdown",
   "metadata": {},
   "source": [
    "<a id = runcliC></a>\n",
    "\n",
    "## 3.2. Running `CalCOS`: *From the command line*\n",
    "\n",
    "The syntax for running `CalCOS` from the command line is very similar. Assuming your data files, `lref` directory, and reference files are all where you've told `CalCOS` to look, you can simply run:\n",
    "\n",
    "```calcos --outdir directory_to_save_outputs_in filename_asn.fits```\n",
    "\n",
    "*or, if you want to save a very verbose output to a log file `log.txt`*:\n",
    "\n",
    "```calcos -v --outdir directory_to_save_outputs_in filename_asn.fits > log.txt```\n",
    "\n",
    "To see the full list of commands, [Table 3.2:Command-line Options for Running CalCOS in Unix/Linux/Mac](https://hst-docs.stsci.edu/cosdhb/chapter-3-cos-calibration/3-6-customizing-cos-data-calibration), or run the following cell with no arguments."
   ]
  },
  {
   "cell_type": "code",
   "execution_count": null,
   "metadata": {},
   "outputs": [],
   "source": [
    "!calcos"
   ]
  },
  {
   "cell_type": "markdown",
   "metadata": {},
   "source": [
    "<a id = rerunC></a>\n",
    "# 4. Re-processing COS data with altered parameters"
   ]
  },
  {
   "cell_type": "markdown",
   "metadata": {},
   "source": [
    "<a id = alterswitchC></a>\n",
    "## 4.1. Altering the calibration switches"
   ]
  },
  {
   "cell_type": "markdown",
   "metadata": {},
   "source": [
    "The way to alter how `CalCOS` runs - i.e. which calibrations it performs - is with the **calibration switches** contained in the fits headers. \n",
    "\n",
    "The switches (with the exception of \"XTRACTALG\"), can be set to the values in the following table:\n",
    "\n",
    "|***Value:***|\"PERFORM\"|\"OMIT\"|\"N/A\"|\n",
    "|-|-|-|-|\n",
    "|***Meaning:***|Performs the calibration step|Does not perform the calibration step|This step would not make sense for this file|\n",
    "\n",
    "`XTRACTALG` instead can be set to either \"BOXCAR\" or \"TWOZONE\", to specify the spectral extraction algorithm to be used. For more information, see [Section 3.2.1: \"Overview of TWOZONE extraction\" of the Data Handbook](https://hst-docs.stsci.edu/cosdhb/chapter-3-cos-calibration/3-2-pipeline-processing-overview#id-3.2PipelineProcessingOverview-3.2.1OverviewofTWOZONEextraction).\n",
    "\n",
    "In the cell below, we get a full list of the switches by name. If you want to learn more about the calibration steps and switches, see [Chapters 2 and 3 of the COS Data Handbook](https://hst-docs.stsci.edu/cosdhb)."
   ]
  },
  {
   "cell_type": "code",
   "execution_count": null,
   "metadata": {},
   "outputs": [],
   "source": [
    "# Reads the header of the 0th rawfile\n",
    "header = fits.getheader(rawfiles[0])\n",
    "# The calib switches are found in lines 82 - 109 of the header\n",
    "calibswitches = header[82:109]\n",
    "calibswitches"
   ]
  },
  {
   "cell_type": "markdown",
   "metadata": {},
   "source": [
    "**Let's begin by switching off all the switches currently set to \"PERFORM\" to a new value of \"OMIT\", in every rawfile:**"
   ]
  },
  {
   "cell_type": "code",
   "execution_count": null,
   "metadata": {},
   "outputs": [],
   "source": [
    "verbose = False  # Set to True to see a bit more about what is going on here\n",
    "\n",
    "# Find each rawfile, i is just a counter variable for the files you loop through\n",
    "for i, rawfile in enumerate(rawfiles):\n",
    "    if verbose:\n",
    "        print(rawfile)\n",
    "    header = fits.getheader(rawfiles[i])  # Read that rawfiles header\n",
    "    # Find all calib switches\n",
    "    corrections = [key for key in list(header.keys()) if \"CORR\" in key]\n",
    "\n",
    "    for correction in corrections:\n",
    "        if header[correction] == 'PERFORM':\n",
    "            if verbose:\n",
    "                print(\"switching\\t\", header[correction],\n",
    "                      \"\\t\", correction, \"\\tto OMIT\")\n",
    "            # Turn off all the calib switches\n",
    "            fits.setval(rawfile, correction, value='OMIT', ext=0)"
   ]
  },
  {
   "cell_type": "markdown",
   "metadata": {},
   "source": [
    "**In this case, `CalCOS` realizes that all the switches are set to \"OMIT\", and exits without doing anything.**"
   ]
  },
  {
   "cell_type": "code",
   "execution_count": null,
   "metadata": {},
   "outputs": [],
   "source": [
    "calcos.calcos(str(datadir/asn_name), verbosity=0,\n",
    "              outdir=str(outputdir/\"calcos_processed_2\"))\n",
    "# Run CalCOS with all calib switches OFF; allow text output this time"
   ]
  },
  {
   "cell_type": "markdown",
   "metadata": {},
   "source": [
    "<a id = switchrunC></a>\n",
    "## 4.2. Running `CalCOS` with a specific set of switches\n",
    "Now, let's set a single switch to \"PERFORM\", and just run a flat-field correction (\"FLATCORR\") and a pulse-height filter correction (\"PHACORR\"). Set verbosity = 1 or 2 to learn more about how `CalCOS` is working."
   ]
  },
  {
   "cell_type": "code",
   "execution_count": null,
   "metadata": {},
   "outputs": [],
   "source": [
    "verbose = False\n",
    "\n",
    "# Find each rawfile, i is just a counter variable for the files you loop through\n",
    "for i, rawfile in enumerate(rawfiles):\n",
    "    if verbose:\n",
    "        print(rawfile)\n",
    "    # Change the header's keyword FLATCORR to the value PERFORM\n",
    "    fits.setval(rawfile, \"FLATCORR\", value='PERFORM', ext=0)\n",
    "    # Change the header's keyword PHACORR to the value PERFORM\n",
    "    fits.setval(rawfile, \"PHACORR\", value='PERFORM', ext=0)"
   ]
  },
  {
   "cell_type": "code",
   "execution_count": null,
   "metadata": {},
   "outputs": [],
   "source": [
    "%%capture cap --no-stderr\n",
    "calcos.calcos(\n",
    "    str(datadir/asn_name),\n",
    "    verbosity=2,\n",
    "    outdir=str(outputdir/\"calcos_processed_3\")\n",
    ")"
   ]
  },
  {
   "cell_type": "code",
   "execution_count": null,
   "metadata": {},
   "outputs": [],
   "source": [
    "# This file now contains the output of the last cell\n",
    "with open(str(outputdir/'output_calcos_3.txt'), 'w') as f:\n",
    "    f.write(cap.stdout)"
   ]
  },
  {
   "cell_type": "markdown",
   "metadata": {},
   "source": [
    "<a id = refrunC></a>\n",
    "## 4.3. Running `CalCOS` with a different reference file\n",
    "\n",
    "You may wish to run `CalCOS` with a specific flat file, bad pixel table, or any other reference file. `CalCOS` offers the ability to do just this on a file-by-file basis, by changing the CALIBRATION REFERENCE FILES values in the header of your data.\n",
    "\n",
    "As an example, we check which calibration files are selected for one of our rawtag files."
   ]
  },
  {
   "cell_type": "code",
   "execution_count": null,
   "metadata": {},
   "outputs": [],
   "source": [
    "header = fits.getheader(rawfiles[0])  # Read 0th rawfile's header\n",
    "# The 110th to 138th lines of the header are filled with these reference files\n",
    "refFiles = header[110:138]\n",
    "# Get just the keywords i.e. \"FLATFILE\" and \"DEADTAB\"\n",
    "refFile_keys = list(refFiles[2:].keys())\n",
    "refFiles"
   ]
  },
  {
   "cell_type": "markdown",
   "metadata": {},
   "source": [
    "For this section, let's download another Pulse Height Amplitude (\\_pha) table file using the `crds` tool (*I arbitrarily choose this one*):"
   ]
  },
  {
   "cell_type": "code",
   "execution_count": null,
   "metadata": {},
   "outputs": [],
   "source": [
    "!crds sync --files u1t1616ll_pha.fits --output-dir $lref"
   ]
  },
  {
   "cell_type": "markdown",
   "metadata": {},
   "source": [
    "Now we can use the fits headers to set this new file as the `_pha` file. As a demonstration, let's do this for **only the raw data from segment FUVA** of the FUV detector:\n",
    "\n",
    "*Note* that we are still only performing two corrections, as all calibration switches aside from `FLATCORR` and `PHACORR` are set to `OMIT`."
   ]
  },
  {
   "cell_type": "code",
   "execution_count": null,
   "metadata": {},
   "outputs": [],
   "source": [
    "# Find just the FUVA raw files\n",
    "rawfiles_segA = glob.glob(str(datadir/'*rawtag_a*.fits'))\n",
    "for rawfileA in rawfiles_segA:\n",
    "    print(rawfileA)\n",
    "    with fits.open(rawfileA, mode='update') as hdulist:\n",
    "        hdr0 = hdulist[0].header  # Update the 0th header of that FUVA file\n",
    "        # NOTE that you need the $lref in there if you put it with your other ref files\n",
    "        hdr0[\"PHATAB\"] = 'lref$u1t1616ll_pha.fits'"
   ]
  },
  {
   "cell_type": "markdown",
   "metadata": {},
   "source": [
    "**Finally, let's run `CalCOS` with the new `_pha` file for only the FUVA data:**"
   ]
  },
  {
   "cell_type": "code",
   "execution_count": null,
   "metadata": {},
   "outputs": [],
   "source": [
    "%%capture cap --no-stderr\n",
    "calcos.calcos(str(datadir/asn_name), verbosity=2, outdir=str(outputdir/\"calcos_processed_4\"))"
   ]
  },
  {
   "cell_type": "code",
   "execution_count": null,
   "metadata": {},
   "outputs": [],
   "source": [
    "# This file now contains the output of the last cell\n",
    "with open(str(outputdir/'output_calcos_4.txt'), 'w') as f:\n",
    "    f.write(cap.stdout)"
   ]
  },
  {
   "cell_type": "markdown",
   "metadata": {},
   "source": [
    "<font size=\"5\">Before we go, let's have a look at the spectra we calibrated and extracted in <a href=\"#runpyC\">Section 2.3</a></font>"
   ]
  },
  {
   "cell_type": "markdown",
   "metadata": {},
   "source": [
    "**We'll make a very quick plot to show the two spectra calibrated by STScI's pipeline and by us right now.**\n",
    "The two should agree very well. Small differences may be expected, given that the `RANDSEED` values may be different between the two versions.\n",
    "\n",
    "Much more information on reading in and plotting COS spectra can be found in our other tutorial: [Viewing COS Data](https://spacetelescope.github.io/COS-Notebooks/ViewData.html).\n",
    "\n",
    "*(You can ignore the UnitsWarning below)*"
   ]
  },
  {
   "cell_type": "code",
   "execution_count": null,
   "metadata": {},
   "outputs": [],
   "source": [
    "# Get the STScI calibrated x1dsum spectrum from the archive\n",
    "Observations.download_products(Observations.get_product_list(Observations.query_criteria(obs_id='lcxv13040')),\n",
    "                               mrp_only=True,  download_dir='data/compare/')\n",
    "# Read in this STScI spectrum\n",
    "output_spectrum = Table.read(\n",
    "    str(datadir/'compare/mastDownload/HST/lcxv13040/lcxv13040_x1dsum.fits'))\n",
    "wvln_orig, flux_orig, fluxErr_orig, dqwgt_orig = output_spectrum[1][\n",
    "    \"WAVELENGTH\", \"FLUX\", \"ERROR\", \"DQ_WGT\"]\n",
    "# Convert the data quality (DQ) weight into a boolean we can use to mask the data\n",
    "dqwgt_orig = np.asarray(dqwgt_orig, dtype=bool)\n",
    "\n",
    "# Also read in the spectrum we recently calibrated in Section 2.3\n",
    "output_spectrum = Table.read(\n",
    "    str(outputdir/'calcos_processed_1/lcxv13040_x1dsum.fits'))\n",
    "new_wvln, new_flux, new_fluxErr, new_dqwgt = output_spectrum[1][\n",
    "    \"WAVELENGTH\", \"FLUX\", \"ERROR\", \"DQ_WGT\"]\n",
    "# Convert the data quality (DQ) weight into a boolean we can use to mask the data\n",
    "new_dqwgt = np.asarray(new_dqwgt, dtype=bool)\n",
    "\n",
    "fig, (ax0, ax1, ax2) = plt.subplots(\n",
    "    3, 1, figsize=(15, 10))  # Build a 3 row x 1 column figure\n",
    "ax0.plot(wvln_orig[dqwgt_orig], flux_orig[dqwgt_orig], linewidth=0.5, c='C0',\n",
    "         label=\"Processed by the archive\")  # Plot the archive's spectrum in top section\n",
    "ax1.plot(new_wvln[new_dqwgt], new_flux[new_dqwgt], linewidth=0.5, c='C1',\n",
    "         label=\"Just now processed by you\")  # Plot your calibrated spectrum in middle section\n",
    "\n",
    "ax2.plot(wvln_orig[dqwgt_orig], flux_orig[dqwgt_orig], linewidth=0.5, c='C0',\n",
    "         label=\"Processed by the archive\")  # Plot both spectra in bottom section\n",
    "ax2.plot(new_wvln[new_dqwgt], new_flux[new_dqwgt],\n",
    "         linewidth=0.5, c='C1', label=\"Just now processed by you\")\n",
    "\n",
    "ax0.legend(loc='upper center', fontsize=14)\n",
    "ax1.legend(loc='upper center', fontsize=14)\n",
    "ax2.legend(loc='upper center', fontsize=14)\n",
    "ax0.set_title(\"Fig 3.1\\nComparison of processed spectra\", size=28)\n",
    "plt.tight_layout()\n",
    "plt.savefig(str(outputdir/\"fig3.1_compare_plot.png\"), dpi=300)"
   ]
  },
  {
   "cell_type": "markdown",
   "metadata": {},
   "source": [
    "## Congratulations! You finished this Notebook!\n",
    "### There are more COS data walkthrough Notebooks on different topics. You can find them [here](https://spacetelescope.github.io/COS-Notebooks/)."
   ]
  },
  {
   "cell_type": "markdown",
   "metadata": {},
   "source": [
    "\n",
    "---\n",
    "## About this Notebook\n",
    "**Author:** Nat Kerman - <nkerman@stsci.edu>\n",
    "\n",
    "**Updated On:** 2022-03-24\n",
    "\n",
    "\n",
    "> *This tutorial was generated to be in compliance with the [STScI style guides](https://github.com/spacetelescope/style-guides) and would like to cite the [Jupyter guide](https://github.com/spacetelescope/style-guides/blob/master/templates/example_notebook.ipynb) in particular.*\n",
    "\n",
    "## Citations\n",
    "\n",
    "If you use `astropy`, `matplotlib`, `astroquery`, or `numpy` for published research, please cite the\n",
    "authors. Follow these links for more information about citations:\n",
    "\n",
    "* [Citing `astropy`/`numpy`/`matplotlib`](https://www.scipy.org/citing.html)\n",
    "* [Citing `astroquery`](https://astroquery.readthedocs.io/en/latest/)\n",
    "\n",
    "---\n",
    "\n",
    "[Top of Page](#topC)\n",
    "<img style=\"float: right;\" src=\"https://raw.githubusercontent.com/spacetelescope/notebooks/master/assets/stsci_pri_combo_mark_horizonal_white_bkgd.png\" alt=\"Space Telescope Logo\" width=\"200px\"/> \n",
    "\n",
    "<br></br>\n",
    "<br></br>\n",
    "<br></br>"
   ]
  }
 ],
 "metadata": {
  "kernelspec": {
   "display_name": "Python 3 (ipykernel)",
   "language": "python",
   "name": "python3"
  },
  "language_info": {
   "codemirror_mode": {
    "name": "ipython",
    "version": 3
   },
   "file_extension": ".py",
   "mimetype": "text/x-python",
   "name": "python",
   "nbconvert_exporter": "python",
   "pygments_lexer": "ipython3",
   "version": "3.10.4"
  }
 },
 "nbformat": 4,
 "nbformat_minor": 4
}
