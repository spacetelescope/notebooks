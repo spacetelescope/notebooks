{
 "cells": [
  {
   "cell_type": "markdown",
   "metadata": {},
   "source": [
    "<a id=\"topV\"></a>\n",
    "\n",
    "# Viewing COS Data\n",
    "\n",
    "# Learning Goals\n",
    "\n",
    "<font size=\"4 \">This Notebook is designed to walk the user (<em>you</em>) through:</font><br>\n",
    "    \n",
    "**0. [Introduction](#introV)**\n",
    "\n",
    "\\- 0.1. [A one-cell summary of this Notebook's key points](#onecellV) \n",
    "\n",
    "**1. [Reading in the data](#readInV) using `Python`**\n",
    "\n",
    "\\- 1.1. [Investigating the Data - *Basics*](#investV)\n",
    "    \n",
    "\\- 1.2. [Reading in the `x1d`/`x1dsum` Main Data](#readmainV)\n",
    "    \n",
    "\\- 1.3. [The Association (`asn`) file](#assocV)\n",
    "    \n",
    "**2. [Displaying the data](#plottingV) using common plotting techniques**\n",
    "    \n",
    "\\- 2.1. [Plotting an FUV Spectrum](#fuvV)\n",
    "    \n",
    "> 2.1.1. [Our First Plot](#p1V)\n",
    "    \n",
    "> 2.1.2. [A Complex Look at the Entire FUV](#plotcompV)\n",
    "    \n",
    "> 2.1.3. [Looking Closer at Parts of the FUV Spectrum](#plotcloserV)\n",
    "    \n",
    "> 2.1.4. [Reading and plotting the data with `specutils` (*optional*)](#specvizV)\n",
    "    \n",
    "\\- 2.2. [Plotting an NUV Spectrum](#nuvV)\n",
    "    \n",
    "> 2.2.1. [Examining the first-order spectrum](#nuv1V)\n",
    "    \n",
    "> 2.2.2. [Examining the second-order spectrum](#nuv2V)\n",
    "    \n",
    "**3. [Making a quick assessment of the data](#AssessingV) with tools to bin and measure the data's SNR and resolution**\n",
    "    \n",
    "\\- 3.1. [Understanding and Using Data Quality Flags](#DataQualV)\n",
    "    \n",
    "\\- 3.2. [Binning the Data](#BinningV)\n",
    "    \n",
    "> 3.2.1. [Bringing in Some Useful Functions for Binning](#BinfunV)\n",
    "    \n",
    "> 3.2.2. [Binning the FUV Data](#binfuvV)\n",
    "    \n",
    "\\- 3.3. [Calculating the Signal-to-Noise Ratio](#SnrV)\n",
    "    \n",
    "> 3.3.1. [Defining a Useful Function for Estimating SNR](#snrfunV)\n",
    "    \n",
    "> 3.3.2. [Choosing a Region to calculate SNR](#snrregV)\n",
    "    \n",
    "> 3.3.3. [Calculating the SNR](#snrcalcV)\n",
    "    \n",
    "\n",
    "*If you're confident with Reading-in and Plotting data in Python, you may run the first few cells defining directories and importing modules and then click the link when it appears to go ahead and skip to Section 3.*"
   ]
  },
  {
   "cell_type": "markdown",
   "metadata": {},
   "source": [
    "<a id=introV></a>\n",
    "# 0. Introduction\n",
    "**The Cosmic Origins Spectrograph ([*COS*](https://www.nasa.gov/content/hubble-space-telescope-cosmic-origins-spectrograph)) is an ultraviolet spectrograph on-board the Hubble Space Telescope ([*HST*](https://www.stsci.edu/hst/about)) with capabilities in the near ultraviolet (*NUV*) and far ultraviolet (*FUV*).**\n",
    "\n",
    "**This tutorial aims to prepare you to begin analyzing COS data of your choice by walking you through reading and viewing a spectrum obtained with COS, as well as obtaining a few diagnostic measurements of your spectrum.**\n",
    "\n",
    "- For an in-depth manual to working with COS data and a discussion of caveats and user tips, see the [COS Data Handbook](https://hst-docs.stsci.edu/display/COSDHB/).\n",
    "- For a detailed overview of the COS instrument, see the [COS Instrument Handbook](https://hst-docs.stsci.edu/display/COSIHB/)."
   ]
  },
  {
   "cell_type": "markdown",
   "metadata": {},
   "source": [
    "<a id=onecellV></a>\n",
    "## 0.1. A one-cell summary of this Notebook's key points:\n",
    "\n",
    "While the rest of this Notebook will walk you through each step and decision made when examining your COS data, the following code cell serves as a summary for the Notebook. It contains the key material condensed into a single code cell, without much explanation. If this is all the help you need, great! If you still have questions, read on!"
   ]
  },
  {
   "cell_type": "code",
   "execution_count": null,
   "metadata": {},
   "outputs": [],
   "source": [
    "# This code cell condenses the key material of the Notebook into a single cell summary.\n",
    "\n",
    "# 1. Import the necessary libraries:\n",
    "from astropy.table import Table\n",
    "from astropy.io import fits\n",
    "from astroquery.mast import Observations\n",
    "from cos_functions import estimate_snr\n",
    "import matplotlib.pyplot as plt\n",
    "\n",
    "# 2. Download an example dataset using astroquery:\n",
    "# For more information, see the \"Downloading your data\" Notebook in this git repository\n",
    "onecell_x1dsum_data_products = Observations.download_products(\n",
    "    Observations.filter_products(\n",
    "        Observations.get_product_list(\n",
    "            Observations.query_criteria(\n",
    "                obs_id=\"LDM701020\"  # The Obs ID of the observation to download\n",
    "            )\n",
    "        ),\n",
    "        # Only downloads the 1 dimensional extracted spectrum\n",
    "        productSubGroupDescription=\"X1DSUM\"\n",
    "    )\n",
    ")\n",
    "\n",
    "# 3. Read in the data to an Astropy Table:\n",
    "x1dsum_data_table = Table.read(onecell_x1dsum_data_products[\"Local Path\"][0])\n",
    "# Some users may be familiar with another way to read in FITS table data, though it can be less user-friendly:\n",
    "with fits.open(onecell_x1dsum_data_products[\"Local Path\"][0]) as hdulist:\n",
    "    alternate_x1dsum_data_structure = hdulist[1].data\n",
    "\n",
    "# 4. Estimate the S/N ratio of the spectrum by calculating sqrt(counts):\n",
    "#    The `estimate_snr` function is defined in the associated file: `cos_functions.py`\n",
    "SNR_estimate = estimate_snr(x1dsum_data_table, binsize_=6, verbose=False)\n",
    "\n",
    "# 5. Create a plot of the spectrum and the estimated S/N:\n",
    "# Create 2-subplots and populate the upper one with the flux and the lower with S/N:\n",
    "fig, (ax0, ax1) = plt.subplots(2, 1, figsize=(10, 8), sharex=True, dpi=100)\n",
    "for i, segment_row in enumerate(x1dsum_data_table):\n",
    "    # In the upper panel, plot the spectrum as Flux over Wavelength:\n",
    "    ax0.plot(segment_row[\"WAVELENGTH\"],\n",
    "             segment_row[\"FLUX\"], label=f\"Segment FUV{'AB'[i]}\")\n",
    "    # In the lower panel, plot the S/N ratio as estimated S/N over Wavelength:\n",
    "    ax1.plot(SNR_estimate[1][i][0], SNR_estimate[1]\n",
    "             [i][1], label=f\"Segment FUV{'AB'[i]}\")\n",
    "# Format the plot and save\n",
    "ax0.legend()\n",
    "# Adds a title of fontsize 20 points\n",
    "ax0.set_title(\"Fig. 0.1\\nSimple COS G160M Spectrum\", size=20)\n",
    "# Adds y axis label to the top panel\n",
    "ax0.set_ylabel('Flux [$erg\\ s^{-1}\\ cm^{-2}\\ Angstrom^{-1}$]', size=10)\n",
    "# Adds y axis label to the bottom panel\n",
    "ax1.set_ylabel(\n",
    "    'Estimated  $\\dfrac{SIGNAL}{NOISE}$  for a resolution element', size=10)\n",
    "# Adds x axis label to the bottom panel\n",
    "ax1.set_xlabel('Wavelength [$\\AA$]', size=12)\n",
    "plt.tight_layout()\n",
    "plt.savefig(\"./Fig_0.1_quick_plot.png\")"
   ]
  },
  {
   "cell_type": "markdown",
   "metadata": {},
   "source": [
    "### Now, returning to our more detailed walkthrough\n",
    "#### Notes for those new to Python/Jupyter/Coding:\n",
    "\n",
    "- You will frequently see exclamation points (**\\!**) or dollar signs (**\\$**) at the beginning of a line of code we are telling you to run. These are not part of the actual commands. The exclamation points tell a jupyter Notebook to pass the following line to the command line, and the dollar sign merely indicates the start of a terminal prompt. "
   ]
  },
  {
   "cell_type": "markdown",
   "metadata": {},
   "source": [
    "<font size=\"5\"> We will import the following packages:</font>\n",
    "\n",
    "- `numpy` to handle array functions (version $\\ge$ 1.17)\n",
    "- `pathlib` for managing system paths.\n",
    "- `astropy.io fits` for accessing FITS files\n",
    "- `astropy.table Table` for creating tidy tables of the data\n",
    "- `astropy.units` and `astropy.visualization.quantity_support` for dealing with units\n",
    "- `matplotlib.pyplot` for plotting data\n",
    "- `astroquery.mast Observations` for finding and downloading data from the [MAST](https://mast.stsci.edu/portal/Mashup/Clients/Mast/Portal.html) archive\n",
    "\n",
    "*Later on, we will import some functions from a local file*, `cos_functions.py`, which is installed as part of the same GitHub repository as this Notebook. If you do not see this `Python` file in this directory, you can find it [here](https://github.com/spacetelescope/notebooks/tree/master/notebooks/COS/ViewData/). `cos_functions.py` must be installed next to this Notebook (`ViewData.ipynb`)."
   ]
  },
  {
   "cell_type": "code",
   "execution_count": null,
   "metadata": {},
   "outputs": [],
   "source": [
    "# Imports for: Downloading data from archive\n",
    "from astroquery.mast import Observations\n",
    "\n",
    "# Import for: Plotting\n",
    "import matplotlib.pyplot as plt\n",
    "\n",
    "# This line causes matplotlib plots to appear in the Notebook\n",
    "#   instead of possibly showing up in separate windows\n",
    "%matplotlib inline\n",
    "\n",
    "# Import for: Manipulating arrays\n",
    "import numpy as np\n",
    "\n",
    "# Import for: Managing system variables and paths\n",
    "from pathlib import Path\n",
    "\n",
    "# Imports for: Reading in data\n",
    "from astropy.table import Table\n",
    "from astropy.io import fits\n",
    "\n",
    "# Imports for: Dealing with units and plotting them\n",
    "from astropy.visualization import quantity_support\n",
    "from astropy import units as u\n",
    "quantity_support()"
   ]
  },
  {
   "cell_type": "markdown",
   "metadata": {},
   "source": [
    "<font size=\"5\"> We will also define a few directories in which to place our data and plots, as well as a few colors we will use in plots later.</font>"
   ]
  },
  {
   "cell_type": "code",
   "execution_count": null,
   "metadata": {},
   "outputs": [],
   "source": [
    "# These will be important directories for the Notebook\n",
    "\n",
    "datadir = Path('./data')\n",
    "outputsdir = Path('./output/')\n",
    "plotsdir = Path('./output/plots')\n",
    "# Make the directories if they don't exist\n",
    "datadir.mkdir(exist_ok=True), outputsdir.mkdir(\n",
    "    exist_ok=True), plotsdir.mkdir(exist_ok=True)\n",
    "\n",
    "# Specifying a few arbitrary colors to correspond to COS segments for plotting by their hex code\n",
    "# Many search engines will show you the hex color - i.e. Google \"#BC8C5B\" to see this orange color\n",
    "segment_colors = {'FUVA': '#BC8C5B', 'FUVB': '#4B6CA4',\n",
    "                  'NUVA': '#1813CE', 'NUVB': '#61946E', 'NUVC': '#8C1A11'}"
   ]
  },
  {
   "cell_type": "markdown",
   "metadata": {},
   "source": [
    "<font size=\"5\">We will be working with some FUV and NUV datasets downloaded in the cell below. </font>\n",
    "\n",
    "\n",
    "These two datasets contain FUV observations of the QSO *3C48* and NUV observations of the Star *WD1057 + 719*, respectively.\n",
    "\n",
    "Searching for and downloading data is out of the scope of this tutorial. If you wish to learn more, please see our [tutorial on downloading COS data](https://github.com/spacetelescope/notebooks/blob/master/notebooks/COS/DataDl/DataDl.ipynb)."
   ]
  },
  {
   "cell_type": "code",
   "execution_count": null,
   "metadata": {},
   "outputs": [],
   "source": [
    "# Download the NUV data on WD1057+719 (with the G230L grating); only the _x1dsum and _asn\n",
    "nuv_downloads = Observations.download_products(Observations.get_product_list(Observations.query_criteria(obs_id='lbbd01020')),\n",
    "                                               download_dir=str(datadir), extension='fits', mrp_only=True, cache=False)\n",
    "# Download the FUV data on QSO 3C48; only the _x1dsum and _asn\n",
    "fuv_downloads = Observations.download_products(Observations.get_product_list(Observations.query_criteria(obs_id='lcxv13050')),\n",
    "                                               download_dir=str(datadir), extension='fits', mrp_only=True, cache=False)"
   ]
  },
  {
   "cell_type": "markdown",
   "metadata": {},
   "source": [
    "**If you're confident Reading-in and Plotting data in Python, now go ahead to [Section 3](#AssessingV)**\n",
    "\n",
    "<a id=\"readInV\"></a>\n",
    "# 1. Reading in the data\n",
    "\n",
    "Calibrated COS 1-dimensional spectra are stored in fits files with the suffix `x1d` or `x1dsum` (*1-dimensional here means that the cross-dispersion axis has been collapsed*). \n",
    "`x1d` files contain a spectrum processed from a single exposure, while `x1dsum` files contain summed data from multiple exposures at different fixed pattern noise position settings (FP-POS's). You may also encounter `x1dsumN` files, i.e. `x1dsum1`/`x1dsum2`/`x1dsum3`/`x1dsum4`, which are intermediate files containing data from multiple exposures at the same FP-POS. All of these files are sub-types of `x1d` files and thus share the same basic data structure. What you learn with one filetype is transferable to working with another.\n",
    "We will be working with `x1dsum` files in this tutorial; however, please note that we often use the shorthand \"`x1d`\" as part of a variable name when programming, regardless of whether it is a summed file or not.\n",
    "\n",
    "The calibrated spectrum data has been downloaded onto our local machine as: **<`current-working-directory`>**`/data/mastDownload/HST/`**<`Obs_id`>**`/`**<`Obs_id`>**`_x1dsum.fits`,\n",
    "where the NUV and FUV Data are contained in the obs_ids:\n",
    "\n",
    "| Spectral Region | Obs_id| Object Name|Object Type|filepath|\n",
    "|-----|------------|------|-----------|--------|\n",
    "| FUV | LCXV13050|QSO| 3C48 |  ./data/mastDownload/HST/lcxv13050|\n",
    "| NUV | LBBD01020|Star| WD1057 + 719 |  ./data/mastDownload/HST/lbbd01020|\n",
    "\n",
    "<a id=\"investV\"></a>\n",
    "## 1.1. Investigating the Data - *Basics*\n",
    "We want to learn the basics about this file, then read in the data.\n",
    "\n",
    "We can learn a great deal about our data from its primary fits header (see cell below)."
   ]
  },
  {
   "cell_type": "code",
   "execution_count": null,
   "metadata": {},
   "outputs": [],
   "source": [
    "# Make sure these filepath variables point to your new FUV data\n",
    "# Note, We'll often refer to the x1dsum file with the prefix x1d for convenience\n",
    "# However, the files are x1dsum files, not the related x1d files - more info in the Data Handbook\n",
    "fuv_x1d_filepath = Path(\n",
    "    './data/mastDownload/HST/lcxv13050/lcxv13050_x1dsum.fits')\n",
    "# This is the association file, used for processing spectra with CalCOS:\n",
    "fuv_asn_filepath = Path('./data/mastDownload/HST/lcxv13050/lcxv13050_asn.fits')\n",
    "\n",
    "# Make sure these point to your new NUV data\n",
    "nuv_x1d_filepath = Path(\n",
    "    './data/mastDownload/HST/lbbd01020/lbbd01020_x1dsum.fits')\n",
    "# This is the NUV association file\n",
    "nuv_asn_filepath = Path('./data/mastDownload/HST/lbbd01020/lbbd01020_asn.fits')\n",
    "\n",
    "\n",
    "nuv_x1d_header = fits.getheader(nuv_x1d_filepath)\n",
    "nuv_asn_header = fits.getheader(nuv_asn_filepath)\n",
    "\n",
    "fuv_x1d_header = fits.getheader(fuv_x1d_filepath)\n",
    "fuv_asn_header = fits.getheader(fuv_asn_filepath)\n",
    "\n",
    "# This is the primary, 0th header of the calibrated nuv spectrum;\n",
    "fuv_x1d_header[:18], \"...\", fuv_x1d_header[45:50]\n",
    "# This is *not* the whole header...\n",
    "# ...The [:18] and [45:50] tell Python to print the first 18 lines, as well as lines 45-50"
   ]
  },
  {
   "cell_type": "markdown",
   "metadata": {},
   "source": [
    "For instance, we notice that the FUV data was taken in [TIME-TAG mode](https://hst-docs.stsci.edu/cosdhb/chapter-5-cos-data-analysis/5-4-working-with-time-tag-data) and calibrated with `CalCOS` version `3.3.10` (at the time of writing this sentence - it may have been reprocessed by the time you read this).\n",
    "\n",
    "However, some metadata information, such as the time of observation and calculated exposure time, can be found in the **1-th header** rather than the 0th. We will read and print this below:"
   ]
  },
  {
   "cell_type": "code",
   "execution_count": null,
   "metadata": {},
   "outputs": [],
   "source": [
    "with fits.open(fuv_x1d_filepath) as hdu:\n",
    "    fuv_x1d_header1 = hdu[1].header\n",
    "    fuv_date = fuv_x1d_header1['DATE-OBS']\n",
    "    fuv_time = fuv_x1d_header1['TIME-OBS']\n",
    "    fuv_exptime = fuv_x1d_header1['EXPTIME']\n",
    "\n",
    "# It's also perfectly valid to access the 1-th extension header using 'fits.getheader(fuv_x1d_filepath, ext=1)'\n",
    "\n",
    "print(\n",
    "    f\"This FUV data was taken on {fuv_date} starting at {fuv_time} with a net exposure time of {fuv_exptime} seconds.\")\n",
    "\n",
    "with fits.open(nuv_x1d_filepath) as hdu:\n",
    "    nuv_x1d_header1 = hdu[1].header\n",
    "    nuv_date = nuv_x1d_header1['DATE-OBS']\n",
    "    nuv_time = nuv_x1d_header1['TIME-OBS']\n",
    "    nuv_exptime = nuv_x1d_header1['EXPTIME']\n",
    "\n",
    "print(\n",
    "    f\"This NUV data was taken on {nuv_date} starting at {nuv_time} with a net exposure time of {nuv_exptime} seconds.\")"
   ]
  },
  {
   "cell_type": "markdown",
   "metadata": {},
   "source": [
    "<a id=readmainV></a>\n",
    "## 1.2. Reading in the `x1d`/`x1dsum` Main Data\n",
    "\n",
    "The data are in the 1-th header-data unit (HDU) of our fits file. There are several ways to read in our data from the our table-formatted fits file. We'll demonstrate three common methods below, focusing in on the [`astropy.table`](https://docs.astropy.org/en/stable/io/unified.html#getting-started-with-table-i-o) method.\n",
    "We will then display all the fields contained in this data table using the `.colnames` method. You can ignore the warnings about multiple slashes in the units that come up while reading in the data. The proper units are displayed in LaTex as:\n",
    "\n",
    "- 'erg /s /cm\\**2 /angstrom'  ==> $$\\ \\ erg\\ s^{-1}\\ cm^{-2}\\ \\mathring{A}^{-1}$$\n",
    "- 'count /s /pixel'          ==> $$\\ \\ counts\\ s^{-1}\\ pixel^{-1}$$\n",
    "\n",
    "The columns of these tables include some scalar values which *describe* the data (i.e. EXPTIME), while the columns containing actual data hold it in arrays of equal length (i.e. WAVELENGTH, FLUX, etc., where that length = NELEM)."
   ]
  },
  {
   "cell_type": "code",
   "execution_count": null,
   "metadata": {},
   "outputs": [],
   "source": [
    "# Method number 1:\n",
    "with fits.open(fuv_x1d_filepath) as hdulist:\n",
    "    fuv_x1d_data = hdulist[1].data\n",
    "print(f\"Method 1 gets data as type: {type(fuv_x1d_data)}\")\n",
    "\n",
    "# Method number 2:\n",
    "fuv_x1d_data = fits.getdata(fuv_x1d_filepath)\n",
    "print(f\"Method 2 gets data as type: {type(fuv_x1d_data)}\")\n",
    "\n",
    "# Method number 3:\n",
    "fuv_x1d_data = Table.read(fuv_x1d_filepath)\n",
    "print(f\"Method 3 gets data as type: {type(fuv_x1d_data)}\")\n",
    "\n",
    "# We can easily explore this astropy table\n",
    "columns = fuv_x1d_data.colnames\n",
    "# Print basic info about the table's columns\n",
    "print(\"\\nTable of FUV data with columns:\\n\", columns, \"\\n\")\n",
    "# Display a representation of the data table:\n",
    "fuv_x1d_data"
   ]
  },
  {
   "cell_type": "markdown",
   "metadata": {},
   "source": [
    "**In the case of the FUV data, we see an astropy style table of 2 rows** which are labeled FUVA and FUVB. These rows contain data from the 2 segments of FUV Detector (see figure 1.1).\n",
    "\n",
    "### Fig. 1.1 from [COS DHB Fig. 1.6](https://hst-docs.stsci.edu/cosdhb/chapter-1-cos-overview/1-2-cos-physical-configuration#id-1.2COSPhysicalConfiguration-Figure1.6)\n",
    "\n",
    "<center>\n",
    "    <img src=figures/cosdhb_fig1p6.jpg width =\"900\" title=\"Layout of the COS FUV detector\">\n",
    "    <figcaption>Layout of the COS FUV detector. Note that FUVB corresponds to shorter wavelengths than FUVA.</figcaption>\n",
    "</center>\n",
    "\n",
    "**In the case of the NUV data, we see a similar astropy style table of 3 rows** (labeled NUVA, NUVB, and NUVC). These rows contain data from the 3 stripes of the NUV spectrum (see figure 1.2).\n",
    "\n",
    "### Fig. 1.2 from [COS DHB Fig. 1.10](https://hst-docs.stsci.edu/cosdhb/chapter-1-cos-overview/1-2-cos-physical-configuration#id-1.2COSPhysicalConfiguration-Figure1.10)\n",
    "\n",
    "<center>\n",
    "    <img src=figures/ch1_cos_overview3.10.jpg width =\"900\" title=\"An example COS NUV spectrum\">\n",
    "    <figcaption>An example COS NUV spectrum. The spectrum itself, taken with the Primary Science Aperture, is in the lower three stripes labeled 'PSA'. The upper stripes, labeled 'WCA' are for wavelength calibration.</figcaption>\n",
    "</center>\n",
    "\n",
    "\n",
    "An important thing to note about this *NUV* data in particular is that with the grating used here (G230L), stripe C is actually a 2nd order spectrum with a higher dispersion and ~5% contamination from the 1st order spectrum. See the [COS Data Handbook](https://hst-docs.stsci.edu/cosdhb/chapter-1-cos-overview/1-1-instrument-capabilities-and-design#id-1.1InstrumentCapabilitiesandDesign-NUVSpectroscopyNUVSpectroscopy), *especially Fig. 1.3,* for more information."
   ]
  },
  {
   "cell_type": "markdown",
   "metadata": {},
   "source": [
    "<a id=assocV></a>\n",
    "## 1.3. The Association (`asn`) file\n",
    "\n",
    "It's also likely we will want to see what observations went into making this calibrated spectrum. This information is contained in the Association (`asn`) file, under the MEMNAME column."
   ]
  },
  {
   "cell_type": "code",
   "execution_count": null,
   "metadata": {},
   "outputs": [],
   "source": [
    "print(fits.info(fuv_asn_filepath), '\\n\\n----\\n')\n",
    "fuv_asn_data = Table.read(fuv_asn_filepath)\n",
    "print(fuv_asn_data)"
   ]
  },
  {
   "cell_type": "markdown",
   "metadata": {},
   "source": [
    "We see that our data has MEMTYPE = `PROD-FP`, meaning it is an output science product (see COS DHB [Table 2.6](https://hst-docs.stsci.edu/cosdhb/chapter-2-cos-data-files/2-4-cos-data-products).)\n",
    "\n",
    "This particular association file lists four `EXP-FP` (input science exposure), with the `MEMNAME` values (Dataset IDs) `[LCXV13FLQ, LCXV13FXQ, LCXV13G4Q, LCXV13GXQ]`. We could look for these datasets, if we wished to inspect the exposures individually."
   ]
  },
  {
   "cell_type": "markdown",
   "metadata": {},
   "source": [
    "### Exercise 1.1. *Finding Metadata for the NUV*\n",
    "1. Read in the NUV data, just as we did with the FUV data.\n",
    "2. From the 0th header of the `x1dsum` file, determine the time (in MJDs) that the data was processed. (keyword = PROCTIME) and from the 1th header, determine how many wavelength calibration \"flashes\" were used (keyword = NUMFLASH)\n",
    "3. From the `asn` file, determine how many input science exposures went into the NUV x1dsum file."
   ]
  },
  {
   "cell_type": "code",
   "execution_count": null,
   "metadata": {},
   "outputs": [],
   "source": [
    "# Your code here"
   ]
  },
  {
   "cell_type": "markdown",
   "metadata": {},
   "source": [
    "<a id=\"plottingV\"></a>\n",
    "# 2. Plotting the Data"
   ]
  },
  {
   "cell_type": "markdown",
   "metadata": {},
   "source": [
    "<a id = fuvV></a>\n",
    "## 2.1. Plotting an FUV Spectrum\n",
    "\n",
    "**Let's select the simplest data we need to plot a spectrum:** <font size=\"4\"><b>WAVELENGTH, FLUX, and ERROR.</b></font>\n",
    "- *Note that here, ERROR is flux error, which is discussed in the COS Instrument Handbook*\n",
    "- *Also note that somewhat counterintuitively, the FUVB segment extends over shorter wavelengths than the FUVA.*\n",
    "\n",
    "<a id = p1V></a>\n",
    "### 2.1.1. Our First Plot\n",
    "\n",
    "**We begin with a simple plot: simply a line plot of a single segment (FUVA) without its error.**\n",
    "The goal of this show is to demonstrate some of the common parameters of making a simple plot with `matplotlib` which you are likely to often need. The comments explain what each line does.\n",
    "\n",
    "<a id=\"fig2p1\"></a>"
   ]
  },
  {
   "cell_type": "code",
   "execution_count": null,
   "metadata": {},
   "outputs": [],
   "source": [
    "# [0] Access FUVA data, the longer wvln segment and gets the data we need to plot a spectrum:\n",
    "wvln, flux, segment = fuv_x1d_data[0][\"WAVELENGTH\", \"FLUX\", \"SEGMENT\"]\n",
    "\n",
    "# Set up the plot as a single box with size of 10x4 inches, and with a dpi of 100, relevant should we choose to save it:\n",
    "fig1, ax = plt.subplots(1, 1, figsize=(10, 4), dpi=100)\n",
    "\n",
    "# The next few lines are the core of the cell, where we actually place the data onto the plot:\n",
    "###############\n",
    "ax.plot(wvln, flux,  # First two arguments are assumed to be the x-data, y-data\n",
    "        # These parameters specify the look of the connecting line\n",
    "        linestyle=\"-\", linewidth=0.25, c='black',\n",
    "        # The marker parameters specify how the data points will look...\n",
    "        marker='.', markersize=2, markerfacecolor='r', markeredgewidth=0,\n",
    "        # ... if you don't want dots set marker=''\n",
    "        label=segment)  # The label is an optional parameter which will allow us to create a legend\n",
    "# this label is useful when there are multiple datasets on the same plot\n",
    "\n",
    "# The lines after this are all about formatting, adding text, and saving as an image\n",
    "###############\n",
    "ax.set_title(\"Fig. 2.1\\nSimple COS Segment FUVA Spectrum\",\n",
    "             size=20)  # Adds a title of fontsize 20 points\n",
    "ax.set_xlabel('Wavelength [$\\AA$]', size=12)  # Adds x axis label\n",
    "# Adds y label\n",
    "ax.set_ylabel('Flux [$erg\\ s^{-1}\\ cm^{-2}\\ Angstrom^{-1}$]', size=12)\n",
    "\n",
    "# These two lines set the x and y bounds of the image in whatever units we are plotting in\n",
    "plt.xlim(1605, 1815)\n",
    "plt.ylim(-1E-15, 1.85E-14)\n",
    "\n",
    "# Adds a legend with the label specified in the plotting call\n",
    "plt.legend(loc='upper right')\n",
    "plt.tight_layout()  # Trims blank space\n",
    "# Optionally you can save the plot as an image\n",
    "plt.savefig(str(plotsdir / \"Fig2.1.png\"))\n",
    "plt.show()  # Shows all the plot calls in this cell and \"clears\" the plotting space. Must come after any saving you want to do"
   ]
  },
  {
   "cell_type": "markdown",
   "metadata": {},
   "source": [
    "### Exercise 2.1: A clearer plot\n",
    "Plot the data from Segment FUVB, similar to the Segment FUVA plot above, but this time, normalize flux to a max of 1, and don't plot the red markers, which can be distracting.\n",
    "\n",
    "Note what can you simply copy over, and what you have to make sure to change."
   ]
  },
  {
   "cell_type": "code",
   "execution_count": null,
   "metadata": {},
   "outputs": [],
   "source": [
    "# Your code here"
   ]
  },
  {
   "cell_type": "markdown",
   "metadata": {},
   "source": [
    "<a id = plotcompV></a>\n",
    "### 2.1.2. A Complex Look at the Entire FUV\n",
    "\n",
    "**Now that we have an idea for how `matplotlib` works, let's make a more complicated graph showing both FUV segments - *independently and together*.**\n",
    "\n",
    "One of the most important steps to creating a plot is planning out how it will look and convey its information. We'll begin by planning this out below:\n",
    "\n",
    "|Panel|Contents|Information Conveyed|Notes|\n",
    "|-|-|-|-|\n",
    "|*top*|Entire FUV Spectrum as a **simple plot**|Overview of the entire spectrum we have, coarse look without much detail|Color by segment|\n",
    "|*middle*|Shorter Wavelength FUVB Spectrum as an **errorbar plot**|Closer look at the shorter wavelength spectrum with an idea of error|Color errorbar by segment, central line in black|\n",
    "|*bottom*|Longer Wavelength FUVA Spectrum as an **errorbar plot**|Closer look at the longer wavelength spectrum with an idea of error|Color errorbar by segment, central line in black|"
   ]
  },
  {
   "cell_type": "code",
   "execution_count": null,
   "metadata": {},
   "outputs": [],
   "source": [
    "# ax0, ax1, ax2 are our 3 vertically-aligned panels: top, middle, and bottom\n",
    "fig, (ax0, ax1, ax2) = plt.subplots(3, 1, figsize=(10, 10))\n",
    "\n",
    "# Repeats for i=[0,1] to apply to each segment's data at a time\n",
    "for i in range(2):\n",
    "    # Selects all useful data for the chosen segment\n",
    "    wvln, flux, fluxErr, segment = fuv_x1d_data[i][\"WAVELENGTH\",\n",
    "                                                   \"FLUX\", \"ERROR\", \"SEGMENT\"]\n",
    "\n",
    "    # This section applies the top (0th) panel's plotting and formatting:\n",
    "    ax0.plot(wvln, flux,\n",
    "             linestyle=\"-\", label=segment, c=segment_colors[segment])\n",
    "    ax0.legend(fontsize=20, loc='upper left')\n",
    "    ax0.set_title(\"Fig 2.2\\nFUV Spectra with G160M Grating\", size=35)\n",
    "    ax0.set_xlim(1428, 1805)\n",
    "    ax0.set_ylim(-1E-15, 1.9E-14)\n",
    "\n",
    "    ######\n",
    "\n",
    "    if i == 0:  # This indented code applies only to segment FUVA data in bottom Panel\n",
    "        markers, caps, bars = ax2.errorbar(x=wvln, y=flux, yerr=fluxErr,\n",
    "                                           linestyle=\"-\",  label=segment, marker='', markersize=1,\n",
    "                                           c='k', alpha=1, ecolor=segment_colors[segment])\n",
    "        ax2.set_xlim(1610, 1810)\n",
    "        ax2.set_ylim(-3E-15, 1.9E-14)\n",
    "        ax2.legend(fontsize=20, loc='upper left')\n",
    "        ax2.set_xlabel('Wavelength [$\\AA$]', size=20)\n",
    "        [bar.set_alpha(0.75) for bar in bars]\n",
    "\n",
    "    ######\n",
    "\n",
    "    if i == 1:  # This indented code applies only to segment FUVB data in middle Panel\n",
    "        markers, caps, bars = ax1.errorbar(x=wvln, y=flux, yerr=fluxErr,\n",
    "                                           linestyle=\"-\",  label=segment, c='k', ecolor=segment_colors[segment])\n",
    "        ax1.set_xlim(1428, 1615)\n",
    "        ax1.set_ylim(-1E-15, 1.25E-14)\n",
    "        ax1.legend(fontsize=20, loc='upper left')\n",
    "        ax1.set_ylabel('Flux [$erg\\ s^{-1}\\ cm^{-2}\\ Angstrom^{-1}$]', size=20)\n",
    "        [bar.set_alpha(0.75) for bar in bars]\n",
    "\n",
    "    ######\n",
    "plt.tight_layout()\n",
    "plt.savefig(str(plotsdir / 'Fig2.2.png'), dpi=200)\n",
    "plt.show()"
   ]
  },
  {
   "cell_type": "markdown",
   "metadata": {},
   "source": [
    "<a id = plotcloserV></a>\n",
    "### 2.1.3. Looking Closer at Parts of the FUV Spectrum\n",
    "\n",
    "**It can be very difficult to get any insights on small-scale details in the above plots because data is too dense to parse at once. Below, we'll show examples of:**\n",
    "- Plotting a small region around an absorption line feature.\n",
    "- Plotting an entire segment's spectrum in segments of wavelength space.\n",
    "\n",
    "**Let's begin with showing a region around a line, in this case, we see a sharp line around 1670 Å.** "
   ]
  },
  {
   "cell_type": "code",
   "execution_count": null,
   "metadata": {},
   "outputs": [],
   "source": [
    "line1670 = 1670.67  # By-eye center of the line for plotting\n",
    "\n",
    "# Selects all useful data for the chosen segment\n",
    "wvln, flux, fluxErr, segment = fuv_x1d_data[0][\"WAVELENGTH\",\n",
    "                                               \"FLUX\", \"ERROR\", \"SEGMENT\"]\n",
    "\n",
    "wvln_extent = 2  # How many Angstroms in each direction around line1670 do we want to look at?\n",
    "\n",
    "# Mask the data to within +/- wvln_extent Angstrom of the line - speeds up the plotting\n",
    "lineRegion_mask = (wvln > line1670 - wvln_extent) & (wvln <\n",
    "                                                     line1670 + wvln_extent)\n",
    "# applies the created mask\n",
    "wvln_region, flux_region, fluxErr_region = wvln[\n",
    "    lineRegion_mask], flux[lineRegion_mask], fluxErr[lineRegion_mask]\n",
    "\n",
    "plt.figure(figsize=(8, 6))  # how big should the plot be\n",
    "plt.axvline(x=line1670, c='k', linewidth=4, linestyle='dotted',  # vertical line at x position line1670; color = 'k' AKA black, line thickness = 4 points, type of line is dotted\n",
    "            alpha=0.8,  label=\"$Approximate\\ line\\ center$\")  # alpha sets transparency where 1 is opaque; label for the legend\n",
    "\n",
    "plt.errorbar(x=wvln_region, y=flux_region, yerr=fluxErr_region, label='COS FUVA',\n",
    "             linestyle='', marker='.')  # marker tells the point to look like a dot\n",
    "\n",
    "plt.xlabel('Wavelength [$\\AA$]', size=20)\n",
    "plt.ylabel('Flux [$erg\\ s^{-1}\\ cm^{-2}\\ Angstrom^{-1}$]', size=20)\n",
    "\n",
    "plt.legend(fontsize=15)\n",
    "plt.tight_layout()\n",
    "plt.savefig(str(plotsdir / 'Fig2.3.png'), dpi=200)\n",
    "plt.title(\"Fig. 2.3\\nZoom in on the line at 1670 $\\AA$\", size=25)"
   ]
  },
  {
   "cell_type": "markdown",
   "metadata": {},
   "source": [
    "The source we're looking at - the quasar 3C48 has a substantial redshift: $$z \\approx 0.37$$  \n",
    "\n",
    "Source: [Simbad search for 3C48](http://simbad.u-strasbg.fr/simbad/sim-basic?Ident=3c48&submit=SIMBAD+search)\n",
    "\n",
    "With that redshift, we can determine the rest-frame wavelength.\n",
    "\n",
    "$$z = \\dfrac{\\lambda_{obs}-\\lambda_{rest}}{\\lambda_{rest}} \\ \\ \\rightarrow\\ \\ \\ \\lambda_{rest} = \\dfrac{\\lambda_{obs}}{1+z}$$\n",
    "\n",
    "At that redshift, we see this line to be $\\approx 1219$ Å. This is close to, and may correspond to, the Lyman-$\\alpha$ transition."
   ]
  },
  {
   "cell_type": "markdown",
   "metadata": {},
   "source": [
    "<font size=\"5\"><b>Now we will create a much more complex plot,</b></font> <font size=\"3\">allowing us to visualize an entire segment's spectrum in fine detail</font>\n",
    "We'll split the spectrum into \"segments\" of \\~10 Angstroms, and plot these segments in a vertical series. These plots may take a minute to create. If you want them to run quicker, hit the `Interrupt the Kernel` square-shaped button to stop the current cell from running (you will get an error message), and run this cell with a smaller number of rows.\n",
    "<a id=\"fig2p4V\"></a>"
   ]
  },
  {
   "cell_type": "code",
   "execution_count": null,
   "metadata": {},
   "outputs": [],
   "source": [
    "%%time\n",
    "# Let's see how long it takes with the above \"Cell magic\" ...\n",
    "# (Cell magic is a Jupyter/iPython series of utilities: https://ipython.readthedocs.io/en/stable/interactive/magics.html)\n",
    "for segment_row in fuv_x1d_data:  # Apply the following to each segment's data at a time\n",
    "    # Selects all immediately useful data for the chosen segment\n",
    "    wvln, flux, fluxErr, segment = segment_row[\"WAVELENGTH\",\n",
    "                                               \"FLUX\", \"ERROR\", \"SEGMENT\"]\n",
    "\n",
    "    minx, maxx = min(wvln), max(wvln)\n",
    "    miny, maxy = min(flux), max(flux)\n",
    "    rangex = maxx - minx\n",
    "    fig = plt.figure(figsize=(14, 20))\n",
    "\n",
    "    nRows = 15  # How many segments we wish to split the spectrum into\n",
    "\n",
    "    for i in range(nRows):\n",
    "        min_ = minx + i*rangex/nRows\n",
    "        max_ = minx + (i+1)*rangex/nRows\n",
    "        ax = plt.subplot(nRows, 1, i+1)\n",
    "\n",
    "        if i == 0:  # A way to set Title, xlabel, and ylabel that will work independent of number of rows\n",
    "            ax.set_title(\n",
    "                f\"Fig. 2.4{segment[-1]} \\nSegment {segment} Spectrum split into segments\", size=30)\n",
    "        if i == nRows - 1:\n",
    "            ax.set_xlabel(\"Wavelength [$\\AA$]\", size=30)\n",
    "        if i == int(nRows/2):\n",
    "            ax.set_ylabel(\n",
    "                'Flux [$erg\\ s^{-1}\\ cm^{-2}\\ Angstrom^{-1}$]', size=30)\n",
    "\n",
    "        # Create the plot itself\n",
    "        ax.errorbar(wvln, flux, fluxErr, c=plt.cm.rainbow((i+1)/nRows), alpha=0.8,\n",
    "                    marker='.', markerfacecolor='k', markersize=2, mew=0)\n",
    "\n",
    "        ax.set_xlim(min_, max_)\n",
    "    plt.tight_layout()\n",
    "    plt.savefig(\n",
    "        str(plotsdir / f'Fig2.4{segment[-1]}_{nRows}Rows_seg{segment}.png'), dpi=200)\n",
    "    plt.show()\n",
    "    print(\"\\n----\\n\")"
   ]
  },
  {
   "cell_type": "markdown",
   "metadata": {},
   "source": [
    "### Exercise 2.2 Choosing and plotting a useful data range\n",
    "That last plot was very dense with information. As practice plotting, make a scaled down version from just `1635 - 1675` Angstroms, and plot the data as a simple line graph."
   ]
  },
  {
   "cell_type": "code",
   "execution_count": null,
   "metadata": {},
   "outputs": [],
   "source": [
    "# Your code here"
   ]
  },
  {
   "cell_type": "markdown",
   "metadata": {},
   "source": [
    "<a id = specvizV></a>\n",
    "### 2.1.4. Reading and plotting the data with `specutils` (*OPTIONAL*)\n",
    "<font size=\"5\"> <em>Note, this section is entirely optional, and simply meant to give you more options for how to plot a spectrum.</em></font>\n",
    "\n",
    "An alternative way to read in and work with spectral data is with the [`specutils` package](https://specutils.readthedocs.io/en/stable/), which contains *quite a bit of functionality* for working with spectra. It also can make dealing with units easier, as it generally works well with astropy units and other modules. Make sure that your package is up to date (version $\\ge$ 1.1). We describe installing `specutils` in our [Notebook on setting up an environment](https://github.com/spacetelescope/notebooks/blob/master/notebooks/COS/Setup/Setup.ipynb).\n",
    "\n",
    "`specutils` treats spectra as special python objects rather than lists, and reads in the entire spectrum over both segments. \n",
    "\n",
    "Below is a simple example of using `specutils` to read-in, plot, and continuum-normalize our entire spectrum."
   ]
  },
  {
   "cell_type": "code",
   "execution_count": null,
   "metadata": {},
   "outputs": [],
   "source": [
    "import specutils\n",
    "from specutils.fitting import fit_generic_continuum\n",
    "\n",
    "from matplotlib import rcParams\n",
    "# The default fontsize it will use does not be clear at this plot size\n",
    "rcParams.update({'font.size': 20})\n",
    "\n",
    "spec1d = specutils.Spectrum1D.read(fuv_x1d_filepath)\n",
    "\n",
    "fig, (ax0, ax1) = plt.subplots(2, 1, figsize=(10, 8))\n",
    "\n",
    "# Plot the non-normalized flux\n",
    "ax0.plot(spec1d.spectral_axis, spec1d.flux)\n",
    "ax0.set_title(\n",
    "    \"Fig. 2.5\\nProducing spectra with specutils\\nUn-normalized flux\", size=20)\n",
    "\n",
    "# Continuum Normalize the flux:\n",
    "cont_norm_spec1d = spec1d / fit_generic_continuum(spec1d)(spec1d.spectral_axis)\n",
    "\n",
    "# Plot the normalized flux\n",
    "ax1.plot(cont_norm_spec1d.spectral_axis, cont_norm_spec1d.flux)\n",
    "ax1.set_title(\"Normalized flux\", size=20)\n",
    "ax1.set_ylabel(\"Unitless\")\n",
    "\n",
    "\n",
    "plt.tight_layout()\n",
    "plt.savefig(str(plotsdir / 'Fig2.5.png'), dpi=200)\n",
    "plt.show()\n",
    "\n",
    "# Not necessary for this plot, but gives us all the data separately\n",
    "wvln, flux, fluxErr = spec1d.wavelength, spec1d.flux, spec1d.uncertainty.quantity\n",
    "rcParams.update({'font.size': 10})  # Restore default fontsize"
   ]
  },
  {
   "cell_type": "markdown",
   "metadata": {},
   "source": [
    "`specutils` also works with the visualization [package `Jdaviz.Specviz`](https://github.com/spacetelescope/jdaviz), to produce very useful interactive spectral plots within a jupyter Notebook GUI framework. Currently, this interactive program works well within the Jupyter Notebook environment, but not within Jupyter Lab environment. \n"
   ]
  },
  {
   "cell_type": "markdown",
   "metadata": {},
   "source": [
    "<a id=nuvV></a>\n",
    "## 2.2. Plotting an NUV Spectrum\n",
    "\n",
    "The NUV data is formatted very similarly to the FUV data, and can be accessed as in [Section 1](#readInV)."
   ]
  },
  {
   "cell_type": "code",
   "execution_count": null,
   "metadata": {},
   "outputs": [],
   "source": [
    "# Here we read in the data - we may ignore warnings about slashes in the notation\n",
    "nuv_x1d_data = Table.read(nuv_x1d_filepath)"
   ]
  },
  {
   "cell_type": "markdown",
   "metadata": {},
   "source": [
    "<a id = nuv1V></a>\n",
    "### 2.2.1. Examining the first-order spectrum\n",
    "\n",
    "**Again, let's select the simplest data we need to plot a spectrum: WAVELENGTH, FLUX, and ERROR**.\n",
    "\n",
    "We will limit this first plot to only our first order spectra (we will exclude stripe C). We will plot these two spectra together (in the top panel) and then stripe-by-stripe in the lower 2 panes, similar to fig. 2.2.\n",
    "- The former view gives a better sense of the continuum\n",
    "- The latter views show zooms which allow us to meaningfully view the errors and see specific emission/absorption features.\n",
    "\n",
    "The way we produce this plot with `Python` in the cell below is looping through both NUV first-order stripes - NUVA and NUVB - plotting both of them in the upper subplot, and plotting each of them once more in one of the lower two subplots."
   ]
  },
  {
   "cell_type": "code",
   "execution_count": null,
   "metadata": {},
   "outputs": [],
   "source": [
    "# Build a 3row x 1column - subplot figure\n",
    "fig, (ax0, ax1, ax2) = plt.subplots(3, 1, figsize=(16, 16))\n",
    "\n",
    "for i in range(2):  # Iterate through the first 2 NUV segments/stripes\n",
    "    wvln, flux, fluxErr, segment = nuv_x1d_data[i][\"WAVELENGTH\"], nuv_x1d_data[i][\"FLUX\"], \\\n",
    "        nuv_x1d_data[i][\"ERROR\"], nuv_x1d_data[i][\"SEGMENT\"]  # Gather data\n",
    "\n",
    "    ax0.plot(wvln, flux,  # Plot both segments/stripes in first panel\n",
    "             linestyle=\"-\", label=segment, c=segment_colors[segment])\n",
    "    ax0.legend(fontsize=20)\n",
    "    ax0.set_title(\n",
    "        \"Fig 2.6\\nFirst-order NUV Spectra with G230L Grating\", size=35)\n",
    "\n",
    "    if i == 0:  # Plot only 0th segment/stripe in 2nd panel\n",
    "        ax1.errorbar(x=wvln, y=flux, yerr=fluxErr,\n",
    "                     linestyle=\"\",  label=segment, c=segment_colors[segment])\n",
    "        ax1.set_xlim(2100, 2510)\n",
    "        ax1.set_ylim(0.5E-13, 1.5E-13)\n",
    "        ax1.legend(fontsize=20)\n",
    "        ax1.set_ylabel('Flux [$erg\\ s^{-1}\\ cm^{-2}\\ Angstrom^{-1}$]', size=30)\n",
    "\n",
    "    if i == 1:  # Plot only 1th segment/stripe in 3rd panel\n",
    "        ax2.errorbar(x=wvln, y=flux, yerr=fluxErr,\n",
    "                     linestyle=\"\",  label=segment, c=segment_colors[segment])\n",
    "        ax2.set_xlim(3190, 3600)\n",
    "        ax2.set_ylim(1E-14, 4.5E-14)\n",
    "        ax2.legend(fontsize=20)\n",
    "        ax2.set_xlabel('Wavelength [$\\AA$]', size=30)\n",
    "\n",
    "plt.tight_layout()\n",
    "plt.savefig(str(plotsdir / 'Fig2.6.png'), dpi=200)\n",
    "plt.show()"
   ]
  },
  {
   "cell_type": "markdown",
   "metadata": {},
   "source": [
    "<a id = nuv2V></a>\n",
    "### 2.2.2. Examining the second-order spectrum\n",
    "\n",
    "On NUV stripe C data taken with the grating G230L, we have a more dispersed, second-order spectrum over a smaller segment of the NUV. Below, we plot this second-order over the first-order spectrum from stripe A.\n",
    "\n",
    "Note that most NUV gratings produce first-order spectra over all three stripes. See the [Instrument Handbook](https://hst-docs.stsci.edu/cosihb/chapter-5-spectroscopy-with-cos/5-1-the-capabilities-of-cos#id-5.1TheCapabilitiesofCOS-Section5.1.35.1.3Second-OrderSensitivity) for more information. We chose to plot this this type of spectrum to create a more complex plot and to demonstrate using different scales on the same axis."
   ]
  },
  {
   "cell_type": "code",
   "execution_count": null,
   "metadata": {},
   "outputs": [],
   "source": [
    "fig, (ax0, ax1) = plt.subplots(2, 1, figsize=(16, 8))\n",
    "\n",
    "# We reverse this order. The 0th stripe (A) is plotted OVER the 2nd stripe (C). It's purely aesthetic.\n",
    "for i in [2, 0]:\n",
    "    wvln, flux, fluxErr, segment = nuv_x1d_data[i][\"WAVELENGTH\"], nuv_x1d_data[\n",
    "        i][\"FLUX\"], nuv_x1d_data[i][\"ERROR\"], nuv_x1d_data[i][\"SEGMENT\"]\n",
    "\n",
    "    if i == 0:\n",
    "        ax0.errorbar(x=wvln, y=flux, yerr=fluxErr,\n",
    "                     linestyle=\"\",  label=segment, c='k', alpha=0.3)\n",
    "\n",
    "        ax1.errorbar(x=wvln, y=flux, yerr=fluxErr,\n",
    "                     linestyle=\"\",  label=segment, c='k', alpha=0.3)\n",
    "\n",
    "    if i == 2:\n",
    "        ax0.errorbar(x=wvln, y=flux, yerr=fluxErr,\n",
    "                     linestyle=\"\",  label=segment, c=segment_colors[segment], alpha=0.8)\n",
    "\n",
    "        ax1.errorbar(x=wvln, y=flux, yerr=fluxErr,\n",
    "                     linestyle=\"\",  label=segment, c=segment_colors[segment], alpha=0.8)\n",
    "\n",
    "\n",
    "ax0.set_xlim(2100, 2510)\n",
    "ax0.set_ylim(0.48E-13, 1.75E-13)\n",
    "\n",
    "ax0.set_title(\n",
    "    \"Fig 2.7\\nOverlay of First and Second-order Spectrum with G230L Grating\", size=25)\n",
    "\n",
    "ax1.set_xlim(2200, 2210)\n",
    "ax1.set_ylim(0.6E-13, 1.75E-13)\n",
    "\n",
    "ax1.set_xlabel('Wavelength [$\\AA$]', size=20)\n",
    "fig.text(-0.015, 0.5, 'Flux [$erg\\ s^{-1}\\ cm^{-2}\\ Angstrom^{-1}$]',\n",
    "         size=20, va='center', rotation='vertical')\n",
    "\n",
    "# Let's add a dashed rectangle to show where we are zooming into in the lower panel.\n",
    "ax0.plot([2210, 2200, 2200, 2210, 2210], [0.6E-13, 0.6E-13, 1.7E-13, 1.7E-13, 0.6E-13],\n",
    "         'b', linewidth=5, linestyle='--', alpha=0.7, label=\"Lower panel zoom bounds\")\n",
    "\n",
    "\n",
    "# These lines just ensure that the legend is ordered correctly (first ax0)\n",
    "handles, labels = ax0.get_legend_handles_labels()\n",
    "handles = [handles[2], handles[1], handles[0]]\n",
    "labels = [labels[2], labels[1], labels[0]]\n",
    "ax0.legend(handles, labels, fontsize=20, loc='upper right')\n",
    "handles, labels = ax1.get_legend_handles_labels()  # Now for ax1\n",
    "handles = [handles[1], handles[0]]\n",
    "labels = [labels[1], labels[0]]\n",
    "ax1.legend(handles, labels, fontsize=20, loc='upper right')\n",
    "\n",
    "plt.tight_layout()\n",
    "plt.savefig(str(plotsdir / 'Fig2.7.png'), dpi=200)\n",
    "plt.show()"
   ]
  },
  {
   "cell_type": "markdown",
   "metadata": {},
   "source": [
    "**Clearly, our errorbars on the second-order spectrum are *much larger*.**\n",
    "\n",
    "However, if we need a very high dispersion - for instance, to split closely-spaced lines - the lower panel (zoom) shows a potential advantage of stripe C. Its higher spectral sampling rate can allow for finer distinctions in wavelength, *if* an acceptable SNR can be reached."
   ]
  },
  {
   "cell_type": "markdown",
   "metadata": {},
   "source": [
    "<a id = AssessingV></a>\n",
    "# 3. Preliminary Review of the Data\n",
    "\n",
    "<font size=\"4\"><b>There is no one-size-fits-all approach to analyzing COS data.</b></font>\n",
    "\n",
    "This section aims to walk you through taking a brief critical look at your data by taking the first steps of [binning](https://en.wikipedia.org/wiki/Data_binning) the data, (to the size of COS' resolution elements - called [resels](https://hst-docs.stsci.edu/cosihb/chapter-3-description-and-performance-of-the-cos-optics/3-2-size-of-a-resolution-element)), and then measuring the Signal-to-Noise Ratio ([SNR](https://en.wikipedia.org/wiki/Signal-to-noise_ratio)).\n",
    "\n",
    "\n",
    "*Note that the cell below is only necessary if you have chosen to skip sections \\#1 and \\#2*"
   ]
  },
  {
   "cell_type": "code",
   "execution_count": null,
   "metadata": {},
   "outputs": [],
   "source": [
    "# Make sure these point to your new FUV data\n",
    "fuv_x1d_filepath = './data/mastDownload/HST/lcxv13050/lcxv13050_x1dsum.fits'\n",
    "fuv_x1d_data = Table.read(fuv_x1d_filepath)\n",
    "# Make sure these point to your new NUV data\n",
    "nuv_x1d_filepath = './data/mastDownload/HST/lbbd01020/lbbd01020_x1dsum.fits'\n",
    "nuv_x1d_data = Table.read(nuv_x1d_filepath)"
   ]
  },
  {
   "cell_type": "markdown",
   "metadata": {},
   "source": [
    "<a id = DataQualV></a>\n",
    "## 3.1. Data Quality and Initial Cleanup\n",
    "\n",
    "One of the first things one notices in all of the plots we have made is that all of the segments/stripes have real, useful data, bookended on each side by zeros (see, for example, [Fig. 2.1](#fig2p1)).\n",
    "These zeros are regions on the active area of the detector which don't receive and detect light, but *are* read in as data. We don't want these datapoints in our spectra, so we will filter them out. \n",
    "\n",
    "The COS data we have downloaded conveniently have an extension devoted to data quality information. Information on the data quality array and the flags it contains can be found in [Table 2.18 of the COS Data Handbook](https://hst-docs.stsci.edu/cosdhb/chapter-2-cos-data-files/2-7-error-and-data-quality-array).\n",
    "\n",
    "Let's first look at the data quality flags. We'll do this by plotting a histogram, labelling the bins according to what the data quality value of that bin means. We add hatching to the histograms to make it easier to see where certain segments overlap."
   ]
  },
  {
   "cell_type": "code",
   "execution_count": null,
   "metadata": {},
   "outputs": [],
   "source": [
    "# To make plotting the bins linearly work, we deal with the base2 logs of the power-of-2 data quality values\n",
    "\n",
    "# The values are all powers of two from 2**1 to 2**14, except for 0, which is 2**-inf\n",
    "bins_titles = (np.logspace(-1, 14, 16, base=2, dtype=int))\n",
    "meanings = ['No Anomalies', 'Reed-Solomon Error', 'Hot Spot', 'Detector Shadow', 'Poorly Calibrated Region',  # What each power of 2 means in order\n",
    "            # More info in the data handbook\n",
    "            'Very-low Response Region', 'Background Feature', 'Burst', 'Pixel Out-of-bounds', 'Fill Data',\n",
    "            'Pulse Height Out-of-bounds', 'Low Response Region', 'Bad Time Interval', 'Low PHA Feature',\n",
    "            'Gain-sag Hole', 'Not Used']\n",
    "\n",
    "# pair the meaning with its power of 2 value in a single string\n",
    "meanings2 = [str(bt)+\": \" + mn for bt, mn in zip(bins_titles, meanings)]\n",
    "\n",
    "# Top (FUV) subplot and bottom (NUV) subplot\n",
    "fig, (ax0, ax1) = plt.subplots(2, 1, figsize=(10, 12))\n",
    "\n",
    "# Suppress a divide by zero warning\n",
    "np.warnings.filterwarnings('ignore', category=RuntimeWarning)\n",
    "for i in range(2):  # First loop through the 2 FUV segments to make the top plot\n",
    "    # Gather the data\n",
    "    dataQual, segment = fuv_x1d_data[i][\"DQ\"], fuv_x1d_data[i][\"SEGMENT\"]\n",
    "    bins_ = np.arange(-1, 15)  # all the log2 of the DQ values\n",
    "    bins_titles = (np.logspace(-1, 14, 16, base=2, dtype=int))\n",
    "    logDQ = np.log2(dataQual)\n",
    "    logDQ = np.nan_to_num(logDQ, neginf=-1)\n",
    "\n",
    "    ax0.set_xticks([])\n",
    "    # Add hatching to distinguish overlapping colors\n",
    "    ax0.hist(logDQ, bins=bins_, color='cmy'[\n",
    "             i], alpha=0.5 + 0.1*(i+1), label=segment, hatch='|-'[i])\n",
    "    ax0.legend(fontsize=20)\n",
    "    ax0.set_yscale('log')\n",
    "    ax0.set_title(\"Fig. 3.1\\nData quality flag frequencies\", fontsize=20)\n",
    "\n",
    "for i in range(3):  # Next loop through the 3 NUV segments/stripes to make bottom plot\n",
    "    # Gather the data\n",
    "    dataQual, segment = nuv_x1d_data[i][\"DQ\"], nuv_x1d_data[i][\"SEGMENT\"]\n",
    "    bins_ = np.arange(-1, 15)  # all the log2 of the DQ values\n",
    "\n",
    "    logDQ = np.log2(dataQual)\n",
    "    logDQ[np.where(-1*(logDQ) == np.inf)] = -1\n",
    "\n",
    "    # Add hatching to distinguish overlapping colors\n",
    "    ax1.hist(logDQ, bins=bins_, color='cmy'[\n",
    "             i], alpha=1 - 0.25*(i), label=segment, hatch='|-/'[i])\n",
    "    ax1.legend(fontsize=20)\n",
    "    ax1.set_yscale('log')\n",
    "# suppress a divide by zero warning\n",
    "np.warnings.filterwarnings('default', category=RuntimeWarning)\n",
    "plt.xticks(bins_+0.5, labels=meanings2, rotation='vertical', fontsize=15)\n",
    "fig.set_tight_layout('tight')\n",
    "plt.savefig(str(plotsdir / 'Fig3.1.png'), dpi=200)"
   ]
  },
  {
   "cell_type": "markdown",
   "metadata": {},
   "source": [
    "When the data is processed through `CalCOS`, it has a summed set of \"Serious Data Quality\" [SDQ](https://hst-docs.stsci.edu/cosdhb/chapter-3-cos-calibration/3-4-descriptions-of-spectroscopic-calibration-steps) flags attached to it in the form of a single integer between 0 and $2^{15}$. This value is found in the 1-th header as `\"SDQFLAGS\"`. This can be decomposed into the powers of 2 data flags above, (by showing its binary representation,) and tells the pipeline whether to weight that pixel in that exposure by 0 or 1. These weights are then stored in the `x1d` and `x1dsum` files, in the `\"DQ_WGT\"` column. The `\"DQ_WGT\"` value for a given pixel in the `x1dsum` file will then be equal to the number of exposures which went into creating that `x1dsum` file in which no serious data quality flags apply to that pixel.\n",
    "\n",
    "Below, we first see *which* data quality flags the pipeline considered \"serious\", and then demonstrate masking out the datapoints assigned a weight of 0."
   ]
  },
  {
   "cell_type": "code",
   "execution_count": null,
   "metadata": {},
   "outputs": [],
   "source": [
    "sdqFlags_fuv = fits.getheader(fuv_x1d_filepath, 1)[\"SDQFLAGS\"]\n",
    "print(\n",
    "    f\"The FUV was processed with SDQFLAGS = {sdqFlags_fuv}, which in binary is {bin(sdqFlags_fuv)[2:]}\")\n",
    "print(\"\\t\\tThus, the following DQ-flagged data get weighted by 0:\\n\")\n",
    "for i, char in enumerate(bin(sdqFlags_fuv)[2:]):\n",
    "    if char == '1':\n",
    "        print(f\"\\t\\t\\t{(2**(i+1))}'s place - \", meanings[i+2])"
   ]
  },
  {
   "cell_type": "code",
   "execution_count": null,
   "metadata": {},
   "outputs": [],
   "source": [
    "# Filter the datapoints to where there are no serious DQ flags\n",
    "mask_noSDQ = fuv_x1d_data[0][\"DQ_WGT\"].astype(bool)\n",
    "wvln_FUVA_noSDQ, flux_FUVA_noSDQ = fuv_x1d_data[0][\"WAVELENGTH\"][\n",
    "    mask_noSDQ], fuv_x1d_data[0][\"FLUX\"][mask_noSDQ]\n",
    "\n",
    "# Make the figure:\n",
    "plt.figure(figsize=(10, 6))\n",
    "\n",
    "# Plot the filtered datapoints\n",
    "plt.plot(wvln_FUVA_noSDQ, flux_FUVA_noSDQ)\n",
    "\n",
    "# Format the figure\n",
    "plt.title(\"Fig 3.2\\nFUVA without SDQ flagged data\", size=20)\n",
    "plt.xlabel('Wavelength [$\\AA$]', size=20)\n",
    "plt.ylabel('Flux [$erg\\ s^{-1}\\ cm^{-2}\\ Angstrom^{-1}$]', size=15)\n",
    "plt.tight_layout()\n",
    "plt.savefig(str(plotsdir / 'Fig3.2.png'), dpi=200)"
   ]
  },
  {
   "cell_type": "markdown",
   "metadata": {},
   "source": [
    "Alternatively, we can ignore the SDQFLAGS and the weights decided by `CalCOS` and pick which data quality flags we want to filter out. From Fig 3.1, we know the only problem in the FUV and the largest problem in the NUV are pixels flagged by **\"out of bounds\"**, corresponding to Data Quality: **128**.\n",
    "\n",
    "We will demonstrate removing only these datapoints from the FUV data below. You could also filter to only data with *0: no anomalies*, or to any other subset."
   ]
  },
  {
   "cell_type": "code",
   "execution_count": null,
   "metadata": {},
   "outputs": [],
   "source": [
    "plt.figure(figsize=(12, 6), dpi=100)\n",
    "for i in range(2):\n",
    "    wvln, flux, fluxErr, dataQual, segment = fuv_x1d_data[i][\"WAVELENGTH\"], fuv_x1d_data[i][\"FLUX\"],\\\n",
    "        fuv_x1d_data[i][\"ERROR\"], fuv_x1d_data[i][\"DQ\"], fuv_x1d_data[i][\"SEGMENT\"]\n",
    "\n",
    "    plt.plot(wvln[dataQual != 128.0], flux[dataQual != 128.0], linewidth=1, alpha=0.8, c=['#d55e00', '#009e73'][i],\n",
    "             label=f\"{segment} Cleaned\")\n",
    "    plt.scatter(wvln[dataQual == 128.0], flux[dataQual == 128.0],\n",
    "                s=[12, 4][i], c=['k', 'b'][i], alpha=1, marker=\"o.\"[i],\n",
    "                label=f\"{segment} Pix out-of-bounds\")\n",
    "plt.legend(fontsize=18)\n",
    "plt.title(\"Fig. 3.3\\nRemoving only out-of-bounds pixels from the FUV\\n\", size=25)\n",
    "plt.xlabel('Wavelength [$\\AA$]', size=20)\n",
    "plt.ylabel('Flux [$erg\\ s^{-1}\\ cm^{-2}\\ Angstrom^{-1}$]', size=15)\n",
    "plt.tight_layout()\n",
    "plt.savefig(str(plotsdir / 'Fig3.3.png'))"
   ]
  },
  {
   "cell_type": "markdown",
   "metadata": {},
   "source": [
    "### Exercise 3.1: *Removing all flagged data from the NUV*\n",
    "\n",
    "The NUV data has flags for more than just out-of-bounds pixels.\n",
    "\n",
    "1. Filter out all data which has been flagged\n",
    "2. Plot the NUV spectrum from stripes NUVA and NUVB\n",
    "3. Plot the flagged data in another color to see where the removed data is"
   ]
  },
  {
   "cell_type": "code",
   "execution_count": null,
   "metadata": {},
   "outputs": [],
   "source": [
    "# Your answer here"
   ]
  },
  {
   "cell_type": "markdown",
   "metadata": {},
   "source": [
    "<a id=BinningV></a>\n",
    "## 3.2. Binning \n",
    "\n",
    "Up until now, the data we've been working with has one value per \"pixel\" of the detector.\n",
    "COS data is generally binned to a resolution element, or [resel](https://hst-docs.stsci.edu/cosihb/chapter-3-description-and-performance-of-the-cos-optics/3-2-size-of-a-resolution-element), when working with it. These resels are *generally* the following sizes *in pixels*.\n",
    "\n",
    "||FUV|NUV|\n",
    "|-|---|---|\n",
    "|**Dispersion Axis**|6|3|\n",
    "|**Cross-Dispersion Axis**|10|3|\n",
    "\n",
    "So, for the FUV, we generally want to preliminarily bin our `x1d` or `x1dsum` data by 6."
   ]
  },
  {
   "cell_type": "markdown",
   "metadata": {},
   "source": [
    "<a id=BinfunV></a>\n",
    "### 3.2.1. Bringing in Some Useful Functions for Binning\n",
    "\n",
    "In the same subdirectory of the [spacetelescope/notebooks GitHub repository](https://github.com/spacetelescope/notebooks) as this file (`notebooks/COS/ViewData/`), we also have the `Python` file: `cos_functions.py`, in which we have defined several long functions necessary for this data processing. \n",
    "\n",
    "*Note, if you downloaded this Notebook file without cloning the entire GitHub repository, you must also download the file `cos_functions.py` from [here](https://github.com/spacetelescope/notebooks/tree/master/notebooks/COS/ViewData/)*.\n",
    "\n",
    "In the cell below, we import the function `bin_by_resel` from the file `cos_functions.py`. The `bin_by_resel` function applies the following binning algorithms to an entire COS NUV or FUV dataset. We run the help function to get more information on how the values are binned."
   ]
  },
  {
   "cell_type": "code",
   "execution_count": null,
   "metadata": {},
   "outputs": [],
   "source": [
    "from cos_functions import bin_by_resel\n",
    "help(bin_by_resel)"
   ]
  },
  {
   "cell_type": "markdown",
   "metadata": {},
   "source": [
    "<a id = binfuvV></a>\n",
    "### 3.2.2. Binning the FUV Data\n",
    "**Below we bin our FUV data by 6. Our resulting table is just under $\\dfrac{1}{6}$ the size of our input table, as a few of the last datapoints were cropped.**\n",
    "\n",
    "*Note*, this binning method works well for binsizes which are small compared to the spectrum; however, if you increase your binsize significantly, you may lose important datapoints."
   ]
  },
  {
   "cell_type": "code",
   "execution_count": null,
   "metadata": {},
   "outputs": [],
   "source": [
    "binned_fuv_data = bin_by_resel(fuv_x1d_data)\n",
    "print(f\"\\nOriginal Dataset Length is {len(fuv_x1d_data[0]['WAVELENGTH'])}\")\n",
    "print(f\"Binned   Dataset Length is {len(binned_fuv_data[0]['WAVELENGTH'])}\")\n",
    "print(f\"\\t{len(fuv_x1d_data[0]['WAVELENGTH'])} over {len(binned_fuv_data[0]['WAVELENGTH'])} = {len(fuv_x1d_data[0]['WAVELENGTH'])/len(binned_fuv_data[0]['WAVELENGTH'])}\\n\")\n",
    "binned_fuv_data"
   ]
  },
  {
   "cell_type": "markdown",
   "metadata": {},
   "source": [
    "<a id=SnrV></a>\n",
    "## 3.3. Estimating the Signal-to-Noise (SNR) Ratio\n",
    "<a id=snrfunV></a>\n",
    "### 3.3.1.  Bringing in a Useful Function for Estimating SNR\n",
    "Below, we define a function to estimate the Signal-to-Noise ratio (SNR or S/N) of our data. One way to estimate the SNR for photon-counting instruments like COS is by the square-root of their number of gross counts. This is a simplification of the equation given for point sources in the [COS Instrument Handbook Section 7.3](https://hst-docs.stsci.edu/cosihb/chapter-7-exposure-time-calculator-etc/7-3-sensitivity-count-rate-and-signal-to-noise):\n",
    "\n",
    "$$\\dfrac{Signal}{Noise} = \\dfrac{C \\times t}{\\sqrt{C \\times t + N_{pix} \\times (B_{sky} + B_{det}) \\times t}}$$\n",
    "\n",
    "For bright point sources, $C >> B_{sky} + B_{det}$, and this approaches the simpler:\n",
    "\n",
    "$$\\dfrac{Signal}{Noise} = \\sqrt{C \\times t} = \\sqrt{Gross\\ Counts}$$\n",
    "\n",
    "<font size=\"5\">Caution!</font>\n",
    "\n",
    "<img src=figures/warning.png width =\"60\" title=\"CAUTION!\"> \n",
    "This simplification may not hold very well if your source is diffuse or faint."
   ]
  },
  {
   "cell_type": "code",
   "execution_count": null,
   "metadata": {},
   "outputs": [],
   "source": [
    "from cos_functions import estimate_snr\n",
    "help(estimate_snr)"
   ]
  },
  {
   "cell_type": "markdown",
   "metadata": {},
   "source": [
    "**The function `estimate_snr` gives a $\\sqrt{Gross\\ Counts}$ estimate of SNR for an input Astropy Table of COS data.**\n",
    "\n",
    "By default, it does not bin the data before calculating the SNR, nor does it weight the output SNR by exposure time; however, it has the functionality to do both. In most cases, a range should be specified over which to calculate the SNR. If no range is specified, then SNR will be computed for all Resels, but no mean/weighted average will be computed; instead, -1 will be returned in place of the mean.\n",
    "\n",
    "<a id = snrregV></a>\n",
    "\n",
    "### 3.3.2. Choosing a Region to calculate SNR\n",
    "\n",
    "The SNR should be calculated over a region of continuum, rather than one with significant spectral lines.\n",
    "Looking back to [Fig. 2.4](#fig2p4V), we see a broad stretch with no obvious lines from \\[1675 - 1690 Å] in the FUVA segment. We'll make a quick plot of that region below just to check."
   ]
  },
  {
   "cell_type": "code",
   "execution_count": null,
   "metadata": {},
   "outputs": [],
   "source": [
    "plt.figure(figsize=(12, 4))  # Set up figure\n",
    "wvln, flux = fuv_x1d_data[0][\"WAVELENGTH\", \"FLUX\"]  # select data\n",
    "wvln_range_mask = (wvln > 1670) & (wvln < 1700)  # create mask for data\n",
    "\n",
    "# Generate the plot itself\n",
    "plt.plot(wvln[wvln_range_mask], flux[wvln_range_mask])\n",
    "# add lines showing the range we'll calculate SNR over\n",
    "plt.axvline(1675, c='k', linewidth=3)\n",
    "plt.axvline(1690, c='k', linewidth=3)\n",
    "# Format the plot\n",
    "plt.title(\"Fig. 3.4\\nRange for SNR Calculation\", size=20)\n",
    "plt.xlabel('Wavelength [$\\AA$]', size=20)\n",
    "plt.ylabel('Flux\\n[$erg\\ s^{-1}\\ cm^{-2}\\ Angstrom^{-1}$]', size=12)\n",
    "plt.tight_layout()\n",
    "plt.savefig(str(plotsdir/'Fig3.4.png'), dpi=200)"
   ]
  },
  {
   "cell_type": "markdown",
   "metadata": {},
   "source": [
    "Our chosen region, between the black lines, looks quite good for calculating SNR, as it lacks obvious spectral lines.\n",
    "<a id = snrcalcV></a>\n",
    "### 3.3.3. Calculating the SNR\n",
    "Below, we calculate the SNR of the FUV data over the region [1675, 1690]. *Note*, we input the unbinned data, and bin by an FUV Resel of 6 first. We'll leave `verbose = True`, so we can see what is going on in the function.\n",
    "\n",
    "It turns out this dataset has a fairly low SNR. After calculating the SNR and mean SNR over the specified region, we plot both over wavelength."
   ]
  },
  {
   "cell_type": "code",
   "execution_count": null,
   "metadata": {},
   "outputs": [],
   "source": [
    "# Calculates the SNR\n",
    "res_size = 6  # Set the correct resel size as in the data handbook\n",
    "meanSNR_range1675_1690, range1675_1690 = estimate_snr(\n",
    "    fuv_x1d_data, bin_data_first=True, binsize_=res_size, snr_range=[1675, 1690])  # Gather data\n",
    "# Creates a plot\n",
    "plt.figure(figsize=(12, 8))\n",
    "\n",
    "wvln_over_range, snr_over_range = range1675_1690[0][0], range1675_1690[0][1]\n",
    "# range1675_1690 contains a list of data for each segment of the detector (i.e. FUVA and FUVB)\n",
    "# If your wavelength range for calculating S/N falls in FUVA, you would access the WAVELENGTH and S/N as:\n",
    "#       range1675_1690[1][0], range1675_1690[1][1]\n",
    "\n",
    "plt.plot(wvln_over_range, snr_over_range, c='#466599',\n",
    "         # add a marker (black dot) to the plotted line\n",
    "         marker='.', markersize=8, markerfacecolor='k',\n",
    "         label=f\"SNR Binned by Resel size {res_size}\")\n",
    "plt.axhline(meanSNR_range1675_1690, c='r', linestyle='-.', linewidth=4,\n",
    "            label=\"Mean SNR over the Region\")  # plot a horizontal line at y = mean SNR\n",
    "\n",
    "plt.legend(fontsize=20)\n",
    "plt.title(\"Fig. 3.5\\nResults of SNR Calculation by Wavelength\", size=30)\n",
    "plt.xlabel('Wavelength [$\\AA$]', size=20)\n",
    "plt.ylabel('SNR', size=20)\n",
    "plt.tight_layout()\n",
    "plt.savefig(str(plotsdir/'Fig3.5.png'), dpi=200)"
   ]
  },
  {
   "cell_type": "markdown",
   "metadata": {},
   "source": [
    "### Exercise 3.2. *Binning the NUV Data and Calculating its SNR*\n",
    "\n",
    "1. Bin the NUV data, remembering that the resel size is different than that for the FUV\n",
    "2. Find a continuum region of the NUV data with no significant spectral lines\n",
    "3. Calculate the mean SNR over that region"
   ]
  },
  {
   "cell_type": "code",
   "execution_count": null,
   "metadata": {},
   "outputs": [],
   "source": [
    "# Your code here"
   ]
  },
  {
   "cell_type": "markdown",
   "metadata": {},
   "source": [
    "## Congratulations! You finished this Notebook!\n",
    "### There are more COS data walkthrough Notebooks on different topics. You can find them [here](https://spacetelescope.github.io/COS-Notebooks/)."
   ]
  },
  {
   "cell_type": "markdown",
   "metadata": {},
   "source": [
    "\n",
    "---\n",
    "## About this Notebook\n",
    "**Author:** [Nat Kerman](nkerman@stsci.edu)\n",
    "\n",
    "**Updated On:** 2022-03-17\n",
    "\n",
    "\n",
    "> *This tutorial was generated to be in compliance with the [STScI style guides](https://github.com/spacetelescope/style-guides) and would like to cite the [Jupyter guide](https://github.com/spacetelescope/style-guides/blob/master/templates/example_notebook.ipynb) in particular.*\n",
    "## Citations\n",
    "\n",
    "If you use `astropy`, `matplotlib`, `astroquery`, or `numpy` for published research, please cite the\n",
    "authors. Follow these links for more information about citations:\n",
    "\n",
    "* [Citing `astropy`/`numpy`/`matplotlib`](https://www.scipy.org/citing.html)\n",
    "* [Citing `astroquery`](https://astroquery.readthedocs.io/en/latest/)\n",
    "\n",
    "---\n",
    "\n",
    "[Top of Page](#topV)\n",
    "<img style=\"float: right;\" src=\"https://raw.githubusercontent.com/spacetelescope/notebooks/master/assets/stsci_pri_combo_mark_horizonal_white_bkgd.png\" alt=\"Space Telescope Logo\" width=\"200px\"/> \n",
    "\n"
   ]
  },
  {
   "cell_type": "markdown",
   "metadata": {},
   "source": [
    "<br></br>\n",
    "<br></br>\n",
    "<br></br>"
   ]
  },
  {
   "cell_type": "markdown",
   "metadata": {},
   "source": [
    "## Exercise Solutions:"
   ]
  },
  {
   "cell_type": "code",
   "execution_count": null,
   "metadata": {},
   "outputs": [],
   "source": [
    "# Exercise 1.1 Soln\n",
    "# 1\n",
    "# Here we read in the data - we may ignore any warnings about slashes in the notation\n",
    "nuv_x1d_data = Table.read(nuv_x1d_filepath)\n",
    "# 2\n",
    "nuv_x1d_header = fits.getheader(nuv_x1d_filepath)\n",
    "nuv_x1d_header1 = fits.getheader(nuv_x1d_filepath, ext=1)\n",
    "print(\n",
    "    f\"Processed at MJD = {nuv_x1d_header['PROCTIME']}\\nTaken with {nuv_x1d_header1['NUMFLASH']} wavecal flashes\\n\")\n",
    "# 3\n",
    "nuv_asn_data = Table.read(nuv_asn_filepath)\n",
    "print(nuv_asn_data)"
   ]
  },
  {
   "cell_type": "code",
   "execution_count": null,
   "metadata": {},
   "outputs": [],
   "source": [
    "# Ex. 2.1 Soln:\n",
    "# [0] Accesses FUVA: the longer wvln segment and gets the data we need to plot a spectrum\n",
    "wvln, flux, segment = fuv_x1d_data[1][\"WAVELENGTH\", \"FLUX\", \"SEGMENT\"]\n",
    "# [1] Accesses FUVB\n",
    "wvln *= u.AA  # Adds unit to the wvln of Angstroms\n",
    "# Adds unit to the flux of erg / (Angstrom cm2 s)\n",
    "flux *= u.erg/(u.second * u.AA * (u.cm)**2)\n",
    "flux /= (np.nanmax(flux))\n",
    "with quantity_support():  # Allows us to view the units attached to the data as the axes labels. This isn't generally necessary unless you want the unit support.\n",
    "\n",
    "    # Sets up the plot as a single box with size of 10x4 inches, and with a dpi of 100, relavent should we choose to save it\n",
    "    fig1, ax = plt.subplots(1, 1, figsize=(10, 4), dpi=100)\n",
    "\n",
    "    # The next few lines are the core of the cell, where we actually place the data onto the plot:\n",
    "    ###############\n",
    "    ax.plot(wvln, flux,  # First two arguments are assumed to be the x-data, y-data\n",
    "            # These parameters specify the look of the connecting line\n",
    "            linestyle=\"-\", linewidth=0.25, c='black',\n",
    "            marker='',  # The marker parameters specify how the data points will look - if you don't want dots set marker = ''\n",
    "            label=segment)  # The label is an optional parameter which will allow us to create a legend - useful when there are multiple datasets on the same plot\n",
    "\n",
    "    ax.set_title(\"Exercise 2.1\\nSimple COS Segment FUVB Spectrum\",\n",
    "                 size=20)  # Adds a title of fontsize 20 points\n",
    "\n",
    "    # These two lines set the x and y bounds of the image in whatever units we are plotting in\n",
    "    plt.xlim(1420, 1620)\n",
    "    plt.ylim(-0.05, 1)\n",
    "\n",
    "    # Adds a legend with the label specified in the plotting call\n",
    "    plt.legend(loc='upper right')\n",
    "    plt.tight_layout()  # Gets rid of blank space\n",
    "    plt.show()  # Shows all the plot calls in this cell and \"clears\" the plotting space - must come after any saving you want to do"
   ]
  },
  {
   "cell_type": "code",
   "execution_count": null,
   "metadata": {},
   "outputs": [],
   "source": [
    "# Ex. 2.2 Soln\n",
    "# selects all useful data for the chosen segment = FUVA\n",
    "wvln, flux, fluxErr, segment = fuv_x1d_data[0][\"WAVELENGTH\",\n",
    "                                               \"FLUX\", \"ERROR\", \"SEGMENT\"]\n",
    "\n",
    "minx, maxx = 1635, 1675\n",
    "miny, maxy = min(flux), max(flux)\n",
    "\n",
    "wvln_range_mask = (wvln > minx) & (wvln < maxx)\n",
    "\n",
    "wvln = wvln[wvln_range_mask]\n",
    "flux = flux[wvln_range_mask]\n",
    "fluxErr = fluxErr[wvln_range_mask]\n",
    "\n",
    "rangex = maxx - minx\n",
    "fig = plt.figure(figsize=(14, 10))\n",
    "\n",
    "nRows = 3\n",
    "\n",
    "for i in range(nRows):\n",
    "    min_ = minx + i*rangex/nRows\n",
    "    max_ = minx + (i+1)*rangex/nRows\n",
    "    ax = plt.subplot(nRows, 1, i+1)\n",
    "\n",
    "    if i == 0:  # A way to set Title, xlabel, and ylabel that will work independent of number of rows\n",
    "        ax.set_title(\n",
    "            f\"Ex 2.2 Solution FUV{segment[-1]} \\nSegment {segment} spectrum split into segments\", size=30)\n",
    "    if i == nRows - 1:\n",
    "        ax.set_xlabel(\"Wavelength [$\\AA$]\", size=30)\n",
    "    if i == int(nRows/2):\n",
    "        ax.set_ylabel('Flux [$erg\\ s^{-1}\\ cm^{-2}\\ Angstrom^{-1}$]', size=30)\n",
    "\n",
    "    ax.errorbar(wvln, flux, fluxErr, c=plt.cm.rainbow((i+1)/nRows), alpha=0.8,\n",
    "                marker='.', markerfacecolor='k', markersize=2, mew=0)\n",
    "\n",
    "    ax.set_xlim(min_, max_)\n",
    "plt.tight_layout()\n",
    "plt.show()"
   ]
  },
  {
   "cell_type": "code",
   "execution_count": null,
   "metadata": {},
   "outputs": [],
   "source": [
    "# Ex. 3.1 Soln\n",
    "\n",
    "plt.figure(figsize=(12, 6))\n",
    "for i in range(2):\n",
    "    dataQual = nuv_x1d_data[i][\"DQ\"]\n",
    "    wvln, flux, fluxErr, segment = nuv_x1d_data[i][\"WAVELENGTH\"], nuv_x1d_data[i][\"FLUX\"],\\\n",
    "        nuv_x1d_data[i][\"ERROR\"], nuv_x1d_data[i][\"SEGMENT\"]\n",
    "\n",
    "    plt.plot(wvln[dataQual == 0], flux[dataQual == 0], linewidth=1, alpha=0.5,\n",
    "             label=f\"{segment} Un-Flagged Pixel\")\n",
    "    plt.scatter(wvln[dataQual != 0], flux[dataQual != 0], s=2, c='r', alpha=1,\n",
    "                label=f\"{segment} Flagged Pixel\")\n",
    "plt.legend(fontsize=18)\n",
    "plt.title(\n",
    "    \"Ex 3.1 Solution\\nRemoving only out-of-bounds pixels from the NUV\\n\", size=30)\n",
    "plt.xlabel('Wavelength [$\\AA$]', size=20)\n",
    "plt.ylabel('Flux [$erg\\ s^{-1}\\ cm^{-2}\\ Angstrom^{-1}$]', size=15)\n",
    "plt.tight_layout()"
   ]
  },
  {
   "cell_type": "code",
   "execution_count": null,
   "metadata": {},
   "outputs": [],
   "source": [
    "# Ex. 3.2 Soln\n",
    "\n",
    "# This whole process can be accomplished in one line, provided we use Fig 2.6 to find a line free region.\n",
    "# We use the estimate_snr function to bin by the NUV resel size of 3, then mean calculate SNR over the region.\n",
    "\n",
    "meanSNR_nuv_range, nuv_range = estimate_snr(\n",
    "    nuv_x1d_data, bin_data_first=True, binsize_=3, snr_range=[3400, 3450])\n",
    "\n",
    "# Let's plot it as in Fig 3.5\n",
    "\n",
    "plt.figure(figsize=(12, 8))\n",
    "plt.plot(nuv_range[1][0], nuv_range[1][1], label=\"SNR Binned by Resel\")\n",
    "plt.axhline(meanSNR_nuv_range, c='r', linestyle='-.',\n",
    "            linewidth=4, label=\"Mean SNR over the Region\")\n",
    "plt.legend(fontsize=20)\n",
    "plt.title(\"Ex. 3.2 Solution\\nResults of SNR Calculation\", size=30)\n",
    "plt.xlabel('Wavelength [$\\AA$]', size=20)\n",
    "plt.ylabel('SNR', size=20)\n",
    "plt.tight_layout()"
   ]
  }
 ],
 "metadata": {
  "kernelspec": {
   "display_name": "Python 3",
   "language": "python",
   "name": "python3"
  },
  "language_info": {
   "codemirror_mode": {
    "name": "ipython",
    "version": 3
   },
   "file_extension": ".py",
   "mimetype": "text/x-python",
   "name": "python",
   "nbconvert_exporter": "python",
   "pygments_lexer": "ipython3",
   "version": "3.9.5"
  }
 },
 "nbformat": 4,
 "nbformat_minor": 4
}
