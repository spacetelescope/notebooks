{
 "cells": [
  {
   "cell_type": "markdown",
   "metadata": {},
   "source": [
    "# Tour of the TESS Planet Search Products\n",
    "<a id=\"title_ID\"></a>\n",
    "TESS does a search of the postage-stamp, 2-min cadence data. For every signal it identifies with its Transit Planet Search (TPS) module, it creates something called a Threshold crossing event (TCE).  TCEs are periodic signals with a period and epoch. Some are consistent with transiting planets, others are eclipsing binaries, and others are more consistent with variable stars or noise in the data. \n",
    "\n",
    "The Data Validation module of the pipeline produces a set of products that can help validate the quality of a TCE. The DV products include a time series file of the flattened light curve that was searched, a DV report and summary that shows a few plots and relevant statistics, and an xml file that contains the results of the planet transit fit.\n",
    "\n",
    "This notebook will show you the contents of the data validation time series files and show how it can be used to obtain a quick look at the TCE.\n",
    "\n",
    "At the end we also introduce the exo.mast API that allows a user to retrieve a bokeh plot of any tce.\n",
    "\n"
   ]
  },
  {
   "cell_type": "markdown",
   "metadata": {},
   "source": [
    "## Import Statements for this notebook"
   ]
  },
  {
   "cell_type": "code",
   "execution_count": null,
   "metadata": {},
   "outputs": [],
   "source": [
    "from astropy.io import fits\n",
    "import matplotlib.pyplot as plt\n",
    "\n",
    "%matplotlib inline"
   ]
  },
  {
   "cell_type": "markdown",
   "metadata": {},
   "source": [
    "## Get DV Time Series File\n",
    "Get the DV Time Series File for TIC 100100827, which happens to be the same star as WASP-18."
   ]
  },
  {
   "cell_type": "code",
   "execution_count": null,
   "metadata": {},
   "outputs": [],
   "source": [
    "#NEEDS UPDATING BASED ON WEB LOCATION OR ASTROQUERY\n",
    "dvtfilename=\"/Users/smullally/TESS/TCEs/Sector2/dvt/tess2018235142541-s0002-s0002-0000000100100827-00109_dvt.fits\""
   ]
  },
  {
   "cell_type": "markdown",
   "metadata": {},
   "source": [
    "## Content of the DV Time Series File\n",
    "The DV Time series file is FITS file with a primary extension and one extension per TCE found in the lightcurve of the specified TIC ID.  The final extension provides some statistics about the search.\n",
    "\n",
    "A Simple info call after reading in the file will reveal this structure.  Since there are to TCE extensions, that means two possible exoplanets were found by the SPOC pipeline on this star."
   ]
  },
  {
   "cell_type": "code",
   "execution_count": null,
   "metadata": {},
   "outputs": [],
   "source": [
    "dvt=fits.open(dvtfilename)\n",
    "dvt.info()"
   ]
  },
  {
   "cell_type": "markdown",
   "metadata": {},
   "source": [
    "### Primary Header\n",
    "The Primary header contains information about the star from the TIC. We will store the effective temperature and gravity into a variable for later use."
   ]
  },
  {
   "cell_type": "code",
   "execution_count": null,
   "metadata": {},
   "outputs": [],
   "source": [
    "star_teff=dvt[0].header['TEFF']\n",
    "star_logg=dvt[0].header['LOGG']\n",
    "star_tmap=dvt[0].header['TMAG']\n",
    "dvt[0].header"
   ]
  },
  {
   "cell_type": "markdown",
   "metadata": {},
   "source": [
    "### TCE EXTENSION\n",
    "TCE extension contains information about the signal that was found in the light curve. It provides the light curve that was used to find the signal (unwhitened, LC_INIT and whitened, LC_WHITE).  The resulting model is given as MODEL_INIT.  The parameters of that transit model can be found in the header of the file, including the period, epoch, duration and depth of the transit.  Here we list the column names and put some of the important information in useful variables for later use."
   ]
  },
  {
   "cell_type": "code",
   "execution_count": null,
   "metadata": {},
   "outputs": [],
   "source": [
    "dvt[1].columns"
   ]
  },
  {
   "cell_type": "code",
   "execution_count": null,
   "metadata": {},
   "outputs": [],
   "source": [
    "phase=dvt[1].data['PHASE']\n",
    "flux=hdu[1].data['LC_INIT']\n",
    "model=hdu[1].data['MODEL_INIT']\n",
    "time=hdu[1].data['TIME']\n",
    "\n",
    "period=dvt[1].header['TPERIOD']\n",
    "dur=dvt[1].header['TDUR']\n",
    "epoch=dvt[1].header['TEPOCH']\n",
    "depth=dvt[1].header['TDEPTH']\n",
    "dur_days=dur/24"
   ]
  },
  {
   "cell_type": "markdown",
   "metadata": {},
   "source": [
    "### Plot the folded light cure and model\n",
    "Notice that the phase column already has taken the times and phased them according to the period and epoch in the header."
   ]
  },
  {
   "cell_type": "code",
   "execution_count": null,
   "metadata": {},
   "outputs": [],
   "source": [
    "plt.figure(figsize=(13,5))\n",
    "plt.plot(time,flux,'.')\n",
    "plt.plot(time,model,'r-')\n",
    "plt.title('Full Lightcurve and transit model.')\n",
    "\n",
    "plt.figure(figsize=(13,5))\n",
    "plt.plot(phase,flux,'.')\n",
    "plt.plot(phase,model,'r.')\n",
    "plt.title('Folded lightcurve and transit model.')"
   ]
  },
  {
   "cell_type": "markdown",
   "metadata": {},
   "source": [
    "### Statistics Extension\n",
    "The Statistics extension holds the SES correlation time series and the SES normalization time series for each of the pipeline's search durations. For more information see the papers linked at the end of this tutorial. These are used to calculate the CDPP time series."
   ]
  },
  {
   "cell_type": "code",
   "execution_count": null,
   "metadata": {},
   "outputs": [],
   "source": [
    "dvt[3].columns"
   ]
  },
  {
   "cell_type": "markdown",
   "metadata": {},
   "source": [
    "<a id=\"about_ID\"></a>\n",
    "## About this Notebook\n",
    "**Author:** Susan E. Mullally, STScI Archive Scientist\n",
    "<br>**Updated On:** 2018-11-15"
   ]
  },
  {
   "cell_type": "markdown",
   "metadata": {},
   "source": [
    "[Top of Page](#title_ID)\n",
    "<img style=\"float: right;\" src=\"./stsci_pri_combo_mark_horizonal_white_bkgd.png\" alt=\"stsci_pri_combo_mark_horizonal_white_bkgd\" width=\"200px\"/> "
   ]
  }
 ],
 "metadata": {
  "kernelspec": {
   "display_name": "Python 3",
   "language": "python",
   "name": "python3"
  },
  "language_info": {
   "codemirror_mode": {
    "name": "ipython",
    "version": 3
   },
   "file_extension": ".py",
   "mimetype": "text/x-python",
   "name": "python",
   "nbconvert_exporter": "python",
   "pygments_lexer": "ipython3",
   "version": "3.6.6"
  }
 },
 "nbformat": 4,
 "nbformat_minor": 2
}
