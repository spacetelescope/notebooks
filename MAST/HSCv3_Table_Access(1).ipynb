{
 "cells": [
  {
   "cell_type": "markdown",
   "metadata": {},
   "source": [
    "# Hubble Source Catalog v3: Table Access Protocol Service\n",
    "\n",
    "Table Access Protocol Services allow more direct and flexible access to astronomical data than the simpler types of IVOA standard data services. Queries are built with a SQL-like language ADQL (Astronomical Data Query Language), and can include geographic / spatial queries as well as filtering on other characteristics of the data. This also allows the user fine-grained control over the returned columns, unlike the fixed set from cone, image, and spectral services.\n",
    "\n",
    "For this example, we'll be using the astroquery TAP/TAP+ client, which was developed by ESA for working with the GAIA catalog, but is interoperable with any valid TAP service. As an astroquery project, TAP+ documentation is available at ReadTheDocs: http://astroquery.readthedocs.io/en/latest/utils/tap.html\n",
    "\n",
    "\n",
    "We'll be using TAP+ to call the Hubble Source Catalog v3 TAP service at MAST. The schema is described within the service, and we'll show how to inspect it. The schema is also the same as the one used in the CasJobs interface, with an additional view for the most common positional queries. CasJobs has its own copy of the schema documentation, which can be accessed through its own site: http://mastweb.stsci.edu/hcasjobs/"
   ]
  },
  {
   "cell_type": "code",
   "execution_count": 1,
   "metadata": {},
   "outputs": [
    {
     "data": {
      "text/html": [
       "<style>.container { width:100% !important; }</style>"
      ],
      "text/plain": [
       "<IPython.core.display.HTML object>"
      ]
     },
     "metadata": {},
     "output_type": "display_data"
    }
   ],
   "source": [
    "%matplotlib inline\n",
    "import requests, io, astropy, numpy, pylab, time\n",
    "\n",
    "## For handling ordinary astropy Tables\n",
    "from astropy.table import Table, vstack\n",
    "\n",
    "## For reading FITS files\n",
    "import astropy.io.fits as apfits\n",
    "\n",
    "## There are a number of relatively unimportant warnings that \n",
    "## show up, so for now, suppress them:\n",
    "import warnings\n",
    "warnings.filterwarnings(\"ignore\")\n",
    "\n",
    "# Use the astroquery TapPlus library.\n",
    "from astroquery.utils.tap.core import TapPlus\n",
    "\n",
    "# Set page width to fill browser for longer output lines\n",
    "from IPython.core.display import display, HTML\n",
    "display(HTML(\"<style>.container { width:100% !important; }</style>\"))\n",
    "# set width for pprint\n",
    "astropy.conf.max_width = 150"
   ]
  },
  {
   "cell_type": "markdown",
   "metadata": {},
   "source": [
    "To use TAP+ one opens a connection to the service URL. Then, if one does not already know the database table information associated with the service, one can ask the service for it.\n",
    "\n",
    "From here, one can build and run the main query, either synchronously or asynchronously. Because the HSC is a large catalog and we'll be doing positional queries that can take a while, we'll be defaulting to asynchronous calls.\n",
    "\n",
    "This first call is to find out more about the main positional search view, including what columns are available:"
   ]
  },
  {
   "cell_type": "code",
   "execution_count": 2,
   "metadata": {},
   "outputs": [
    {
     "name": "stdout",
     "output_type": "stream",
     "text": [
      "Created TAP+ (v1.0.1) - Connection:\n",
      "\tHost: vao.stsci.edu\n",
      "\tUse HTTPS: False\n",
      "\tPort: 80\n",
      "\tSSL Port: 443\n",
      "Retrieving tables...\n",
      "Parsing tables...\n",
      "Done.\n",
      "\n",
      "\n",
      "TAP Table name: dbo.dbo.SumMagAper2CatView\n",
      "Description: This table provides Source Extractor magaper2 information for each match based on sources with valid Source Extractor aper2 magnitudes. The companion table SumMagAper2CatViewView  contains other summary information for the corresponding match\n",
      "Num. columns: 818\n",
      "\n",
      "\n",
      "MatchID\n",
      "MatchRA\n",
      "MatchDec\n",
      "DSigma\n",
      "AbsCorr\n",
      "NumFilters\n",
      "NumVisits\n",
      "NumImages\n",
      "StartTime\n",
      "StopTime\n",
      "StartMJD\n",
      "StopMJD\n",
      "TargetName\n",
      "CI\n",
      "CI_Sigma\n",
      "KronRadius\n",
      "KronRadius_Sigma\n",
      "Extinction\n",
      "SpectrumFlag\n",
      "MatchID\n",
      "W3_BLANK\n",
      "W3_BLANK_MAD\n",
      "W3_BLANK_N\n",
      "W2_F122M\n",
      "W2_F122M_MAD\n",
      "W2_F122M_N\n",
      "W2_F160BN15\n",
      "W2_F160BN15_MAD\n",
      "W2_F160BN15_N\n",
      "W2_F160BW\n",
      "...\n",
      "W3_F160W\n",
      "W3_F160W_MAD\n",
      "W3_F160W_N\n",
      "W3_F164N\n",
      "W3_F164N_MAD\n",
      "W3_F164N_N\n",
      "W3_F167N\n",
      "W3_F167N_MAD\n",
      "W3_F167N_N\n"
     ]
    }
   ],
   "source": [
    "HSC_service = TapPlus(url=\"http://vao.stsci.edu/HSCv3TAP/tapservice.aspx\")\n",
    "HSC_tables = HSC_service.load_tables()\n",
    "print('\\n')\n",
    "for table in HSC_tables:\n",
    "    if( table.get_name() == 'dbo.SumMagAper2CatView'):\n",
    "        print(table)\n",
    "        print('\\n')\n",
    "        columns = table.get_columns()\n",
    "        for i, column in enumerate(columns):\n",
    "            if i < 30 or i > len(columns)-10:\n",
    "                print(column.get_name())\n",
    "            elif i == 30:\n",
    "                print(\"...\")"
   ]
  },
  {
   "cell_type": "markdown",
   "metadata": {},
   "source": [
    "As shown above, this view contains every filter known in the HSC, and can return each even if it is NULL for the given match. In order to narrow results, one could query on individual filters where their value is not null, or only return certain of them. But we can just query all of them:"
   ]
  },
  {
   "cell_type": "code",
   "execution_count": 3,
   "metadata": {},
   "outputs": [
    {
     "name": "stdout",
     "output_type": "stream",
     "text": [
      "Launched query: '\n",
      "SELECT TOP 10 *\n",
      "FROM dbo.SumMagAper2CatView\n",
      "WHERE CONTAINS(POINT('ICRS', MatchRA, MatchDec),CIRCLE('ICRS',129.23,7.95,0.1))=1\n",
      "  '\n",
      "Retrieving async. results...\n",
      "Query finished.\n",
      " MatchID       MatchRA            MatchDec      DSigma AbsCorr NumFilters ... W3_F164N W3_F164N_MAD W3_F164N_N W3_F167N W3_F167N_MAD W3_F167N_N\n",
      "--------- ------------------ ------------------ ------ ------- ---------- ... -------- ------------ ---------- -------- ------------ ----------\n",
      " 84029268 129.21722965780199 7.9454347042557503    0.0       Y          1 ...       --           --          0       --           --          0\n",
      "  8557241 129.21773771456199 7.9541410296550801    0.0       Y          1 ...       --           --          0       --           --          0\n",
      " 62274688   129.264743296842   7.99903230660889    0.0       Y          2 ...       --           --          0       --           --          0\n",
      " 24193845 129.24708533424001 8.0420079309882695    0.0       Y          2 ...       --           --          0       --           --          0\n",
      "106010328 129.25362780452099   8.04016747741173    0.0       Y          2 ...       --           --          0       --           --          0\n",
      "  8129657 129.23177614569099 7.9983386921067998    0.0       Y          1 ...       --           --          0       --           --          0\n",
      " 27472695 129.24388603270299 8.0335036527431392    0.0       Y          2 ...       --           --          0       --           --          0\n",
      " 41574008   129.242971696111 7.9467638900523596    0.0       Y          1 ...       --           --          0       --           --          0\n",
      " 75134847   129.256624878038 8.0397902696327304    0.0       Y          2 ...       --           --          0       --           --          0\n",
      "  4019831 129.24738413274599 8.0023846100786393    0.0       Y          2 ...       --           --          0       --           --          0\n"
     ]
    }
   ],
   "source": [
    "job = HSC_service.launch_job_async(\"\"\"\n",
    "SELECT TOP 10 *\n",
    "FROM dbo.SumMagAper2CatView\n",
    "WHERE CONTAINS(POINT('ICRS', MatchRA, MatchDec),CIRCLE('ICRS',129.23,7.95,0.1))=1\n",
    "  \"\"\")\n",
    "HSC_results = job.get_results()\n",
    "HSC_results.pprint()"
   ]
  },
  {
   "cell_type": "markdown",
   "metadata": {},
   "source": [
    "We can also filter by start/stop time or any other column in the view."
   ]
  },
  {
   "cell_type": "code",
   "execution_count": 4,
   "metadata": {},
   "outputs": [
    {
     "name": "stdout",
     "output_type": "stream",
     "text": [
      "Launched query: '\n",
      "SELECT TOP 10 MatchID, MatchRA, MatchDec, TargetName, StartTime, StopTime, TargetName \n",
      "FROM dbo.SumMagAper2CatView\n",
      "WHERE \n",
      "   StartTime > '2015-01-01' AND StopTime < '2015-04-01'\n",
      "   AND\n",
      "   CONTAINS(POINT('ICRS', MatchRA, MatchDec),CIRCLE('ICRS',129.23,7.95,0.1))=1\n",
      "  '\n",
      "Retrieving async. results...\n",
      "Query finished.\n",
      " MatchID       MatchRA            MatchDec        TargetName        StartTime             StopTime        TargetName1  \n",
      "--------- ------------------ ------------------ -------------- -------------------- -------------------- --------------\n",
      " 62274688   129.264743296842   7.99903230660889 SDSSJ0837+0801 3/15/2015 2:22:48 PM 3/15/2015 3:07:16 PM SDSSJ0837+0801\n",
      " 24193845 129.24708533424001 8.0420079309882695 SDSSJ0837+0801 3/15/2015 2:22:48 PM 3/15/2015 3:07:16 PM SDSSJ0837+0801\n",
      "106010328 129.25362780452099   8.04016747741173 SDSSJ0837+0801 3/15/2015 2:22:48 PM 3/15/2015 3:07:16 PM SDSSJ0837+0801\n",
      "  8129657 129.23177614569099 7.9983386921067998 SDSSJ0837+0801 3/15/2015 2:22:48 PM 3/15/2015 2:55:27 PM SDSSJ0837+0801\n",
      " 27472695 129.24388603270299 8.0335036527431392 SDSSJ0837+0801 3/15/2015 2:22:48 PM 3/15/2015 3:07:16 PM SDSSJ0837+0801\n",
      " 75134847   129.256624878038 8.0397902696327304 SDSSJ0837+0801 3/15/2015 2:22:48 PM 3/15/2015 3:07:16 PM SDSSJ0837+0801\n",
      "  4019831 129.24738413274599 8.0023846100786393 SDSSJ0837+0801 3/15/2015 2:22:48 PM 3/15/2015 3:07:16 PM SDSSJ0837+0801\n",
      " 50838953 129.22633098255099   7.99886526960338 SDSSJ0837+0801 3/15/2015 2:22:48 PM 3/15/2015 3:07:16 PM SDSSJ0837+0801\n",
      " 12147283   129.223860944162 8.0478269410832599 SDSSJ0837+0801 3/15/2015 2:22:48 PM 3/15/2015 3:07:16 PM SDSSJ0837+0801\n",
      " 36984017 129.24516778393999   7.99886726371329 SDSSJ0837+0801 3/15/2015 2:34:37 PM 3/15/2015 3:07:16 PM SDSSJ0837+0801\n"
     ]
    }
   ],
   "source": [
    "job = HSC_service.launch_job_async(\"\"\"\n",
    "SELECT TOP 10 MatchID, MatchRA, MatchDec, TargetName, StartTime, StopTime, TargetName \n",
    "FROM dbo.SumMagAper2CatView\n",
    "WHERE \n",
    "   StartTime > '2015-01-01' AND StopTime < '2015-04-01'\n",
    "   AND\n",
    "   CONTAINS(POINT('ICRS', MatchRA, MatchDec),CIRCLE('ICRS',129.23,7.95,0.1))=1\n",
    "  \"\"\")\n",
    "HSC_results = job.get_results()\n",
    "HSC_results.pprint()"
   ]
  },
  {
   "cell_type": "markdown",
   "metadata": {},
   "source": [
    "Search for objects with 10 or more ACS F475W magnitudes in a crowded field near IC 1613 (see <a href=\"http://archive.stsci.edu/hst/hsc/help/use_case_3_v2.html\">HSC Use Case 3</a>)."
   ]
  },
  {
   "cell_type": "code",
   "execution_count": 8,
   "metadata": {},
   "outputs": [
    {
     "name": "stdout",
     "output_type": "stream",
     "text": [
      "Launched query: '\n",
      "SELECT MatchID, MatchRA, MatchDec, TargetName, NumImages, NumVisits, A_F475W, A_F475W_MAD, A_F475W_N\n",
      "FROM dbo.SumMagAper2CatView\n",
      "WHERE \n",
      "   A_F475W_N >= 10\n",
      "   AND\n",
      "   CONTAINS(POINT('ICRS', MatchRA, MatchDec),CIRCLE('ICRS',16.117562,2.162183,0.1))=1\n",
      "   '\n",
      "Retrieving async. results...\n",
      "Query finished.\n",
      " MatchID       MatchRA            MatchDec      TargetName NumImages NumVisits      A_F475W            A_F475W_MAD      A_F475W_N\n",
      "--------- ------------------ ------------------ ---------- --------- --------- ------------------ --------------------- ---------\n",
      " 67146908   16.1422771890878 2.1420784915598299     IC1613        24        12 26.423399925231902  0.054149627685546903        12\n",
      " 99811092 16.107918556252599 2.1694554368396601     IC1613        24        12 25.946100234985401  0.047300338745117201        12\n",
      " 52491490 16.116124279570201 2.1322251186817498     IC1613        24        12 25.178300857543899  0.020150184631347701        12\n",
      " 81248338 16.127526064971999   2.19356486482905     IC1613        13        12 26.547850608825701  0.070300102233886705        12\n",
      "  6543297 16.123266609063201   2.15888161537872     IC1613        23        12 26.150300025939899  0.015050888061523399        12\n",
      "105670635   16.1396855011428 2.1384789693623198     IC1613        23        13 26.687600135803201  0.038399696350097698        10\n",
      " 56558451   16.1391584963886 2.1591702818248901     IC1613        24        12 25.422150611877399     0.016850471496582        12\n",
      " 24178937   16.1307994458769 2.1493155793692398     IC1613        26        14 25.927949905395501  0.031999588012695299        12\n",
      " 87934025 16.114124770926601   2.18078609669463     IC1613        12        11   26.8141994476318  0.057500839233398403        11\n",
      " 26986605 16.093450469492101 2.1671368100782602     IC1613        26        14 25.273849487304702  0.048299789428710903        12\n",
      "      ...                ...                ...        ...       ...       ...                ...                   ...       ...\n",
      " 97472109   16.0903413468731 2.1657608180481702     IC1613        24        12 25.636300086975101  0.034850120544433601        12\n",
      " 95441339   16.0848036487555 2.1764572614611599     IC1613        24        12 25.359550476074201  0.025250434875488299        12\n",
      "104776964 16.120183438536401 2.1760137579649901     IC1613        25        13   25.9468994140625    0.0206499099731445        12\n",
      "103587515   16.1209281208702   2.16571606898817     IC1613        26        14 25.334449768066399 0.0095500946044921892        12\n",
      "105927249 16.116272566099401 2.1690422442646602     IC1613        24        12 26.009099960327099  0.049300193786621101        12\n",
      "101951260 16.106776913065499 2.1673954275545402     IC1613        26        14 25.289050102233901  0.022500038146972701        12\n",
      "101321812 16.140998179855501   2.15716936848249     IC1613        26        14 25.371250152587901  0.015949249267578101        12\n",
      "105960207    16.141809210782 2.1572517913957698     IC1613        24        12 25.980549812316902  0.041350364685058601        12\n",
      "102559665   16.1427462200832   2.15692619555068     IC1613        26        14 22.322250366210898 0.0025997161865234401        12\n",
      "102069224 16.145500457129199 2.1575988273875399     IC1613        26        14 24.300099372863802  0.011000633239746101        12\n",
      "105779289 16.142308726409201 2.1641845548988101     IC1613        17        10 26.709650039672901  0.019399642944335899        10\n",
      "Length = 21720 rows\n"
     ]
    },
    {
     "data": {
      "text/plain": [
       "<matplotlib.text.Text at 0x9f61ef0>"
      ]
     },
     "execution_count": 8,
     "metadata": {},
     "output_type": "execute_result"
    },
    {
     "data": {
      "image/png": "[encoded data removed]",
      "text/plain": [
       "<matplotlib.figure.Figure at 0x9ebc780>"
      ]
     },
     "metadata": {},
     "output_type": "display_data"
    }
   ],
   "source": [
    "job = HSC_service.launch_job_async(\"\"\"\n",
    "SELECT MatchID, MatchRA, MatchDec, TargetName, NumImages, NumVisits, A_F475W, A_F475W_MAD, A_F475W_N\n",
    "FROM dbo.SumMagAper2CatView\n",
    "WHERE \n",
    "   A_F475W_N >= 10\n",
    "   AND\n",
    "   CONTAINS(POINT('ICRS', MatchRA, MatchDec),CIRCLE('ICRS',16.117562,2.162183,0.1))=1\n",
    "   \"\"\")\n",
    "HSC_results = job.get_results()\n",
    "HSC_results.pprint()\n",
    "\n",
    "pylab.rcParams.update({'font.size': 16})\n",
    "pylab.figure(1,(10,6))\n",
    "pylab.scatter(HSC_results['A_F475W'], HSC_results['A_F475W_MAD'])\n",
    "pylab.xlabel('A_F475W')\n",
    "pylab.ylabel('A_F475W_MAD')"
   ]
  },
  {
   "cell_type": "markdown",
   "metadata": {},
   "source": [
    "Get the individual A_F475W measurements for the most variable object in the list and plot the light curve."
   ]
  },
  {
   "cell_type": "code",
   "execution_count": 6,
   "metadata": {},
   "outputs": [
    {
     "name": "stdout",
     "output_type": "stream",
     "text": [
      " MatchID       MatchRA            MatchDec      TargetName NumImages NumVisits      A_F475W           A_F475W_MAD     A_F475W_N\n",
      "--------- ------------------ ------------------ ---------- --------- --------- ------------------ ------------------- ---------\n",
      "102334412 16.130003898898298 2.1655152822114401     IC1613        26        14 20.970849990844702 0.58440017700195301        12\n",
      "Launched query: '\n",
      "SELECT SourceID, ImageID, SourceRA, SourceDec, D, Filter, Detector, MagAper2, StartMJD\n",
      "FROM dbo.DetailedCatalog\n",
      "WHERE \n",
      "   MatchID=102334412\n",
      "   AND Detector='ACS/WFC' AND Filter='F475W' AND Det='Y'\n",
      "ORDER BY StartMJD\n",
      "'\n",
      "Retrieving async. results...\n",
      "Query finished.\n",
      "   SourceID   ImageID      SourceRA          SourceDec               D          Filter Detector      MagAper2           StartMJD     \n",
      "------------- ------- ------------------ ------------------ ------------------- ------ -------- ------------------ ------------------\n",
      "4000999067867   69735   16.1300039661166 2.1655155723933301    1.07227688090122  F475W  ACS/WFC   19.9615993499756 53965.291528710601\n",
      "4000992893712   69741 16.130003612720198   2.16551523553197  1.0431304534846599  F475W  ACS/WFC 20.878599166870099 53965.424734976601\n",
      "4001095122734   69748 16.130003839129898 2.1655154393428302 0.60515850795611004  F475W  ACS/WFC   19.9598999023438 53965.557940949198\n",
      "4000922686342   69755 16.130003561874499 2.1655159666278001  2.7460441439485201  F475W  ACS/WFC   21.2707004547119   53965.6911468334\n",
      "4001042281756   69761 16.130003073482602 2.1655158007003501  3.5073111873986398  F475W  ACS/WFC   21.0631008148193 53966.290568310302\n",
      "4001225227142   69768 16.130004232199202   2.16551537944239       1.24907394603  F475W  ACS/WFC 19.984399795532202 53966.423774240502\n",
      "4000895766581   69775 16.130004168408799   2.16551543014933    1.10618922031453  F475W  ACS/WFC   19.9517002105713   53966.5569784213\n",
      "4000814323389   69782 16.130003714956899   2.16551565167567  1.4855834634788001  F475W  ACS/WFC 21.534999847412099 53966.690186127104\n",
      "4000830935487   69789 16.130003786949601 2.1655155912545099     1.1832027490893  F475W  ACS/WFC   21.5755004882813 53967.223010210801\n",
      "4000859176842   69796   16.1300036619762 2.1655153627160799 0.90023744538690798  F475W  ACS/WFC 19.973199844360401 53967.356216476801\n",
      "4001162875868   69803 16.130003626545101 2.1655154051696099  1.0751238328307999  F475W  ACS/WFC 21.369600296020501 53967.489422407503\n",
      "4000926598642   69810 16.130003272475101 2.1655151668869301  2.2914377047506198  F475W  ACS/WFC   21.1527996063232 53967.622628333498\n"
     ]
    },
    {
     "data": {
      "text/plain": [
       "<matplotlib.text.Text at 0x9e0b780>"
      ]
     },
     "execution_count": 6,
     "metadata": {},
     "output_type": "execute_result"
    },
    {
     "data": {
      "image/png": "[encoded data removed]",
      "text/plain": [
       "<matplotlib.figure.Figure at 0x9aa51d0>"
      ]
     },
     "metadata": {},
     "output_type": "display_data"
    }
   ],
   "source": [
    "madvalues = HSC_results['A_F475W_MAD']\n",
    "i = numpy.argmax(madvalues)\n",
    "print(HSC_results[i])\n",
    "\n",
    "matchid = HSC_results['MatchID'][i]\n",
    "job = HSC_service.launch_job_async(\"\"\"\n",
    "SELECT SourceID, ImageID, SourceRA, SourceDec, D, Filter, Detector, MagAper2, StartMJD\n",
    "FROM dbo.DetailedCatalog\n",
    "WHERE \n",
    "   MatchID={}\n",
    "   AND Detector='ACS/WFC' AND Filter='F475W' AND Det='Y'\n",
    "ORDER BY StartMJD\n",
    "\"\"\".format(matchid))\n",
    "HSC_details = job.get_results()\n",
    "# HSC_details.sort('StartMJD')\n",
    "HSC_details.pprint()\n",
    "\n",
    "pylab.rcParams.update({'font.size': 16})\n",
    "pylab.figure(1,(10,6))\n",
    "pylab.scatter(HSC_details['StartMJD'], HSC_details['MagAper2'])\n",
    "pylab.xlabel('MJD')\n",
    "pylab.ylabel('A_F475W')"
   ]
  },
  {
   "cell_type": "markdown",
   "metadata": {},
   "source": [
    "## Create a color-magnitude diagram for the Small Magellanic Cloud\n",
    "Do a search around the SMC with a 2 degree radius for objects with ACS F555W and F814W measurements.  Note this is a large query that takes about 2 minutes to run. See <a href=\"http://archive.stsci.edu/hst/hsc/help/use_case_2_v3.html\" target=\"_blank\">HSC Use Case 2</a> for more details."
   ]
  },
  {
   "cell_type": "code",
   "execution_count": 7,
   "metadata": {},
   "outputs": [
    {
     "name": "stdout",
     "output_type": "stream",
     "text": [
      "Launched query: '\n",
      "SELECT MatchID, MatchRA, MatchDec, CI, A_F555W, A_F814W\n",
      "FROM dbo.SumMagAper2CatView\n",
      "WHERE A_F555W_N > 0 and A_F814W_N > 0\n",
      "    AND CONTAINS(POINT('ICRS', MatchRA, MatchDec),CIRCLE('ICRS',13.1866,-72.8286,0.5))=1\n",
      "   '\n",
      "Retrieving async. results...\n"
     ]
    },
    {
     "name": "stderr",
     "output_type": "stream",
     "text": [
      "ERROR:root:An unexpected error occurred while tokenizing input\n",
      "The following traceback may be corrupted or invalid\n",
      "The error message is: ('EOF in multi-line string', (1, 3))\n",
      "\n"
     ]
    },
    {
     "ename": "ValueError",
     "evalue": "No table found",
     "output_type": "error",
     "traceback": [
      "\u001b[1;31m---------------------------------------------------------------------------\u001b[0m",
      "\u001b[1;31mValueError\u001b[0m                                Traceback (most recent call last)",
      "\u001b[1;32m<ipython-input-7-7491168e4244>\u001b[0m in \u001b[0;36m<module>\u001b[1;34m()\u001b[0m\n\u001b[0;32m      5\u001b[0m \u001b[0mWHERE\u001b[0m \u001b[0mA_F555W_N\u001b[0m \u001b[1;33m>\u001b[0m \u001b[1;36m0\u001b[0m \u001b[1;32mand\u001b[0m \u001b[0mA_F814W_N\u001b[0m \u001b[1;33m>\u001b[0m \u001b[1;36m0\u001b[0m\u001b[1;33m\u001b[0m\u001b[0m\n\u001b[0;32m      6\u001b[0m     \u001b[0mAND\u001b[0m \u001b[0mCONTAINS\u001b[0m\u001b[1;33m(\u001b[0m\u001b[0mPOINT\u001b[0m\u001b[1;33m(\u001b[0m\u001b[1;34m'ICRS'\u001b[0m\u001b[1;33m,\u001b[0m \u001b[0mMatchRA\u001b[0m\u001b[1;33m,\u001b[0m \u001b[0mMatchDec\u001b[0m\u001b[1;33m)\u001b[0m\u001b[1;33m,\u001b[0m\u001b[0mCIRCLE\u001b[0m\u001b[1;33m(\u001b[0m\u001b[1;34m'ICRS'\u001b[0m\u001b[1;33m,\u001b[0m\u001b[1;36m13.1866\u001b[0m\u001b[1;33m,\u001b[0m\u001b[1;33m-\u001b[0m\u001b[1;36m72.8286\u001b[0m\u001b[1;33m,\u001b[0m\u001b[1;36m0.5\u001b[0m\u001b[1;33m)\u001b[0m\u001b[1;33m)\u001b[0m\u001b[1;33m=\u001b[0m\u001b[1;36m1\u001b[0m\u001b[1;33m\u001b[0m\u001b[0m\n\u001b[1;32m----> 7\u001b[1;33m    \"\"\")\n\u001b[0m\u001b[0;32m      8\u001b[0m \u001b[0mHSC_results\u001b[0m \u001b[1;33m=\u001b[0m \u001b[0mjob\u001b[0m\u001b[1;33m.\u001b[0m\u001b[0mget_results\u001b[0m\u001b[1;33m(\u001b[0m\u001b[1;33m)\u001b[0m\u001b[1;33m\u001b[0m\u001b[0m\n\u001b[0;32m      9\u001b[0m \u001b[0mprint\u001b[0m\u001b[1;33m(\u001b[0m\u001b[1;34m\"Query completed in {:.1f} sec\"\u001b[0m\u001b[1;33m.\u001b[0m\u001b[0mformat\u001b[0m\u001b[1;33m(\u001b[0m\u001b[0mtime\u001b[0m\u001b[1;33m.\u001b[0m\u001b[0mtime\u001b[0m\u001b[1;33m(\u001b[0m\u001b[1;33m)\u001b[0m\u001b[1;33m-\u001b[0m\u001b[0mt0\u001b[0m\u001b[1;33m)\u001b[0m\u001b[1;33m)\u001b[0m\u001b[1;33m\u001b[0m\u001b[0m\n",
      "\u001b[1;32mC:\\Users\\dower\\AppData\\Local\\Continuum\\Anaconda3\\lib\\site-packages\\astroquery\\utils\\tap\\core.py\u001b[0m in \u001b[0;36mlaunch_job_async\u001b[1;34m(self, query, name, output_file, output_format, verbose, dump_to_file, background, upload_resource, upload_table_name)\u001b[0m\n\u001b[0;32m    316\u001b[0m                     \u001b[0mjob\u001b[0m\u001b[1;33m.\u001b[0m\u001b[0msave_results\u001b[0m\u001b[1;33m(\u001b[0m\u001b[0mverbose\u001b[0m\u001b[1;33m)\u001b[0m\u001b[1;33m\u001b[0m\u001b[0m\n\u001b[0;32m    317\u001b[0m                 \u001b[1;32melse\u001b[0m\u001b[1;33m:\u001b[0m\u001b[1;33m\u001b[0m\u001b[0m\n\u001b[1;32m--> 318\u001b[1;33m                     \u001b[0mjob\u001b[0m\u001b[1;33m.\u001b[0m\u001b[0mget_results\u001b[0m\u001b[1;33m(\u001b[0m\u001b[1;33m)\u001b[0m\u001b[1;33m\u001b[0m\u001b[0m\n\u001b[0m\u001b[0;32m    319\u001b[0m                     \u001b[0mprint\u001b[0m\u001b[1;33m(\u001b[0m\u001b[1;34m\"Query finished.\"\u001b[0m\u001b[1;33m)\u001b[0m\u001b[1;33m\u001b[0m\u001b[0m\n\u001b[0;32m    320\u001b[0m         \u001b[1;32mreturn\u001b[0m \u001b[0mjob\u001b[0m\u001b[1;33m\u001b[0m\u001b[0m\n",
      "\u001b[1;32mC:\\Users\\dower\\AppData\\Local\\Continuum\\Anaconda3\\lib\\site-packages\\astroquery\\utils\\tap\\model\\job.py\u001b[0m in \u001b[0;36mget_results\u001b[1;34m(self)\u001b[0m\n\u001b[0;32m    508\u001b[0m         \u001b[1;32melse\u001b[0m\u001b[1;33m:\u001b[0m\u001b[1;33m\u001b[0m\u001b[0m\n\u001b[0;32m    509\u001b[0m             \u001b[1;31m# async: result is in the server once the job is finished\u001b[0m\u001b[1;33m\u001b[0m\u001b[1;33m\u001b[0m\u001b[0m\n\u001b[1;32m--> 510\u001b[1;33m             \u001b[0mself\u001b[0m\u001b[1;33m.\u001b[0m\u001b[0m__load_async_job_results\u001b[0m\u001b[1;33m(\u001b[0m\u001b[1;33m)\u001b[0m\u001b[1;33m\u001b[0m\u001b[0m\n\u001b[0m\u001b[0;32m    511\u001b[0m             \u001b[1;32mreturn\u001b[0m \u001b[0mself\u001b[0m\u001b[1;33m.\u001b[0m\u001b[0m__results\u001b[0m\u001b[1;33m\u001b[0m\u001b[0m\n\u001b[0;32m    512\u001b[0m \u001b[1;33m\u001b[0m\u001b[0m\n",
      "\u001b[1;32mC:\\Users\\dower\\AppData\\Local\\Continuum\\Anaconda3\\lib\\site-packages\\astroquery\\utils\\tap\\model\\job.py\u001b[0m in \u001b[0;36m__load_async_job_results\u001b[1;34m(self, debug)\u001b[0m\n\u001b[0;32m    599\u001b[0m         \u001b[1;32melse\u001b[0m\u001b[1;33m:\u001b[0m\u001b[1;33m\u001b[0m\u001b[0m\n\u001b[0;32m    600\u001b[0m             \u001b[0moutputFormat\u001b[0m \u001b[1;33m=\u001b[0m \u001b[0mself\u001b[0m\u001b[1;33m.\u001b[0m\u001b[0mget_output_format\u001b[0m\u001b[1;33m(\u001b[0m\u001b[1;33m)\u001b[0m\u001b[1;33m\u001b[0m\u001b[0m\n\u001b[1;32m--> 601\u001b[1;33m             \u001b[0mresults\u001b[0m \u001b[1;33m=\u001b[0m \u001b[0mutils\u001b[0m\u001b[1;33m.\u001b[0m\u001b[0mread_http_response\u001b[0m\u001b[1;33m(\u001b[0m\u001b[0mresultsResponse\u001b[0m\u001b[1;33m,\u001b[0m \u001b[0moutputFormat\u001b[0m\u001b[1;33m)\u001b[0m\u001b[1;33m\u001b[0m\u001b[0m\n\u001b[0m\u001b[0;32m    602\u001b[0m             \u001b[0mself\u001b[0m\u001b[1;33m.\u001b[0m\u001b[0mset_results\u001b[0m\u001b[1;33m(\u001b[0m\u001b[0mresults\u001b[0m\u001b[1;33m)\u001b[0m\u001b[1;33m\u001b[0m\u001b[0m\n\u001b[0;32m    603\u001b[0m             \u001b[0mself\u001b[0m\u001b[1;33m.\u001b[0m\u001b[0m__phase\u001b[0m \u001b[1;33m=\u001b[0m \u001b[0mwjData\u001b[0m\u001b[1;33m\u001b[0m\u001b[0m\n",
      "\u001b[1;32mC:\\Users\\dower\\AppData\\Local\\Continuum\\Anaconda3\\lib\\site-packages\\astroquery\\utils\\tap\\xmlparser\\utils.py\u001b[0m in \u001b[0;36mread_http_response\u001b[1;34m(response, outputFormat)\u001b[0m\n\u001b[0;32m     39\u001b[0m         \u001b[1;31m# If we want to use astropy.table, we have to read the data\u001b[0m\u001b[1;33m\u001b[0m\u001b[1;33m\u001b[0m\u001b[0m\n\u001b[0;32m     40\u001b[0m         \u001b[0mdata\u001b[0m \u001b[1;33m=\u001b[0m \u001b[0mio\u001b[0m\u001b[1;33m.\u001b[0m\u001b[0mBytesIO\u001b[0m\u001b[1;33m(\u001b[0m\u001b[0mresponse\u001b[0m\u001b[1;33m.\u001b[0m\u001b[0mread\u001b[0m\u001b[1;33m(\u001b[0m\u001b[1;33m)\u001b[0m\u001b[1;33m)\u001b[0m\u001b[1;33m\u001b[0m\u001b[0m\n\u001b[1;32m---> 41\u001b[1;33m         \u001b[1;32mreturn\u001b[0m \u001b[0mAPTable\u001b[0m\u001b[1;33m.\u001b[0m\u001b[0mread\u001b[0m\u001b[1;33m(\u001b[0m\u001b[0mdata\u001b[0m\u001b[1;33m,\u001b[0m \u001b[0mformat\u001b[0m\u001b[1;33m=\u001b[0m\u001b[0mastropyFormat\u001b[0m\u001b[1;33m)\u001b[0m\u001b[1;33m\u001b[0m\u001b[0m\n\u001b[0m\u001b[0;32m     42\u001b[0m \u001b[1;33m\u001b[0m\u001b[0m\n\u001b[0;32m     43\u001b[0m \u001b[1;33m\u001b[0m\u001b[0m\n",
      "\u001b[1;32mC:\\Users\\dower\\AppData\\Local\\Continuum\\Anaconda3\\lib\\site-packages\\astropy\\table\\table.py\u001b[0m in \u001b[0;36mread\u001b[1;34m(cls, *args, **kwargs)\u001b[0m\n\u001b[0;32m   2448\u001b[0m         \u001b[0mpassed\u001b[0m \u001b[0mthrough\u001b[0m \u001b[0mto\u001b[0m \u001b[0mthe\u001b[0m \u001b[0munderlying\u001b[0m \u001b[0mdata\u001b[0m \u001b[0mreader\u001b[0m \u001b[1;33m(\u001b[0m\u001b[0me\u001b[0m\u001b[1;33m.\u001b[0m\u001b[0mg\u001b[0m\u001b[1;33m.\u001b[0m\u001b[0;31m \u001b[0m\u001b[0;31m`\u001b[0m\u001b[1;33m~\u001b[0m\u001b[0mastropy\u001b[0m\u001b[1;33m.\u001b[0m\u001b[0mio\u001b[0m\u001b[1;33m.\u001b[0m\u001b[0mascii\u001b[0m\u001b[1;33m.\u001b[0m\u001b[0mread\u001b[0m\u001b[0;31m`\u001b[0m\u001b[1;33m)\u001b[0m\u001b[1;33m.\u001b[0m\u001b[1;33m\u001b[0m\u001b[0m\n\u001b[0;32m   2449\u001b[0m         \"\"\"\n\u001b[1;32m-> 2450\u001b[1;33m         \u001b[1;32mreturn\u001b[0m \u001b[0mio_registry\u001b[0m\u001b[1;33m.\u001b[0m\u001b[0mread\u001b[0m\u001b[1;33m(\u001b[0m\u001b[0mcls\u001b[0m\u001b[1;33m,\u001b[0m \u001b[1;33m*\u001b[0m\u001b[0margs\u001b[0m\u001b[1;33m,\u001b[0m \u001b[1;33m**\u001b[0m\u001b[0mkwargs\u001b[0m\u001b[1;33m)\u001b[0m\u001b[1;33m\u001b[0m\u001b[0m\n\u001b[0m\u001b[0;32m   2451\u001b[0m \u001b[1;33m\u001b[0m\u001b[0m\n\u001b[0;32m   2452\u001b[0m     \u001b[1;32mdef\u001b[0m \u001b[0mwrite\u001b[0m\u001b[1;33m(\u001b[0m\u001b[0mself\u001b[0m\u001b[1;33m,\u001b[0m \u001b[1;33m*\u001b[0m\u001b[0margs\u001b[0m\u001b[1;33m,\u001b[0m \u001b[1;33m**\u001b[0m\u001b[0mkwargs\u001b[0m\u001b[1;33m)\u001b[0m\u001b[1;33m:\u001b[0m\u001b[1;33m\u001b[0m\u001b[0m\n",
      "\u001b[1;32mC:\\Users\\dower\\AppData\\Local\\Continuum\\Anaconda3\\lib\\site-packages\\astropy\\io\\registry.py\u001b[0m in \u001b[0;36mread\u001b[1;34m(cls, format, *args, **kwargs)\u001b[0m\n\u001b[0;32m    515\u001b[0m \u001b[1;33m\u001b[0m\u001b[0m\n\u001b[0;32m    516\u001b[0m         \u001b[0mreader\u001b[0m \u001b[1;33m=\u001b[0m \u001b[0mget_reader\u001b[0m\u001b[1;33m(\u001b[0m\u001b[0mformat\u001b[0m\u001b[1;33m,\u001b[0m \u001b[0mcls\u001b[0m\u001b[1;33m)\u001b[0m\u001b[1;33m\u001b[0m\u001b[0m\n\u001b[1;32m--> 517\u001b[1;33m         \u001b[0mdata\u001b[0m \u001b[1;33m=\u001b[0m \u001b[0mreader\u001b[0m\u001b[1;33m(\u001b[0m\u001b[1;33m*\u001b[0m\u001b[0margs\u001b[0m\u001b[1;33m,\u001b[0m \u001b[1;33m**\u001b[0m\u001b[0mkwargs\u001b[0m\u001b[1;33m)\u001b[0m\u001b[1;33m\u001b[0m\u001b[0m\n\u001b[0m\u001b[0;32m    518\u001b[0m \u001b[1;33m\u001b[0m\u001b[0m\n\u001b[0;32m    519\u001b[0m         \u001b[1;32mif\u001b[0m \u001b[1;32mnot\u001b[0m \u001b[0misinstance\u001b[0m\u001b[1;33m(\u001b[0m\u001b[0mdata\u001b[0m\u001b[1;33m,\u001b[0m \u001b[0mcls\u001b[0m\u001b[1;33m)\u001b[0m\u001b[1;33m:\u001b[0m\u001b[1;33m\u001b[0m\u001b[0m\n",
      "\u001b[1;32mC:\\Users\\dower\\AppData\\Local\\Continuum\\Anaconda3\\lib\\site-packages\\astropy\\io\\votable\\connect.py\u001b[0m in \u001b[0;36mread_table_votable\u001b[1;34m(input, table_id, use_names_over_ids)\u001b[0m\n\u001b[0;32m    106\u001b[0m             \u001b[0mtable\u001b[0m \u001b[1;33m=\u001b[0m \u001b[0mtables\u001b[0m\u001b[1;33m[\u001b[0m\u001b[1;36m0\u001b[0m\u001b[1;33m]\u001b[0m\u001b[1;33m\u001b[0m\u001b[0m\n\u001b[0;32m    107\u001b[0m         \u001b[1;32melse\u001b[0m\u001b[1;33m:\u001b[0m\u001b[1;33m\u001b[0m\u001b[0m\n\u001b[1;32m--> 108\u001b[1;33m             \u001b[1;32mraise\u001b[0m \u001b[0mValueError\u001b[0m\u001b[1;33m(\u001b[0m\u001b[1;34m\"No table found\"\u001b[0m\u001b[1;33m)\u001b[0m\u001b[1;33m\u001b[0m\u001b[0m\n\u001b[0m\u001b[0;32m    109\u001b[0m     \u001b[1;32melif\u001b[0m \u001b[0misinstance\u001b[0m\u001b[1;33m(\u001b[0m\u001b[0minput\u001b[0m\u001b[1;33m,\u001b[0m \u001b[0mVOTable\u001b[0m\u001b[1;33m)\u001b[0m\u001b[1;33m:\u001b[0m\u001b[1;33m\u001b[0m\u001b[0m\n\u001b[0;32m    110\u001b[0m         \u001b[0mtable\u001b[0m \u001b[1;33m=\u001b[0m \u001b[0minput\u001b[0m\u001b[1;33m\u001b[0m\u001b[0m\n",
      "\u001b[1;31mValueError\u001b[0m: No table found"
     ]
    }
   ],
   "source": [
    "t0 = time.time()\n",
    "job = HSC_service.launch_job_async(\"\"\"\n",
    "SELECT MatchID, MatchRA, MatchDec, CI, A_F555W, A_F814W\n",
    "FROM dbo.SumMagAper2CatView\n",
    "WHERE A_F555W_N > 0 and A_F814W_N > 0\n",
    "    AND CONTAINS(POINT('ICRS', MatchRA, MatchDec),CIRCLE('ICRS',13.1866,-72.8286,0.5))=1\n",
    "   \"\"\")\n",
    "HSC_results = job.get_results()\n",
    "print(\"Query completed in {:.1f} sec\".format(time.time()-t0))\n",
    "HSC_results.pprint()"
   ]
  },
  {
   "cell_type": "markdown",
   "metadata": {},
   "source": [
    "Plot the color-magnitude diagram for the ~100k points retrieved from the database.  This uses kernel density estimate for the crowded plot, which takes a minute or two to complete."
   ]
  },
  {
   "cell_type": "code",
   "execution_count": null,
   "metadata": {},
   "outputs": [],
   "source": [
    "f555w = HSC_results['A_F555W']\n",
    "f814w = HSC_results['A_F814W']\n",
    "VminusI = f555w-f814w\n",
    "CI = HSC_results['CI']\n",
    "w = numpy.where((CI>0.9) & (CI<1.6) & (VminusI > -1.5) & (VminusI < 1.5))\n",
    "print(len(w[0]),\"points remaining after CI and V-I filtering\")\n",
    "\n",
    "# Calculate the point density\n",
    "x = numpy.array(VminusI[w])\n",
    "y = numpy.array(f555w[w])\n",
    "xy = numpy.vstack([x,y])\n",
    "from scipy.stats import gaussian_kde\n",
    "t0 = time.time()\n",
    "z = gaussian_kde(xy)(xy)\n",
    "print(\"kde took {:.1f} sec\".format(time.time()-t0))\n",
    "\n",
    "# Sort the points by density, so that the densest points are plotted last\n",
    "idx = z.argsort()\n",
    "x, y, z = x[idx], y[idx], z[idx]\n",
    "\n",
    "pylab.rcParams.update({'font.size': 16})\n",
    "pylab.figure(1,(12,10))\n",
    "pylab.scatter(x, y, c=z, s=2, edgecolor='', cmap='plasma')\n",
    "pylab.autoscale(tight=True)\n",
    "pylab.xlabel('V-I')\n",
    "pylab.ylabel('V')\n",
    "pylab.gca().invert_yaxis()\n",
    "pylab.colorbar()\n",
    "pylab.text(.17,.93,'{:d} stars in SMC'.format(len(x)),\n",
    "       horizontalalignment='center',\n",
    "       transform=pylab.gca().transAxes)\n",
    "pylab.savefig(\"smc_colormag.png\")"
   ]
  },
  {
   "cell_type": "markdown",
   "metadata": {},
   "source": [
    "# Appendix: Documentation on the Standards\n",
    "\n",
    "### Table Access Protocol \n",
    "* IVOA standard for RESTful web service access to tabular data\n",
    "* http://www.ivoa.net/documents/TAP/\n",
    "\n",
    "### Hubble Source Catalog v3\n",
    "* Catalog created at MAST by combining the tens of thousands of visit-based source lists in the Hubble Legacy Archive (HLA) into a single master catalog. \n",
    "* https://archive.stsci.edu/hst/hsc/\n",
    "\n",
    "### Astronomical Query Data Language (2.0)\n",
    "* IVOA standard for querying astronomical data in tabular format, with geometric search support\n",
    "* http://www.ivoa.net/documents/latest/ADQL.html\n",
    "\n",
    "### TapPlus \n",
    "* Module created by ESAC Space Data Centre\n",
    "* http://astroquery.readthedocs.io/en/latest/utils/tap.html\n",
    "\n",
    "\n",
    " "
   ]
  }
 ],
 "metadata": {
  "kernelspec": {
   "display_name": "Python 3",
   "language": "python",
   "name": "python3"
  },
  "language_info": {
   "codemirror_mode": {
    "name": "ipython",
    "version": 3
   },
   "file_extension": ".py",
   "mimetype": "text/x-python",
   "name": "python",
   "nbconvert_exporter": "python",
   "pygments_lexer": "ipython3",
   "version": "3.6.1"
  }
 },
 "nbformat": 4,
 "nbformat_minor": 2
}
